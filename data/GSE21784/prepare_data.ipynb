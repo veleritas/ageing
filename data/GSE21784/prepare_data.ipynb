{
 "cells": [
  {
   "cell_type": "markdown",
   "metadata": {},
   "source": [
    "# Clean and prepare GSE21784 raw data\n",
    "\n",
    "Tong Shu Li\n",
    "\n",
    "We will reshape the expression value matrix to long form and add in relevant metadata about each sample. Conversion of probe ids to other ids is not done here due to complexities with probe mappings."
   ]
  },
  {
   "cell_type": "code",
   "execution_count": 1,
   "metadata": {
    "collapsed": true
   },
   "outputs": [],
   "source": [
    "import pandas as pd\n",
    "import sys"
   ]
  },
  {
   "cell_type": "code",
   "execution_count": 2,
   "metadata": {
    "collapsed": true
   },
   "outputs": [],
   "source": [
    "sys.path.append(\"../..\")"
   ]
  },
  {
   "cell_type": "code",
   "execution_count": 3,
   "metadata": {
    "collapsed": false
   },
   "outputs": [],
   "source": [
    "from src.geo import parse_series_matrix"
   ]
  },
  {
   "cell_type": "markdown",
   "metadata": {},
   "source": [
    "## Read series matrix\n",
    "\n",
    "The parser function checks that no values are missing."
   ]
  },
  {
   "cell_type": "code",
   "execution_count": 4,
   "metadata": {
    "collapsed": true
   },
   "outputs": [],
   "source": [
    "series, samples, exp = parse_series_matrix(\"GSE21784_series_matrix.txt\")"
   ]
  },
  {
   "cell_type": "code",
   "execution_count": 5,
   "metadata": {
    "collapsed": false
   },
   "outputs": [
    {
     "data": {
      "text/plain": [
       "(9, 37)"
      ]
     },
     "execution_count": 5,
     "metadata": {},
     "output_type": "execute_result"
    }
   ],
   "source": [
    "samples.shape"
   ]
  },
  {
   "cell_type": "code",
   "execution_count": 6,
   "metadata": {
    "collapsed": false
   },
   "outputs": [
    {
     "data": {
      "text/html": [
       "<div>\n",
       "<table border=\"1\" class=\"dataframe\">\n",
       "  <thead>\n",
       "    <tr style=\"text-align: right;\">\n",
       "      <th></th>\n",
       "      <th>title</th>\n",
       "      <th>geo_accession</th>\n",
       "      <th>status</th>\n",
       "      <th>submission_date</th>\n",
       "      <th>last_update_date</th>\n",
       "      <th>type</th>\n",
       "      <th>channel_count</th>\n",
       "      <th>source_name_ch1</th>\n",
       "      <th>organism_ch1</th>\n",
       "      <th>characteristics_ch1</th>\n",
       "      <th>...</th>\n",
       "      <th>contact_laboratory</th>\n",
       "      <th>contact_department</th>\n",
       "      <th>contact_institute</th>\n",
       "      <th>contact_address</th>\n",
       "      <th>contact_city</th>\n",
       "      <th>contact_state</th>\n",
       "      <th>contact_zip/postal_code</th>\n",
       "      <th>contact_country</th>\n",
       "      <th>supplementary_file</th>\n",
       "      <th>data_row_count</th>\n",
       "    </tr>\n",
       "  </thead>\n",
       "  <tbody>\n",
       "    <tr>\n",
       "      <th>0</th>\n",
       "      <td>L4 larvae, biological rep1</td>\n",
       "      <td>GSM542652</td>\n",
       "      <td>Public on May 11 2011</td>\n",
       "      <td>May 11 2010</td>\n",
       "      <td>May 11 2011</td>\n",
       "      <td>RNA</td>\n",
       "      <td>1</td>\n",
       "      <td>C. elegans L4 larvae</td>\n",
       "      <td>Caenorhabditis elegans</td>\n",
       "      <td>strain: Bristol N2</td>\n",
       "      <td>...</td>\n",
       "      <td>Dennis Kim</td>\n",
       "      <td>Biology</td>\n",
       "      <td>MIT</td>\n",
       "      <td>77 Massachusetts Ave. (68-440D)</td>\n",
       "      <td>Cambridge</td>\n",
       "      <td>MA</td>\n",
       "      <td>02139</td>\n",
       "      <td>USA</td>\n",
       "      <td>ftp://ftp.ncbi.nlm.nih.gov/pub/geo/DATA/supple...</td>\n",
       "      <td>22625</td>\n",
       "    </tr>\n",
       "    <tr>\n",
       "      <th>1</th>\n",
       "      <td>L4 larvae, biological rep2</td>\n",
       "      <td>GSM542653</td>\n",
       "      <td>Public on May 11 2011</td>\n",
       "      <td>May 11 2010</td>\n",
       "      <td>May 11 2011</td>\n",
       "      <td>RNA</td>\n",
       "      <td>1</td>\n",
       "      <td>C. elegans L4 larvae</td>\n",
       "      <td>Caenorhabditis elegans</td>\n",
       "      <td>strain: Bristol N2</td>\n",
       "      <td>...</td>\n",
       "      <td>Dennis Kim</td>\n",
       "      <td>Biology</td>\n",
       "      <td>MIT</td>\n",
       "      <td>77 Massachusetts Ave. (68-440D)</td>\n",
       "      <td>Cambridge</td>\n",
       "      <td>MA</td>\n",
       "      <td>02139</td>\n",
       "      <td>USA</td>\n",
       "      <td>ftp://ftp.ncbi.nlm.nih.gov/pub/geo/DATA/supple...</td>\n",
       "      <td>22625</td>\n",
       "    </tr>\n",
       "  </tbody>\n",
       "</table>\n",
       "<p>2 rows × 37 columns</p>\n",
       "</div>"
      ],
      "text/plain": [
       "                        title geo_accession                 status  \\\n",
       "0  L4 larvae, biological rep1     GSM542652  Public on May 11 2011   \n",
       "1  L4 larvae, biological rep2     GSM542653  Public on May 11 2011   \n",
       "\n",
       "  submission_date last_update_date type channel_count       source_name_ch1  \\\n",
       "0     May 11 2010      May 11 2011  RNA             1  C. elegans L4 larvae   \n",
       "1     May 11 2010      May 11 2011  RNA             1  C. elegans L4 larvae   \n",
       "\n",
       "             organism_ch1 characteristics_ch1      ...        \\\n",
       "0  Caenorhabditis elegans  strain: Bristol N2      ...         \n",
       "1  Caenorhabditis elegans  strain: Bristol N2      ...         \n",
       "\n",
       "  contact_laboratory contact_department contact_institute  \\\n",
       "0         Dennis Kim            Biology               MIT   \n",
       "1         Dennis Kim            Biology               MIT   \n",
       "\n",
       "                   contact_address contact_city contact_state  \\\n",
       "0  77 Massachusetts Ave. (68-440D)    Cambridge            MA   \n",
       "1  77 Massachusetts Ave. (68-440D)    Cambridge            MA   \n",
       "\n",
       "  contact_zip/postal_code contact_country  \\\n",
       "0                   02139             USA   \n",
       "1                   02139             USA   \n",
       "\n",
       "                                  supplementary_file data_row_count  \n",
       "0  ftp://ftp.ncbi.nlm.nih.gov/pub/geo/DATA/supple...          22625  \n",
       "1  ftp://ftp.ncbi.nlm.nih.gov/pub/geo/DATA/supple...          22625  \n",
       "\n",
       "[2 rows x 37 columns]"
      ]
     },
     "execution_count": 6,
     "metadata": {},
     "output_type": "execute_result"
    }
   ],
   "source": [
    "samples.head(2)"
   ]
  },
  {
   "cell_type": "code",
   "execution_count": 7,
   "metadata": {
    "collapsed": false
   },
   "outputs": [
    {
     "data": {
      "text/plain": [
       "(203625, 3)"
      ]
     },
     "execution_count": 7,
     "metadata": {},
     "output_type": "execute_result"
    }
   ],
   "source": [
    "exp.shape"
   ]
  },
  {
   "cell_type": "code",
   "execution_count": 8,
   "metadata": {
    "collapsed": false
   },
   "outputs": [
    {
     "data": {
      "text/html": [
       "<div>\n",
       "<table border=\"1\" class=\"dataframe\">\n",
       "  <thead>\n",
       "    <tr style=\"text-align: right;\">\n",
       "      <th></th>\n",
       "      <th>probe_id</th>\n",
       "      <th>geo_id</th>\n",
       "      <th>log2_exp</th>\n",
       "    </tr>\n",
       "  </thead>\n",
       "  <tbody>\n",
       "    <tr>\n",
       "      <th>0</th>\n",
       "      <td>171720_x_at</td>\n",
       "      <td>GSM542652</td>\n",
       "      <td>8.71</td>\n",
       "    </tr>\n",
       "    <tr>\n",
       "      <th>1</th>\n",
       "      <td>171721_x_at</td>\n",
       "      <td>GSM542652</td>\n",
       "      <td>9.91</td>\n",
       "    </tr>\n",
       "    <tr>\n",
       "      <th>2</th>\n",
       "      <td>171722_x_at</td>\n",
       "      <td>GSM542652</td>\n",
       "      <td>11.28</td>\n",
       "    </tr>\n",
       "    <tr>\n",
       "      <th>3</th>\n",
       "      <td>171723_x_at</td>\n",
       "      <td>GSM542652</td>\n",
       "      <td>12.97</td>\n",
       "    </tr>\n",
       "    <tr>\n",
       "      <th>4</th>\n",
       "      <td>171724_x_at</td>\n",
       "      <td>GSM542652</td>\n",
       "      <td>8.26</td>\n",
       "    </tr>\n",
       "  </tbody>\n",
       "</table>\n",
       "</div>"
      ],
      "text/plain": [
       "      probe_id     geo_id  log2_exp\n",
       "0  171720_x_at  GSM542652      8.71\n",
       "1  171721_x_at  GSM542652      9.91\n",
       "2  171722_x_at  GSM542652     11.28\n",
       "3  171723_x_at  GSM542652     12.97\n",
       "4  171724_x_at  GSM542652      8.26"
      ]
     },
     "execution_count": 8,
     "metadata": {},
     "output_type": "execute_result"
    }
   ],
   "source": [
    "exp.head()"
   ]
  },
  {
   "cell_type": "markdown",
   "metadata": {},
   "source": [
    "There were three biological replicates at three different ages: L4, day 6, and day 15. We will extract the day and replicate information out as metadata."
   ]
  },
  {
   "cell_type": "markdown",
   "metadata": {},
   "source": [
    "## Extract age and replicate number\n",
    "\n",
    "For simplicity I will treat L4 worms as day 0 adults so that we can do linear regression later. This is probably not correct, but is an assumption I will make for now."
   ]
  },
  {
   "cell_type": "code",
   "execution_count": 9,
   "metadata": {
    "collapsed": false
   },
   "outputs": [],
   "source": [
    "meta = (\n",
    "    samples[[\"title\", \"geo_accession\"]]\n",
    "        .assign(\n",
    "            age = lambda df: df[\"title\"].str.split(\",\").str.get(0),\n",
    "        \n",
    "            replicate = lambda df:\n",
    "                pd.to_numeric(df[\"title\"].str.extract(r'(\\d)$', expand = False)),\n",
    "            \n",
    "            days_old = lambda df:\n",
    "                pd.to_numeric(\n",
    "                    df[\"title\"].str.extract(r'(\\d+)', expand = False).replace(\"4\", \"0\")\n",
    "                )\n",
    "        )\n",
    "        .drop(\"title\", axis = 1)\n",
    ")"
   ]
  },
  {
   "cell_type": "code",
   "execution_count": 10,
   "metadata": {
    "collapsed": false
   },
   "outputs": [
    {
     "data": {
      "text/html": [
       "<div>\n",
       "<table border=\"1\" class=\"dataframe\">\n",
       "  <thead>\n",
       "    <tr style=\"text-align: right;\">\n",
       "      <th></th>\n",
       "      <th>geo_accession</th>\n",
       "      <th>age</th>\n",
       "      <th>days_old</th>\n",
       "      <th>replicate</th>\n",
       "    </tr>\n",
       "  </thead>\n",
       "  <tbody>\n",
       "    <tr>\n",
       "      <th>0</th>\n",
       "      <td>GSM542652</td>\n",
       "      <td>L4 larvae</td>\n",
       "      <td>0</td>\n",
       "      <td>1</td>\n",
       "    </tr>\n",
       "    <tr>\n",
       "      <th>1</th>\n",
       "      <td>GSM542653</td>\n",
       "      <td>L4 larvae</td>\n",
       "      <td>0</td>\n",
       "      <td>2</td>\n",
       "    </tr>\n",
       "    <tr>\n",
       "      <th>2</th>\n",
       "      <td>GSM542654</td>\n",
       "      <td>L4 larvae</td>\n",
       "      <td>0</td>\n",
       "      <td>3</td>\n",
       "    </tr>\n",
       "    <tr>\n",
       "      <th>3</th>\n",
       "      <td>GSM542655</td>\n",
       "      <td>day 6 adults</td>\n",
       "      <td>6</td>\n",
       "      <td>1</td>\n",
       "    </tr>\n",
       "    <tr>\n",
       "      <th>4</th>\n",
       "      <td>GSM542656</td>\n",
       "      <td>day 6 adults</td>\n",
       "      <td>6</td>\n",
       "      <td>2</td>\n",
       "    </tr>\n",
       "    <tr>\n",
       "      <th>5</th>\n",
       "      <td>GSM542657</td>\n",
       "      <td>day 6 adults</td>\n",
       "      <td>6</td>\n",
       "      <td>3</td>\n",
       "    </tr>\n",
       "    <tr>\n",
       "      <th>6</th>\n",
       "      <td>GSM542658</td>\n",
       "      <td>day 15 adults</td>\n",
       "      <td>15</td>\n",
       "      <td>1</td>\n",
       "    </tr>\n",
       "    <tr>\n",
       "      <th>7</th>\n",
       "      <td>GSM542659</td>\n",
       "      <td>day 15 adults</td>\n",
       "      <td>15</td>\n",
       "      <td>2</td>\n",
       "    </tr>\n",
       "    <tr>\n",
       "      <th>8</th>\n",
       "      <td>GSM542660</td>\n",
       "      <td>day 15 adults</td>\n",
       "      <td>15</td>\n",
       "      <td>3</td>\n",
       "    </tr>\n",
       "  </tbody>\n",
       "</table>\n",
       "</div>"
      ],
      "text/plain": [
       "  geo_accession            age  days_old  replicate\n",
       "0     GSM542652      L4 larvae         0          1\n",
       "1     GSM542653      L4 larvae         0          2\n",
       "2     GSM542654      L4 larvae         0          3\n",
       "3     GSM542655   day 6 adults         6          1\n",
       "4     GSM542656   day 6 adults         6          2\n",
       "5     GSM542657   day 6 adults         6          3\n",
       "6     GSM542658  day 15 adults        15          1\n",
       "7     GSM542659  day 15 adults        15          2\n",
       "8     GSM542660  day 15 adults        15          3"
      ]
     },
     "execution_count": 10,
     "metadata": {},
     "output_type": "execute_result"
    }
   ],
   "source": [
    "meta"
   ]
  },
  {
   "cell_type": "markdown",
   "metadata": {},
   "source": [
    "### Save metadata to file"
   ]
  },
  {
   "cell_type": "code",
   "execution_count": 11,
   "metadata": {
    "collapsed": true
   },
   "outputs": [],
   "source": [
    "meta.to_csv(\"sample_metadata.tsv\", sep = '\\t', index = False)"
   ]
  },
  {
   "cell_type": "markdown",
   "metadata": {},
   "source": [
    "## Add metadata to expression values"
   ]
  },
  {
   "cell_type": "code",
   "execution_count": 12,
   "metadata": {
    "collapsed": false
   },
   "outputs": [
    {
     "data": {
      "text/plain": [
       "geo_id\n",
       "GSM542652    22625\n",
       "GSM542653    22625\n",
       "GSM542654    22625\n",
       "GSM542655    22625\n",
       "GSM542656    22625\n",
       "GSM542657    22625\n",
       "GSM542658    22625\n",
       "GSM542659    22625\n",
       "GSM542660    22625\n",
       "dtype: int64"
      ]
     },
     "execution_count": 12,
     "metadata": {},
     "output_type": "execute_result"
    }
   ],
   "source": [
    "exp.groupby(\"geo_id\").size()"
   ]
  },
  {
   "cell_type": "code",
   "execution_count": 13,
   "metadata": {
    "collapsed": true
   },
   "outputs": [],
   "source": [
    "exp = (pd\n",
    "    .merge(\n",
    "        exp, meta, how = \"left\",\n",
    "        left_on = \"geo_id\", right_on = \"geo_accession\"\n",
    "    )\n",
    "    .drop(\"geo_accession\", axis = 1)\n",
    ")"
   ]
  },
  {
   "cell_type": "code",
   "execution_count": 14,
   "metadata": {
    "collapsed": false
   },
   "outputs": [
    {
     "data": {
      "text/plain": [
       "(203625, 6)"
      ]
     },
     "execution_count": 14,
     "metadata": {},
     "output_type": "execute_result"
    }
   ],
   "source": [
    "exp.shape"
   ]
  },
  {
   "cell_type": "code",
   "execution_count": 15,
   "metadata": {
    "collapsed": false
   },
   "outputs": [
    {
     "data": {
      "text/html": [
       "<div>\n",
       "<table border=\"1\" class=\"dataframe\">\n",
       "  <thead>\n",
       "    <tr style=\"text-align: right;\">\n",
       "      <th></th>\n",
       "      <th>probe_id</th>\n",
       "      <th>geo_id</th>\n",
       "      <th>log2_exp</th>\n",
       "      <th>age</th>\n",
       "      <th>days_old</th>\n",
       "      <th>replicate</th>\n",
       "    </tr>\n",
       "  </thead>\n",
       "  <tbody>\n",
       "    <tr>\n",
       "      <th>0</th>\n",
       "      <td>171720_x_at</td>\n",
       "      <td>GSM542652</td>\n",
       "      <td>8.71</td>\n",
       "      <td>L4 larvae</td>\n",
       "      <td>0</td>\n",
       "      <td>1</td>\n",
       "    </tr>\n",
       "    <tr>\n",
       "      <th>1</th>\n",
       "      <td>171721_x_at</td>\n",
       "      <td>GSM542652</td>\n",
       "      <td>9.91</td>\n",
       "      <td>L4 larvae</td>\n",
       "      <td>0</td>\n",
       "      <td>1</td>\n",
       "    </tr>\n",
       "    <tr>\n",
       "      <th>2</th>\n",
       "      <td>171722_x_at</td>\n",
       "      <td>GSM542652</td>\n",
       "      <td>11.28</td>\n",
       "      <td>L4 larvae</td>\n",
       "      <td>0</td>\n",
       "      <td>1</td>\n",
       "    </tr>\n",
       "    <tr>\n",
       "      <th>3</th>\n",
       "      <td>171723_x_at</td>\n",
       "      <td>GSM542652</td>\n",
       "      <td>12.97</td>\n",
       "      <td>L4 larvae</td>\n",
       "      <td>0</td>\n",
       "      <td>1</td>\n",
       "    </tr>\n",
       "    <tr>\n",
       "      <th>4</th>\n",
       "      <td>171724_x_at</td>\n",
       "      <td>GSM542652</td>\n",
       "      <td>8.26</td>\n",
       "      <td>L4 larvae</td>\n",
       "      <td>0</td>\n",
       "      <td>1</td>\n",
       "    </tr>\n",
       "  </tbody>\n",
       "</table>\n",
       "</div>"
      ],
      "text/plain": [
       "      probe_id     geo_id  log2_exp        age  days_old  replicate\n",
       "0  171720_x_at  GSM542652      8.71  L4 larvae         0          1\n",
       "1  171721_x_at  GSM542652      9.91  L4 larvae         0          1\n",
       "2  171722_x_at  GSM542652     11.28  L4 larvae         0          1\n",
       "3  171723_x_at  GSM542652     12.97  L4 larvae         0          1\n",
       "4  171724_x_at  GSM542652      8.26  L4 larvae         0          1"
      ]
     },
     "execution_count": 15,
     "metadata": {},
     "output_type": "execute_result"
    }
   ],
   "source": [
    "exp.head()"
   ]
  },
  {
   "cell_type": "code",
   "execution_count": 16,
   "metadata": {
    "collapsed": false
   },
   "outputs": [
    {
     "data": {
      "text/plain": [
       "22625    9\n",
       "Name: probe_id, dtype: int64"
      ]
     },
     "execution_count": 16,
     "metadata": {},
     "output_type": "execute_result"
    }
   ],
   "source": [
    "exp.groupby(\"geo_id\")[\"probe_id\"].nunique().value_counts()"
   ]
  },
  {
   "cell_type": "markdown",
   "metadata": {},
   "source": [
    "We will not annotate probes with mappings to other databases at the moment, since some genes are missing mappings, some have multiple mappings, and some have conflicting mappings. We will let the analysis scripts determine which genes they want to keep."
   ]
  },
  {
   "cell_type": "markdown",
   "metadata": {},
   "source": [
    "## Save to file"
   ]
  },
  {
   "cell_type": "code",
   "execution_count": 17,
   "metadata": {
    "collapsed": true
   },
   "outputs": [],
   "source": [
    "exp.to_csv(\"annot_GSE21784.tsv\", sep = '\\t', index = False)"
   ]
  }
 ],
 "metadata": {
  "kernelspec": {
   "display_name": "Python 3",
   "language": "python",
   "name": "python3"
  },
  "language_info": {
   "codemirror_mode": {
    "name": "ipython",
    "version": 3
   },
   "file_extension": ".py",
   "mimetype": "text/x-python",
   "name": "python",
   "nbconvert_exporter": "python",
   "pygments_lexer": "ipython3",
   "version": "3.4.3"
  }
 },
 "nbformat": 4,
 "nbformat_minor": 0
}
