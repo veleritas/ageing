{
 "cells": [
  {
   "cell_type": "markdown",
   "metadata": {},
   "source": [
    "# Clean and prepare GSE21784 raw data\n",
    "\n",
    "Tong Shu Li"
   ]
  },
  {
   "cell_type": "code",
   "execution_count": 1,
   "metadata": {
    "collapsed": true
   },
   "outputs": [],
   "source": [
    "import pandas as pd\n",
    "import sys"
   ]
  },
  {
   "cell_type": "code",
   "execution_count": 2,
   "metadata": {
    "collapsed": true
   },
   "outputs": [],
   "source": [
    "sys.path.append(\"../..\")"
   ]
  },
  {
   "cell_type": "code",
   "execution_count": 3,
   "metadata": {
    "collapsed": false
   },
   "outputs": [],
   "source": [
    "from src.geo import parse_series_matrix"
   ]
  },
  {
   "cell_type": "markdown",
   "metadata": {},
   "source": [
    "---"
   ]
  },
  {
   "cell_type": "markdown",
   "metadata": {},
   "source": [
    "## Read series matrix"
   ]
  },
  {
   "cell_type": "code",
   "execution_count": 4,
   "metadata": {
    "collapsed": true
   },
   "outputs": [],
   "source": [
    "series, samples, exp = parse_series_matrix(\"GSE21784_series_matrix.txt\")"
   ]
  },
  {
   "cell_type": "code",
   "execution_count": 5,
   "metadata": {
    "collapsed": false
   },
   "outputs": [
    {
     "data": {
      "text/plain": [
       "(9, 37)"
      ]
     },
     "execution_count": 5,
     "metadata": {},
     "output_type": "execute_result"
    }
   ],
   "source": [
    "samples.shape"
   ]
  },
  {
   "cell_type": "code",
   "execution_count": 6,
   "metadata": {
    "collapsed": false
   },
   "outputs": [
    {
     "data": {
      "text/html": [
       "<div>\n",
       "<table border=\"1\" class=\"dataframe\">\n",
       "  <thead>\n",
       "    <tr style=\"text-align: right;\">\n",
       "      <th></th>\n",
       "      <th>title</th>\n",
       "      <th>geo_accession</th>\n",
       "      <th>status</th>\n",
       "      <th>submission_date</th>\n",
       "      <th>last_update_date</th>\n",
       "      <th>type</th>\n",
       "      <th>channel_count</th>\n",
       "      <th>source_name_ch1</th>\n",
       "      <th>organism_ch1</th>\n",
       "      <th>characteristics_ch1</th>\n",
       "      <th>...</th>\n",
       "      <th>contact_laboratory</th>\n",
       "      <th>contact_department</th>\n",
       "      <th>contact_institute</th>\n",
       "      <th>contact_address</th>\n",
       "      <th>contact_city</th>\n",
       "      <th>contact_state</th>\n",
       "      <th>contact_zip/postal_code</th>\n",
       "      <th>contact_country</th>\n",
       "      <th>supplementary_file</th>\n",
       "      <th>data_row_count</th>\n",
       "    </tr>\n",
       "  </thead>\n",
       "  <tbody>\n",
       "    <tr>\n",
       "      <th>0</th>\n",
       "      <td>L4 larvae, biological rep1</td>\n",
       "      <td>GSM542652</td>\n",
       "      <td>Public on May 11 2011</td>\n",
       "      <td>May 11 2010</td>\n",
       "      <td>May 11 2011</td>\n",
       "      <td>RNA</td>\n",
       "      <td>1</td>\n",
       "      <td>C. elegans L4 larvae</td>\n",
       "      <td>Caenorhabditis elegans</td>\n",
       "      <td>strain: Bristol N2</td>\n",
       "      <td>...</td>\n",
       "      <td>Dennis Kim</td>\n",
       "      <td>Biology</td>\n",
       "      <td>MIT</td>\n",
       "      <td>77 Massachusetts Ave. (68-440D)</td>\n",
       "      <td>Cambridge</td>\n",
       "      <td>MA</td>\n",
       "      <td>02139</td>\n",
       "      <td>USA</td>\n",
       "      <td>ftp://ftp.ncbi.nlm.nih.gov/pub/geo/DATA/supple...</td>\n",
       "      <td>22625</td>\n",
       "    </tr>\n",
       "    <tr>\n",
       "      <th>1</th>\n",
       "      <td>L4 larvae, biological rep2</td>\n",
       "      <td>GSM542653</td>\n",
       "      <td>Public on May 11 2011</td>\n",
       "      <td>May 11 2010</td>\n",
       "      <td>May 11 2011</td>\n",
       "      <td>RNA</td>\n",
       "      <td>1</td>\n",
       "      <td>C. elegans L4 larvae</td>\n",
       "      <td>Caenorhabditis elegans</td>\n",
       "      <td>strain: Bristol N2</td>\n",
       "      <td>...</td>\n",
       "      <td>Dennis Kim</td>\n",
       "      <td>Biology</td>\n",
       "      <td>MIT</td>\n",
       "      <td>77 Massachusetts Ave. (68-440D)</td>\n",
       "      <td>Cambridge</td>\n",
       "      <td>MA</td>\n",
       "      <td>02139</td>\n",
       "      <td>USA</td>\n",
       "      <td>ftp://ftp.ncbi.nlm.nih.gov/pub/geo/DATA/supple...</td>\n",
       "      <td>22625</td>\n",
       "    </tr>\n",
       "  </tbody>\n",
       "</table>\n",
       "<p>2 rows × 37 columns</p>\n",
       "</div>"
      ],
      "text/plain": [
       "                        title geo_accession                 status  \\\n",
       "0  L4 larvae, biological rep1     GSM542652  Public on May 11 2011   \n",
       "1  L4 larvae, biological rep2     GSM542653  Public on May 11 2011   \n",
       "\n",
       "  submission_date last_update_date type channel_count       source_name_ch1  \\\n",
       "0     May 11 2010      May 11 2011  RNA             1  C. elegans L4 larvae   \n",
       "1     May 11 2010      May 11 2011  RNA             1  C. elegans L4 larvae   \n",
       "\n",
       "             organism_ch1 characteristics_ch1      ...        \\\n",
       "0  Caenorhabditis elegans  strain: Bristol N2      ...         \n",
       "1  Caenorhabditis elegans  strain: Bristol N2      ...         \n",
       "\n",
       "  contact_laboratory contact_department contact_institute  \\\n",
       "0         Dennis Kim            Biology               MIT   \n",
       "1         Dennis Kim            Biology               MIT   \n",
       "\n",
       "                   contact_address contact_city contact_state  \\\n",
       "0  77 Massachusetts Ave. (68-440D)    Cambridge            MA   \n",
       "1  77 Massachusetts Ave. (68-440D)    Cambridge            MA   \n",
       "\n",
       "  contact_zip/postal_code contact_country  \\\n",
       "0                   02139             USA   \n",
       "1                   02139             USA   \n",
       "\n",
       "                                  supplementary_file data_row_count  \n",
       "0  ftp://ftp.ncbi.nlm.nih.gov/pub/geo/DATA/supple...          22625  \n",
       "1  ftp://ftp.ncbi.nlm.nih.gov/pub/geo/DATA/supple...          22625  \n",
       "\n",
       "[2 rows x 37 columns]"
      ]
     },
     "execution_count": 6,
     "metadata": {},
     "output_type": "execute_result"
    }
   ],
   "source": [
    "samples.head(2)"
   ]
  },
  {
   "cell_type": "markdown",
   "metadata": {},
   "source": [
    "There were three biological replicates at three different ages: L4, day 6, and day 15. We will extract the day and replicate information out as metadata."
   ]
  },
  {
   "cell_type": "markdown",
   "metadata": {},
   "source": [
    "## Extract age and replicate number\n",
    "\n",
    "For simplicity I will treat L4 worms as day 0 adults so that we can do linear regression later. This is probably not correct, but is an assumption I will make for now."
   ]
  },
  {
   "cell_type": "code",
   "execution_count": 7,
   "metadata": {
    "collapsed": false
   },
   "outputs": [],
   "source": [
    "meta = (\n",
    "    samples[[\"title\", \"geo_accession\"]]\n",
    "        .assign(\n",
    "            age = lambda df: df[\"title\"].str.split(\",\").str.get(0),\n",
    "        \n",
    "            replicate = lambda df:\n",
    "                pd.to_numeric(df[\"title\"].str.extract(r'(\\d)$', expand = False)),\n",
    "            \n",
    "            days_old = lambda df:\n",
    "                pd.to_numeric(\n",
    "                    df[\"title\"].str.extract(r'(\\d+)', expand = False).replace(\"4\", \"0\")\n",
    "                )\n",
    "        )\n",
    "        .drop(\"title\", axis = 1)\n",
    ")"
   ]
  },
  {
   "cell_type": "code",
   "execution_count": 8,
   "metadata": {
    "collapsed": false
   },
   "outputs": [
    {
     "data": {
      "text/html": [
       "<div>\n",
       "<table border=\"1\" class=\"dataframe\">\n",
       "  <thead>\n",
       "    <tr style=\"text-align: right;\">\n",
       "      <th></th>\n",
       "      <th>geo_accession</th>\n",
       "      <th>age</th>\n",
       "      <th>days_old</th>\n",
       "      <th>replicate</th>\n",
       "    </tr>\n",
       "  </thead>\n",
       "  <tbody>\n",
       "    <tr>\n",
       "      <th>0</th>\n",
       "      <td>GSM542652</td>\n",
       "      <td>L4 larvae</td>\n",
       "      <td>0</td>\n",
       "      <td>1</td>\n",
       "    </tr>\n",
       "    <tr>\n",
       "      <th>1</th>\n",
       "      <td>GSM542653</td>\n",
       "      <td>L4 larvae</td>\n",
       "      <td>0</td>\n",
       "      <td>2</td>\n",
       "    </tr>\n",
       "    <tr>\n",
       "      <th>2</th>\n",
       "      <td>GSM542654</td>\n",
       "      <td>L4 larvae</td>\n",
       "      <td>0</td>\n",
       "      <td>3</td>\n",
       "    </tr>\n",
       "    <tr>\n",
       "      <th>3</th>\n",
       "      <td>GSM542655</td>\n",
       "      <td>day 6 adults</td>\n",
       "      <td>6</td>\n",
       "      <td>1</td>\n",
       "    </tr>\n",
       "    <tr>\n",
       "      <th>4</th>\n",
       "      <td>GSM542656</td>\n",
       "      <td>day 6 adults</td>\n",
       "      <td>6</td>\n",
       "      <td>2</td>\n",
       "    </tr>\n",
       "    <tr>\n",
       "      <th>5</th>\n",
       "      <td>GSM542657</td>\n",
       "      <td>day 6 adults</td>\n",
       "      <td>6</td>\n",
       "      <td>3</td>\n",
       "    </tr>\n",
       "    <tr>\n",
       "      <th>6</th>\n",
       "      <td>GSM542658</td>\n",
       "      <td>day 15 adults</td>\n",
       "      <td>15</td>\n",
       "      <td>1</td>\n",
       "    </tr>\n",
       "    <tr>\n",
       "      <th>7</th>\n",
       "      <td>GSM542659</td>\n",
       "      <td>day 15 adults</td>\n",
       "      <td>15</td>\n",
       "      <td>2</td>\n",
       "    </tr>\n",
       "    <tr>\n",
       "      <th>8</th>\n",
       "      <td>GSM542660</td>\n",
       "      <td>day 15 adults</td>\n",
       "      <td>15</td>\n",
       "      <td>3</td>\n",
       "    </tr>\n",
       "  </tbody>\n",
       "</table>\n",
       "</div>"
      ],
      "text/plain": [
       "  geo_accession            age  days_old  replicate\n",
       "0     GSM542652      L4 larvae         0          1\n",
       "1     GSM542653      L4 larvae         0          2\n",
       "2     GSM542654      L4 larvae         0          3\n",
       "3     GSM542655   day 6 adults         6          1\n",
       "4     GSM542656   day 6 adults         6          2\n",
       "5     GSM542657   day 6 adults         6          3\n",
       "6     GSM542658  day 15 adults        15          1\n",
       "7     GSM542659  day 15 adults        15          2\n",
       "8     GSM542660  day 15 adults        15          3"
      ]
     },
     "execution_count": 8,
     "metadata": {},
     "output_type": "execute_result"
    }
   ],
   "source": [
    "meta"
   ]
  },
  {
   "cell_type": "markdown",
   "metadata": {},
   "source": [
    "### Save metadata to file"
   ]
  },
  {
   "cell_type": "code",
   "execution_count": 9,
   "metadata": {
    "collapsed": true
   },
   "outputs": [],
   "source": [
    "meta.to_csv(\"sample_metadata.tsv\", sep = '\\t', index = False)"
   ]
  },
  {
   "cell_type": "markdown",
   "metadata": {},
   "source": [
    "## Reshape expression values"
   ]
  },
  {
   "cell_type": "code",
   "execution_count": 10,
   "metadata": {
    "collapsed": false
   },
   "outputs": [
    {
     "data": {
      "text/html": [
       "<div>\n",
       "<table border=\"1\" class=\"dataframe\">\n",
       "  <thead>\n",
       "    <tr style=\"text-align: right;\">\n",
       "      <th></th>\n",
       "      <th>ID_REF</th>\n",
       "      <th>GSM542652</th>\n",
       "      <th>GSM542653</th>\n",
       "      <th>GSM542654</th>\n",
       "      <th>GSM542655</th>\n",
       "      <th>GSM542656</th>\n",
       "      <th>GSM542657</th>\n",
       "      <th>GSM542658</th>\n",
       "      <th>GSM542659</th>\n",
       "      <th>GSM542660</th>\n",
       "    </tr>\n",
       "  </thead>\n",
       "  <tbody>\n",
       "    <tr>\n",
       "      <th>0</th>\n",
       "      <td>171720_x_at</td>\n",
       "      <td>8.71</td>\n",
       "      <td>8.49</td>\n",
       "      <td>8.80</td>\n",
       "      <td>8.63</td>\n",
       "      <td>9.01</td>\n",
       "      <td>8.94</td>\n",
       "      <td>8.54</td>\n",
       "      <td>8.63</td>\n",
       "      <td>8.01</td>\n",
       "    </tr>\n",
       "    <tr>\n",
       "      <th>1</th>\n",
       "      <td>171721_x_at</td>\n",
       "      <td>9.91</td>\n",
       "      <td>9.90</td>\n",
       "      <td>9.93</td>\n",
       "      <td>10.51</td>\n",
       "      <td>10.42</td>\n",
       "      <td>10.53</td>\n",
       "      <td>10.48</td>\n",
       "      <td>10.24</td>\n",
       "      <td>10.34</td>\n",
       "    </tr>\n",
       "    <tr>\n",
       "      <th>2</th>\n",
       "      <td>171722_x_at</td>\n",
       "      <td>11.28</td>\n",
       "      <td>11.21</td>\n",
       "      <td>11.10</td>\n",
       "      <td>10.10</td>\n",
       "      <td>10.26</td>\n",
       "      <td>10.66</td>\n",
       "      <td>11.10</td>\n",
       "      <td>11.39</td>\n",
       "      <td>11.17</td>\n",
       "    </tr>\n",
       "    <tr>\n",
       "      <th>3</th>\n",
       "      <td>171723_x_at</td>\n",
       "      <td>12.97</td>\n",
       "      <td>12.96</td>\n",
       "      <td>12.83</td>\n",
       "      <td>13.26</td>\n",
       "      <td>13.27</td>\n",
       "      <td>13.26</td>\n",
       "      <td>12.17</td>\n",
       "      <td>11.52</td>\n",
       "      <td>11.75</td>\n",
       "    </tr>\n",
       "    <tr>\n",
       "      <th>4</th>\n",
       "      <td>171724_x_at</td>\n",
       "      <td>8.26</td>\n",
       "      <td>10.04</td>\n",
       "      <td>9.34</td>\n",
       "      <td>10.53</td>\n",
       "      <td>10.75</td>\n",
       "      <td>10.71</td>\n",
       "      <td>10.17</td>\n",
       "      <td>9.98</td>\n",
       "      <td>10.58</td>\n",
       "    </tr>\n",
       "  </tbody>\n",
       "</table>\n",
       "</div>"
      ],
      "text/plain": [
       "        ID_REF  GSM542652  GSM542653  GSM542654  GSM542655  GSM542656  \\\n",
       "0  171720_x_at       8.71       8.49       8.80       8.63       9.01   \n",
       "1  171721_x_at       9.91       9.90       9.93      10.51      10.42   \n",
       "2  171722_x_at      11.28      11.21      11.10      10.10      10.26   \n",
       "3  171723_x_at      12.97      12.96      12.83      13.26      13.27   \n",
       "4  171724_x_at       8.26      10.04       9.34      10.53      10.75   \n",
       "\n",
       "   GSM542657  GSM542658  GSM542659  GSM542660  \n",
       "0       8.94       8.54       8.63       8.01  \n",
       "1      10.53      10.48      10.24      10.34  \n",
       "2      10.66      11.10      11.39      11.17  \n",
       "3      13.26      12.17      11.52      11.75  \n",
       "4      10.71      10.17       9.98      10.58  "
      ]
     },
     "execution_count": 10,
     "metadata": {},
     "output_type": "execute_result"
    }
   ],
   "source": [
    "exp.head()"
   ]
  },
  {
   "cell_type": "code",
   "execution_count": 11,
   "metadata": {
    "collapsed": false
   },
   "outputs": [
    {
     "data": {
      "text/plain": [
       "ID_REF       0\n",
       "GSM542652    0\n",
       "GSM542653    0\n",
       "GSM542654    0\n",
       "GSM542655    0\n",
       "GSM542656    0\n",
       "GSM542657    0\n",
       "GSM542658    0\n",
       "GSM542659    0\n",
       "GSM542660    0\n",
       "dtype: int64"
      ]
     },
     "execution_count": 11,
     "metadata": {},
     "output_type": "execute_result"
    }
   ],
   "source": [
    "exp.isnull().sum()"
   ]
  },
  {
   "cell_type": "code",
   "execution_count": 12,
   "metadata": {
    "collapsed": true
   },
   "outputs": [],
   "source": [
    "long = (\n",
    "    pd.melt(exp, id_vars = [\"ID_REF\"])\n",
    "        .rename(columns = {\n",
    "            \"ID_REF\": \"probe_id\",\n",
    "            \"variable\": \"geo_id\",\n",
    "            \"value\": \"log2_exp\"\n",
    "        })\n",
    ")"
   ]
  },
  {
   "cell_type": "code",
   "execution_count": 13,
   "metadata": {
    "collapsed": false
   },
   "outputs": [
    {
     "data": {
      "text/plain": [
       "(203625, 3)"
      ]
     },
     "execution_count": 13,
     "metadata": {},
     "output_type": "execute_result"
    }
   ],
   "source": [
    "long.shape"
   ]
  },
  {
   "cell_type": "code",
   "execution_count": 14,
   "metadata": {
    "collapsed": false
   },
   "outputs": [
    {
     "data": {
      "text/html": [
       "<div>\n",
       "<table border=\"1\" class=\"dataframe\">\n",
       "  <thead>\n",
       "    <tr style=\"text-align: right;\">\n",
       "      <th></th>\n",
       "      <th>probe_id</th>\n",
       "      <th>geo_id</th>\n",
       "      <th>log2_exp</th>\n",
       "    </tr>\n",
       "  </thead>\n",
       "  <tbody>\n",
       "    <tr>\n",
       "      <th>0</th>\n",
       "      <td>171720_x_at</td>\n",
       "      <td>GSM542652</td>\n",
       "      <td>8.71</td>\n",
       "    </tr>\n",
       "    <tr>\n",
       "      <th>1</th>\n",
       "      <td>171721_x_at</td>\n",
       "      <td>GSM542652</td>\n",
       "      <td>9.91</td>\n",
       "    </tr>\n",
       "    <tr>\n",
       "      <th>2</th>\n",
       "      <td>171722_x_at</td>\n",
       "      <td>GSM542652</td>\n",
       "      <td>11.28</td>\n",
       "    </tr>\n",
       "    <tr>\n",
       "      <th>3</th>\n",
       "      <td>171723_x_at</td>\n",
       "      <td>GSM542652</td>\n",
       "      <td>12.97</td>\n",
       "    </tr>\n",
       "    <tr>\n",
       "      <th>4</th>\n",
       "      <td>171724_x_at</td>\n",
       "      <td>GSM542652</td>\n",
       "      <td>8.26</td>\n",
       "    </tr>\n",
       "  </tbody>\n",
       "</table>\n",
       "</div>"
      ],
      "text/plain": [
       "      probe_id     geo_id  log2_exp\n",
       "0  171720_x_at  GSM542652      8.71\n",
       "1  171721_x_at  GSM542652      9.91\n",
       "2  171722_x_at  GSM542652     11.28\n",
       "3  171723_x_at  GSM542652     12.97\n",
       "4  171724_x_at  GSM542652      8.26"
      ]
     },
     "execution_count": 14,
     "metadata": {},
     "output_type": "execute_result"
    }
   ],
   "source": [
    "long.head()"
   ]
  },
  {
   "cell_type": "markdown",
   "metadata": {},
   "source": [
    "## Merge in the metadata"
   ]
  },
  {
   "cell_type": "code",
   "execution_count": 15,
   "metadata": {
    "collapsed": false
   },
   "outputs": [],
   "source": [
    "long = (\n",
    "    pd.merge(\n",
    "        long, meta, how = \"left\",\n",
    "        left_on = \"geo_id\", right_on = \"geo_accession\")\n",
    "        .drop(\"geo_accession\", axis = 1)\n",
    ")"
   ]
  },
  {
   "cell_type": "code",
   "execution_count": 16,
   "metadata": {
    "collapsed": false
   },
   "outputs": [
    {
     "data": {
      "text/html": [
       "<div>\n",
       "<table border=\"1\" class=\"dataframe\">\n",
       "  <thead>\n",
       "    <tr style=\"text-align: right;\">\n",
       "      <th></th>\n",
       "      <th>probe_id</th>\n",
       "      <th>geo_id</th>\n",
       "      <th>log2_exp</th>\n",
       "      <th>age</th>\n",
       "      <th>days_old</th>\n",
       "      <th>replicate</th>\n",
       "    </tr>\n",
       "  </thead>\n",
       "  <tbody>\n",
       "    <tr>\n",
       "      <th>0</th>\n",
       "      <td>171720_x_at</td>\n",
       "      <td>GSM542652</td>\n",
       "      <td>8.71</td>\n",
       "      <td>L4 larvae</td>\n",
       "      <td>0</td>\n",
       "      <td>1</td>\n",
       "    </tr>\n",
       "    <tr>\n",
       "      <th>1</th>\n",
       "      <td>171721_x_at</td>\n",
       "      <td>GSM542652</td>\n",
       "      <td>9.91</td>\n",
       "      <td>L4 larvae</td>\n",
       "      <td>0</td>\n",
       "      <td>1</td>\n",
       "    </tr>\n",
       "    <tr>\n",
       "      <th>2</th>\n",
       "      <td>171722_x_at</td>\n",
       "      <td>GSM542652</td>\n",
       "      <td>11.28</td>\n",
       "      <td>L4 larvae</td>\n",
       "      <td>0</td>\n",
       "      <td>1</td>\n",
       "    </tr>\n",
       "    <tr>\n",
       "      <th>3</th>\n",
       "      <td>171723_x_at</td>\n",
       "      <td>GSM542652</td>\n",
       "      <td>12.97</td>\n",
       "      <td>L4 larvae</td>\n",
       "      <td>0</td>\n",
       "      <td>1</td>\n",
       "    </tr>\n",
       "    <tr>\n",
       "      <th>4</th>\n",
       "      <td>171724_x_at</td>\n",
       "      <td>GSM542652</td>\n",
       "      <td>8.26</td>\n",
       "      <td>L4 larvae</td>\n",
       "      <td>0</td>\n",
       "      <td>1</td>\n",
       "    </tr>\n",
       "  </tbody>\n",
       "</table>\n",
       "</div>"
      ],
      "text/plain": [
       "      probe_id     geo_id  log2_exp        age  days_old  replicate\n",
       "0  171720_x_at  GSM542652      8.71  L4 larvae         0          1\n",
       "1  171721_x_at  GSM542652      9.91  L4 larvae         0          1\n",
       "2  171722_x_at  GSM542652     11.28  L4 larvae         0          1\n",
       "3  171723_x_at  GSM542652     12.97  L4 larvae         0          1\n",
       "4  171724_x_at  GSM542652      8.26  L4 larvae         0          1"
      ]
     },
     "execution_count": 16,
     "metadata": {},
     "output_type": "execute_result"
    }
   ],
   "source": [
    "long.head()"
   ]
  },
  {
   "cell_type": "markdown",
   "metadata": {
    "collapsed": true
   },
   "source": [
    "## Read and annotate genes"
   ]
  },
  {
   "cell_type": "code",
   "execution_count": 17,
   "metadata": {
    "collapsed": true
   },
   "outputs": [],
   "source": [
    "mapping = pd.read_csv(\"../GPL_maps/GPL200_id_mapping.tsv\", sep = '\\t')"
   ]
  },
  {
   "cell_type": "code",
   "execution_count": 18,
   "metadata": {
    "collapsed": false
   },
   "outputs": [
    {
     "data": {
      "text/plain": [
       "(22625, 5)"
      ]
     },
     "execution_count": 18,
     "metadata": {},
     "output_type": "execute_result"
    }
   ],
   "source": [
    "mapping.shape"
   ]
  },
  {
   "cell_type": "code",
   "execution_count": 19,
   "metadata": {
    "collapsed": false
   },
   "outputs": [
    {
     "data": {
      "text/html": [
       "<div>\n",
       "<table border=\"1\" class=\"dataframe\">\n",
       "  <thead>\n",
       "    <tr style=\"text-align: right;\">\n",
       "      <th></th>\n",
       "      <th>probe_id</th>\n",
       "      <th>entrez_id</th>\n",
       "      <th>wormbase_id</th>\n",
       "      <th>ensembl_id</th>\n",
       "      <th>other_id</th>\n",
       "    </tr>\n",
       "  </thead>\n",
       "  <tbody>\n",
       "    <tr>\n",
       "      <th>0</th>\n",
       "      <td>171720_x_at</td>\n",
       "      <td>174997</td>\n",
       "      <td>NaN</td>\n",
       "      <td>WBGene00013011</td>\n",
       "      <td>AV179929</td>\n",
       "    </tr>\n",
       "    <tr>\n",
       "      <th>1</th>\n",
       "      <td>171721_x_at</td>\n",
       "      <td>172609</td>\n",
       "      <td>NaN</td>\n",
       "      <td>WBGene00011344</td>\n",
       "      <td>6767</td>\n",
       "    </tr>\n",
       "    <tr>\n",
       "      <th>2</th>\n",
       "      <td>171722_x_at</td>\n",
       "      <td>176907</td>\n",
       "      <td>NaN</td>\n",
       "      <td>WBGene00018934</td>\n",
       "      <td>AV189310</td>\n",
       "    </tr>\n",
       "    <tr>\n",
       "      <th>3</th>\n",
       "      <td>171723_x_at</td>\n",
       "      <td>180646</td>\n",
       "      <td>CE26817</td>\n",
       "      <td>WBGene00006928</td>\n",
       "      <td>CEC7564</td>\n",
       "    </tr>\n",
       "    <tr>\n",
       "      <th>4</th>\n",
       "      <td>171724_x_at</td>\n",
       "      <td>172353</td>\n",
       "      <td>CE11778</td>\n",
       "      <td>WBGene00000386</td>\n",
       "      <td>AV178012</td>\n",
       "    </tr>\n",
       "  </tbody>\n",
       "</table>\n",
       "</div>"
      ],
      "text/plain": [
       "      probe_id entrez_id wormbase_id      ensembl_id  other_id\n",
       "0  171720_x_at    174997         NaN  WBGene00013011  AV179929\n",
       "1  171721_x_at    172609         NaN  WBGene00011344      6767\n",
       "2  171722_x_at    176907         NaN  WBGene00018934  AV189310\n",
       "3  171723_x_at    180646     CE26817  WBGene00006928   CEC7564\n",
       "4  171724_x_at    172353     CE11778  WBGene00000386  AV178012"
      ]
     },
     "execution_count": 19,
     "metadata": {},
     "output_type": "execute_result"
    }
   ],
   "source": [
    "mapping.head()"
   ]
  },
  {
   "cell_type": "markdown",
   "metadata": {},
   "source": [
    "### Dropping unknown probes\n",
    "\n",
    "Current versions of Wormbase use the \"WBGene\" identifiers (as of 2016-05-23), which are called \"ensembl_ids\" here. We will standardize on the Entrez gene and Ensembl identifiers, and ignore genes which do not have these identifiers.\n",
    "\n",
    "We will also ignore any genes which have neither a entrez id nor a wormbase id."
   ]
  },
  {
   "cell_type": "code",
   "execution_count": 20,
   "metadata": {
    "collapsed": false
   },
   "outputs": [],
   "source": [
    "mapping = (\n",
    "    mapping.drop([\"wormbase_id\", \"other_id\"], axis = 1)\n",
    "        .rename(columns = {\"ensembl_id\": \"wormbase_id\"})\n",
    "        .dropna(axis = 0, thresh = 2)\n",
    ")"
   ]
  },
  {
   "cell_type": "code",
   "execution_count": 21,
   "metadata": {
    "collapsed": false
   },
   "outputs": [
    {
     "data": {
      "text/plain": [
       "(22031, 3)"
      ]
     },
     "execution_count": 21,
     "metadata": {},
     "output_type": "execute_result"
    }
   ],
   "source": [
    "mapping.shape"
   ]
  },
  {
   "cell_type": "code",
   "execution_count": 22,
   "metadata": {
    "collapsed": false
   },
   "outputs": [
    {
     "data": {
      "text/html": [
       "<div>\n",
       "<table border=\"1\" class=\"dataframe\">\n",
       "  <thead>\n",
       "    <tr style=\"text-align: right;\">\n",
       "      <th></th>\n",
       "      <th>probe_id</th>\n",
       "      <th>entrez_id</th>\n",
       "      <th>wormbase_id</th>\n",
       "    </tr>\n",
       "  </thead>\n",
       "  <tbody>\n",
       "    <tr>\n",
       "      <th>0</th>\n",
       "      <td>171720_x_at</td>\n",
       "      <td>174997</td>\n",
       "      <td>WBGene00013011</td>\n",
       "    </tr>\n",
       "    <tr>\n",
       "      <th>1</th>\n",
       "      <td>171721_x_at</td>\n",
       "      <td>172609</td>\n",
       "      <td>WBGene00011344</td>\n",
       "    </tr>\n",
       "    <tr>\n",
       "      <th>2</th>\n",
       "      <td>171722_x_at</td>\n",
       "      <td>176907</td>\n",
       "      <td>WBGene00018934</td>\n",
       "    </tr>\n",
       "    <tr>\n",
       "      <th>3</th>\n",
       "      <td>171723_x_at</td>\n",
       "      <td>180646</td>\n",
       "      <td>WBGene00006928</td>\n",
       "    </tr>\n",
       "    <tr>\n",
       "      <th>4</th>\n",
       "      <td>171724_x_at</td>\n",
       "      <td>172353</td>\n",
       "      <td>WBGene00000386</td>\n",
       "    </tr>\n",
       "  </tbody>\n",
       "</table>\n",
       "</div>"
      ],
      "text/plain": [
       "      probe_id entrez_id     wormbase_id\n",
       "0  171720_x_at    174997  WBGene00013011\n",
       "1  171721_x_at    172609  WBGene00011344\n",
       "2  171722_x_at    176907  WBGene00018934\n",
       "3  171723_x_at    180646  WBGene00006928\n",
       "4  171724_x_at    172353  WBGene00000386"
      ]
     },
     "execution_count": 22,
     "metadata": {},
     "output_type": "execute_result"
    }
   ],
   "source": [
    "mapping.head()"
   ]
  },
  {
   "cell_type": "code",
   "execution_count": 23,
   "metadata": {
    "collapsed": false
   },
   "outputs": [
    {
     "data": {
      "text/html": [
       "<div>\n",
       "<table border=\"1\" class=\"dataframe\">\n",
       "  <thead>\n",
       "    <tr style=\"text-align: right;\">\n",
       "      <th></th>\n",
       "      <th></th>\n",
       "      <th>0</th>\n",
       "    </tr>\n",
       "    <tr>\n",
       "      <th>wormbase_id</th>\n",
       "      <th>entrez_id</th>\n",
       "      <th></th>\n",
       "    </tr>\n",
       "  </thead>\n",
       "  <tbody>\n",
       "    <tr>\n",
       "      <th rowspan=\"2\" valign=\"top\">False</th>\n",
       "      <th>False</th>\n",
       "      <td>21818</td>\n",
       "    </tr>\n",
       "    <tr>\n",
       "      <th>True</th>\n",
       "      <td>90</td>\n",
       "    </tr>\n",
       "    <tr>\n",
       "      <th>True</th>\n",
       "      <th>False</th>\n",
       "      <td>123</td>\n",
       "    </tr>\n",
       "  </tbody>\n",
       "</table>\n",
       "</div>"
      ],
      "text/plain": [
       "                           0\n",
       "wormbase_id entrez_id       \n",
       "False       False      21818\n",
       "            True          90\n",
       "True        False        123"
      ]
     },
     "execution_count": 23,
     "metadata": {},
     "output_type": "execute_result"
    }
   ],
   "source": [
    "mapping.isnull().groupby([\"wormbase_id\", \"entrez_id\"]).size().to_frame()"
   ]
  },
  {
   "cell_type": "markdown",
   "metadata": {},
   "source": [
    "All remaining 22031 probes have at least an entrez or a wormbase id. We dropped a total of 594 probes which did not have an entrez or a wormbase id."
   ]
  },
  {
   "cell_type": "markdown",
   "metadata": {},
   "source": [
    "## Annotate genes"
   ]
  },
  {
   "cell_type": "code",
   "execution_count": 24,
   "metadata": {
    "collapsed": true
   },
   "outputs": [],
   "source": [
    "exp_vals = pd.merge(long, mapping, how = \"right\", on = \"probe_id\")"
   ]
  },
  {
   "cell_type": "code",
   "execution_count": 25,
   "metadata": {
    "collapsed": false
   },
   "outputs": [
    {
     "data": {
      "text/plain": [
       "(198279, 8)"
      ]
     },
     "execution_count": 25,
     "metadata": {},
     "output_type": "execute_result"
    }
   ],
   "source": [
    "exp_vals.shape"
   ]
  },
  {
   "cell_type": "code",
   "execution_count": 26,
   "metadata": {
    "collapsed": false
   },
   "outputs": [
    {
     "data": {
      "text/html": [
       "<div>\n",
       "<table border=\"1\" class=\"dataframe\">\n",
       "  <thead>\n",
       "    <tr style=\"text-align: right;\">\n",
       "      <th></th>\n",
       "      <th>probe_id</th>\n",
       "      <th>geo_id</th>\n",
       "      <th>log2_exp</th>\n",
       "      <th>age</th>\n",
       "      <th>days_old</th>\n",
       "      <th>replicate</th>\n",
       "      <th>entrez_id</th>\n",
       "      <th>wormbase_id</th>\n",
       "    </tr>\n",
       "  </thead>\n",
       "  <tbody>\n",
       "    <tr>\n",
       "      <th>0</th>\n",
       "      <td>171720_x_at</td>\n",
       "      <td>GSM542652</td>\n",
       "      <td>8.71</td>\n",
       "      <td>L4 larvae</td>\n",
       "      <td>0</td>\n",
       "      <td>1</td>\n",
       "      <td>174997</td>\n",
       "      <td>WBGene00013011</td>\n",
       "    </tr>\n",
       "    <tr>\n",
       "      <th>1</th>\n",
       "      <td>171720_x_at</td>\n",
       "      <td>GSM542653</td>\n",
       "      <td>8.49</td>\n",
       "      <td>L4 larvae</td>\n",
       "      <td>0</td>\n",
       "      <td>2</td>\n",
       "      <td>174997</td>\n",
       "      <td>WBGene00013011</td>\n",
       "    </tr>\n",
       "    <tr>\n",
       "      <th>2</th>\n",
       "      <td>171720_x_at</td>\n",
       "      <td>GSM542654</td>\n",
       "      <td>8.80</td>\n",
       "      <td>L4 larvae</td>\n",
       "      <td>0</td>\n",
       "      <td>3</td>\n",
       "      <td>174997</td>\n",
       "      <td>WBGene00013011</td>\n",
       "    </tr>\n",
       "    <tr>\n",
       "      <th>3</th>\n",
       "      <td>171720_x_at</td>\n",
       "      <td>GSM542655</td>\n",
       "      <td>8.63</td>\n",
       "      <td>day 6 adults</td>\n",
       "      <td>6</td>\n",
       "      <td>1</td>\n",
       "      <td>174997</td>\n",
       "      <td>WBGene00013011</td>\n",
       "    </tr>\n",
       "    <tr>\n",
       "      <th>4</th>\n",
       "      <td>171720_x_at</td>\n",
       "      <td>GSM542656</td>\n",
       "      <td>9.01</td>\n",
       "      <td>day 6 adults</td>\n",
       "      <td>6</td>\n",
       "      <td>2</td>\n",
       "      <td>174997</td>\n",
       "      <td>WBGene00013011</td>\n",
       "    </tr>\n",
       "  </tbody>\n",
       "</table>\n",
       "</div>"
      ],
      "text/plain": [
       "      probe_id     geo_id  log2_exp           age  days_old  replicate  \\\n",
       "0  171720_x_at  GSM542652      8.71     L4 larvae         0          1   \n",
       "1  171720_x_at  GSM542653      8.49     L4 larvae         0          2   \n",
       "2  171720_x_at  GSM542654      8.80     L4 larvae         0          3   \n",
       "3  171720_x_at  GSM542655      8.63  day 6 adults         6          1   \n",
       "4  171720_x_at  GSM542656      9.01  day 6 adults         6          2   \n",
       "\n",
       "  entrez_id     wormbase_id  \n",
       "0    174997  WBGene00013011  \n",
       "1    174997  WBGene00013011  \n",
       "2    174997  WBGene00013011  \n",
       "3    174997  WBGene00013011  \n",
       "4    174997  WBGene00013011  "
      ]
     },
     "execution_count": 26,
     "metadata": {},
     "output_type": "execute_result"
    }
   ],
   "source": [
    "exp_vals.head()"
   ]
  },
  {
   "cell_type": "code",
   "execution_count": 27,
   "metadata": {
    "collapsed": false
   },
   "outputs": [
    {
     "data": {
      "text/plain": [
       "22031"
      ]
     },
     "execution_count": 27,
     "metadata": {},
     "output_type": "execute_result"
    }
   ],
   "source": [
    "exp_vals[\"probe_id\"].nunique()"
   ]
  },
  {
   "cell_type": "markdown",
   "metadata": {},
   "source": [
    "## Save to file"
   ]
  },
  {
   "cell_type": "code",
   "execution_count": 28,
   "metadata": {
    "collapsed": true
   },
   "outputs": [],
   "source": [
    "exp_vals.to_csv(\"annot_GSE21784.tsv\", sep = '\\t', index = False)"
   ]
  }
 ],
 "metadata": {
  "kernelspec": {
   "display_name": "Python 3",
   "language": "python",
   "name": "python3"
  },
  "language_info": {
   "codemirror_mode": {
    "name": "ipython",
    "version": 3
   },
   "file_extension": ".py",
   "mimetype": "text/x-python",
   "name": "python",
   "nbconvert_exporter": "python",
   "pygments_lexer": "ipython3",
   "version": "3.4.3"
  }
 },
 "nbformat": 4,
 "nbformat_minor": 0
}
