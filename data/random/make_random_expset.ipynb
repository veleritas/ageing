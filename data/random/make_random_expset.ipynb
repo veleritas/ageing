{
 "cells": [
  {
   "cell_type": "markdown",
   "metadata": {},
   "source": [
    "# Generate a completely randomized gene expression dataset\n",
    "\n",
    "Tong Shu Li\n",
    "\n",
    "**Motive**: We would like to confirm that a completely randomized dataset does not display the drift property that we observe in PMID26623667. To this end, we will create a dataset from scratch and use it to confirm that there is no drift."
   ]
  },
  {
   "cell_type": "code",
   "execution_count": 1,
   "metadata": {
    "collapsed": false
   },
   "outputs": [],
   "source": [
    "import numpy as np\n",
    "import pandas as pd\n",
    "import seaborn as sns\n",
    "import sys\n",
    "\n",
    "from itertools import product"
   ]
  },
  {
   "cell_type": "code",
   "execution_count": 2,
   "metadata": {
    "collapsed": true
   },
   "outputs": [],
   "source": [
    "sys.path.append(\"../..\")"
   ]
  },
  {
   "cell_type": "code",
   "execution_count": 3,
   "metadata": {
    "collapsed": true
   },
   "outputs": [],
   "source": [
    "from src.plots import plot_multi_density"
   ]
  },
  {
   "cell_type": "code",
   "execution_count": 4,
   "metadata": {
    "collapsed": true
   },
   "outputs": [],
   "source": [
    "np.random.seed(20160615)"
   ]
  },
  {
   "cell_type": "code",
   "execution_count": 5,
   "metadata": {
    "collapsed": true
   },
   "outputs": [],
   "source": [
    "%matplotlib inline"
   ]
  },
  {
   "cell_type": "markdown",
   "metadata": {},
   "source": [
    "---"
   ]
  },
  {
   "cell_type": "markdown",
   "metadata": {},
   "source": [
    "## Reference gene expression distribution\n",
    "\n",
    "We will model our hypothetical RNA-seq log CPM distribution as a Gaussian distribution with 3.5 mean, 1.5 standard deviation. This looks roughly like the log CPM distribution observed for PMID26623667."
   ]
  },
  {
   "cell_type": "code",
   "execution_count": 6,
   "metadata": {
    "collapsed": true
   },
   "outputs": [],
   "source": [
    "exp_mean = 3.5\n",
    "exp_std = 1.5"
   ]
  },
  {
   "cell_type": "code",
   "execution_count": 7,
   "metadata": {
    "collapsed": false
   },
   "outputs": [
    {
     "data": {
      "image/png": "[encoded data removed]",
      "text/plain": [
       "<matplotlib.figure.Figure at 0x7faa06bb3e80>"
      ]
     },
     "metadata": {},
     "output_type": "display_data"
    }
   ],
   "source": [
    "n = 20000\n",
    "res = np.random.normal(loc = exp_mean, scale = exp_std, size = n)\n",
    "\n",
    "ax = sns.distplot(res)\n",
    "ax.set_title(\n",
    "    \"Normal distribution; mean = {}, sigma = {}, {} samples\".format(exp_mean, exp_std, n)\n",
    ");"
   ]
  },
  {
   "cell_type": "markdown",
   "metadata": {},
   "source": [
    "This distribution roughly looks like the RNA-seq log CPM distribution of PMID26623667. Note that the real distribution has more variation, and has a longer tail on the right. However this is close enough to the real distribution for our purposes."
   ]
  },
  {
   "cell_type": "markdown",
   "metadata": {},
   "source": [
    "## Generate random distributions\n",
    "\n",
    "Now that we have a distribution which we will use to model the gene expression data, let us generate the fake dataset."
   ]
  },
  {
   "cell_type": "markdown",
   "metadata": {},
   "source": [
    "### Parameter settings\n",
    "\n",
    "Age: 1, 3, 5, 7, and 10 days old. Treatments: control and drug. Five replicates for each condition, and 20000 genes per sample."
   ]
  },
  {
   "cell_type": "code",
   "execution_count": 8,
   "metadata": {
    "collapsed": false
   },
   "outputs": [],
   "source": [
    "days = [1, 3, 5, 7, 10]\n",
    "conditions = [\"control\", \"drug\"]\n",
    "\n",
    "num_genes = 20000\n",
    "replicates = 5\n",
    "\n",
    "genes = np.array([\"gene_{}\".format(i) for i in range(num_genes)])"
   ]
  },
  {
   "cell_type": "markdown",
   "metadata": {},
   "source": [
    "### Generate the expression values"
   ]
  },
  {
   "cell_type": "code",
   "execution_count": 9,
   "metadata": {
    "collapsed": false
   },
   "outputs": [],
   "source": [
    "res = []\n",
    "for day, condition, replicate in product(days, conditions, range(replicates)):\n",
    "    gene_order = np.random.permutation(genes)\n",
    "    \n",
    "    # log expression values\n",
    "    exp_vals = np.random.normal(loc = exp_mean, scale = exp_std, size = num_genes)\n",
    "    \n",
    "    res.append(pd\n",
    "        .DataFrame({\"gene_id\": gene_order, \"log_cpm\": exp_vals})\n",
    "        .assign(age = day, condition = condition, replicate = replicate)\n",
    "    )"
   ]
  },
  {
   "cell_type": "markdown",
   "metadata": {},
   "source": [
    "### Examine results"
   ]
  },
  {
   "cell_type": "code",
   "execution_count": 10,
   "metadata": {
    "collapsed": false
   },
   "outputs": [],
   "source": [
    "exp = (pd\n",
    "    .concat(res)\n",
    "    .assign(cpm = lambda df: np.exp(df[\"log_cpm\"]))\n",
    "    .sort_values([\"age\", \"condition\", \"replicate\", \"gene_id\"])\n",
    "    .reset_index(drop = True)\n",
    ")"
   ]
  },
  {
   "cell_type": "code",
   "execution_count": 11,
   "metadata": {
    "collapsed": false
   },
   "outputs": [
    {
     "data": {
      "text/plain": [
       "(1000000, 6)"
      ]
     },
     "execution_count": 11,
     "metadata": {},
     "output_type": "execute_result"
    }
   ],
   "source": [
    "exp.shape"
   ]
  },
  {
   "cell_type": "code",
   "execution_count": 12,
   "metadata": {
    "collapsed": false
   },
   "outputs": [
    {
     "data": {
      "text/html": [
       "<div>\n",
       "<table border=\"1\" class=\"dataframe\">\n",
       "  <thead>\n",
       "    <tr style=\"text-align: right;\">\n",
       "      <th></th>\n",
       "      <th>gene_id</th>\n",
       "      <th>log_cpm</th>\n",
       "      <th>age</th>\n",
       "      <th>condition</th>\n",
       "      <th>replicate</th>\n",
       "      <th>cpm</th>\n",
       "    </tr>\n",
       "  </thead>\n",
       "  <tbody>\n",
       "    <tr>\n",
       "      <th>0</th>\n",
       "      <td>gene_0</td>\n",
       "      <td>5.707996</td>\n",
       "      <td>1</td>\n",
       "      <td>control</td>\n",
       "      <td>0</td>\n",
       "      <td>301.266626</td>\n",
       "    </tr>\n",
       "    <tr>\n",
       "      <th>1</th>\n",
       "      <td>gene_1</td>\n",
       "      <td>2.018717</td>\n",
       "      <td>1</td>\n",
       "      <td>control</td>\n",
       "      <td>0</td>\n",
       "      <td>7.528661</td>\n",
       "    </tr>\n",
       "    <tr>\n",
       "      <th>2</th>\n",
       "      <td>gene_10</td>\n",
       "      <td>1.520157</td>\n",
       "      <td>1</td>\n",
       "      <td>control</td>\n",
       "      <td>0</td>\n",
       "      <td>4.572941</td>\n",
       "    </tr>\n",
       "    <tr>\n",
       "      <th>3</th>\n",
       "      <td>gene_100</td>\n",
       "      <td>2.886037</td>\n",
       "      <td>1</td>\n",
       "      <td>control</td>\n",
       "      <td>0</td>\n",
       "      <td>17.922135</td>\n",
       "    </tr>\n",
       "    <tr>\n",
       "      <th>4</th>\n",
       "      <td>gene_1000</td>\n",
       "      <td>3.978630</td>\n",
       "      <td>1</td>\n",
       "      <td>control</td>\n",
       "      <td>0</td>\n",
       "      <td>53.443782</td>\n",
       "    </tr>\n",
       "  </tbody>\n",
       "</table>\n",
       "</div>"
      ],
      "text/plain": [
       "     gene_id   log_cpm  age condition  replicate         cpm\n",
       "0     gene_0  5.707996    1   control          0  301.266626\n",
       "1     gene_1  2.018717    1   control          0    7.528661\n",
       "2    gene_10  1.520157    1   control          0    4.572941\n",
       "3   gene_100  2.886037    1   control          0   17.922135\n",
       "4  gene_1000  3.978630    1   control          0   53.443782"
      ]
     },
     "execution_count": 12,
     "metadata": {},
     "output_type": "execute_result"
    }
   ],
   "source": [
    "exp.head()"
   ]
  },
  {
   "cell_type": "code",
   "execution_count": 13,
   "metadata": {
    "collapsed": false
   },
   "outputs": [
    {
     "data": {
      "text/plain": [
       "20000"
      ]
     },
     "execution_count": 13,
     "metadata": {},
     "output_type": "execute_result"
    }
   ],
   "source": [
    "exp[\"gene_id\"].nunique()"
   ]
  },
  {
   "cell_type": "markdown",
   "metadata": {},
   "source": [
    "### Expression distribution"
   ]
  },
  {
   "cell_type": "code",
   "execution_count": 14,
   "metadata": {
    "collapsed": false
   },
   "outputs": [
    {
     "data": {
      "image/png": "[encoded data removed]",
      "text/plain": [
       "<matplotlib.figure.Figure at 0x7fa9fc3f99e8>"
      ]
     },
     "metadata": {},
     "output_type": "display_data"
    }
   ],
   "source": [
    "ax = plot_multi_density(\n",
    "    exp, [\"age\", \"condition\", \"replicate\"], \"cpm\",\n",
    "    rc = {\"figure.figsize\": (7, 5)}\n",
    ")\n",
    "\n",
    "ax.legend_.remove()\n",
    "ax.set_xlabel(\"CPM\")\n",
    "ax.set_title(\"Expression distribution for all samples\");"
   ]
  },
  {
   "cell_type": "code",
   "execution_count": 15,
   "metadata": {
    "collapsed": false
   },
   "outputs": [
    {
     "data": {
      "image/png": "[encoded data removed]",
      "text/plain": [
       "<matplotlib.figure.Figure at 0x7faa0323fd68>"
      ]
     },
     "metadata": {},
     "output_type": "display_data"
    }
   ],
   "source": [
    "ax = plot_multi_density(\n",
    "    exp, [\"age\", \"condition\", \"replicate\"], \"log_cpm\",\n",
    "    rc = {\"figure.figsize\": (7, 5)}\n",
    ")\n",
    "\n",
    "ax.legend_.remove()\n",
    "ax.set_xlabel(\"Log CPM\")\n",
    "ax.set_title(\"Log CPM distribution for all samples\");"
   ]
  },
  {
   "cell_type": "markdown",
   "metadata": {},
   "source": [
    "These plots look similar to the distributions we observed for PMID26623667."
   ]
  },
  {
   "cell_type": "markdown",
   "metadata": {},
   "source": [
    "---"
   ]
  },
  {
   "cell_type": "markdown",
   "metadata": {},
   "source": [
    "## Calculate young reference\n",
    "\n",
    "The young reference CPM value is the mean of all replicates for the control samples at day 1."
   ]
  },
  {
   "cell_type": "code",
   "execution_count": 16,
   "metadata": {
    "collapsed": false
   },
   "outputs": [],
   "source": [
    "ref = (exp\n",
    "    .query(\"age == 1 & condition == 'control'\")\n",
    "    .drop([\"age\", \"replicate\", \"log_cpm\"], axis = 1)\n",
    "    .groupby(\"gene_id\")\n",
    "    .mean()\n",
    "    .reset_index()\n",
    "    .rename(columns = {\"cpm\": \"ref_cpm\"})\n",
    ")"
   ]
  },
  {
   "cell_type": "code",
   "execution_count": 17,
   "metadata": {
    "collapsed": false
   },
   "outputs": [
    {
     "data": {
      "text/plain": [
       "(20000, 2)"
      ]
     },
     "execution_count": 17,
     "metadata": {},
     "output_type": "execute_result"
    }
   ],
   "source": [
    "ref.shape"
   ]
  },
  {
   "cell_type": "code",
   "execution_count": 18,
   "metadata": {
    "collapsed": false
   },
   "outputs": [
    {
     "data": {
      "text/html": [
       "<div>\n",
       "<table border=\"1\" class=\"dataframe\">\n",
       "  <thead>\n",
       "    <tr style=\"text-align: right;\">\n",
       "      <th></th>\n",
       "      <th>gene_id</th>\n",
       "      <th>ref_cpm</th>\n",
       "    </tr>\n",
       "  </thead>\n",
       "  <tbody>\n",
       "    <tr>\n",
       "      <th>0</th>\n",
       "      <td>gene_0</td>\n",
       "      <td>100.435414</td>\n",
       "    </tr>\n",
       "    <tr>\n",
       "      <th>1</th>\n",
       "      <td>gene_1</td>\n",
       "      <td>72.421402</td>\n",
       "    </tr>\n",
       "    <tr>\n",
       "      <th>2</th>\n",
       "      <td>gene_10</td>\n",
       "      <td>62.747363</td>\n",
       "    </tr>\n",
       "    <tr>\n",
       "      <th>3</th>\n",
       "      <td>gene_100</td>\n",
       "      <td>39.066082</td>\n",
       "    </tr>\n",
       "    <tr>\n",
       "      <th>4</th>\n",
       "      <td>gene_1000</td>\n",
       "      <td>235.874867</td>\n",
       "    </tr>\n",
       "  </tbody>\n",
       "</table>\n",
       "</div>"
      ],
      "text/plain": [
       "     gene_id     ref_cpm\n",
       "0     gene_0  100.435414\n",
       "1     gene_1   72.421402\n",
       "2    gene_10   62.747363\n",
       "3   gene_100   39.066082\n",
       "4  gene_1000  235.874867"
      ]
     },
     "execution_count": 18,
     "metadata": {},
     "output_type": "execute_result"
    }
   ],
   "source": [
    "ref.head()"
   ]
  },
  {
   "cell_type": "markdown",
   "metadata": {},
   "source": [
    "## Merge young reference into expression dataframe and calculate RLFEC"
   ]
  },
  {
   "cell_type": "code",
   "execution_count": 19,
   "metadata": {
    "collapsed": true
   },
   "outputs": [],
   "source": [
    "final = (exp\n",
    "    .merge(ref, how = \"inner\", on = \"gene_id\")\n",
    "    .assign(RLFEC = lambda df: np.log(df[\"cpm\"] / df[\"ref_cpm\"]))\n",
    ")"
   ]
  },
  {
   "cell_type": "code",
   "execution_count": 20,
   "metadata": {
    "collapsed": false
   },
   "outputs": [
    {
     "data": {
      "text/plain": [
       "(1000000, 8)"
      ]
     },
     "execution_count": 20,
     "metadata": {},
     "output_type": "execute_result"
    }
   ],
   "source": [
    "final.shape"
   ]
  },
  {
   "cell_type": "code",
   "execution_count": 21,
   "metadata": {
    "collapsed": false
   },
   "outputs": [
    {
     "data": {
      "text/html": [
       "<div>\n",
       "<table border=\"1\" class=\"dataframe\">\n",
       "  <thead>\n",
       "    <tr style=\"text-align: right;\">\n",
       "      <th></th>\n",
       "      <th>gene_id</th>\n",
       "      <th>log_cpm</th>\n",
       "      <th>age</th>\n",
       "      <th>condition</th>\n",
       "      <th>replicate</th>\n",
       "      <th>cpm</th>\n",
       "      <th>ref_cpm</th>\n",
       "      <th>RLFEC</th>\n",
       "    </tr>\n",
       "  </thead>\n",
       "  <tbody>\n",
       "    <tr>\n",
       "      <th>0</th>\n",
       "      <td>gene_0</td>\n",
       "      <td>5.707996</td>\n",
       "      <td>1</td>\n",
       "      <td>control</td>\n",
       "      <td>0</td>\n",
       "      <td>301.266626</td>\n",
       "      <td>100.435414</td>\n",
       "      <td>1.098481</td>\n",
       "    </tr>\n",
       "    <tr>\n",
       "      <th>1</th>\n",
       "      <td>gene_0</td>\n",
       "      <td>1.251806</td>\n",
       "      <td>1</td>\n",
       "      <td>control</td>\n",
       "      <td>1</td>\n",
       "      <td>3.496652</td>\n",
       "      <td>100.435414</td>\n",
       "      <td>-3.357709</td>\n",
       "    </tr>\n",
       "    <tr>\n",
       "      <th>2</th>\n",
       "      <td>gene_0</td>\n",
       "      <td>3.725502</td>\n",
       "      <td>1</td>\n",
       "      <td>control</td>\n",
       "      <td>2</td>\n",
       "      <td>41.492051</td>\n",
       "      <td>100.435414</td>\n",
       "      <td>-0.884013</td>\n",
       "    </tr>\n",
       "    <tr>\n",
       "      <th>3</th>\n",
       "      <td>gene_0</td>\n",
       "      <td>4.113772</td>\n",
       "      <td>1</td>\n",
       "      <td>control</td>\n",
       "      <td>3</td>\n",
       "      <td>61.177045</td>\n",
       "      <td>100.435414</td>\n",
       "      <td>-0.495743</td>\n",
       "    </tr>\n",
       "    <tr>\n",
       "      <th>4</th>\n",
       "      <td>gene_0</td>\n",
       "      <td>4.551186</td>\n",
       "      <td>1</td>\n",
       "      <td>control</td>\n",
       "      <td>4</td>\n",
       "      <td>94.744695</td>\n",
       "      <td>100.435414</td>\n",
       "      <td>-0.058329</td>\n",
       "    </tr>\n",
       "  </tbody>\n",
       "</table>\n",
       "</div>"
      ],
      "text/plain": [
       "  gene_id   log_cpm  age condition  replicate         cpm     ref_cpm  \\\n",
       "0  gene_0  5.707996    1   control          0  301.266626  100.435414   \n",
       "1  gene_0  1.251806    1   control          1    3.496652  100.435414   \n",
       "2  gene_0  3.725502    1   control          2   41.492051  100.435414   \n",
       "3  gene_0  4.113772    1   control          3   61.177045  100.435414   \n",
       "4  gene_0  4.551186    1   control          4   94.744695  100.435414   \n",
       "\n",
       "      RLFEC  \n",
       "0  1.098481  \n",
       "1 -3.357709  \n",
       "2 -0.884013  \n",
       "3 -0.495743  \n",
       "4 -0.058329  "
      ]
     },
     "execution_count": 21,
     "metadata": {},
     "output_type": "execute_result"
    }
   ],
   "source": [
    "final.head()"
   ]
  },
  {
   "cell_type": "markdown",
   "metadata": {},
   "source": [
    "## Save to file"
   ]
  },
  {
   "cell_type": "code",
   "execution_count": 22,
   "metadata": {
    "collapsed": true
   },
   "outputs": [],
   "source": [
    "final.to_csv(\"random_expset.tsv\", sep = '\\t', index = False)"
   ]
  }
 ],
 "metadata": {
  "kernelspec": {
   "display_name": "Python 3",
   "language": "python",
   "name": "python3"
  },
  "language_info": {
   "codemirror_mode": {
    "name": "ipython",
    "version": 3
   },
   "file_extension": ".py",
   "mimetype": "text/x-python",
   "name": "python",
   "nbconvert_exporter": "python",
   "pygments_lexer": "ipython3",
   "version": "3.4.3"
  },
  "widgets": {
   "state": {},
   "version": "1.1.1"
  }
 },
 "nbformat": 4,
 "nbformat_minor": 0
}
