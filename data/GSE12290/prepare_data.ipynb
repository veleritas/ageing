{
 "cells": [
  {
   "cell_type": "markdown",
   "metadata": {},
   "source": [
    "# Format GSE12290 for analysis\n",
    "\n",
    "Tong Shu Li\n",
    "\n",
    "### Main steps\n",
    "\n",
    "1. Read GSE12290 series matrix\n",
    "2. Annotate with sample metadata\n",
    "3. Annotate genes with WormBase identifiers"
   ]
  },
  {
   "cell_type": "code",
   "execution_count": 1,
   "metadata": {
    "collapsed": true
   },
   "outputs": [],
   "source": [
    "import pandas as pd\n",
    "import seaborn as sns\n",
    "import sys"
   ]
  },
  {
   "cell_type": "code",
   "execution_count": 2,
   "metadata": {
    "collapsed": true
   },
   "outputs": [],
   "source": [
    "%matplotlib inline"
   ]
  },
  {
   "cell_type": "code",
   "execution_count": 3,
   "metadata": {
    "collapsed": true
   },
   "outputs": [],
   "source": [
    "sys.path.append(\"../..\")"
   ]
  },
  {
   "cell_type": "code",
   "execution_count": 4,
   "metadata": {
    "collapsed": true
   },
   "outputs": [],
   "source": [
    "from src.geo import parse_series_matrix\n",
    "\n",
    "from src.util import read_file"
   ]
  },
  {
   "cell_type": "markdown",
   "metadata": {},
   "source": [
    "---"
   ]
  },
  {
   "cell_type": "markdown",
   "metadata": {},
   "source": [
    "## Read GSE12290\n",
    "\n",
    "Steps:\n",
    "1. Read the metadata and expression values.\n",
    "2. Reshape and add metadata for each sample."
   ]
  },
  {
   "cell_type": "code",
   "execution_count": 5,
   "metadata": {
    "collapsed": true
   },
   "outputs": [],
   "source": [
    "series, samples, exp = parse_series_matrix(\"GSE12290_series_matrix.txt\")"
   ]
  },
  {
   "cell_type": "code",
   "execution_count": 6,
   "metadata": {
    "collapsed": false
   },
   "outputs": [
    {
     "data": {
      "text/plain": [
       "(104, 42)"
      ]
     },
     "execution_count": 6,
     "metadata": {},
     "output_type": "execute_result"
    }
   ],
   "source": [
    "samples.shape"
   ]
  },
  {
   "cell_type": "code",
   "execution_count": 7,
   "metadata": {
    "collapsed": false
   },
   "outputs": [
    {
     "data": {
      "text/html": [
       "<div>\n",
       "<table border=\"1\" class=\"dataframe\">\n",
       "  <thead>\n",
       "    <tr style=\"text-align: right;\">\n",
       "      <th></th>\n",
       "      <th>title</th>\n",
       "      <th>geo_accession</th>\n",
       "      <th>status</th>\n",
       "      <th>submission_date</th>\n",
       "      <th>last_update_date</th>\n",
       "      <th>type</th>\n",
       "      <th>channel_count</th>\n",
       "      <th>source_name_ch1</th>\n",
       "      <th>organism_ch1</th>\n",
       "      <th>characteristics_ch1</th>\n",
       "      <th>...</th>\n",
       "      <th>contact_phone</th>\n",
       "      <th>contact_laboratory</th>\n",
       "      <th>contact_institute</th>\n",
       "      <th>contact_address</th>\n",
       "      <th>contact_city</th>\n",
       "      <th>contact_state</th>\n",
       "      <th>contact_zip/postal_code</th>\n",
       "      <th>contact_country</th>\n",
       "      <th>supplementary_file</th>\n",
       "      <th>data_row_count</th>\n",
       "    </tr>\n",
       "  </thead>\n",
       "  <tbody>\n",
       "    <tr>\n",
       "      <th>0</th>\n",
       "      <td>tg10</td>\n",
       "      <td>GSM308821</td>\n",
       "      <td>Public on Sep 16 2008</td>\n",
       "      <td>Jul 30 2008</td>\n",
       "      <td>Sep 16 2008</td>\n",
       "      <td>RNA</td>\n",
       "      <td>2</td>\n",
       "      <td>Individual C. elegans, age: 8 days old</td>\n",
       "      <td>Caenorhabditis elegans</td>\n",
       "      <td>8 day old N2 raised under standard conditions ...</td>\n",
       "      <td>...</td>\n",
       "      <td>415 209 2068</td>\n",
       "      <td>Melov Lab</td>\n",
       "      <td>Buck Institute for Research on Aging</td>\n",
       "      <td>8001 Redwood Blvd</td>\n",
       "      <td>Novato</td>\n",
       "      <td>CA</td>\n",
       "      <td>94945</td>\n",
       "      <td>USA</td>\n",
       "      <td>ftp://ftp.ncbi.nlm.nih.gov/pub/geo/DATA/supple...</td>\n",
       "      <td>22490</td>\n",
       "    </tr>\n",
       "    <tr>\n",
       "      <th>1</th>\n",
       "      <td>tg100</td>\n",
       "      <td>GSM308822</td>\n",
       "      <td>Public on Sep 16 2008</td>\n",
       "      <td>Jul 30 2008</td>\n",
       "      <td>Sep 16 2008</td>\n",
       "      <td>RNA</td>\n",
       "      <td>2</td>\n",
       "      <td>Individual C. elegans, age: 4 days old</td>\n",
       "      <td>Caenorhabditis elegans</td>\n",
       "      <td>4 day old N2 raised under standard conditions ...</td>\n",
       "      <td>...</td>\n",
       "      <td>415 209 2068</td>\n",
       "      <td>Melov Lab</td>\n",
       "      <td>Buck Institute for Research on Aging</td>\n",
       "      <td>8001 Redwood Blvd</td>\n",
       "      <td>Novato</td>\n",
       "      <td>CA</td>\n",
       "      <td>94945</td>\n",
       "      <td>USA</td>\n",
       "      <td>ftp://ftp.ncbi.nlm.nih.gov/pub/geo/DATA/supple...</td>\n",
       "      <td>22490</td>\n",
       "    </tr>\n",
       "  </tbody>\n",
       "</table>\n",
       "<p>2 rows × 42 columns</p>\n",
       "</div>"
      ],
      "text/plain": [
       "   title geo_accession                 status submission_date  \\\n",
       "0   tg10     GSM308821  Public on Sep 16 2008     Jul 30 2008   \n",
       "1  tg100     GSM308822  Public on Sep 16 2008     Jul 30 2008   \n",
       "\n",
       "  last_update_date type channel_count                         source_name_ch1  \\\n",
       "0      Sep 16 2008  RNA             2  Individual C. elegans, age: 8 days old   \n",
       "1      Sep 16 2008  RNA             2  Individual C. elegans, age: 4 days old   \n",
       "\n",
       "             organism_ch1                                characteristics_ch1  \\\n",
       "0  Caenorhabditis elegans  8 day old N2 raised under standard conditions ...   \n",
       "1  Caenorhabditis elegans  4 day old N2 raised under standard conditions ...   \n",
       "\n",
       "       ...       contact_phone contact_laboratory  \\\n",
       "0      ...        415 209 2068          Melov Lab   \n",
       "1      ...        415 209 2068          Melov Lab   \n",
       "\n",
       "                      contact_institute    contact_address contact_city  \\\n",
       "0  Buck Institute for Research on Aging  8001 Redwood Blvd       Novato   \n",
       "1  Buck Institute for Research on Aging  8001 Redwood Blvd       Novato   \n",
       "\n",
       "  contact_state contact_zip/postal_code contact_country  \\\n",
       "0            CA                   94945             USA   \n",
       "1            CA                   94945             USA   \n",
       "\n",
       "                                  supplementary_file data_row_count  \n",
       "0  ftp://ftp.ncbi.nlm.nih.gov/pub/geo/DATA/supple...          22490  \n",
       "1  ftp://ftp.ncbi.nlm.nih.gov/pub/geo/DATA/supple...          22490  \n",
       "\n",
       "[2 rows x 42 columns]"
      ]
     },
     "execution_count": 7,
     "metadata": {},
     "output_type": "execute_result"
    }
   ],
   "source": [
    "samples.head(2)"
   ]
  },
  {
   "cell_type": "code",
   "execution_count": 8,
   "metadata": {
    "collapsed": false
   },
   "outputs": [
    {
     "data": {
      "text/plain": [
       "(22490, 105)"
      ]
     },
     "execution_count": 8,
     "metadata": {},
     "output_type": "execute_result"
    }
   ],
   "source": [
    "exp.shape"
   ]
  },
  {
   "cell_type": "code",
   "execution_count": 9,
   "metadata": {
    "collapsed": false
   },
   "outputs": [
    {
     "data": {
      "text/html": [
       "<div>\n",
       "<table border=\"1\" class=\"dataframe\">\n",
       "  <thead>\n",
       "    <tr style=\"text-align: right;\">\n",
       "      <th></th>\n",
       "      <th>ID_REF</th>\n",
       "      <th>GSM308821</th>\n",
       "      <th>GSM308822</th>\n",
       "      <th>GSM308823</th>\n",
       "      <th>GSM308824</th>\n",
       "      <th>GSM308825</th>\n",
       "      <th>GSM308826</th>\n",
       "      <th>GSM308827</th>\n",
       "      <th>GSM308828</th>\n",
       "      <th>GSM308829</th>\n",
       "      <th>...</th>\n",
       "      <th>GSM308915</th>\n",
       "      <th>GSM308916</th>\n",
       "      <th>GSM308917</th>\n",
       "      <th>GSM308918</th>\n",
       "      <th>GSM308919</th>\n",
       "      <th>GSM308920</th>\n",
       "      <th>GSM308921</th>\n",
       "      <th>GSM308922</th>\n",
       "      <th>GSM308923</th>\n",
       "      <th>GSM308924</th>\n",
       "    </tr>\n",
       "  </thead>\n",
       "  <tbody>\n",
       "    <tr>\n",
       "      <th>0</th>\n",
       "      <td>cea2.3.00017</td>\n",
       "      <td>0.026223</td>\n",
       "      <td>0.013543</td>\n",
       "      <td>-0.961007</td>\n",
       "      <td>-0.829387</td>\n",
       "      <td>-0.838482</td>\n",
       "      <td>-0.428721</td>\n",
       "      <td>0.558073</td>\n",
       "      <td>-0.530957</td>\n",
       "      <td>-0.238006</td>\n",
       "      <td>...</td>\n",
       "      <td>2.238899</td>\n",
       "      <td>-0.331698</td>\n",
       "      <td>0.347295</td>\n",
       "      <td>0.478094</td>\n",
       "      <td>-2.038200</td>\n",
       "      <td>1.176916</td>\n",
       "      <td>1.948561</td>\n",
       "      <td>-0.108291</td>\n",
       "      <td>-0.819321</td>\n",
       "      <td>-2.679702</td>\n",
       "    </tr>\n",
       "    <tr>\n",
       "      <th>1</th>\n",
       "      <td>cea2.3.00036</td>\n",
       "      <td>-1.074264</td>\n",
       "      <td>-0.505992</td>\n",
       "      <td>-0.779248</td>\n",
       "      <td>-1.108055</td>\n",
       "      <td>-0.875029</td>\n",
       "      <td>-0.260945</td>\n",
       "      <td>-0.839102</td>\n",
       "      <td>0.628079</td>\n",
       "      <td>-0.561911</td>\n",
       "      <td>...</td>\n",
       "      <td>-0.881748</td>\n",
       "      <td>-1.172952</td>\n",
       "      <td>-0.321608</td>\n",
       "      <td>-0.203567</td>\n",
       "      <td>-0.717246</td>\n",
       "      <td>-0.062770</td>\n",
       "      <td>0.123618</td>\n",
       "      <td>-1.829057</td>\n",
       "      <td>-0.892860</td>\n",
       "      <td>-0.602018</td>\n",
       "    </tr>\n",
       "  </tbody>\n",
       "</table>\n",
       "<p>2 rows × 105 columns</p>\n",
       "</div>"
      ],
      "text/plain": [
       "         ID_REF  GSM308821  GSM308822  GSM308823  GSM308824  GSM308825  \\\n",
       "0  cea2.3.00017   0.026223   0.013543  -0.961007  -0.829387  -0.838482   \n",
       "1  cea2.3.00036  -1.074264  -0.505992  -0.779248  -1.108055  -0.875029   \n",
       "\n",
       "   GSM308826  GSM308827  GSM308828  GSM308829    ...      GSM308915  \\\n",
       "0  -0.428721   0.558073  -0.530957  -0.238006    ...       2.238899   \n",
       "1  -0.260945  -0.839102   0.628079  -0.561911    ...      -0.881748   \n",
       "\n",
       "   GSM308916  GSM308917  GSM308918  GSM308919  GSM308920  GSM308921  \\\n",
       "0  -0.331698   0.347295   0.478094  -2.038200   1.176916   1.948561   \n",
       "1  -1.172952  -0.321608  -0.203567  -0.717246  -0.062770   0.123618   \n",
       "\n",
       "   GSM308922  GSM308923  GSM308924  \n",
       "0  -0.108291  -0.819321  -2.679702  \n",
       "1  -1.829057  -0.892860  -0.602018  \n",
       "\n",
       "[2 rows x 105 columns]"
      ]
     },
     "execution_count": 9,
     "metadata": {},
     "output_type": "execute_result"
    }
   ],
   "source": [
    "exp.head(2)"
   ]
  },
  {
   "cell_type": "markdown",
   "metadata": {},
   "source": [
    "---"
   ]
  },
  {
   "cell_type": "markdown",
   "metadata": {},
   "source": [
    "## Add sample metadata\n",
    "\n",
    "For each sample, we will determine:\n",
    "1. Age of worm at harvest\n",
    "2. Phenotype"
   ]
  },
  {
   "cell_type": "code",
   "execution_count": 10,
   "metadata": {
    "collapsed": true
   },
   "outputs": [],
   "source": [
    "samples[\"days_old\"] = (samples[\"characteristics_ch1\"].str\n",
    "    .extract(r'^(\\d+)', expand = False)\n",
    "    .astype(\"int64\")\n",
    ")\n",
    "\n",
    "samples = samples[[\"title\", \"geo_accession\", \"days_old\"]]"
   ]
  },
  {
   "cell_type": "code",
   "execution_count": 11,
   "metadata": {
    "collapsed": false
   },
   "outputs": [
    {
     "data": {
      "text/plain": [
       "(104, 3)"
      ]
     },
     "execution_count": 11,
     "metadata": {},
     "output_type": "execute_result"
    }
   ],
   "source": [
    "samples.shape"
   ]
  },
  {
   "cell_type": "code",
   "execution_count": 12,
   "metadata": {
    "collapsed": false
   },
   "outputs": [
    {
     "data": {
      "text/html": [
       "<div>\n",
       "<table border=\"1\" class=\"dataframe\">\n",
       "  <thead>\n",
       "    <tr style=\"text-align: right;\">\n",
       "      <th></th>\n",
       "      <th>title</th>\n",
       "      <th>geo_accession</th>\n",
       "      <th>days_old</th>\n",
       "    </tr>\n",
       "  </thead>\n",
       "  <tbody>\n",
       "    <tr>\n",
       "      <th>0</th>\n",
       "      <td>tg10</td>\n",
       "      <td>GSM308821</td>\n",
       "      <td>8</td>\n",
       "    </tr>\n",
       "    <tr>\n",
       "      <th>1</th>\n",
       "      <td>tg100</td>\n",
       "      <td>GSM308822</td>\n",
       "      <td>4</td>\n",
       "    </tr>\n",
       "    <tr>\n",
       "      <th>2</th>\n",
       "      <td>tg109</td>\n",
       "      <td>GSM308823</td>\n",
       "      <td>8</td>\n",
       "    </tr>\n",
       "    <tr>\n",
       "      <th>3</th>\n",
       "      <td>tg101</td>\n",
       "      <td>GSM308824</td>\n",
       "      <td>14</td>\n",
       "    </tr>\n",
       "    <tr>\n",
       "      <th>4</th>\n",
       "      <td>tg102</td>\n",
       "      <td>GSM308825</td>\n",
       "      <td>24</td>\n",
       "    </tr>\n",
       "  </tbody>\n",
       "</table>\n",
       "</div>"
      ],
      "text/plain": [
       "   title geo_accession  days_old\n",
       "0   tg10     GSM308821         8\n",
       "1  tg100     GSM308822         4\n",
       "2  tg109     GSM308823         8\n",
       "3  tg101     GSM308824        14\n",
       "4  tg102     GSM308825        24"
      ]
     },
     "execution_count": 12,
     "metadata": {},
     "output_type": "execute_result"
    }
   ],
   "source": [
    "samples.head()"
   ]
  },
  {
   "cell_type": "markdown",
   "metadata": {},
   "source": [
    "### Check that the number of worms at each age is correct"
   ]
  },
  {
   "cell_type": "code",
   "execution_count": 13,
   "metadata": {
    "collapsed": false
   },
   "outputs": [
    {
     "data": {
      "text/plain": [
       "days_old\n",
       "4     13\n",
       "8     17\n",
       "12    17\n",
       "14    17\n",
       "16    17\n",
       "20    14\n",
       "24     9\n",
       "dtype: int64"
      ]
     },
     "execution_count": 13,
     "metadata": {},
     "output_type": "execute_result"
    }
   ],
   "source": [
    "samples.groupby(\"days_old\").size()"
   ]
  },
  {
   "cell_type": "markdown",
   "metadata": {},
   "source": [
    "This matches figure 1b in [PMID18778409](http://www.ncbi.nlm.nih.gov/pubmed/18778409)."
   ]
  },
  {
   "cell_type": "markdown",
   "metadata": {},
   "source": [
    "### Determine movement phenotype:\n",
    "\n",
    "The GSE file does not come with information regarding the movement phenotype of each worm. I emailed Dr. Simon Melov requesting these data, and he sent me an Excel file which I converted into a tsv file. He sent me the spreadsheet on 2016-05-13."
   ]
  },
  {
   "cell_type": "code",
   "execution_count": 14,
   "metadata": {
    "collapsed": true
   },
   "outputs": [],
   "source": [
    "pheno = pd.read_csv(\"behavior_phenotype.tsv\", sep = '\\t')"
   ]
  },
  {
   "cell_type": "code",
   "execution_count": 15,
   "metadata": {
    "collapsed": false
   },
   "outputs": [
    {
     "data": {
      "text/plain": [
       "(104, 2)"
      ]
     },
     "execution_count": 15,
     "metadata": {},
     "output_type": "execute_result"
    }
   ],
   "source": [
    "pheno.shape"
   ]
  },
  {
   "cell_type": "code",
   "execution_count": 16,
   "metadata": {
    "collapsed": false
   },
   "outputs": [
    {
     "data": {
      "text/html": [
       "<div>\n",
       "<table border=\"1\" class=\"dataframe\">\n",
       "  <thead>\n",
       "    <tr style=\"text-align: right;\">\n",
       "      <th></th>\n",
       "      <th>sample</th>\n",
       "      <th>behavior</th>\n",
       "    </tr>\n",
       "  </thead>\n",
       "  <tbody>\n",
       "    <tr>\n",
       "      <th>0</th>\n",
       "      <td>tg10</td>\n",
       "      <td>A</td>\n",
       "    </tr>\n",
       "    <tr>\n",
       "      <th>1</th>\n",
       "      <td>tg100</td>\n",
       "      <td>A</td>\n",
       "    </tr>\n",
       "    <tr>\n",
       "      <th>2</th>\n",
       "      <td>tg101</td>\n",
       "      <td>A</td>\n",
       "    </tr>\n",
       "    <tr>\n",
       "      <th>3</th>\n",
       "      <td>tg102</td>\n",
       "      <td>C</td>\n",
       "    </tr>\n",
       "    <tr>\n",
       "      <th>4</th>\n",
       "      <td>tg103</td>\n",
       "      <td>B</td>\n",
       "    </tr>\n",
       "  </tbody>\n",
       "</table>\n",
       "</div>"
      ],
      "text/plain": [
       "  sample behavior\n",
       "0   tg10        A\n",
       "1  tg100        A\n",
       "2  tg101        A\n",
       "3  tg102        C\n",
       "4  tg103        B"
      ]
     },
     "execution_count": 16,
     "metadata": {},
     "output_type": "execute_result"
    }
   ],
   "source": [
    "pheno.head()"
   ]
  },
  {
   "cell_type": "markdown",
   "metadata": {},
   "source": [
    "### Check that the sample names match"
   ]
  },
  {
   "cell_type": "code",
   "execution_count": 17,
   "metadata": {
    "collapsed": false
   },
   "outputs": [
    {
     "data": {
      "text/plain": [
       "True"
      ]
     },
     "execution_count": 17,
     "metadata": {},
     "output_type": "execute_result"
    }
   ],
   "source": [
    "set(samples[\"title\"]) == set(pheno[\"sample\"])"
   ]
  },
  {
   "cell_type": "markdown",
   "metadata": {},
   "source": [
    "### Merge in the phenotype to the metadata"
   ]
  },
  {
   "cell_type": "code",
   "execution_count": 18,
   "metadata": {
    "collapsed": true
   },
   "outputs": [],
   "source": [
    "metadata = pd.merge(\n",
    "    samples, pheno, how = \"inner\", left_on = \"title\", right_on = \"sample\"\n",
    ").drop(\"sample\", axis = 1)"
   ]
  },
  {
   "cell_type": "code",
   "execution_count": 19,
   "metadata": {
    "collapsed": false
   },
   "outputs": [
    {
     "data": {
      "text/plain": [
       "(104, 4)"
      ]
     },
     "execution_count": 19,
     "metadata": {},
     "output_type": "execute_result"
    }
   ],
   "source": [
    "metadata.shape"
   ]
  },
  {
   "cell_type": "code",
   "execution_count": 20,
   "metadata": {
    "collapsed": false
   },
   "outputs": [
    {
     "data": {
      "text/html": [
       "<div>\n",
       "<table border=\"1\" class=\"dataframe\">\n",
       "  <thead>\n",
       "    <tr style=\"text-align: right;\">\n",
       "      <th></th>\n",
       "      <th>title</th>\n",
       "      <th>geo_accession</th>\n",
       "      <th>days_old</th>\n",
       "      <th>behavior</th>\n",
       "    </tr>\n",
       "  </thead>\n",
       "  <tbody>\n",
       "    <tr>\n",
       "      <th>0</th>\n",
       "      <td>tg10</td>\n",
       "      <td>GSM308821</td>\n",
       "      <td>8</td>\n",
       "      <td>A</td>\n",
       "    </tr>\n",
       "    <tr>\n",
       "      <th>1</th>\n",
       "      <td>tg100</td>\n",
       "      <td>GSM308822</td>\n",
       "      <td>4</td>\n",
       "      <td>A</td>\n",
       "    </tr>\n",
       "    <tr>\n",
       "      <th>2</th>\n",
       "      <td>tg109</td>\n",
       "      <td>GSM308823</td>\n",
       "      <td>8</td>\n",
       "      <td>A</td>\n",
       "    </tr>\n",
       "    <tr>\n",
       "      <th>3</th>\n",
       "      <td>tg101</td>\n",
       "      <td>GSM308824</td>\n",
       "      <td>14</td>\n",
       "      <td>A</td>\n",
       "    </tr>\n",
       "    <tr>\n",
       "      <th>4</th>\n",
       "      <td>tg102</td>\n",
       "      <td>GSM308825</td>\n",
       "      <td>24</td>\n",
       "      <td>C</td>\n",
       "    </tr>\n",
       "  </tbody>\n",
       "</table>\n",
       "</div>"
      ],
      "text/plain": [
       "   title geo_accession  days_old behavior\n",
       "0   tg10     GSM308821         8        A\n",
       "1  tg100     GSM308822         4        A\n",
       "2  tg109     GSM308823         8        A\n",
       "3  tg101     GSM308824        14        A\n",
       "4  tg102     GSM308825        24        C"
      ]
     },
     "execution_count": 20,
     "metadata": {},
     "output_type": "execute_result"
    }
   ],
   "source": [
    "metadata.head()"
   ]
  },
  {
   "cell_type": "markdown",
   "metadata": {},
   "source": [
    "### Save metadata to file"
   ]
  },
  {
   "cell_type": "code",
   "execution_count": 21,
   "metadata": {
    "collapsed": true
   },
   "outputs": [],
   "source": [
    "metadata.to_csv(\"sample_metadata.tsv\", sep = '\\t', index = False)"
   ]
  },
  {
   "cell_type": "markdown",
   "metadata": {},
   "source": [
    "### Check that behavior ratios are correct\n",
    "\n",
    "Try and reproduce figure 1c from [PMID18778409](http://www.ncbi.nlm.nih.gov/pubmed/18778409)."
   ]
  },
  {
   "cell_type": "code",
   "execution_count": 22,
   "metadata": {
    "collapsed": false
   },
   "outputs": [
    {
     "data": {
      "image/png": "[encoded data removed]",
      "text/plain": [
       "<matplotlib.figure.Figure at 0x7fbfaa01e8d0>"
      ]
     },
     "metadata": {},
     "output_type": "display_data"
    }
   ],
   "source": [
    "ax = (metadata.groupby(\"days_old\")[\"behavior\"]\n",
    "    .value_counts(normalize = True)\n",
    "    .multiply(100)\n",
    "    .to_frame()\n",
    "    .unstack()\n",
    "    .plot(kind = \"bar\", stacked = True)\n",
    ")\n",
    "\n",
    "ax.set_title(\"Worm movement phenotype over time\")\n",
    "ax.set_ylabel(\"Percent in class\")\n",
    "ax.legend(title = \"phenotype\", loc = \"center left\", bbox_to_anchor = (1, 0.5));"
   ]
  },
  {
   "cell_type": "markdown",
   "metadata": {},
   "source": [
    "This data does not match what was published in the paper. On days 12 and 14, there are too few A type worms, and too many B type worms. Also on day 20, there are too many C type worms and too few B type worms. On day 24, there are too few type C worms and too many type B worms.\n",
    "\n",
    "I emailed Dr. Melov regarding this discrepancy on 2016-05-16, but he responded saying he was too busy to help."
   ]
  },
  {
   "cell_type": "markdown",
   "metadata": {
    "collapsed": true
   },
   "source": [
    "---"
   ]
  },
  {
   "cell_type": "markdown",
   "metadata": {},
   "source": [
    "## Map from GPL5859 probe ids to ORF ids\n",
    "\n",
    "Need to read and filter the original `GPL5859.gal` file:\n",
    "\n",
    "`GPL5859.gal` downloaded from [GEO](http://www.ncbi.nlm.nih.gov/geo/query/acc.cgi?acc=GPL5859) on 2016-05-13. Specifically, the `GPL5859.gal.gz` file in the `Supplementary file` table at the bottom of the page [here](http://www.ncbi.nlm.nih.gov/geo/download/?acc=GPL5859&format=file&file=GPL5859%2Egal%2Egz)."
   ]
  },
  {
   "cell_type": "code",
   "execution_count": 23,
   "metadata": {
    "collapsed": false
   },
   "outputs": [],
   "source": [
    "probes = []\n",
    "for line in read_file(\"GPL5859.gal\"):\n",
    "    if \"cea2\" in line:\n",
    "        # all probe ids start with \"cea2\"\n",
    "        vals = line.split(\"\\t\")\n",
    "        assert len(vals) == 5\n",
    "        \n",
    "        probes.append(vals)\n",
    "        \n",
    "probes = pd.DataFrame(probes,\n",
    "    columns = [\"block\", \"column\", \"row\", \"probe_id\", \"orf_id\"]\n",
    ").drop([\"block\", \"column\", \"row\"], axis = 1)"
   ]
  },
  {
   "cell_type": "code",
   "execution_count": 24,
   "metadata": {
    "collapsed": false
   },
   "outputs": [
    {
     "data": {
      "text/plain": [
       "(22490, 2)"
      ]
     },
     "execution_count": 24,
     "metadata": {},
     "output_type": "execute_result"
    }
   ],
   "source": [
    "probes.shape"
   ]
  },
  {
   "cell_type": "code",
   "execution_count": 25,
   "metadata": {
    "collapsed": false
   },
   "outputs": [
    {
     "data": {
      "text/html": [
       "<div>\n",
       "<table border=\"1\" class=\"dataframe\">\n",
       "  <thead>\n",
       "    <tr style=\"text-align: right;\">\n",
       "      <th></th>\n",
       "      <th>probe_id</th>\n",
       "      <th>orf_id</th>\n",
       "    </tr>\n",
       "  </thead>\n",
       "  <tbody>\n",
       "    <tr>\n",
       "      <th>0</th>\n",
       "      <td>cea2.c.00914</td>\n",
       "      <td>C25A1.8</td>\n",
       "    </tr>\n",
       "    <tr>\n",
       "      <th>1</th>\n",
       "      <td>cea2.c.02677</td>\n",
       "      <td>F21F3.6</td>\n",
       "    </tr>\n",
       "    <tr>\n",
       "      <th>2</th>\n",
       "      <td>cea2.c.02801</td>\n",
       "      <td>F25H2.9</td>\n",
       "    </tr>\n",
       "    <tr>\n",
       "      <th>3</th>\n",
       "      <td>cea2.c.04344</td>\n",
       "      <td>F56H1.4</td>\n",
       "    </tr>\n",
       "    <tr>\n",
       "      <th>4</th>\n",
       "      <td>cea2.c.04508</td>\n",
       "      <td>H06O01.1</td>\n",
       "    </tr>\n",
       "  </tbody>\n",
       "</table>\n",
       "</div>"
      ],
      "text/plain": [
       "       probe_id    orf_id\n",
       "0  cea2.c.00914   C25A1.8\n",
       "1  cea2.c.02677   F21F3.6\n",
       "2  cea2.c.02801   F25H2.9\n",
       "3  cea2.c.04344   F56H1.4\n",
       "4  cea2.c.04508  H06O01.1"
      ]
     },
     "execution_count": 25,
     "metadata": {},
     "output_type": "execute_result"
    }
   ],
   "source": [
    "probes.head()"
   ]
  },
  {
   "cell_type": "code",
   "execution_count": 26,
   "metadata": {
    "collapsed": false
   },
   "outputs": [
    {
     "data": {
      "text/plain": [
       "probe_id    0\n",
       "orf_id      0\n",
       "dtype: int64"
      ]
     },
     "execution_count": 26,
     "metadata": {},
     "output_type": "execute_result"
    }
   ],
   "source": [
    "probes.isnull().sum()"
   ]
  },
  {
   "cell_type": "markdown",
   "metadata": {},
   "source": [
    "## Map ORF ids to Wormbase ids\n",
    "\n",
    "Wormbase identifiers file retrieved on 2016-05-13 from [WormBase](ftp://ftp.wormbase.org/pub/wormbase/releases/current-production-release/species/c_elegans/PRJNA13758/annotation/c_elegans.PRJNA13758.WS252.geneIDs.txt.gz)"
   ]
  },
  {
   "cell_type": "code",
   "execution_count": 27,
   "metadata": {
    "collapsed": true
   },
   "outputs": [],
   "source": [
    "wb_ids = pd.read_csv(\"../id_maps/c_elegans.PRJNA13758.WS252.geneIDs.txt\", sep = ',')"
   ]
  },
  {
   "cell_type": "code",
   "execution_count": 28,
   "metadata": {
    "collapsed": false
   },
   "outputs": [
    {
     "data": {
      "text/plain": [
       "(50930, 5)"
      ]
     },
     "execution_count": 28,
     "metadata": {},
     "output_type": "execute_result"
    }
   ],
   "source": [
    "wb_ids.shape"
   ]
  },
  {
   "cell_type": "code",
   "execution_count": 29,
   "metadata": {
    "collapsed": false
   },
   "outputs": [
    {
     "data": {
      "text/html": [
       "<div>\n",
       "<table border=\"1\" class=\"dataframe\">\n",
       "  <thead>\n",
       "    <tr style=\"text-align: right;\">\n",
       "      <th></th>\n",
       "      <th>taxon_id</th>\n",
       "      <th>wormbase_id</th>\n",
       "      <th>gene_symbol</th>\n",
       "      <th>orf_id</th>\n",
       "      <th>status</th>\n",
       "    </tr>\n",
       "  </thead>\n",
       "  <tbody>\n",
       "    <tr>\n",
       "      <th>0</th>\n",
       "      <td>6239</td>\n",
       "      <td>WBGene00000001</td>\n",
       "      <td>aap-1</td>\n",
       "      <td>Y110A7A.10</td>\n",
       "      <td>Live</td>\n",
       "    </tr>\n",
       "    <tr>\n",
       "      <th>1</th>\n",
       "      <td>6239</td>\n",
       "      <td>WBGene00000002</td>\n",
       "      <td>aat-1</td>\n",
       "      <td>F27C8.1</td>\n",
       "      <td>Live</td>\n",
       "    </tr>\n",
       "    <tr>\n",
       "      <th>2</th>\n",
       "      <td>6239</td>\n",
       "      <td>WBGene00000003</td>\n",
       "      <td>aat-2</td>\n",
       "      <td>F07C3.7</td>\n",
       "      <td>Live</td>\n",
       "    </tr>\n",
       "    <tr>\n",
       "      <th>3</th>\n",
       "      <td>6239</td>\n",
       "      <td>WBGene00000004</td>\n",
       "      <td>aat-3</td>\n",
       "      <td>F52H2.2</td>\n",
       "      <td>Live</td>\n",
       "    </tr>\n",
       "    <tr>\n",
       "      <th>4</th>\n",
       "      <td>6239</td>\n",
       "      <td>WBGene00000005</td>\n",
       "      <td>aat-4</td>\n",
       "      <td>T13A10.10</td>\n",
       "      <td>Live</td>\n",
       "    </tr>\n",
       "  </tbody>\n",
       "</table>\n",
       "</div>"
      ],
      "text/plain": [
       "   taxon_id     wormbase_id gene_symbol      orf_id status\n",
       "0      6239  WBGene00000001       aap-1  Y110A7A.10   Live\n",
       "1      6239  WBGene00000002       aat-1     F27C8.1   Live\n",
       "2      6239  WBGene00000003       aat-2     F07C3.7   Live\n",
       "3      6239  WBGene00000004       aat-3     F52H2.2   Live\n",
       "4      6239  WBGene00000005       aat-4   T13A10.10   Live"
      ]
     },
     "execution_count": 29,
     "metadata": {},
     "output_type": "execute_result"
    }
   ],
   "source": [
    "wb_ids.head()"
   ]
  },
  {
   "cell_type": "code",
   "execution_count": 30,
   "metadata": {
    "collapsed": false
   },
   "outputs": [
    {
     "data": {
      "text/html": [
       "<div>\n",
       "<table border=\"1\" class=\"dataframe\">\n",
       "  <thead>\n",
       "    <tr style=\"text-align: right;\">\n",
       "      <th></th>\n",
       "      <th>wormbase_id</th>\n",
       "      <th>gene_symbol</th>\n",
       "      <th>orf_id</th>\n",
       "      <th>status</th>\n",
       "    </tr>\n",
       "  </thead>\n",
       "  <tbody>\n",
       "    <tr>\n",
       "      <th>count</th>\n",
       "      <td>50930</td>\n",
       "      <td>27680</td>\n",
       "      <td>47106</td>\n",
       "      <td>50930</td>\n",
       "    </tr>\n",
       "    <tr>\n",
       "      <th>unique</th>\n",
       "      <td>50930</td>\n",
       "      <td>27680</td>\n",
       "      <td>47103</td>\n",
       "      <td>3</td>\n",
       "    </tr>\n",
       "    <tr>\n",
       "      <th>top</th>\n",
       "      <td>WBGene00047521</td>\n",
       "      <td>21ur-10019</td>\n",
       "      <td>ZC416.8</td>\n",
       "      <td>Live</td>\n",
       "    </tr>\n",
       "    <tr>\n",
       "      <th>freq</th>\n",
       "      <td>1</td>\n",
       "      <td>1</td>\n",
       "      <td>2</td>\n",
       "      <td>48302</td>\n",
       "    </tr>\n",
       "  </tbody>\n",
       "</table>\n",
       "</div>"
      ],
      "text/plain": [
       "           wormbase_id gene_symbol   orf_id status\n",
       "count            50930       27680    47106  50930\n",
       "unique           50930       27680    47103      3\n",
       "top     WBGene00047521  21ur-10019  ZC416.8   Live\n",
       "freq                 1           1        2  48302"
      ]
     },
     "execution_count": 30,
     "metadata": {},
     "output_type": "execute_result"
    }
   ],
   "source": [
    "wb_ids[[\"wormbase_id\", \"gene_symbol\", \"orf_id\", \"status\"]].describe()"
   ]
  },
  {
   "cell_type": "markdown",
   "metadata": {},
   "source": [
    "### Join the ids together"
   ]
  },
  {
   "cell_type": "code",
   "execution_count": 31,
   "metadata": {
    "collapsed": true
   },
   "outputs": [],
   "source": [
    "mapping = pd.merge(probes, wb_ids, how = \"left\", on = \"orf_id\").drop(\"taxon_id\", axis = 1)"
   ]
  },
  {
   "cell_type": "code",
   "execution_count": 32,
   "metadata": {
    "collapsed": false
   },
   "outputs": [
    {
     "data": {
      "text/plain": [
       "(22492, 5)"
      ]
     },
     "execution_count": 32,
     "metadata": {},
     "output_type": "execute_result"
    }
   ],
   "source": [
    "mapping.shape"
   ]
  },
  {
   "cell_type": "code",
   "execution_count": 33,
   "metadata": {
    "collapsed": false
   },
   "outputs": [
    {
     "data": {
      "text/html": [
       "<div>\n",
       "<table border=\"1\" class=\"dataframe\">\n",
       "  <thead>\n",
       "    <tr style=\"text-align: right;\">\n",
       "      <th></th>\n",
       "      <th>probe_id</th>\n",
       "      <th>orf_id</th>\n",
       "      <th>wormbase_id</th>\n",
       "      <th>gene_symbol</th>\n",
       "      <th>status</th>\n",
       "    </tr>\n",
       "  </thead>\n",
       "  <tbody>\n",
       "    <tr>\n",
       "      <th>0</th>\n",
       "      <td>cea2.c.00914</td>\n",
       "      <td>C25A1.8</td>\n",
       "      <td>WBGene00007709</td>\n",
       "      <td>clec-87</td>\n",
       "      <td>Live</td>\n",
       "    </tr>\n",
       "    <tr>\n",
       "      <th>1</th>\n",
       "      <td>cea2.c.02677</td>\n",
       "      <td>F21F3.6</td>\n",
       "      <td>WBGene00017675</td>\n",
       "      <td>NaN</td>\n",
       "      <td>Live</td>\n",
       "    </tr>\n",
       "    <tr>\n",
       "      <th>2</th>\n",
       "      <td>cea2.c.02801</td>\n",
       "      <td>F25H2.9</td>\n",
       "      <td>WBGene00003926</td>\n",
       "      <td>pas-5</td>\n",
       "      <td>Live</td>\n",
       "    </tr>\n",
       "    <tr>\n",
       "      <th>3</th>\n",
       "      <td>cea2.c.04344</td>\n",
       "      <td>F56H1.4</td>\n",
       "      <td>WBGene00004505</td>\n",
       "      <td>rpt-5</td>\n",
       "      <td>Live</td>\n",
       "    </tr>\n",
       "    <tr>\n",
       "      <th>4</th>\n",
       "      <td>cea2.c.04508</td>\n",
       "      <td>H06O01.1</td>\n",
       "      <td>WBGene00003964</td>\n",
       "      <td>pdi-3</td>\n",
       "      <td>Live</td>\n",
       "    </tr>\n",
       "  </tbody>\n",
       "</table>\n",
       "</div>"
      ],
      "text/plain": [
       "       probe_id    orf_id     wormbase_id gene_symbol status\n",
       "0  cea2.c.00914   C25A1.8  WBGene00007709     clec-87   Live\n",
       "1  cea2.c.02677   F21F3.6  WBGene00017675         NaN   Live\n",
       "2  cea2.c.02801   F25H2.9  WBGene00003926       pas-5   Live\n",
       "3  cea2.c.04344   F56H1.4  WBGene00004505       rpt-5   Live\n",
       "4  cea2.c.04508  H06O01.1  WBGene00003964       pdi-3   Live"
      ]
     },
     "execution_count": 33,
     "metadata": {},
     "output_type": "execute_result"
    }
   ],
   "source": [
    "mapping.head()"
   ]
  },
  {
   "cell_type": "markdown",
   "metadata": {},
   "source": [
    "We gained two rows in the data, which means that one ORF has multiple Wormbase ids."
   ]
  },
  {
   "cell_type": "code",
   "execution_count": 34,
   "metadata": {
    "collapsed": false
   },
   "outputs": [
    {
     "data": {
      "text/html": [
       "<div>\n",
       "<table border=\"1\" class=\"dataframe\">\n",
       "  <thead>\n",
       "    <tr style=\"text-align: right;\">\n",
       "      <th></th>\n",
       "      <th>probe_id</th>\n",
       "      <th>orf_id</th>\n",
       "      <th>wormbase_id</th>\n",
       "      <th>gene_symbol</th>\n",
       "      <th>status</th>\n",
       "    </tr>\n",
       "  </thead>\n",
       "  <tbody>\n",
       "    <tr>\n",
       "      <th>7038</th>\n",
       "      <td>cea2.c.25902</td>\n",
       "      <td>B0564.1</td>\n",
       "      <td>WBGene00007201</td>\n",
       "      <td>exos-4.1</td>\n",
       "      <td>Live</td>\n",
       "    </tr>\n",
       "    <tr>\n",
       "      <th>7039</th>\n",
       "      <td>cea2.c.25902</td>\n",
       "      <td>B0564.1</td>\n",
       "      <td>WBGene00044083</td>\n",
       "      <td>tin-9.2</td>\n",
       "      <td>Live</td>\n",
       "    </tr>\n",
       "    <tr>\n",
       "      <th>9267</th>\n",
       "      <td>cea2.p.24636</td>\n",
       "      <td>Y105E8A.7</td>\n",
       "      <td>WBGene00001147</td>\n",
       "      <td>eat-18</td>\n",
       "      <td>Live</td>\n",
       "    </tr>\n",
       "    <tr>\n",
       "      <th>9268</th>\n",
       "      <td>cea2.p.24636</td>\n",
       "      <td>Y105E8A.7</td>\n",
       "      <td>WBGene00002977</td>\n",
       "      <td>lev-10</td>\n",
       "      <td>Live</td>\n",
       "    </tr>\n",
       "  </tbody>\n",
       "</table>\n",
       "</div>"
      ],
      "text/plain": [
       "          probe_id     orf_id     wormbase_id gene_symbol status\n",
       "7038  cea2.c.25902    B0564.1  WBGene00007201    exos-4.1   Live\n",
       "7039  cea2.c.25902    B0564.1  WBGene00044083     tin-9.2   Live\n",
       "9267  cea2.p.24636  Y105E8A.7  WBGene00001147      eat-18   Live\n",
       "9268  cea2.p.24636  Y105E8A.7  WBGene00002977      lev-10   Live"
      ]
     },
     "execution_count": 34,
     "metadata": {},
     "output_type": "execute_result"
    }
   ],
   "source": [
    "mapping.groupby(\"probe_id\").filter(lambda df: len(df) > 1)"
   ]
  },
  {
   "cell_type": "markdown",
   "metadata": {},
   "source": [
    "We will just discard these two genes since it is unclear which one the probe is measuring."
   ]
  },
  {
   "cell_type": "code",
   "execution_count": 35,
   "metadata": {
    "collapsed": true
   },
   "outputs": [],
   "source": [
    "mapping = mapping.query(\"orf_id not in('B0564.1', 'Y105E8A.7')\")"
   ]
  },
  {
   "cell_type": "code",
   "execution_count": 36,
   "metadata": {
    "collapsed": false
   },
   "outputs": [
    {
     "data": {
      "text/plain": [
       "(22488, 5)"
      ]
     },
     "execution_count": 36,
     "metadata": {},
     "output_type": "execute_result"
    }
   ],
   "source": [
    "mapping.shape"
   ]
  },
  {
   "cell_type": "code",
   "execution_count": 37,
   "metadata": {
    "collapsed": false
   },
   "outputs": [
    {
     "data": {
      "text/plain": [
       "probe_id           0\n",
       "orf_id             0\n",
       "wormbase_id     4203\n",
       "gene_symbol    13405\n",
       "status          4203\n",
       "dtype: int64"
      ]
     },
     "execution_count": 37,
     "metadata": {},
     "output_type": "execute_result"
    }
   ],
   "source": [
    "mapping.isnull().sum()"
   ]
  },
  {
   "cell_type": "code",
   "execution_count": 38,
   "metadata": {
    "collapsed": false
   },
   "outputs": [
    {
     "data": {
      "text/plain": [
       "Live          18046\n",
       "Suppressed      239\n",
       "Name: status, dtype: int64"
      ]
     },
     "execution_count": 38,
     "metadata": {},
     "output_type": "execute_result"
    }
   ],
   "source": [
    "mapping[\"status\"].value_counts()"
   ]
  },
  {
   "cell_type": "markdown",
   "metadata": {},
   "source": [
    "Based on a hand evaluation of the suppressed genes, it seems that they are mostly transposons, and are therefore not going to be included."
   ]
  },
  {
   "cell_type": "markdown",
   "metadata": {},
   "source": [
    "### Good probes\n",
    "\n",
    "We will only take the probes which have Wormbase IDs and are currently being used as identifiers (\"live\" ids). We will ignore those without Wormbase ids since it is unclear what they are referring to."
   ]
  },
  {
   "cell_type": "code",
   "execution_count": 39,
   "metadata": {
    "collapsed": true
   },
   "outputs": [],
   "source": [
    "id_map = mapping.query(\"status == 'Live'\")"
   ]
  },
  {
   "cell_type": "code",
   "execution_count": 40,
   "metadata": {
    "collapsed": false
   },
   "outputs": [
    {
     "data": {
      "text/plain": [
       "(18046, 5)"
      ]
     },
     "execution_count": 40,
     "metadata": {},
     "output_type": "execute_result"
    }
   ],
   "source": [
    "id_map.shape"
   ]
  },
  {
   "cell_type": "code",
   "execution_count": 41,
   "metadata": {
    "collapsed": false
   },
   "outputs": [
    {
     "data": {
      "text/html": [
       "<div>\n",
       "<table border=\"1\" class=\"dataframe\">\n",
       "  <thead>\n",
       "    <tr style=\"text-align: right;\">\n",
       "      <th></th>\n",
       "      <th>probe_id</th>\n",
       "      <th>orf_id</th>\n",
       "      <th>wormbase_id</th>\n",
       "      <th>gene_symbol</th>\n",
       "      <th>status</th>\n",
       "    </tr>\n",
       "  </thead>\n",
       "  <tbody>\n",
       "    <tr>\n",
       "      <th>0</th>\n",
       "      <td>cea2.c.00914</td>\n",
       "      <td>C25A1.8</td>\n",
       "      <td>WBGene00007709</td>\n",
       "      <td>clec-87</td>\n",
       "      <td>Live</td>\n",
       "    </tr>\n",
       "    <tr>\n",
       "      <th>1</th>\n",
       "      <td>cea2.c.02677</td>\n",
       "      <td>F21F3.6</td>\n",
       "      <td>WBGene00017675</td>\n",
       "      <td>NaN</td>\n",
       "      <td>Live</td>\n",
       "    </tr>\n",
       "    <tr>\n",
       "      <th>2</th>\n",
       "      <td>cea2.c.02801</td>\n",
       "      <td>F25H2.9</td>\n",
       "      <td>WBGene00003926</td>\n",
       "      <td>pas-5</td>\n",
       "      <td>Live</td>\n",
       "    </tr>\n",
       "    <tr>\n",
       "      <th>3</th>\n",
       "      <td>cea2.c.04344</td>\n",
       "      <td>F56H1.4</td>\n",
       "      <td>WBGene00004505</td>\n",
       "      <td>rpt-5</td>\n",
       "      <td>Live</td>\n",
       "    </tr>\n",
       "    <tr>\n",
       "      <th>4</th>\n",
       "      <td>cea2.c.04508</td>\n",
       "      <td>H06O01.1</td>\n",
       "      <td>WBGene00003964</td>\n",
       "      <td>pdi-3</td>\n",
       "      <td>Live</td>\n",
       "    </tr>\n",
       "  </tbody>\n",
       "</table>\n",
       "</div>"
      ],
      "text/plain": [
       "       probe_id    orf_id     wormbase_id gene_symbol status\n",
       "0  cea2.c.00914   C25A1.8  WBGene00007709     clec-87   Live\n",
       "1  cea2.c.02677   F21F3.6  WBGene00017675         NaN   Live\n",
       "2  cea2.c.02801   F25H2.9  WBGene00003926       pas-5   Live\n",
       "3  cea2.c.04344   F56H1.4  WBGene00004505       rpt-5   Live\n",
       "4  cea2.c.04508  H06O01.1  WBGene00003964       pdi-3   Live"
      ]
     },
     "execution_count": 41,
     "metadata": {},
     "output_type": "execute_result"
    }
   ],
   "source": [
    "id_map.head()"
   ]
  },
  {
   "cell_type": "markdown",
   "metadata": {},
   "source": [
    "### Save id mapping to file"
   ]
  },
  {
   "cell_type": "code",
   "execution_count": 42,
   "metadata": {
    "collapsed": true
   },
   "outputs": [],
   "source": [
    "id_map.drop(\"status\", axis = 1).to_csv(\"GPL5859_id_map.tsv\", sep = '\\t', index = False)"
   ]
  },
  {
   "cell_type": "markdown",
   "metadata": {},
   "source": [
    "---"
   ]
  },
  {
   "cell_type": "markdown",
   "metadata": {},
   "source": [
    "## Putting everything together"
   ]
  },
  {
   "cell_type": "code",
   "execution_count": 43,
   "metadata": {
    "collapsed": false
   },
   "outputs": [
    {
     "data": {
      "text/plain": [
       "(22490, 105)"
      ]
     },
     "execution_count": 43,
     "metadata": {},
     "output_type": "execute_result"
    }
   ],
   "source": [
    "exp.shape"
   ]
  },
  {
   "cell_type": "code",
   "execution_count": 44,
   "metadata": {
    "collapsed": false
   },
   "outputs": [
    {
     "data": {
      "text/html": [
       "<div>\n",
       "<table border=\"1\" class=\"dataframe\">\n",
       "  <thead>\n",
       "    <tr style=\"text-align: right;\">\n",
       "      <th></th>\n",
       "      <th>ID_REF</th>\n",
       "      <th>GSM308821</th>\n",
       "      <th>GSM308822</th>\n",
       "      <th>GSM308823</th>\n",
       "      <th>GSM308824</th>\n",
       "      <th>GSM308825</th>\n",
       "      <th>GSM308826</th>\n",
       "      <th>GSM308827</th>\n",
       "      <th>GSM308828</th>\n",
       "      <th>GSM308829</th>\n",
       "      <th>...</th>\n",
       "      <th>GSM308915</th>\n",
       "      <th>GSM308916</th>\n",
       "      <th>GSM308917</th>\n",
       "      <th>GSM308918</th>\n",
       "      <th>GSM308919</th>\n",
       "      <th>GSM308920</th>\n",
       "      <th>GSM308921</th>\n",
       "      <th>GSM308922</th>\n",
       "      <th>GSM308923</th>\n",
       "      <th>GSM308924</th>\n",
       "    </tr>\n",
       "  </thead>\n",
       "  <tbody>\n",
       "    <tr>\n",
       "      <th>0</th>\n",
       "      <td>cea2.3.00017</td>\n",
       "      <td>0.026223</td>\n",
       "      <td>0.013543</td>\n",
       "      <td>-0.961007</td>\n",
       "      <td>-0.829387</td>\n",
       "      <td>-0.838482</td>\n",
       "      <td>-0.428721</td>\n",
       "      <td>0.558073</td>\n",
       "      <td>-0.530957</td>\n",
       "      <td>-0.238006</td>\n",
       "      <td>...</td>\n",
       "      <td>2.238899</td>\n",
       "      <td>-0.331698</td>\n",
       "      <td>0.347295</td>\n",
       "      <td>0.478094</td>\n",
       "      <td>-2.038200</td>\n",
       "      <td>1.176916</td>\n",
       "      <td>1.948561</td>\n",
       "      <td>-0.108291</td>\n",
       "      <td>-0.819321</td>\n",
       "      <td>-2.679702</td>\n",
       "    </tr>\n",
       "    <tr>\n",
       "      <th>1</th>\n",
       "      <td>cea2.3.00036</td>\n",
       "      <td>-1.074264</td>\n",
       "      <td>-0.505992</td>\n",
       "      <td>-0.779248</td>\n",
       "      <td>-1.108055</td>\n",
       "      <td>-0.875029</td>\n",
       "      <td>-0.260945</td>\n",
       "      <td>-0.839102</td>\n",
       "      <td>0.628079</td>\n",
       "      <td>-0.561911</td>\n",
       "      <td>...</td>\n",
       "      <td>-0.881748</td>\n",
       "      <td>-1.172952</td>\n",
       "      <td>-0.321608</td>\n",
       "      <td>-0.203567</td>\n",
       "      <td>-0.717246</td>\n",
       "      <td>-0.062770</td>\n",
       "      <td>0.123618</td>\n",
       "      <td>-1.829057</td>\n",
       "      <td>-0.892860</td>\n",
       "      <td>-0.602018</td>\n",
       "    </tr>\n",
       "    <tr>\n",
       "      <th>2</th>\n",
       "      <td>cea2.3.00043</td>\n",
       "      <td>0.717738</td>\n",
       "      <td>0.540692</td>\n",
       "      <td>-2.119586</td>\n",
       "      <td>0.323724</td>\n",
       "      <td>0.598483</td>\n",
       "      <td>0.124900</td>\n",
       "      <td>-0.222288</td>\n",
       "      <td>0.707347</td>\n",
       "      <td>0.110682</td>\n",
       "      <td>...</td>\n",
       "      <td>-0.966190</td>\n",
       "      <td>0.388561</td>\n",
       "      <td>-0.091064</td>\n",
       "      <td>0.467543</td>\n",
       "      <td>-0.757086</td>\n",
       "      <td>0.269940</td>\n",
       "      <td>0.579565</td>\n",
       "      <td>-0.393049</td>\n",
       "      <td>0.365195</td>\n",
       "      <td>-0.482556</td>\n",
       "    </tr>\n",
       "    <tr>\n",
       "      <th>3</th>\n",
       "      <td>cea2.3.00049</td>\n",
       "      <td>-0.265565</td>\n",
       "      <td>1.147914</td>\n",
       "      <td>0.189793</td>\n",
       "      <td>1.875017</td>\n",
       "      <td>0.288013</td>\n",
       "      <td>0.194361</td>\n",
       "      <td>0.799468</td>\n",
       "      <td>1.440917</td>\n",
       "      <td>-0.728799</td>\n",
       "      <td>...</td>\n",
       "      <td>-0.126092</td>\n",
       "      <td>-0.726546</td>\n",
       "      <td>0.863832</td>\n",
       "      <td>-1.356532</td>\n",
       "      <td>-0.030879</td>\n",
       "      <td>-0.201753</td>\n",
       "      <td>-0.483370</td>\n",
       "      <td>0.433869</td>\n",
       "      <td>-0.220468</td>\n",
       "      <td>-0.917110</td>\n",
       "    </tr>\n",
       "    <tr>\n",
       "      <th>4</th>\n",
       "      <td>cea2.3.00084</td>\n",
       "      <td>2.145240</td>\n",
       "      <td>0.260129</td>\n",
       "      <td>-0.040587</td>\n",
       "      <td>1.794957</td>\n",
       "      <td>2.236226</td>\n",
       "      <td>2.188161</td>\n",
       "      <td>1.321817</td>\n",
       "      <td>1.497870</td>\n",
       "      <td>1.422868</td>\n",
       "      <td>...</td>\n",
       "      <td>1.190913</td>\n",
       "      <td>1.602906</td>\n",
       "      <td>0.740200</td>\n",
       "      <td>3.095513</td>\n",
       "      <td>-0.016649</td>\n",
       "      <td>0.944288</td>\n",
       "      <td>0.319632</td>\n",
       "      <td>1.750920</td>\n",
       "      <td>1.493000</td>\n",
       "      <td>1.220239</td>\n",
       "    </tr>\n",
       "  </tbody>\n",
       "</table>\n",
       "<p>5 rows × 105 columns</p>\n",
       "</div>"
      ],
      "text/plain": [
       "         ID_REF  GSM308821  GSM308822  GSM308823  GSM308824  GSM308825  \\\n",
       "0  cea2.3.00017   0.026223   0.013543  -0.961007  -0.829387  -0.838482   \n",
       "1  cea2.3.00036  -1.074264  -0.505992  -0.779248  -1.108055  -0.875029   \n",
       "2  cea2.3.00043   0.717738   0.540692  -2.119586   0.323724   0.598483   \n",
       "3  cea2.3.00049  -0.265565   1.147914   0.189793   1.875017   0.288013   \n",
       "4  cea2.3.00084   2.145240   0.260129  -0.040587   1.794957   2.236226   \n",
       "\n",
       "   GSM308826  GSM308827  GSM308828  GSM308829    ...      GSM308915  \\\n",
       "0  -0.428721   0.558073  -0.530957  -0.238006    ...       2.238899   \n",
       "1  -0.260945  -0.839102   0.628079  -0.561911    ...      -0.881748   \n",
       "2   0.124900  -0.222288   0.707347   0.110682    ...      -0.966190   \n",
       "3   0.194361   0.799468   1.440917  -0.728799    ...      -0.126092   \n",
       "4   2.188161   1.321817   1.497870   1.422868    ...       1.190913   \n",
       "\n",
       "   GSM308916  GSM308917  GSM308918  GSM308919  GSM308920  GSM308921  \\\n",
       "0  -0.331698   0.347295   0.478094  -2.038200   1.176916   1.948561   \n",
       "1  -1.172952  -0.321608  -0.203567  -0.717246  -0.062770   0.123618   \n",
       "2   0.388561  -0.091064   0.467543  -0.757086   0.269940   0.579565   \n",
       "3  -0.726546   0.863832  -1.356532  -0.030879  -0.201753  -0.483370   \n",
       "4   1.602906   0.740200   3.095513  -0.016649   0.944288   0.319632   \n",
       "\n",
       "   GSM308922  GSM308923  GSM308924  \n",
       "0  -0.108291  -0.819321  -2.679702  \n",
       "1  -1.829057  -0.892860  -0.602018  \n",
       "2  -0.393049   0.365195  -0.482556  \n",
       "3   0.433869  -0.220468  -0.917110  \n",
       "4   1.750920   1.493000   1.220239  \n",
       "\n",
       "[5 rows x 105 columns]"
      ]
     },
     "execution_count": 44,
     "metadata": {},
     "output_type": "execute_result"
    }
   ],
   "source": [
    "exp.head()"
   ]
  },
  {
   "cell_type": "markdown",
   "metadata": {},
   "source": [
    "Drop any genes which had no expression in any sample:"
   ]
  },
  {
   "cell_type": "code",
   "execution_count": 45,
   "metadata": {
    "collapsed": true
   },
   "outputs": [],
   "source": [
    "raw = exp.dropna(axis = 0, how = \"any\")"
   ]
  },
  {
   "cell_type": "code",
   "execution_count": 46,
   "metadata": {
    "collapsed": false
   },
   "outputs": [
    {
     "data": {
      "text/plain": [
       "(16181, 105)"
      ]
     },
     "execution_count": 46,
     "metadata": {},
     "output_type": "execute_result"
    }
   ],
   "source": [
    "raw.shape"
   ]
  },
  {
   "cell_type": "markdown",
   "metadata": {},
   "source": [
    "We ended up dropping 6309 genes because they had no expression in at least one sample."
   ]
  },
  {
   "cell_type": "markdown",
   "metadata": {},
   "source": [
    "## Reshape to long form"
   ]
  },
  {
   "cell_type": "code",
   "execution_count": 47,
   "metadata": {
    "collapsed": true
   },
   "outputs": [],
   "source": [
    "long = (pd.melt(raw, id_vars = [\"ID_REF\"])\n",
    "    .rename(columns = {\"ID_REF\": \"probe_id\", \"variable\": \"geo_id\", \"value\": \"log2_exp\"})\n",
    ")"
   ]
  },
  {
   "cell_type": "code",
   "execution_count": 48,
   "metadata": {
    "collapsed": false
   },
   "outputs": [
    {
     "data": {
      "text/plain": [
       "(1682824, 3)"
      ]
     },
     "execution_count": 48,
     "metadata": {},
     "output_type": "execute_result"
    }
   ],
   "source": [
    "long.shape"
   ]
  },
  {
   "cell_type": "markdown",
   "metadata": {},
   "source": [
    "### Add gene annotation information"
   ]
  },
  {
   "cell_type": "code",
   "execution_count": 49,
   "metadata": {
    "collapsed": false
   },
   "outputs": [],
   "source": [
    "long = pd.merge(long, id_map, how = \"inner\", on = \"probe_id\")"
   ]
  },
  {
   "cell_type": "code",
   "execution_count": 50,
   "metadata": {
    "collapsed": false
   },
   "outputs": [
    {
     "data": {
      "text/plain": [
       "(1330160, 7)"
      ]
     },
     "execution_count": 50,
     "metadata": {},
     "output_type": "execute_result"
    }
   ],
   "source": [
    "long.shape"
   ]
  },
  {
   "cell_type": "code",
   "execution_count": 51,
   "metadata": {
    "collapsed": false
   },
   "outputs": [
    {
     "data": {
      "text/html": [
       "<div>\n",
       "<table border=\"1\" class=\"dataframe\">\n",
       "  <thead>\n",
       "    <tr style=\"text-align: right;\">\n",
       "      <th></th>\n",
       "      <th>probe_id</th>\n",
       "      <th>geo_id</th>\n",
       "      <th>log2_exp</th>\n",
       "      <th>orf_id</th>\n",
       "      <th>wormbase_id</th>\n",
       "      <th>gene_symbol</th>\n",
       "      <th>status</th>\n",
       "    </tr>\n",
       "  </thead>\n",
       "  <tbody>\n",
       "    <tr>\n",
       "      <th>0</th>\n",
       "      <td>cea2.3.00017</td>\n",
       "      <td>GSM308821</td>\n",
       "      <td>0.026223</td>\n",
       "      <td>AC3.2</td>\n",
       "      <td>WBGene00007070</td>\n",
       "      <td>ugt-49</td>\n",
       "      <td>Live</td>\n",
       "    </tr>\n",
       "    <tr>\n",
       "      <th>1</th>\n",
       "      <td>cea2.3.00017</td>\n",
       "      <td>GSM308822</td>\n",
       "      <td>0.013543</td>\n",
       "      <td>AC3.2</td>\n",
       "      <td>WBGene00007070</td>\n",
       "      <td>ugt-49</td>\n",
       "      <td>Live</td>\n",
       "    </tr>\n",
       "    <tr>\n",
       "      <th>2</th>\n",
       "      <td>cea2.3.00017</td>\n",
       "      <td>GSM308823</td>\n",
       "      <td>-0.961007</td>\n",
       "      <td>AC3.2</td>\n",
       "      <td>WBGene00007070</td>\n",
       "      <td>ugt-49</td>\n",
       "      <td>Live</td>\n",
       "    </tr>\n",
       "    <tr>\n",
       "      <th>3</th>\n",
       "      <td>cea2.3.00017</td>\n",
       "      <td>GSM308824</td>\n",
       "      <td>-0.829387</td>\n",
       "      <td>AC3.2</td>\n",
       "      <td>WBGene00007070</td>\n",
       "      <td>ugt-49</td>\n",
       "      <td>Live</td>\n",
       "    </tr>\n",
       "    <tr>\n",
       "      <th>4</th>\n",
       "      <td>cea2.3.00017</td>\n",
       "      <td>GSM308825</td>\n",
       "      <td>-0.838482</td>\n",
       "      <td>AC3.2</td>\n",
       "      <td>WBGene00007070</td>\n",
       "      <td>ugt-49</td>\n",
       "      <td>Live</td>\n",
       "    </tr>\n",
       "  </tbody>\n",
       "</table>\n",
       "</div>"
      ],
      "text/plain": [
       "       probe_id     geo_id  log2_exp orf_id     wormbase_id gene_symbol status\n",
       "0  cea2.3.00017  GSM308821  0.026223  AC3.2  WBGene00007070      ugt-49   Live\n",
       "1  cea2.3.00017  GSM308822  0.013543  AC3.2  WBGene00007070      ugt-49   Live\n",
       "2  cea2.3.00017  GSM308823 -0.961007  AC3.2  WBGene00007070      ugt-49   Live\n",
       "3  cea2.3.00017  GSM308824 -0.829387  AC3.2  WBGene00007070      ugt-49   Live\n",
       "4  cea2.3.00017  GSM308825 -0.838482  AC3.2  WBGene00007070      ugt-49   Live"
      ]
     },
     "execution_count": 51,
     "metadata": {},
     "output_type": "execute_result"
    }
   ],
   "source": [
    "long.head()"
   ]
  },
  {
   "cell_type": "markdown",
   "metadata": {},
   "source": [
    "### Add sample metadata"
   ]
  },
  {
   "cell_type": "code",
   "execution_count": 52,
   "metadata": {
    "collapsed": false
   },
   "outputs": [],
   "source": [
    "final = pd.merge(\n",
    "    long, metadata, how = \"left\",\n",
    "    left_on = \"geo_id\", right_on = \"geo_accession\"\n",
    ").drop([\"geo_id\", \"status\"], axis = 1)"
   ]
  },
  {
   "cell_type": "code",
   "execution_count": 53,
   "metadata": {
    "collapsed": false
   },
   "outputs": [
    {
     "data": {
      "text/html": [
       "<div>\n",
       "<table border=\"1\" class=\"dataframe\">\n",
       "  <thead>\n",
       "    <tr style=\"text-align: right;\">\n",
       "      <th></th>\n",
       "      <th>probe_id</th>\n",
       "      <th>log2_exp</th>\n",
       "      <th>orf_id</th>\n",
       "      <th>wormbase_id</th>\n",
       "      <th>gene_symbol</th>\n",
       "      <th>title</th>\n",
       "      <th>geo_accession</th>\n",
       "      <th>days_old</th>\n",
       "      <th>behavior</th>\n",
       "    </tr>\n",
       "  </thead>\n",
       "  <tbody>\n",
       "    <tr>\n",
       "      <th>0</th>\n",
       "      <td>cea2.3.00017</td>\n",
       "      <td>0.026223</td>\n",
       "      <td>AC3.2</td>\n",
       "      <td>WBGene00007070</td>\n",
       "      <td>ugt-49</td>\n",
       "      <td>tg10</td>\n",
       "      <td>GSM308821</td>\n",
       "      <td>8</td>\n",
       "      <td>A</td>\n",
       "    </tr>\n",
       "    <tr>\n",
       "      <th>1</th>\n",
       "      <td>cea2.3.00017</td>\n",
       "      <td>0.013543</td>\n",
       "      <td>AC3.2</td>\n",
       "      <td>WBGene00007070</td>\n",
       "      <td>ugt-49</td>\n",
       "      <td>tg100</td>\n",
       "      <td>GSM308822</td>\n",
       "      <td>4</td>\n",
       "      <td>A</td>\n",
       "    </tr>\n",
       "    <tr>\n",
       "      <th>2</th>\n",
       "      <td>cea2.3.00017</td>\n",
       "      <td>-0.961007</td>\n",
       "      <td>AC3.2</td>\n",
       "      <td>WBGene00007070</td>\n",
       "      <td>ugt-49</td>\n",
       "      <td>tg109</td>\n",
       "      <td>GSM308823</td>\n",
       "      <td>8</td>\n",
       "      <td>A</td>\n",
       "    </tr>\n",
       "    <tr>\n",
       "      <th>3</th>\n",
       "      <td>cea2.3.00017</td>\n",
       "      <td>-0.829387</td>\n",
       "      <td>AC3.2</td>\n",
       "      <td>WBGene00007070</td>\n",
       "      <td>ugt-49</td>\n",
       "      <td>tg101</td>\n",
       "      <td>GSM308824</td>\n",
       "      <td>14</td>\n",
       "      <td>A</td>\n",
       "    </tr>\n",
       "    <tr>\n",
       "      <th>4</th>\n",
       "      <td>cea2.3.00017</td>\n",
       "      <td>-0.838482</td>\n",
       "      <td>AC3.2</td>\n",
       "      <td>WBGene00007070</td>\n",
       "      <td>ugt-49</td>\n",
       "      <td>tg102</td>\n",
       "      <td>GSM308825</td>\n",
       "      <td>24</td>\n",
       "      <td>C</td>\n",
       "    </tr>\n",
       "  </tbody>\n",
       "</table>\n",
       "</div>"
      ],
      "text/plain": [
       "       probe_id  log2_exp orf_id     wormbase_id gene_symbol  title  \\\n",
       "0  cea2.3.00017  0.026223  AC3.2  WBGene00007070      ugt-49   tg10   \n",
       "1  cea2.3.00017  0.013543  AC3.2  WBGene00007070      ugt-49  tg100   \n",
       "2  cea2.3.00017 -0.961007  AC3.2  WBGene00007070      ugt-49  tg109   \n",
       "3  cea2.3.00017 -0.829387  AC3.2  WBGene00007070      ugt-49  tg101   \n",
       "4  cea2.3.00017 -0.838482  AC3.2  WBGene00007070      ugt-49  tg102   \n",
       "\n",
       "  geo_accession  days_old behavior  \n",
       "0     GSM308821         8        A  \n",
       "1     GSM308822         4        A  \n",
       "2     GSM308823         8        A  \n",
       "3     GSM308824        14        A  \n",
       "4     GSM308825        24        C  "
      ]
     },
     "execution_count": 53,
     "metadata": {},
     "output_type": "execute_result"
    }
   ],
   "source": [
    "final.head()"
   ]
  },
  {
   "cell_type": "code",
   "execution_count": 54,
   "metadata": {
    "collapsed": false
   },
   "outputs": [
    {
     "data": {
      "text/plain": [
       "12294    104\n",
       "Name: wormbase_id, dtype: int64"
      ]
     },
     "execution_count": 54,
     "metadata": {},
     "output_type": "execute_result"
    }
   ],
   "source": [
    "final.groupby(\"geo_accession\")[\"wormbase_id\"].nunique().value_counts()"
   ]
  },
  {
   "cell_type": "markdown",
   "metadata": {},
   "source": [
    "We now have a total of 12294 genes measured for all 104 samples."
   ]
  },
  {
   "cell_type": "markdown",
   "metadata": {},
   "source": [
    "## Save to file"
   ]
  },
  {
   "cell_type": "code",
   "execution_count": 55,
   "metadata": {
    "collapsed": true
   },
   "outputs": [],
   "source": [
    "final.to_csv(\"filtered_expression.tsv\", sep = '\\t', index = False)"
   ]
  }
 ],
 "metadata": {
  "kernelspec": {
   "display_name": "Python 3",
   "language": "python",
   "name": "python3"
  },
  "language_info": {
   "codemirror_mode": {
    "name": "ipython",
    "version": 3
   },
   "file_extension": ".py",
   "mimetype": "text/x-python",
   "name": "python",
   "nbconvert_exporter": "python",
   "pygments_lexer": "ipython3",
   "version": "3.4.2"
  }
 },
 "nbformat": 4,
 "nbformat_minor": 0
}
