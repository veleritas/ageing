{
 "cells": [
  {
   "cell_type": "markdown",
   "metadata": {},
   "source": [
    "# Resolve Affymetrix C. elegans Genome Array genes\n",
    "\n",
    "Tong Shu Li\n",
    "\n",
    "Convert probe ids in the Affymetrix C. elegans Genome Array platform ([GPL200](http://www.ncbi.nlm.nih.gov/geo/query/acc.cgi?acc=GPL200)) to WormBase identifiers.\n",
    "\n",
    "## Data Sources\n",
    "\n",
    "1. WormBase\n",
    "2. Affymetrix\n",
    "\n",
    "Both Affymetrix and WormBase provide data downloads of the probe identifier mappings. We will cross-reference these two independent sources to ensure our mappings are accurate."
   ]
  },
  {
   "cell_type": "code",
   "execution_count": 1,
   "metadata": {
    "collapsed": true
   },
   "outputs": [],
   "source": [
    "import numpy as np\n",
    "import pandas as pd\n",
    "\n",
    "from collections import defaultdict"
   ]
  },
  {
   "cell_type": "markdown",
   "metadata": {},
   "source": [
    "## Read the Affymetrix provided file\n",
    "\n",
    "File format:\n",
    "- Empty cells are denoted with `\"---\"`\n",
    "- Cells can have multiple entries; separated with `\" /// \"`"
   ]
  },
  {
   "cell_type": "code",
   "execution_count": 2,
   "metadata": {
    "collapsed": false
   },
   "outputs": [],
   "source": [
    "affy = (\n",
    "    pd.read_csv(\"Celegans.na35.annot.csv\", sep = ',', comment = '#')\n",
    "        .replace(to_replace = \"---\", value = np.nan)\n",
    "        .dropna(axis = 1, how = \"all\")\n",
    "        .rename(columns = lambda col: col.lower().replace(\" \", \"_\"))\n",
    "        .rename(columns = {\"probe_set_id\": \"probe_id\"})\n",
    ")"
   ]
  },
  {
   "cell_type": "code",
   "execution_count": 3,
   "metadata": {
    "collapsed": false
   },
   "outputs": [
    {
     "data": {
      "text/plain": [
       "(22625, 29)"
      ]
     },
     "execution_count": 3,
     "metadata": {},
     "output_type": "execute_result"
    }
   ],
   "source": [
    "affy.shape"
   ]
  },
  {
   "cell_type": "code",
   "execution_count": 4,
   "metadata": {
    "collapsed": false
   },
   "outputs": [
    {
     "data": {
      "text/html": [
       "<div>\n",
       "<table border=\"1\" class=\"dataframe\">\n",
       "  <thead>\n",
       "    <tr style=\"text-align: right;\">\n",
       "      <th></th>\n",
       "      <th>probe_id</th>\n",
       "      <th>genechip_array</th>\n",
       "      <th>species_scientific_name</th>\n",
       "      <th>annotation_date</th>\n",
       "      <th>sequence_type</th>\n",
       "      <th>sequence_source</th>\n",
       "      <th>transcript_id(array_design)</th>\n",
       "      <th>target_description</th>\n",
       "      <th>representative_public_id</th>\n",
       "      <th>unigene_id</th>\n",
       "      <th>...</th>\n",
       "      <th>refseq_transcript_id</th>\n",
       "      <th>wormbase</th>\n",
       "      <th>gene_ontology_biological_process</th>\n",
       "      <th>gene_ontology_cellular_component</th>\n",
       "      <th>gene_ontology_molecular_function</th>\n",
       "      <th>interpro</th>\n",
       "      <th>annotation_description</th>\n",
       "      <th>annotation_transcript_cluster</th>\n",
       "      <th>transcript_assignments</th>\n",
       "      <th>annotation_notes</th>\n",
       "    </tr>\n",
       "  </thead>\n",
       "  <tbody>\n",
       "    <tr>\n",
       "      <th>0</th>\n",
       "      <td>171720_x_at</td>\n",
       "      <td>C. elegans Genome Array</td>\n",
       "      <td>Caenorhabditis elegans</td>\n",
       "      <td>Oct 6, 2014</td>\n",
       "      <td>Exemplar sequence</td>\n",
       "      <td>Affymetrix Proprietary Database</td>\n",
       "      <td>affy.Ce.20641</td>\n",
       "      <td>AV179929_rc /REP_DB=TREMBL Accession /GB=AV179...</td>\n",
       "      <td>AV179929</td>\n",
       "      <td>Cel.20567</td>\n",
       "      <td>...</td>\n",
       "      <td>NM_064443 /// NM_182150</td>\n",
       "      <td>NaN</td>\n",
       "      <td>0000003 // reproduction // inferred from mutan...</td>\n",
       "      <td>NaN</td>\n",
       "      <td>0005515 // protein binding // inferred from el...</td>\n",
       "      <td>IPR000342 // Regulator of G protein signalling...</td>\n",
       "      <td>This probe set was annotated using the Matchin...</td>\n",
       "      <td>Y48E1B.14a</td>\n",
       "      <td>Y48E1B.14a // cdna:known chromosome:WBcel235:I...</td>\n",
       "      <td>NM_064443 // refseq // 8 // Cross Hyb Matching...</td>\n",
       "    </tr>\n",
       "    <tr>\n",
       "      <th>1</th>\n",
       "      <td>171721_x_at</td>\n",
       "      <td>C. elegans Genome Array</td>\n",
       "      <td>Caenorhabditis elegans</td>\n",
       "      <td>Oct 6, 2014</td>\n",
       "      <td>Exemplar sequence</td>\n",
       "      <td>GenBank</td>\n",
       "      <td>affy.Ce.22856</td>\n",
       "      <td>g6767 /REP_DB=GenBank Identifier /5_PRIME_EXT_...</td>\n",
       "      <td>6767</td>\n",
       "      <td>Cel.121</td>\n",
       "      <td>...</td>\n",
       "      <td>NM_059851 /// NM_171841</td>\n",
       "      <td>NaN</td>\n",
       "      <td>NaN</td>\n",
       "      <td>0005737 // cytoplasm // inferred from direct a...</td>\n",
       "      <td>0005515 // protein binding // inferred from ph...</td>\n",
       "      <td>IPR005373 // Uncharacterised protein family UP...</td>\n",
       "      <td>This probe set was annotated using the Matchin...</td>\n",
       "      <td>NM_059851(10),NM_171841(10),T01G9.2a,T01G9.2b</td>\n",
       "      <td>NM_059851 // Caenorhabditis elegans Protein T0...</td>\n",
       "      <td>NaN</td>\n",
       "    </tr>\n",
       "  </tbody>\n",
       "</table>\n",
       "<p>2 rows × 29 columns</p>\n",
       "</div>"
      ],
      "text/plain": [
       "      probe_id           genechip_array species_scientific_name  \\\n",
       "0  171720_x_at  C. elegans Genome Array  Caenorhabditis elegans   \n",
       "1  171721_x_at  C. elegans Genome Array  Caenorhabditis elegans   \n",
       "\n",
       "  annotation_date      sequence_type                  sequence_source  \\\n",
       "0     Oct 6, 2014  Exemplar sequence  Affymetrix Proprietary Database   \n",
       "1     Oct 6, 2014  Exemplar sequence                          GenBank   \n",
       "\n",
       "  transcript_id(array_design)  \\\n",
       "0               affy.Ce.20641   \n",
       "1               affy.Ce.22856   \n",
       "\n",
       "                                  target_description representative_public_id  \\\n",
       "0  AV179929_rc /REP_DB=TREMBL Accession /GB=AV179...                 AV179929   \n",
       "1  g6767 /REP_DB=GenBank Identifier /5_PRIME_EXT_...                     6767   \n",
       "\n",
       "  unigene_id                        ...                          \\\n",
       "0  Cel.20567                        ...                           \n",
       "1    Cel.121                        ...                           \n",
       "\n",
       "      refseq_transcript_id wormbase  \\\n",
       "0  NM_064443 /// NM_182150      NaN   \n",
       "1  NM_059851 /// NM_171841      NaN   \n",
       "\n",
       "                    gene_ontology_biological_process  \\\n",
       "0  0000003 // reproduction // inferred from mutan...   \n",
       "1                                                NaN   \n",
       "\n",
       "                    gene_ontology_cellular_component  \\\n",
       "0                                                NaN   \n",
       "1  0005737 // cytoplasm // inferred from direct a...   \n",
       "\n",
       "                    gene_ontology_molecular_function  \\\n",
       "0  0005515 // protein binding // inferred from el...   \n",
       "1  0005515 // protein binding // inferred from ph...   \n",
       "\n",
       "                                            interpro  \\\n",
       "0  IPR000342 // Regulator of G protein signalling...   \n",
       "1  IPR005373 // Uncharacterised protein family UP...   \n",
       "\n",
       "                              annotation_description  \\\n",
       "0  This probe set was annotated using the Matchin...   \n",
       "1  This probe set was annotated using the Matchin...   \n",
       "\n",
       "                   annotation_transcript_cluster  \\\n",
       "0                                     Y48E1B.14a   \n",
       "1  NM_059851(10),NM_171841(10),T01G9.2a,T01G9.2b   \n",
       "\n",
       "                              transcript_assignments  \\\n",
       "0  Y48E1B.14a // cdna:known chromosome:WBcel235:I...   \n",
       "1  NM_059851 // Caenorhabditis elegans Protein T0...   \n",
       "\n",
       "                                    annotation_notes  \n",
       "0  NM_064443 // refseq // 8 // Cross Hyb Matching...  \n",
       "1                                                NaN  \n",
       "\n",
       "[2 rows x 29 columns]"
      ]
     },
     "execution_count": 4,
     "metadata": {},
     "output_type": "execute_result"
    }
   ],
   "source": [
    "affy.head(2)"
   ]
  },
  {
   "cell_type": "code",
   "execution_count": 5,
   "metadata": {
    "collapsed": false
   },
   "outputs": [
    {
     "data": {
      "text/plain": [
       "22625"
      ]
     },
     "execution_count": 5,
     "metadata": {},
     "output_type": "execute_result"
    }
   ],
   "source": [
    "affy[\"probe_id\"].nunique()"
   ]
  },
  {
   "cell_type": "markdown",
   "metadata": {},
   "source": [
    "There are a total of 22625 probes on this chip."
   ]
  },
  {
   "cell_type": "markdown",
   "metadata": {},
   "source": [
    "## Read the WormBase provided file"
   ]
  },
  {
   "cell_type": "code",
   "execution_count": 6,
   "metadata": {
    "collapsed": true
   },
   "outputs": [],
   "source": [
    "wb = (\n",
    "    pd.read_csv(\"c_elegans.PRJNA13758.WS252.affy_oligo_mapping.txt\", sep = '\\t')\n",
    "        .rename(columns = str.lower)\n",
    "        .rename(columns = {\"oligo_set\": \"probe_id\"})\n",
    ")"
   ]
  },
  {
   "cell_type": "code",
   "execution_count": 7,
   "metadata": {
    "collapsed": false
   },
   "outputs": [
    {
     "data": {
      "text/plain": [
       "(23370, 7)"
      ]
     },
     "execution_count": 7,
     "metadata": {},
     "output_type": "execute_result"
    }
   ],
   "source": [
    "wb.shape"
   ]
  },
  {
   "cell_type": "code",
   "execution_count": 8,
   "metadata": {
    "collapsed": false
   },
   "outputs": [
    {
     "data": {
      "text/html": [
       "<div>\n",
       "<table border=\"1\" class=\"dataframe\">\n",
       "  <thead>\n",
       "    <tr style=\"text-align: right;\">\n",
       "      <th></th>\n",
       "      <th>probe_id</th>\n",
       "      <th>wbgeneid</th>\n",
       "      <th>gene_sequence_name</th>\n",
       "      <th>gene_type</th>\n",
       "      <th>microarray_type</th>\n",
       "      <th>targeted_isoforms</th>\n",
       "      <th>remark</th>\n",
       "    </tr>\n",
       "  </thead>\n",
       "  <tbody>\n",
       "    <tr>\n",
       "      <th>0</th>\n",
       "      <td>171720_x_at</td>\n",
       "      <td>WBGene00013011</td>\n",
       "      <td>Y48E1B.14</td>\n",
       "      <td>CDS</td>\n",
       "      <td>Y48E1B.14a|Y48E1B.14a</td>\n",
       "      <td>NaN</td>\n",
       "      <td>NaN</td>\n",
       "    </tr>\n",
       "    <tr>\n",
       "      <th>1</th>\n",
       "      <td>171721_x_at</td>\n",
       "      <td>WBGene00011344</td>\n",
       "      <td>T01G9.2</td>\n",
       "      <td>CDS</td>\n",
       "      <td>T01G9.2a|T01G9.2b|T01G9.2a|T01G9.2b</td>\n",
       "      <td>NaN</td>\n",
       "      <td>NaN</td>\n",
       "    </tr>\n",
       "    <tr>\n",
       "      <th>2</th>\n",
       "      <td>171722_x_at</td>\n",
       "      <td>WBGene00018934</td>\n",
       "      <td>F56B3.11</td>\n",
       "      <td>CDS</td>\n",
       "      <td>F56B3.11a|F56B3.11b|F56B3.11a|F56B3.11b</td>\n",
       "      <td>NaN</td>\n",
       "      <td>NaN</td>\n",
       "    </tr>\n",
       "    <tr>\n",
       "      <th>3</th>\n",
       "      <td>171723_x_at</td>\n",
       "      <td>WBGene00006927</td>\n",
       "      <td>F59D8.1</td>\n",
       "      <td>CDS</td>\n",
       "      <td>F59D8.1|F59D8.1</td>\n",
       "      <td>NaN</td>\n",
       "      <td>NaN</td>\n",
       "    </tr>\n",
       "    <tr>\n",
       "      <th>4</th>\n",
       "      <td>171723_x_at</td>\n",
       "      <td>WBGene00006928</td>\n",
       "      <td>F59D8.2</td>\n",
       "      <td>CDS</td>\n",
       "      <td>F59D8.2|F59D8.2</td>\n",
       "      <td>NaN</td>\n",
       "      <td>NaN</td>\n",
       "    </tr>\n",
       "  </tbody>\n",
       "</table>\n",
       "</div>"
      ],
      "text/plain": [
       "      probe_id        wbgeneid gene_sequence_name gene_type  \\\n",
       "0  171720_x_at  WBGene00013011          Y48E1B.14       CDS   \n",
       "1  171721_x_at  WBGene00011344            T01G9.2       CDS   \n",
       "2  171722_x_at  WBGene00018934           F56B3.11       CDS   \n",
       "3  171723_x_at  WBGene00006927            F59D8.1       CDS   \n",
       "4  171723_x_at  WBGene00006928            F59D8.2       CDS   \n",
       "\n",
       "                           microarray_type targeted_isoforms remark  \n",
       "0                    Y48E1B.14a|Y48E1B.14a               NaN    NaN  \n",
       "1      T01G9.2a|T01G9.2b|T01G9.2a|T01G9.2b               NaN    NaN  \n",
       "2  F56B3.11a|F56B3.11b|F56B3.11a|F56B3.11b               NaN    NaN  \n",
       "3                          F59D8.1|F59D8.1               NaN    NaN  \n",
       "4                          F59D8.2|F59D8.2               NaN    NaN  "
      ]
     },
     "execution_count": 8,
     "metadata": {},
     "output_type": "execute_result"
    }
   ],
   "source": [
    "wb.head()"
   ]
  },
  {
   "cell_type": "code",
   "execution_count": 9,
   "metadata": {
    "collapsed": false
   },
   "outputs": [
    {
     "data": {
      "text/plain": [
       "22560"
      ]
     },
     "execution_count": 9,
     "metadata": {},
     "output_type": "execute_result"
    }
   ],
   "source": [
    "wb[\"probe_id\"].nunique()"
   ]
  },
  {
   "cell_type": "markdown",
   "metadata": {},
   "source": [
    "The WormBase file has fewer probes."
   ]
  },
  {
   "cell_type": "markdown",
   "metadata": {},
   "source": [
    "## Examining file contents\n",
    "\n",
    "What information does each file contain?"
   ]
  },
  {
   "cell_type": "markdown",
   "metadata": {},
   "source": [
    "### Affy\n",
    "\n",
    "Looks like the `ensembl` column contains the WormBase identifiers."
   ]
  },
  {
   "cell_type": "code",
   "execution_count": 10,
   "metadata": {
    "collapsed": false
   },
   "outputs": [
    {
     "data": {
      "text/html": [
       "<div>\n",
       "<table border=\"1\" class=\"dataframe\">\n",
       "  <thead>\n",
       "    <tr style=\"text-align: right;\">\n",
       "      <th></th>\n",
       "      <th>probe_id</th>\n",
       "      <th>entrez_gene</th>\n",
       "      <th>wormbase</th>\n",
       "      <th>ensembl</th>\n",
       "    </tr>\n",
       "  </thead>\n",
       "  <tbody>\n",
       "    <tr>\n",
       "      <th>0</th>\n",
       "      <td>171720_x_at</td>\n",
       "      <td>174997</td>\n",
       "      <td>NaN</td>\n",
       "      <td>WBGene00013011</td>\n",
       "    </tr>\n",
       "    <tr>\n",
       "      <th>1</th>\n",
       "      <td>171721_x_at</td>\n",
       "      <td>172609</td>\n",
       "      <td>NaN</td>\n",
       "      <td>WBGene00011344</td>\n",
       "    </tr>\n",
       "    <tr>\n",
       "      <th>2</th>\n",
       "      <td>171722_x_at</td>\n",
       "      <td>176907</td>\n",
       "      <td>NaN</td>\n",
       "      <td>WBGene00018934</td>\n",
       "    </tr>\n",
       "    <tr>\n",
       "      <th>3</th>\n",
       "      <td>171723_x_at</td>\n",
       "      <td>180646</td>\n",
       "      <td>CE26817</td>\n",
       "      <td>WBGene00006928</td>\n",
       "    </tr>\n",
       "    <tr>\n",
       "      <th>4</th>\n",
       "      <td>171724_x_at</td>\n",
       "      <td>172353</td>\n",
       "      <td>CE11778</td>\n",
       "      <td>WBGene00000386</td>\n",
       "    </tr>\n",
       "  </tbody>\n",
       "</table>\n",
       "</div>"
      ],
      "text/plain": [
       "      probe_id entrez_gene wormbase         ensembl\n",
       "0  171720_x_at      174997      NaN  WBGene00013011\n",
       "1  171721_x_at      172609      NaN  WBGene00011344\n",
       "2  171722_x_at      176907      NaN  WBGene00018934\n",
       "3  171723_x_at      180646  CE26817  WBGene00006928\n",
       "4  171724_x_at      172353  CE11778  WBGene00000386"
      ]
     },
     "execution_count": 10,
     "metadata": {},
     "output_type": "execute_result"
    }
   ],
   "source": [
    "affy[[\"probe_id\", \"entrez_gene\", \"wormbase\", \"ensembl\"]].head()"
   ]
  },
  {
   "cell_type": "code",
   "execution_count": 11,
   "metadata": {
    "collapsed": false
   },
   "outputs": [
    {
     "data": {
      "text/plain": [
       "probe_id          0\n",
       "entrez_gene     684\n",
       "wormbase       5996\n",
       "ensembl         717\n",
       "dtype: int64"
      ]
     },
     "execution_count": 11,
     "metadata": {},
     "output_type": "execute_result"
    }
   ],
   "source": [
    "affy[[\"probe_id\", \"entrez_gene\", \"wormbase\", \"ensembl\"]].isnull().sum()"
   ]
  },
  {
   "cell_type": "markdown",
   "metadata": {},
   "source": [
    "Some probes have no WormBase identifiers."
   ]
  },
  {
   "cell_type": "markdown",
   "metadata": {},
   "source": [
    "### One WormBase identifier per probe?"
   ]
  },
  {
   "cell_type": "code",
   "execution_count": 12,
   "metadata": {
    "collapsed": false
   },
   "outputs": [
    {
     "data": {
      "text/plain": [
       "1.0     21005\n",
       "2.0       786\n",
       "3.0        72\n",
       "4.0        16\n",
       "5.0        14\n",
       "6.0         5\n",
       "7.0         3\n",
       "11.0        2\n",
       "8.0         2\n",
       "19.0        1\n",
       "17.0        1\n",
       "13.0        1\n",
       "Name: ensembl, dtype: int64"
      ]
     },
     "execution_count": 12,
     "metadata": {},
     "output_type": "execute_result"
    }
   ],
   "source": [
    "affy[\"ensembl\"].str.count(\"WBGene\").value_counts()"
   ]
  },
  {
   "cell_type": "markdown",
   "metadata": {},
   "source": [
    "Most of the probes map to one WormBase id, but some map to multiple, and some 717 have no mappings."
   ]
  },
  {
   "cell_type": "code",
   "execution_count": 13,
   "metadata": {
    "collapsed": false
   },
   "outputs": [
    {
     "data": {
      "text/html": [
       "<div>\n",
       "<table border=\"1\" class=\"dataframe\">\n",
       "  <thead>\n",
       "    <tr style=\"text-align: right;\">\n",
       "      <th></th>\n",
       "      <th>probe_id</th>\n",
       "      <th>entrez_gene</th>\n",
       "      <th>wormbase</th>\n",
       "      <th>ensembl</th>\n",
       "      <th>num</th>\n",
       "    </tr>\n",
       "  </thead>\n",
       "  <tbody>\n",
       "    <tr>\n",
       "      <th>36</th>\n",
       "      <td>171756_x_at</td>\n",
       "      <td>176528 /// 259336</td>\n",
       "      <td>CE20144 /// CE20148</td>\n",
       "      <td>WBGene00000667 /// WBGene00000669</td>\n",
       "      <td>2.0</td>\n",
       "    </tr>\n",
       "    <tr>\n",
       "      <th>47</th>\n",
       "      <td>171767_x_at</td>\n",
       "      <td>13183151</td>\n",
       "      <td>NaN</td>\n",
       "      <td>WBGene00004622 /// WBGene00004677</td>\n",
       "      <td>2.0</td>\n",
       "    </tr>\n",
       "    <tr>\n",
       "      <th>48</th>\n",
       "      <td>171768_x_at</td>\n",
       "      <td>179296 /// 179298</td>\n",
       "      <td>CE06699 /// CE30585</td>\n",
       "      <td>WBGene00000599 /// WBGene00000717</td>\n",
       "      <td>2.0</td>\n",
       "    </tr>\n",
       "    <tr>\n",
       "      <th>91</th>\n",
       "      <td>171811_s_at</td>\n",
       "      <td>179698 /// 179701</td>\n",
       "      <td>CE06046</td>\n",
       "      <td>WBGene00010466 /// WBGene00010474</td>\n",
       "      <td>2.0</td>\n",
       "    </tr>\n",
       "    <tr>\n",
       "      <th>102</th>\n",
       "      <td>171822_x_at</td>\n",
       "      <td>174578 /// 174603</td>\n",
       "      <td>CE01568 /// CE02343</td>\n",
       "      <td>WBGene00001683 /// WBGene00001686</td>\n",
       "      <td>2.0</td>\n",
       "    </tr>\n",
       "  </tbody>\n",
       "</table>\n",
       "</div>"
      ],
      "text/plain": [
       "        probe_id        entrez_gene             wormbase  \\\n",
       "36   171756_x_at  176528 /// 259336  CE20144 /// CE20148   \n",
       "47   171767_x_at           13183151                  NaN   \n",
       "48   171768_x_at  179296 /// 179298  CE06699 /// CE30585   \n",
       "91   171811_s_at  179698 /// 179701              CE06046   \n",
       "102  171822_x_at  174578 /// 174603  CE01568 /// CE02343   \n",
       "\n",
       "                               ensembl  num  \n",
       "36   WBGene00000667 /// WBGene00000669  2.0  \n",
       "47   WBGene00004622 /// WBGene00004677  2.0  \n",
       "48   WBGene00000599 /// WBGene00000717  2.0  \n",
       "91   WBGene00010466 /// WBGene00010474  2.0  \n",
       "102  WBGene00001683 /// WBGene00001686  2.0  "
      ]
     },
     "execution_count": 13,
     "metadata": {},
     "output_type": "execute_result"
    }
   ],
   "source": [
    "# examine probes with multiple mappings\n",
    "(\n",
    "    affy[[\"probe_id\", \"entrez_gene\", \"wormbase\", \"ensembl\"]]\n",
    "        .assign(\n",
    "            num = lambda df:\n",
    "                df[\"ensembl\"].str.count(\"WBGene\")\n",
    "        )\n",
    "        .query(\"num > 1\")\n",
    "        .head()\n",
    ")"
   ]
  },
  {
   "cell_type": "markdown",
   "metadata": {},
   "source": [
    "For the probes which map to multiple isoforms of a gene, we will need to extract the individual identifiers."
   ]
  },
  {
   "cell_type": "markdown",
   "metadata": {},
   "source": [
    "### WormBase"
   ]
  },
  {
   "cell_type": "code",
   "execution_count": 14,
   "metadata": {
    "collapsed": false
   },
   "outputs": [
    {
     "data": {
      "text/plain": [
       "probe_id                  0\n",
       "wbgeneid                  0\n",
       "gene_sequence_name      759\n",
       "gene_type               759\n",
       "microarray_type         723\n",
       "targeted_isoforms     23130\n",
       "remark                23094\n",
       "dtype: int64"
      ]
     },
     "execution_count": 14,
     "metadata": {},
     "output_type": "execute_result"
    }
   ],
   "source": [
    "wb.isnull().sum()"
   ]
  },
  {
   "cell_type": "markdown",
   "metadata": {},
   "source": [
    "No probes or WormBase ids have missing entries."
   ]
  },
  {
   "cell_type": "code",
   "execution_count": 15,
   "metadata": {
    "collapsed": false
   },
   "outputs": [
    {
     "data": {
      "text/plain": [
       "no overlapping gene    759\n",
       "WBGene00006751          10\n",
       "WBGene00000065           9\n",
       "WBGene00003467           9\n",
       "WBGene00014857           9\n",
       "Name: wbgeneid, dtype: int64"
      ]
     },
     "execution_count": 15,
     "metadata": {},
     "output_type": "execute_result"
    }
   ],
   "source": [
    "wb[\"wbgeneid\"].value_counts().head()"
   ]
  },
  {
   "cell_type": "markdown",
   "metadata": {},
   "source": [
    "However we notice that 759 probes are determined to not real genes according to WormBase."
   ]
  },
  {
   "cell_type": "code",
   "execution_count": 16,
   "metadata": {
    "collapsed": false
   },
   "outputs": [
    {
     "data": {
      "text/plain": [
       "14    22611\n",
       "19      759\n",
       "Name: wbgeneid, dtype: int64"
      ]
     },
     "execution_count": 16,
     "metadata": {},
     "output_type": "execute_result"
    }
   ],
   "source": [
    "wb[\"wbgeneid\"].str.len().value_counts()"
   ]
  },
  {
   "cell_type": "markdown",
   "metadata": {},
   "source": [
    "All cells contain only an individual WormBase id, except for those which are denoted as empty."
   ]
  },
  {
   "cell_type": "code",
   "execution_count": 17,
   "metadata": {
    "collapsed": false
   },
   "outputs": [
    {
     "data": {
      "text/plain": [
       "18279"
      ]
     },
     "execution_count": 17,
     "metadata": {},
     "output_type": "execute_result"
    }
   ],
   "source": [
    "wb[\"wbgeneid\"].nunique()"
   ]
  },
  {
   "cell_type": "markdown",
   "metadata": {},
   "source": [
    "Notice from above too that some WormBase genes have multiple probes on the chip."
   ]
  },
  {
   "cell_type": "code",
   "execution_count": 18,
   "metadata": {
    "collapsed": false
   },
   "outputs": [],
   "source": [
    "wb[\"wbgeneid\"] = wb[\"wbgeneid\"].replace(\"no overlapping gene\", np.nan)"
   ]
  },
  {
   "cell_type": "markdown",
   "metadata": {},
   "source": [
    "---"
   ]
  },
  {
   "cell_type": "markdown",
   "metadata": {},
   "source": [
    "## Combine mappings\n",
    "\n",
    "We will generate a set of WormBase identifiers for each probe, and check that the sets match between the Affy and WormBase files."
   ]
  },
  {
   "cell_type": "code",
   "execution_count": 19,
   "metadata": {
    "collapsed": false
   },
   "outputs": [
    {
     "data": {
      "text/plain": [
       "True"
      ]
     },
     "execution_count": 19,
     "metadata": {},
     "output_type": "execute_result"
    }
   ],
   "source": [
    "set(affy[\"probe_id\"]) > set(wb[\"probe_id\"])"
   ]
  },
  {
   "cell_type": "markdown",
   "metadata": {},
   "source": [
    "The Affymetrix probe set is a strict superset of the WormBase probes. We will therefore need to provide a mapping for all 22625 probes in the Affy file."
   ]
  },
  {
   "cell_type": "markdown",
   "metadata": {},
   "source": [
    "### Generate the set of WormBase ids for each probe"
   ]
  },
  {
   "cell_type": "code",
   "execution_count": 20,
   "metadata": {
    "collapsed": true
   },
   "outputs": [],
   "source": [
    "affy_map = defaultdict(set)\n",
    "\n",
    "for probe, uid in zip(affy[\"probe_id\"], affy[\"ensembl\"]):\n",
    "    if isinstance(uid, str):\n",
    "        affy_map[probe] |= set(uid.split(\" /// \"))\n",
    "    elif probe not in affy_map:\n",
    "        affy_map[probe] = set()"
   ]
  },
  {
   "cell_type": "code",
   "execution_count": 21,
   "metadata": {
    "collapsed": true
   },
   "outputs": [],
   "source": [
    "wb_map = defaultdict(set)\n",
    "\n",
    "for probe, uid in zip(wb[\"probe_id\"], wb[\"wbgeneid\"]):\n",
    "    if isinstance(uid, str):\n",
    "        wb_map[probe].add(uid)\n",
    "    elif probe not in wb_map:\n",
    "        wb_map[probe] = set()"
   ]
  },
  {
   "cell_type": "markdown",
   "metadata": {},
   "source": [
    "### Combined mapping results:"
   ]
  },
  {
   "cell_type": "code",
   "execution_count": 22,
   "metadata": {
    "collapsed": true
   },
   "outputs": [],
   "source": [
    "res = pd.DataFrame(\n",
    "    [\n",
    "        (\n",
    "            probe, len(affy_set), len(wb_map[probe]),\n",
    "            affy_set == wb_map[probe], len(affy_set - wb_map[probe]), len(wb_map[probe] - affy_set)\n",
    "        )\n",
    "        for probe, affy_set in affy_map.items()\n",
    "    ],\n",
    "    columns = [\"probe_id\", \"num_affy\", \"num_wb\", \"vals_eq\", \"affy_only\", \"wb_only\"]\n",
    ").sort_values(\"probe_id\").reset_index(drop = True)"
   ]
  },
  {
   "cell_type": "code",
   "execution_count": 23,
   "metadata": {
    "collapsed": false
   },
   "outputs": [
    {
     "data": {
      "text/plain": [
       "(22625, 6)"
      ]
     },
     "execution_count": 23,
     "metadata": {},
     "output_type": "execute_result"
    }
   ],
   "source": [
    "res.shape"
   ]
  },
  {
   "cell_type": "code",
   "execution_count": 24,
   "metadata": {
    "collapsed": false
   },
   "outputs": [
    {
     "data": {
      "text/html": [
       "<div>\n",
       "<table border=\"1\" class=\"dataframe\">\n",
       "  <thead>\n",
       "    <tr style=\"text-align: right;\">\n",
       "      <th></th>\n",
       "      <th>probe_id</th>\n",
       "      <th>num_affy</th>\n",
       "      <th>num_wb</th>\n",
       "      <th>vals_eq</th>\n",
       "      <th>affy_only</th>\n",
       "      <th>wb_only</th>\n",
       "    </tr>\n",
       "  </thead>\n",
       "  <tbody>\n",
       "    <tr>\n",
       "      <th>0</th>\n",
       "      <td>171720_x_at</td>\n",
       "      <td>1</td>\n",
       "      <td>1</td>\n",
       "      <td>True</td>\n",
       "      <td>0</td>\n",
       "      <td>0</td>\n",
       "    </tr>\n",
       "    <tr>\n",
       "      <th>1</th>\n",
       "      <td>171721_x_at</td>\n",
       "      <td>1</td>\n",
       "      <td>1</td>\n",
       "      <td>True</td>\n",
       "      <td>0</td>\n",
       "      <td>0</td>\n",
       "    </tr>\n",
       "    <tr>\n",
       "      <th>2</th>\n",
       "      <td>171722_x_at</td>\n",
       "      <td>1</td>\n",
       "      <td>1</td>\n",
       "      <td>True</td>\n",
       "      <td>0</td>\n",
       "      <td>0</td>\n",
       "    </tr>\n",
       "    <tr>\n",
       "      <th>3</th>\n",
       "      <td>171723_x_at</td>\n",
       "      <td>1</td>\n",
       "      <td>2</td>\n",
       "      <td>False</td>\n",
       "      <td>0</td>\n",
       "      <td>1</td>\n",
       "    </tr>\n",
       "    <tr>\n",
       "      <th>4</th>\n",
       "      <td>171724_x_at</td>\n",
       "      <td>1</td>\n",
       "      <td>1</td>\n",
       "      <td>True</td>\n",
       "      <td>0</td>\n",
       "      <td>0</td>\n",
       "    </tr>\n",
       "  </tbody>\n",
       "</table>\n",
       "</div>"
      ],
      "text/plain": [
       "      probe_id  num_affy  num_wb vals_eq  affy_only  wb_only\n",
       "0  171720_x_at         1       1    True          0        0\n",
       "1  171721_x_at         1       1    True          0        0\n",
       "2  171722_x_at         1       1    True          0        0\n",
       "3  171723_x_at         1       2   False          0        1\n",
       "4  171724_x_at         1       1    True          0        0"
      ]
     },
     "execution_count": 24,
     "metadata": {},
     "output_type": "execute_result"
    }
   ],
   "source": [
    "res.head()"
   ]
  },
  {
   "cell_type": "code",
   "execution_count": 25,
   "metadata": {
    "collapsed": false
   },
   "outputs": [
    {
     "data": {
      "text/plain": [
       "(602, 6)"
      ]
     },
     "execution_count": 25,
     "metadata": {},
     "output_type": "execute_result"
    }
   ],
   "source": [
    "res.query(\"num_affy == 0 and num_wb == 0\").shape"
   ]
  },
  {
   "cell_type": "markdown",
   "metadata": {},
   "source": [
    "602 probes have no WormBase id mapping in either file."
   ]
  },
  {
   "cell_type": "markdown",
   "metadata": {},
   "source": [
    "### How many probes have agreeing mappings?\n",
    "\n",
    "We exclude the probes which have no WormBase ids."
   ]
  },
  {
   "cell_type": "code",
   "execution_count": 26,
   "metadata": {
    "collapsed": false
   },
   "outputs": [
    {
     "data": {
      "text/plain": [
       "True     20575\n",
       "False     1448\n",
       "Name: vals_eq, dtype: int64"
      ]
     },
     "execution_count": 26,
     "metadata": {},
     "output_type": "execute_result"
    }
   ],
   "source": [
    "res.query(\"num_affy > 0 or num_wb > 0\")[\"vals_eq\"].value_counts()"
   ]
  },
  {
   "cell_type": "markdown",
   "metadata": {},
   "source": [
    "There are 20575 probes which have agreeing mappings in both files. The rest do not, and some probes have no mappings."
   ]
  },
  {
   "cell_type": "markdown",
   "metadata": {},
   "source": [
    "## Summarize results\n",
    "\n",
    "We will only save the probes with existing mappings that agree in both sources. All other probes are ignored."
   ]
  },
  {
   "cell_type": "code",
   "execution_count": 27,
   "metadata": {
    "collapsed": false
   },
   "outputs": [],
   "source": [
    "final = pd.DataFrame(\n",
    "    [\n",
    "        (probe, val)\n",
    "        for probe in res.query(\"vals_eq & (num_affy + num_wb) > 0\")[\"probe_id\"]\n",
    "            for val in affy_map[probe]\n",
    "    ],\n",
    "    columns = [\"probe_id\", \"wormbase_id\"]\n",
    ").sort_values([\"wormbase_id\", \"probe_id\"]).reset_index(drop = True)"
   ]
  },
  {
   "cell_type": "code",
   "execution_count": 28,
   "metadata": {
    "collapsed": false
   },
   "outputs": [
    {
     "data": {
      "text/plain": [
       "(20841, 2)"
      ]
     },
     "execution_count": 28,
     "metadata": {},
     "output_type": "execute_result"
    }
   ],
   "source": [
    "final.shape"
   ]
  },
  {
   "cell_type": "code",
   "execution_count": 29,
   "metadata": {
    "collapsed": false
   },
   "outputs": [
    {
     "data": {
      "text/html": [
       "<div>\n",
       "<table border=\"1\" class=\"dataframe\">\n",
       "  <thead>\n",
       "    <tr style=\"text-align: right;\">\n",
       "      <th></th>\n",
       "      <th>probe_id</th>\n",
       "      <th>wormbase_id</th>\n",
       "    </tr>\n",
       "  </thead>\n",
       "  <tbody>\n",
       "    <tr>\n",
       "      <th>0</th>\n",
       "      <td>187171_s_at</td>\n",
       "      <td>WBGene00000001</td>\n",
       "    </tr>\n",
       "    <tr>\n",
       "      <th>1</th>\n",
       "      <td>192458_at</td>\n",
       "      <td>WBGene00000002</td>\n",
       "    </tr>\n",
       "    <tr>\n",
       "      <th>2</th>\n",
       "      <td>190092_at</td>\n",
       "      <td>WBGene00000003</td>\n",
       "    </tr>\n",
       "    <tr>\n",
       "      <th>3</th>\n",
       "      <td>190053_at</td>\n",
       "      <td>WBGene00000004</td>\n",
       "    </tr>\n",
       "    <tr>\n",
       "      <th>4</th>\n",
       "      <td>190396_s_at</td>\n",
       "      <td>WBGene00000005</td>\n",
       "    </tr>\n",
       "  </tbody>\n",
       "</table>\n",
       "</div>"
      ],
      "text/plain": [
       "      probe_id     wormbase_id\n",
       "0  187171_s_at  WBGene00000001\n",
       "1    192458_at  WBGene00000002\n",
       "2    190092_at  WBGene00000003\n",
       "3    190053_at  WBGene00000004\n",
       "4  190396_s_at  WBGene00000005"
      ]
     },
     "execution_count": 29,
     "metadata": {},
     "output_type": "execute_result"
    }
   ],
   "source": [
    "final.head()"
   ]
  },
  {
   "cell_type": "code",
   "execution_count": 30,
   "metadata": {
    "collapsed": false
   },
   "outputs": [
    {
     "data": {
      "text/plain": [
       "20575"
      ]
     },
     "execution_count": 30,
     "metadata": {},
     "output_type": "execute_result"
    }
   ],
   "source": [
    "final[\"probe_id\"].nunique()"
   ]
  },
  {
   "cell_type": "code",
   "execution_count": 31,
   "metadata": {
    "collapsed": false
   },
   "outputs": [
    {
     "data": {
      "text/plain": [
       "17281"
      ]
     },
     "execution_count": 31,
     "metadata": {},
     "output_type": "execute_result"
    }
   ],
   "source": [
    "final[\"wormbase_id\"].nunique()"
   ]
  },
  {
   "cell_type": "markdown",
   "metadata": {},
   "source": [
    "## Save to file"
   ]
  },
  {
   "cell_type": "code",
   "execution_count": 32,
   "metadata": {
    "collapsed": true
   },
   "outputs": [],
   "source": [
    "final.to_csv(\"GPL200_wormbase_map.tsv\", sep = '\\t', index = False)"
   ]
  }
 ],
 "metadata": {
  "kernelspec": {
   "display_name": "Python 3",
   "language": "python",
   "name": "python3"
  },
  "language_info": {
   "codemirror_mode": {
    "name": "ipython",
    "version": 3
   },
   "file_extension": ".py",
   "mimetype": "text/x-python",
   "name": "python",
   "nbconvert_exporter": "python",
   "pygments_lexer": "ipython3",
   "version": "3.4.3"
  }
 },
 "nbformat": 4,
 "nbformat_minor": 0
}
