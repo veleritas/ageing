{
 "cells": [
  {
   "cell_type": "markdown",
   "metadata": {},
   "source": [
    "# Parse Affy C. elegans Genome Array annotations\n",
    "\n",
    "Tong Shu Li\n",
    "\n",
    "Parse out the annotations for each probe for the Affymetrix C. elegans Genome Array platform ([GPL200](http://www.ncbi.nlm.nih.gov/geo/query/acc.cgi?acc=GPL200))."
   ]
  },
  {
   "cell_type": "code",
   "execution_count": 1,
   "metadata": {
    "collapsed": true
   },
   "outputs": [],
   "source": [
    "import numpy as np\n",
    "import pandas as pd"
   ]
  },
  {
   "cell_type": "markdown",
   "metadata": {},
   "source": [
    "## Read the annotation file:\n",
    "\n",
    "1. Replaces the delimiter for empty ('---') with NaN\n",
    "2. Drop any completely empty columns"
   ]
  },
  {
   "cell_type": "code",
   "execution_count": 2,
   "metadata": {
    "collapsed": false
   },
   "outputs": [],
   "source": [
    "affy = (\n",
    "    pd.read_csv(\"Celegans.na35.annot.csv\", sep = ',', comment = '#')\n",
    "        .replace(to_replace = \"---\", value = np.nan)\n",
    "        .dropna(axis = 1, how = \"all\")\n",
    "        .rename(columns = lambda col: col.lower().replace(\" \", \"_\"))\n",
    ")"
   ]
  },
  {
   "cell_type": "code",
   "execution_count": 3,
   "metadata": {
    "collapsed": false
   },
   "outputs": [
    {
     "data": {
      "text/plain": [
       "(22625, 29)"
      ]
     },
     "execution_count": 3,
     "metadata": {},
     "output_type": "execute_result"
    }
   ],
   "source": [
    "affy.shape"
   ]
  },
  {
   "cell_type": "code",
   "execution_count": 4,
   "metadata": {
    "collapsed": false
   },
   "outputs": [
    {
     "data": {
      "text/html": [
       "<div>\n",
       "<table border=\"1\" class=\"dataframe\">\n",
       "  <thead>\n",
       "    <tr style=\"text-align: right;\">\n",
       "      <th></th>\n",
       "      <th>probe_set_id</th>\n",
       "      <th>genechip_array</th>\n",
       "      <th>species_scientific_name</th>\n",
       "      <th>annotation_date</th>\n",
       "      <th>sequence_type</th>\n",
       "      <th>sequence_source</th>\n",
       "      <th>transcript_id(array_design)</th>\n",
       "      <th>target_description</th>\n",
       "      <th>representative_public_id</th>\n",
       "      <th>unigene_id</th>\n",
       "      <th>...</th>\n",
       "      <th>refseq_transcript_id</th>\n",
       "      <th>wormbase</th>\n",
       "      <th>gene_ontology_biological_process</th>\n",
       "      <th>gene_ontology_cellular_component</th>\n",
       "      <th>gene_ontology_molecular_function</th>\n",
       "      <th>interpro</th>\n",
       "      <th>annotation_description</th>\n",
       "      <th>annotation_transcript_cluster</th>\n",
       "      <th>transcript_assignments</th>\n",
       "      <th>annotation_notes</th>\n",
       "    </tr>\n",
       "  </thead>\n",
       "  <tbody>\n",
       "    <tr>\n",
       "      <th>0</th>\n",
       "      <td>171720_x_at</td>\n",
       "      <td>C. elegans Genome Array</td>\n",
       "      <td>Caenorhabditis elegans</td>\n",
       "      <td>Oct 6, 2014</td>\n",
       "      <td>Exemplar sequence</td>\n",
       "      <td>Affymetrix Proprietary Database</td>\n",
       "      <td>affy.Ce.20641</td>\n",
       "      <td>AV179929_rc /REP_DB=TREMBL Accession /GB=AV179...</td>\n",
       "      <td>AV179929</td>\n",
       "      <td>Cel.20567</td>\n",
       "      <td>...</td>\n",
       "      <td>NM_064443 /// NM_182150</td>\n",
       "      <td>NaN</td>\n",
       "      <td>0000003 // reproduction // inferred from mutan...</td>\n",
       "      <td>NaN</td>\n",
       "      <td>0005515 // protein binding // inferred from el...</td>\n",
       "      <td>IPR000342 // Regulator of G protein signalling...</td>\n",
       "      <td>This probe set was annotated using the Matchin...</td>\n",
       "      <td>Y48E1B.14a</td>\n",
       "      <td>Y48E1B.14a // cdna:known chromosome:WBcel235:I...</td>\n",
       "      <td>NM_064443 // refseq // 8 // Cross Hyb Matching...</td>\n",
       "    </tr>\n",
       "    <tr>\n",
       "      <th>1</th>\n",
       "      <td>171721_x_at</td>\n",
       "      <td>C. elegans Genome Array</td>\n",
       "      <td>Caenorhabditis elegans</td>\n",
       "      <td>Oct 6, 2014</td>\n",
       "      <td>Exemplar sequence</td>\n",
       "      <td>GenBank</td>\n",
       "      <td>affy.Ce.22856</td>\n",
       "      <td>g6767 /REP_DB=GenBank Identifier /5_PRIME_EXT_...</td>\n",
       "      <td>6767</td>\n",
       "      <td>Cel.121</td>\n",
       "      <td>...</td>\n",
       "      <td>NM_059851 /// NM_171841</td>\n",
       "      <td>NaN</td>\n",
       "      <td>NaN</td>\n",
       "      <td>0005737 // cytoplasm // inferred from direct a...</td>\n",
       "      <td>0005515 // protein binding // inferred from ph...</td>\n",
       "      <td>IPR005373 // Uncharacterised protein family UP...</td>\n",
       "      <td>This probe set was annotated using the Matchin...</td>\n",
       "      <td>NM_059851(10),NM_171841(10),T01G9.2a,T01G9.2b</td>\n",
       "      <td>NM_059851 // Caenorhabditis elegans Protein T0...</td>\n",
       "      <td>NaN</td>\n",
       "    </tr>\n",
       "  </tbody>\n",
       "</table>\n",
       "<p>2 rows × 29 columns</p>\n",
       "</div>"
      ],
      "text/plain": [
       "  probe_set_id           genechip_array species_scientific_name  \\\n",
       "0  171720_x_at  C. elegans Genome Array  Caenorhabditis elegans   \n",
       "1  171721_x_at  C. elegans Genome Array  Caenorhabditis elegans   \n",
       "\n",
       "  annotation_date      sequence_type                  sequence_source  \\\n",
       "0     Oct 6, 2014  Exemplar sequence  Affymetrix Proprietary Database   \n",
       "1     Oct 6, 2014  Exemplar sequence                          GenBank   \n",
       "\n",
       "  transcript_id(array_design)  \\\n",
       "0               affy.Ce.20641   \n",
       "1               affy.Ce.22856   \n",
       "\n",
       "                                  target_description representative_public_id  \\\n",
       "0  AV179929_rc /REP_DB=TREMBL Accession /GB=AV179...                 AV179929   \n",
       "1  g6767 /REP_DB=GenBank Identifier /5_PRIME_EXT_...                     6767   \n",
       "\n",
       "  unigene_id                        ...                          \\\n",
       "0  Cel.20567                        ...                           \n",
       "1    Cel.121                        ...                           \n",
       "\n",
       "      refseq_transcript_id wormbase  \\\n",
       "0  NM_064443 /// NM_182150      NaN   \n",
       "1  NM_059851 /// NM_171841      NaN   \n",
       "\n",
       "                    gene_ontology_biological_process  \\\n",
       "0  0000003 // reproduction // inferred from mutan...   \n",
       "1                                                NaN   \n",
       "\n",
       "                    gene_ontology_cellular_component  \\\n",
       "0                                                NaN   \n",
       "1  0005737 // cytoplasm // inferred from direct a...   \n",
       "\n",
       "                    gene_ontology_molecular_function  \\\n",
       "0  0005515 // protein binding // inferred from el...   \n",
       "1  0005515 // protein binding // inferred from ph...   \n",
       "\n",
       "                                            interpro  \\\n",
       "0  IPR000342 // Regulator of G protein signalling...   \n",
       "1  IPR005373 // Uncharacterised protein family UP...   \n",
       "\n",
       "                              annotation_description  \\\n",
       "0  This probe set was annotated using the Matchin...   \n",
       "1  This probe set was annotated using the Matchin...   \n",
       "\n",
       "                   annotation_transcript_cluster  \\\n",
       "0                                     Y48E1B.14a   \n",
       "1  NM_059851(10),NM_171841(10),T01G9.2a,T01G9.2b   \n",
       "\n",
       "                              transcript_assignments  \\\n",
       "0  Y48E1B.14a // cdna:known chromosome:WBcel235:I...   \n",
       "1  NM_059851 // Caenorhabditis elegans Protein T0...   \n",
       "\n",
       "                                    annotation_notes  \n",
       "0  NM_064443 // refseq // 8 // Cross Hyb Matching...  \n",
       "1                                                NaN  \n",
       "\n",
       "[2 rows x 29 columns]"
      ]
     },
     "execution_count": 4,
     "metadata": {},
     "output_type": "execute_result"
    }
   ],
   "source": [
    "affy.head(2)"
   ]
  },
  {
   "cell_type": "markdown",
   "metadata": {},
   "source": [
    "## How many empty cells per column?"
   ]
  },
  {
   "cell_type": "code",
   "execution_count": 5,
   "metadata": {
    "collapsed": false
   },
   "outputs": [
    {
     "data": {
      "text/plain": [
       "probe_set_id                            0\n",
       "genechip_array                          0\n",
       "species_scientific_name                 0\n",
       "annotation_date                         0\n",
       "sequence_type                           0\n",
       "sequence_source                         0\n",
       "transcript_id(array_design)             0\n",
       "target_description                      0\n",
       "representative_public_id                0\n",
       "unigene_id                           1346\n",
       "genome_version                          0\n",
       "alignments                            323\n",
       "gene_title                            684\n",
       "gene_symbol                           684\n",
       "unigene_cluster_type                 1351\n",
       "ensembl                               717\n",
       "entrez_gene                           684\n",
       "swissprot                            1703\n",
       "refseq_protein_id                    1185\n",
       "refseq_transcript_id                 1164\n",
       "wormbase                             5996\n",
       "gene_ontology_biological_process     9976\n",
       "gene_ontology_cellular_component    14188\n",
       "gene_ontology_molecular_function    10554\n",
       "interpro                             7291\n",
       "annotation_description                  0\n",
       "annotation_transcript_cluster           0\n",
       "transcript_assignments                  0\n",
       "annotation_notes                    19507\n",
       "dtype: int64"
      ]
     },
     "execution_count": 5,
     "metadata": {},
     "output_type": "execute_result"
    }
   ],
   "source": [
    "affy.isnull().sum()"
   ]
  },
  {
   "cell_type": "markdown",
   "metadata": {},
   "source": [
    "## Check if any ID mappings are missing\n",
    "\n",
    "We want to ideally map from the proprietary Affymetrix IDs to public identifiers. The most well known databases from the available information would be Wormbase, Entrez gene, and Emsembl.\n",
    "\n",
    "Let's check if these identifiers are missing for any of the probes:"
   ]
  },
  {
   "cell_type": "code",
   "execution_count": 6,
   "metadata": {
    "collapsed": false
   },
   "outputs": [
    {
     "data": {
      "text/html": [
       "<div>\n",
       "<table border=\"1\" class=\"dataframe\">\n",
       "  <thead>\n",
       "    <tr style=\"text-align: right;\">\n",
       "      <th></th>\n",
       "      <th></th>\n",
       "      <th></th>\n",
       "      <th># Missing</th>\n",
       "    </tr>\n",
       "    <tr>\n",
       "      <th>ensembl</th>\n",
       "      <th>entrez_gene</th>\n",
       "      <th>wormbase</th>\n",
       "      <th></th>\n",
       "    </tr>\n",
       "  </thead>\n",
       "  <tbody>\n",
       "    <tr>\n",
       "      <th rowspan=\"3\" valign=\"top\">False</th>\n",
       "      <th rowspan=\"2\" valign=\"top\">False</th>\n",
       "      <th>False</th>\n",
       "      <td>16580</td>\n",
       "    </tr>\n",
       "    <tr>\n",
       "      <th>True</th>\n",
       "      <td>5238</td>\n",
       "    </tr>\n",
       "    <tr>\n",
       "      <th>True</th>\n",
       "      <th>True</th>\n",
       "      <td>90</td>\n",
       "    </tr>\n",
       "    <tr>\n",
       "      <th rowspan=\"3\" valign=\"top\">True</th>\n",
       "      <th rowspan=\"2\" valign=\"top\">False</th>\n",
       "      <th>False</th>\n",
       "      <td>49</td>\n",
       "    </tr>\n",
       "    <tr>\n",
       "      <th>True</th>\n",
       "      <td>74</td>\n",
       "    </tr>\n",
       "    <tr>\n",
       "      <th>True</th>\n",
       "      <th>True</th>\n",
       "      <td>594</td>\n",
       "    </tr>\n",
       "  </tbody>\n",
       "</table>\n",
       "</div>"
      ],
      "text/plain": [
       "                              # Missing\n",
       "ensembl entrez_gene wormbase           \n",
       "False   False       False         16580\n",
       "                    True           5238\n",
       "        True        True             90\n",
       "True    False       False            49\n",
       "                    True             74\n",
       "        True        True            594"
      ]
     },
     "execution_count": 6,
     "metadata": {},
     "output_type": "execute_result"
    }
   ],
   "source": [
    "(\n",
    "    affy[[\"probe_set_id\", \"entrez_gene\", \"wormbase\", \"ensembl\"]]\n",
    "        .isnull()\n",
    "        .groupby([\"ensembl\", \"entrez_gene\", \"wormbase\"], as_index = False)\n",
    "        .size()\n",
    "        .rename(\"# Missing\")\n",
    "        .to_frame()\n",
    ")"
   ]
  },
  {
   "cell_type": "markdown",
   "metadata": {},
   "source": [
    "Some 594 probe ids do not have mappable ids. Hand examination of these specific probes reveals that the `Representative Public ID` column can be used to identify the probed gene. However, these identifiers are not guaranteed to be unique."
   ]
  },
  {
   "cell_type": "markdown",
   "metadata": {},
   "source": [
    "## Annotate genes\n",
    "\n",
    "We will resort to providing as many possible identifier mappings as we can for all the probes, and leave it to later processing to determine if we want to discard any probes due to missing mappings."
   ]
  },
  {
   "cell_type": "code",
   "execution_count": 7,
   "metadata": {
    "collapsed": true
   },
   "outputs": [],
   "source": [
    "ids = (\n",
    "    affy[[\n",
    "        \"probe_set_id\", \"entrez_gene\", \"wormbase\",\n",
    "        \"ensembl\", \"representative_public_id\"\n",
    "    ]]\n",
    "    .rename(\n",
    "        columns = {\n",
    "            \"probe_set_id\": \"probe_id\",\n",
    "            \"entrez_gene\": \"entrez_id\",\n",
    "            \"wormbase\": \"wormbase_id\",\n",
    "            \"ensembl\": \"ensembl_id\",\n",
    "            \"representative_public_id\": \"other_id\"\n",
    "        }\n",
    "    )\n",
    ")"
   ]
  },
  {
   "cell_type": "code",
   "execution_count": 8,
   "metadata": {
    "collapsed": false
   },
   "outputs": [
    {
     "data": {
      "text/plain": [
       "(22625, 5)"
      ]
     },
     "execution_count": 8,
     "metadata": {},
     "output_type": "execute_result"
    }
   ],
   "source": [
    "ids.shape"
   ]
  },
  {
   "cell_type": "code",
   "execution_count": 9,
   "metadata": {
    "collapsed": false
   },
   "outputs": [
    {
     "data": {
      "text/html": [
       "<div>\n",
       "<table border=\"1\" class=\"dataframe\">\n",
       "  <thead>\n",
       "    <tr style=\"text-align: right;\">\n",
       "      <th></th>\n",
       "      <th>probe_id</th>\n",
       "      <th>entrez_id</th>\n",
       "      <th>wormbase_id</th>\n",
       "      <th>ensembl_id</th>\n",
       "      <th>other_id</th>\n",
       "    </tr>\n",
       "  </thead>\n",
       "  <tbody>\n",
       "    <tr>\n",
       "      <th>0</th>\n",
       "      <td>171720_x_at</td>\n",
       "      <td>174997</td>\n",
       "      <td>NaN</td>\n",
       "      <td>WBGene00013011</td>\n",
       "      <td>AV179929</td>\n",
       "    </tr>\n",
       "    <tr>\n",
       "      <th>1</th>\n",
       "      <td>171721_x_at</td>\n",
       "      <td>172609</td>\n",
       "      <td>NaN</td>\n",
       "      <td>WBGene00011344</td>\n",
       "      <td>6767</td>\n",
       "    </tr>\n",
       "    <tr>\n",
       "      <th>2</th>\n",
       "      <td>171722_x_at</td>\n",
       "      <td>176907</td>\n",
       "      <td>NaN</td>\n",
       "      <td>WBGene00018934</td>\n",
       "      <td>AV189310</td>\n",
       "    </tr>\n",
       "    <tr>\n",
       "      <th>3</th>\n",
       "      <td>171723_x_at</td>\n",
       "      <td>180646</td>\n",
       "      <td>CE26817</td>\n",
       "      <td>WBGene00006928</td>\n",
       "      <td>CEC7564</td>\n",
       "    </tr>\n",
       "    <tr>\n",
       "      <th>4</th>\n",
       "      <td>171724_x_at</td>\n",
       "      <td>172353</td>\n",
       "      <td>CE11778</td>\n",
       "      <td>WBGene00000386</td>\n",
       "      <td>AV178012</td>\n",
       "    </tr>\n",
       "  </tbody>\n",
       "</table>\n",
       "</div>"
      ],
      "text/plain": [
       "      probe_id entrez_id wormbase_id      ensembl_id  other_id\n",
       "0  171720_x_at    174997         NaN  WBGene00013011  AV179929\n",
       "1  171721_x_at    172609         NaN  WBGene00011344      6767\n",
       "2  171722_x_at    176907         NaN  WBGene00018934  AV189310\n",
       "3  171723_x_at    180646     CE26817  WBGene00006928   CEC7564\n",
       "4  171724_x_at    172353     CE11778  WBGene00000386  AV178012"
      ]
     },
     "execution_count": 9,
     "metadata": {},
     "output_type": "execute_result"
    }
   ],
   "source": [
    "ids.head()"
   ]
  },
  {
   "cell_type": "markdown",
   "metadata": {},
   "source": [
    "This identifier mapping is far from satisfactory, so we will use the probe ids as the main unique ids and then worry about mappings later.."
   ]
  },
  {
   "cell_type": "markdown",
   "metadata": {
    "collapsed": true
   },
   "source": [
    "## Save to file"
   ]
  },
  {
   "cell_type": "code",
   "execution_count": 10,
   "metadata": {
    "collapsed": true
   },
   "outputs": [],
   "source": [
    "ids.to_csv(\"GPL200_id_mapping.tsv\", sep = '\\t', index = False)"
   ]
  }
 ],
 "metadata": {
  "kernelspec": {
   "display_name": "Python 3",
   "language": "python",
   "name": "python3"
  },
  "language_info": {
   "codemirror_mode": {
    "name": "ipython",
    "version": 3
   },
   "file_extension": ".py",
   "mimetype": "text/x-python",
   "name": "python",
   "nbconvert_exporter": "python",
   "pygments_lexer": "ipython3",
   "version": "3.4.3"
  }
 },
 "nbformat": 4,
 "nbformat_minor": 0
}
