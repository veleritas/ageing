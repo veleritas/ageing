{
 "cells": [
  {
   "cell_type": "markdown",
   "metadata": {},
   "source": [
    "# Preliminary data cleaning for *Currais et al.*\n",
    "\n",
    "Tong Shu Li\n",
    "\n",
    "We clean up the data in [PMID:26564964](http://www.ncbi.nlm.nih.gov/pubmed/26564964) for analysis. We remove any genes with zero expression so that drift can be calculated.\n",
    "\n",
    "## Data source\n",
    "\n",
    "The raw data for [PMID:26564964](http://www.ncbi.nlm.nih.gov/pubmed/26564964) can be downloaded from [GSE69244](http://www.ncbi.nlm.nih.gov/geo/query/acc.cgi?acc=GSE69244).\n",
    "\n",
    "The original raw data had 12 mouse samples, 4 for each of the three conditions: young reference, old untreated mice, and old treated mice.\n",
    "\n",
    "However, the public GSE69244 data has two mice removed: old J147 treated mouse replicate 4, and old control mouse replicate 1. The data Michael sent me has corrupted gene id names (things like \"March9\" converted to the date 9-Mar by Excel).\n",
    "\n",
    "For these reasons, I will go with the published GSE file, since these data are already public.\n",
    "\n",
    "We can use the raw counts of each gene directly, since normalization to the FPKM divides each value by the same constant, which is irrelevant when calculating drift."
   ]
  },
  {
   "cell_type": "code",
   "execution_count": 1,
   "metadata": {
    "collapsed": true
   },
   "outputs": [],
   "source": [
    "import numpy as np\n",
    "import pandas as pd\n",
    "import seaborn as sns"
   ]
  },
  {
   "cell_type": "code",
   "execution_count": 2,
   "metadata": {
    "collapsed": true
   },
   "outputs": [],
   "source": [
    "%matplotlib inline"
   ]
  },
  {
   "cell_type": "markdown",
   "metadata": {},
   "source": [
    "## Read the raw gene counts"
   ]
  },
  {
   "cell_type": "code",
   "execution_count": 3,
   "metadata": {
    "collapsed": false
   },
   "outputs": [],
   "source": [
    "raw = pd.read_csv(\"GSE69244_count_matrix.csv\", sep = ',')"
   ]
  },
  {
   "cell_type": "code",
   "execution_count": 4,
   "metadata": {
    "collapsed": false
   },
   "outputs": [
    {
     "data": {
      "text/plain": [
       "(24015, 11)"
      ]
     },
     "execution_count": 4,
     "metadata": {},
     "output_type": "execute_result"
    }
   ],
   "source": [
    "raw.shape"
   ]
  },
  {
   "cell_type": "code",
   "execution_count": 5,
   "metadata": {
    "collapsed": true
   },
   "outputs": [],
   "source": [
    "raw = raw.rename(columns = {\"Gene\": \"gene_id\"})"
   ]
  },
  {
   "cell_type": "code",
   "execution_count": 6,
   "metadata": {
    "collapsed": false,
    "scrolled": false
   },
   "outputs": [
    {
     "data": {
      "text/html": [
       "<div>\n",
       "<table border=\"1\" class=\"dataframe\">\n",
       "  <thead>\n",
       "    <tr style=\"text-align: right;\">\n",
       "      <th></th>\n",
       "      <th>gene_id</th>\n",
       "      <th>old_J147.1</th>\n",
       "      <th>old_J147.2</th>\n",
       "      <th>old_J147.3</th>\n",
       "      <th>old_untreated.1</th>\n",
       "      <th>old_untreated.2</th>\n",
       "      <th>old_untreated.3</th>\n",
       "      <th>young.1</th>\n",
       "      <th>young.2</th>\n",
       "      <th>young.3</th>\n",
       "      <th>young.4</th>\n",
       "    </tr>\n",
       "  </thead>\n",
       "  <tbody>\n",
       "    <tr>\n",
       "      <th>0</th>\n",
       "      <td>Xkr4</td>\n",
       "      <td>92</td>\n",
       "      <td>141</td>\n",
       "      <td>169</td>\n",
       "      <td>64</td>\n",
       "      <td>87</td>\n",
       "      <td>84</td>\n",
       "      <td>113</td>\n",
       "      <td>147</td>\n",
       "      <td>62</td>\n",
       "      <td>93</td>\n",
       "    </tr>\n",
       "    <tr>\n",
       "      <th>1</th>\n",
       "      <td>Rp1</td>\n",
       "      <td>0</td>\n",
       "      <td>0</td>\n",
       "      <td>1</td>\n",
       "      <td>1</td>\n",
       "      <td>1</td>\n",
       "      <td>1</td>\n",
       "      <td>1</td>\n",
       "      <td>1</td>\n",
       "      <td>0</td>\n",
       "      <td>2</td>\n",
       "    </tr>\n",
       "    <tr>\n",
       "      <th>2</th>\n",
       "      <td>Sox17</td>\n",
       "      <td>80</td>\n",
       "      <td>106</td>\n",
       "      <td>95</td>\n",
       "      <td>88</td>\n",
       "      <td>82</td>\n",
       "      <td>95</td>\n",
       "      <td>65</td>\n",
       "      <td>85</td>\n",
       "      <td>70</td>\n",
       "      <td>74</td>\n",
       "    </tr>\n",
       "    <tr>\n",
       "      <th>3</th>\n",
       "      <td>Mrpl15</td>\n",
       "      <td>421</td>\n",
       "      <td>405</td>\n",
       "      <td>395</td>\n",
       "      <td>402</td>\n",
       "      <td>370</td>\n",
       "      <td>370</td>\n",
       "      <td>295</td>\n",
       "      <td>319</td>\n",
       "      <td>212</td>\n",
       "      <td>356</td>\n",
       "    </tr>\n",
       "    <tr>\n",
       "      <th>4</th>\n",
       "      <td>Lypla1</td>\n",
       "      <td>309</td>\n",
       "      <td>290</td>\n",
       "      <td>362</td>\n",
       "      <td>311</td>\n",
       "      <td>295</td>\n",
       "      <td>337</td>\n",
       "      <td>241</td>\n",
       "      <td>263</td>\n",
       "      <td>158</td>\n",
       "      <td>288</td>\n",
       "    </tr>\n",
       "  </tbody>\n",
       "</table>\n",
       "</div>"
      ],
      "text/plain": [
       "  gene_id  old_J147.1  old_J147.2  old_J147.3  old_untreated.1  \\\n",
       "0    Xkr4          92         141         169               64   \n",
       "1     Rp1           0           0           1                1   \n",
       "2   Sox17          80         106          95               88   \n",
       "3  Mrpl15         421         405         395              402   \n",
       "4  Lypla1         309         290         362              311   \n",
       "\n",
       "   old_untreated.2  old_untreated.3  young.1  young.2  young.3  young.4  \n",
       "0               87               84      113      147       62       93  \n",
       "1                1                1        1        1        0        2  \n",
       "2               82               95       65       85       70       74  \n",
       "3              370              370      295      319      212      356  \n",
       "4              295              337      241      263      158      288  "
      ]
     },
     "execution_count": 6,
     "metadata": {},
     "output_type": "execute_result"
    }
   ],
   "source": [
    "raw.head()"
   ]
  },
  {
   "cell_type": "markdown",
   "metadata": {},
   "source": [
    "---"
   ]
  },
  {
   "cell_type": "markdown",
   "metadata": {},
   "source": [
    "## Read the MGI gene mapping information\n",
    "\n",
    "We will assign a MGI identifier to each gene so that we can exmaine the Gene Ontology annotations later on in the analysis.\n",
    "\n",
    "The file `MRK_List2.rpt` is downloaded from ftp://ftp.informatics.jax.org/pub/reports/MRK_List2.rpt"
   ]
  },
  {
   "cell_type": "code",
   "execution_count": 7,
   "metadata": {
    "collapsed": true
   },
   "outputs": [],
   "source": [
    "mgi = pd.read_csv(\"MRK_List2.rpt\", sep = '\\t')"
   ]
  },
  {
   "cell_type": "code",
   "execution_count": 8,
   "metadata": {
    "collapsed": false
   },
   "outputs": [
    {
     "data": {
      "text/plain": [
       "(128881, 12)"
      ]
     },
     "execution_count": 8,
     "metadata": {},
     "output_type": "execute_result"
    }
   ],
   "source": [
    "mgi.shape"
   ]
  },
  {
   "cell_type": "code",
   "execution_count": 9,
   "metadata": {
    "collapsed": false
   },
   "outputs": [
    {
     "data": {
      "text/html": [
       "<div>\n",
       "<table border=\"1\" class=\"dataframe\">\n",
       "  <thead>\n",
       "    <tr style=\"text-align: right;\">\n",
       "      <th></th>\n",
       "      <th>MGI Accession ID</th>\n",
       "      <th>Chr</th>\n",
       "      <th>cM Position</th>\n",
       "      <th>genome coordinate start</th>\n",
       "      <th>genome coordinate end</th>\n",
       "      <th>strand</th>\n",
       "      <th>Marker Symbol</th>\n",
       "      <th>Status</th>\n",
       "      <th>Marker Name</th>\n",
       "      <th>Marker Type</th>\n",
       "      <th>Feature Type</th>\n",
       "      <th>Marker Synonyms (pipe-separated)</th>\n",
       "    </tr>\n",
       "  </thead>\n",
       "  <tbody>\n",
       "    <tr>\n",
       "      <th>0</th>\n",
       "      <td>MGI:1341858</td>\n",
       "      <td>5</td>\n",
       "      <td>syntenic</td>\n",
       "      <td>NaN</td>\n",
       "      <td>NaN</td>\n",
       "      <td>NaN</td>\n",
       "      <td>03B03F</td>\n",
       "      <td>O</td>\n",
       "      <td>DNA segment, 03B03F (Research Genetics)</td>\n",
       "      <td>BAC/YAC end</td>\n",
       "      <td>BAC/YAC end</td>\n",
       "      <td>NaN</td>\n",
       "    </tr>\n",
       "    <tr>\n",
       "      <th>1</th>\n",
       "      <td>MGI:1341869</td>\n",
       "      <td>5</td>\n",
       "      <td>syntenic</td>\n",
       "      <td>NaN</td>\n",
       "      <td>NaN</td>\n",
       "      <td>NaN</td>\n",
       "      <td>03B03R</td>\n",
       "      <td>O</td>\n",
       "      <td>DNA segment, 03B03R (Research Genetics)</td>\n",
       "      <td>BAC/YAC end</td>\n",
       "      <td>BAC/YAC end</td>\n",
       "      <td>NaN</td>\n",
       "    </tr>\n",
       "    <tr>\n",
       "      <th>2</th>\n",
       "      <td>MGI:1337005</td>\n",
       "      <td>11</td>\n",
       "      <td>syntenic</td>\n",
       "      <td>NaN</td>\n",
       "      <td>NaN</td>\n",
       "      <td>NaN</td>\n",
       "      <td>03.MMHAP34FRA.seq</td>\n",
       "      <td>O</td>\n",
       "      <td>DNA segment, 03.MMHAP34FRA.seq</td>\n",
       "      <td>DNA Segment</td>\n",
       "      <td>DNA segment</td>\n",
       "      <td>NaN</td>\n",
       "    </tr>\n",
       "    <tr>\n",
       "      <th>3</th>\n",
       "      <td>MGI:1918911</td>\n",
       "      <td>7</td>\n",
       "      <td>29.36</td>\n",
       "      <td>45567795.0</td>\n",
       "      <td>45575176.0</td>\n",
       "      <td>-</td>\n",
       "      <td>0610005C13Rik</td>\n",
       "      <td>O</td>\n",
       "      <td>RIKEN cDNA 0610005C13 gene</td>\n",
       "      <td>Gene</td>\n",
       "      <td>lncRNA gene</td>\n",
       "      <td>NaN</td>\n",
       "    </tr>\n",
       "    <tr>\n",
       "      <th>4</th>\n",
       "      <td>MGI:1923503</td>\n",
       "      <td>7</td>\n",
       "      <td>syntenic</td>\n",
       "      <td>74823614.0</td>\n",
       "      <td>74853809.0</td>\n",
       "      <td>NaN</td>\n",
       "      <td>0610006L08Rik</td>\n",
       "      <td>O</td>\n",
       "      <td>RIKEN cDNA 0610006L08 gene</td>\n",
       "      <td>Gene</td>\n",
       "      <td>lincRNA gene</td>\n",
       "      <td>NaN</td>\n",
       "    </tr>\n",
       "  </tbody>\n",
       "</table>\n",
       "</div>"
      ],
      "text/plain": [
       "  MGI Accession ID Chr cM Position  genome coordinate start  \\\n",
       "0      MGI:1341858   5    syntenic                      NaN   \n",
       "1      MGI:1341869   5    syntenic                      NaN   \n",
       "2      MGI:1337005  11    syntenic                      NaN   \n",
       "3      MGI:1918911   7       29.36               45567795.0   \n",
       "4      MGI:1923503   7    syntenic               74823614.0   \n",
       "\n",
       "   genome coordinate end strand      Marker Symbol Status  \\\n",
       "0                    NaN    NaN             03B03F      O   \n",
       "1                    NaN    NaN             03B03R      O   \n",
       "2                    NaN    NaN  03.MMHAP34FRA.seq      O   \n",
       "3             45575176.0      -      0610005C13Rik      O   \n",
       "4             74853809.0    NaN      0610006L08Rik      O   \n",
       "\n",
       "                               Marker Name  Marker Type  Feature Type  \\\n",
       "0  DNA segment, 03B03F (Research Genetics)  BAC/YAC end   BAC/YAC end   \n",
       "1  DNA segment, 03B03R (Research Genetics)  BAC/YAC end   BAC/YAC end   \n",
       "2           DNA segment, 03.MMHAP34FRA.seq  DNA Segment   DNA segment   \n",
       "3               RIKEN cDNA 0610005C13 gene         Gene   lncRNA gene   \n",
       "4               RIKEN cDNA 0610006L08 gene         Gene  lincRNA gene   \n",
       "\n",
       "  Marker Synonyms (pipe-separated)  \n",
       "0                              NaN  \n",
       "1                              NaN  \n",
       "2                              NaN  \n",
       "3                              NaN  \n",
       "4                              NaN  "
      ]
     },
     "execution_count": 9,
     "metadata": {},
     "output_type": "execute_result"
    }
   ],
   "source": [
    "mgi.head()"
   ]
  },
  {
   "cell_type": "markdown",
   "metadata": {},
   "source": [
    "## Create gene name mapping dict\n",
    "\n",
    "Since genes can be synonyms of one another, we will prefer the official gene symbol before we use a synonym.\n",
    "\n",
    "For example, the gene \"Pex2\" may refer to [MGI:107486](http://www.informatics.jax.org/marker/MGI:107486) or [MGI:1916672](http://www.informatics.jax.org/marker/MGI:1916672).\n",
    "\n",
    "For the first option, Pex2 is the official gene symbol, while for the second gene, Pex2 is a synonym and not the official gene symbol. In this case, we will map Pex2 to MGI:107486, since it matches the official gene symbol."
   ]
  },
  {
   "cell_type": "code",
   "execution_count": 10,
   "metadata": {
    "collapsed": true
   },
   "outputs": [],
   "source": [
    "def get_mapping():\n",
    "    official = dict()\n",
    "    synonyms = dict()\n",
    "\n",
    "    for idx, row in mgi.iterrows():\n",
    "        mgi_id = row[\"MGI Accession ID\"]\n",
    "        symbol = row[\"Marker Symbol\"]\n",
    "        \n",
    "        official[symbol] = mgi_id\n",
    "\n",
    "        temp = row[\"Marker Synonyms (pipe-separated)\"]\n",
    "        if isinstance(temp, str):\n",
    "            vals = temp.split(\"|\")\n",
    "            for val in vals:\n",
    "                synonyms[val] = mgi_id\n",
    "                \n",
    "    return (official, synonyms)"
   ]
  },
  {
   "cell_type": "code",
   "execution_count": 11,
   "metadata": {
    "collapsed": true
   },
   "outputs": [],
   "source": [
    "off, syn = get_mapping()"
   ]
  },
  {
   "cell_type": "code",
   "execution_count": 12,
   "metadata": {
    "collapsed": false
   },
   "outputs": [
    {
     "data": {
      "text/plain": [
       "128594"
      ]
     },
     "execution_count": 12,
     "metadata": {},
     "output_type": "execute_result"
    }
   ],
   "source": [
    "len(off)"
   ]
  },
  {
   "cell_type": "code",
   "execution_count": 13,
   "metadata": {
    "collapsed": false
   },
   "outputs": [
    {
     "data": {
      "text/plain": [
       "82932"
      ]
     },
     "execution_count": 13,
     "metadata": {},
     "output_type": "execute_result"
    }
   ],
   "source": [
    "len(syn)"
   ]
  },
  {
   "cell_type": "code",
   "execution_count": 14,
   "metadata": {
    "collapsed": false
   },
   "outputs": [
    {
     "data": {
      "text/plain": [
       "824"
      ]
     },
     "execution_count": 14,
     "metadata": {},
     "output_type": "execute_result"
    }
   ],
   "source": [
    "len(set(off.keys()) & set(syn.keys()))"
   ]
  },
  {
   "cell_type": "markdown",
   "metadata": {},
   "source": [
    "There are 824 gene names which are both official gene names and synonyms for other genes. An exmaple is \"109F12R\", which maps to both [MGI:1860916](http://www.informatics.jax.org/marker/MGI:1860916) and [MGI:1343125](http://www.informatics.jax.org/marker/MGI:1343125)."
   ]
  },
  {
   "cell_type": "code",
   "execution_count": 15,
   "metadata": {
    "collapsed": true
   },
   "outputs": [],
   "source": [
    "# create one mapping with no redundancy\n",
    "mapping = off.copy()\n",
    "for key, val in syn.items():\n",
    "    if key not in mapping:\n",
    "        mapping[key] = val"
   ]
  },
  {
   "cell_type": "code",
   "execution_count": 16,
   "metadata": {
    "collapsed": false
   },
   "outputs": [
    {
     "data": {
      "text/plain": [
       "210702"
      ]
     },
     "execution_count": 16,
     "metadata": {},
     "output_type": "execute_result"
    }
   ],
   "source": [
    "len(mapping)"
   ]
  },
  {
   "cell_type": "code",
   "execution_count": 17,
   "metadata": {
    "collapsed": false
   },
   "outputs": [
    {
     "data": {
      "text/plain": [
       "23923"
      ]
     },
     "execution_count": 17,
     "metadata": {},
     "output_type": "execute_result"
    }
   ],
   "source": [
    "# number of genes which have mappings\n",
    "len(set(raw[\"gene_id\"]) & set(mapping.keys()))"
   ]
  },
  {
   "cell_type": "code",
   "execution_count": 18,
   "metadata": {
    "collapsed": false
   },
   "outputs": [
    {
     "data": {
      "text/plain": [
       "24015"
      ]
     },
     "execution_count": 18,
     "metadata": {},
     "output_type": "execute_result"
    }
   ],
   "source": [
    "raw[\"gene_id\"].nunique()"
   ]
  },
  {
   "cell_type": "code",
   "execution_count": 19,
   "metadata": {
    "collapsed": false,
    "scrolled": true
   },
   "outputs": [
    {
     "data": {
      "text/plain": [
       "{'0610010B08Rik',\n",
       " '1700024F13Rik',\n",
       " '4931412M21',\n",
       " 'A230073K19Rik',\n",
       " 'A630020A06',\n",
       " 'AU018829',\n",
       " 'C230029M16',\n",
       " 'Cistr-act',\n",
       " 'D130058E03',\n",
       " 'E030019B06Rik',\n",
       " 'Esp6-esp5',\n",
       " 'Evi2a-evi2b',\n",
       " 'Gm11570',\n",
       " 'Gm13308',\n",
       " 'Gm17757',\n",
       " 'Jmjd7-pla2g4b',\n",
       " 'Klra33',\n",
       " 'LOC100038947',\n",
       " 'LOC100040786',\n",
       " 'LOC100043315',\n",
       " 'LOC100048884',\n",
       " 'LOC100502896',\n",
       " 'LOC100503280',\n",
       " 'LOC100503496',\n",
       " 'LOC100503676',\n",
       " 'LOC100504039',\n",
       " 'LOC100504608',\n",
       " 'LOC100504703',\n",
       " 'LOC100505025',\n",
       " 'LOC100861615',\n",
       " 'LOC100861978',\n",
       " 'LOC100862015',\n",
       " 'LOC100862268',\n",
       " 'LOC101055769',\n",
       " 'LOC101055863',\n",
       " 'LOC101056043',\n",
       " 'LOC101056136',\n",
       " 'LOC101056149',\n",
       " 'LOC101056236',\n",
       " 'LOC101243624',\n",
       " 'LOC101669761',\n",
       " 'LOC102308570',\n",
       " 'LOC102631757',\n",
       " 'LOC102632423',\n",
       " 'LOC102632430',\n",
       " 'LOC102633035',\n",
       " 'LOC102633315',\n",
       " 'LOC102634101',\n",
       " 'LOC102634401',\n",
       " 'LOC102634431',\n",
       " 'LOC102634753',\n",
       " 'LOC102635087',\n",
       " 'LOC102636514',\n",
       " 'LOC106740',\n",
       " 'LOC171588',\n",
       " 'LOC381967',\n",
       " 'LOC547349',\n",
       " 'LOC666331',\n",
       " 'Lincrna-cox2',\n",
       " 'Mir126',\n",
       " 'Mir145',\n",
       " 'Mir1843',\n",
       " 'Mir190',\n",
       " 'Mir193',\n",
       " 'Mir195',\n",
       " 'Mir21',\n",
       " 'Mir219-1',\n",
       " 'Mir219-2',\n",
       " 'Mir290',\n",
       " 'Mir299',\n",
       " 'Mir3073',\n",
       " 'Mir3473',\n",
       " 'Mir374',\n",
       " 'Mir451',\n",
       " 'Mir4660',\n",
       " 'Mir496',\n",
       " 'Mir692-2a',\n",
       " 'Mir873',\n",
       " 'Mirlet7j',\n",
       " 'Mirlet7k',\n",
       " 'Nup62-il4i1',\n",
       " 'OTTMUSG00000016609',\n",
       " 'Pcdha4-g',\n",
       " 'Raver1-fdx1l',\n",
       " 'Rbm14-rbm4',\n",
       " 'Rn45s',\n",
       " 'Slc10a3-ubl4',\n",
       " 'Tnfsf12Tnfsf13',\n",
       " 'Vmn1r186',\n",
       " 'Vmn1r187',\n",
       " 'Zbtbd6',\n",
       " 'Zf12'}"
      ]
     },
     "execution_count": 19,
     "metadata": {},
     "output_type": "execute_result"
    }
   ],
   "source": [
    "# gene names without mappings to MGI ids\n",
    "set(raw[\"gene_id\"]) - set(mapping.keys())"
   ]
  },
  {
   "cell_type": "code",
   "execution_count": 20,
   "metadata": {
    "collapsed": false
   },
   "outputs": [
    {
     "data": {
      "text/plain": [
       "92"
      ]
     },
     "execution_count": 20,
     "metadata": {},
     "output_type": "execute_result"
    }
   ],
   "source": [
    "len(set(raw[\"gene_id\"]) - set(mapping.keys()))"
   ]
  },
  {
   "cell_type": "markdown",
   "metadata": {},
   "source": [
    "Of the 24015 genes in the dataset, we could not map 92 of the genes to a MGI identifier. Since 23923 of 24015 genes (99.6%) could be mapped, we will not worry about the remaining 92 unmappable genes."
   ]
  },
  {
   "cell_type": "markdown",
   "metadata": {},
   "source": [
    "## Map genes to MGI identifier"
   ]
  },
  {
   "cell_type": "code",
   "execution_count": 21,
   "metadata": {
    "collapsed": true
   },
   "outputs": [],
   "source": [
    "raw[\"mgi_id\"] = raw[\"gene_id\"].map(\n",
    "    lambda v: mapping[v] if v in mapping else \"unknown\"\n",
    ")"
   ]
  },
  {
   "cell_type": "code",
   "execution_count": 22,
   "metadata": {
    "collapsed": false
   },
   "outputs": [
    {
     "data": {
      "text/plain": [
       "unknown        92\n",
       "MGI:2685821     3\n",
       "MGI:3780250     2\n",
       "MGI:1341833     2\n",
       "MGI:3031268     2\n",
       "MGI:1346342     2\n",
       "MGI:2443973     2\n",
       "MGI:3040687     2\n",
       "MGI:1920574     2\n",
       "MGI:3690448     2\n",
       "MGI:2139758     2\n",
       "MGI:1924923     2\n",
       "MGI:2686021     2\n",
       "MGI:2384034     2\n",
       "MGI:1918708     2\n",
       "Name: mgi_id, dtype: int64"
      ]
     },
     "execution_count": 22,
     "metadata": {},
     "output_type": "execute_result"
    }
   ],
   "source": [
    "temp = raw[\"mgi_id\"].value_counts()\n",
    "temp[temp > 1]"
   ]
  },
  {
   "cell_type": "markdown",
   "metadata": {},
   "source": [
    "Some genes seem to have been measured multiple times."
   ]
  },
  {
   "cell_type": "code",
   "execution_count": 23,
   "metadata": {
    "collapsed": false,
    "scrolled": true
   },
   "outputs": [
    {
     "data": {
      "text/html": [
       "<div>\n",
       "<table border=\"1\" class=\"dataframe\">\n",
       "  <thead>\n",
       "    <tr style=\"text-align: right;\">\n",
       "      <th></th>\n",
       "      <th>gene_id</th>\n",
       "      <th>old_J147.1</th>\n",
       "      <th>old_J147.2</th>\n",
       "      <th>old_J147.3</th>\n",
       "      <th>old_untreated.1</th>\n",
       "      <th>old_untreated.2</th>\n",
       "      <th>old_untreated.3</th>\n",
       "      <th>young.1</th>\n",
       "      <th>young.2</th>\n",
       "      <th>young.3</th>\n",
       "      <th>young.4</th>\n",
       "      <th>mgi_id</th>\n",
       "    </tr>\n",
       "  </thead>\n",
       "  <tbody>\n",
       "    <tr>\n",
       "      <th>887</th>\n",
       "      <td>Lincrna-cox2</td>\n",
       "      <td>2</td>\n",
       "      <td>3</td>\n",
       "      <td>4</td>\n",
       "      <td>2</td>\n",
       "      <td>4</td>\n",
       "      <td>2</td>\n",
       "      <td>5</td>\n",
       "      <td>3</td>\n",
       "      <td>1</td>\n",
       "      <td>4</td>\n",
       "      <td>unknown</td>\n",
       "    </tr>\n",
       "    <tr>\n",
       "      <th>1715</th>\n",
       "      <td>LOC102634101</td>\n",
       "      <td>10</td>\n",
       "      <td>2</td>\n",
       "      <td>8</td>\n",
       "      <td>10</td>\n",
       "      <td>4</td>\n",
       "      <td>13</td>\n",
       "      <td>4</td>\n",
       "      <td>6</td>\n",
       "      <td>5</td>\n",
       "      <td>5</td>\n",
       "      <td>unknown</td>\n",
       "    </tr>\n",
       "    <tr>\n",
       "      <th>2243</th>\n",
       "      <td>C230029M16</td>\n",
       "      <td>8</td>\n",
       "      <td>6</td>\n",
       "      <td>0</td>\n",
       "      <td>4</td>\n",
       "      <td>6</td>\n",
       "      <td>4</td>\n",
       "      <td>1</td>\n",
       "      <td>2</td>\n",
       "      <td>4</td>\n",
       "      <td>3</td>\n",
       "      <td>unknown</td>\n",
       "    </tr>\n",
       "    <tr>\n",
       "      <th>2289</th>\n",
       "      <td>LOC100504608</td>\n",
       "      <td>3</td>\n",
       "      <td>2</td>\n",
       "      <td>3</td>\n",
       "      <td>2</td>\n",
       "      <td>0</td>\n",
       "      <td>3</td>\n",
       "      <td>3</td>\n",
       "      <td>0</td>\n",
       "      <td>1</td>\n",
       "      <td>3</td>\n",
       "      <td>unknown</td>\n",
       "    </tr>\n",
       "    <tr>\n",
       "      <th>2295</th>\n",
       "      <td>LOC100504703</td>\n",
       "      <td>8</td>\n",
       "      <td>6</td>\n",
       "      <td>6</td>\n",
       "      <td>9</td>\n",
       "      <td>12</td>\n",
       "      <td>3</td>\n",
       "      <td>7</td>\n",
       "      <td>11</td>\n",
       "      <td>4</td>\n",
       "      <td>3</td>\n",
       "      <td>unknown</td>\n",
       "    </tr>\n",
       "    <tr>\n",
       "      <th>3120</th>\n",
       "      <td>Tnfsf12Tnfsf13</td>\n",
       "      <td>0</td>\n",
       "      <td>0</td>\n",
       "      <td>0</td>\n",
       "      <td>0</td>\n",
       "      <td>0</td>\n",
       "      <td>0</td>\n",
       "      <td>0</td>\n",
       "      <td>0</td>\n",
       "      <td>0</td>\n",
       "      <td>0</td>\n",
       "      <td>unknown</td>\n",
       "    </tr>\n",
       "    <tr>\n",
       "      <th>3164</th>\n",
       "      <td>Mir195</td>\n",
       "      <td>0</td>\n",
       "      <td>0</td>\n",
       "      <td>0</td>\n",
       "      <td>0</td>\n",
       "      <td>0</td>\n",
       "      <td>0</td>\n",
       "      <td>0</td>\n",
       "      <td>0</td>\n",
       "      <td>0</td>\n",
       "      <td>0</td>\n",
       "      <td>unknown</td>\n",
       "    </tr>\n",
       "    <tr>\n",
       "      <th>3357</th>\n",
       "      <td>Mir451</td>\n",
       "      <td>0</td>\n",
       "      <td>0</td>\n",
       "      <td>0</td>\n",
       "      <td>0</td>\n",
       "      <td>0</td>\n",
       "      <td>0</td>\n",
       "      <td>0</td>\n",
       "      <td>0</td>\n",
       "      <td>0</td>\n",
       "      <td>0</td>\n",
       "      <td>unknown</td>\n",
       "    </tr>\n",
       "    <tr>\n",
       "      <th>3402</th>\n",
       "      <td>Evi2a-evi2b</td>\n",
       "      <td>0</td>\n",
       "      <td>0</td>\n",
       "      <td>0</td>\n",
       "      <td>0</td>\n",
       "      <td>0</td>\n",
       "      <td>0</td>\n",
       "      <td>0</td>\n",
       "      <td>0</td>\n",
       "      <td>0</td>\n",
       "      <td>0</td>\n",
       "      <td>unknown</td>\n",
       "    </tr>\n",
       "    <tr>\n",
       "      <th>3407</th>\n",
       "      <td>Mir193</td>\n",
       "      <td>0</td>\n",
       "      <td>0</td>\n",
       "      <td>0</td>\n",
       "      <td>0</td>\n",
       "      <td>0</td>\n",
       "      <td>0</td>\n",
       "      <td>0</td>\n",
       "      <td>0</td>\n",
       "      <td>0</td>\n",
       "      <td>0</td>\n",
       "      <td>unknown</td>\n",
       "    </tr>\n",
       "    <tr>\n",
       "      <th>3516</th>\n",
       "      <td>Mir21</td>\n",
       "      <td>0</td>\n",
       "      <td>0</td>\n",
       "      <td>0</td>\n",
       "      <td>0</td>\n",
       "      <td>0</td>\n",
       "      <td>0</td>\n",
       "      <td>0</td>\n",
       "      <td>0</td>\n",
       "      <td>0</td>\n",
       "      <td>0</td>\n",
       "      <td>unknown</td>\n",
       "    </tr>\n",
       "    <tr>\n",
       "      <th>3788</th>\n",
       "      <td>Gm11570</td>\n",
       "      <td>0</td>\n",
       "      <td>1</td>\n",
       "      <td>0</td>\n",
       "      <td>0</td>\n",
       "      <td>0</td>\n",
       "      <td>0</td>\n",
       "      <td>0</td>\n",
       "      <td>0</td>\n",
       "      <td>0</td>\n",
       "      <td>0</td>\n",
       "      <td>unknown</td>\n",
       "    </tr>\n",
       "    <tr>\n",
       "      <th>3866</th>\n",
       "      <td>LOC666331</td>\n",
       "      <td>0</td>\n",
       "      <td>0</td>\n",
       "      <td>0</td>\n",
       "      <td>0</td>\n",
       "      <td>0</td>\n",
       "      <td>0</td>\n",
       "      <td>0</td>\n",
       "      <td>0</td>\n",
       "      <td>0</td>\n",
       "      <td>0</td>\n",
       "      <td>unknown</td>\n",
       "    </tr>\n",
       "    <tr>\n",
       "      <th>4005</th>\n",
       "      <td>LOC100503496</td>\n",
       "      <td>11</td>\n",
       "      <td>15</td>\n",
       "      <td>12</td>\n",
       "      <td>11</td>\n",
       "      <td>6</td>\n",
       "      <td>17</td>\n",
       "      <td>11</td>\n",
       "      <td>14</td>\n",
       "      <td>1</td>\n",
       "      <td>8</td>\n",
       "      <td>unknown</td>\n",
       "    </tr>\n",
       "    <tr>\n",
       "      <th>4297</th>\n",
       "      <td>4931412M21</td>\n",
       "      <td>0</td>\n",
       "      <td>0</td>\n",
       "      <td>1</td>\n",
       "      <td>0</td>\n",
       "      <td>0</td>\n",
       "      <td>0</td>\n",
       "      <td>0</td>\n",
       "      <td>0</td>\n",
       "      <td>0</td>\n",
       "      <td>1</td>\n",
       "      <td>unknown</td>\n",
       "    </tr>\n",
       "    <tr>\n",
       "      <th>4632</th>\n",
       "      <td>Mir1843</td>\n",
       "      <td>0</td>\n",
       "      <td>0</td>\n",
       "      <td>0</td>\n",
       "      <td>0</td>\n",
       "      <td>0</td>\n",
       "      <td>0</td>\n",
       "      <td>0</td>\n",
       "      <td>0</td>\n",
       "      <td>0</td>\n",
       "      <td>0</td>\n",
       "      <td>unknown</td>\n",
       "    </tr>\n",
       "    <tr>\n",
       "      <th>4935</th>\n",
       "      <td>Mir299</td>\n",
       "      <td>0</td>\n",
       "      <td>0</td>\n",
       "      <td>0</td>\n",
       "      <td>0</td>\n",
       "      <td>0</td>\n",
       "      <td>0</td>\n",
       "      <td>0</td>\n",
       "      <td>0</td>\n",
       "      <td>0</td>\n",
       "      <td>0</td>\n",
       "      <td>unknown</td>\n",
       "    </tr>\n",
       "    <tr>\n",
       "      <th>4964</th>\n",
       "      <td>Mir496</td>\n",
       "      <td>2</td>\n",
       "      <td>10</td>\n",
       "      <td>3</td>\n",
       "      <td>3</td>\n",
       "      <td>4</td>\n",
       "      <td>0</td>\n",
       "      <td>2</td>\n",
       "      <td>5</td>\n",
       "      <td>3</td>\n",
       "      <td>3</td>\n",
       "      <td>unknown</td>\n",
       "    </tr>\n",
       "    <tr>\n",
       "      <th>5013</th>\n",
       "      <td>Mir3073</td>\n",
       "      <td>0</td>\n",
       "      <td>0</td>\n",
       "      <td>0</td>\n",
       "      <td>0</td>\n",
       "      <td>0</td>\n",
       "      <td>0</td>\n",
       "      <td>0</td>\n",
       "      <td>0</td>\n",
       "      <td>0</td>\n",
       "      <td>0</td>\n",
       "      <td>unknown</td>\n",
       "    </tr>\n",
       "    <tr>\n",
       "      <th>5072</th>\n",
       "      <td>1700024F13Rik</td>\n",
       "      <td>0</td>\n",
       "      <td>4</td>\n",
       "      <td>1</td>\n",
       "      <td>0</td>\n",
       "      <td>0</td>\n",
       "      <td>0</td>\n",
       "      <td>0</td>\n",
       "      <td>0</td>\n",
       "      <td>0</td>\n",
       "      <td>0</td>\n",
       "      <td>unknown</td>\n",
       "    </tr>\n",
       "    <tr>\n",
       "      <th>5374</th>\n",
       "      <td>LOC101056149</td>\n",
       "      <td>0</td>\n",
       "      <td>1</td>\n",
       "      <td>0</td>\n",
       "      <td>0</td>\n",
       "      <td>0</td>\n",
       "      <td>0</td>\n",
       "      <td>0</td>\n",
       "      <td>0</td>\n",
       "      <td>0</td>\n",
       "      <td>0</td>\n",
       "      <td>unknown</td>\n",
       "    </tr>\n",
       "    <tr>\n",
       "      <th>5731</th>\n",
       "      <td>Mir692-2a</td>\n",
       "      <td>0</td>\n",
       "      <td>0</td>\n",
       "      <td>0</td>\n",
       "      <td>0</td>\n",
       "      <td>0</td>\n",
       "      <td>0</td>\n",
       "      <td>0</td>\n",
       "      <td>0</td>\n",
       "      <td>0</td>\n",
       "      <td>0</td>\n",
       "      <td>unknown</td>\n",
       "    </tr>\n",
       "    <tr>\n",
       "      <th>5972</th>\n",
       "      <td>LOC100861615</td>\n",
       "      <td>0</td>\n",
       "      <td>1</td>\n",
       "      <td>0</td>\n",
       "      <td>0</td>\n",
       "      <td>0</td>\n",
       "      <td>0</td>\n",
       "      <td>0</td>\n",
       "      <td>1</td>\n",
       "      <td>0</td>\n",
       "      <td>0</td>\n",
       "      <td>unknown</td>\n",
       "    </tr>\n",
       "    <tr>\n",
       "      <th>6226</th>\n",
       "      <td>LOC101056136</td>\n",
       "      <td>0</td>\n",
       "      <td>0</td>\n",
       "      <td>1</td>\n",
       "      <td>0</td>\n",
       "      <td>0</td>\n",
       "      <td>0</td>\n",
       "      <td>0</td>\n",
       "      <td>0</td>\n",
       "      <td>0</td>\n",
       "      <td>0</td>\n",
       "      <td>unknown</td>\n",
       "    </tr>\n",
       "    <tr>\n",
       "      <th>6716</th>\n",
       "      <td>Zbtbd6</td>\n",
       "      <td>11</td>\n",
       "      <td>15</td>\n",
       "      <td>10</td>\n",
       "      <td>10</td>\n",
       "      <td>15</td>\n",
       "      <td>18</td>\n",
       "      <td>11</td>\n",
       "      <td>9</td>\n",
       "      <td>5</td>\n",
       "      <td>13</td>\n",
       "      <td>unknown</td>\n",
       "    </tr>\n",
       "    <tr>\n",
       "      <th>6837</th>\n",
       "      <td>A630020A06</td>\n",
       "      <td>18</td>\n",
       "      <td>21</td>\n",
       "      <td>11</td>\n",
       "      <td>15</td>\n",
       "      <td>13</td>\n",
       "      <td>21</td>\n",
       "      <td>13</td>\n",
       "      <td>20</td>\n",
       "      <td>14</td>\n",
       "      <td>18</td>\n",
       "      <td>unknown</td>\n",
       "    </tr>\n",
       "    <tr>\n",
       "      <th>7509</th>\n",
       "      <td>LOC100043315</td>\n",
       "      <td>0</td>\n",
       "      <td>0</td>\n",
       "      <td>0</td>\n",
       "      <td>0</td>\n",
       "      <td>0</td>\n",
       "      <td>0</td>\n",
       "      <td>1</td>\n",
       "      <td>0</td>\n",
       "      <td>0</td>\n",
       "      <td>0</td>\n",
       "      <td>unknown</td>\n",
       "    </tr>\n",
       "    <tr>\n",
       "      <th>7700</th>\n",
       "      <td>Cistr-act</td>\n",
       "      <td>0</td>\n",
       "      <td>0</td>\n",
       "      <td>0</td>\n",
       "      <td>0</td>\n",
       "      <td>0</td>\n",
       "      <td>0</td>\n",
       "      <td>0</td>\n",
       "      <td>0</td>\n",
       "      <td>0</td>\n",
       "      <td>0</td>\n",
       "      <td>unknown</td>\n",
       "    </tr>\n",
       "    <tr>\n",
       "      <th>7980</th>\n",
       "      <td>LOC102632430</td>\n",
       "      <td>0</td>\n",
       "      <td>0</td>\n",
       "      <td>0</td>\n",
       "      <td>0</td>\n",
       "      <td>0</td>\n",
       "      <td>0</td>\n",
       "      <td>0</td>\n",
       "      <td>0</td>\n",
       "      <td>0</td>\n",
       "      <td>0</td>\n",
       "      <td>unknown</td>\n",
       "    </tr>\n",
       "    <tr>\n",
       "      <th>8045</th>\n",
       "      <td>LOC101669761</td>\n",
       "      <td>3</td>\n",
       "      <td>4</td>\n",
       "      <td>0</td>\n",
       "      <td>2</td>\n",
       "      <td>1</td>\n",
       "      <td>1</td>\n",
       "      <td>1</td>\n",
       "      <td>3</td>\n",
       "      <td>1</td>\n",
       "      <td>2</td>\n",
       "      <td>unknown</td>\n",
       "    </tr>\n",
       "    <tr>\n",
       "      <th>...</th>\n",
       "      <td>...</td>\n",
       "      <td>...</td>\n",
       "      <td>...</td>\n",
       "      <td>...</td>\n",
       "      <td>...</td>\n",
       "      <td>...</td>\n",
       "      <td>...</td>\n",
       "      <td>...</td>\n",
       "      <td>...</td>\n",
       "      <td>...</td>\n",
       "      <td>...</td>\n",
       "      <td>...</td>\n",
       "    </tr>\n",
       "    <tr>\n",
       "      <th>16215</th>\n",
       "      <td>AU018829</td>\n",
       "      <td>0</td>\n",
       "      <td>0</td>\n",
       "      <td>0</td>\n",
       "      <td>0</td>\n",
       "      <td>0</td>\n",
       "      <td>0</td>\n",
       "      <td>0</td>\n",
       "      <td>0</td>\n",
       "      <td>0</td>\n",
       "      <td>0</td>\n",
       "      <td>unknown</td>\n",
       "    </tr>\n",
       "    <tr>\n",
       "      <th>16360</th>\n",
       "      <td>LOC101056043</td>\n",
       "      <td>123</td>\n",
       "      <td>129</td>\n",
       "      <td>131</td>\n",
       "      <td>133</td>\n",
       "      <td>92</td>\n",
       "      <td>144</td>\n",
       "      <td>112</td>\n",
       "      <td>111</td>\n",
       "      <td>69</td>\n",
       "      <td>117</td>\n",
       "      <td>unknown</td>\n",
       "    </tr>\n",
       "    <tr>\n",
       "      <th>16930</th>\n",
       "      <td>Mirlet7k</td>\n",
       "      <td>0</td>\n",
       "      <td>0</td>\n",
       "      <td>0</td>\n",
       "      <td>0</td>\n",
       "      <td>0</td>\n",
       "      <td>0</td>\n",
       "      <td>0</td>\n",
       "      <td>0</td>\n",
       "      <td>0</td>\n",
       "      <td>0</td>\n",
       "      <td>unknown</td>\n",
       "    </tr>\n",
       "    <tr>\n",
       "      <th>17847</th>\n",
       "      <td>LOC102632423</td>\n",
       "      <td>1</td>\n",
       "      <td>0</td>\n",
       "      <td>0</td>\n",
       "      <td>1</td>\n",
       "      <td>0</td>\n",
       "      <td>0</td>\n",
       "      <td>0</td>\n",
       "      <td>0</td>\n",
       "      <td>0</td>\n",
       "      <td>0</td>\n",
       "      <td>unknown</td>\n",
       "    </tr>\n",
       "    <tr>\n",
       "      <th>17996</th>\n",
       "      <td>D130058E03</td>\n",
       "      <td>0</td>\n",
       "      <td>0</td>\n",
       "      <td>0</td>\n",
       "      <td>0</td>\n",
       "      <td>0</td>\n",
       "      <td>0</td>\n",
       "      <td>0</td>\n",
       "      <td>0</td>\n",
       "      <td>0</td>\n",
       "      <td>0</td>\n",
       "      <td>unknown</td>\n",
       "    </tr>\n",
       "    <tr>\n",
       "      <th>18063</th>\n",
       "      <td>Klra33</td>\n",
       "      <td>0</td>\n",
       "      <td>0</td>\n",
       "      <td>0</td>\n",
       "      <td>0</td>\n",
       "      <td>0</td>\n",
       "      <td>0</td>\n",
       "      <td>0</td>\n",
       "      <td>0</td>\n",
       "      <td>0</td>\n",
       "      <td>0</td>\n",
       "      <td>unknown</td>\n",
       "    </tr>\n",
       "    <tr>\n",
       "      <th>18245</th>\n",
       "      <td>Mir290</td>\n",
       "      <td>0</td>\n",
       "      <td>0</td>\n",
       "      <td>0</td>\n",
       "      <td>0</td>\n",
       "      <td>0</td>\n",
       "      <td>0</td>\n",
       "      <td>0</td>\n",
       "      <td>0</td>\n",
       "      <td>0</td>\n",
       "      <td>0</td>\n",
       "      <td>unknown</td>\n",
       "    </tr>\n",
       "    <tr>\n",
       "      <th>18344</th>\n",
       "      <td>Vmn1r186</td>\n",
       "      <td>0</td>\n",
       "      <td>0</td>\n",
       "      <td>0</td>\n",
       "      <td>0</td>\n",
       "      <td>0</td>\n",
       "      <td>0</td>\n",
       "      <td>0</td>\n",
       "      <td>0</td>\n",
       "      <td>0</td>\n",
       "      <td>0</td>\n",
       "      <td>unknown</td>\n",
       "    </tr>\n",
       "    <tr>\n",
       "      <th>18346</th>\n",
       "      <td>Vmn1r187</td>\n",
       "      <td>0</td>\n",
       "      <td>0</td>\n",
       "      <td>0</td>\n",
       "      <td>0</td>\n",
       "      <td>0</td>\n",
       "      <td>0</td>\n",
       "      <td>0</td>\n",
       "      <td>0</td>\n",
       "      <td>0</td>\n",
       "      <td>0</td>\n",
       "      <td>unknown</td>\n",
       "    </tr>\n",
       "    <tr>\n",
       "      <th>19128</th>\n",
       "      <td>Nup62-il4i1</td>\n",
       "      <td>0</td>\n",
       "      <td>3</td>\n",
       "      <td>0</td>\n",
       "      <td>0</td>\n",
       "      <td>1</td>\n",
       "      <td>0</td>\n",
       "      <td>0</td>\n",
       "      <td>1</td>\n",
       "      <td>0</td>\n",
       "      <td>0</td>\n",
       "      <td>unknown</td>\n",
       "    </tr>\n",
       "    <tr>\n",
       "      <th>19297</th>\n",
       "      <td>A230073K19Rik</td>\n",
       "      <td>250</td>\n",
       "      <td>338</td>\n",
       "      <td>332</td>\n",
       "      <td>251</td>\n",
       "      <td>264</td>\n",
       "      <td>230</td>\n",
       "      <td>182</td>\n",
       "      <td>232</td>\n",
       "      <td>153</td>\n",
       "      <td>316</td>\n",
       "      <td>unknown</td>\n",
       "    </tr>\n",
       "    <tr>\n",
       "      <th>19374</th>\n",
       "      <td>LOC100505025</td>\n",
       "      <td>0</td>\n",
       "      <td>0</td>\n",
       "      <td>0</td>\n",
       "      <td>0</td>\n",
       "      <td>1</td>\n",
       "      <td>0</td>\n",
       "      <td>0</td>\n",
       "      <td>0</td>\n",
       "      <td>0</td>\n",
       "      <td>0</td>\n",
       "      <td>unknown</td>\n",
       "    </tr>\n",
       "    <tr>\n",
       "      <th>19582</th>\n",
       "      <td>LOC381967</td>\n",
       "      <td>5</td>\n",
       "      <td>2</td>\n",
       "      <td>1</td>\n",
       "      <td>0</td>\n",
       "      <td>0</td>\n",
       "      <td>0</td>\n",
       "      <td>1</td>\n",
       "      <td>2</td>\n",
       "      <td>2</td>\n",
       "      <td>0</td>\n",
       "      <td>unknown</td>\n",
       "    </tr>\n",
       "    <tr>\n",
       "      <th>19826</th>\n",
       "      <td>Gm17757</td>\n",
       "      <td>0</td>\n",
       "      <td>0</td>\n",
       "      <td>0</td>\n",
       "      <td>0</td>\n",
       "      <td>0</td>\n",
       "      <td>0</td>\n",
       "      <td>0</td>\n",
       "      <td>0</td>\n",
       "      <td>0</td>\n",
       "      <td>0</td>\n",
       "      <td>unknown</td>\n",
       "    </tr>\n",
       "    <tr>\n",
       "      <th>20246</th>\n",
       "      <td>E030019B06Rik</td>\n",
       "      <td>25</td>\n",
       "      <td>21</td>\n",
       "      <td>31</td>\n",
       "      <td>15</td>\n",
       "      <td>19</td>\n",
       "      <td>35</td>\n",
       "      <td>13</td>\n",
       "      <td>23</td>\n",
       "      <td>17</td>\n",
       "      <td>16</td>\n",
       "      <td>unknown</td>\n",
       "    </tr>\n",
       "    <tr>\n",
       "      <th>20642</th>\n",
       "      <td>LOC102633315</td>\n",
       "      <td>0</td>\n",
       "      <td>0</td>\n",
       "      <td>0</td>\n",
       "      <td>0</td>\n",
       "      <td>0</td>\n",
       "      <td>0</td>\n",
       "      <td>0</td>\n",
       "      <td>0</td>\n",
       "      <td>0</td>\n",
       "      <td>0</td>\n",
       "      <td>unknown</td>\n",
       "    </tr>\n",
       "    <tr>\n",
       "      <th>20801</th>\n",
       "      <td>LOC102636514</td>\n",
       "      <td>0</td>\n",
       "      <td>0</td>\n",
       "      <td>1</td>\n",
       "      <td>0</td>\n",
       "      <td>0</td>\n",
       "      <td>0</td>\n",
       "      <td>0</td>\n",
       "      <td>0</td>\n",
       "      <td>0</td>\n",
       "      <td>0</td>\n",
       "      <td>unknown</td>\n",
       "    </tr>\n",
       "    <tr>\n",
       "      <th>21082</th>\n",
       "      <td>LOC100503676</td>\n",
       "      <td>6</td>\n",
       "      <td>4</td>\n",
       "      <td>5</td>\n",
       "      <td>4</td>\n",
       "      <td>4</td>\n",
       "      <td>7</td>\n",
       "      <td>3</td>\n",
       "      <td>2</td>\n",
       "      <td>3</td>\n",
       "      <td>5</td>\n",
       "      <td>unknown</td>\n",
       "    </tr>\n",
       "    <tr>\n",
       "      <th>21595</th>\n",
       "      <td>LOC102634431</td>\n",
       "      <td>11</td>\n",
       "      <td>17</td>\n",
       "      <td>24</td>\n",
       "      <td>13</td>\n",
       "      <td>15</td>\n",
       "      <td>11</td>\n",
       "      <td>16</td>\n",
       "      <td>21</td>\n",
       "      <td>4</td>\n",
       "      <td>21</td>\n",
       "      <td>unknown</td>\n",
       "    </tr>\n",
       "    <tr>\n",
       "      <th>21702</th>\n",
       "      <td>Raver1-fdx1l</td>\n",
       "      <td>0</td>\n",
       "      <td>0</td>\n",
       "      <td>0</td>\n",
       "      <td>0</td>\n",
       "      <td>0</td>\n",
       "      <td>0</td>\n",
       "      <td>1</td>\n",
       "      <td>0</td>\n",
       "      <td>0</td>\n",
       "      <td>0</td>\n",
       "      <td>unknown</td>\n",
       "    </tr>\n",
       "    <tr>\n",
       "      <th>22328</th>\n",
       "      <td>Mir190</td>\n",
       "      <td>0</td>\n",
       "      <td>0</td>\n",
       "      <td>0</td>\n",
       "      <td>0</td>\n",
       "      <td>0</td>\n",
       "      <td>0</td>\n",
       "      <td>0</td>\n",
       "      <td>0</td>\n",
       "      <td>0</td>\n",
       "      <td>0</td>\n",
       "      <td>unknown</td>\n",
       "    </tr>\n",
       "    <tr>\n",
       "      <th>22356</th>\n",
       "      <td>LOC102635087</td>\n",
       "      <td>0</td>\n",
       "      <td>0</td>\n",
       "      <td>0</td>\n",
       "      <td>0</td>\n",
       "      <td>0</td>\n",
       "      <td>0</td>\n",
       "      <td>0</td>\n",
       "      <td>0</td>\n",
       "      <td>0</td>\n",
       "      <td>0</td>\n",
       "      <td>unknown</td>\n",
       "    </tr>\n",
       "    <tr>\n",
       "      <th>22565</th>\n",
       "      <td>LOC102633035</td>\n",
       "      <td>0</td>\n",
       "      <td>0</td>\n",
       "      <td>0</td>\n",
       "      <td>0</td>\n",
       "      <td>0</td>\n",
       "      <td>0</td>\n",
       "      <td>0</td>\n",
       "      <td>0</td>\n",
       "      <td>0</td>\n",
       "      <td>0</td>\n",
       "      <td>unknown</td>\n",
       "    </tr>\n",
       "    <tr>\n",
       "      <th>23266</th>\n",
       "      <td>LOC100504039</td>\n",
       "      <td>0</td>\n",
       "      <td>0</td>\n",
       "      <td>0</td>\n",
       "      <td>0</td>\n",
       "      <td>0</td>\n",
       "      <td>0</td>\n",
       "      <td>0</td>\n",
       "      <td>0</td>\n",
       "      <td>0</td>\n",
       "      <td>0</td>\n",
       "      <td>unknown</td>\n",
       "    </tr>\n",
       "    <tr>\n",
       "      <th>23440</th>\n",
       "      <td>Slc10a3-ubl4</td>\n",
       "      <td>0</td>\n",
       "      <td>5</td>\n",
       "      <td>2</td>\n",
       "      <td>3</td>\n",
       "      <td>0</td>\n",
       "      <td>0</td>\n",
       "      <td>0</td>\n",
       "      <td>1</td>\n",
       "      <td>1</td>\n",
       "      <td>3</td>\n",
       "      <td>unknown</td>\n",
       "    </tr>\n",
       "    <tr>\n",
       "      <th>23450</th>\n",
       "      <td>LOC100503280</td>\n",
       "      <td>0</td>\n",
       "      <td>0</td>\n",
       "      <td>0</td>\n",
       "      <td>0</td>\n",
       "      <td>0</td>\n",
       "      <td>0</td>\n",
       "      <td>0</td>\n",
       "      <td>0</td>\n",
       "      <td>0</td>\n",
       "      <td>0</td>\n",
       "      <td>unknown</td>\n",
       "    </tr>\n",
       "    <tr>\n",
       "      <th>23607</th>\n",
       "      <td>Mir374</td>\n",
       "      <td>24</td>\n",
       "      <td>36</td>\n",
       "      <td>16</td>\n",
       "      <td>15</td>\n",
       "      <td>21</td>\n",
       "      <td>16</td>\n",
       "      <td>17</td>\n",
       "      <td>24</td>\n",
       "      <td>9</td>\n",
       "      <td>19</td>\n",
       "      <td>unknown</td>\n",
       "    </tr>\n",
       "    <tr>\n",
       "      <th>23924</th>\n",
       "      <td>Mir3473</td>\n",
       "      <td>0</td>\n",
       "      <td>0</td>\n",
       "      <td>0</td>\n",
       "      <td>0</td>\n",
       "      <td>0</td>\n",
       "      <td>0</td>\n",
       "      <td>0</td>\n",
       "      <td>0</td>\n",
       "      <td>0</td>\n",
       "      <td>0</td>\n",
       "      <td>unknown</td>\n",
       "    </tr>\n",
       "    <tr>\n",
       "      <th>23968</th>\n",
       "      <td>Zf12</td>\n",
       "      <td>0</td>\n",
       "      <td>0</td>\n",
       "      <td>0</td>\n",
       "      <td>0</td>\n",
       "      <td>0</td>\n",
       "      <td>0</td>\n",
       "      <td>0</td>\n",
       "      <td>0</td>\n",
       "      <td>0</td>\n",
       "      <td>0</td>\n",
       "      <td>unknown</td>\n",
       "    </tr>\n",
       "    <tr>\n",
       "      <th>24004</th>\n",
       "      <td>LOC100040786</td>\n",
       "      <td>0</td>\n",
       "      <td>0</td>\n",
       "      <td>0</td>\n",
       "      <td>0</td>\n",
       "      <td>0</td>\n",
       "      <td>0</td>\n",
       "      <td>0</td>\n",
       "      <td>0</td>\n",
       "      <td>0</td>\n",
       "      <td>0</td>\n",
       "      <td>unknown</td>\n",
       "    </tr>\n",
       "  </tbody>\n",
       "</table>\n",
       "<p>92 rows × 12 columns</p>\n",
       "</div>"
      ],
      "text/plain": [
       "              gene_id  old_J147.1  old_J147.2  old_J147.3  old_untreated.1  \\\n",
       "887      Lincrna-cox2           2           3           4                2   \n",
       "1715     LOC102634101          10           2           8               10   \n",
       "2243       C230029M16           8           6           0                4   \n",
       "2289     LOC100504608           3           2           3                2   \n",
       "2295     LOC100504703           8           6           6                9   \n",
       "3120   Tnfsf12Tnfsf13           0           0           0                0   \n",
       "3164           Mir195           0           0           0                0   \n",
       "3357           Mir451           0           0           0                0   \n",
       "3402      Evi2a-evi2b           0           0           0                0   \n",
       "3407           Mir193           0           0           0                0   \n",
       "3516            Mir21           0           0           0                0   \n",
       "3788          Gm11570           0           1           0                0   \n",
       "3866        LOC666331           0           0           0                0   \n",
       "4005     LOC100503496          11          15          12               11   \n",
       "4297       4931412M21           0           0           1                0   \n",
       "4632          Mir1843           0           0           0                0   \n",
       "4935           Mir299           0           0           0                0   \n",
       "4964           Mir496           2          10           3                3   \n",
       "5013          Mir3073           0           0           0                0   \n",
       "5072    1700024F13Rik           0           4           1                0   \n",
       "5374     LOC101056149           0           1           0                0   \n",
       "5731        Mir692-2a           0           0           0                0   \n",
       "5972     LOC100861615           0           1           0                0   \n",
       "6226     LOC101056136           0           0           1                0   \n",
       "6716           Zbtbd6          11          15          10               10   \n",
       "6837       A630020A06          18          21          11               15   \n",
       "7509     LOC100043315           0           0           0                0   \n",
       "7700        Cistr-act           0           0           0                0   \n",
       "7980     LOC102632430           0           0           0                0   \n",
       "8045     LOC101669761           3           4           0                2   \n",
       "...               ...         ...         ...         ...              ...   \n",
       "16215        AU018829           0           0           0                0   \n",
       "16360    LOC101056043         123         129         131              133   \n",
       "16930        Mirlet7k           0           0           0                0   \n",
       "17847    LOC102632423           1           0           0                1   \n",
       "17996      D130058E03           0           0           0                0   \n",
       "18063          Klra33           0           0           0                0   \n",
       "18245          Mir290           0           0           0                0   \n",
       "18344        Vmn1r186           0           0           0                0   \n",
       "18346        Vmn1r187           0           0           0                0   \n",
       "19128     Nup62-il4i1           0           3           0                0   \n",
       "19297   A230073K19Rik         250         338         332              251   \n",
       "19374    LOC100505025           0           0           0                0   \n",
       "19582       LOC381967           5           2           1                0   \n",
       "19826         Gm17757           0           0           0                0   \n",
       "20246   E030019B06Rik          25          21          31               15   \n",
       "20642    LOC102633315           0           0           0                0   \n",
       "20801    LOC102636514           0           0           1                0   \n",
       "21082    LOC100503676           6           4           5                4   \n",
       "21595    LOC102634431          11          17          24               13   \n",
       "21702    Raver1-fdx1l           0           0           0                0   \n",
       "22328          Mir190           0           0           0                0   \n",
       "22356    LOC102635087           0           0           0                0   \n",
       "22565    LOC102633035           0           0           0                0   \n",
       "23266    LOC100504039           0           0           0                0   \n",
       "23440    Slc10a3-ubl4           0           5           2                3   \n",
       "23450    LOC100503280           0           0           0                0   \n",
       "23607          Mir374          24          36          16               15   \n",
       "23924         Mir3473           0           0           0                0   \n",
       "23968            Zf12           0           0           0                0   \n",
       "24004    LOC100040786           0           0           0                0   \n",
       "\n",
       "       old_untreated.2  old_untreated.3  young.1  young.2  young.3  young.4  \\\n",
       "887                  4                2        5        3        1        4   \n",
       "1715                 4               13        4        6        5        5   \n",
       "2243                 6                4        1        2        4        3   \n",
       "2289                 0                3        3        0        1        3   \n",
       "2295                12                3        7       11        4        3   \n",
       "3120                 0                0        0        0        0        0   \n",
       "3164                 0                0        0        0        0        0   \n",
       "3357                 0                0        0        0        0        0   \n",
       "3402                 0                0        0        0        0        0   \n",
       "3407                 0                0        0        0        0        0   \n",
       "3516                 0                0        0        0        0        0   \n",
       "3788                 0                0        0        0        0        0   \n",
       "3866                 0                0        0        0        0        0   \n",
       "4005                 6               17       11       14        1        8   \n",
       "4297                 0                0        0        0        0        1   \n",
       "4632                 0                0        0        0        0        0   \n",
       "4935                 0                0        0        0        0        0   \n",
       "4964                 4                0        2        5        3        3   \n",
       "5013                 0                0        0        0        0        0   \n",
       "5072                 0                0        0        0        0        0   \n",
       "5374                 0                0        0        0        0        0   \n",
       "5731                 0                0        0        0        0        0   \n",
       "5972                 0                0        0        1        0        0   \n",
       "6226                 0                0        0        0        0        0   \n",
       "6716                15               18       11        9        5       13   \n",
       "6837                13               21       13       20       14       18   \n",
       "7509                 0                0        1        0        0        0   \n",
       "7700                 0                0        0        0        0        0   \n",
       "7980                 0                0        0        0        0        0   \n",
       "8045                 1                1        1        3        1        2   \n",
       "...                ...              ...      ...      ...      ...      ...   \n",
       "16215                0                0        0        0        0        0   \n",
       "16360               92              144      112      111       69      117   \n",
       "16930                0                0        0        0        0        0   \n",
       "17847                0                0        0        0        0        0   \n",
       "17996                0                0        0        0        0        0   \n",
       "18063                0                0        0        0        0        0   \n",
       "18245                0                0        0        0        0        0   \n",
       "18344                0                0        0        0        0        0   \n",
       "18346                0                0        0        0        0        0   \n",
       "19128                1                0        0        1        0        0   \n",
       "19297              264              230      182      232      153      316   \n",
       "19374                1                0        0        0        0        0   \n",
       "19582                0                0        1        2        2        0   \n",
       "19826                0                0        0        0        0        0   \n",
       "20246               19               35       13       23       17       16   \n",
       "20642                0                0        0        0        0        0   \n",
       "20801                0                0        0        0        0        0   \n",
       "21082                4                7        3        2        3        5   \n",
       "21595               15               11       16       21        4       21   \n",
       "21702                0                0        1        0        0        0   \n",
       "22328                0                0        0        0        0        0   \n",
       "22356                0                0        0        0        0        0   \n",
       "22565                0                0        0        0        0        0   \n",
       "23266                0                0        0        0        0        0   \n",
       "23440                0                0        0        1        1        3   \n",
       "23450                0                0        0        0        0        0   \n",
       "23607               21               16       17       24        9       19   \n",
       "23924                0                0        0        0        0        0   \n",
       "23968                0                0        0        0        0        0   \n",
       "24004                0                0        0        0        0        0   \n",
       "\n",
       "        mgi_id  \n",
       "887    unknown  \n",
       "1715   unknown  \n",
       "2243   unknown  \n",
       "2289   unknown  \n",
       "2295   unknown  \n",
       "3120   unknown  \n",
       "3164   unknown  \n",
       "3357   unknown  \n",
       "3402   unknown  \n",
       "3407   unknown  \n",
       "3516   unknown  \n",
       "3788   unknown  \n",
       "3866   unknown  \n",
       "4005   unknown  \n",
       "4297   unknown  \n",
       "4632   unknown  \n",
       "4935   unknown  \n",
       "4964   unknown  \n",
       "5013   unknown  \n",
       "5072   unknown  \n",
       "5374   unknown  \n",
       "5731   unknown  \n",
       "5972   unknown  \n",
       "6226   unknown  \n",
       "6716   unknown  \n",
       "6837   unknown  \n",
       "7509   unknown  \n",
       "7700   unknown  \n",
       "7980   unknown  \n",
       "8045   unknown  \n",
       "...        ...  \n",
       "16215  unknown  \n",
       "16360  unknown  \n",
       "16930  unknown  \n",
       "17847  unknown  \n",
       "17996  unknown  \n",
       "18063  unknown  \n",
       "18245  unknown  \n",
       "18344  unknown  \n",
       "18346  unknown  \n",
       "19128  unknown  \n",
       "19297  unknown  \n",
       "19374  unknown  \n",
       "19582  unknown  \n",
       "19826  unknown  \n",
       "20246  unknown  \n",
       "20642  unknown  \n",
       "20801  unknown  \n",
       "21082  unknown  \n",
       "21595  unknown  \n",
       "21702  unknown  \n",
       "22328  unknown  \n",
       "22356  unknown  \n",
       "22565  unknown  \n",
       "23266  unknown  \n",
       "23440  unknown  \n",
       "23450  unknown  \n",
       "23607  unknown  \n",
       "23924  unknown  \n",
       "23968  unknown  \n",
       "24004  unknown  \n",
       "\n",
       "[92 rows x 12 columns]"
      ]
     },
     "execution_count": 23,
     "metadata": {},
     "output_type": "execute_result"
    }
   ],
   "source": [
    "raw.query(\"mgi_id == 'unknown'\")"
   ]
  },
  {
   "cell_type": "markdown",
   "metadata": {},
   "source": [
    "Seems like the genes which have no MGI identifiers are mostly empty (no measured expression). This is good since they will be filtered out."
   ]
  },
  {
   "cell_type": "code",
   "execution_count": 24,
   "metadata": {
    "collapsed": false
   },
   "outputs": [
    {
     "data": {
      "text/html": [
       "<div>\n",
       "<table border=\"1\" class=\"dataframe\">\n",
       "  <thead>\n",
       "    <tr style=\"text-align: right;\">\n",
       "      <th></th>\n",
       "      <th>gene_id</th>\n",
       "      <th>old_J147.1</th>\n",
       "      <th>old_J147.2</th>\n",
       "      <th>old_J147.3</th>\n",
       "      <th>old_untreated.1</th>\n",
       "      <th>old_untreated.2</th>\n",
       "      <th>old_untreated.3</th>\n",
       "      <th>young.1</th>\n",
       "      <th>young.2</th>\n",
       "      <th>young.3</th>\n",
       "      <th>young.4</th>\n",
       "      <th>mgi_id</th>\n",
       "    </tr>\n",
       "  </thead>\n",
       "  <tbody>\n",
       "    <tr>\n",
       "      <th>5116</th>\n",
       "      <td>Prl2c3</td>\n",
       "      <td>0</td>\n",
       "      <td>0</td>\n",
       "      <td>0</td>\n",
       "      <td>0</td>\n",
       "      <td>0</td>\n",
       "      <td>0</td>\n",
       "      <td>0</td>\n",
       "      <td>0</td>\n",
       "      <td>0</td>\n",
       "      <td>0</td>\n",
       "      <td>MGI:1341833</td>\n",
       "    </tr>\n",
       "    <tr>\n",
       "      <th>5115</th>\n",
       "      <td>Prl2c4</td>\n",
       "      <td>0</td>\n",
       "      <td>0</td>\n",
       "      <td>0</td>\n",
       "      <td>0</td>\n",
       "      <td>0</td>\n",
       "      <td>0</td>\n",
       "      <td>0</td>\n",
       "      <td>0</td>\n",
       "      <td>0</td>\n",
       "      <td>0</td>\n",
       "      <td>MGI:1341833</td>\n",
       "    </tr>\n",
       "    <tr>\n",
       "      <th>14102</th>\n",
       "      <td>Clca3</td>\n",
       "      <td>1</td>\n",
       "      <td>0</td>\n",
       "      <td>0</td>\n",
       "      <td>0</td>\n",
       "      <td>2</td>\n",
       "      <td>1</td>\n",
       "      <td>0</td>\n",
       "      <td>0</td>\n",
       "      <td>0</td>\n",
       "      <td>0</td>\n",
       "      <td>MGI:1346342</td>\n",
       "    </tr>\n",
       "    <tr>\n",
       "      <th>14096</th>\n",
       "      <td>Clca1</td>\n",
       "      <td>3</td>\n",
       "      <td>3</td>\n",
       "      <td>10</td>\n",
       "      <td>10</td>\n",
       "      <td>12</td>\n",
       "      <td>8</td>\n",
       "      <td>6</td>\n",
       "      <td>9</td>\n",
       "      <td>8</td>\n",
       "      <td>9</td>\n",
       "      <td>MGI:1346342</td>\n",
       "    </tr>\n",
       "    <tr>\n",
       "      <th>23034</th>\n",
       "      <td>2900008C10Rik</td>\n",
       "      <td>44</td>\n",
       "      <td>55</td>\n",
       "      <td>52</td>\n",
       "      <td>43</td>\n",
       "      <td>43</td>\n",
       "      <td>41</td>\n",
       "      <td>47</td>\n",
       "      <td>49</td>\n",
       "      <td>32</td>\n",
       "      <td>57</td>\n",
       "      <td>MGI:1918708</td>\n",
       "    </tr>\n",
       "    <tr>\n",
       "      <th>23033</th>\n",
       "      <td>Bcor</td>\n",
       "      <td>464</td>\n",
       "      <td>536</td>\n",
       "      <td>546</td>\n",
       "      <td>313</td>\n",
       "      <td>378</td>\n",
       "      <td>428</td>\n",
       "      <td>523</td>\n",
       "      <td>553</td>\n",
       "      <td>367</td>\n",
       "      <td>577</td>\n",
       "      <td>MGI:1918708</td>\n",
       "    </tr>\n",
       "    <tr>\n",
       "      <th>15232</th>\n",
       "      <td>Clhc1</td>\n",
       "      <td>0</td>\n",
       "      <td>0</td>\n",
       "      <td>1</td>\n",
       "      <td>2</td>\n",
       "      <td>2</td>\n",
       "      <td>1</td>\n",
       "      <td>1</td>\n",
       "      <td>1</td>\n",
       "      <td>1</td>\n",
       "      <td>0</td>\n",
       "      <td>MGI:1920574</td>\n",
       "    </tr>\n",
       "    <tr>\n",
       "      <th>2637</th>\n",
       "      <td>1700034F02Rik</td>\n",
       "      <td>0</td>\n",
       "      <td>3</td>\n",
       "      <td>2</td>\n",
       "      <td>2</td>\n",
       "      <td>2</td>\n",
       "      <td>3</td>\n",
       "      <td>0</td>\n",
       "      <td>1</td>\n",
       "      <td>0</td>\n",
       "      <td>0</td>\n",
       "      <td>MGI:1920574</td>\n",
       "    </tr>\n",
       "    <tr>\n",
       "      <th>66</th>\n",
       "      <td>Defb41</td>\n",
       "      <td>0</td>\n",
       "      <td>0</td>\n",
       "      <td>0</td>\n",
       "      <td>0</td>\n",
       "      <td>0</td>\n",
       "      <td>0</td>\n",
       "      <td>0</td>\n",
       "      <td>0</td>\n",
       "      <td>0</td>\n",
       "      <td>0</td>\n",
       "      <td>MGI:1924923</td>\n",
       "    </tr>\n",
       "    <tr>\n",
       "      <th>67</th>\n",
       "      <td>Gm15386</td>\n",
       "      <td>0</td>\n",
       "      <td>0</td>\n",
       "      <td>0</td>\n",
       "      <td>0</td>\n",
       "      <td>0</td>\n",
       "      <td>0</td>\n",
       "      <td>0</td>\n",
       "      <td>0</td>\n",
       "      <td>0</td>\n",
       "      <td>0</td>\n",
       "      <td>MGI:1924923</td>\n",
       "    </tr>\n",
       "    <tr>\n",
       "      <th>14103</th>\n",
       "      <td>Clca5</td>\n",
       "      <td>0</td>\n",
       "      <td>0</td>\n",
       "      <td>0</td>\n",
       "      <td>0</td>\n",
       "      <td>0</td>\n",
       "      <td>0</td>\n",
       "      <td>0</td>\n",
       "      <td>0</td>\n",
       "      <td>0</td>\n",
       "      <td>0</td>\n",
       "      <td>MGI:2139758</td>\n",
       "    </tr>\n",
       "    <tr>\n",
       "      <th>14097</th>\n",
       "      <td>Clca2</td>\n",
       "      <td>0</td>\n",
       "      <td>0</td>\n",
       "      <td>1</td>\n",
       "      <td>1</td>\n",
       "      <td>0</td>\n",
       "      <td>4</td>\n",
       "      <td>1</td>\n",
       "      <td>1</td>\n",
       "      <td>0</td>\n",
       "      <td>1</td>\n",
       "      <td>MGI:2139758</td>\n",
       "    </tr>\n",
       "    <tr>\n",
       "      <th>4740</th>\n",
       "      <td>Nrp</td>\n",
       "      <td>1</td>\n",
       "      <td>0</td>\n",
       "      <td>0</td>\n",
       "      <td>1</td>\n",
       "      <td>0</td>\n",
       "      <td>0</td>\n",
       "      <td>2</td>\n",
       "      <td>1</td>\n",
       "      <td>0</td>\n",
       "      <td>3</td>\n",
       "      <td>MGI:2384034</td>\n",
       "    </tr>\n",
       "    <tr>\n",
       "      <th>4738</th>\n",
       "      <td>Alkbh1</td>\n",
       "      <td>139</td>\n",
       "      <td>194</td>\n",
       "      <td>190</td>\n",
       "      <td>159</td>\n",
       "      <td>144</td>\n",
       "      <td>164</td>\n",
       "      <td>123</td>\n",
       "      <td>159</td>\n",
       "      <td>100</td>\n",
       "      <td>145</td>\n",
       "      <td>MGI:2384034</td>\n",
       "    </tr>\n",
       "    <tr>\n",
       "      <th>17359</th>\n",
       "      <td>Creb5</td>\n",
       "      <td>26</td>\n",
       "      <td>46</td>\n",
       "      <td>31</td>\n",
       "      <td>31</td>\n",
       "      <td>29</td>\n",
       "      <td>32</td>\n",
       "      <td>30</td>\n",
       "      <td>43</td>\n",
       "      <td>13</td>\n",
       "      <td>34</td>\n",
       "      <td>MGI:2443973</td>\n",
       "    </tr>\n",
       "    <tr>\n",
       "      <th>17358</th>\n",
       "      <td>9430076C15Rik</td>\n",
       "      <td>0</td>\n",
       "      <td>0</td>\n",
       "      <td>2</td>\n",
       "      <td>0</td>\n",
       "      <td>0</td>\n",
       "      <td>1</td>\n",
       "      <td>0</td>\n",
       "      <td>0</td>\n",
       "      <td>0</td>\n",
       "      <td>0</td>\n",
       "      <td>MGI:2443973</td>\n",
       "    </tr>\n",
       "    <tr>\n",
       "      <th>551</th>\n",
       "      <td>Hjurp</td>\n",
       "      <td>61</td>\n",
       "      <td>76</td>\n",
       "      <td>73</td>\n",
       "      <td>67</td>\n",
       "      <td>71</td>\n",
       "      <td>66</td>\n",
       "      <td>78</td>\n",
       "      <td>97</td>\n",
       "      <td>53</td>\n",
       "      <td>121</td>\n",
       "      <td>MGI:2685821</td>\n",
       "    </tr>\n",
       "    <tr>\n",
       "      <th>552</th>\n",
       "      <td>6430706D22Rik</td>\n",
       "      <td>0</td>\n",
       "      <td>0</td>\n",
       "      <td>0</td>\n",
       "      <td>0</td>\n",
       "      <td>0</td>\n",
       "      <td>0</td>\n",
       "      <td>0</td>\n",
       "      <td>0</td>\n",
       "      <td>0</td>\n",
       "      <td>0</td>\n",
       "      <td>MGI:2685821</td>\n",
       "    </tr>\n",
       "    <tr>\n",
       "      <th>553</th>\n",
       "      <td>A730008H23Rik</td>\n",
       "      <td>0</td>\n",
       "      <td>0</td>\n",
       "      <td>0</td>\n",
       "      <td>0</td>\n",
       "      <td>0</td>\n",
       "      <td>0</td>\n",
       "      <td>0</td>\n",
       "      <td>0</td>\n",
       "      <td>0</td>\n",
       "      <td>0</td>\n",
       "      <td>MGI:2685821</td>\n",
       "    </tr>\n",
       "    <tr>\n",
       "      <th>3567</th>\n",
       "      <td>4932411E22Rik</td>\n",
       "      <td>12</td>\n",
       "      <td>15</td>\n",
       "      <td>6</td>\n",
       "      <td>7</td>\n",
       "      <td>13</td>\n",
       "      <td>13</td>\n",
       "      <td>7</td>\n",
       "      <td>18</td>\n",
       "      <td>7</td>\n",
       "      <td>7</td>\n",
       "      <td>MGI:2686021</td>\n",
       "    </tr>\n",
       "    <tr>\n",
       "      <th>3568</th>\n",
       "      <td>Ankfn1</td>\n",
       "      <td>10</td>\n",
       "      <td>12</td>\n",
       "      <td>9</td>\n",
       "      <td>6</td>\n",
       "      <td>5</td>\n",
       "      <td>3</td>\n",
       "      <td>3</td>\n",
       "      <td>9</td>\n",
       "      <td>4</td>\n",
       "      <td>3</td>\n",
       "      <td>MGI:2686021</td>\n",
       "    </tr>\n",
       "    <tr>\n",
       "      <th>10560</th>\n",
       "      <td>Olfr1434</td>\n",
       "      <td>0</td>\n",
       "      <td>0</td>\n",
       "      <td>0</td>\n",
       "      <td>0</td>\n",
       "      <td>0</td>\n",
       "      <td>0</td>\n",
       "      <td>0</td>\n",
       "      <td>0</td>\n",
       "      <td>0</td>\n",
       "      <td>0</td>\n",
       "      <td>MGI:3031268</td>\n",
       "    </tr>\n",
       "    <tr>\n",
       "      <th>10559</th>\n",
       "      <td>Olfr1433</td>\n",
       "      <td>0</td>\n",
       "      <td>0</td>\n",
       "      <td>0</td>\n",
       "      <td>0</td>\n",
       "      <td>0</td>\n",
       "      <td>0</td>\n",
       "      <td>0</td>\n",
       "      <td>0</td>\n",
       "      <td>0</td>\n",
       "      <td>0</td>\n",
       "      <td>MGI:3031268</td>\n",
       "    </tr>\n",
       "    <tr>\n",
       "      <th>11154</th>\n",
       "      <td>BC061194</td>\n",
       "      <td>80</td>\n",
       "      <td>66</td>\n",
       "      <td>53</td>\n",
       "      <td>72</td>\n",
       "      <td>53</td>\n",
       "      <td>72</td>\n",
       "      <td>43</td>\n",
       "      <td>53</td>\n",
       "      <td>31</td>\n",
       "      <td>66</td>\n",
       "      <td>MGI:3040687</td>\n",
       "    </tr>\n",
       "    <tr>\n",
       "      <th>7856</th>\n",
       "      <td>Spag6</td>\n",
       "      <td>76</td>\n",
       "      <td>77</td>\n",
       "      <td>72</td>\n",
       "      <td>79</td>\n",
       "      <td>70</td>\n",
       "      <td>78</td>\n",
       "      <td>47</td>\n",
       "      <td>47</td>\n",
       "      <td>23</td>\n",
       "      <td>54</td>\n",
       "      <td>MGI:3040687</td>\n",
       "    </tr>\n",
       "    <tr>\n",
       "      <th>7647</th>\n",
       "      <td>5430421N21Rik</td>\n",
       "      <td>0</td>\n",
       "      <td>0</td>\n",
       "      <td>0</td>\n",
       "      <td>0</td>\n",
       "      <td>0</td>\n",
       "      <td>0</td>\n",
       "      <td>0</td>\n",
       "      <td>0</td>\n",
       "      <td>1</td>\n",
       "      <td>0</td>\n",
       "      <td>MGI:3690448</td>\n",
       "    </tr>\n",
       "    <tr>\n",
       "      <th>7643</th>\n",
       "      <td>Krt83</td>\n",
       "      <td>2</td>\n",
       "      <td>5</td>\n",
       "      <td>0</td>\n",
       "      <td>1</td>\n",
       "      <td>2</td>\n",
       "      <td>5</td>\n",
       "      <td>0</td>\n",
       "      <td>0</td>\n",
       "      <td>1</td>\n",
       "      <td>0</td>\n",
       "      <td>MGI:3690448</td>\n",
       "    </tr>\n",
       "    <tr>\n",
       "      <th>14561</th>\n",
       "      <td>Gm2083</td>\n",
       "      <td>0</td>\n",
       "      <td>0</td>\n",
       "      <td>0</td>\n",
       "      <td>0</td>\n",
       "      <td>0</td>\n",
       "      <td>0</td>\n",
       "      <td>0</td>\n",
       "      <td>0</td>\n",
       "      <td>0</td>\n",
       "      <td>0</td>\n",
       "      <td>MGI:3780250</td>\n",
       "    </tr>\n",
       "    <tr>\n",
       "      <th>14567</th>\n",
       "      <td>Mup16</td>\n",
       "      <td>0</td>\n",
       "      <td>0</td>\n",
       "      <td>0</td>\n",
       "      <td>0</td>\n",
       "      <td>0</td>\n",
       "      <td>0</td>\n",
       "      <td>0</td>\n",
       "      <td>0</td>\n",
       "      <td>0</td>\n",
       "      <td>0</td>\n",
       "      <td>MGI:3780250</td>\n",
       "    </tr>\n",
       "  </tbody>\n",
       "</table>\n",
       "</div>"
      ],
      "text/plain": [
       "             gene_id  old_J147.1  old_J147.2  old_J147.3  old_untreated.1  \\\n",
       "5116          Prl2c3           0           0           0                0   \n",
       "5115          Prl2c4           0           0           0                0   \n",
       "14102          Clca3           1           0           0                0   \n",
       "14096          Clca1           3           3          10               10   \n",
       "23034  2900008C10Rik          44          55          52               43   \n",
       "23033           Bcor         464         536         546              313   \n",
       "15232          Clhc1           0           0           1                2   \n",
       "2637   1700034F02Rik           0           3           2                2   \n",
       "66            Defb41           0           0           0                0   \n",
       "67           Gm15386           0           0           0                0   \n",
       "14103          Clca5           0           0           0                0   \n",
       "14097          Clca2           0           0           1                1   \n",
       "4740             Nrp           1           0           0                1   \n",
       "4738          Alkbh1         139         194         190              159   \n",
       "17359          Creb5          26          46          31               31   \n",
       "17358  9430076C15Rik           0           0           2                0   \n",
       "551            Hjurp          61          76          73               67   \n",
       "552    6430706D22Rik           0           0           0                0   \n",
       "553    A730008H23Rik           0           0           0                0   \n",
       "3567   4932411E22Rik          12          15           6                7   \n",
       "3568          Ankfn1          10          12           9                6   \n",
       "10560       Olfr1434           0           0           0                0   \n",
       "10559       Olfr1433           0           0           0                0   \n",
       "11154       BC061194          80          66          53               72   \n",
       "7856           Spag6          76          77          72               79   \n",
       "7647   5430421N21Rik           0           0           0                0   \n",
       "7643           Krt83           2           5           0                1   \n",
       "14561         Gm2083           0           0           0                0   \n",
       "14567          Mup16           0           0           0                0   \n",
       "\n",
       "       old_untreated.2  old_untreated.3  young.1  young.2  young.3  young.4  \\\n",
       "5116                 0                0        0        0        0        0   \n",
       "5115                 0                0        0        0        0        0   \n",
       "14102                2                1        0        0        0        0   \n",
       "14096               12                8        6        9        8        9   \n",
       "23034               43               41       47       49       32       57   \n",
       "23033              378              428      523      553      367      577   \n",
       "15232                2                1        1        1        1        0   \n",
       "2637                 2                3        0        1        0        0   \n",
       "66                   0                0        0        0        0        0   \n",
       "67                   0                0        0        0        0        0   \n",
       "14103                0                0        0        0        0        0   \n",
       "14097                0                4        1        1        0        1   \n",
       "4740                 0                0        2        1        0        3   \n",
       "4738               144              164      123      159      100      145   \n",
       "17359               29               32       30       43       13       34   \n",
       "17358                0                1        0        0        0        0   \n",
       "551                 71               66       78       97       53      121   \n",
       "552                  0                0        0        0        0        0   \n",
       "553                  0                0        0        0        0        0   \n",
       "3567                13               13        7       18        7        7   \n",
       "3568                 5                3        3        9        4        3   \n",
       "10560                0                0        0        0        0        0   \n",
       "10559                0                0        0        0        0        0   \n",
       "11154               53               72       43       53       31       66   \n",
       "7856                70               78       47       47       23       54   \n",
       "7647                 0                0        0        0        1        0   \n",
       "7643                 2                5        0        0        1        0   \n",
       "14561                0                0        0        0        0        0   \n",
       "14567                0                0        0        0        0        0   \n",
       "\n",
       "            mgi_id  \n",
       "5116   MGI:1341833  \n",
       "5115   MGI:1341833  \n",
       "14102  MGI:1346342  \n",
       "14096  MGI:1346342  \n",
       "23034  MGI:1918708  \n",
       "23033  MGI:1918708  \n",
       "15232  MGI:1920574  \n",
       "2637   MGI:1920574  \n",
       "66     MGI:1924923  \n",
       "67     MGI:1924923  \n",
       "14103  MGI:2139758  \n",
       "14097  MGI:2139758  \n",
       "4740   MGI:2384034  \n",
       "4738   MGI:2384034  \n",
       "17359  MGI:2443973  \n",
       "17358  MGI:2443973  \n",
       "551    MGI:2685821  \n",
       "552    MGI:2685821  \n",
       "553    MGI:2685821  \n",
       "3567   MGI:2686021  \n",
       "3568   MGI:2686021  \n",
       "10560  MGI:3031268  \n",
       "10559  MGI:3031268  \n",
       "11154  MGI:3040687  \n",
       "7856   MGI:3040687  \n",
       "7647   MGI:3690448  \n",
       "7643   MGI:3690448  \n",
       "14561  MGI:3780250  \n",
       "14567  MGI:3780250  "
      ]
     },
     "execution_count": 24,
     "metadata": {},
     "output_type": "execute_result"
    }
   ],
   "source": [
    "raw.query(\"mgi_id != 'unknown'\").groupby(\"mgi_id\").filter(lambda df: len(df) > 1).sort_values(\"mgi_id\")"
   ]
  },
  {
   "cell_type": "markdown",
   "metadata": {},
   "source": [
    "Some of the genes which were measured twice seem to have no expression either way, which is ok since they will be filtered out. Some other genes though seem to have different expression values, which will be more complicated."
   ]
  },
  {
   "cell_type": "code",
   "execution_count": 25,
   "metadata": {
    "collapsed": true
   },
   "outputs": [],
   "source": [
    "# drop the column for now\n",
    "# we will re-add the column when the data is in long form\n",
    "raw = raw.drop(\"mgi_id\", axis = 1)"
   ]
  },
  {
   "cell_type": "markdown",
   "metadata": {},
   "source": [
    "## Number of unique genes"
   ]
  },
  {
   "cell_type": "code",
   "execution_count": 26,
   "metadata": {
    "collapsed": false
   },
   "outputs": [
    {
     "data": {
      "text/plain": [
       "24015"
      ]
     },
     "execution_count": 26,
     "metadata": {},
     "output_type": "execute_result"
    }
   ],
   "source": [
    "raw[\"gene_id\"].nunique()"
   ]
  },
  {
   "cell_type": "markdown",
   "metadata": {},
   "source": [
    "## Any empty cells?"
   ]
  },
  {
   "cell_type": "code",
   "execution_count": 27,
   "metadata": {
    "collapsed": false
   },
   "outputs": [
    {
     "data": {
      "text/plain": [
       "gene_id            0\n",
       "old_J147.1         0\n",
       "old_J147.2         0\n",
       "old_J147.3         0\n",
       "old_untreated.1    0\n",
       "old_untreated.2    0\n",
       "old_untreated.3    0\n",
       "young.1            0\n",
       "young.2            0\n",
       "young.3            0\n",
       "young.4            0\n",
       "dtype: int64"
      ]
     },
     "execution_count": 27,
     "metadata": {},
     "output_type": "execute_result"
    }
   ],
   "source": [
    "raw.isnull().sum()"
   ]
  },
  {
   "cell_type": "markdown",
   "metadata": {},
   "source": [
    "## Read sample metadata"
   ]
  },
  {
   "cell_type": "code",
   "execution_count": 28,
   "metadata": {
    "collapsed": true
   },
   "outputs": [],
   "source": [
    "metadata = pd.read_csv(\"sample_metadata.tsv\", sep = '\\t')"
   ]
  },
  {
   "cell_type": "code",
   "execution_count": 29,
   "metadata": {
    "collapsed": false
   },
   "outputs": [
    {
     "data": {
      "text/html": [
       "<div>\n",
       "<table border=\"1\" class=\"dataframe\">\n",
       "  <thead>\n",
       "    <tr style=\"text-align: right;\">\n",
       "      <th></th>\n",
       "      <th>sample</th>\n",
       "      <th>months_old</th>\n",
       "      <th>drug_given</th>\n",
       "      <th>replicate</th>\n",
       "      <th>sample_name</th>\n",
       "    </tr>\n",
       "  </thead>\n",
       "  <tbody>\n",
       "    <tr>\n",
       "      <th>0</th>\n",
       "      <td>1</td>\n",
       "      <td>3</td>\n",
       "      <td>vehicle</td>\n",
       "      <td>1</td>\n",
       "      <td>young.1</td>\n",
       "    </tr>\n",
       "    <tr>\n",
       "      <th>1</th>\n",
       "      <td>2</td>\n",
       "      <td>3</td>\n",
       "      <td>vehicle</td>\n",
       "      <td>2</td>\n",
       "      <td>young.2</td>\n",
       "    </tr>\n",
       "    <tr>\n",
       "      <th>2</th>\n",
       "      <td>3</td>\n",
       "      <td>3</td>\n",
       "      <td>vehicle</td>\n",
       "      <td>3</td>\n",
       "      <td>young.3</td>\n",
       "    </tr>\n",
       "    <tr>\n",
       "      <th>3</th>\n",
       "      <td>4</td>\n",
       "      <td>3</td>\n",
       "      <td>vehicle</td>\n",
       "      <td>4</td>\n",
       "      <td>young.4</td>\n",
       "    </tr>\n",
       "    <tr>\n",
       "      <th>4</th>\n",
       "      <td>5</td>\n",
       "      <td>10</td>\n",
       "      <td>vehicle</td>\n",
       "      <td>1</td>\n",
       "      <td>old_untreated.1</td>\n",
       "    </tr>\n",
       "    <tr>\n",
       "      <th>5</th>\n",
       "      <td>6</td>\n",
       "      <td>10</td>\n",
       "      <td>vehicle</td>\n",
       "      <td>2</td>\n",
       "      <td>old_untreated.2</td>\n",
       "    </tr>\n",
       "    <tr>\n",
       "      <th>6</th>\n",
       "      <td>7</td>\n",
       "      <td>10</td>\n",
       "      <td>vehicle</td>\n",
       "      <td>3</td>\n",
       "      <td>old_untreated.3</td>\n",
       "    </tr>\n",
       "    <tr>\n",
       "      <th>7</th>\n",
       "      <td>8</td>\n",
       "      <td>10</td>\n",
       "      <td>j147</td>\n",
       "      <td>1</td>\n",
       "      <td>old_J147.1</td>\n",
       "    </tr>\n",
       "    <tr>\n",
       "      <th>8</th>\n",
       "      <td>9</td>\n",
       "      <td>10</td>\n",
       "      <td>j147</td>\n",
       "      <td>2</td>\n",
       "      <td>old_J147.2</td>\n",
       "    </tr>\n",
       "    <tr>\n",
       "      <th>9</th>\n",
       "      <td>10</td>\n",
       "      <td>10</td>\n",
       "      <td>j147</td>\n",
       "      <td>3</td>\n",
       "      <td>old_J147.3</td>\n",
       "    </tr>\n",
       "  </tbody>\n",
       "</table>\n",
       "</div>"
      ],
      "text/plain": [
       "   sample  months_old drug_given  replicate      sample_name\n",
       "0       1           3    vehicle          1          young.1\n",
       "1       2           3    vehicle          2          young.2\n",
       "2       3           3    vehicle          3          young.3\n",
       "3       4           3    vehicle          4          young.4\n",
       "4       5          10    vehicle          1  old_untreated.1\n",
       "5       6          10    vehicle          2  old_untreated.2\n",
       "6       7          10    vehicle          3  old_untreated.3\n",
       "7       8          10       j147          1       old_J147.1\n",
       "8       9          10       j147          2       old_J147.2\n",
       "9      10          10       j147          3       old_J147.3"
      ]
     },
     "execution_count": 29,
     "metadata": {},
     "output_type": "execute_result"
    }
   ],
   "source": [
    "metadata"
   ]
  },
  {
   "cell_type": "markdown",
   "metadata": {},
   "source": [
    "## Restructure the data to long format\n",
    "\n",
    "Columns: gene_name, months_old, drug, replicate"
   ]
  },
  {
   "cell_type": "code",
   "execution_count": 30,
   "metadata": {
    "collapsed": true
   },
   "outputs": [],
   "source": [
    "def reshape(data, metadata):\n",
    "    def make_df(column):\n",
    "        sub = data.loc[:, [\"gene_id\", column]]\n",
    "        sub = sub.rename(columns = {column: \"gene_count\"})\n",
    "        sub[\"sample_name\"] = column\n",
    "        return sub\n",
    "    \n",
    "    temp = [\n",
    "        make_df(column)\n",
    "        for column in data.columns if column != \"gene_id\"\n",
    "    ]\n",
    "    \n",
    "    return pd.concat(temp).reset_index(drop = True)"
   ]
  },
  {
   "cell_type": "code",
   "execution_count": 31,
   "metadata": {
    "collapsed": false
   },
   "outputs": [],
   "source": [
    "long = reshape(raw, metadata)\n",
    "\n",
    "data = pd.merge(long, metadata, how = \"left\", on = \"sample_name\")"
   ]
  },
  {
   "cell_type": "code",
   "execution_count": 32,
   "metadata": {
    "collapsed": true
   },
   "outputs": [],
   "source": [
    "data[\"mgi_id\"] = data[\"gene_id\"].map(\n",
    "    lambda v: mapping[v] if v in mapping else \"unknown\"\n",
    ")"
   ]
  },
  {
   "cell_type": "code",
   "execution_count": 33,
   "metadata": {
    "collapsed": false
   },
   "outputs": [
    {
     "data": {
      "text/html": [
       "<div>\n",
       "<table border=\"1\" class=\"dataframe\">\n",
       "  <thead>\n",
       "    <tr style=\"text-align: right;\">\n",
       "      <th></th>\n",
       "      <th>gene_id</th>\n",
       "      <th>gene_count</th>\n",
       "      <th>sample_name</th>\n",
       "      <th>sample</th>\n",
       "      <th>months_old</th>\n",
       "      <th>drug_given</th>\n",
       "      <th>replicate</th>\n",
       "      <th>mgi_id</th>\n",
       "    </tr>\n",
       "  </thead>\n",
       "  <tbody>\n",
       "    <tr>\n",
       "      <th>0</th>\n",
       "      <td>Xkr4</td>\n",
       "      <td>92</td>\n",
       "      <td>old_J147.1</td>\n",
       "      <td>8</td>\n",
       "      <td>10</td>\n",
       "      <td>j147</td>\n",
       "      <td>1</td>\n",
       "      <td>MGI:3528744</td>\n",
       "    </tr>\n",
       "    <tr>\n",
       "      <th>1</th>\n",
       "      <td>Rp1</td>\n",
       "      <td>0</td>\n",
       "      <td>old_J147.1</td>\n",
       "      <td>8</td>\n",
       "      <td>10</td>\n",
       "      <td>j147</td>\n",
       "      <td>1</td>\n",
       "      <td>MGI:1341105</td>\n",
       "    </tr>\n",
       "    <tr>\n",
       "      <th>2</th>\n",
       "      <td>Sox17</td>\n",
       "      <td>80</td>\n",
       "      <td>old_J147.1</td>\n",
       "      <td>8</td>\n",
       "      <td>10</td>\n",
       "      <td>j147</td>\n",
       "      <td>1</td>\n",
       "      <td>MGI:107543</td>\n",
       "    </tr>\n",
       "    <tr>\n",
       "      <th>3</th>\n",
       "      <td>Mrpl15</td>\n",
       "      <td>421</td>\n",
       "      <td>old_J147.1</td>\n",
       "      <td>8</td>\n",
       "      <td>10</td>\n",
       "      <td>j147</td>\n",
       "      <td>1</td>\n",
       "      <td>MGI:1351639</td>\n",
       "    </tr>\n",
       "    <tr>\n",
       "      <th>4</th>\n",
       "      <td>Lypla1</td>\n",
       "      <td>309</td>\n",
       "      <td>old_J147.1</td>\n",
       "      <td>8</td>\n",
       "      <td>10</td>\n",
       "      <td>j147</td>\n",
       "      <td>1</td>\n",
       "      <td>MGI:1344588</td>\n",
       "    </tr>\n",
       "  </tbody>\n",
       "</table>\n",
       "</div>"
      ],
      "text/plain": [
       "  gene_id  gene_count sample_name  sample  months_old drug_given  replicate  \\\n",
       "0    Xkr4          92  old_J147.1       8          10       j147          1   \n",
       "1     Rp1           0  old_J147.1       8          10       j147          1   \n",
       "2   Sox17          80  old_J147.1       8          10       j147          1   \n",
       "3  Mrpl15         421  old_J147.1       8          10       j147          1   \n",
       "4  Lypla1         309  old_J147.1       8          10       j147          1   \n",
       "\n",
       "        mgi_id  \n",
       "0  MGI:3528744  \n",
       "1  MGI:1341105  \n",
       "2   MGI:107543  \n",
       "3  MGI:1351639  \n",
       "4  MGI:1344588  "
      ]
     },
     "execution_count": 33,
     "metadata": {},
     "output_type": "execute_result"
    }
   ],
   "source": [
    "data.head()"
   ]
  },
  {
   "cell_type": "code",
   "execution_count": 34,
   "metadata": {
    "collapsed": false
   },
   "outputs": [
    {
     "data": {
      "text/plain": [
       "(240150, 8)"
      ]
     },
     "execution_count": 34,
     "metadata": {},
     "output_type": "execute_result"
    }
   ],
   "source": [
    "data.shape"
   ]
  },
  {
   "cell_type": "markdown",
   "metadata": {},
   "source": [
    "## How many genes with zero expression did each sample have?"
   ]
  },
  {
   "cell_type": "code",
   "execution_count": 35,
   "metadata": {
    "collapsed": false,
    "scrolled": true
   },
   "outputs": [
    {
     "data": {
      "text/plain": [
       "<matplotlib.text.Text at 0x7f7316743d30>"
      ]
     },
     "execution_count": 35,
     "metadata": {},
     "output_type": "execute_result"
    },
    {
     "data": {
      "image/png": "[encoded data removed]",
      "text/plain": [
       "<matplotlib.figure.Figure at 0x7f7316784278>"
      ]
     },
     "metadata": {},
     "output_type": "display_data"
    }
   ],
   "source": [
    "fig = data.groupby(\"sample\").apply(lambda df: (df[\"gene_count\"] == 0).sum()).plot(kind = \"bar\")\n",
    "fig.set_ylabel(\"Number of genes with zero expression\")\n",
    "fig.set_title(\"Number of zero expression genes by sample\")"
   ]
  },
  {
   "cell_type": "markdown",
   "metadata": {},
   "source": [
    "## Number of genes with zero expression in all samples"
   ]
  },
  {
   "cell_type": "code",
   "execution_count": 36,
   "metadata": {
    "collapsed": false
   },
   "outputs": [
    {
     "data": {
      "text/plain": [
       "5049"
      ]
     },
     "execution_count": 36,
     "metadata": {},
     "output_type": "execute_result"
    }
   ],
   "source": [
    "(data.groupby(\"gene_id\")[\"gene_count\"].sum() == 0).sum()"
   ]
  },
  {
   "cell_type": "markdown",
   "metadata": {},
   "source": [
    "5049 of 24015 genes had no expression value across all 10 of the samples, and therefore need to be excluded from further analysis."
   ]
  },
  {
   "cell_type": "markdown",
   "metadata": {},
   "source": [
    "## Filter genes which were zero in all samples\n",
    "\n",
    "We can't calculate drift for genes which have zero expression. These data have no null values, but a bunch of zeroes instead."
   ]
  },
  {
   "cell_type": "code",
   "execution_count": 37,
   "metadata": {
    "collapsed": true
   },
   "outputs": [],
   "source": [
    "good = data.groupby(\"gene_id\").filter(lambda df: df[\"gene_count\"].sum() > 0)"
   ]
  },
  {
   "cell_type": "code",
   "execution_count": 38,
   "metadata": {
    "collapsed": false
   },
   "outputs": [
    {
     "data": {
      "text/plain": [
       "(189660, 8)"
      ]
     },
     "execution_count": 38,
     "metadata": {},
     "output_type": "execute_result"
    }
   ],
   "source": [
    "good.shape"
   ]
  },
  {
   "cell_type": "code",
   "execution_count": 39,
   "metadata": {
    "collapsed": false
   },
   "outputs": [
    {
     "data": {
      "text/html": [
       "<div>\n",
       "<table border=\"1\" class=\"dataframe\">\n",
       "  <thead>\n",
       "    <tr style=\"text-align: right;\">\n",
       "      <th></th>\n",
       "      <th>gene_id</th>\n",
       "      <th>gene_count</th>\n",
       "      <th>sample_name</th>\n",
       "      <th>sample</th>\n",
       "      <th>months_old</th>\n",
       "      <th>drug_given</th>\n",
       "      <th>replicate</th>\n",
       "      <th>mgi_id</th>\n",
       "    </tr>\n",
       "  </thead>\n",
       "  <tbody>\n",
       "    <tr>\n",
       "      <th>0</th>\n",
       "      <td>Xkr4</td>\n",
       "      <td>92</td>\n",
       "      <td>old_J147.1</td>\n",
       "      <td>8</td>\n",
       "      <td>10</td>\n",
       "      <td>j147</td>\n",
       "      <td>1</td>\n",
       "      <td>MGI:3528744</td>\n",
       "    </tr>\n",
       "    <tr>\n",
       "      <th>1</th>\n",
       "      <td>Rp1</td>\n",
       "      <td>0</td>\n",
       "      <td>old_J147.1</td>\n",
       "      <td>8</td>\n",
       "      <td>10</td>\n",
       "      <td>j147</td>\n",
       "      <td>1</td>\n",
       "      <td>MGI:1341105</td>\n",
       "    </tr>\n",
       "    <tr>\n",
       "      <th>2</th>\n",
       "      <td>Sox17</td>\n",
       "      <td>80</td>\n",
       "      <td>old_J147.1</td>\n",
       "      <td>8</td>\n",
       "      <td>10</td>\n",
       "      <td>j147</td>\n",
       "      <td>1</td>\n",
       "      <td>MGI:107543</td>\n",
       "    </tr>\n",
       "    <tr>\n",
       "      <th>3</th>\n",
       "      <td>Mrpl15</td>\n",
       "      <td>421</td>\n",
       "      <td>old_J147.1</td>\n",
       "      <td>8</td>\n",
       "      <td>10</td>\n",
       "      <td>j147</td>\n",
       "      <td>1</td>\n",
       "      <td>MGI:1351639</td>\n",
       "    </tr>\n",
       "    <tr>\n",
       "      <th>4</th>\n",
       "      <td>Lypla1</td>\n",
       "      <td>309</td>\n",
       "      <td>old_J147.1</td>\n",
       "      <td>8</td>\n",
       "      <td>10</td>\n",
       "      <td>j147</td>\n",
       "      <td>1</td>\n",
       "      <td>MGI:1344588</td>\n",
       "    </tr>\n",
       "  </tbody>\n",
       "</table>\n",
       "</div>"
      ],
      "text/plain": [
       "  gene_id  gene_count sample_name  sample  months_old drug_given  replicate  \\\n",
       "0    Xkr4          92  old_J147.1       8          10       j147          1   \n",
       "1     Rp1           0  old_J147.1       8          10       j147          1   \n",
       "2   Sox17          80  old_J147.1       8          10       j147          1   \n",
       "3  Mrpl15         421  old_J147.1       8          10       j147          1   \n",
       "4  Lypla1         309  old_J147.1       8          10       j147          1   \n",
       "\n",
       "        mgi_id  \n",
       "0  MGI:3528744  \n",
       "1  MGI:1341105  \n",
       "2   MGI:107543  \n",
       "3  MGI:1351639  \n",
       "4  MGI:1344588  "
      ]
     },
     "execution_count": 39,
     "metadata": {},
     "output_type": "execute_result"
    }
   ],
   "source": [
    "good.head()"
   ]
  },
  {
   "cell_type": "code",
   "execution_count": 40,
   "metadata": {
    "collapsed": false
   },
   "outputs": [
    {
     "data": {
      "text/plain": [
       "18966"
      ]
     },
     "execution_count": 40,
     "metadata": {},
     "output_type": "execute_result"
    }
   ],
   "source": [
    "good[\"gene_id\"].nunique()"
   ]
  },
  {
   "cell_type": "markdown",
   "metadata": {},
   "source": [
    "## Mean expression of each gene across all samples\n",
    "\n",
    "Remaining genes may still have zero expression in some of the ten samples. Let's plot the mean expression of each gene across all samples."
   ]
  },
  {
   "cell_type": "code",
   "execution_count": 41,
   "metadata": {
    "collapsed": false
   },
   "outputs": [
    {
     "data": {
      "text/plain": [
       "<matplotlib.text.Text at 0x7f7316681780>"
      ]
     },
     "execution_count": 41,
     "metadata": {},
     "output_type": "execute_result"
    },
    {
     "data": {
      "image/png": "[encoded data removed]",
      "text/plain": [
       "<matplotlib.figure.Figure at 0x7f7316709be0>"
      ]
     },
     "metadata": {},
     "output_type": "display_data"
    }
   ],
   "source": [
    "means = good.groupby(\"gene_id\")[\"gene_count\"].mean()\n",
    "\n",
    "fig = sns.distplot(np.log(means))\n",
    "fig.set_title(\"Distribution of mean expression in 10 samples for all 18966 genes\")\n",
    "fig.set_xlabel(\"Natural log of mean expression\")"
   ]
  },
  {
   "cell_type": "markdown",
   "metadata": {},
   "source": [
    "## Filter any remaining zeroes\n",
    "\n",
    "Unfortunately we can't have zeroes in either the old or young sample, since the log will give negative infinity. We therefore remove any genes which are zero in any sample."
   ]
  },
  {
   "cell_type": "code",
   "execution_count": 42,
   "metadata": {
    "collapsed": true
   },
   "outputs": [],
   "source": [
    "clean = good.groupby(\"gene_id\").filter(lambda df: all(df[\"gene_count\"] > 0)).reset_index(drop = True)"
   ]
  },
  {
   "cell_type": "code",
   "execution_count": 43,
   "metadata": {
    "collapsed": false
   },
   "outputs": [
    {
     "data": {
      "text/plain": [
       "(152520, 8)"
      ]
     },
     "execution_count": 43,
     "metadata": {},
     "output_type": "execute_result"
    }
   ],
   "source": [
    "clean.shape"
   ]
  },
  {
   "cell_type": "code",
   "execution_count": 44,
   "metadata": {
    "collapsed": false
   },
   "outputs": [
    {
     "data": {
      "text/html": [
       "<div>\n",
       "<table border=\"1\" class=\"dataframe\">\n",
       "  <thead>\n",
       "    <tr style=\"text-align: right;\">\n",
       "      <th></th>\n",
       "      <th>gene_id</th>\n",
       "      <th>gene_count</th>\n",
       "      <th>sample_name</th>\n",
       "      <th>sample</th>\n",
       "      <th>months_old</th>\n",
       "      <th>drug_given</th>\n",
       "      <th>replicate</th>\n",
       "      <th>mgi_id</th>\n",
       "    </tr>\n",
       "  </thead>\n",
       "  <tbody>\n",
       "    <tr>\n",
       "      <th>0</th>\n",
       "      <td>Xkr4</td>\n",
       "      <td>92</td>\n",
       "      <td>old_J147.1</td>\n",
       "      <td>8</td>\n",
       "      <td>10</td>\n",
       "      <td>j147</td>\n",
       "      <td>1</td>\n",
       "      <td>MGI:3528744</td>\n",
       "    </tr>\n",
       "    <tr>\n",
       "      <th>1</th>\n",
       "      <td>Sox17</td>\n",
       "      <td>80</td>\n",
       "      <td>old_J147.1</td>\n",
       "      <td>8</td>\n",
       "      <td>10</td>\n",
       "      <td>j147</td>\n",
       "      <td>1</td>\n",
       "      <td>MGI:107543</td>\n",
       "    </tr>\n",
       "    <tr>\n",
       "      <th>2</th>\n",
       "      <td>Mrpl15</td>\n",
       "      <td>421</td>\n",
       "      <td>old_J147.1</td>\n",
       "      <td>8</td>\n",
       "      <td>10</td>\n",
       "      <td>j147</td>\n",
       "      <td>1</td>\n",
       "      <td>MGI:1351639</td>\n",
       "    </tr>\n",
       "    <tr>\n",
       "      <th>3</th>\n",
       "      <td>Lypla1</td>\n",
       "      <td>309</td>\n",
       "      <td>old_J147.1</td>\n",
       "      <td>8</td>\n",
       "      <td>10</td>\n",
       "      <td>j147</td>\n",
       "      <td>1</td>\n",
       "      <td>MGI:1344588</td>\n",
       "    </tr>\n",
       "    <tr>\n",
       "      <th>4</th>\n",
       "      <td>Tcea1</td>\n",
       "      <td>224</td>\n",
       "      <td>old_J147.1</td>\n",
       "      <td>8</td>\n",
       "      <td>10</td>\n",
       "      <td>j147</td>\n",
       "      <td>1</td>\n",
       "      <td>MGI:1196624</td>\n",
       "    </tr>\n",
       "  </tbody>\n",
       "</table>\n",
       "</div>"
      ],
      "text/plain": [
       "  gene_id  gene_count sample_name  sample  months_old drug_given  replicate  \\\n",
       "0    Xkr4          92  old_J147.1       8          10       j147          1   \n",
       "1   Sox17          80  old_J147.1       8          10       j147          1   \n",
       "2  Mrpl15         421  old_J147.1       8          10       j147          1   \n",
       "3  Lypla1         309  old_J147.1       8          10       j147          1   \n",
       "4   Tcea1         224  old_J147.1       8          10       j147          1   \n",
       "\n",
       "        mgi_id  \n",
       "0  MGI:3528744  \n",
       "1   MGI:107543  \n",
       "2  MGI:1351639  \n",
       "3  MGI:1344588  \n",
       "4  MGI:1196624  "
      ]
     },
     "execution_count": 44,
     "metadata": {},
     "output_type": "execute_result"
    }
   ],
   "source": [
    "clean.head()"
   ]
  },
  {
   "cell_type": "code",
   "execution_count": 45,
   "metadata": {
    "collapsed": false
   },
   "outputs": [
    {
     "data": {
      "text/plain": [
       "0"
      ]
     },
     "execution_count": 45,
     "metadata": {},
     "output_type": "execute_result"
    }
   ],
   "source": [
    "(clean[\"gene_count\"] == 0).sum()"
   ]
  },
  {
   "cell_type": "code",
   "execution_count": 46,
   "metadata": {
    "collapsed": false
   },
   "outputs": [
    {
     "data": {
      "text/plain": [
       "15252"
      ]
     },
     "execution_count": 46,
     "metadata": {},
     "output_type": "execute_result"
    }
   ],
   "source": [
    "clean[\"gene_id\"].nunique()"
   ]
  },
  {
   "cell_type": "markdown",
   "metadata": {},
   "source": [
    "We are left with 15252 genes which have a gene count of at least 1 in all samples. We can calculate the drift for these genes."
   ]
  },
  {
   "cell_type": "markdown",
   "metadata": {},
   "source": [
    "## Add the log count column"
   ]
  },
  {
   "cell_type": "code",
   "execution_count": 47,
   "metadata": {
    "collapsed": true
   },
   "outputs": [],
   "source": [
    "clean[\"log_count\"] = np.log(clean[\"gene_count\"])"
   ]
  },
  {
   "cell_type": "code",
   "execution_count": 48,
   "metadata": {
    "collapsed": false
   },
   "outputs": [
    {
     "data": {
      "text/html": [
       "<div>\n",
       "<table border=\"1\" class=\"dataframe\">\n",
       "  <thead>\n",
       "    <tr style=\"text-align: right;\">\n",
       "      <th></th>\n",
       "      <th>gene_id</th>\n",
       "      <th>gene_count</th>\n",
       "      <th>sample_name</th>\n",
       "      <th>sample</th>\n",
       "      <th>months_old</th>\n",
       "      <th>drug_given</th>\n",
       "      <th>replicate</th>\n",
       "      <th>mgi_id</th>\n",
       "      <th>log_count</th>\n",
       "    </tr>\n",
       "  </thead>\n",
       "  <tbody>\n",
       "    <tr>\n",
       "      <th>0</th>\n",
       "      <td>Xkr4</td>\n",
       "      <td>92</td>\n",
       "      <td>old_J147.1</td>\n",
       "      <td>8</td>\n",
       "      <td>10</td>\n",
       "      <td>j147</td>\n",
       "      <td>1</td>\n",
       "      <td>MGI:3528744</td>\n",
       "      <td>4.521789</td>\n",
       "    </tr>\n",
       "    <tr>\n",
       "      <th>1</th>\n",
       "      <td>Sox17</td>\n",
       "      <td>80</td>\n",
       "      <td>old_J147.1</td>\n",
       "      <td>8</td>\n",
       "      <td>10</td>\n",
       "      <td>j147</td>\n",
       "      <td>1</td>\n",
       "      <td>MGI:107543</td>\n",
       "      <td>4.382027</td>\n",
       "    </tr>\n",
       "    <tr>\n",
       "      <th>2</th>\n",
       "      <td>Mrpl15</td>\n",
       "      <td>421</td>\n",
       "      <td>old_J147.1</td>\n",
       "      <td>8</td>\n",
       "      <td>10</td>\n",
       "      <td>j147</td>\n",
       "      <td>1</td>\n",
       "      <td>MGI:1351639</td>\n",
       "      <td>6.042633</td>\n",
       "    </tr>\n",
       "    <tr>\n",
       "      <th>3</th>\n",
       "      <td>Lypla1</td>\n",
       "      <td>309</td>\n",
       "      <td>old_J147.1</td>\n",
       "      <td>8</td>\n",
       "      <td>10</td>\n",
       "      <td>j147</td>\n",
       "      <td>1</td>\n",
       "      <td>MGI:1344588</td>\n",
       "      <td>5.733341</td>\n",
       "    </tr>\n",
       "    <tr>\n",
       "      <th>4</th>\n",
       "      <td>Tcea1</td>\n",
       "      <td>224</td>\n",
       "      <td>old_J147.1</td>\n",
       "      <td>8</td>\n",
       "      <td>10</td>\n",
       "      <td>j147</td>\n",
       "      <td>1</td>\n",
       "      <td>MGI:1196624</td>\n",
       "      <td>5.411646</td>\n",
       "    </tr>\n",
       "  </tbody>\n",
       "</table>\n",
       "</div>"
      ],
      "text/plain": [
       "  gene_id  gene_count sample_name  sample  months_old drug_given  replicate  \\\n",
       "0    Xkr4          92  old_J147.1       8          10       j147          1   \n",
       "1   Sox17          80  old_J147.1       8          10       j147          1   \n",
       "2  Mrpl15         421  old_J147.1       8          10       j147          1   \n",
       "3  Lypla1         309  old_J147.1       8          10       j147          1   \n",
       "4   Tcea1         224  old_J147.1       8          10       j147          1   \n",
       "\n",
       "        mgi_id  log_count  \n",
       "0  MGI:3528744   4.521789  \n",
       "1   MGI:107543   4.382027  \n",
       "2  MGI:1351639   6.042633  \n",
       "3  MGI:1344588   5.733341  \n",
       "4  MGI:1196624   5.411646  "
      ]
     },
     "execution_count": 48,
     "metadata": {},
     "output_type": "execute_result"
    }
   ],
   "source": [
    "clean.head()"
   ]
  },
  {
   "cell_type": "markdown",
   "metadata": {},
   "source": [
    "## Mean count distribution for all genes\n",
    "\n",
    "What does the distribution look like after filtering all the zeroes?"
   ]
  },
  {
   "cell_type": "code",
   "execution_count": 49,
   "metadata": {
    "collapsed": false
   },
   "outputs": [
    {
     "data": {
      "text/plain": [
       "<matplotlib.text.Text at 0x7f7316527be0>"
      ]
     },
     "execution_count": 49,
     "metadata": {},
     "output_type": "execute_result"
    },
    {
     "data": {
      "image/png": "[encoded data removed]",
      "text/plain": [
       "<matplotlib.figure.Figure at 0x7f7318d0d9b0>"
      ]
     },
     "metadata": {},
     "output_type": "display_data"
    }
   ],
   "source": [
    "means = clean.groupby(\"gene_id\")[\"log_count\"].mean()\n",
    "\n",
    "fig = sns.distplot(means)\n",
    "fig.set_title(\"Distribution of mean expression in 10 samples for 15252 genes\")\n",
    "fig.set_xlabel(\"Natural log of mean expression\")"
   ]
  },
  {
   "cell_type": "markdown",
   "metadata": {},
   "source": [
    "This looks much nicer."
   ]
  },
  {
   "cell_type": "markdown",
   "metadata": {},
   "source": [
    "---"
   ]
  },
  {
   "cell_type": "markdown",
   "metadata": {},
   "source": [
    "## Drop genes which were sequenced twice\n",
    "\n",
    "Since we have ten samples, and each gene should have only been sequenced once, we will drop all genes which were sequenced more than once, or which has no MGI id, since we will not be able to examine the GO terms later."
   ]
  },
  {
   "cell_type": "code",
   "execution_count": 50,
   "metadata": {
    "collapsed": false
   },
   "outputs": [
    {
     "data": {
      "text/plain": [
       "unknown        160\n",
       "MGI:3040687     20\n",
       "MGI:2686021     20\n",
       "MGI:1918708     20\n",
       "MGI:106676      10\n",
       "Name: mgi_id, dtype: int64"
      ]
     },
     "execution_count": 50,
     "metadata": {},
     "output_type": "execute_result"
    }
   ],
   "source": [
    "clean[\"mgi_id\"].value_counts().head()"
   ]
  },
  {
   "cell_type": "code",
   "execution_count": 51,
   "metadata": {
    "collapsed": true
   },
   "outputs": [],
   "source": [
    "clean = clean.groupby(\"mgi_id\").filter(lambda df: len(df) == 10)"
   ]
  },
  {
   "cell_type": "code",
   "execution_count": 52,
   "metadata": {
    "collapsed": false
   },
   "outputs": [
    {
     "data": {
      "text/plain": [
       "True"
      ]
     },
     "execution_count": 52,
     "metadata": {},
     "output_type": "execute_result"
    }
   ],
   "source": [
    "all(clean[\"mgi_id\"].value_counts() == 10)"
   ]
  },
  {
   "cell_type": "code",
   "execution_count": 53,
   "metadata": {
    "collapsed": false
   },
   "outputs": [
    {
     "data": {
      "text/plain": [
       "15230"
      ]
     },
     "execution_count": 53,
     "metadata": {},
     "output_type": "execute_result"
    }
   ],
   "source": [
    "clean[\"mgi_id\"].nunique()"
   ]
  },
  {
   "cell_type": "markdown",
   "metadata": {},
   "source": [
    "We only filtered an additional 22 genes (15252 to 15230) by removing those which had no MGI id or were sequenced multiple times. We are left with a total of 15230 unique genes (as decided by MGI id)."
   ]
  },
  {
   "cell_type": "markdown",
   "metadata": {},
   "source": [
    "## Write to file"
   ]
  },
  {
   "cell_type": "code",
   "execution_count": 54,
   "metadata": {
    "collapsed": true
   },
   "outputs": [],
   "source": [
    "clean.to_csv(\"filtered_expression.tsv\", sep = '\\t', index = False)"
   ]
  }
 ],
 "metadata": {
  "kernelspec": {
   "display_name": "Python 3",
   "language": "python",
   "name": "python3"
  },
  "language_info": {
   "codemirror_mode": {
    "name": "ipython",
    "version": 3
   },
   "file_extension": ".py",
   "mimetype": "text/x-python",
   "name": "python",
   "nbconvert_exporter": "python",
   "pygments_lexer": "ipython3",
   "version": "3.4.2"
  }
 },
 "nbformat": 4,
 "nbformat_minor": 0
}
