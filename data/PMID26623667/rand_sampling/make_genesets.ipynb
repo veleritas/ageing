{
 "cells": [
  {
   "cell_type": "markdown",
   "metadata": {},
   "source": [
    "# Create random gene subsets of PMID26623667\n",
    "\n",
    "Tong Shu Li\n",
    "\n",
    "### Background\n",
    "\n",
    "When trying to interpret the GO term drift analysis results for PMID26623667, we would like to know what the distribution of results is like for randomly selected gene sets containing the same number of genes as the GO term. Therefore we will generate random gene sets of different sizes and use that to interpret our GO term results.\n",
    "\n",
    "### Overview\n",
    "\n",
    "We will be doing two analyses with the randomly generated data. In the first, we will examine the general influence of gene set size on drift model parameters. In the second, we will use the randomly generated data to score the GO terms and identify outliers.\n",
    "\n",
    "For the overview analysis, we will generate 100 random gene sets per gene set size, with gene set sizes increasing by one. For the detailed GO analysis, we will generate 10000 gene sets per gene set size, but will increase gene set size in increments of 10."
   ]
  },
  {
   "cell_type": "code",
   "execution_count": 1,
   "metadata": {
    "collapsed": true
   },
   "outputs": [],
   "source": [
    "import json\n",
    "import os\n",
    "import pandas as pd\n",
    "\n",
    "from itertools import product\n",
    "from numpy import random as rand\n",
    "from tqdm import tqdm"
   ]
  },
  {
   "cell_type": "code",
   "execution_count": 2,
   "metadata": {
    "collapsed": true
   },
   "outputs": [],
   "source": [
    "rand.seed(20160617)"
   ]
  },
  {
   "cell_type": "markdown",
   "metadata": {},
   "source": [
    "---"
   ]
  },
  {
   "cell_type": "markdown",
   "metadata": {},
   "source": [
    "## Read the expression data for PMID26623667"
   ]
  },
  {
   "cell_type": "code",
   "execution_count": 3,
   "metadata": {
    "collapsed": true
   },
   "outputs": [],
   "source": [
    "data = (pd\n",
    "    .read_csv(\"../clean_annotated_cpm_values.tsv\", sep = '\\t')\n",
    "    .rename(columns = {\"wormbaseid\": \"wormbase_id\"})\n",
    ")"
   ]
  },
  {
   "cell_type": "code",
   "execution_count": 4,
   "metadata": {
    "collapsed": false
   },
   "outputs": [
    {
     "data": {
      "text/plain": [
       "(391644, 13)"
      ]
     },
     "execution_count": 4,
     "metadata": {},
     "output_type": "execute_result"
    }
   ],
   "source": [
    "data.shape"
   ]
  },
  {
   "cell_type": "code",
   "execution_count": 5,
   "metadata": {
    "collapsed": false
   },
   "outputs": [
    {
     "data": {
      "text/html": [
       "<div>\n",
       "<table border=\"1\" class=\"dataframe\">\n",
       "  <thead>\n",
       "    <tr style=\"text-align: right;\">\n",
       "      <th></th>\n",
       "      <th>seqname</th>\n",
       "      <th>samples</th>\n",
       "      <th>cpm_value</th>\n",
       "      <th>cohort</th>\n",
       "      <th>replicate</th>\n",
       "      <th>day_harvested</th>\n",
       "      <th>drug</th>\n",
       "      <th>drug_conc_uM</th>\n",
       "      <th>day_drug_added</th>\n",
       "      <th>youngref_cpm</th>\n",
       "      <th>RLFEC</th>\n",
       "      <th>wormbase_id</th>\n",
       "      <th>gene_symbol</th>\n",
       "    </tr>\n",
       "  </thead>\n",
       "  <tbody>\n",
       "    <tr>\n",
       "      <th>0</th>\n",
       "      <td>2RSSE.1</td>\n",
       "      <td>11</td>\n",
       "      <td>4.55942</td>\n",
       "      <td>1</td>\n",
       "      <td>1</td>\n",
       "      <td>1</td>\n",
       "      <td>water</td>\n",
       "      <td>0</td>\n",
       "      <td>1</td>\n",
       "      <td>4.105726</td>\n",
       "      <td>0.104814</td>\n",
       "      <td>WBGene00007064</td>\n",
       "      <td>2RSSE.1</td>\n",
       "    </tr>\n",
       "    <tr>\n",
       "      <th>1</th>\n",
       "      <td>2RSSE.1</td>\n",
       "      <td>12</td>\n",
       "      <td>3.21332</td>\n",
       "      <td>1</td>\n",
       "      <td>2</td>\n",
       "      <td>1</td>\n",
       "      <td>water</td>\n",
       "      <td>0</td>\n",
       "      <td>1</td>\n",
       "      <td>4.105726</td>\n",
       "      <td>-0.245078</td>\n",
       "      <td>WBGene00007064</td>\n",
       "      <td>2RSSE.1</td>\n",
       "    </tr>\n",
       "    <tr>\n",
       "      <th>2</th>\n",
       "      <td>2RSSE.1</td>\n",
       "      <td>13</td>\n",
       "      <td>4.54444</td>\n",
       "      <td>1</td>\n",
       "      <td>3</td>\n",
       "      <td>1</td>\n",
       "      <td>water</td>\n",
       "      <td>0</td>\n",
       "      <td>1</td>\n",
       "      <td>4.105726</td>\n",
       "      <td>0.101521</td>\n",
       "      <td>WBGene00007064</td>\n",
       "      <td>2RSSE.1</td>\n",
       "    </tr>\n",
       "    <tr>\n",
       "      <th>3</th>\n",
       "      <td>2RSSE.1</td>\n",
       "      <td>21</td>\n",
       "      <td>11.43680</td>\n",
       "      <td>2</td>\n",
       "      <td>1</td>\n",
       "      <td>3</td>\n",
       "      <td>water</td>\n",
       "      <td>0</td>\n",
       "      <td>1</td>\n",
       "      <td>4.105726</td>\n",
       "      <td>1.024454</td>\n",
       "      <td>WBGene00007064</td>\n",
       "      <td>2RSSE.1</td>\n",
       "    </tr>\n",
       "    <tr>\n",
       "      <th>4</th>\n",
       "      <td>2RSSE.1</td>\n",
       "      <td>22</td>\n",
       "      <td>4.77467</td>\n",
       "      <td>2</td>\n",
       "      <td>2</td>\n",
       "      <td>3</td>\n",
       "      <td>water</td>\n",
       "      <td>0</td>\n",
       "      <td>1</td>\n",
       "      <td>4.105726</td>\n",
       "      <td>0.150942</td>\n",
       "      <td>WBGene00007064</td>\n",
       "      <td>2RSSE.1</td>\n",
       "    </tr>\n",
       "  </tbody>\n",
       "</table>\n",
       "</div>"
      ],
      "text/plain": [
       "   seqname  samples  cpm_value  cohort  replicate  day_harvested   drug  \\\n",
       "0  2RSSE.1       11    4.55942       1          1              1  water   \n",
       "1  2RSSE.1       12    3.21332       1          2              1  water   \n",
       "2  2RSSE.1       13    4.54444       1          3              1  water   \n",
       "3  2RSSE.1       21   11.43680       2          1              3  water   \n",
       "4  2RSSE.1       22    4.77467       2          2              3  water   \n",
       "\n",
       "   drug_conc_uM  day_drug_added  youngref_cpm     RLFEC     wormbase_id  \\\n",
       "0             0               1      4.105726  0.104814  WBGene00007064   \n",
       "1             0               1      4.105726 -0.245078  WBGene00007064   \n",
       "2             0               1      4.105726  0.101521  WBGene00007064   \n",
       "3             0               1      4.105726  1.024454  WBGene00007064   \n",
       "4             0               1      4.105726  0.150942  WBGene00007064   \n",
       "\n",
       "  gene_symbol  \n",
       "0     2RSSE.1  \n",
       "1     2RSSE.1  \n",
       "2     2RSSE.1  \n",
       "3     2RSSE.1  \n",
       "4     2RSSE.1  "
      ]
     },
     "execution_count": 5,
     "metadata": {},
     "output_type": "execute_result"
    }
   ],
   "source": [
    "data.head()"
   ]
  },
  {
   "cell_type": "code",
   "execution_count": 6,
   "metadata": {
    "collapsed": false
   },
   "outputs": [
    {
     "data": {
      "text/plain": [
       "10879"
      ]
     },
     "execution_count": 6,
     "metadata": {},
     "output_type": "execute_result"
    }
   ],
   "source": [
    "data[\"wormbase_id\"].nunique()"
   ]
  },
  {
   "cell_type": "markdown",
   "metadata": {},
   "source": [
    "The dataset contains 10879 unique genes which we will randomly sample from.\n",
    "\n",
    "---\n",
    "\n",
    "## Create random gene sets of different sizes\n",
    "\n",
    "### Parameters\n",
    "\n",
    "We will generate gene sets of 10 to 500 genes inclusive, which matches the filtering requirements for the GO terms. However, the step size will be 10 instead of 1 in order to reduce the amount of data which needs to be stored.\n",
    "\n",
    "All gene sets are stored in the `genesets/` folder, which is assumed to already exist."
   ]
  },
  {
   "cell_type": "code",
   "execution_count": 7,
   "metadata": {
    "collapsed": true
   },
   "outputs": [],
   "source": [
    "# min and max gene set size, inclusive\n",
    "num_min = 10\n",
    "num_max = 500\n",
    "\n",
    "all_genes = data[\"wormbase_id\"].unique()"
   ]
  },
  {
   "cell_type": "markdown",
   "metadata": {},
   "source": [
    "### Overview gene sets"
   ]
  },
  {
   "cell_type": "code",
   "execution_count": 8,
   "metadata": {
    "collapsed": false
   },
   "outputs": [
    {
     "name": "stderr",
     "output_type": "stream",
     "text": [
      "100%|██████████| 49100/49100 [00:06<00:00, 7756.03it/s]\n"
     ]
    }
   ],
   "source": [
    "genesets = dict()\n",
    "\n",
    "pop_size = 100\n",
    "sizes = range(num_min, num_max + 1)\n",
    "\n",
    "for set_size, i in tqdm(product(sizes, range(pop_size)), total = pop_size * (num_max-num_min+1)):\n",
    "    uid = \"unif_gset_size{}_num{}\".format(set_size, i)\n",
    "    genesets[uid] = sorted(list(rand.choice(all_genes, set_size)))\n",
    "    \n",
    "assert len(genesets) == pop_size * (num_max-num_min+1)"
   ]
  },
  {
   "cell_type": "code",
   "execution_count": 9,
   "metadata": {
    "collapsed": true
   },
   "outputs": [],
   "source": [
    "with open(\"genesets/uniform.json\", \"w\") as fout:\n",
    "    json.dump(genesets, fout, sort_keys = True, indent = 4)"
   ]
  },
  {
   "cell_type": "markdown",
   "metadata": {},
   "source": [
    "---\n",
    "\n",
    "### GO analysis gene sets"
   ]
  },
  {
   "cell_type": "code",
   "execution_count": 10,
   "metadata": {
    "collapsed": true
   },
   "outputs": [],
   "source": [
    "def rand_set(set_size, pop_size):\n",
    "    genesets = dict()\n",
    "    for i in range(pop_size):\n",
    "        uid = \"gset_size{}_num{}\".format(set_size, i)\n",
    "        genesets[uid] = sorted(list(rand.choice(all_genes, set_size)))\n",
    "        \n",
    "    assert len(genesets.keys()) == pop_size, \"Identifiers are not unique!\"\n",
    "\n",
    "    return genesets"
   ]
  },
  {
   "cell_type": "code",
   "execution_count": 11,
   "metadata": {
    "collapsed": false
   },
   "outputs": [
    {
     "name": "stderr",
     "output_type": "stream",
     "text": [
      "100%|██████████| 50/50 [02:42<00:00,  5.97s/it]\n"
     ]
    }
   ],
   "source": [
    "step = 10\n",
    "pop_size = 10000\n",
    "\n",
    "for num in tqdm(range(num_min, num_max+step, step)):\n",
    "    res = rand_set(num, pop_size)\n",
    "    \n",
    "    fname = os.path.join(\"genesets\", \"size_{}.json\".format(num))    \n",
    "    with open(fname, \"w\") as fout:\n",
    "        json.dump(res, fout, sort_keys = True, indent = 4)"
   ]
  },
  {
   "cell_type": "markdown",
   "metadata": {},
   "source": [
    "Model fitting for these gene sets will be done by another program."
   ]
  }
 ],
 "metadata": {
  "kernelspec": {
   "display_name": "Python 3",
   "language": "python",
   "name": "python3"
  },
  "language_info": {
   "codemirror_mode": {
    "name": "ipython",
    "version": 3
   },
   "file_extension": ".py",
   "mimetype": "text/x-python",
   "name": "python",
   "nbconvert_exporter": "python",
   "pygments_lexer": "ipython3",
   "version": "3.4.3"
  },
  "widgets": {
   "state": {},
   "version": "1.1.1"
  }
 },
 "nbformat": 4,
 "nbformat_minor": 0
}
