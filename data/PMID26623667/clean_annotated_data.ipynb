{
 "cells": [
  {
   "cell_type": "markdown",
   "metadata": {},
   "source": [
    "# Cleaning Up the Annotated RNA-seq data\n",
    "\n",
    "Tong Shu Li\n",
    "\n",
    "In this notebook, we clean up the raw annotated RNA-seq data file `(Q1_Sunitha_RNAseq_36samples_annotated.raw)` and prepare it for subsequent use.\n",
    "\n",
    "To begin, run `dos2unix` on the file to remove carriage returns (`\\r`)."
   ]
  },
  {
   "cell_type": "code",
   "execution_count": 1,
   "metadata": {
    "collapsed": true
   },
   "outputs": [],
   "source": [
    "import numpy as np\n",
    "import operator\n",
    "import pandas as pd\n",
    "import seaborn as sns\n",
    "\n",
    "from functools import reduce"
   ]
  },
  {
   "cell_type": "code",
   "execution_count": 2,
   "metadata": {
    "collapsed": true
   },
   "outputs": [],
   "source": [
    "%matplotlib inline"
   ]
  },
  {
   "cell_type": "markdown",
   "metadata": {},
   "source": [
    "---"
   ]
  },
  {
   "cell_type": "markdown",
   "metadata": {},
   "source": [
    "## Read the raw data"
   ]
  },
  {
   "cell_type": "code",
   "execution_count": 3,
   "metadata": {
    "collapsed": false
   },
   "outputs": [],
   "source": [
    "data = pd.read_csv(\"Q1_Sunitha_RNAseq_36samples_annotated.raw\", sep = '\\t')"
   ]
  },
  {
   "cell_type": "code",
   "execution_count": 4,
   "metadata": {
    "collapsed": false
   },
   "outputs": [
    {
     "data": {
      "text/html": [
       "<div>\n",
       "<table border=\"1\" class=\"dataframe\">\n",
       "  <thead>\n",
       "    <tr style=\"text-align: right;\">\n",
       "      <th></th>\n",
       "      <th>seqname</th>\n",
       "      <th>samples</th>\n",
       "      <th>value</th>\n",
       "      <th>cohort</th>\n",
       "      <th>replicate</th>\n",
       "      <th>age</th>\n",
       "      <th>drug</th>\n",
       "      <th>conc</th>\n",
       "      <th>add</th>\n",
       "      <th>youngref</th>\n",
       "      <th>td</th>\n",
       "      <th>wormbaseid</th>\n",
       "      <th>symbol</th>\n",
       "      <th>v1</th>\n",
       "    </tr>\n",
       "  </thead>\n",
       "  <tbody>\n",
       "    <tr>\n",
       "      <th>0</th>\n",
       "      <td>2L52.1</td>\n",
       "      <td>11</td>\n",
       "      <td>3.486620</td>\n",
       "      <td>1</td>\n",
       "      <td>1</td>\n",
       "      <td>1</td>\n",
       "      <td>h2o</td>\n",
       "      <td>0</td>\n",
       "      <td>1</td>\n",
       "      <td>1.779111</td>\n",
       "      <td>0.672818</td>\n",
       "      <td>WBGene00007063</td>\n",
       "      <td>2L52.1</td>\n",
       "      <td>2L52.1</td>\n",
       "    </tr>\n",
       "    <tr>\n",
       "      <th>1</th>\n",
       "      <td>2L52.1</td>\n",
       "      <td>12</td>\n",
       "      <td>0.963996</td>\n",
       "      <td>1</td>\n",
       "      <td>2</td>\n",
       "      <td>1</td>\n",
       "      <td>h2o</td>\n",
       "      <td>0</td>\n",
       "      <td>1</td>\n",
       "      <td>1.779111</td>\n",
       "      <td>-0.612782</td>\n",
       "      <td>WBGene00007063</td>\n",
       "      <td>2L52.1</td>\n",
       "      <td>2L52.1</td>\n",
       "    </tr>\n",
       "    <tr>\n",
       "      <th>2</th>\n",
       "      <td>2L52.1</td>\n",
       "      <td>13</td>\n",
       "      <td>0.886719</td>\n",
       "      <td>1</td>\n",
       "      <td>3</td>\n",
       "      <td>1</td>\n",
       "      <td>h2o</td>\n",
       "      <td>0</td>\n",
       "      <td>1</td>\n",
       "      <td>1.779111</td>\n",
       "      <td>-0.696341</td>\n",
       "      <td>WBGene00007063</td>\n",
       "      <td>2L52.1</td>\n",
       "      <td>2L52.1</td>\n",
       "    </tr>\n",
       "    <tr>\n",
       "      <th>3</th>\n",
       "      <td>2L52.1</td>\n",
       "      <td>21</td>\n",
       "      <td>3.529880</td>\n",
       "      <td>2</td>\n",
       "      <td>1</td>\n",
       "      <td>3</td>\n",
       "      <td>h2o</td>\n",
       "      <td>0</td>\n",
       "      <td>1</td>\n",
       "      <td>1.779111</td>\n",
       "      <td>0.685150</td>\n",
       "      <td>WBGene00007063</td>\n",
       "      <td>2L52.1</td>\n",
       "      <td>2L52.1</td>\n",
       "    </tr>\n",
       "    <tr>\n",
       "      <th>4</th>\n",
       "      <td>2L52.1</td>\n",
       "      <td>22</td>\n",
       "      <td>3.392530</td>\n",
       "      <td>2</td>\n",
       "      <td>2</td>\n",
       "      <td>3</td>\n",
       "      <td>h2o</td>\n",
       "      <td>0</td>\n",
       "      <td>1</td>\n",
       "      <td>1.779111</td>\n",
       "      <td>0.645462</td>\n",
       "      <td>WBGene00007063</td>\n",
       "      <td>2L52.1</td>\n",
       "      <td>2L52.1</td>\n",
       "    </tr>\n",
       "  </tbody>\n",
       "</table>\n",
       "</div>"
      ],
      "text/plain": [
       "  seqname  samples     value  cohort  replicate  age drug  conc  add  \\\n",
       "0  2L52.1       11  3.486620       1          1    1  h2o     0    1   \n",
       "1  2L52.1       12  0.963996       1          2    1  h2o     0    1   \n",
       "2  2L52.1       13  0.886719       1          3    1  h2o     0    1   \n",
       "3  2L52.1       21  3.529880       2          1    3  h2o     0    1   \n",
       "4  2L52.1       22  3.392530       2          2    3  h2o     0    1   \n",
       "\n",
       "   youngref        td      wormbaseid  symbol      v1  \n",
       "0  1.779111  0.672818  WBGene00007063  2L52.1  2L52.1  \n",
       "1  1.779111 -0.612782  WBGene00007063  2L52.1  2L52.1  \n",
       "2  1.779111 -0.696341  WBGene00007063  2L52.1  2L52.1  \n",
       "3  1.779111  0.685150  WBGene00007063  2L52.1  2L52.1  \n",
       "4  1.779111  0.645462  WBGene00007063  2L52.1  2L52.1  "
      ]
     },
     "execution_count": 4,
     "metadata": {},
     "output_type": "execute_result"
    }
   ],
   "source": [
    "data.head(5)"
   ]
  },
  {
   "cell_type": "code",
   "execution_count": 5,
   "metadata": {
    "collapsed": false
   },
   "outputs": [
    {
     "data": {
      "text/plain": [
       "(690084, 14)"
      ]
     },
     "execution_count": 5,
     "metadata": {},
     "output_type": "execute_result"
    }
   ],
   "source": [
    "data.shape"
   ]
  },
  {
   "cell_type": "markdown",
   "metadata": {},
   "source": [
    "## Delete the redundant v1 column\n",
    "\n",
    "The `v1` column is redundant because it is equal to the `symbol` column for all rows:"
   ]
  },
  {
   "cell_type": "code",
   "execution_count": 6,
   "metadata": {
    "collapsed": false
   },
   "outputs": [
    {
     "data": {
      "text/plain": [
       "True"
      ]
     },
     "execution_count": 6,
     "metadata": {},
     "output_type": "execute_result"
    }
   ],
   "source": [
    "all(data[\"v1\"] == data[\"symbol\"])"
   ]
  },
  {
   "cell_type": "code",
   "execution_count": 7,
   "metadata": {
    "collapsed": true
   },
   "outputs": [],
   "source": [
    "data = data.drop(\"v1\", axis = 1)"
   ]
  },
  {
   "cell_type": "markdown",
   "metadata": {},
   "source": [
    "## Rename the values in the `drug` column\n",
    "\n",
    "We will rename `h2o` and `mia` to the more informative `water` and `mianserin` in the `drug` column."
   ]
  },
  {
   "cell_type": "code",
   "execution_count": 8,
   "metadata": {
    "collapsed": true
   },
   "outputs": [],
   "source": [
    "data.loc[:, \"drug\"] = data.loc[:, \"drug\"].map(\n",
    "    lambda v: \"water\" if v == \"h2o\" else \"mianserin\"\n",
    ")"
   ]
  },
  {
   "cell_type": "code",
   "execution_count": 9,
   "metadata": {
    "collapsed": false
   },
   "outputs": [
    {
     "data": {
      "text/plain": [
       "mianserin    460056\n",
       "water        230028\n",
       "Name: drug, dtype: int64"
      ]
     },
     "execution_count": 9,
     "metadata": {},
     "output_type": "execute_result"
    }
   ],
   "source": [
    "data[\"drug\"].value_counts()"
   ]
  },
  {
   "cell_type": "markdown",
   "metadata": {},
   "source": [
    "## Rename the columns to be more descriptive"
   ]
  },
  {
   "cell_type": "code",
   "execution_count": 10,
   "metadata": {
    "collapsed": true
   },
   "outputs": [],
   "source": [
    "data = data.rename(\n",
    "    columns = {\n",
    "        \"age\": \"day_harvested\",\n",
    "        \"conc\": \"drug_conc_uM\",\n",
    "        \"add\": \"day_drug_added\",\n",
    "        \"td\": \"RLFEC\", # relative log fold expression change\n",
    "        \"symbol\": \"gene_symbol\",\n",
    "        \"value\": \"cpm_value\",\n",
    "        \"youngref\": \"youngref_cpm\"\n",
    "    }\n",
    ")"
   ]
  },
  {
   "cell_type": "code",
   "execution_count": 11,
   "metadata": {
    "collapsed": false
   },
   "outputs": [
    {
     "data": {
      "text/html": [
       "<div>\n",
       "<table border=\"1\" class=\"dataframe\">\n",
       "  <thead>\n",
       "    <tr style=\"text-align: right;\">\n",
       "      <th></th>\n",
       "      <th>seqname</th>\n",
       "      <th>samples</th>\n",
       "      <th>cpm_value</th>\n",
       "      <th>cohort</th>\n",
       "      <th>replicate</th>\n",
       "      <th>day_harvested</th>\n",
       "      <th>drug</th>\n",
       "      <th>drug_conc_uM</th>\n",
       "      <th>day_drug_added</th>\n",
       "      <th>youngref_cpm</th>\n",
       "      <th>RLFEC</th>\n",
       "      <th>wormbaseid</th>\n",
       "      <th>gene_symbol</th>\n",
       "    </tr>\n",
       "  </thead>\n",
       "  <tbody>\n",
       "    <tr>\n",
       "      <th>0</th>\n",
       "      <td>2L52.1</td>\n",
       "      <td>11</td>\n",
       "      <td>3.486620</td>\n",
       "      <td>1</td>\n",
       "      <td>1</td>\n",
       "      <td>1</td>\n",
       "      <td>water</td>\n",
       "      <td>0</td>\n",
       "      <td>1</td>\n",
       "      <td>1.779111</td>\n",
       "      <td>0.672818</td>\n",
       "      <td>WBGene00007063</td>\n",
       "      <td>2L52.1</td>\n",
       "    </tr>\n",
       "    <tr>\n",
       "      <th>1</th>\n",
       "      <td>2L52.1</td>\n",
       "      <td>12</td>\n",
       "      <td>0.963996</td>\n",
       "      <td>1</td>\n",
       "      <td>2</td>\n",
       "      <td>1</td>\n",
       "      <td>water</td>\n",
       "      <td>0</td>\n",
       "      <td>1</td>\n",
       "      <td>1.779111</td>\n",
       "      <td>-0.612782</td>\n",
       "      <td>WBGene00007063</td>\n",
       "      <td>2L52.1</td>\n",
       "    </tr>\n",
       "    <tr>\n",
       "      <th>2</th>\n",
       "      <td>2L52.1</td>\n",
       "      <td>13</td>\n",
       "      <td>0.886719</td>\n",
       "      <td>1</td>\n",
       "      <td>3</td>\n",
       "      <td>1</td>\n",
       "      <td>water</td>\n",
       "      <td>0</td>\n",
       "      <td>1</td>\n",
       "      <td>1.779111</td>\n",
       "      <td>-0.696341</td>\n",
       "      <td>WBGene00007063</td>\n",
       "      <td>2L52.1</td>\n",
       "    </tr>\n",
       "    <tr>\n",
       "      <th>3</th>\n",
       "      <td>2L52.1</td>\n",
       "      <td>21</td>\n",
       "      <td>3.529880</td>\n",
       "      <td>2</td>\n",
       "      <td>1</td>\n",
       "      <td>3</td>\n",
       "      <td>water</td>\n",
       "      <td>0</td>\n",
       "      <td>1</td>\n",
       "      <td>1.779111</td>\n",
       "      <td>0.685150</td>\n",
       "      <td>WBGene00007063</td>\n",
       "      <td>2L52.1</td>\n",
       "    </tr>\n",
       "    <tr>\n",
       "      <th>4</th>\n",
       "      <td>2L52.1</td>\n",
       "      <td>22</td>\n",
       "      <td>3.392530</td>\n",
       "      <td>2</td>\n",
       "      <td>2</td>\n",
       "      <td>3</td>\n",
       "      <td>water</td>\n",
       "      <td>0</td>\n",
       "      <td>1</td>\n",
       "      <td>1.779111</td>\n",
       "      <td>0.645462</td>\n",
       "      <td>WBGene00007063</td>\n",
       "      <td>2L52.1</td>\n",
       "    </tr>\n",
       "  </tbody>\n",
       "</table>\n",
       "</div>"
      ],
      "text/plain": [
       "  seqname  samples  cpm_value  cohort  replicate  day_harvested   drug  \\\n",
       "0  2L52.1       11   3.486620       1          1              1  water   \n",
       "1  2L52.1       12   0.963996       1          2              1  water   \n",
       "2  2L52.1       13   0.886719       1          3              1  water   \n",
       "3  2L52.1       21   3.529880       2          1              3  water   \n",
       "4  2L52.1       22   3.392530       2          2              3  water   \n",
       "\n",
       "   drug_conc_uM  day_drug_added  youngref_cpm     RLFEC      wormbaseid  \\\n",
       "0             0               1      1.779111  0.672818  WBGene00007063   \n",
       "1             0               1      1.779111 -0.612782  WBGene00007063   \n",
       "2             0               1      1.779111 -0.696341  WBGene00007063   \n",
       "3             0               1      1.779111  0.685150  WBGene00007063   \n",
       "4             0               1      1.779111  0.645462  WBGene00007063   \n",
       "\n",
       "  gene_symbol  \n",
       "0      2L52.1  \n",
       "1      2L52.1  \n",
       "2      2L52.1  \n",
       "3      2L52.1  \n",
       "4      2L52.1  "
      ]
     },
     "execution_count": 11,
     "metadata": {},
     "output_type": "execute_result"
    }
   ],
   "source": [
    "data.head()"
   ]
  },
  {
   "cell_type": "markdown",
   "metadata": {},
   "source": [
    "---"
   ]
  },
  {
   "cell_type": "markdown",
   "metadata": {},
   "source": [
    "## Explore the data"
   ]
  },
  {
   "cell_type": "code",
   "execution_count": 12,
   "metadata": {
    "collapsed": false
   },
   "outputs": [
    {
     "data": {
      "text/plain": [
       "19169"
      ]
     },
     "execution_count": 12,
     "metadata": {},
     "output_type": "execute_result"
    }
   ],
   "source": [
    "# number of unique genes\n",
    "data[\"seqname\"].nunique()"
   ]
  },
  {
   "cell_type": "code",
   "execution_count": 13,
   "metadata": {
    "collapsed": false
   },
   "outputs": [
    {
     "data": {
      "text/plain": [
       "19169    36\n",
       "Name: seqname, dtype: int64"
      ]
     },
     "execution_count": 13,
     "metadata": {},
     "output_type": "execute_result"
    }
   ],
   "source": [
    "# check that the full transcriptome was measured for each replicate of each sample\n",
    "data.groupby([\"cohort\", \"replicate\"])[\"seqname\"].nunique().value_counts()"
   ]
  },
  {
   "cell_type": "markdown",
   "metadata": {},
   "source": [
    "### Distribution of the number of genes missing in each sample"
   ]
  },
  {
   "cell_type": "code",
   "execution_count": 14,
   "metadata": {
    "collapsed": false
   },
   "outputs": [
    {
     "data": {
      "image/png": "[encoded data removed]",
      "text/plain": [
       "<matplotlib.figure.Figure at 0x7ff94f58fe80>"
      ]
     },
     "metadata": {},
     "output_type": "display_data"
    }
   ],
   "source": [
    "ax = data.groupby([\"cohort\", \"replicate\"]).apply(\n",
    "    lambda f: f[\"RLFEC\"].isnull().sum()\n",
    ").pipe(\n",
    "    sns.violinplot\n",
    ")\n",
    "\n",
    "ax.set_title(\"Distribution of genes with no RLFEC in all samples\")\n",
    "ax.set_xlabel(\"Number of genes with no RLFEC value\");"
   ]
  },
  {
   "cell_type": "markdown",
   "metadata": {},
   "source": [
    "So some genes are missing RLFEC values in some samples. Let's check how many genes are missing in all samples, and how many are missing in at least one sample."
   ]
  },
  {
   "cell_type": "code",
   "execution_count": 15,
   "metadata": {
    "collapsed": false
   },
   "outputs": [
    {
     "name": "stdout",
     "output_type": "stream",
     "text": [
      "# unique genes with no drift value in all samples: 1653\n",
      "# unique genes with no drift value in any sample: 8290\n"
     ]
    }
   ],
   "source": [
    "missing_genes = {\n",
    "    info: set(df[df[\"RLFEC\"].isnull()][\"seqname\"])\n",
    "    for info, df in data.groupby([\"cohort\", \"replicate\"])\n",
    "}\n",
    "\n",
    "print(\"# unique genes with no drift value in all samples:\",\n",
    "    len(reduce(operator.and_, missing_genes.values()))\n",
    ")\n",
    "\n",
    "print(\"# unique genes with no drift value in any sample:\",\n",
    "    len(reduce(operator.or_, missing_genes.values()))\n",
    ")"
   ]
  },
  {
   "cell_type": "markdown",
   "metadata": {},
   "source": [
    "Although we measured the expression values for all 19169 genes, we do not have the drift values for 1653 genes in all 36 samples. This means that either the value of expression or the young reference for that gene was 0.\n",
    "\n",
    "We will need to exclude these genes from our analysis, since they provide us with no information."
   ]
  },
  {
   "cell_type": "markdown",
   "metadata": {},
   "source": [
    "---"
   ]
  },
  {
   "cell_type": "markdown",
   "metadata": {},
   "source": [
    "## Discard any genes which have no RLFEC value in any sample\n",
    "\n",
    "Since we want to be consistent, with three replicates for each measurement, we will discard any genes which are missing in **any** sample."
   ]
  },
  {
   "cell_type": "code",
   "execution_count": 16,
   "metadata": {
    "collapsed": true
   },
   "outputs": [],
   "source": [
    "good = data.groupby(\"wormbaseid\").filter(lambda df: all(~df[\"RLFEC\"].isnull()))"
   ]
  },
  {
   "cell_type": "code",
   "execution_count": 17,
   "metadata": {
    "collapsed": false
   },
   "outputs": [
    {
     "data": {
      "text/plain": [
       "(391644, 13)"
      ]
     },
     "execution_count": 17,
     "metadata": {},
     "output_type": "execute_result"
    }
   ],
   "source": [
    "good.shape"
   ]
  },
  {
   "cell_type": "code",
   "execution_count": 18,
   "metadata": {
    "collapsed": false
   },
   "outputs": [
    {
     "data": {
      "text/html": [
       "<div>\n",
       "<table border=\"1\" class=\"dataframe\">\n",
       "  <thead>\n",
       "    <tr style=\"text-align: right;\">\n",
       "      <th></th>\n",
       "      <th>seqname</th>\n",
       "      <th>samples</th>\n",
       "      <th>cpm_value</th>\n",
       "      <th>cohort</th>\n",
       "      <th>replicate</th>\n",
       "      <th>day_harvested</th>\n",
       "      <th>drug</th>\n",
       "      <th>drug_conc_uM</th>\n",
       "      <th>day_drug_added</th>\n",
       "      <th>youngref_cpm</th>\n",
       "      <th>RLFEC</th>\n",
       "      <th>wormbaseid</th>\n",
       "      <th>gene_symbol</th>\n",
       "    </tr>\n",
       "  </thead>\n",
       "  <tbody>\n",
       "    <tr>\n",
       "      <th>36</th>\n",
       "      <td>2RSSE.1</td>\n",
       "      <td>11</td>\n",
       "      <td>4.55942</td>\n",
       "      <td>1</td>\n",
       "      <td>1</td>\n",
       "      <td>1</td>\n",
       "      <td>water</td>\n",
       "      <td>0</td>\n",
       "      <td>1</td>\n",
       "      <td>4.105726</td>\n",
       "      <td>0.104814</td>\n",
       "      <td>WBGene00007064</td>\n",
       "      <td>2RSSE.1</td>\n",
       "    </tr>\n",
       "    <tr>\n",
       "      <th>37</th>\n",
       "      <td>2RSSE.1</td>\n",
       "      <td>12</td>\n",
       "      <td>3.21332</td>\n",
       "      <td>1</td>\n",
       "      <td>2</td>\n",
       "      <td>1</td>\n",
       "      <td>water</td>\n",
       "      <td>0</td>\n",
       "      <td>1</td>\n",
       "      <td>4.105726</td>\n",
       "      <td>-0.245078</td>\n",
       "      <td>WBGene00007064</td>\n",
       "      <td>2RSSE.1</td>\n",
       "    </tr>\n",
       "    <tr>\n",
       "      <th>38</th>\n",
       "      <td>2RSSE.1</td>\n",
       "      <td>13</td>\n",
       "      <td>4.54444</td>\n",
       "      <td>1</td>\n",
       "      <td>3</td>\n",
       "      <td>1</td>\n",
       "      <td>water</td>\n",
       "      <td>0</td>\n",
       "      <td>1</td>\n",
       "      <td>4.105726</td>\n",
       "      <td>0.101521</td>\n",
       "      <td>WBGene00007064</td>\n",
       "      <td>2RSSE.1</td>\n",
       "    </tr>\n",
       "    <tr>\n",
       "      <th>39</th>\n",
       "      <td>2RSSE.1</td>\n",
       "      <td>21</td>\n",
       "      <td>11.43680</td>\n",
       "      <td>2</td>\n",
       "      <td>1</td>\n",
       "      <td>3</td>\n",
       "      <td>water</td>\n",
       "      <td>0</td>\n",
       "      <td>1</td>\n",
       "      <td>4.105726</td>\n",
       "      <td>1.024454</td>\n",
       "      <td>WBGene00007064</td>\n",
       "      <td>2RSSE.1</td>\n",
       "    </tr>\n",
       "    <tr>\n",
       "      <th>40</th>\n",
       "      <td>2RSSE.1</td>\n",
       "      <td>22</td>\n",
       "      <td>4.77467</td>\n",
       "      <td>2</td>\n",
       "      <td>2</td>\n",
       "      <td>3</td>\n",
       "      <td>water</td>\n",
       "      <td>0</td>\n",
       "      <td>1</td>\n",
       "      <td>4.105726</td>\n",
       "      <td>0.150942</td>\n",
       "      <td>WBGene00007064</td>\n",
       "      <td>2RSSE.1</td>\n",
       "    </tr>\n",
       "  </tbody>\n",
       "</table>\n",
       "</div>"
      ],
      "text/plain": [
       "    seqname  samples  cpm_value  cohort  replicate  day_harvested   drug  \\\n",
       "36  2RSSE.1       11    4.55942       1          1              1  water   \n",
       "37  2RSSE.1       12    3.21332       1          2              1  water   \n",
       "38  2RSSE.1       13    4.54444       1          3              1  water   \n",
       "39  2RSSE.1       21   11.43680       2          1              3  water   \n",
       "40  2RSSE.1       22    4.77467       2          2              3  water   \n",
       "\n",
       "    drug_conc_uM  day_drug_added  youngref_cpm     RLFEC      wormbaseid  \\\n",
       "36             0               1      4.105726  0.104814  WBGene00007064   \n",
       "37             0               1      4.105726 -0.245078  WBGene00007064   \n",
       "38             0               1      4.105726  0.101521  WBGene00007064   \n",
       "39             0               1      4.105726  1.024454  WBGene00007064   \n",
       "40             0               1      4.105726  0.150942  WBGene00007064   \n",
       "\n",
       "   gene_symbol  \n",
       "36     2RSSE.1  \n",
       "37     2RSSE.1  \n",
       "38     2RSSE.1  \n",
       "39     2RSSE.1  \n",
       "40     2RSSE.1  "
      ]
     },
     "execution_count": 18,
     "metadata": {},
     "output_type": "execute_result"
    }
   ],
   "source": [
    "good.head()"
   ]
  },
  {
   "cell_type": "code",
   "execution_count": 19,
   "metadata": {
    "collapsed": false
   },
   "outputs": [
    {
     "data": {
      "text/plain": [
       "10879"
      ]
     },
     "execution_count": 19,
     "metadata": {},
     "output_type": "execute_result"
    }
   ],
   "source": [
    "good[\"seqname\"].nunique()"
   ]
  },
  {
   "cell_type": "markdown",
   "metadata": {},
   "source": [
    "We have effectively reduced the number of genes we are measuring from 19169 to 10879, which is around half the size."
   ]
  },
  {
   "cell_type": "markdown",
   "metadata": {},
   "source": [
    "## Write filtered genes to file"
   ]
  },
  {
   "cell_type": "code",
   "execution_count": 20,
   "metadata": {
    "collapsed": true
   },
   "outputs": [],
   "source": [
    "good.to_csv(\"clean_annotated_cpm_values.tsv\", sep = '\\t', index = False)"
   ]
  },
  {
   "cell_type": "markdown",
   "metadata": {},
   "source": [
    "## Average drift values across replicates\n",
    "\n",
    "We produce one version of the data where expression values are averaged across replicates, and one where they are not."
   ]
  },
  {
   "cell_type": "code",
   "execution_count": 21,
   "metadata": {
    "collapsed": true
   },
   "outputs": [],
   "source": [
    "avg = (\n",
    "    good.drop([\"samples\", \"replicate\"], axis = 1)\n",
    "        .groupby([\"seqname\", \"cohort\"], as_index = False)\n",
    "        .agg(np.mean)\n",
    ")\n",
    "\n",
    "# add back in the metadata columns\n",
    "metadata = good[[\"seqname\", \"cohort\", \"drug\", \"wormbaseid\", \"gene_symbol\"]].drop_duplicates()\n",
    "\n",
    "avg = (\n",
    "    pd.merge(avg, metadata, on = [\"seqname\", \"cohort\"], how = \"inner\")\n",
    "      .rename(columns = {\"cohort\": \"sample\"})\n",
    ")"
   ]
  },
  {
   "cell_type": "code",
   "execution_count": 22,
   "metadata": {
    "collapsed": false
   },
   "outputs": [
    {
     "data": {
      "text/html": [
       "<div>\n",
       "<table border=\"1\" class=\"dataframe\">\n",
       "  <thead>\n",
       "    <tr style=\"text-align: right;\">\n",
       "      <th></th>\n",
       "      <th>seqname</th>\n",
       "      <th>sample</th>\n",
       "      <th>cpm_value</th>\n",
       "      <th>day_harvested</th>\n",
       "      <th>drug_conc_uM</th>\n",
       "      <th>day_drug_added</th>\n",
       "      <th>youngref_cpm</th>\n",
       "      <th>RLFEC</th>\n",
       "      <th>drug</th>\n",
       "      <th>wormbaseid</th>\n",
       "      <th>gene_symbol</th>\n",
       "    </tr>\n",
       "  </thead>\n",
       "  <tbody>\n",
       "    <tr>\n",
       "      <th>0</th>\n",
       "      <td>2RSSE.1</td>\n",
       "      <td>1</td>\n",
       "      <td>4.105727</td>\n",
       "      <td>1</td>\n",
       "      <td>0</td>\n",
       "      <td>1</td>\n",
       "      <td>4.105726</td>\n",
       "      <td>-0.012915</td>\n",
       "      <td>water</td>\n",
       "      <td>WBGene00007064</td>\n",
       "      <td>2RSSE.1</td>\n",
       "    </tr>\n",
       "    <tr>\n",
       "      <th>1</th>\n",
       "      <td>2RSSE.1</td>\n",
       "      <td>2</td>\n",
       "      <td>7.687213</td>\n",
       "      <td>3</td>\n",
       "      <td>0</td>\n",
       "      <td>1</td>\n",
       "      <td>4.105726</td>\n",
       "      <td>0.562429</td>\n",
       "      <td>water</td>\n",
       "      <td>WBGene00007064</td>\n",
       "      <td>2RSSE.1</td>\n",
       "    </tr>\n",
       "    <tr>\n",
       "      <th>2</th>\n",
       "      <td>2RSSE.1</td>\n",
       "      <td>3</td>\n",
       "      <td>7.220500</td>\n",
       "      <td>5</td>\n",
       "      <td>0</td>\n",
       "      <td>1</td>\n",
       "      <td>4.105726</td>\n",
       "      <td>0.562490</td>\n",
       "      <td>water</td>\n",
       "      <td>WBGene00007064</td>\n",
       "      <td>2RSSE.1</td>\n",
       "    </tr>\n",
       "    <tr>\n",
       "      <th>3</th>\n",
       "      <td>2RSSE.1</td>\n",
       "      <td>4</td>\n",
       "      <td>3.923197</td>\n",
       "      <td>10</td>\n",
       "      <td>0</td>\n",
       "      <td>1</td>\n",
       "      <td>4.105726</td>\n",
       "      <td>-0.049039</td>\n",
       "      <td>water</td>\n",
       "      <td>WBGene00007064</td>\n",
       "      <td>2RSSE.1</td>\n",
       "    </tr>\n",
       "    <tr>\n",
       "      <th>4</th>\n",
       "      <td>2RSSE.1</td>\n",
       "      <td>5</td>\n",
       "      <td>4.042023</td>\n",
       "      <td>3</td>\n",
       "      <td>50</td>\n",
       "      <td>1</td>\n",
       "      <td>4.105726</td>\n",
       "      <td>-0.030335</td>\n",
       "      <td>mianserin</td>\n",
       "      <td>WBGene00007064</td>\n",
       "      <td>2RSSE.1</td>\n",
       "    </tr>\n",
       "  </tbody>\n",
       "</table>\n",
       "</div>"
      ],
      "text/plain": [
       "   seqname  sample  cpm_value  day_harvested  drug_conc_uM  day_drug_added  \\\n",
       "0  2RSSE.1       1   4.105727              1             0               1   \n",
       "1  2RSSE.1       2   7.687213              3             0               1   \n",
       "2  2RSSE.1       3   7.220500              5             0               1   \n",
       "3  2RSSE.1       4   3.923197             10             0               1   \n",
       "4  2RSSE.1       5   4.042023              3            50               1   \n",
       "\n",
       "   youngref_cpm     RLFEC       drug      wormbaseid gene_symbol  \n",
       "0      4.105726 -0.012915      water  WBGene00007064     2RSSE.1  \n",
       "1      4.105726  0.562429      water  WBGene00007064     2RSSE.1  \n",
       "2      4.105726  0.562490      water  WBGene00007064     2RSSE.1  \n",
       "3      4.105726 -0.049039      water  WBGene00007064     2RSSE.1  \n",
       "4      4.105726 -0.030335  mianserin  WBGene00007064     2RSSE.1  "
      ]
     },
     "execution_count": 22,
     "metadata": {},
     "output_type": "execute_result"
    }
   ],
   "source": [
    "avg.head()"
   ]
  },
  {
   "cell_type": "code",
   "execution_count": 23,
   "metadata": {
    "collapsed": false
   },
   "outputs": [
    {
     "data": {
      "text/plain": [
       "(130548, 11)"
      ]
     },
     "execution_count": 23,
     "metadata": {},
     "output_type": "execute_result"
    }
   ],
   "source": [
    "avg.shape"
   ]
  },
  {
   "cell_type": "markdown",
   "metadata": {},
   "source": [
    "## Save to file"
   ]
  },
  {
   "cell_type": "code",
   "execution_count": 24,
   "metadata": {
    "collapsed": true
   },
   "outputs": [],
   "source": [
    "avg.to_csv(\"avg_annotated_cpm_values.tsv\", sep = '\\t', index = False)"
   ]
  }
 ],
 "metadata": {
  "kernelspec": {
   "display_name": "Python 3",
   "language": "python",
   "name": "python3"
  },
  "language_info": {
   "codemirror_mode": {
    "name": "ipython",
    "version": 3
   },
   "file_extension": ".py",
   "mimetype": "text/x-python",
   "name": "python",
   "nbconvert_exporter": "python",
   "pygments_lexer": "ipython3",
   "version": "3.4.2"
  }
 },
 "nbformat": 4,
 "nbformat_minor": 0
}
