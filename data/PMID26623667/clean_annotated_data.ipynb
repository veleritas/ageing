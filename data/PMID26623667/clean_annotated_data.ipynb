{
 "cells": [
  {
   "cell_type": "markdown",
   "metadata": {},
   "source": [
    "# Cleaning Up the Annotated RNA-seq data\n",
    "\n",
    "Tong Shu Li\n",
    "\n",
    "In this notebook, we clean up the raw annotated RNA-seq data file `(Q1_Sunitha_RNAseq_36samples_annotated.raw)` and prepare it for subsequent use.\n",
    "\n",
    "To begin, run `dos2unix` on the file to remove carriage returns (`\\r`)."
   ]
  },
  {
   "cell_type": "code",
   "execution_count": 1,
   "metadata": {
    "collapsed": true
   },
   "outputs": [],
   "source": [
    "import pandas as pd # version 0.18.0"
   ]
  },
  {
   "cell_type": "code",
   "execution_count": 2,
   "metadata": {
    "collapsed": false
   },
   "outputs": [],
   "source": [
    "data = pd.read_csv(\"Q1_Sunitha_RNAseq_36samples_annotated.raw\", sep = '\\t')"
   ]
  },
  {
   "cell_type": "code",
   "execution_count": 3,
   "metadata": {
    "collapsed": false
   },
   "outputs": [
    {
     "data": {
      "text/html": [
       "<div>\n",
       "<table border=\"1\" class=\"dataframe\">\n",
       "  <thead>\n",
       "    <tr style=\"text-align: right;\">\n",
       "      <th></th>\n",
       "      <th>seqname</th>\n",
       "      <th>samples</th>\n",
       "      <th>value</th>\n",
       "      <th>cohort</th>\n",
       "      <th>replicate</th>\n",
       "      <th>age</th>\n",
       "      <th>drug</th>\n",
       "      <th>conc</th>\n",
       "      <th>add</th>\n",
       "      <th>youngref</th>\n",
       "      <th>td</th>\n",
       "      <th>wormbaseid</th>\n",
       "      <th>symbol</th>\n",
       "      <th>v1</th>\n",
       "    </tr>\n",
       "  </thead>\n",
       "  <tbody>\n",
       "    <tr>\n",
       "      <th>0</th>\n",
       "      <td>2L52.1</td>\n",
       "      <td>11</td>\n",
       "      <td>3.486620</td>\n",
       "      <td>1</td>\n",
       "      <td>1</td>\n",
       "      <td>1</td>\n",
       "      <td>h2o</td>\n",
       "      <td>0</td>\n",
       "      <td>1</td>\n",
       "      <td>1.779111</td>\n",
       "      <td>0.672818</td>\n",
       "      <td>WBGene00007063</td>\n",
       "      <td>2L52.1</td>\n",
       "      <td>2L52.1</td>\n",
       "    </tr>\n",
       "    <tr>\n",
       "      <th>1</th>\n",
       "      <td>2L52.1</td>\n",
       "      <td>12</td>\n",
       "      <td>0.963996</td>\n",
       "      <td>1</td>\n",
       "      <td>2</td>\n",
       "      <td>1</td>\n",
       "      <td>h2o</td>\n",
       "      <td>0</td>\n",
       "      <td>1</td>\n",
       "      <td>1.779111</td>\n",
       "      <td>-0.612782</td>\n",
       "      <td>WBGene00007063</td>\n",
       "      <td>2L52.1</td>\n",
       "      <td>2L52.1</td>\n",
       "    </tr>\n",
       "    <tr>\n",
       "      <th>2</th>\n",
       "      <td>2L52.1</td>\n",
       "      <td>13</td>\n",
       "      <td>0.886719</td>\n",
       "      <td>1</td>\n",
       "      <td>3</td>\n",
       "      <td>1</td>\n",
       "      <td>h2o</td>\n",
       "      <td>0</td>\n",
       "      <td>1</td>\n",
       "      <td>1.779111</td>\n",
       "      <td>-0.696341</td>\n",
       "      <td>WBGene00007063</td>\n",
       "      <td>2L52.1</td>\n",
       "      <td>2L52.1</td>\n",
       "    </tr>\n",
       "    <tr>\n",
       "      <th>3</th>\n",
       "      <td>2L52.1</td>\n",
       "      <td>21</td>\n",
       "      <td>3.529880</td>\n",
       "      <td>2</td>\n",
       "      <td>1</td>\n",
       "      <td>3</td>\n",
       "      <td>h2o</td>\n",
       "      <td>0</td>\n",
       "      <td>1</td>\n",
       "      <td>1.779111</td>\n",
       "      <td>0.685150</td>\n",
       "      <td>WBGene00007063</td>\n",
       "      <td>2L52.1</td>\n",
       "      <td>2L52.1</td>\n",
       "    </tr>\n",
       "    <tr>\n",
       "      <th>4</th>\n",
       "      <td>2L52.1</td>\n",
       "      <td>22</td>\n",
       "      <td>3.392530</td>\n",
       "      <td>2</td>\n",
       "      <td>2</td>\n",
       "      <td>3</td>\n",
       "      <td>h2o</td>\n",
       "      <td>0</td>\n",
       "      <td>1</td>\n",
       "      <td>1.779111</td>\n",
       "      <td>0.645462</td>\n",
       "      <td>WBGene00007063</td>\n",
       "      <td>2L52.1</td>\n",
       "      <td>2L52.1</td>\n",
       "    </tr>\n",
       "  </tbody>\n",
       "</table>\n",
       "</div>"
      ],
      "text/plain": [
       "  seqname  samples     value  cohort  replicate  age drug  conc  add  \\\n",
       "0  2L52.1       11  3.486620       1          1    1  h2o     0    1   \n",
       "1  2L52.1       12  0.963996       1          2    1  h2o     0    1   \n",
       "2  2L52.1       13  0.886719       1          3    1  h2o     0    1   \n",
       "3  2L52.1       21  3.529880       2          1    3  h2o     0    1   \n",
       "4  2L52.1       22  3.392530       2          2    3  h2o     0    1   \n",
       "\n",
       "   youngref        td      wormbaseid  symbol      v1  \n",
       "0  1.779111  0.672818  WBGene00007063  2L52.1  2L52.1  \n",
       "1  1.779111 -0.612782  WBGene00007063  2L52.1  2L52.1  \n",
       "2  1.779111 -0.696341  WBGene00007063  2L52.1  2L52.1  \n",
       "3  1.779111  0.685150  WBGene00007063  2L52.1  2L52.1  \n",
       "4  1.779111  0.645462  WBGene00007063  2L52.1  2L52.1  "
      ]
     },
     "execution_count": 3,
     "metadata": {},
     "output_type": "execute_result"
    }
   ],
   "source": [
    "data.head(5)"
   ]
  },
  {
   "cell_type": "code",
   "execution_count": 4,
   "metadata": {
    "collapsed": false
   },
   "outputs": [
    {
     "data": {
      "text/plain": [
       "(690084, 14)"
      ]
     },
     "execution_count": 4,
     "metadata": {},
     "output_type": "execute_result"
    }
   ],
   "source": [
    "data.shape"
   ]
  },
  {
   "cell_type": "markdown",
   "metadata": {},
   "source": [
    "## Delete the redundant v1 column\n",
    "\n",
    "The `v1` column is redundant because it is equal to the `symbol` column for all rows:"
   ]
  },
  {
   "cell_type": "code",
   "execution_count": 5,
   "metadata": {
    "collapsed": false
   },
   "outputs": [
    {
     "data": {
      "text/plain": [
       "True"
      ]
     },
     "execution_count": 5,
     "metadata": {},
     "output_type": "execute_result"
    }
   ],
   "source": [
    "len(data) == (data[\"v1\"] == data[\"symbol\"]).sum()"
   ]
  },
  {
   "cell_type": "code",
   "execution_count": 6,
   "metadata": {
    "collapsed": true
   },
   "outputs": [],
   "source": [
    "# drop the redundant \"v1\" column\n",
    "data = data.drop(\"v1\", axis = 1)"
   ]
  },
  {
   "cell_type": "markdown",
   "metadata": {},
   "source": [
    "## Rename the values in the `drug` column\n",
    "\n",
    "We will rename `h2o` and `mia` to the more informative `water` and `mianserin` in the `drug` column."
   ]
  },
  {
   "cell_type": "code",
   "execution_count": 7,
   "metadata": {
    "collapsed": true
   },
   "outputs": [],
   "source": [
    "data.loc[:, \"drug\"] = data.loc[:, \"drug\"].map(\n",
    "    lambda v: \"water\" if v == \"h2o\" else \"mianserin\"\n",
    ")"
   ]
  },
  {
   "cell_type": "code",
   "execution_count": 8,
   "metadata": {
    "collapsed": false
   },
   "outputs": [
    {
     "data": {
      "text/plain": [
       "mianserin    460056\n",
       "water        230028\n",
       "Name: drug, dtype: int64"
      ]
     },
     "execution_count": 8,
     "metadata": {},
     "output_type": "execute_result"
    }
   ],
   "source": [
    "data[\"drug\"].value_counts()"
   ]
  },
  {
   "cell_type": "markdown",
   "metadata": {},
   "source": [
    "## Rename the columns to be more descriptive"
   ]
  },
  {
   "cell_type": "code",
   "execution_count": 9,
   "metadata": {
    "collapsed": true
   },
   "outputs": [],
   "source": [
    "data = data.rename(\n",
    "    columns = {\n",
    "        \"age\": \"day_harvested\",\n",
    "        \"conc\": \"drug_conc_uM\",\n",
    "        \"add\": \"day_drug_added\",\n",
    "        \"td\": \"trans_drift\",\n",
    "        \"symbol\": \"gene_symbol\"\n",
    "    }\n",
    ")"
   ]
  },
  {
   "cell_type": "code",
   "execution_count": 10,
   "metadata": {
    "collapsed": false
   },
   "outputs": [
    {
     "data": {
      "text/html": [
       "<div>\n",
       "<table border=\"1\" class=\"dataframe\">\n",
       "  <thead>\n",
       "    <tr style=\"text-align: right;\">\n",
       "      <th></th>\n",
       "      <th>seqname</th>\n",
       "      <th>samples</th>\n",
       "      <th>value</th>\n",
       "      <th>cohort</th>\n",
       "      <th>replicate</th>\n",
       "      <th>day_harvested</th>\n",
       "      <th>drug</th>\n",
       "      <th>drug_conc_uM</th>\n",
       "      <th>day_drug_added</th>\n",
       "      <th>youngref</th>\n",
       "      <th>trans_drift</th>\n",
       "      <th>wormbaseid</th>\n",
       "      <th>gene_symbol</th>\n",
       "    </tr>\n",
       "  </thead>\n",
       "  <tbody>\n",
       "    <tr>\n",
       "      <th>0</th>\n",
       "      <td>2L52.1</td>\n",
       "      <td>11</td>\n",
       "      <td>3.486620</td>\n",
       "      <td>1</td>\n",
       "      <td>1</td>\n",
       "      <td>1</td>\n",
       "      <td>water</td>\n",
       "      <td>0</td>\n",
       "      <td>1</td>\n",
       "      <td>1.779111</td>\n",
       "      <td>0.672818</td>\n",
       "      <td>WBGene00007063</td>\n",
       "      <td>2L52.1</td>\n",
       "    </tr>\n",
       "    <tr>\n",
       "      <th>1</th>\n",
       "      <td>2L52.1</td>\n",
       "      <td>12</td>\n",
       "      <td>0.963996</td>\n",
       "      <td>1</td>\n",
       "      <td>2</td>\n",
       "      <td>1</td>\n",
       "      <td>water</td>\n",
       "      <td>0</td>\n",
       "      <td>1</td>\n",
       "      <td>1.779111</td>\n",
       "      <td>-0.612782</td>\n",
       "      <td>WBGene00007063</td>\n",
       "      <td>2L52.1</td>\n",
       "    </tr>\n",
       "    <tr>\n",
       "      <th>2</th>\n",
       "      <td>2L52.1</td>\n",
       "      <td>13</td>\n",
       "      <td>0.886719</td>\n",
       "      <td>1</td>\n",
       "      <td>3</td>\n",
       "      <td>1</td>\n",
       "      <td>water</td>\n",
       "      <td>0</td>\n",
       "      <td>1</td>\n",
       "      <td>1.779111</td>\n",
       "      <td>-0.696341</td>\n",
       "      <td>WBGene00007063</td>\n",
       "      <td>2L52.1</td>\n",
       "    </tr>\n",
       "    <tr>\n",
       "      <th>3</th>\n",
       "      <td>2L52.1</td>\n",
       "      <td>21</td>\n",
       "      <td>3.529880</td>\n",
       "      <td>2</td>\n",
       "      <td>1</td>\n",
       "      <td>3</td>\n",
       "      <td>water</td>\n",
       "      <td>0</td>\n",
       "      <td>1</td>\n",
       "      <td>1.779111</td>\n",
       "      <td>0.685150</td>\n",
       "      <td>WBGene00007063</td>\n",
       "      <td>2L52.1</td>\n",
       "    </tr>\n",
       "    <tr>\n",
       "      <th>4</th>\n",
       "      <td>2L52.1</td>\n",
       "      <td>22</td>\n",
       "      <td>3.392530</td>\n",
       "      <td>2</td>\n",
       "      <td>2</td>\n",
       "      <td>3</td>\n",
       "      <td>water</td>\n",
       "      <td>0</td>\n",
       "      <td>1</td>\n",
       "      <td>1.779111</td>\n",
       "      <td>0.645462</td>\n",
       "      <td>WBGene00007063</td>\n",
       "      <td>2L52.1</td>\n",
       "    </tr>\n",
       "  </tbody>\n",
       "</table>\n",
       "</div>"
      ],
      "text/plain": [
       "  seqname  samples     value  cohort  replicate  day_harvested   drug  \\\n",
       "0  2L52.1       11  3.486620       1          1              1  water   \n",
       "1  2L52.1       12  0.963996       1          2              1  water   \n",
       "2  2L52.1       13  0.886719       1          3              1  water   \n",
       "3  2L52.1       21  3.529880       2          1              3  water   \n",
       "4  2L52.1       22  3.392530       2          2              3  water   \n",
       "\n",
       "   drug_conc_uM  day_drug_added  youngref  trans_drift      wormbaseid  \\\n",
       "0             0               1  1.779111     0.672818  WBGene00007063   \n",
       "1             0               1  1.779111    -0.612782  WBGene00007063   \n",
       "2             0               1  1.779111    -0.696341  WBGene00007063   \n",
       "3             0               1  1.779111     0.685150  WBGene00007063   \n",
       "4             0               1  1.779111     0.645462  WBGene00007063   \n",
       "\n",
       "  gene_symbol  \n",
       "0      2L52.1  \n",
       "1      2L52.1  \n",
       "2      2L52.1  \n",
       "3      2L52.1  \n",
       "4      2L52.1  "
      ]
     },
     "execution_count": 10,
     "metadata": {},
     "output_type": "execute_result"
    }
   ],
   "source": [
    "data.head()"
   ]
  },
  {
   "cell_type": "markdown",
   "metadata": {},
   "source": [
    "## Save cleaned data to file"
   ]
  },
  {
   "cell_type": "code",
   "execution_count": 11,
   "metadata": {
    "collapsed": true
   },
   "outputs": [],
   "source": [
    "data.to_csv(\"annotated_cpm_values.tsv\", sep = '\\t', index = False)"
   ]
  }
 ],
 "metadata": {
  "kernelspec": {
   "display_name": "Python 3",
   "language": "python",
   "name": "python3"
  },
  "language_info": {
   "codemirror_mode": {
    "name": "ipython",
    "version": 3
   },
   "file_extension": ".py",
   "mimetype": "text/x-python",
   "name": "python",
   "nbconvert_exporter": "python",
   "pygments_lexer": "ipython3",
   "version": "3.4.2"
  }
 },
 "nbformat": 4,
 "nbformat_minor": 0
}
