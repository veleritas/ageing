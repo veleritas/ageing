{
 "cells": [
  {
   "cell_type": "markdown",
   "metadata": {},
   "source": [
    "# Data Cleaning\n",
    "\n",
    "Tong Shu Li\n",
    "\n",
    "Michael was concerned about all the zero entries we were seeing in the annotated dataset, and wanted to see if this was a reproducible problem. We will try the analysis again with data that is closer to the original raw data."
   ]
  },
  {
   "cell_type": "code",
   "execution_count": 1,
   "metadata": {
    "collapsed": true
   },
   "outputs": [],
   "source": [
    "import numpy as np\n",
    "import pandas as pd"
   ]
  },
  {
   "cell_type": "markdown",
   "metadata": {},
   "source": [
    "---"
   ]
  },
  {
   "cell_type": "markdown",
   "metadata": {},
   "source": [
    "## Read the data to be cleaned"
   ]
  },
  {
   "cell_type": "code",
   "execution_count": 2,
   "metadata": {
    "collapsed": false
   },
   "outputs": [],
   "source": [
    "data = pd.read_csv(\"Q1_all_data_minimun.raw\", sep = '\\t')"
   ]
  },
  {
   "cell_type": "code",
   "execution_count": 3,
   "metadata": {
    "collapsed": false
   },
   "outputs": [
    {
     "data": {
      "text/html": [
       "<div>\n",
       "<table border=\"1\" class=\"dataframe\">\n",
       "  <thead>\n",
       "    <tr style=\"text-align: right;\">\n",
       "      <th></th>\n",
       "      <th>wormbaseid</th>\n",
       "      <th>symbol</th>\n",
       "      <th>seqname</th>\n",
       "      <th>fdr</th>\n",
       "      <th>pvalue</th>\n",
       "      <th>fdr.1</th>\n",
       "      <th>cpms1</th>\n",
       "      <th>cpms2</th>\n",
       "      <th>cpms3</th>\n",
       "      <th>cpms4</th>\n",
       "      <th>...</th>\n",
       "      <th>cpms9</th>\n",
       "      <th>cpms10</th>\n",
       "      <th>cpms11</th>\n",
       "      <th>cpms12</th>\n",
       "      <th>td_day3_h2o</th>\n",
       "      <th>td_day5_h2o</th>\n",
       "      <th>td_day10_h2o</th>\n",
       "      <th>td_day3_mia</th>\n",
       "      <th>td_day5_mia</th>\n",
       "      <th>td_day10_mia</th>\n",
       "    </tr>\n",
       "  </thead>\n",
       "  <tbody>\n",
       "    <tr>\n",
       "      <th>0</th>\n",
       "      <td>WBGene00022521</td>\n",
       "      <td>ZC132.2</td>\n",
       "      <td>ZC132.2</td>\n",
       "      <td>0.808194</td>\n",
       "      <td>0.716325</td>\n",
       "      <td>0.808194</td>\n",
       "      <td>0.000226</td>\n",
       "      <td>0.000189</td>\n",
       "      <td>0.018708</td>\n",
       "      <td>0.000291</td>\n",
       "      <td>...</td>\n",
       "      <td>0.000228</td>\n",
       "      <td>0.021397</td>\n",
       "      <td>0.226813</td>\n",
       "      <td>0.010630</td>\n",
       "      <td>-0.180686</td>\n",
       "      <td>4.415016</td>\n",
       "      <td>0.250226</td>\n",
       "      <td>-0.141209</td>\n",
       "      <td>6.319571</td>\n",
       "      <td>2.838883</td>\n",
       "    </tr>\n",
       "    <tr>\n",
       "      <th>1</th>\n",
       "      <td>WBGene00019835</td>\n",
       "      <td>R02F2.6</td>\n",
       "      <td>R02F2.6</td>\n",
       "      <td>0.892494</td>\n",
       "      <td>0.836250</td>\n",
       "      <td>0.892494</td>\n",
       "      <td>0.000228</td>\n",
       "      <td>0.000278</td>\n",
       "      <td>0.142758</td>\n",
       "      <td>0.179309</td>\n",
       "      <td>...</td>\n",
       "      <td>0.014849</td>\n",
       "      <td>0.033718</td>\n",
       "      <td>0.012842</td>\n",
       "      <td>0.000215</td>\n",
       "      <td>0.197518</td>\n",
       "      <td>6.440157</td>\n",
       "      <td>6.668119</td>\n",
       "      <td>0.165077</td>\n",
       "      <td>4.036233</td>\n",
       "      <td>4.203290</td>\n",
       "    </tr>\n",
       "    <tr>\n",
       "      <th>2</th>\n",
       "      <td>WBGene00006011</td>\n",
       "      <td>srx-120</td>\n",
       "      <td>F49C5.2</td>\n",
       "      <td>0.673727</td>\n",
       "      <td>0.534582</td>\n",
       "      <td>0.673727</td>\n",
       "      <td>0.000262</td>\n",
       "      <td>0.032145</td>\n",
       "      <td>0.048001</td>\n",
       "      <td>0.329360</td>\n",
       "      <td>...</td>\n",
       "      <td>0.011162</td>\n",
       "      <td>0.073430</td>\n",
       "      <td>0.081031</td>\n",
       "      <td>0.000369</td>\n",
       "      <td>4.810095</td>\n",
       "      <td>5.211058</td>\n",
       "      <td>7.136997</td>\n",
       "      <td>3.250996</td>\n",
       "      <td>5.125083</td>\n",
       "      <td>3.317961</td>\n",
       "    </tr>\n",
       "    <tr>\n",
       "      <th>3</th>\n",
       "      <td>WBGene00022884</td>\n",
       "      <td>ZK1248.17</td>\n",
       "      <td>ZK1248.17</td>\n",
       "      <td>0.183150</td>\n",
       "      <td>0.072977</td>\n",
       "      <td>0.183150</td>\n",
       "      <td>0.000275</td>\n",
       "      <td>0.015513</td>\n",
       "      <td>0.092586</td>\n",
       "      <td>0.021195</td>\n",
       "      <td>...</td>\n",
       "      <td>0.053637</td>\n",
       "      <td>0.036642</td>\n",
       "      <td>0.051591</td>\n",
       "      <td>0.048442</td>\n",
       "      <td>4.033940</td>\n",
       "      <td>5.820385</td>\n",
       "      <td>4.345997</td>\n",
       "      <td>0.106907</td>\n",
       "      <td>0.126213</td>\n",
       "      <td>-0.100482</td>\n",
       "    </tr>\n",
       "    <tr>\n",
       "      <th>4</th>\n",
       "      <td>WBGene00005435</td>\n",
       "      <td>srh-227</td>\n",
       "      <td>C35D6.2</td>\n",
       "      <td>0.978353</td>\n",
       "      <td>0.964520</td>\n",
       "      <td>0.978353</td>\n",
       "      <td>0.000298</td>\n",
       "      <td>0.000356</td>\n",
       "      <td>0.051900</td>\n",
       "      <td>0.033524</td>\n",
       "      <td>...</td>\n",
       "      <td>0.107932</td>\n",
       "      <td>0.336793</td>\n",
       "      <td>0.059327</td>\n",
       "      <td>0.056707</td>\n",
       "      <td>0.175939</td>\n",
       "      <td>5.158204</td>\n",
       "      <td>4.721129</td>\n",
       "      <td>0.125642</td>\n",
       "      <td>3.808174</td>\n",
       "      <td>4.435915</td>\n",
       "    </tr>\n",
       "  </tbody>\n",
       "</table>\n",
       "<p>5 rows × 24 columns</p>\n",
       "</div>"
      ],
      "text/plain": [
       "       wormbaseid     symbol    seqname       fdr    pvalue     fdr.1  \\\n",
       "0  WBGene00022521    ZC132.2    ZC132.2  0.808194  0.716325  0.808194   \n",
       "1  WBGene00019835    R02F2.6    R02F2.6  0.892494  0.836250  0.892494   \n",
       "2  WBGene00006011    srx-120    F49C5.2  0.673727  0.534582  0.673727   \n",
       "3  WBGene00022884  ZK1248.17  ZK1248.17  0.183150  0.072977  0.183150   \n",
       "4  WBGene00005435    srh-227    C35D6.2  0.978353  0.964520  0.978353   \n",
       "\n",
       "      cpms1     cpms2     cpms3     cpms4      ...          cpms9    cpms10  \\\n",
       "0  0.000226  0.000189  0.018708  0.000291      ...       0.000228  0.021397   \n",
       "1  0.000228  0.000278  0.142758  0.179309      ...       0.014849  0.033718   \n",
       "2  0.000262  0.032145  0.048001  0.329360      ...       0.011162  0.073430   \n",
       "3  0.000275  0.015513  0.092586  0.021195      ...       0.053637  0.036642   \n",
       "4  0.000298  0.000356  0.051900  0.033524      ...       0.107932  0.336793   \n",
       "\n",
       "     cpms11    cpms12  td_day3_h2o  td_day5_h2o  td_day10_h2o  td_day3_mia  \\\n",
       "0  0.226813  0.010630    -0.180686     4.415016      0.250226    -0.141209   \n",
       "1  0.012842  0.000215     0.197518     6.440157      6.668119     0.165077   \n",
       "2  0.081031  0.000369     4.810095     5.211058      7.136997     3.250996   \n",
       "3  0.051591  0.048442     4.033940     5.820385      4.345997     0.106907   \n",
       "4  0.059327  0.056707     0.175939     5.158204      4.721129     0.125642   \n",
       "\n",
       "   td_day5_mia  td_day10_mia  \n",
       "0     6.319571      2.838883  \n",
       "1     4.036233      4.203290  \n",
       "2     5.125083      3.317961  \n",
       "3     0.126213     -0.100482  \n",
       "4     3.808174      4.435915  \n",
       "\n",
       "[5 rows x 24 columns]"
      ]
     },
     "execution_count": 3,
     "metadata": {},
     "output_type": "execute_result"
    }
   ],
   "source": [
    "data.head()"
   ]
  },
  {
   "cell_type": "code",
   "execution_count": 4,
   "metadata": {
    "collapsed": false,
    "scrolled": true
   },
   "outputs": [
    {
     "data": {
      "text/plain": [
       "(19169, 24)"
      ]
     },
     "execution_count": 4,
     "metadata": {},
     "output_type": "execute_result"
    }
   ],
   "source": [
    "data.shape"
   ]
  },
  {
   "cell_type": "code",
   "execution_count": 5,
   "metadata": {
    "collapsed": false
   },
   "outputs": [
    {
     "data": {
      "text/plain": [
       "Index(['wormbaseid', 'symbol', 'seqname', 'fdr', 'pvalue', 'fdr.1', 'cpms1',\n",
       "       'cpms2', 'cpms3', 'cpms4', 'cpms5', 'cpms6', 'cpms7', 'cpms8', 'cpms9',\n",
       "       'cpms10', 'cpms11', 'cpms12', 'td_day3_h2o', 'td_day5_h2o',\n",
       "       'td_day10_h2o', 'td_day3_mia', 'td_day5_mia', 'td_day10_mia'],\n",
       "      dtype='object')"
      ]
     },
     "execution_count": 5,
     "metadata": {},
     "output_type": "execute_result"
    }
   ],
   "source": [
    "data.columns"
   ]
  },
  {
   "cell_type": "markdown",
   "metadata": {},
   "source": [
    "## Read the metadata file"
   ]
  },
  {
   "cell_type": "code",
   "execution_count": 6,
   "metadata": {
    "collapsed": true
   },
   "outputs": [],
   "source": [
    "metadata = pd.read_csv(\"sample_metadata.tsv\", sep = '\\t')"
   ]
  },
  {
   "cell_type": "code",
   "execution_count": 7,
   "metadata": {
    "collapsed": false
   },
   "outputs": [
    {
     "data": {
      "text/html": [
       "<div>\n",
       "<table border=\"1\" class=\"dataframe\">\n",
       "  <thead>\n",
       "    <tr style=\"text-align: right;\">\n",
       "      <th></th>\n",
       "      <th>sample_name</th>\n",
       "      <th>day_add_drug</th>\n",
       "      <th>day_harvest_rna</th>\n",
       "      <th>sample_num</th>\n",
       "      <th>drug_conc_uM</th>\n",
       "      <th>drug_given</th>\n",
       "    </tr>\n",
       "  </thead>\n",
       "  <tbody>\n",
       "    <tr>\n",
       "      <th>0</th>\n",
       "      <td>CPM.S1</td>\n",
       "      <td>1</td>\n",
       "      <td>1</td>\n",
       "      <td>1</td>\n",
       "      <td>0</td>\n",
       "      <td>water</td>\n",
       "    </tr>\n",
       "    <tr>\n",
       "      <th>1</th>\n",
       "      <td>CPM.S2</td>\n",
       "      <td>1</td>\n",
       "      <td>3</td>\n",
       "      <td>2</td>\n",
       "      <td>0</td>\n",
       "      <td>water</td>\n",
       "    </tr>\n",
       "    <tr>\n",
       "      <th>2</th>\n",
       "      <td>CPM.S3</td>\n",
       "      <td>1</td>\n",
       "      <td>5</td>\n",
       "      <td>3</td>\n",
       "      <td>0</td>\n",
       "      <td>water</td>\n",
       "    </tr>\n",
       "    <tr>\n",
       "      <th>3</th>\n",
       "      <td>CPM.S4</td>\n",
       "      <td>1</td>\n",
       "      <td>10</td>\n",
       "      <td>4</td>\n",
       "      <td>0</td>\n",
       "      <td>water</td>\n",
       "    </tr>\n",
       "    <tr>\n",
       "      <th>4</th>\n",
       "      <td>CPM.S5</td>\n",
       "      <td>1</td>\n",
       "      <td>3</td>\n",
       "      <td>5</td>\n",
       "      <td>50</td>\n",
       "      <td>mianserin</td>\n",
       "    </tr>\n",
       "    <tr>\n",
       "      <th>5</th>\n",
       "      <td>CPM.S6</td>\n",
       "      <td>1</td>\n",
       "      <td>5</td>\n",
       "      <td>6</td>\n",
       "      <td>50</td>\n",
       "      <td>mianserin</td>\n",
       "    </tr>\n",
       "    <tr>\n",
       "      <th>6</th>\n",
       "      <td>CPM.S7</td>\n",
       "      <td>1</td>\n",
       "      <td>10</td>\n",
       "      <td>7</td>\n",
       "      <td>50</td>\n",
       "      <td>mianserin</td>\n",
       "    </tr>\n",
       "    <tr>\n",
       "      <th>7</th>\n",
       "      <td>CPM.S8</td>\n",
       "      <td>3</td>\n",
       "      <td>5</td>\n",
       "      <td>8</td>\n",
       "      <td>50</td>\n",
       "      <td>mianserin</td>\n",
       "    </tr>\n",
       "    <tr>\n",
       "      <th>8</th>\n",
       "      <td>CPM.S9</td>\n",
       "      <td>3</td>\n",
       "      <td>10</td>\n",
       "      <td>9</td>\n",
       "      <td>50</td>\n",
       "      <td>mianserin</td>\n",
       "    </tr>\n",
       "    <tr>\n",
       "      <th>9</th>\n",
       "      <td>CPM.S10</td>\n",
       "      <td>5</td>\n",
       "      <td>10</td>\n",
       "      <td>10</td>\n",
       "      <td>50</td>\n",
       "      <td>mianserin</td>\n",
       "    </tr>\n",
       "    <tr>\n",
       "      <th>10</th>\n",
       "      <td>CPM.S11</td>\n",
       "      <td>1</td>\n",
       "      <td>5</td>\n",
       "      <td>11</td>\n",
       "      <td>2</td>\n",
       "      <td>mianserin</td>\n",
       "    </tr>\n",
       "    <tr>\n",
       "      <th>11</th>\n",
       "      <td>CPM.S12</td>\n",
       "      <td>1</td>\n",
       "      <td>5</td>\n",
       "      <td>12</td>\n",
       "      <td>10</td>\n",
       "      <td>mianserin</td>\n",
       "    </tr>\n",
       "  </tbody>\n",
       "</table>\n",
       "</div>"
      ],
      "text/plain": [
       "   sample_name  day_add_drug  day_harvest_rna  sample_num  drug_conc_uM  \\\n",
       "0       CPM.S1             1                1           1             0   \n",
       "1       CPM.S2             1                3           2             0   \n",
       "2       CPM.S3             1                5           3             0   \n",
       "3       CPM.S4             1               10           4             0   \n",
       "4       CPM.S5             1                3           5            50   \n",
       "5       CPM.S6             1                5           6            50   \n",
       "6       CPM.S7             1               10           7            50   \n",
       "7       CPM.S8             3                5           8            50   \n",
       "8       CPM.S9             3               10           9            50   \n",
       "9      CPM.S10             5               10          10            50   \n",
       "10     CPM.S11             1                5          11             2   \n",
       "11     CPM.S12             1                5          12            10   \n",
       "\n",
       "   drug_given  \n",
       "0       water  \n",
       "1       water  \n",
       "2       water  \n",
       "3       water  \n",
       "4   mianserin  \n",
       "5   mianserin  \n",
       "6   mianserin  \n",
       "7   mianserin  \n",
       "8   mianserin  \n",
       "9   mianserin  \n",
       "10  mianserin  \n",
       "11  mianserin  "
      ]
     },
     "execution_count": 7,
     "metadata": {},
     "output_type": "execute_result"
    }
   ],
   "source": [
    "metadata"
   ]
  },
  {
   "cell_type": "markdown",
   "metadata": {},
   "source": [
    "---"
   ]
  },
  {
   "cell_type": "markdown",
   "metadata": {},
   "source": [
    "## Drop some columns\n",
    "\n",
    "We don't care about the false discovery rate columns for the drift analysis, and will drop them for simplicity."
   ]
  },
  {
   "cell_type": "code",
   "execution_count": 8,
   "metadata": {
    "collapsed": false
   },
   "outputs": [],
   "source": [
    "data = data.drop([\"fdr\", \"pvalue\", \"fdr.1\"], axis = 1)"
   ]
  },
  {
   "cell_type": "code",
   "execution_count": 9,
   "metadata": {
    "collapsed": false
   },
   "outputs": [
    {
     "data": {
      "text/plain": [
       "(19169, 21)"
      ]
     },
     "execution_count": 9,
     "metadata": {},
     "output_type": "execute_result"
    }
   ],
   "source": [
    "data.shape"
   ]
  },
  {
   "cell_type": "code",
   "execution_count": 10,
   "metadata": {
    "collapsed": false
   },
   "outputs": [
    {
     "data": {
      "text/html": [
       "<div>\n",
       "<table border=\"1\" class=\"dataframe\">\n",
       "  <thead>\n",
       "    <tr style=\"text-align: right;\">\n",
       "      <th></th>\n",
       "      <th>wormbaseid</th>\n",
       "      <th>symbol</th>\n",
       "      <th>seqname</th>\n",
       "      <th>cpms1</th>\n",
       "      <th>cpms2</th>\n",
       "      <th>cpms3</th>\n",
       "      <th>cpms4</th>\n",
       "      <th>cpms5</th>\n",
       "      <th>cpms6</th>\n",
       "      <th>cpms7</th>\n",
       "      <th>...</th>\n",
       "      <th>cpms9</th>\n",
       "      <th>cpms10</th>\n",
       "      <th>cpms11</th>\n",
       "      <th>cpms12</th>\n",
       "      <th>td_day3_h2o</th>\n",
       "      <th>td_day5_h2o</th>\n",
       "      <th>td_day10_h2o</th>\n",
       "      <th>td_day3_mia</th>\n",
       "      <th>td_day5_mia</th>\n",
       "      <th>td_day10_mia</th>\n",
       "    </tr>\n",
       "  </thead>\n",
       "  <tbody>\n",
       "    <tr>\n",
       "      <th>0</th>\n",
       "      <td>WBGene00022521</td>\n",
       "      <td>ZC132.2</td>\n",
       "      <td>ZC132.2</td>\n",
       "      <td>0.000226</td>\n",
       "      <td>0.000189</td>\n",
       "      <td>0.018708</td>\n",
       "      <td>0.000291</td>\n",
       "      <td>0.000197</td>\n",
       "      <td>0.125649</td>\n",
       "      <td>0.003868</td>\n",
       "      <td>...</td>\n",
       "      <td>0.000228</td>\n",
       "      <td>0.021397</td>\n",
       "      <td>0.226813</td>\n",
       "      <td>0.010630</td>\n",
       "      <td>-0.180686</td>\n",
       "      <td>4.415016</td>\n",
       "      <td>0.250226</td>\n",
       "      <td>-0.141209</td>\n",
       "      <td>6.319571</td>\n",
       "      <td>2.838883</td>\n",
       "    </tr>\n",
       "    <tr>\n",
       "      <th>1</th>\n",
       "      <td>WBGene00019835</td>\n",
       "      <td>R02F2.6</td>\n",
       "      <td>R02F2.6</td>\n",
       "      <td>0.000228</td>\n",
       "      <td>0.000278</td>\n",
       "      <td>0.142758</td>\n",
       "      <td>0.179309</td>\n",
       "      <td>0.000269</td>\n",
       "      <td>0.012900</td>\n",
       "      <td>0.015246</td>\n",
       "      <td>...</td>\n",
       "      <td>0.014849</td>\n",
       "      <td>0.033718</td>\n",
       "      <td>0.012842</td>\n",
       "      <td>0.000215</td>\n",
       "      <td>0.197518</td>\n",
       "      <td>6.440157</td>\n",
       "      <td>6.668119</td>\n",
       "      <td>0.165077</td>\n",
       "      <td>4.036233</td>\n",
       "      <td>4.203290</td>\n",
       "    </tr>\n",
       "    <tr>\n",
       "      <th>2</th>\n",
       "      <td>WBGene00006011</td>\n",
       "      <td>srx-120</td>\n",
       "      <td>F49C5.2</td>\n",
       "      <td>0.000262</td>\n",
       "      <td>0.032145</td>\n",
       "      <td>0.048001</td>\n",
       "      <td>0.329360</td>\n",
       "      <td>0.006761</td>\n",
       "      <td>0.044046</td>\n",
       "      <td>0.007229</td>\n",
       "      <td>...</td>\n",
       "      <td>0.011162</td>\n",
       "      <td>0.073430</td>\n",
       "      <td>0.081031</td>\n",
       "      <td>0.000369</td>\n",
       "      <td>4.810095</td>\n",
       "      <td>5.211058</td>\n",
       "      <td>7.136997</td>\n",
       "      <td>3.250996</td>\n",
       "      <td>5.125083</td>\n",
       "      <td>3.317961</td>\n",
       "    </tr>\n",
       "    <tr>\n",
       "      <th>3</th>\n",
       "      <td>WBGene00022884</td>\n",
       "      <td>ZK1248.17</td>\n",
       "      <td>ZK1248.17</td>\n",
       "      <td>0.000275</td>\n",
       "      <td>0.015513</td>\n",
       "      <td>0.092586</td>\n",
       "      <td>0.021195</td>\n",
       "      <td>0.000306</td>\n",
       "      <td>0.000312</td>\n",
       "      <td>0.000248</td>\n",
       "      <td>...</td>\n",
       "      <td>0.053637</td>\n",
       "      <td>0.036642</td>\n",
       "      <td>0.051591</td>\n",
       "      <td>0.048442</td>\n",
       "      <td>4.033940</td>\n",
       "      <td>5.820385</td>\n",
       "      <td>4.345997</td>\n",
       "      <td>0.106907</td>\n",
       "      <td>0.126213</td>\n",
       "      <td>-0.100482</td>\n",
       "    </tr>\n",
       "    <tr>\n",
       "      <th>4</th>\n",
       "      <td>WBGene00005435</td>\n",
       "      <td>srh-227</td>\n",
       "      <td>C35D6.2</td>\n",
       "      <td>0.000298</td>\n",
       "      <td>0.000356</td>\n",
       "      <td>0.051900</td>\n",
       "      <td>0.033524</td>\n",
       "      <td>0.000338</td>\n",
       "      <td>0.013454</td>\n",
       "      <td>0.025205</td>\n",
       "      <td>...</td>\n",
       "      <td>0.107932</td>\n",
       "      <td>0.336793</td>\n",
       "      <td>0.059327</td>\n",
       "      <td>0.056707</td>\n",
       "      <td>0.175939</td>\n",
       "      <td>5.158204</td>\n",
       "      <td>4.721129</td>\n",
       "      <td>0.125642</td>\n",
       "      <td>3.808174</td>\n",
       "      <td>4.435915</td>\n",
       "    </tr>\n",
       "  </tbody>\n",
       "</table>\n",
       "<p>5 rows × 21 columns</p>\n",
       "</div>"
      ],
      "text/plain": [
       "       wormbaseid     symbol    seqname     cpms1     cpms2     cpms3  \\\n",
       "0  WBGene00022521    ZC132.2    ZC132.2  0.000226  0.000189  0.018708   \n",
       "1  WBGene00019835    R02F2.6    R02F2.6  0.000228  0.000278  0.142758   \n",
       "2  WBGene00006011    srx-120    F49C5.2  0.000262  0.032145  0.048001   \n",
       "3  WBGene00022884  ZK1248.17  ZK1248.17  0.000275  0.015513  0.092586   \n",
       "4  WBGene00005435    srh-227    C35D6.2  0.000298  0.000356  0.051900   \n",
       "\n",
       "      cpms4     cpms5     cpms6     cpms7      ...          cpms9    cpms10  \\\n",
       "0  0.000291  0.000197  0.125649  0.003868      ...       0.000228  0.021397   \n",
       "1  0.179309  0.000269  0.012900  0.015246      ...       0.014849  0.033718   \n",
       "2  0.329360  0.006761  0.044046  0.007229      ...       0.011162  0.073430   \n",
       "3  0.021195  0.000306  0.000312  0.000248      ...       0.053637  0.036642   \n",
       "4  0.033524  0.000338  0.013454  0.025205      ...       0.107932  0.336793   \n",
       "\n",
       "     cpms11    cpms12  td_day3_h2o  td_day5_h2o  td_day10_h2o  td_day3_mia  \\\n",
       "0  0.226813  0.010630    -0.180686     4.415016      0.250226    -0.141209   \n",
       "1  0.012842  0.000215     0.197518     6.440157      6.668119     0.165077   \n",
       "2  0.081031  0.000369     4.810095     5.211058      7.136997     3.250996   \n",
       "3  0.051591  0.048442     4.033940     5.820385      4.345997     0.106907   \n",
       "4  0.059327  0.056707     0.175939     5.158204      4.721129     0.125642   \n",
       "\n",
       "   td_day5_mia  td_day10_mia  \n",
       "0     6.319571      2.838883  \n",
       "1     4.036233      4.203290  \n",
       "2     5.125083      3.317961  \n",
       "3     0.126213     -0.100482  \n",
       "4     3.808174      4.435915  \n",
       "\n",
       "[5 rows x 21 columns]"
      ]
     },
     "execution_count": 10,
     "metadata": {},
     "output_type": "execute_result"
    }
   ],
   "source": [
    "data.head()"
   ]
  },
  {
   "cell_type": "markdown",
   "metadata": {},
   "source": [
    "## Check the drift columns\n",
    "\n",
    "There are some drift columns already calculated. We will see if we can verify that these columns are correct."
   ]
  },
  {
   "cell_type": "code",
   "execution_count": 11,
   "metadata": {
    "collapsed": true
   },
   "outputs": [],
   "source": [
    "test = np.log((data[\"cpms2\"] / data[\"cpms1\"]))"
   ]
  },
  {
   "cell_type": "code",
   "execution_count": 12,
   "metadata": {
    "collapsed": false
   },
   "outputs": [
    {
     "data": {
      "text/plain": [
       "count    1.916900e+04\n",
       "mean     4.209456e-08\n",
       "std      1.038178e-05\n",
       "min     -2.221980e-04\n",
       "25%     -1.575530e-07\n",
       "50%     -9.039674e-10\n",
       "75%      1.546911e-07\n",
       "max      2.437076e-04\n",
       "dtype: float64"
      ]
     },
     "execution_count": 12,
     "metadata": {},
     "output_type": "execute_result"
    }
   ],
   "source": [
    "(data[\"td_day3_h2o\"] - test).describe()"
   ]
  },
  {
   "cell_type": "code",
   "execution_count": 13,
   "metadata": {
    "collapsed": false
   },
   "outputs": [
    {
     "data": {
      "text/plain": [
       "count    1.916900e+04\n",
       "mean     1.010910e-07\n",
       "std      9.348391e-06\n",
       "min     -1.276875e-04\n",
       "25%     -1.603874e-07\n",
       "50%     -2.138354e-10\n",
       "75%      1.633267e-07\n",
       "max      1.817245e-04\n",
       "dtype: float64"
      ]
     },
     "execution_count": 13,
     "metadata": {},
     "output_type": "execute_result"
    }
   ],
   "source": [
    "test = np.log(data[\"cpms3\"] / data[\"cpms1\"])\n",
    "(data[\"td_day5_h2o\"] - test).describe()"
   ]
  },
  {
   "cell_type": "markdown",
   "metadata": {},
   "source": [
    "The values all seem to be off by a little bit. I'm not sure why this is happening, but we will discard all of the precalculated drift columns and calculate them from the raw cpm values."
   ]
  },
  {
   "cell_type": "markdown",
   "metadata": {},
   "source": [
    "## Drop the precalculated drift values"
   ]
  },
  {
   "cell_type": "code",
   "execution_count": 14,
   "metadata": {
    "collapsed": true
   },
   "outputs": [],
   "source": [
    "data = data.drop(\n",
    "    [\n",
    "        'td_day3_h2o', 'td_day5_h2o', 'td_day10_h2o',\n",
    "        'td_day3_mia', 'td_day5_mia', 'td_day10_mia'\n",
    "    ],\n",
    "    axis = 1\n",
    ")"
   ]
  },
  {
   "cell_type": "code",
   "execution_count": 15,
   "metadata": {
    "collapsed": false
   },
   "outputs": [
    {
     "data": {
      "text/plain": [
       "(19169, 15)"
      ]
     },
     "execution_count": 15,
     "metadata": {},
     "output_type": "execute_result"
    }
   ],
   "source": [
    "data.shape"
   ]
  },
  {
   "cell_type": "code",
   "execution_count": 16,
   "metadata": {
    "collapsed": false
   },
   "outputs": [
    {
     "data": {
      "text/html": [
       "<div>\n",
       "<table border=\"1\" class=\"dataframe\">\n",
       "  <thead>\n",
       "    <tr style=\"text-align: right;\">\n",
       "      <th></th>\n",
       "      <th>wormbaseid</th>\n",
       "      <th>symbol</th>\n",
       "      <th>seqname</th>\n",
       "      <th>cpms1</th>\n",
       "      <th>cpms2</th>\n",
       "      <th>cpms3</th>\n",
       "      <th>cpms4</th>\n",
       "      <th>cpms5</th>\n",
       "      <th>cpms6</th>\n",
       "      <th>cpms7</th>\n",
       "      <th>cpms8</th>\n",
       "      <th>cpms9</th>\n",
       "      <th>cpms10</th>\n",
       "      <th>cpms11</th>\n",
       "      <th>cpms12</th>\n",
       "    </tr>\n",
       "  </thead>\n",
       "  <tbody>\n",
       "    <tr>\n",
       "      <th>0</th>\n",
       "      <td>WBGene00022521</td>\n",
       "      <td>ZC132.2</td>\n",
       "      <td>ZC132.2</td>\n",
       "      <td>0.000226</td>\n",
       "      <td>0.000189</td>\n",
       "      <td>0.018708</td>\n",
       "      <td>0.000291</td>\n",
       "      <td>0.000197</td>\n",
       "      <td>0.125649</td>\n",
       "      <td>0.003868</td>\n",
       "      <td>0.012943</td>\n",
       "      <td>0.000228</td>\n",
       "      <td>0.021397</td>\n",
       "      <td>0.226813</td>\n",
       "      <td>0.010630</td>\n",
       "    </tr>\n",
       "    <tr>\n",
       "      <th>1</th>\n",
       "      <td>WBGene00019835</td>\n",
       "      <td>R02F2.6</td>\n",
       "      <td>R02F2.6</td>\n",
       "      <td>0.000228</td>\n",
       "      <td>0.000278</td>\n",
       "      <td>0.142758</td>\n",
       "      <td>0.179309</td>\n",
       "      <td>0.000269</td>\n",
       "      <td>0.012900</td>\n",
       "      <td>0.015246</td>\n",
       "      <td>0.009459</td>\n",
       "      <td>0.014849</td>\n",
       "      <td>0.033718</td>\n",
       "      <td>0.012842</td>\n",
       "      <td>0.000215</td>\n",
       "    </tr>\n",
       "    <tr>\n",
       "      <th>2</th>\n",
       "      <td>WBGene00006011</td>\n",
       "      <td>srx-120</td>\n",
       "      <td>F49C5.2</td>\n",
       "      <td>0.000262</td>\n",
       "      <td>0.032145</td>\n",
       "      <td>0.048001</td>\n",
       "      <td>0.329360</td>\n",
       "      <td>0.006761</td>\n",
       "      <td>0.044046</td>\n",
       "      <td>0.007229</td>\n",
       "      <td>0.051095</td>\n",
       "      <td>0.011162</td>\n",
       "      <td>0.073430</td>\n",
       "      <td>0.081031</td>\n",
       "      <td>0.000369</td>\n",
       "    </tr>\n",
       "    <tr>\n",
       "      <th>3</th>\n",
       "      <td>WBGene00022884</td>\n",
       "      <td>ZK1248.17</td>\n",
       "      <td>ZK1248.17</td>\n",
       "      <td>0.000275</td>\n",
       "      <td>0.015513</td>\n",
       "      <td>0.092586</td>\n",
       "      <td>0.021195</td>\n",
       "      <td>0.000306</td>\n",
       "      <td>0.000312</td>\n",
       "      <td>0.000248</td>\n",
       "      <td>0.000269</td>\n",
       "      <td>0.053637</td>\n",
       "      <td>0.036642</td>\n",
       "      <td>0.051591</td>\n",
       "      <td>0.048442</td>\n",
       "    </tr>\n",
       "    <tr>\n",
       "      <th>4</th>\n",
       "      <td>WBGene00005435</td>\n",
       "      <td>srh-227</td>\n",
       "      <td>C35D6.2</td>\n",
       "      <td>0.000298</td>\n",
       "      <td>0.000356</td>\n",
       "      <td>0.051900</td>\n",
       "      <td>0.033524</td>\n",
       "      <td>0.000338</td>\n",
       "      <td>0.013454</td>\n",
       "      <td>0.025205</td>\n",
       "      <td>0.027904</td>\n",
       "      <td>0.107932</td>\n",
       "      <td>0.336793</td>\n",
       "      <td>0.059327</td>\n",
       "      <td>0.056707</td>\n",
       "    </tr>\n",
       "  </tbody>\n",
       "</table>\n",
       "</div>"
      ],
      "text/plain": [
       "       wormbaseid     symbol    seqname     cpms1     cpms2     cpms3  \\\n",
       "0  WBGene00022521    ZC132.2    ZC132.2  0.000226  0.000189  0.018708   \n",
       "1  WBGene00019835    R02F2.6    R02F2.6  0.000228  0.000278  0.142758   \n",
       "2  WBGene00006011    srx-120    F49C5.2  0.000262  0.032145  0.048001   \n",
       "3  WBGene00022884  ZK1248.17  ZK1248.17  0.000275  0.015513  0.092586   \n",
       "4  WBGene00005435    srh-227    C35D6.2  0.000298  0.000356  0.051900   \n",
       "\n",
       "      cpms4     cpms5     cpms6     cpms7     cpms8     cpms9    cpms10  \\\n",
       "0  0.000291  0.000197  0.125649  0.003868  0.012943  0.000228  0.021397   \n",
       "1  0.179309  0.000269  0.012900  0.015246  0.009459  0.014849  0.033718   \n",
       "2  0.329360  0.006761  0.044046  0.007229  0.051095  0.011162  0.073430   \n",
       "3  0.021195  0.000306  0.000312  0.000248  0.000269  0.053637  0.036642   \n",
       "4  0.033524  0.000338  0.013454  0.025205  0.027904  0.107932  0.336793   \n",
       "\n",
       "     cpms11    cpms12  \n",
       "0  0.226813  0.010630  \n",
       "1  0.012842  0.000215  \n",
       "2  0.081031  0.000369  \n",
       "3  0.051591  0.048442  \n",
       "4  0.059327  0.056707  "
      ]
     },
     "execution_count": 16,
     "metadata": {},
     "output_type": "execute_result"
    }
   ],
   "source": [
    "data.head()"
   ]
  },
  {
   "cell_type": "markdown",
   "metadata": {},
   "source": [
    "---"
   ]
  },
  {
   "cell_type": "markdown",
   "metadata": {},
   "source": [
    "## Check that no cells are empty"
   ]
  },
  {
   "cell_type": "code",
   "execution_count": 17,
   "metadata": {
    "collapsed": false
   },
   "outputs": [
    {
     "data": {
      "text/plain": [
       "wormbaseid    0\n",
       "symbol        0\n",
       "seqname       0\n",
       "cpms1         0\n",
       "cpms2         0\n",
       "cpms3         0\n",
       "cpms4         0\n",
       "cpms5         0\n",
       "cpms6         0\n",
       "cpms7         0\n",
       "cpms8         0\n",
       "cpms9         0\n",
       "cpms10        0\n",
       "cpms11        0\n",
       "cpms12        0\n",
       "dtype: int64"
      ]
     },
     "execution_count": 17,
     "metadata": {},
     "output_type": "execute_result"
    }
   ],
   "source": [
    "data.isnull().sum()"
   ]
  },
  {
   "cell_type": "markdown",
   "metadata": {},
   "source": [
    "## Check that no expression values are zero"
   ]
  },
  {
   "cell_type": "code",
   "execution_count": 18,
   "metadata": {
    "collapsed": false
   },
   "outputs": [
    {
     "data": {
      "text/plain": [
       "wormbaseid    0\n",
       "symbol        0\n",
       "seqname       0\n",
       "cpms1         0\n",
       "cpms2         0\n",
       "cpms3         0\n",
       "cpms4         0\n",
       "cpms5         0\n",
       "cpms6         0\n",
       "cpms7         0\n",
       "cpms8         0\n",
       "cpms9         0\n",
       "cpms10        0\n",
       "cpms11        0\n",
       "cpms12        0\n",
       "dtype: int64"
      ]
     },
     "execution_count": 18,
     "metadata": {},
     "output_type": "execute_result"
    }
   ],
   "source": [
    "(data == 0).sum()"
   ]
  },
  {
   "cell_type": "markdown",
   "metadata": {},
   "source": [
    "## Reshape the dataframe\n",
    "\n",
    "We now reshape the dataframe to long format."
   ]
  },
  {
   "cell_type": "code",
   "execution_count": 19,
   "metadata": {
    "collapsed": true
   },
   "outputs": [],
   "source": [
    "def reshape(data, id_cols):\n",
    "    def make_df(column):\n",
    "        sub = data.loc[:, id_cols + [column]]\n",
    "        sub = sub.rename(columns = {column: \"cpm_val\"})\n",
    "        sub[\"sample\"] = int(column[4 :]) # skip the \"cpms\"\n",
    "        return sub\n",
    "    \n",
    "    temp = [\n",
    "        make_df(column)\n",
    "        for column in data.columns if column not in id_cols\n",
    "    ]\n",
    "    \n",
    "    return pd.concat(temp).reset_index(drop = True)"
   ]
  },
  {
   "cell_type": "code",
   "execution_count": 20,
   "metadata": {
    "collapsed": false
   },
   "outputs": [],
   "source": [
    "res = reshape(data, [\"wormbaseid\", \"symbol\", \"seqname\"])"
   ]
  },
  {
   "cell_type": "code",
   "execution_count": 21,
   "metadata": {
    "collapsed": false
   },
   "outputs": [
    {
     "data": {
      "text/html": [
       "<div>\n",
       "<table border=\"1\" class=\"dataframe\">\n",
       "  <thead>\n",
       "    <tr style=\"text-align: right;\">\n",
       "      <th></th>\n",
       "      <th>wormbaseid</th>\n",
       "      <th>symbol</th>\n",
       "      <th>seqname</th>\n",
       "      <th>cpm_val</th>\n",
       "      <th>sample</th>\n",
       "    </tr>\n",
       "  </thead>\n",
       "  <tbody>\n",
       "    <tr>\n",
       "      <th>0</th>\n",
       "      <td>WBGene00022521</td>\n",
       "      <td>ZC132.2</td>\n",
       "      <td>ZC132.2</td>\n",
       "      <td>0.000226</td>\n",
       "      <td>1</td>\n",
       "    </tr>\n",
       "    <tr>\n",
       "      <th>1</th>\n",
       "      <td>WBGene00019835</td>\n",
       "      <td>R02F2.6</td>\n",
       "      <td>R02F2.6</td>\n",
       "      <td>0.000228</td>\n",
       "      <td>1</td>\n",
       "    </tr>\n",
       "    <tr>\n",
       "      <th>2</th>\n",
       "      <td>WBGene00006011</td>\n",
       "      <td>srx-120</td>\n",
       "      <td>F49C5.2</td>\n",
       "      <td>0.000262</td>\n",
       "      <td>1</td>\n",
       "    </tr>\n",
       "    <tr>\n",
       "      <th>3</th>\n",
       "      <td>WBGene00022884</td>\n",
       "      <td>ZK1248.17</td>\n",
       "      <td>ZK1248.17</td>\n",
       "      <td>0.000275</td>\n",
       "      <td>1</td>\n",
       "    </tr>\n",
       "    <tr>\n",
       "      <th>4</th>\n",
       "      <td>WBGene00005435</td>\n",
       "      <td>srh-227</td>\n",
       "      <td>C35D6.2</td>\n",
       "      <td>0.000298</td>\n",
       "      <td>1</td>\n",
       "    </tr>\n",
       "  </tbody>\n",
       "</table>\n",
       "</div>"
      ],
      "text/plain": [
       "       wormbaseid     symbol    seqname   cpm_val  sample\n",
       "0  WBGene00022521    ZC132.2    ZC132.2  0.000226       1\n",
       "1  WBGene00019835    R02F2.6    R02F2.6  0.000228       1\n",
       "2  WBGene00006011    srx-120    F49C5.2  0.000262       1\n",
       "3  WBGene00022884  ZK1248.17  ZK1248.17  0.000275       1\n",
       "4  WBGene00005435    srh-227    C35D6.2  0.000298       1"
      ]
     },
     "execution_count": 21,
     "metadata": {},
     "output_type": "execute_result"
    }
   ],
   "source": [
    "res.head()"
   ]
  },
  {
   "cell_type": "code",
   "execution_count": 22,
   "metadata": {
    "collapsed": false
   },
   "outputs": [
    {
     "data": {
      "text/plain": [
       "(230028, 5)"
      ]
     },
     "execution_count": 22,
     "metadata": {},
     "output_type": "execute_result"
    }
   ],
   "source": [
    "res.shape"
   ]
  },
  {
   "cell_type": "code",
   "execution_count": 23,
   "metadata": {
    "collapsed": false
   },
   "outputs": [
    {
     "data": {
      "text/plain": [
       "12    19169\n",
       "11    19169\n",
       "10    19169\n",
       "9     19169\n",
       "8     19169\n",
       "7     19169\n",
       "6     19169\n",
       "5     19169\n",
       "4     19169\n",
       "3     19169\n",
       "2     19169\n",
       "1     19169\n",
       "Name: sample, dtype: int64"
      ]
     },
     "execution_count": 23,
     "metadata": {},
     "output_type": "execute_result"
    }
   ],
   "source": [
    "res[\"sample\"].value_counts()"
   ]
  },
  {
   "cell_type": "code",
   "execution_count": 24,
   "metadata": {
    "collapsed": false
   },
   "outputs": [
    {
     "data": {
      "text/plain": [
       "19169"
      ]
     },
     "execution_count": 24,
     "metadata": {},
     "output_type": "execute_result"
    }
   ],
   "source": [
    "res[\"wormbaseid\"].nunique()"
   ]
  },
  {
   "cell_type": "markdown",
   "metadata": {},
   "source": [
    "## Add the metadata for each sample"
   ]
  },
  {
   "cell_type": "code",
   "execution_count": 25,
   "metadata": {
    "collapsed": true
   },
   "outputs": [],
   "source": [
    "info = pd.merge(res, metadata, how = \"left\", left_on = \"sample\", right_on = \"sample_num\")\n",
    "info = info.drop([\"sample_name\", \"sample_num\"], axis = 1)"
   ]
  },
  {
   "cell_type": "code",
   "execution_count": 26,
   "metadata": {
    "collapsed": false
   },
   "outputs": [
    {
     "data": {
      "text/html": [
       "<div>\n",
       "<table border=\"1\" class=\"dataframe\">\n",
       "  <thead>\n",
       "    <tr style=\"text-align: right;\">\n",
       "      <th></th>\n",
       "      <th>wormbaseid</th>\n",
       "      <th>symbol</th>\n",
       "      <th>seqname</th>\n",
       "      <th>cpm_val</th>\n",
       "      <th>sample</th>\n",
       "      <th>day_add_drug</th>\n",
       "      <th>day_harvest_rna</th>\n",
       "      <th>drug_conc_uM</th>\n",
       "      <th>drug_given</th>\n",
       "    </tr>\n",
       "  </thead>\n",
       "  <tbody>\n",
       "    <tr>\n",
       "      <th>0</th>\n",
       "      <td>WBGene00022521</td>\n",
       "      <td>ZC132.2</td>\n",
       "      <td>ZC132.2</td>\n",
       "      <td>0.000226</td>\n",
       "      <td>1</td>\n",
       "      <td>1</td>\n",
       "      <td>1</td>\n",
       "      <td>0</td>\n",
       "      <td>water</td>\n",
       "    </tr>\n",
       "    <tr>\n",
       "      <th>1</th>\n",
       "      <td>WBGene00019835</td>\n",
       "      <td>R02F2.6</td>\n",
       "      <td>R02F2.6</td>\n",
       "      <td>0.000228</td>\n",
       "      <td>1</td>\n",
       "      <td>1</td>\n",
       "      <td>1</td>\n",
       "      <td>0</td>\n",
       "      <td>water</td>\n",
       "    </tr>\n",
       "    <tr>\n",
       "      <th>2</th>\n",
       "      <td>WBGene00006011</td>\n",
       "      <td>srx-120</td>\n",
       "      <td>F49C5.2</td>\n",
       "      <td>0.000262</td>\n",
       "      <td>1</td>\n",
       "      <td>1</td>\n",
       "      <td>1</td>\n",
       "      <td>0</td>\n",
       "      <td>water</td>\n",
       "    </tr>\n",
       "    <tr>\n",
       "      <th>3</th>\n",
       "      <td>WBGene00022884</td>\n",
       "      <td>ZK1248.17</td>\n",
       "      <td>ZK1248.17</td>\n",
       "      <td>0.000275</td>\n",
       "      <td>1</td>\n",
       "      <td>1</td>\n",
       "      <td>1</td>\n",
       "      <td>0</td>\n",
       "      <td>water</td>\n",
       "    </tr>\n",
       "    <tr>\n",
       "      <th>4</th>\n",
       "      <td>WBGene00005435</td>\n",
       "      <td>srh-227</td>\n",
       "      <td>C35D6.2</td>\n",
       "      <td>0.000298</td>\n",
       "      <td>1</td>\n",
       "      <td>1</td>\n",
       "      <td>1</td>\n",
       "      <td>0</td>\n",
       "      <td>water</td>\n",
       "    </tr>\n",
       "  </tbody>\n",
       "</table>\n",
       "</div>"
      ],
      "text/plain": [
       "       wormbaseid     symbol    seqname   cpm_val  sample  day_add_drug  \\\n",
       "0  WBGene00022521    ZC132.2    ZC132.2  0.000226       1             1   \n",
       "1  WBGene00019835    R02F2.6    R02F2.6  0.000228       1             1   \n",
       "2  WBGene00006011    srx-120    F49C5.2  0.000262       1             1   \n",
       "3  WBGene00022884  ZK1248.17  ZK1248.17  0.000275       1             1   \n",
       "4  WBGene00005435    srh-227    C35D6.2  0.000298       1             1   \n",
       "\n",
       "   day_harvest_rna  drug_conc_uM drug_given  \n",
       "0                1             0      water  \n",
       "1                1             0      water  \n",
       "2                1             0      water  \n",
       "3                1             0      water  \n",
       "4                1             0      water  "
      ]
     },
     "execution_count": 26,
     "metadata": {},
     "output_type": "execute_result"
    }
   ],
   "source": [
    "info.head()"
   ]
  },
  {
   "cell_type": "code",
   "execution_count": 27,
   "metadata": {
    "collapsed": false,
    "scrolled": true
   },
   "outputs": [
    {
     "data": {
      "text/plain": [
       "12    19169\n",
       "11    19169\n",
       "10    19169\n",
       "9     19169\n",
       "8     19169\n",
       "7     19169\n",
       "6     19169\n",
       "5     19169\n",
       "4     19169\n",
       "3     19169\n",
       "2     19169\n",
       "1     19169\n",
       "Name: sample, dtype: int64"
      ]
     },
     "execution_count": 27,
     "metadata": {},
     "output_type": "execute_result"
    }
   ],
   "source": [
    "info[\"sample\"].value_counts()"
   ]
  },
  {
   "cell_type": "code",
   "execution_count": 28,
   "metadata": {
    "collapsed": false
   },
   "outputs": [
    {
     "data": {
      "text/plain": [
       "(230028, 9)"
      ]
     },
     "execution_count": 28,
     "metadata": {},
     "output_type": "execute_result"
    }
   ],
   "source": [
    "info.shape"
   ]
  },
  {
   "cell_type": "markdown",
   "metadata": {},
   "source": [
    "---"
   ]
  },
  {
   "cell_type": "markdown",
   "metadata": {},
   "source": [
    "## Calculating drift\n",
    "\n",
    "Drift is defined as:\n",
    "\n",
    "$$\n",
    "    D = log(\\frac{cpm_{old}}{cpm_{young}})\n",
    "$$\n",
    "\n",
    "which is equivalent to:\n",
    "\n",
    "$$\n",
    "    D = log(cpm_{old}) - log(cpm_{young})\n",
    "$$"
   ]
  },
  {
   "cell_type": "code",
   "execution_count": 29,
   "metadata": {
    "collapsed": true
   },
   "outputs": [],
   "source": [
    "info[\"log_cpm\"] = np.log(info[\"cpm_val\"])"
   ]
  },
  {
   "cell_type": "code",
   "execution_count": 30,
   "metadata": {
    "collapsed": true
   },
   "outputs": [],
   "source": [
    "ref = info.query(\"sample == 1\")[[\"wormbaseid\", \"log_cpm\"]]\n",
    "ref = ref.rename(columns = {\"log_cpm\": \"ref_log_cpm\"})"
   ]
  },
  {
   "cell_type": "code",
   "execution_count": 31,
   "metadata": {
    "collapsed": false
   },
   "outputs": [
    {
     "data": {
      "text/html": [
       "<div>\n",
       "<table border=\"1\" class=\"dataframe\">\n",
       "  <thead>\n",
       "    <tr style=\"text-align: right;\">\n",
       "      <th></th>\n",
       "      <th>wormbaseid</th>\n",
       "      <th>ref_log_cpm</th>\n",
       "    </tr>\n",
       "  </thead>\n",
       "  <tbody>\n",
       "    <tr>\n",
       "      <th>0</th>\n",
       "      <td>WBGene00022521</td>\n",
       "      <td>-8.393649</td>\n",
       "    </tr>\n",
       "    <tr>\n",
       "      <th>1</th>\n",
       "      <td>WBGene00019835</td>\n",
       "      <td>-8.386604</td>\n",
       "    </tr>\n",
       "    <tr>\n",
       "      <th>2</th>\n",
       "      <td>WBGene00006011</td>\n",
       "      <td>-8.247548</td>\n",
       "    </tr>\n",
       "    <tr>\n",
       "      <th>3</th>\n",
       "      <td>WBGene00022884</td>\n",
       "      <td>-8.199831</td>\n",
       "    </tr>\n",
       "    <tr>\n",
       "      <th>4</th>\n",
       "      <td>WBGene00005435</td>\n",
       "      <td>-8.116741</td>\n",
       "    </tr>\n",
       "  </tbody>\n",
       "</table>\n",
       "</div>"
      ],
      "text/plain": [
       "       wormbaseid  ref_log_cpm\n",
       "0  WBGene00022521    -8.393649\n",
       "1  WBGene00019835    -8.386604\n",
       "2  WBGene00006011    -8.247548\n",
       "3  WBGene00022884    -8.199831\n",
       "4  WBGene00005435    -8.116741"
      ]
     },
     "execution_count": 31,
     "metadata": {},
     "output_type": "execute_result"
    }
   ],
   "source": [
    "ref.head()"
   ]
  },
  {
   "cell_type": "code",
   "execution_count": 32,
   "metadata": {
    "collapsed": true
   },
   "outputs": [],
   "source": [
    "info = pd.merge(info, ref, how = \"left\", on = \"wormbaseid\")"
   ]
  },
  {
   "cell_type": "code",
   "execution_count": 33,
   "metadata": {
    "collapsed": true
   },
   "outputs": [],
   "source": [
    "info[\"drift\"] = info[\"log_cpm\"] - info[\"ref_log_cpm\"]"
   ]
  },
  {
   "cell_type": "code",
   "execution_count": 34,
   "metadata": {
    "collapsed": false
   },
   "outputs": [
    {
     "data": {
      "text/html": [
       "<div>\n",
       "<table border=\"1\" class=\"dataframe\">\n",
       "  <thead>\n",
       "    <tr style=\"text-align: right;\">\n",
       "      <th></th>\n",
       "      <th>wormbaseid</th>\n",
       "      <th>symbol</th>\n",
       "      <th>seqname</th>\n",
       "      <th>cpm_val</th>\n",
       "      <th>sample</th>\n",
       "      <th>day_add_drug</th>\n",
       "      <th>day_harvest_rna</th>\n",
       "      <th>drug_conc_uM</th>\n",
       "      <th>drug_given</th>\n",
       "      <th>log_cpm</th>\n",
       "      <th>ref_log_cpm</th>\n",
       "      <th>drift</th>\n",
       "    </tr>\n",
       "  </thead>\n",
       "  <tbody>\n",
       "    <tr>\n",
       "      <th>0</th>\n",
       "      <td>WBGene00022521</td>\n",
       "      <td>ZC132.2</td>\n",
       "      <td>ZC132.2</td>\n",
       "      <td>0.000226</td>\n",
       "      <td>1</td>\n",
       "      <td>1</td>\n",
       "      <td>1</td>\n",
       "      <td>0</td>\n",
       "      <td>water</td>\n",
       "      <td>-8.393649</td>\n",
       "      <td>-8.393649</td>\n",
       "      <td>0.0</td>\n",
       "    </tr>\n",
       "    <tr>\n",
       "      <th>1</th>\n",
       "      <td>WBGene00019835</td>\n",
       "      <td>R02F2.6</td>\n",
       "      <td>R02F2.6</td>\n",
       "      <td>0.000228</td>\n",
       "      <td>1</td>\n",
       "      <td>1</td>\n",
       "      <td>1</td>\n",
       "      <td>0</td>\n",
       "      <td>water</td>\n",
       "      <td>-8.386604</td>\n",
       "      <td>-8.386604</td>\n",
       "      <td>0.0</td>\n",
       "    </tr>\n",
       "    <tr>\n",
       "      <th>2</th>\n",
       "      <td>WBGene00006011</td>\n",
       "      <td>srx-120</td>\n",
       "      <td>F49C5.2</td>\n",
       "      <td>0.000262</td>\n",
       "      <td>1</td>\n",
       "      <td>1</td>\n",
       "      <td>1</td>\n",
       "      <td>0</td>\n",
       "      <td>water</td>\n",
       "      <td>-8.247548</td>\n",
       "      <td>-8.247548</td>\n",
       "      <td>0.0</td>\n",
       "    </tr>\n",
       "    <tr>\n",
       "      <th>3</th>\n",
       "      <td>WBGene00022884</td>\n",
       "      <td>ZK1248.17</td>\n",
       "      <td>ZK1248.17</td>\n",
       "      <td>0.000275</td>\n",
       "      <td>1</td>\n",
       "      <td>1</td>\n",
       "      <td>1</td>\n",
       "      <td>0</td>\n",
       "      <td>water</td>\n",
       "      <td>-8.199831</td>\n",
       "      <td>-8.199831</td>\n",
       "      <td>0.0</td>\n",
       "    </tr>\n",
       "    <tr>\n",
       "      <th>4</th>\n",
       "      <td>WBGene00005435</td>\n",
       "      <td>srh-227</td>\n",
       "      <td>C35D6.2</td>\n",
       "      <td>0.000298</td>\n",
       "      <td>1</td>\n",
       "      <td>1</td>\n",
       "      <td>1</td>\n",
       "      <td>0</td>\n",
       "      <td>water</td>\n",
       "      <td>-8.116741</td>\n",
       "      <td>-8.116741</td>\n",
       "      <td>0.0</td>\n",
       "    </tr>\n",
       "  </tbody>\n",
       "</table>\n",
       "</div>"
      ],
      "text/plain": [
       "       wormbaseid     symbol    seqname   cpm_val  sample  day_add_drug  \\\n",
       "0  WBGene00022521    ZC132.2    ZC132.2  0.000226       1             1   \n",
       "1  WBGene00019835    R02F2.6    R02F2.6  0.000228       1             1   \n",
       "2  WBGene00006011    srx-120    F49C5.2  0.000262       1             1   \n",
       "3  WBGene00022884  ZK1248.17  ZK1248.17  0.000275       1             1   \n",
       "4  WBGene00005435    srh-227    C35D6.2  0.000298       1             1   \n",
       "\n",
       "   day_harvest_rna  drug_conc_uM drug_given   log_cpm  ref_log_cpm  drift  \n",
       "0                1             0      water -8.393649    -8.393649    0.0  \n",
       "1                1             0      water -8.386604    -8.386604    0.0  \n",
       "2                1             0      water -8.247548    -8.247548    0.0  \n",
       "3                1             0      water -8.199831    -8.199831    0.0  \n",
       "4                1             0      water -8.116741    -8.116741    0.0  "
      ]
     },
     "execution_count": 34,
     "metadata": {},
     "output_type": "execute_result"
    }
   ],
   "source": [
    "info.head()"
   ]
  },
  {
   "cell_type": "markdown",
   "metadata": {},
   "source": [
    "## Write data to file"
   ]
  },
  {
   "cell_type": "code",
   "execution_count": 35,
   "metadata": {
    "collapsed": true
   },
   "outputs": [],
   "source": [
    "info.to_csv(\"mean_cpm_values.tsv\", sep = '\\t', index = False)"
   ]
  }
 ],
 "metadata": {
  "kernelspec": {
   "display_name": "Python 3",
   "language": "python",
   "name": "python3"
  },
  "language_info": {
   "codemirror_mode": {
    "name": "ipython",
    "version": 3
   },
   "file_extension": ".py",
   "mimetype": "text/x-python",
   "name": "python",
   "nbconvert_exporter": "python",
   "pygments_lexer": "ipython3",
   "version": "3.4.2"
  }
 },
 "nbformat": 4,
 "nbformat_minor": 0
}
