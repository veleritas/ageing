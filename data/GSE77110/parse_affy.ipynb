{
 "cells": [
  {
   "cell_type": "markdown",
   "metadata": {},
   "source": [
    "# Parse Affy C. elegans Genome Array annotations\n",
    "\n",
    "Tong Shu Li\n",
    "\n",
    "Parse out the annotations for each probe for the Affymetrix C. elegans Genome Array platform (GPL200)."
   ]
  },
  {
   "cell_type": "code",
   "execution_count": 1,
   "metadata": {
    "collapsed": true
   },
   "outputs": [],
   "source": [
    "import numpy as np\n",
    "import pandas as pd"
   ]
  },
  {
   "cell_type": "markdown",
   "metadata": {},
   "source": [
    "---"
   ]
  },
  {
   "cell_type": "markdown",
   "metadata": {},
   "source": [
    "## Read the annotation file:"
   ]
  },
  {
   "cell_type": "code",
   "execution_count": 2,
   "metadata": {
    "collapsed": true
   },
   "outputs": [],
   "source": [
    "affy = pd.read_csv(\"Celegans.na35.annot.csv\", sep = ',', comment = '#')"
   ]
  },
  {
   "cell_type": "code",
   "execution_count": 3,
   "metadata": {
    "collapsed": false
   },
   "outputs": [
    {
     "data": {
      "text/plain": [
       "(22625, 41)"
      ]
     },
     "execution_count": 3,
     "metadata": {},
     "output_type": "execute_result"
    }
   ],
   "source": [
    "affy.shape"
   ]
  },
  {
   "cell_type": "code",
   "execution_count": 4,
   "metadata": {
    "collapsed": false
   },
   "outputs": [
    {
     "data": {
      "text/html": [
       "<div>\n",
       "<table border=\"1\" class=\"dataframe\">\n",
       "  <thead>\n",
       "    <tr style=\"text-align: right;\">\n",
       "      <th></th>\n",
       "      <th>Probe Set ID</th>\n",
       "      <th>GeneChip Array</th>\n",
       "      <th>Species Scientific Name</th>\n",
       "      <th>Annotation Date</th>\n",
       "      <th>Sequence Type</th>\n",
       "      <th>Sequence Source</th>\n",
       "      <th>Transcript ID(Array Design)</th>\n",
       "      <th>Target Description</th>\n",
       "      <th>Representative Public ID</th>\n",
       "      <th>Archival UniGene Cluster</th>\n",
       "      <th>...</th>\n",
       "      <th>Gene Ontology Cellular Component</th>\n",
       "      <th>Gene Ontology Molecular Function</th>\n",
       "      <th>Pathway</th>\n",
       "      <th>InterPro</th>\n",
       "      <th>Trans Membrane</th>\n",
       "      <th>QTL</th>\n",
       "      <th>Annotation Description</th>\n",
       "      <th>Annotation Transcript Cluster</th>\n",
       "      <th>Transcript Assignments</th>\n",
       "      <th>Annotation Notes</th>\n",
       "    </tr>\n",
       "  </thead>\n",
       "  <tbody>\n",
       "    <tr>\n",
       "      <th>0</th>\n",
       "      <td>171720_x_at</td>\n",
       "      <td>C. elegans Genome Array</td>\n",
       "      <td>Caenorhabditis elegans</td>\n",
       "      <td>Oct 6, 2014</td>\n",
       "      <td>Exemplar sequence</td>\n",
       "      <td>Affymetrix Proprietary Database</td>\n",
       "      <td>affy.Ce.20641</td>\n",
       "      <td>AV179929_rc /REP_DB=TREMBL Accession /GB=AV179...</td>\n",
       "      <td>AV179929</td>\n",
       "      <td>---</td>\n",
       "      <td>...</td>\n",
       "      <td>---</td>\n",
       "      <td>0005515 // protein binding // inferred from el...</td>\n",
       "      <td>---</td>\n",
       "      <td>IPR000342 // Regulator of G protein signalling...</td>\n",
       "      <td>---</td>\n",
       "      <td>---</td>\n",
       "      <td>This probe set was annotated using the Matchin...</td>\n",
       "      <td>Y48E1B.14a</td>\n",
       "      <td>Y48E1B.14a // cdna:known chromosome:WBcel235:I...</td>\n",
       "      <td>NM_064443 // refseq // 8 // Cross Hyb Matching...</td>\n",
       "    </tr>\n",
       "    <tr>\n",
       "      <th>1</th>\n",
       "      <td>171721_x_at</td>\n",
       "      <td>C. elegans Genome Array</td>\n",
       "      <td>Caenorhabditis elegans</td>\n",
       "      <td>Oct 6, 2014</td>\n",
       "      <td>Exemplar sequence</td>\n",
       "      <td>GenBank</td>\n",
       "      <td>affy.Ce.22856</td>\n",
       "      <td>g6767 /REP_DB=GenBank Identifier /5_PRIME_EXT_...</td>\n",
       "      <td>6767</td>\n",
       "      <td>---</td>\n",
       "      <td>...</td>\n",
       "      <td>0005737 // cytoplasm // inferred from direct a...</td>\n",
       "      <td>0005515 // protein binding // inferred from ph...</td>\n",
       "      <td>---</td>\n",
       "      <td>IPR005373 // Uncharacterised protein family UP...</td>\n",
       "      <td>---</td>\n",
       "      <td>---</td>\n",
       "      <td>This probe set was annotated using the Matchin...</td>\n",
       "      <td>NM_059851(10),NM_171841(10),T01G9.2a,T01G9.2b</td>\n",
       "      <td>NM_059851 // Caenorhabditis elegans Protein T0...</td>\n",
       "      <td>---</td>\n",
       "    </tr>\n",
       "    <tr>\n",
       "      <th>2</th>\n",
       "      <td>171722_x_at</td>\n",
       "      <td>C. elegans Genome Array</td>\n",
       "      <td>Caenorhabditis elegans</td>\n",
       "      <td>Oct 6, 2014</td>\n",
       "      <td>Exemplar sequence</td>\n",
       "      <td>Affymetrix Proprietary Database</td>\n",
       "      <td>affy.Ce.25068</td>\n",
       "      <td>AV189310 /REP_DB=TREMBL Accession /5_PRIME_EXT...</td>\n",
       "      <td>AV189310</td>\n",
       "      <td>---</td>\n",
       "      <td>...</td>\n",
       "      <td>0005744 // mitochondrial inner membrane preseq...</td>\n",
       "      <td>---</td>\n",
       "      <td>---</td>\n",
       "      <td>IPR013261 // Mitochondrial import inner membra...</td>\n",
       "      <td>---</td>\n",
       "      <td>---</td>\n",
       "      <td>This probe set was annotated using the Matchin...</td>\n",
       "      <td>F56B3.11a,F56B3.11b,NM_067590(10),NM_067591(9)</td>\n",
       "      <td>F56B3.11a // cdna:known chromosome:WBcel235:IV...</td>\n",
       "      <td>---</td>\n",
       "    </tr>\n",
       "    <tr>\n",
       "      <th>3</th>\n",
       "      <td>171723_x_at</td>\n",
       "      <td>C. elegans Genome Array</td>\n",
       "      <td>Caenorhabditis elegans</td>\n",
       "      <td>Oct 6, 2014</td>\n",
       "      <td>Exemplar sequence</td>\n",
       "      <td>Affymetrix Proprietary Database</td>\n",
       "      <td>affy.Ce.26172</td>\n",
       "      <td>CEC7564 /REP_DB=TREMBL Accession /5_PRIME_EXT_...</td>\n",
       "      <td>CEC7564</td>\n",
       "      <td>---</td>\n",
       "      <td>...</td>\n",
       "      <td>0005576 // extracellular region // inferred fr...</td>\n",
       "      <td>0005319 // lipid transporter activity // infer...</td>\n",
       "      <td>---</td>\n",
       "      <td>IPR001747 // Lipid transport protein, N-termin...</td>\n",
       "      <td>---</td>\n",
       "      <td>---</td>\n",
       "      <td>This probe set was annotated using the Matchin...</td>\n",
       "      <td>F59D8.2(10),NM_076211(10)</td>\n",
       "      <td>F59D8.2 // cdna:known chromosome:WBcel235:X:35...</td>\n",
       "      <td>NM_076188 // refseq // 8 // Cross Hyb Matching...</td>\n",
       "    </tr>\n",
       "    <tr>\n",
       "      <th>4</th>\n",
       "      <td>171724_x_at</td>\n",
       "      <td>C. elegans Genome Array</td>\n",
       "      <td>Caenorhabditis elegans</td>\n",
       "      <td>Oct 6, 2014</td>\n",
       "      <td>Exemplar sequence</td>\n",
       "      <td>Affymetrix Proprietary Database</td>\n",
       "      <td>affy.Ce.20249</td>\n",
       "      <td>AV178012_rc /REP_DB=TREMBL Accession /GB=AV178...</td>\n",
       "      <td>AV178012</td>\n",
       "      <td>---</td>\n",
       "      <td>...</td>\n",
       "      <td>0005622 // intracellular // inferred from elec...</td>\n",
       "      <td>0004721 // phosphoprotein phosphatase activity...</td>\n",
       "      <td>---</td>\n",
       "      <td>IPR001763 // Rhodanese-like domain // 2.8E-12</td>\n",
       "      <td>---</td>\n",
       "      <td>---</td>\n",
       "      <td>This probe set was annotated using the Matchin...</td>\n",
       "      <td>K06A5.7.1(11),K06A5.7.2(11)</td>\n",
       "      <td>K06A5.7.1 // cdna:known chromosome:WBcel235:I:...</td>\n",
       "      <td>---</td>\n",
       "    </tr>\n",
       "  </tbody>\n",
       "</table>\n",
       "<p>5 rows × 41 columns</p>\n",
       "</div>"
      ],
      "text/plain": [
       "  Probe Set ID           GeneChip Array Species Scientific Name  \\\n",
       "0  171720_x_at  C. elegans Genome Array  Caenorhabditis elegans   \n",
       "1  171721_x_at  C. elegans Genome Array  Caenorhabditis elegans   \n",
       "2  171722_x_at  C. elegans Genome Array  Caenorhabditis elegans   \n",
       "3  171723_x_at  C. elegans Genome Array  Caenorhabditis elegans   \n",
       "4  171724_x_at  C. elegans Genome Array  Caenorhabditis elegans   \n",
       "\n",
       "  Annotation Date      Sequence Type                  Sequence Source  \\\n",
       "0     Oct 6, 2014  Exemplar sequence  Affymetrix Proprietary Database   \n",
       "1     Oct 6, 2014  Exemplar sequence                          GenBank   \n",
       "2     Oct 6, 2014  Exemplar sequence  Affymetrix Proprietary Database   \n",
       "3     Oct 6, 2014  Exemplar sequence  Affymetrix Proprietary Database   \n",
       "4     Oct 6, 2014  Exemplar sequence  Affymetrix Proprietary Database   \n",
       "\n",
       "  Transcript ID(Array Design)  \\\n",
       "0               affy.Ce.20641   \n",
       "1               affy.Ce.22856   \n",
       "2               affy.Ce.25068   \n",
       "3               affy.Ce.26172   \n",
       "4               affy.Ce.20249   \n",
       "\n",
       "                                  Target Description Representative Public ID  \\\n",
       "0  AV179929_rc /REP_DB=TREMBL Accession /GB=AV179...                 AV179929   \n",
       "1  g6767 /REP_DB=GenBank Identifier /5_PRIME_EXT_...                     6767   \n",
       "2  AV189310 /REP_DB=TREMBL Accession /5_PRIME_EXT...                 AV189310   \n",
       "3  CEC7564 /REP_DB=TREMBL Accession /5_PRIME_EXT_...                  CEC7564   \n",
       "4  AV178012_rc /REP_DB=TREMBL Accession /GB=AV178...                 AV178012   \n",
       "\n",
       "  Archival UniGene Cluster                        ...                          \\\n",
       "0                      ---                        ...                           \n",
       "1                      ---                        ...                           \n",
       "2                      ---                        ...                           \n",
       "3                      ---                        ...                           \n",
       "4                      ---                        ...                           \n",
       "\n",
       "                    Gene Ontology Cellular Component  \\\n",
       "0                                                ---   \n",
       "1  0005737 // cytoplasm // inferred from direct a...   \n",
       "2  0005744 // mitochondrial inner membrane preseq...   \n",
       "3  0005576 // extracellular region // inferred fr...   \n",
       "4  0005622 // intracellular // inferred from elec...   \n",
       "\n",
       "                    Gene Ontology Molecular Function Pathway  \\\n",
       "0  0005515 // protein binding // inferred from el...     ---   \n",
       "1  0005515 // protein binding // inferred from ph...     ---   \n",
       "2                                                ---     ---   \n",
       "3  0005319 // lipid transporter activity // infer...     ---   \n",
       "4  0004721 // phosphoprotein phosphatase activity...     ---   \n",
       "\n",
       "                                            InterPro Trans Membrane  QTL  \\\n",
       "0  IPR000342 // Regulator of G protein signalling...            ---  ---   \n",
       "1  IPR005373 // Uncharacterised protein family UP...            ---  ---   \n",
       "2  IPR013261 // Mitochondrial import inner membra...            ---  ---   \n",
       "3  IPR001747 // Lipid transport protein, N-termin...            ---  ---   \n",
       "4      IPR001763 // Rhodanese-like domain // 2.8E-12            ---  ---   \n",
       "\n",
       "                              Annotation Description  \\\n",
       "0  This probe set was annotated using the Matchin...   \n",
       "1  This probe set was annotated using the Matchin...   \n",
       "2  This probe set was annotated using the Matchin...   \n",
       "3  This probe set was annotated using the Matchin...   \n",
       "4  This probe set was annotated using the Matchin...   \n",
       "\n",
       "                    Annotation Transcript Cluster  \\\n",
       "0                                      Y48E1B.14a   \n",
       "1   NM_059851(10),NM_171841(10),T01G9.2a,T01G9.2b   \n",
       "2  F56B3.11a,F56B3.11b,NM_067590(10),NM_067591(9)   \n",
       "3                       F59D8.2(10),NM_076211(10)   \n",
       "4                     K06A5.7.1(11),K06A5.7.2(11)   \n",
       "\n",
       "                              Transcript Assignments  \\\n",
       "0  Y48E1B.14a // cdna:known chromosome:WBcel235:I...   \n",
       "1  NM_059851 // Caenorhabditis elegans Protein T0...   \n",
       "2  F56B3.11a // cdna:known chromosome:WBcel235:IV...   \n",
       "3  F59D8.2 // cdna:known chromosome:WBcel235:X:35...   \n",
       "4  K06A5.7.1 // cdna:known chromosome:WBcel235:I:...   \n",
       "\n",
       "                                    Annotation Notes  \n",
       "0  NM_064443 // refseq // 8 // Cross Hyb Matching...  \n",
       "1                                                ---  \n",
       "2                                                ---  \n",
       "3  NM_076188 // refseq // 8 // Cross Hyb Matching...  \n",
       "4                                                ---  \n",
       "\n",
       "[5 rows x 41 columns]"
      ]
     },
     "execution_count": 4,
     "metadata": {},
     "output_type": "execute_result"
    }
   ],
   "source": [
    "affy.head()"
   ]
  },
  {
   "cell_type": "markdown",
   "metadata": {},
   "source": [
    "### Replace the delimiter for empty (\"---\") with NaN"
   ]
  },
  {
   "cell_type": "code",
   "execution_count": 5,
   "metadata": {
    "collapsed": false
   },
   "outputs": [],
   "source": [
    "affy = affy.replace(to_replace = \"---\", value = np.nan)"
   ]
  },
  {
   "cell_type": "markdown",
   "metadata": {},
   "source": [
    "### Remove empty columns"
   ]
  },
  {
   "cell_type": "code",
   "execution_count": 6,
   "metadata": {
    "collapsed": true
   },
   "outputs": [],
   "source": [
    "affy = affy.drop(\n",
    "    [col for col in affy.columns if all(affy[col].isnull())],\n",
    "    axis = 1\n",
    ")"
   ]
  },
  {
   "cell_type": "markdown",
   "metadata": {},
   "source": [
    "### Remaining empty cells"
   ]
  },
  {
   "cell_type": "code",
   "execution_count": 7,
   "metadata": {
    "collapsed": false
   },
   "outputs": [
    {
     "data": {
      "text/plain": [
       "Probe Set ID                            0\n",
       "GeneChip Array                          0\n",
       "Species Scientific Name                 0\n",
       "Annotation Date                         0\n",
       "Sequence Type                           0\n",
       "Sequence Source                         0\n",
       "Transcript ID(Array Design)             0\n",
       "Target Description                      0\n",
       "Representative Public ID                0\n",
       "UniGene ID                           1346\n",
       "Genome Version                          0\n",
       "Alignments                            323\n",
       "Gene Title                            684\n",
       "Gene Symbol                           684\n",
       "Unigene Cluster Type                 1351\n",
       "Ensembl                               717\n",
       "Entrez Gene                           684\n",
       "SwissProt                            1703\n",
       "RefSeq Protein ID                    1185\n",
       "RefSeq Transcript ID                 1164\n",
       "WormBase                             5996\n",
       "Gene Ontology Biological Process     9976\n",
       "Gene Ontology Cellular Component    14188\n",
       "Gene Ontology Molecular Function    10554\n",
       "InterPro                             7291\n",
       "Annotation Description                  0\n",
       "Annotation Transcript Cluster           0\n",
       "Transcript Assignments                  0\n",
       "Annotation Notes                    19507\n",
       "dtype: int64"
      ]
     },
     "execution_count": 7,
     "metadata": {},
     "output_type": "execute_result"
    }
   ],
   "source": [
    "affy.isnull().sum()"
   ]
  },
  {
   "cell_type": "markdown",
   "metadata": {},
   "source": [
    "## Look at which identifiers to use"
   ]
  },
  {
   "cell_type": "code",
   "execution_count": 8,
   "metadata": {
    "collapsed": false
   },
   "outputs": [],
   "source": [
    "ids = affy[[\"Probe Set ID\", \"Entrez Gene\", \"WormBase\", \"Ensembl\"]]"
   ]
  },
  {
   "cell_type": "code",
   "execution_count": 9,
   "metadata": {
    "collapsed": false
   },
   "outputs": [
    {
     "data": {
      "text/plain": [
       "(22625, 4)"
      ]
     },
     "execution_count": 9,
     "metadata": {},
     "output_type": "execute_result"
    }
   ],
   "source": [
    "ids.shape"
   ]
  },
  {
   "cell_type": "code",
   "execution_count": 10,
   "metadata": {
    "collapsed": false
   },
   "outputs": [
    {
     "data": {
      "text/html": [
       "<div>\n",
       "<table border=\"1\" class=\"dataframe\">\n",
       "  <thead>\n",
       "    <tr style=\"text-align: right;\">\n",
       "      <th></th>\n",
       "      <th>Probe Set ID</th>\n",
       "      <th>Entrez Gene</th>\n",
       "      <th>WormBase</th>\n",
       "      <th>Ensembl</th>\n",
       "    </tr>\n",
       "  </thead>\n",
       "  <tbody>\n",
       "    <tr>\n",
       "      <th>0</th>\n",
       "      <td>171720_x_at</td>\n",
       "      <td>174997</td>\n",
       "      <td>NaN</td>\n",
       "      <td>WBGene00013011</td>\n",
       "    </tr>\n",
       "    <tr>\n",
       "      <th>1</th>\n",
       "      <td>171721_x_at</td>\n",
       "      <td>172609</td>\n",
       "      <td>NaN</td>\n",
       "      <td>WBGene00011344</td>\n",
       "    </tr>\n",
       "    <tr>\n",
       "      <th>2</th>\n",
       "      <td>171722_x_at</td>\n",
       "      <td>176907</td>\n",
       "      <td>NaN</td>\n",
       "      <td>WBGene00018934</td>\n",
       "    </tr>\n",
       "    <tr>\n",
       "      <th>3</th>\n",
       "      <td>171723_x_at</td>\n",
       "      <td>180646</td>\n",
       "      <td>CE26817</td>\n",
       "      <td>WBGene00006928</td>\n",
       "    </tr>\n",
       "    <tr>\n",
       "      <th>4</th>\n",
       "      <td>171724_x_at</td>\n",
       "      <td>172353</td>\n",
       "      <td>CE11778</td>\n",
       "      <td>WBGene00000386</td>\n",
       "    </tr>\n",
       "  </tbody>\n",
       "</table>\n",
       "</div>"
      ],
      "text/plain": [
       "  Probe Set ID Entrez Gene WormBase         Ensembl\n",
       "0  171720_x_at      174997      NaN  WBGene00013011\n",
       "1  171721_x_at      172609      NaN  WBGene00011344\n",
       "2  171722_x_at      176907      NaN  WBGene00018934\n",
       "3  171723_x_at      180646  CE26817  WBGene00006928\n",
       "4  171724_x_at      172353  CE11778  WBGene00000386"
      ]
     },
     "execution_count": 10,
     "metadata": {},
     "output_type": "execute_result"
    }
   ],
   "source": [
    "ids.head()"
   ]
  },
  {
   "cell_type": "code",
   "execution_count": 11,
   "metadata": {
    "collapsed": false
   },
   "outputs": [
    {
     "data": {
      "text/plain": [
       "Ensembl  Entrez Gene  WormBase\n",
       "False    False        False       16580\n",
       "                      True         5238\n",
       "         True         True           90\n",
       "True     False        False          49\n",
       "                      True           74\n",
       "         True         True          594\n",
       "dtype: int64"
      ]
     },
     "execution_count": 11,
     "metadata": {},
     "output_type": "execute_result"
    }
   ],
   "source": [
    "ids.isnull().groupby([\"Ensembl\", \"Entrez Gene\", \"WormBase\"]).size()"
   ]
  },
  {
   "cell_type": "markdown",
   "metadata": {},
   "source": [
    "Some 594 probe ids do not have mappable ids. Hand examination of these specific probes reveals that the `Representative Public ID` column can be used to identify the probed gene. However, these identifiers are not guaranteed to be unique."
   ]
  },
  {
   "cell_type": "markdown",
   "metadata": {},
   "source": [
    "## All identifiers"
   ]
  },
  {
   "cell_type": "code",
   "execution_count": 12,
   "metadata": {
    "collapsed": true
   },
   "outputs": [],
   "source": [
    "ids = affy[[\"Probe Set ID\", \"Entrez Gene\", \"WormBase\", \"Ensembl\", \"Representative Public ID\"]]"
   ]
  },
  {
   "cell_type": "code",
   "execution_count": 13,
   "metadata": {
    "collapsed": false
   },
   "outputs": [
    {
     "data": {
      "text/plain": [
       "(22625, 5)"
      ]
     },
     "execution_count": 13,
     "metadata": {},
     "output_type": "execute_result"
    }
   ],
   "source": [
    "ids.shape"
   ]
  },
  {
   "cell_type": "code",
   "execution_count": 14,
   "metadata": {
    "collapsed": false
   },
   "outputs": [
    {
     "data": {
      "text/html": [
       "<div>\n",
       "<table border=\"1\" class=\"dataframe\">\n",
       "  <thead>\n",
       "    <tr style=\"text-align: right;\">\n",
       "      <th></th>\n",
       "      <th>Probe Set ID</th>\n",
       "      <th>Entrez Gene</th>\n",
       "      <th>WormBase</th>\n",
       "      <th>Ensembl</th>\n",
       "      <th>Representative Public ID</th>\n",
       "    </tr>\n",
       "  </thead>\n",
       "  <tbody>\n",
       "    <tr>\n",
       "      <th>0</th>\n",
       "      <td>171720_x_at</td>\n",
       "      <td>174997</td>\n",
       "      <td>NaN</td>\n",
       "      <td>WBGene00013011</td>\n",
       "      <td>AV179929</td>\n",
       "    </tr>\n",
       "    <tr>\n",
       "      <th>1</th>\n",
       "      <td>171721_x_at</td>\n",
       "      <td>172609</td>\n",
       "      <td>NaN</td>\n",
       "      <td>WBGene00011344</td>\n",
       "      <td>6767</td>\n",
       "    </tr>\n",
       "    <tr>\n",
       "      <th>2</th>\n",
       "      <td>171722_x_at</td>\n",
       "      <td>176907</td>\n",
       "      <td>NaN</td>\n",
       "      <td>WBGene00018934</td>\n",
       "      <td>AV189310</td>\n",
       "    </tr>\n",
       "    <tr>\n",
       "      <th>3</th>\n",
       "      <td>171723_x_at</td>\n",
       "      <td>180646</td>\n",
       "      <td>CE26817</td>\n",
       "      <td>WBGene00006928</td>\n",
       "      <td>CEC7564</td>\n",
       "    </tr>\n",
       "    <tr>\n",
       "      <th>4</th>\n",
       "      <td>171724_x_at</td>\n",
       "      <td>172353</td>\n",
       "      <td>CE11778</td>\n",
       "      <td>WBGene00000386</td>\n",
       "      <td>AV178012</td>\n",
       "    </tr>\n",
       "  </tbody>\n",
       "</table>\n",
       "</div>"
      ],
      "text/plain": [
       "  Probe Set ID Entrez Gene WormBase         Ensembl Representative Public ID\n",
       "0  171720_x_at      174997      NaN  WBGene00013011                 AV179929\n",
       "1  171721_x_at      172609      NaN  WBGene00011344                     6767\n",
       "2  171722_x_at      176907      NaN  WBGene00018934                 AV189310\n",
       "3  171723_x_at      180646  CE26817  WBGene00006928                  CEC7564\n",
       "4  171724_x_at      172353  CE11778  WBGene00000386                 AV178012"
      ]
     },
     "execution_count": 14,
     "metadata": {},
     "output_type": "execute_result"
    }
   ],
   "source": [
    "ids.head()"
   ]
  },
  {
   "cell_type": "markdown",
   "metadata": {
    "collapsed": true
   },
   "source": [
    "## Rename columns"
   ]
  },
  {
   "cell_type": "code",
   "execution_count": 15,
   "metadata": {
    "collapsed": true
   },
   "outputs": [],
   "source": [
    "ids = ids.rename(columns = {\"Probe Set ID\": \"probe_id\", \"Entrez Gene\": \"entrez_id\",\n",
    "                           \"WormBase\": \"wormbase_id\", \"Ensembl\": \"ensembl_id\",\n",
    "                           \"Representative Public ID\": \"other_id\"})"
   ]
  },
  {
   "cell_type": "code",
   "execution_count": 16,
   "metadata": {
    "collapsed": false
   },
   "outputs": [
    {
     "data": {
      "text/html": [
       "<div>\n",
       "<table border=\"1\" class=\"dataframe\">\n",
       "  <thead>\n",
       "    <tr style=\"text-align: right;\">\n",
       "      <th></th>\n",
       "      <th>probe_id</th>\n",
       "      <th>entrez_id</th>\n",
       "      <th>wormbase_id</th>\n",
       "      <th>ensembl_id</th>\n",
       "      <th>other_id</th>\n",
       "    </tr>\n",
       "  </thead>\n",
       "  <tbody>\n",
       "    <tr>\n",
       "      <th>0</th>\n",
       "      <td>171720_x_at</td>\n",
       "      <td>174997</td>\n",
       "      <td>NaN</td>\n",
       "      <td>WBGene00013011</td>\n",
       "      <td>AV179929</td>\n",
       "    </tr>\n",
       "    <tr>\n",
       "      <th>1</th>\n",
       "      <td>171721_x_at</td>\n",
       "      <td>172609</td>\n",
       "      <td>NaN</td>\n",
       "      <td>WBGene00011344</td>\n",
       "      <td>6767</td>\n",
       "    </tr>\n",
       "    <tr>\n",
       "      <th>2</th>\n",
       "      <td>171722_x_at</td>\n",
       "      <td>176907</td>\n",
       "      <td>NaN</td>\n",
       "      <td>WBGene00018934</td>\n",
       "      <td>AV189310</td>\n",
       "    </tr>\n",
       "    <tr>\n",
       "      <th>3</th>\n",
       "      <td>171723_x_at</td>\n",
       "      <td>180646</td>\n",
       "      <td>CE26817</td>\n",
       "      <td>WBGene00006928</td>\n",
       "      <td>CEC7564</td>\n",
       "    </tr>\n",
       "    <tr>\n",
       "      <th>4</th>\n",
       "      <td>171724_x_at</td>\n",
       "      <td>172353</td>\n",
       "      <td>CE11778</td>\n",
       "      <td>WBGene00000386</td>\n",
       "      <td>AV178012</td>\n",
       "    </tr>\n",
       "  </tbody>\n",
       "</table>\n",
       "</div>"
      ],
      "text/plain": [
       "      probe_id entrez_id wormbase_id      ensembl_id  other_id\n",
       "0  171720_x_at    174997         NaN  WBGene00013011  AV179929\n",
       "1  171721_x_at    172609         NaN  WBGene00011344      6767\n",
       "2  171722_x_at    176907         NaN  WBGene00018934  AV189310\n",
       "3  171723_x_at    180646     CE26817  WBGene00006928   CEC7564\n",
       "4  171724_x_at    172353     CE11778  WBGene00000386  AV178012"
      ]
     },
     "execution_count": 16,
     "metadata": {},
     "output_type": "execute_result"
    }
   ],
   "source": [
    "ids.head()"
   ]
  },
  {
   "cell_type": "code",
   "execution_count": 17,
   "metadata": {
    "collapsed": false
   },
   "outputs": [
    {
     "data": {
      "text/html": [
       "<div>\n",
       "<table border=\"1\" class=\"dataframe\">\n",
       "  <thead>\n",
       "    <tr style=\"text-align: right;\">\n",
       "      <th></th>\n",
       "      <th>probe_id</th>\n",
       "      <th>entrez_id</th>\n",
       "      <th>wormbase_id</th>\n",
       "      <th>ensembl_id</th>\n",
       "      <th>other_id</th>\n",
       "    </tr>\n",
       "  </thead>\n",
       "  <tbody>\n",
       "    <tr>\n",
       "      <th>count</th>\n",
       "      <td>22625</td>\n",
       "      <td>21941</td>\n",
       "      <td>16629</td>\n",
       "      <td>21908</td>\n",
       "      <td>22625</td>\n",
       "    </tr>\n",
       "    <tr>\n",
       "      <th>unique</th>\n",
       "      <td>22625</td>\n",
       "      <td>18217</td>\n",
       "      <td>14514</td>\n",
       "      <td>18225</td>\n",
       "      <td>21880</td>\n",
       "    </tr>\n",
       "    <tr>\n",
       "      <th>top</th>\n",
       "      <td>194137_at</td>\n",
       "      <td>171952</td>\n",
       "      <td>CE03252</td>\n",
       "      <td>WBGene00023313 /// WBGene00023382</td>\n",
       "      <td>J04423</td>\n",
       "    </tr>\n",
       "    <tr>\n",
       "      <th>freq</th>\n",
       "      <td>1</td>\n",
       "      <td>10</td>\n",
       "      <td>12</td>\n",
       "      <td>11</td>\n",
       "      <td>14</td>\n",
       "    </tr>\n",
       "  </tbody>\n",
       "</table>\n",
       "</div>"
      ],
      "text/plain": [
       "         probe_id entrez_id wormbase_id                         ensembl_id  \\\n",
       "count       22625     21941       16629                              21908   \n",
       "unique      22625     18217       14514                              18225   \n",
       "top     194137_at    171952     CE03252  WBGene00023313 /// WBGene00023382   \n",
       "freq            1        10          12                                 11   \n",
       "\n",
       "       other_id  \n",
       "count     22625  \n",
       "unique    21880  \n",
       "top      J04423  \n",
       "freq         14  "
      ]
     },
     "execution_count": 17,
     "metadata": {},
     "output_type": "execute_result"
    }
   ],
   "source": [
    "ids.describe()"
   ]
  },
  {
   "cell_type": "markdown",
   "metadata": {},
   "source": [
    "This identifier mapping is far from satisfactory, so we will use the probe ids as the main unique ids and then worry about mappings later.."
   ]
  },
  {
   "cell_type": "markdown",
   "metadata": {
    "collapsed": true
   },
   "source": [
    "## Save to file"
   ]
  },
  {
   "cell_type": "code",
   "execution_count": 18,
   "metadata": {
    "collapsed": true
   },
   "outputs": [],
   "source": [
    "ids.to_csv(\"GPL200_id_mapping.tsv\", sep = '\\t', index = False)"
   ]
  }
 ],
 "metadata": {
  "kernelspec": {
   "display_name": "Python 3",
   "language": "python",
   "name": "python3"
  },
  "language_info": {
   "codemirror_mode": {
    "name": "ipython",
    "version": 3
   },
   "file_extension": ".py",
   "mimetype": "text/x-python",
   "name": "python",
   "nbconvert_exporter": "python",
   "pygments_lexer": "ipython3",
   "version": "3.4.2"
  }
 },
 "nbformat": 4,
 "nbformat_minor": 0
}
