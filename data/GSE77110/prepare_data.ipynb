{
 "cells": [
  {
   "cell_type": "markdown",
   "metadata": {},
   "source": [
    "# Clean GSE77110 data\n",
    "\n",
    "Tong Shu Li\n",
    "\n",
    "We will reshape the expression value matrix to long form and add in relevant metadata about each sample. Conversion of probe ids to other ids is not done here due to complexities with probe mappings."
   ]
  },
  {
   "cell_type": "code",
   "execution_count": 1,
   "metadata": {
    "collapsed": true
   },
   "outputs": [],
   "source": [
    "import pandas as pd\n",
    "import sys"
   ]
  },
  {
   "cell_type": "code",
   "execution_count": 2,
   "metadata": {
    "collapsed": true
   },
   "outputs": [],
   "source": [
    "sys.path.append(\"../..\")"
   ]
  },
  {
   "cell_type": "code",
   "execution_count": 3,
   "metadata": {
    "collapsed": true
   },
   "outputs": [],
   "source": [
    "from src.geo import parse_series_matrix"
   ]
  },
  {
   "cell_type": "markdown",
   "metadata": {},
   "source": [
    "## Read GSE77110 series matrix"
   ]
  },
  {
   "cell_type": "code",
   "execution_count": 4,
   "metadata": {
    "collapsed": false
   },
   "outputs": [],
   "source": [
    "series, samples, exp = parse_series_matrix(\"GSE77110_series_matrix.txt\")"
   ]
  },
  {
   "cell_type": "code",
   "execution_count": 5,
   "metadata": {
    "collapsed": false
   },
   "outputs": [
    {
     "data": {
      "text/plain": [
       "(15, 36)"
      ]
     },
     "execution_count": 5,
     "metadata": {},
     "output_type": "execute_result"
    }
   ],
   "source": [
    "samples.shape"
   ]
  },
  {
   "cell_type": "code",
   "execution_count": 6,
   "metadata": {
    "collapsed": false
   },
   "outputs": [
    {
     "data": {
      "text/html": [
       "<div>\n",
       "<table border=\"1\" class=\"dataframe\">\n",
       "  <thead>\n",
       "    <tr style=\"text-align: right;\">\n",
       "      <th></th>\n",
       "      <th>title</th>\n",
       "      <th>geo_accession</th>\n",
       "      <th>status</th>\n",
       "      <th>submission_date</th>\n",
       "      <th>last_update_date</th>\n",
       "      <th>type</th>\n",
       "      <th>channel_count</th>\n",
       "      <th>source_name_ch1</th>\n",
       "      <th>organism_ch1</th>\n",
       "      <th>characteristics_ch1</th>\n",
       "      <th>...</th>\n",
       "      <th>contact_email</th>\n",
       "      <th>contact_laboratory</th>\n",
       "      <th>contact_department</th>\n",
       "      <th>contact_institute</th>\n",
       "      <th>contact_address</th>\n",
       "      <th>contact_city</th>\n",
       "      <th>contact_zip/postal_code</th>\n",
       "      <th>contact_country</th>\n",
       "      <th>supplementary_file</th>\n",
       "      <th>data_row_count</th>\n",
       "    </tr>\n",
       "  </thead>\n",
       "  <tbody>\n",
       "    <tr>\n",
       "      <th>0</th>\n",
       "      <td>N2_AL_AD2</td>\n",
       "      <td>GSM2044469</td>\n",
       "      <td>Public on Jan 22 2016</td>\n",
       "      <td>Jan 21 2016</td>\n",
       "      <td>Jan 22 2016</td>\n",
       "      <td>RNA</td>\n",
       "      <td>1</td>\n",
       "      <td>N2 worms under AL condition, on adult day 2</td>\n",
       "      <td>Caenorhabditis elegans</td>\n",
       "      <td>strain: N2</td>\n",
       "      <td>...</td>\n",
       "      <td>jackie.jdhan@gmail.com</td>\n",
       "      <td>Jing-Dong J. Han's Lab</td>\n",
       "      <td>CAS-MPG Partner Institute for Computational Bi...</td>\n",
       "      <td>Shanghai Institutes for Biological Sciences, C...</td>\n",
       "      <td>Yueyang Road 320</td>\n",
       "      <td>Shanghai</td>\n",
       "      <td>200031</td>\n",
       "      <td>China</td>\n",
       "      <td>ftp://ftp.ncbi.nlm.nih.gov/pub/geo/DATA/supple...</td>\n",
       "      <td>22625</td>\n",
       "    </tr>\n",
       "    <tr>\n",
       "      <th>1</th>\n",
       "      <td>N2_AL_AD4</td>\n",
       "      <td>GSM2044470</td>\n",
       "      <td>Public on Jan 22 2016</td>\n",
       "      <td>Jan 21 2016</td>\n",
       "      <td>Jan 22 2016</td>\n",
       "      <td>RNA</td>\n",
       "      <td>1</td>\n",
       "      <td>N2 worms under AL condition, on adult day 4</td>\n",
       "      <td>Caenorhabditis elegans</td>\n",
       "      <td>strain: N2</td>\n",
       "      <td>...</td>\n",
       "      <td>jackie.jdhan@gmail.com</td>\n",
       "      <td>Jing-Dong J. Han's Lab</td>\n",
       "      <td>CAS-MPG Partner Institute for Computational Bi...</td>\n",
       "      <td>Shanghai Institutes for Biological Sciences, C...</td>\n",
       "      <td>Yueyang Road 320</td>\n",
       "      <td>Shanghai</td>\n",
       "      <td>200031</td>\n",
       "      <td>China</td>\n",
       "      <td>ftp://ftp.ncbi.nlm.nih.gov/pub/geo/DATA/supple...</td>\n",
       "      <td>22625</td>\n",
       "    </tr>\n",
       "  </tbody>\n",
       "</table>\n",
       "<p>2 rows × 36 columns</p>\n",
       "</div>"
      ],
      "text/plain": [
       "       title geo_accession                 status submission_date  \\\n",
       "0  N2_AL_AD2    GSM2044469  Public on Jan 22 2016     Jan 21 2016   \n",
       "1  N2_AL_AD4    GSM2044470  Public on Jan 22 2016     Jan 21 2016   \n",
       "\n",
       "  last_update_date type channel_count  \\\n",
       "0      Jan 22 2016  RNA             1   \n",
       "1      Jan 22 2016  RNA             1   \n",
       "\n",
       "                               source_name_ch1            organism_ch1  \\\n",
       "0  N2 worms under AL condition, on adult day 2  Caenorhabditis elegans   \n",
       "1  N2 worms under AL condition, on adult day 4  Caenorhabditis elegans   \n",
       "\n",
       "  characteristics_ch1      ...                 contact_email  \\\n",
       "0          strain: N2      ...        jackie.jdhan@gmail.com   \n",
       "1          strain: N2      ...        jackie.jdhan@gmail.com   \n",
       "\n",
       "       contact_laboratory                                 contact_department  \\\n",
       "0  Jing-Dong J. Han's Lab  CAS-MPG Partner Institute for Computational Bi...   \n",
       "1  Jing-Dong J. Han's Lab  CAS-MPG Partner Institute for Computational Bi...   \n",
       "\n",
       "                                   contact_institute   contact_address  \\\n",
       "0  Shanghai Institutes for Biological Sciences, C...  Yueyang Road 320   \n",
       "1  Shanghai Institutes for Biological Sciences, C...  Yueyang Road 320   \n",
       "\n",
       "  contact_city contact_zip/postal_code contact_country  \\\n",
       "0     Shanghai                  200031           China   \n",
       "1     Shanghai                  200031           China   \n",
       "\n",
       "                                  supplementary_file data_row_count  \n",
       "0  ftp://ftp.ncbi.nlm.nih.gov/pub/geo/DATA/supple...          22625  \n",
       "1  ftp://ftp.ncbi.nlm.nih.gov/pub/geo/DATA/supple...          22625  \n",
       "\n",
       "[2 rows x 36 columns]"
      ]
     },
     "execution_count": 6,
     "metadata": {},
     "output_type": "execute_result"
    }
   ],
   "source": [
    "samples.head(2)"
   ]
  },
  {
   "cell_type": "code",
   "execution_count": 7,
   "metadata": {
    "collapsed": false
   },
   "outputs": [
    {
     "data": {
      "text/plain": [
       "(339375, 3)"
      ]
     },
     "execution_count": 7,
     "metadata": {},
     "output_type": "execute_result"
    }
   ],
   "source": [
    "exp.shape"
   ]
  },
  {
   "cell_type": "code",
   "execution_count": 8,
   "metadata": {
    "collapsed": false
   },
   "outputs": [
    {
     "data": {
      "text/html": [
       "<div>\n",
       "<table border=\"1\" class=\"dataframe\">\n",
       "  <thead>\n",
       "    <tr style=\"text-align: right;\">\n",
       "      <th></th>\n",
       "      <th>probe_id</th>\n",
       "      <th>geo_id</th>\n",
       "      <th>log2_exp</th>\n",
       "    </tr>\n",
       "  </thead>\n",
       "  <tbody>\n",
       "    <tr>\n",
       "      <th>0</th>\n",
       "      <td>171720_x_at</td>\n",
       "      <td>GSM2044469</td>\n",
       "      <td>8.717144</td>\n",
       "    </tr>\n",
       "    <tr>\n",
       "      <th>1</th>\n",
       "      <td>171721_x_at</td>\n",
       "      <td>GSM2044469</td>\n",
       "      <td>11.016367</td>\n",
       "    </tr>\n",
       "    <tr>\n",
       "      <th>2</th>\n",
       "      <td>171722_x_at</td>\n",
       "      <td>GSM2044469</td>\n",
       "      <td>11.863110</td>\n",
       "    </tr>\n",
       "    <tr>\n",
       "      <th>3</th>\n",
       "      <td>171723_x_at</td>\n",
       "      <td>GSM2044469</td>\n",
       "      <td>14.501900</td>\n",
       "    </tr>\n",
       "    <tr>\n",
       "      <th>4</th>\n",
       "      <td>171724_x_at</td>\n",
       "      <td>GSM2044469</td>\n",
       "      <td>10.306531</td>\n",
       "    </tr>\n",
       "  </tbody>\n",
       "</table>\n",
       "</div>"
      ],
      "text/plain": [
       "      probe_id      geo_id   log2_exp\n",
       "0  171720_x_at  GSM2044469   8.717144\n",
       "1  171721_x_at  GSM2044469  11.016367\n",
       "2  171722_x_at  GSM2044469  11.863110\n",
       "3  171723_x_at  GSM2044469  14.501900\n",
       "4  171724_x_at  GSM2044469  10.306531"
      ]
     },
     "execution_count": 8,
     "metadata": {},
     "output_type": "execute_result"
    }
   ],
   "source": [
    "exp.head()"
   ]
  },
  {
   "cell_type": "code",
   "execution_count": 9,
   "metadata": {
    "collapsed": false
   },
   "outputs": [
    {
     "data": {
      "text/plain": [
       "22625    15\n",
       "dtype: int64"
      ]
     },
     "execution_count": 9,
     "metadata": {},
     "output_type": "execute_result"
    }
   ],
   "source": [
    "exp.groupby(\"geo_id\").size().value_counts()"
   ]
  },
  {
   "cell_type": "markdown",
   "metadata": {},
   "source": [
    "## Extract sample metadata\n",
    "\n",
    "Determine the diet and age of each sample. The experimenters did not seem to have multiple biological replicates for each condition."
   ]
  },
  {
   "cell_type": "code",
   "execution_count": 10,
   "metadata": {
    "collapsed": true
   },
   "outputs": [],
   "source": [
    "meta = (\n",
    "    samples[[\"title\", \"geo_accession\"]]\n",
    "        .assign(\n",
    "            diet = lambda df: df[\"title\"].str[3:5],\n",
    "        \n",
    "            days_old = lambda df:\n",
    "                pd.to_numeric(df[\"title\"].str.extract(r'AD(\\d+)', expand = False))\n",
    "        )\n",
    "        .rename(columns = {\"title\": \"sample\"})\n",
    ")"
   ]
  },
  {
   "cell_type": "code",
   "execution_count": 11,
   "metadata": {
    "collapsed": false
   },
   "outputs": [
    {
     "data": {
      "text/html": [
       "<div>\n",
       "<table border=\"1\" class=\"dataframe\">\n",
       "  <thead>\n",
       "    <tr style=\"text-align: right;\">\n",
       "      <th></th>\n",
       "      <th>sample</th>\n",
       "      <th>geo_accession</th>\n",
       "      <th>days_old</th>\n",
       "      <th>diet</th>\n",
       "    </tr>\n",
       "  </thead>\n",
       "  <tbody>\n",
       "    <tr>\n",
       "      <th>0</th>\n",
       "      <td>N2_AL_AD2</td>\n",
       "      <td>GSM2044469</td>\n",
       "      <td>2</td>\n",
       "      <td>AL</td>\n",
       "    </tr>\n",
       "    <tr>\n",
       "      <th>1</th>\n",
       "      <td>N2_AL_AD4</td>\n",
       "      <td>GSM2044470</td>\n",
       "      <td>4</td>\n",
       "      <td>AL</td>\n",
       "    </tr>\n",
       "    <tr>\n",
       "      <th>2</th>\n",
       "      <td>N2_CR_AD4</td>\n",
       "      <td>GSM2044471</td>\n",
       "      <td>4</td>\n",
       "      <td>CR</td>\n",
       "    </tr>\n",
       "    <tr>\n",
       "      <th>3</th>\n",
       "      <td>N2_IF_AD4</td>\n",
       "      <td>GSM2044472</td>\n",
       "      <td>4</td>\n",
       "      <td>IF</td>\n",
       "    </tr>\n",
       "    <tr>\n",
       "      <th>4</th>\n",
       "      <td>N2_AL_AD6</td>\n",
       "      <td>GSM2044473</td>\n",
       "      <td>6</td>\n",
       "      <td>AL</td>\n",
       "    </tr>\n",
       "    <tr>\n",
       "      <th>5</th>\n",
       "      <td>N2_CR_AD6</td>\n",
       "      <td>GSM2044474</td>\n",
       "      <td>6</td>\n",
       "      <td>CR</td>\n",
       "    </tr>\n",
       "    <tr>\n",
       "      <th>6</th>\n",
       "      <td>N2_IF_AD6</td>\n",
       "      <td>GSM2044475</td>\n",
       "      <td>6</td>\n",
       "      <td>IF</td>\n",
       "    </tr>\n",
       "    <tr>\n",
       "      <th>7</th>\n",
       "      <td>N2_AL_AD8</td>\n",
       "      <td>GSM2044476</td>\n",
       "      <td>8</td>\n",
       "      <td>AL</td>\n",
       "    </tr>\n",
       "    <tr>\n",
       "      <th>8</th>\n",
       "      <td>N2_CR_AD8</td>\n",
       "      <td>GSM2044477</td>\n",
       "      <td>8</td>\n",
       "      <td>CR</td>\n",
       "    </tr>\n",
       "    <tr>\n",
       "      <th>9</th>\n",
       "      <td>N2_IF_AD8</td>\n",
       "      <td>GSM2044478</td>\n",
       "      <td>8</td>\n",
       "      <td>IF</td>\n",
       "    </tr>\n",
       "    <tr>\n",
       "      <th>10</th>\n",
       "      <td>N2_AL_AD10</td>\n",
       "      <td>GSM2044479</td>\n",
       "      <td>10</td>\n",
       "      <td>AL</td>\n",
       "    </tr>\n",
       "    <tr>\n",
       "      <th>11</th>\n",
       "      <td>N2_CR_AD10</td>\n",
       "      <td>GSM2044480</td>\n",
       "      <td>10</td>\n",
       "      <td>CR</td>\n",
       "    </tr>\n",
       "    <tr>\n",
       "      <th>12</th>\n",
       "      <td>N2_IF_AD10</td>\n",
       "      <td>GSM2044481</td>\n",
       "      <td>10</td>\n",
       "      <td>IF</td>\n",
       "    </tr>\n",
       "    <tr>\n",
       "      <th>13</th>\n",
       "      <td>N2_IF_AD12</td>\n",
       "      <td>GSM2044482</td>\n",
       "      <td>12</td>\n",
       "      <td>IF</td>\n",
       "    </tr>\n",
       "    <tr>\n",
       "      <th>14</th>\n",
       "      <td>N2_IF_AD14</td>\n",
       "      <td>GSM2044483</td>\n",
       "      <td>14</td>\n",
       "      <td>IF</td>\n",
       "    </tr>\n",
       "  </tbody>\n",
       "</table>\n",
       "</div>"
      ],
      "text/plain": [
       "        sample geo_accession  days_old diet\n",
       "0    N2_AL_AD2    GSM2044469         2   AL\n",
       "1    N2_AL_AD4    GSM2044470         4   AL\n",
       "2    N2_CR_AD4    GSM2044471         4   CR\n",
       "3    N2_IF_AD4    GSM2044472         4   IF\n",
       "4    N2_AL_AD6    GSM2044473         6   AL\n",
       "5    N2_CR_AD6    GSM2044474         6   CR\n",
       "6    N2_IF_AD6    GSM2044475         6   IF\n",
       "7    N2_AL_AD8    GSM2044476         8   AL\n",
       "8    N2_CR_AD8    GSM2044477         8   CR\n",
       "9    N2_IF_AD8    GSM2044478         8   IF\n",
       "10  N2_AL_AD10    GSM2044479        10   AL\n",
       "11  N2_CR_AD10    GSM2044480        10   CR\n",
       "12  N2_IF_AD10    GSM2044481        10   IF\n",
       "13  N2_IF_AD12    GSM2044482        12   IF\n",
       "14  N2_IF_AD14    GSM2044483        14   IF"
      ]
     },
     "execution_count": 11,
     "metadata": {},
     "output_type": "execute_result"
    }
   ],
   "source": [
    "meta"
   ]
  },
  {
   "cell_type": "markdown",
   "metadata": {},
   "source": [
    "### Save metadata to file"
   ]
  },
  {
   "cell_type": "code",
   "execution_count": 12,
   "metadata": {
    "collapsed": true
   },
   "outputs": [],
   "source": [
    "meta.to_csv(\"sample_metadata.tsv\", sep = '\\t', index = False)"
   ]
  },
  {
   "cell_type": "markdown",
   "metadata": {},
   "source": [
    "## Add metadata to the expression values\n",
    "\n",
    "According to the information on GEO, the values given here are already log2 normalized expression intensities after running RMA normalization."
   ]
  },
  {
   "cell_type": "code",
   "execution_count": 13,
   "metadata": {
    "collapsed": true
   },
   "outputs": [],
   "source": [
    "exp = (\n",
    "    exp.merge(\n",
    "        meta, how = \"left\",\n",
    "        left_on = \"geo_id\", right_on = \"geo_accession\"\n",
    "    )\n",
    "    .drop(\"geo_accession\", axis = 1)\n",
    ")"
   ]
  },
  {
   "cell_type": "code",
   "execution_count": 14,
   "metadata": {
    "collapsed": false
   },
   "outputs": [
    {
     "data": {
      "text/plain": [
       "(339375, 6)"
      ]
     },
     "execution_count": 14,
     "metadata": {},
     "output_type": "execute_result"
    }
   ],
   "source": [
    "exp.shape"
   ]
  },
  {
   "cell_type": "code",
   "execution_count": 15,
   "metadata": {
    "collapsed": false
   },
   "outputs": [
    {
     "data": {
      "text/html": [
       "<div>\n",
       "<table border=\"1\" class=\"dataframe\">\n",
       "  <thead>\n",
       "    <tr style=\"text-align: right;\">\n",
       "      <th></th>\n",
       "      <th>probe_id</th>\n",
       "      <th>geo_id</th>\n",
       "      <th>log2_exp</th>\n",
       "      <th>sample</th>\n",
       "      <th>days_old</th>\n",
       "      <th>diet</th>\n",
       "    </tr>\n",
       "  </thead>\n",
       "  <tbody>\n",
       "    <tr>\n",
       "      <th>0</th>\n",
       "      <td>171720_x_at</td>\n",
       "      <td>GSM2044469</td>\n",
       "      <td>8.717144</td>\n",
       "      <td>N2_AL_AD2</td>\n",
       "      <td>2</td>\n",
       "      <td>AL</td>\n",
       "    </tr>\n",
       "    <tr>\n",
       "      <th>1</th>\n",
       "      <td>171721_x_at</td>\n",
       "      <td>GSM2044469</td>\n",
       "      <td>11.016367</td>\n",
       "      <td>N2_AL_AD2</td>\n",
       "      <td>2</td>\n",
       "      <td>AL</td>\n",
       "    </tr>\n",
       "    <tr>\n",
       "      <th>2</th>\n",
       "      <td>171722_x_at</td>\n",
       "      <td>GSM2044469</td>\n",
       "      <td>11.863110</td>\n",
       "      <td>N2_AL_AD2</td>\n",
       "      <td>2</td>\n",
       "      <td>AL</td>\n",
       "    </tr>\n",
       "    <tr>\n",
       "      <th>3</th>\n",
       "      <td>171723_x_at</td>\n",
       "      <td>GSM2044469</td>\n",
       "      <td>14.501900</td>\n",
       "      <td>N2_AL_AD2</td>\n",
       "      <td>2</td>\n",
       "      <td>AL</td>\n",
       "    </tr>\n",
       "    <tr>\n",
       "      <th>4</th>\n",
       "      <td>171724_x_at</td>\n",
       "      <td>GSM2044469</td>\n",
       "      <td>10.306531</td>\n",
       "      <td>N2_AL_AD2</td>\n",
       "      <td>2</td>\n",
       "      <td>AL</td>\n",
       "    </tr>\n",
       "  </tbody>\n",
       "</table>\n",
       "</div>"
      ],
      "text/plain": [
       "      probe_id      geo_id   log2_exp     sample  days_old diet\n",
       "0  171720_x_at  GSM2044469   8.717144  N2_AL_AD2         2   AL\n",
       "1  171721_x_at  GSM2044469  11.016367  N2_AL_AD2         2   AL\n",
       "2  171722_x_at  GSM2044469  11.863110  N2_AL_AD2         2   AL\n",
       "3  171723_x_at  GSM2044469  14.501900  N2_AL_AD2         2   AL\n",
       "4  171724_x_at  GSM2044469  10.306531  N2_AL_AD2         2   AL"
      ]
     },
     "execution_count": 15,
     "metadata": {},
     "output_type": "execute_result"
    }
   ],
   "source": [
    "exp.head()"
   ]
  },
  {
   "cell_type": "code",
   "execution_count": 16,
   "metadata": {
    "collapsed": false
   },
   "outputs": [
    {
     "data": {
      "text/plain": [
       "22625    15\n",
       "Name: probe_id, dtype: int64"
      ]
     },
     "execution_count": 16,
     "metadata": {},
     "output_type": "execute_result"
    }
   ],
   "source": [
    "exp.groupby(\"geo_id\")[\"probe_id\"].nunique().value_counts()"
   ]
  },
  {
   "cell_type": "markdown",
   "metadata": {},
   "source": [
    "Each of the 15 samples has a total of 22625 unique probes."
   ]
  },
  {
   "cell_type": "markdown",
   "metadata": {},
   "source": [
    "## Save to file"
   ]
  },
  {
   "cell_type": "code",
   "execution_count": 17,
   "metadata": {
    "collapsed": true
   },
   "outputs": [],
   "source": [
    "exp.to_csv(\"annot_GSE77110.tsv\", sep = '\\t', index = False)"
   ]
  }
 ],
 "metadata": {
  "kernelspec": {
   "display_name": "Python 3",
   "language": "python",
   "name": "python3"
  },
  "language_info": {
   "codemirror_mode": {
    "name": "ipython",
    "version": 3
   },
   "file_extension": ".py",
   "mimetype": "text/x-python",
   "name": "python",
   "nbconvert_exporter": "python",
   "pygments_lexer": "ipython3",
   "version": "3.4.3"
  }
 },
 "nbformat": 4,
 "nbformat_minor": 0
}
