{
 "cells": [
  {
   "cell_type": "markdown",
   "metadata": {},
   "source": [
    "# Structure expression data\n",
    "\n",
    "Tong Shu Li\n",
    "\n",
    "We explore the expression data in GSE77110."
   ]
  },
  {
   "cell_type": "code",
   "execution_count": 1,
   "metadata": {
    "collapsed": true
   },
   "outputs": [],
   "source": [
    "import pandas as pd\n",
    "import sys"
   ]
  },
  {
   "cell_type": "code",
   "execution_count": 2,
   "metadata": {
    "collapsed": true
   },
   "outputs": [],
   "source": [
    "sys.path.append(\"../../..\")"
   ]
  },
  {
   "cell_type": "code",
   "execution_count": 3,
   "metadata": {
    "collapsed": true
   },
   "outputs": [],
   "source": [
    "from src.stats import calc_percentile"
   ]
  },
  {
   "cell_type": "markdown",
   "metadata": {},
   "source": [
    "---"
   ]
  },
  {
   "cell_type": "markdown",
   "metadata": {},
   "source": [
    "## Read the table of expression values\n",
    "\n",
    "The first 64 lines and the last line of the GSE matrix file are metadata which need to be skipped."
   ]
  },
  {
   "cell_type": "code",
   "execution_count": 4,
   "metadata": {
    "collapsed": true
   },
   "outputs": [],
   "source": [
    "data = pd.read_csv(\"GSE77110_series_matrix.txt\", sep = '\\t', comment = '!')"
   ]
  },
  {
   "cell_type": "code",
   "execution_count": 5,
   "metadata": {
    "collapsed": false
   },
   "outputs": [
    {
     "data": {
      "text/plain": [
       "(22625, 16)"
      ]
     },
     "execution_count": 5,
     "metadata": {},
     "output_type": "execute_result"
    }
   ],
   "source": [
    "data.shape"
   ]
  },
  {
   "cell_type": "code",
   "execution_count": 6,
   "metadata": {
    "collapsed": false
   },
   "outputs": [
    {
     "data": {
      "text/html": [
       "<div>\n",
       "<table border=\"1\" class=\"dataframe\">\n",
       "  <thead>\n",
       "    <tr style=\"text-align: right;\">\n",
       "      <th></th>\n",
       "      <th>ID_REF</th>\n",
       "      <th>GSM2044469</th>\n",
       "      <th>GSM2044470</th>\n",
       "      <th>GSM2044471</th>\n",
       "      <th>GSM2044472</th>\n",
       "      <th>GSM2044473</th>\n",
       "      <th>GSM2044474</th>\n",
       "      <th>GSM2044475</th>\n",
       "      <th>GSM2044476</th>\n",
       "      <th>GSM2044477</th>\n",
       "      <th>GSM2044478</th>\n",
       "      <th>GSM2044479</th>\n",
       "      <th>GSM2044480</th>\n",
       "      <th>GSM2044481</th>\n",
       "      <th>GSM2044482</th>\n",
       "      <th>GSM2044483</th>\n",
       "    </tr>\n",
       "  </thead>\n",
       "  <tbody>\n",
       "    <tr>\n",
       "      <th>0</th>\n",
       "      <td>171720_x_at</td>\n",
       "      <td>8.717144</td>\n",
       "      <td>8.759925</td>\n",
       "      <td>8.810304</td>\n",
       "      <td>8.873956</td>\n",
       "      <td>8.713713</td>\n",
       "      <td>8.698330</td>\n",
       "      <td>8.542980</td>\n",
       "      <td>8.874033</td>\n",
       "      <td>9.085419</td>\n",
       "      <td>8.777119</td>\n",
       "      <td>9.186312</td>\n",
       "      <td>9.337125</td>\n",
       "      <td>9.161829</td>\n",
       "      <td>9.165603</td>\n",
       "      <td>8.992359</td>\n",
       "    </tr>\n",
       "    <tr>\n",
       "      <th>1</th>\n",
       "      <td>171721_x_at</td>\n",
       "      <td>11.016367</td>\n",
       "      <td>11.073513</td>\n",
       "      <td>11.116418</td>\n",
       "      <td>11.322379</td>\n",
       "      <td>10.970184</td>\n",
       "      <td>10.874218</td>\n",
       "      <td>10.704798</td>\n",
       "      <td>10.915562</td>\n",
       "      <td>10.947203</td>\n",
       "      <td>10.999002</td>\n",
       "      <td>10.948462</td>\n",
       "      <td>10.655318</td>\n",
       "      <td>10.873164</td>\n",
       "      <td>11.075366</td>\n",
       "      <td>11.214671</td>\n",
       "    </tr>\n",
       "    <tr>\n",
       "      <th>2</th>\n",
       "      <td>171722_x_at</td>\n",
       "      <td>11.863110</td>\n",
       "      <td>11.484897</td>\n",
       "      <td>11.436445</td>\n",
       "      <td>11.523513</td>\n",
       "      <td>11.631180</td>\n",
       "      <td>11.313651</td>\n",
       "      <td>11.397194</td>\n",
       "      <td>11.944652</td>\n",
       "      <td>11.712431</td>\n",
       "      <td>11.438866</td>\n",
       "      <td>11.922669</td>\n",
       "      <td>12.105895</td>\n",
       "      <td>11.782277</td>\n",
       "      <td>12.045137</td>\n",
       "      <td>12.217930</td>\n",
       "    </tr>\n",
       "    <tr>\n",
       "      <th>3</th>\n",
       "      <td>171723_x_at</td>\n",
       "      <td>14.501900</td>\n",
       "      <td>14.120010</td>\n",
       "      <td>14.095455</td>\n",
       "      <td>14.057207</td>\n",
       "      <td>14.032780</td>\n",
       "      <td>13.895247</td>\n",
       "      <td>14.078284</td>\n",
       "      <td>13.804691</td>\n",
       "      <td>13.707833</td>\n",
       "      <td>13.826551</td>\n",
       "      <td>13.495122</td>\n",
       "      <td>13.526148</td>\n",
       "      <td>14.026690</td>\n",
       "      <td>13.164302</td>\n",
       "      <td>13.281513</td>\n",
       "    </tr>\n",
       "    <tr>\n",
       "      <th>4</th>\n",
       "      <td>171724_x_at</td>\n",
       "      <td>10.306531</td>\n",
       "      <td>10.582328</td>\n",
       "      <td>10.456459</td>\n",
       "      <td>10.337638</td>\n",
       "      <td>10.012204</td>\n",
       "      <td>9.818688</td>\n",
       "      <td>10.002994</td>\n",
       "      <td>10.036317</td>\n",
       "      <td>10.079002</td>\n",
       "      <td>9.987183</td>\n",
       "      <td>10.817489</td>\n",
       "      <td>10.312446</td>\n",
       "      <td>10.961027</td>\n",
       "      <td>11.083455</td>\n",
       "      <td>10.897401</td>\n",
       "    </tr>\n",
       "  </tbody>\n",
       "</table>\n",
       "</div>"
      ],
      "text/plain": [
       "        ID_REF  GSM2044469  GSM2044470  GSM2044471  GSM2044472  GSM2044473  \\\n",
       "0  171720_x_at    8.717144    8.759925    8.810304    8.873956    8.713713   \n",
       "1  171721_x_at   11.016367   11.073513   11.116418   11.322379   10.970184   \n",
       "2  171722_x_at   11.863110   11.484897   11.436445   11.523513   11.631180   \n",
       "3  171723_x_at   14.501900   14.120010   14.095455   14.057207   14.032780   \n",
       "4  171724_x_at   10.306531   10.582328   10.456459   10.337638   10.012204   \n",
       "\n",
       "   GSM2044474  GSM2044475  GSM2044476  GSM2044477  GSM2044478  GSM2044479  \\\n",
       "0    8.698330    8.542980    8.874033    9.085419    8.777119    9.186312   \n",
       "1   10.874218   10.704798   10.915562   10.947203   10.999002   10.948462   \n",
       "2   11.313651   11.397194   11.944652   11.712431   11.438866   11.922669   \n",
       "3   13.895247   14.078284   13.804691   13.707833   13.826551   13.495122   \n",
       "4    9.818688   10.002994   10.036317   10.079002    9.987183   10.817489   \n",
       "\n",
       "   GSM2044480  GSM2044481  GSM2044482  GSM2044483  \n",
       "0    9.337125    9.161829    9.165603    8.992359  \n",
       "1   10.655318   10.873164   11.075366   11.214671  \n",
       "2   12.105895   11.782277   12.045137   12.217930  \n",
       "3   13.526148   14.026690   13.164302   13.281513  \n",
       "4   10.312446   10.961027   11.083455   10.897401  "
      ]
     },
     "execution_count": 6,
     "metadata": {},
     "output_type": "execute_result"
    }
   ],
   "source": [
    "data.head()"
   ]
  },
  {
   "cell_type": "code",
   "execution_count": 7,
   "metadata": {
    "collapsed": false
   },
   "outputs": [
    {
     "data": {
      "text/plain": [
       "ID_REF        0\n",
       "GSM2044469    0\n",
       "GSM2044470    0\n",
       "GSM2044471    0\n",
       "GSM2044472    0\n",
       "GSM2044473    0\n",
       "GSM2044474    0\n",
       "GSM2044475    0\n",
       "GSM2044476    0\n",
       "GSM2044477    0\n",
       "GSM2044478    0\n",
       "GSM2044479    0\n",
       "GSM2044480    0\n",
       "GSM2044481    0\n",
       "GSM2044482    0\n",
       "GSM2044483    0\n",
       "dtype: int64"
      ]
     },
     "execution_count": 7,
     "metadata": {},
     "output_type": "execute_result"
    }
   ],
   "source": [
    "data.isnull().sum()"
   ]
  },
  {
   "cell_type": "markdown",
   "metadata": {},
   "source": [
    "According to the information on GEO, the values given here are already log2 normalized expression intensities after running RMA normalization."
   ]
  },
  {
   "cell_type": "markdown",
   "metadata": {},
   "source": [
    "## Reshape the expression dataframe\n",
    "\n",
    "We need to restructure the data to long format."
   ]
  },
  {
   "cell_type": "code",
   "execution_count": 8,
   "metadata": {
    "collapsed": false,
    "scrolled": true
   },
   "outputs": [],
   "source": [
    "data = (pd.melt(data, id_vars = [\"ID_REF\"])\n",
    "    .rename(columns = {\"ID_REF\": \"probe_id\", \"variable\": \"geo_id\", \"value\": \"log2_exp\"})\n",
    ")"
   ]
  },
  {
   "cell_type": "code",
   "execution_count": 9,
   "metadata": {
    "collapsed": false
   },
   "outputs": [
    {
     "data": {
      "text/plain": [
       "(339375, 3)"
      ]
     },
     "execution_count": 9,
     "metadata": {},
     "output_type": "execute_result"
    }
   ],
   "source": [
    "data.shape"
   ]
  },
  {
   "cell_type": "code",
   "execution_count": 10,
   "metadata": {
    "collapsed": false
   },
   "outputs": [
    {
     "data": {
      "text/html": [
       "<div>\n",
       "<table border=\"1\" class=\"dataframe\">\n",
       "  <thead>\n",
       "    <tr style=\"text-align: right;\">\n",
       "      <th></th>\n",
       "      <th>probe_id</th>\n",
       "      <th>geo_id</th>\n",
       "      <th>log2_exp</th>\n",
       "    </tr>\n",
       "  </thead>\n",
       "  <tbody>\n",
       "    <tr>\n",
       "      <th>0</th>\n",
       "      <td>171720_x_at</td>\n",
       "      <td>GSM2044469</td>\n",
       "      <td>8.717144</td>\n",
       "    </tr>\n",
       "    <tr>\n",
       "      <th>1</th>\n",
       "      <td>171721_x_at</td>\n",
       "      <td>GSM2044469</td>\n",
       "      <td>11.016367</td>\n",
       "    </tr>\n",
       "    <tr>\n",
       "      <th>2</th>\n",
       "      <td>171722_x_at</td>\n",
       "      <td>GSM2044469</td>\n",
       "      <td>11.863110</td>\n",
       "    </tr>\n",
       "    <tr>\n",
       "      <th>3</th>\n",
       "      <td>171723_x_at</td>\n",
       "      <td>GSM2044469</td>\n",
       "      <td>14.501900</td>\n",
       "    </tr>\n",
       "    <tr>\n",
       "      <th>4</th>\n",
       "      <td>171724_x_at</td>\n",
       "      <td>GSM2044469</td>\n",
       "      <td>10.306531</td>\n",
       "    </tr>\n",
       "  </tbody>\n",
       "</table>\n",
       "</div>"
      ],
      "text/plain": [
       "      probe_id      geo_id   log2_exp\n",
       "0  171720_x_at  GSM2044469   8.717144\n",
       "1  171721_x_at  GSM2044469  11.016367\n",
       "2  171722_x_at  GSM2044469  11.863110\n",
       "3  171723_x_at  GSM2044469  14.501900\n",
       "4  171724_x_at  GSM2044469  10.306531"
      ]
     },
     "execution_count": 10,
     "metadata": {},
     "output_type": "execute_result"
    }
   ],
   "source": [
    "data.head()"
   ]
  },
  {
   "cell_type": "code",
   "execution_count": 11,
   "metadata": {
    "collapsed": true
   },
   "outputs": [],
   "source": [
    "data[\"probe_id\"] = data[\"probe_id\"].astype(\"category\")\n",
    "data[\"geo_id\"] = data[\"geo_id\"].astype(\"category\")"
   ]
  },
  {
   "cell_type": "markdown",
   "metadata": {},
   "source": [
    "## Add metadata"
   ]
  },
  {
   "cell_type": "code",
   "execution_count": 12,
   "metadata": {
    "collapsed": true
   },
   "outputs": [],
   "source": [
    "metadata = pd.read_csv(\"sample_metadata.tsv\", sep = '\\t')"
   ]
  },
  {
   "cell_type": "code",
   "execution_count": 13,
   "metadata": {
    "collapsed": false
   },
   "outputs": [
    {
     "data": {
      "text/html": [
       "<div>\n",
       "<table border=\"1\" class=\"dataframe\">\n",
       "  <thead>\n",
       "    <tr style=\"text-align: right;\">\n",
       "      <th></th>\n",
       "      <th>sample</th>\n",
       "      <th>geo_accession</th>\n",
       "      <th>diet</th>\n",
       "      <th>days_old</th>\n",
       "    </tr>\n",
       "  </thead>\n",
       "  <tbody>\n",
       "    <tr>\n",
       "      <th>0</th>\n",
       "      <td>N2_AL_AD2</td>\n",
       "      <td>GSM2044469</td>\n",
       "      <td>AL</td>\n",
       "      <td>2</td>\n",
       "    </tr>\n",
       "    <tr>\n",
       "      <th>1</th>\n",
       "      <td>N2_AL_AD4</td>\n",
       "      <td>GSM2044470</td>\n",
       "      <td>AL</td>\n",
       "      <td>4</td>\n",
       "    </tr>\n",
       "    <tr>\n",
       "      <th>2</th>\n",
       "      <td>N2_CR_AD4</td>\n",
       "      <td>GSM2044471</td>\n",
       "      <td>CR</td>\n",
       "      <td>4</td>\n",
       "    </tr>\n",
       "    <tr>\n",
       "      <th>3</th>\n",
       "      <td>N2_IF_AD4</td>\n",
       "      <td>GSM2044472</td>\n",
       "      <td>IF</td>\n",
       "      <td>4</td>\n",
       "    </tr>\n",
       "    <tr>\n",
       "      <th>4</th>\n",
       "      <td>N2_AL_AD6</td>\n",
       "      <td>GSM2044473</td>\n",
       "      <td>AL</td>\n",
       "      <td>6</td>\n",
       "    </tr>\n",
       "    <tr>\n",
       "      <th>5</th>\n",
       "      <td>N2_CR_AD6</td>\n",
       "      <td>GSM2044474</td>\n",
       "      <td>CR</td>\n",
       "      <td>6</td>\n",
       "    </tr>\n",
       "    <tr>\n",
       "      <th>6</th>\n",
       "      <td>N2_IF_AD6</td>\n",
       "      <td>GSM2044475</td>\n",
       "      <td>IF</td>\n",
       "      <td>6</td>\n",
       "    </tr>\n",
       "    <tr>\n",
       "      <th>7</th>\n",
       "      <td>N2_AL_AD8</td>\n",
       "      <td>GSM2044476</td>\n",
       "      <td>AL</td>\n",
       "      <td>8</td>\n",
       "    </tr>\n",
       "    <tr>\n",
       "      <th>8</th>\n",
       "      <td>N2_CR_AD8</td>\n",
       "      <td>GSM2044477</td>\n",
       "      <td>CR</td>\n",
       "      <td>8</td>\n",
       "    </tr>\n",
       "    <tr>\n",
       "      <th>9</th>\n",
       "      <td>N2_IF_AD8</td>\n",
       "      <td>GSM2044478</td>\n",
       "      <td>IF</td>\n",
       "      <td>8</td>\n",
       "    </tr>\n",
       "    <tr>\n",
       "      <th>10</th>\n",
       "      <td>N2_AL_AD10</td>\n",
       "      <td>GSM2044479</td>\n",
       "      <td>AL</td>\n",
       "      <td>10</td>\n",
       "    </tr>\n",
       "    <tr>\n",
       "      <th>11</th>\n",
       "      <td>N2_CR_AD10</td>\n",
       "      <td>GSM2044480</td>\n",
       "      <td>CR</td>\n",
       "      <td>10</td>\n",
       "    </tr>\n",
       "    <tr>\n",
       "      <th>12</th>\n",
       "      <td>N2_IF_AD10</td>\n",
       "      <td>GSM2044481</td>\n",
       "      <td>IF</td>\n",
       "      <td>10</td>\n",
       "    </tr>\n",
       "    <tr>\n",
       "      <th>13</th>\n",
       "      <td>N2_IF_AD12</td>\n",
       "      <td>GSM2044482</td>\n",
       "      <td>IF</td>\n",
       "      <td>12</td>\n",
       "    </tr>\n",
       "    <tr>\n",
       "      <th>14</th>\n",
       "      <td>N2_IF_AD14</td>\n",
       "      <td>GSM2044483</td>\n",
       "      <td>IF</td>\n",
       "      <td>14</td>\n",
       "    </tr>\n",
       "  </tbody>\n",
       "</table>\n",
       "</div>"
      ],
      "text/plain": [
       "        sample geo_accession diet  days_old\n",
       "0    N2_AL_AD2    GSM2044469   AL         2\n",
       "1    N2_AL_AD4    GSM2044470   AL         4\n",
       "2    N2_CR_AD4    GSM2044471   CR         4\n",
       "3    N2_IF_AD4    GSM2044472   IF         4\n",
       "4    N2_AL_AD6    GSM2044473   AL         6\n",
       "5    N2_CR_AD6    GSM2044474   CR         6\n",
       "6    N2_IF_AD6    GSM2044475   IF         6\n",
       "7    N2_AL_AD8    GSM2044476   AL         8\n",
       "8    N2_CR_AD8    GSM2044477   CR         8\n",
       "9    N2_IF_AD8    GSM2044478   IF         8\n",
       "10  N2_AL_AD10    GSM2044479   AL        10\n",
       "11  N2_CR_AD10    GSM2044480   CR        10\n",
       "12  N2_IF_AD10    GSM2044481   IF        10\n",
       "13  N2_IF_AD12    GSM2044482   IF        12\n",
       "14  N2_IF_AD14    GSM2044483   IF        14"
      ]
     },
     "execution_count": 13,
     "metadata": {},
     "output_type": "execute_result"
    }
   ],
   "source": [
    "metadata"
   ]
  },
  {
   "cell_type": "markdown",
   "metadata": {},
   "source": [
    "### Check that the GSM numbers match"
   ]
  },
  {
   "cell_type": "code",
   "execution_count": 14,
   "metadata": {
    "collapsed": false
   },
   "outputs": [
    {
     "data": {
      "text/plain": [
       "True"
      ]
     },
     "execution_count": 14,
     "metadata": {},
     "output_type": "execute_result"
    }
   ],
   "source": [
    "set(data[\"geo_id\"]) == set(metadata[\"geo_accession\"])"
   ]
  },
  {
   "cell_type": "markdown",
   "metadata": {},
   "source": [
    "## Merge in the metadata"
   ]
  },
  {
   "cell_type": "code",
   "execution_count": 15,
   "metadata": {
    "collapsed": true
   },
   "outputs": [],
   "source": [
    "data = pd.merge(data, metadata, how = \"inner\", left_on = \"geo_id\", right_on = \"geo_accession\")\n",
    "data = data.drop(\"geo_accession\", axis = 1)\n",
    "\n",
    "for col in [\"probe_id\", \"geo_id\", \"sample\", \"diet\"]:\n",
    "    data[col] = data[col].astype('category')"
   ]
  },
  {
   "cell_type": "code",
   "execution_count": 16,
   "metadata": {
    "collapsed": false
   },
   "outputs": [
    {
     "data": {
      "text/plain": [
       "(339375, 6)"
      ]
     },
     "execution_count": 16,
     "metadata": {},
     "output_type": "execute_result"
    }
   ],
   "source": [
    "data.shape"
   ]
  },
  {
   "cell_type": "code",
   "execution_count": 17,
   "metadata": {
    "collapsed": false
   },
   "outputs": [
    {
     "data": {
      "text/html": [
       "<div>\n",
       "<table border=\"1\" class=\"dataframe\">\n",
       "  <thead>\n",
       "    <tr style=\"text-align: right;\">\n",
       "      <th></th>\n",
       "      <th>probe_id</th>\n",
       "      <th>geo_id</th>\n",
       "      <th>log2_exp</th>\n",
       "      <th>sample</th>\n",
       "      <th>diet</th>\n",
       "      <th>days_old</th>\n",
       "    </tr>\n",
       "  </thead>\n",
       "  <tbody>\n",
       "    <tr>\n",
       "      <th>0</th>\n",
       "      <td>171720_x_at</td>\n",
       "      <td>GSM2044469</td>\n",
       "      <td>8.717144</td>\n",
       "      <td>N2_AL_AD2</td>\n",
       "      <td>AL</td>\n",
       "      <td>2</td>\n",
       "    </tr>\n",
       "    <tr>\n",
       "      <th>1</th>\n",
       "      <td>171721_x_at</td>\n",
       "      <td>GSM2044469</td>\n",
       "      <td>11.016367</td>\n",
       "      <td>N2_AL_AD2</td>\n",
       "      <td>AL</td>\n",
       "      <td>2</td>\n",
       "    </tr>\n",
       "    <tr>\n",
       "      <th>2</th>\n",
       "      <td>171722_x_at</td>\n",
       "      <td>GSM2044469</td>\n",
       "      <td>11.863110</td>\n",
       "      <td>N2_AL_AD2</td>\n",
       "      <td>AL</td>\n",
       "      <td>2</td>\n",
       "    </tr>\n",
       "    <tr>\n",
       "      <th>3</th>\n",
       "      <td>171723_x_at</td>\n",
       "      <td>GSM2044469</td>\n",
       "      <td>14.501900</td>\n",
       "      <td>N2_AL_AD2</td>\n",
       "      <td>AL</td>\n",
       "      <td>2</td>\n",
       "    </tr>\n",
       "    <tr>\n",
       "      <th>4</th>\n",
       "      <td>171724_x_at</td>\n",
       "      <td>GSM2044469</td>\n",
       "      <td>10.306531</td>\n",
       "      <td>N2_AL_AD2</td>\n",
       "      <td>AL</td>\n",
       "      <td>2</td>\n",
       "    </tr>\n",
       "  </tbody>\n",
       "</table>\n",
       "</div>"
      ],
      "text/plain": [
       "      probe_id      geo_id   log2_exp     sample diet  days_old\n",
       "0  171720_x_at  GSM2044469   8.717144  N2_AL_AD2   AL         2\n",
       "1  171721_x_at  GSM2044469  11.016367  N2_AL_AD2   AL         2\n",
       "2  171722_x_at  GSM2044469  11.863110  N2_AL_AD2   AL         2\n",
       "3  171723_x_at  GSM2044469  14.501900  N2_AL_AD2   AL         2\n",
       "4  171724_x_at  GSM2044469  10.306531  N2_AL_AD2   AL         2"
      ]
     },
     "execution_count": 17,
     "metadata": {},
     "output_type": "execute_result"
    }
   ],
   "source": [
    "data.head()"
   ]
  },
  {
   "cell_type": "markdown",
   "metadata": {},
   "source": [
    "## Read the probe id mapping file"
   ]
  },
  {
   "cell_type": "code",
   "execution_count": 18,
   "metadata": {
    "collapsed": true
   },
   "outputs": [],
   "source": [
    "mapping = pd.read_csv(\"GPL200_id_mapping.tsv\", sep = '\\t')"
   ]
  },
  {
   "cell_type": "code",
   "execution_count": 19,
   "metadata": {
    "collapsed": false
   },
   "outputs": [
    {
     "data": {
      "text/plain": [
       "(22625, 5)"
      ]
     },
     "execution_count": 19,
     "metadata": {},
     "output_type": "execute_result"
    }
   ],
   "source": [
    "mapping.shape"
   ]
  },
  {
   "cell_type": "code",
   "execution_count": 20,
   "metadata": {
    "collapsed": false
   },
   "outputs": [
    {
     "data": {
      "text/html": [
       "<div>\n",
       "<table border=\"1\" class=\"dataframe\">\n",
       "  <thead>\n",
       "    <tr style=\"text-align: right;\">\n",
       "      <th></th>\n",
       "      <th>probe_id</th>\n",
       "      <th>entrez_id</th>\n",
       "      <th>wormbase_id</th>\n",
       "      <th>ensembl_id</th>\n",
       "      <th>other_id</th>\n",
       "    </tr>\n",
       "  </thead>\n",
       "  <tbody>\n",
       "    <tr>\n",
       "      <th>0</th>\n",
       "      <td>171720_x_at</td>\n",
       "      <td>174997</td>\n",
       "      <td>NaN</td>\n",
       "      <td>WBGene00013011</td>\n",
       "      <td>AV179929</td>\n",
       "    </tr>\n",
       "    <tr>\n",
       "      <th>1</th>\n",
       "      <td>171721_x_at</td>\n",
       "      <td>172609</td>\n",
       "      <td>NaN</td>\n",
       "      <td>WBGene00011344</td>\n",
       "      <td>6767</td>\n",
       "    </tr>\n",
       "    <tr>\n",
       "      <th>2</th>\n",
       "      <td>171722_x_at</td>\n",
       "      <td>176907</td>\n",
       "      <td>NaN</td>\n",
       "      <td>WBGene00018934</td>\n",
       "      <td>AV189310</td>\n",
       "    </tr>\n",
       "    <tr>\n",
       "      <th>3</th>\n",
       "      <td>171723_x_at</td>\n",
       "      <td>180646</td>\n",
       "      <td>CE26817</td>\n",
       "      <td>WBGene00006928</td>\n",
       "      <td>CEC7564</td>\n",
       "    </tr>\n",
       "    <tr>\n",
       "      <th>4</th>\n",
       "      <td>171724_x_at</td>\n",
       "      <td>172353</td>\n",
       "      <td>CE11778</td>\n",
       "      <td>WBGene00000386</td>\n",
       "      <td>AV178012</td>\n",
       "    </tr>\n",
       "  </tbody>\n",
       "</table>\n",
       "</div>"
      ],
      "text/plain": [
       "      probe_id entrez_id wormbase_id      ensembl_id  other_id\n",
       "0  171720_x_at    174997         NaN  WBGene00013011  AV179929\n",
       "1  171721_x_at    172609         NaN  WBGene00011344      6767\n",
       "2  171722_x_at    176907         NaN  WBGene00018934  AV189310\n",
       "3  171723_x_at    180646     CE26817  WBGene00006928   CEC7564\n",
       "4  171724_x_at    172353     CE11778  WBGene00000386  AV178012"
      ]
     },
     "execution_count": 20,
     "metadata": {},
     "output_type": "execute_result"
    }
   ],
   "source": [
    "mapping.head()"
   ]
  },
  {
   "cell_type": "markdown",
   "metadata": {},
   "source": [
    "## Annotate genes in the data"
   ]
  },
  {
   "cell_type": "code",
   "execution_count": 21,
   "metadata": {
    "collapsed": true
   },
   "outputs": [],
   "source": [
    "data = pd.merge(data, mapping, how = \"left\", on = \"probe_id\")"
   ]
  },
  {
   "cell_type": "code",
   "execution_count": 22,
   "metadata": {
    "collapsed": false
   },
   "outputs": [
    {
     "data": {
      "text/plain": [
       "(339375, 10)"
      ]
     },
     "execution_count": 22,
     "metadata": {},
     "output_type": "execute_result"
    }
   ],
   "source": [
    "data.shape"
   ]
  },
  {
   "cell_type": "code",
   "execution_count": 23,
   "metadata": {
    "collapsed": false
   },
   "outputs": [
    {
     "data": {
      "text/html": [
       "<div>\n",
       "<table border=\"1\" class=\"dataframe\">\n",
       "  <thead>\n",
       "    <tr style=\"text-align: right;\">\n",
       "      <th></th>\n",
       "      <th>probe_id</th>\n",
       "      <th>geo_id</th>\n",
       "      <th>log2_exp</th>\n",
       "      <th>sample</th>\n",
       "      <th>diet</th>\n",
       "      <th>days_old</th>\n",
       "      <th>entrez_id</th>\n",
       "      <th>wormbase_id</th>\n",
       "      <th>ensembl_id</th>\n",
       "      <th>other_id</th>\n",
       "    </tr>\n",
       "  </thead>\n",
       "  <tbody>\n",
       "    <tr>\n",
       "      <th>0</th>\n",
       "      <td>171720_x_at</td>\n",
       "      <td>GSM2044469</td>\n",
       "      <td>8.717144</td>\n",
       "      <td>N2_AL_AD2</td>\n",
       "      <td>AL</td>\n",
       "      <td>2</td>\n",
       "      <td>174997</td>\n",
       "      <td>NaN</td>\n",
       "      <td>WBGene00013011</td>\n",
       "      <td>AV179929</td>\n",
       "    </tr>\n",
       "    <tr>\n",
       "      <th>1</th>\n",
       "      <td>171721_x_at</td>\n",
       "      <td>GSM2044469</td>\n",
       "      <td>11.016367</td>\n",
       "      <td>N2_AL_AD2</td>\n",
       "      <td>AL</td>\n",
       "      <td>2</td>\n",
       "      <td>172609</td>\n",
       "      <td>NaN</td>\n",
       "      <td>WBGene00011344</td>\n",
       "      <td>6767</td>\n",
       "    </tr>\n",
       "    <tr>\n",
       "      <th>2</th>\n",
       "      <td>171722_x_at</td>\n",
       "      <td>GSM2044469</td>\n",
       "      <td>11.863110</td>\n",
       "      <td>N2_AL_AD2</td>\n",
       "      <td>AL</td>\n",
       "      <td>2</td>\n",
       "      <td>176907</td>\n",
       "      <td>NaN</td>\n",
       "      <td>WBGene00018934</td>\n",
       "      <td>AV189310</td>\n",
       "    </tr>\n",
       "    <tr>\n",
       "      <th>3</th>\n",
       "      <td>171723_x_at</td>\n",
       "      <td>GSM2044469</td>\n",
       "      <td>14.501900</td>\n",
       "      <td>N2_AL_AD2</td>\n",
       "      <td>AL</td>\n",
       "      <td>2</td>\n",
       "      <td>180646</td>\n",
       "      <td>CE26817</td>\n",
       "      <td>WBGene00006928</td>\n",
       "      <td>CEC7564</td>\n",
       "    </tr>\n",
       "    <tr>\n",
       "      <th>4</th>\n",
       "      <td>171724_x_at</td>\n",
       "      <td>GSM2044469</td>\n",
       "      <td>10.306531</td>\n",
       "      <td>N2_AL_AD2</td>\n",
       "      <td>AL</td>\n",
       "      <td>2</td>\n",
       "      <td>172353</td>\n",
       "      <td>CE11778</td>\n",
       "      <td>WBGene00000386</td>\n",
       "      <td>AV178012</td>\n",
       "    </tr>\n",
       "  </tbody>\n",
       "</table>\n",
       "</div>"
      ],
      "text/plain": [
       "      probe_id      geo_id   log2_exp     sample diet  days_old entrez_id  \\\n",
       "0  171720_x_at  GSM2044469   8.717144  N2_AL_AD2   AL         2    174997   \n",
       "1  171721_x_at  GSM2044469  11.016367  N2_AL_AD2   AL         2    172609   \n",
       "2  171722_x_at  GSM2044469  11.863110  N2_AL_AD2   AL         2    176907   \n",
       "3  171723_x_at  GSM2044469  14.501900  N2_AL_AD2   AL         2    180646   \n",
       "4  171724_x_at  GSM2044469  10.306531  N2_AL_AD2   AL         2    172353   \n",
       "\n",
       "  wormbase_id      ensembl_id  other_id  \n",
       "0         NaN  WBGene00013011  AV179929  \n",
       "1         NaN  WBGene00011344      6767  \n",
       "2         NaN  WBGene00018934  AV189310  \n",
       "3     CE26817  WBGene00006928   CEC7564  \n",
       "4     CE11778  WBGene00000386  AV178012  "
      ]
     },
     "execution_count": 23,
     "metadata": {},
     "output_type": "execute_result"
    }
   ],
   "source": [
    "data.head()"
   ]
  },
  {
   "cell_type": "markdown",
   "metadata": {},
   "source": [
    "## Calculate log fold expression"
   ]
  },
  {
   "cell_type": "code",
   "execution_count": 24,
   "metadata": {
    "collapsed": true
   },
   "outputs": [],
   "source": [
    "ref = data.query(\"diet == 'AL' & days_old == 2\")[[\"probe_id\", \"log2_exp\"]]\n",
    "ref = ref.rename(columns = {\"log2_exp\": \"ref_log2_exp\"})"
   ]
  },
  {
   "cell_type": "code",
   "execution_count": 25,
   "metadata": {
    "collapsed": true
   },
   "outputs": [],
   "source": [
    "ref[\"exp_percentile\"] = calc_percentile(ref[\"ref_log2_exp\"])"
   ]
  },
  {
   "cell_type": "code",
   "execution_count": 26,
   "metadata": {
    "collapsed": false
   },
   "outputs": [
    {
     "data": {
      "text/html": [
       "<div>\n",
       "<table border=\"1\" class=\"dataframe\">\n",
       "  <thead>\n",
       "    <tr style=\"text-align: right;\">\n",
       "      <th></th>\n",
       "      <th>probe_id</th>\n",
       "      <th>ref_log2_exp</th>\n",
       "      <th>exp_percentile</th>\n",
       "    </tr>\n",
       "  </thead>\n",
       "  <tbody>\n",
       "    <tr>\n",
       "      <th>0</th>\n",
       "      <td>171720_x_at</td>\n",
       "      <td>8.717144</td>\n",
       "      <td>70.514917</td>\n",
       "    </tr>\n",
       "    <tr>\n",
       "      <th>1</th>\n",
       "      <td>171721_x_at</td>\n",
       "      <td>11.016367</td>\n",
       "      <td>91.973481</td>\n",
       "    </tr>\n",
       "    <tr>\n",
       "      <th>2</th>\n",
       "      <td>171722_x_at</td>\n",
       "      <td>11.863110</td>\n",
       "      <td>96.296133</td>\n",
       "    </tr>\n",
       "    <tr>\n",
       "      <th>3</th>\n",
       "      <td>171723_x_at</td>\n",
       "      <td>14.501900</td>\n",
       "      <td>99.986740</td>\n",
       "    </tr>\n",
       "    <tr>\n",
       "      <th>4</th>\n",
       "      <td>171724_x_at</td>\n",
       "      <td>10.306531</td>\n",
       "      <td>86.205525</td>\n",
       "    </tr>\n",
       "  </tbody>\n",
       "</table>\n",
       "</div>"
      ],
      "text/plain": [
       "      probe_id  ref_log2_exp  exp_percentile\n",
       "0  171720_x_at      8.717144       70.514917\n",
       "1  171721_x_at     11.016367       91.973481\n",
       "2  171722_x_at     11.863110       96.296133\n",
       "3  171723_x_at     14.501900       99.986740\n",
       "4  171724_x_at     10.306531       86.205525"
      ]
     },
     "execution_count": 26,
     "metadata": {},
     "output_type": "execute_result"
    }
   ],
   "source": [
    "ref.head()"
   ]
  },
  {
   "cell_type": "code",
   "execution_count": 27,
   "metadata": {
    "collapsed": true
   },
   "outputs": [],
   "source": [
    "data = pd.merge(data, ref, how = \"left\", on = \"probe_id\")"
   ]
  },
  {
   "cell_type": "code",
   "execution_count": 28,
   "metadata": {
    "collapsed": true
   },
   "outputs": [],
   "source": [
    "data[\"lfe\"] = data[\"log2_exp\"] - data[\"ref_log2_exp\"]"
   ]
  },
  {
   "cell_type": "code",
   "execution_count": 29,
   "metadata": {
    "collapsed": false
   },
   "outputs": [
    {
     "data": {
      "text/html": [
       "<div>\n",
       "<table border=\"1\" class=\"dataframe\">\n",
       "  <thead>\n",
       "    <tr style=\"text-align: right;\">\n",
       "      <th></th>\n",
       "      <th>probe_id</th>\n",
       "      <th>geo_id</th>\n",
       "      <th>log2_exp</th>\n",
       "      <th>sample</th>\n",
       "      <th>diet</th>\n",
       "      <th>days_old</th>\n",
       "      <th>entrez_id</th>\n",
       "      <th>wormbase_id</th>\n",
       "      <th>ensembl_id</th>\n",
       "      <th>other_id</th>\n",
       "      <th>ref_log2_exp</th>\n",
       "      <th>exp_percentile</th>\n",
       "      <th>lfe</th>\n",
       "    </tr>\n",
       "  </thead>\n",
       "  <tbody>\n",
       "    <tr>\n",
       "      <th>0</th>\n",
       "      <td>171720_x_at</td>\n",
       "      <td>GSM2044469</td>\n",
       "      <td>8.717144</td>\n",
       "      <td>N2_AL_AD2</td>\n",
       "      <td>AL</td>\n",
       "      <td>2</td>\n",
       "      <td>174997</td>\n",
       "      <td>NaN</td>\n",
       "      <td>WBGene00013011</td>\n",
       "      <td>AV179929</td>\n",
       "      <td>8.717144</td>\n",
       "      <td>70.514917</td>\n",
       "      <td>0.0</td>\n",
       "    </tr>\n",
       "    <tr>\n",
       "      <th>1</th>\n",
       "      <td>171721_x_at</td>\n",
       "      <td>GSM2044469</td>\n",
       "      <td>11.016367</td>\n",
       "      <td>N2_AL_AD2</td>\n",
       "      <td>AL</td>\n",
       "      <td>2</td>\n",
       "      <td>172609</td>\n",
       "      <td>NaN</td>\n",
       "      <td>WBGene00011344</td>\n",
       "      <td>6767</td>\n",
       "      <td>11.016367</td>\n",
       "      <td>91.973481</td>\n",
       "      <td>0.0</td>\n",
       "    </tr>\n",
       "    <tr>\n",
       "      <th>2</th>\n",
       "      <td>171722_x_at</td>\n",
       "      <td>GSM2044469</td>\n",
       "      <td>11.863110</td>\n",
       "      <td>N2_AL_AD2</td>\n",
       "      <td>AL</td>\n",
       "      <td>2</td>\n",
       "      <td>176907</td>\n",
       "      <td>NaN</td>\n",
       "      <td>WBGene00018934</td>\n",
       "      <td>AV189310</td>\n",
       "      <td>11.863110</td>\n",
       "      <td>96.296133</td>\n",
       "      <td>0.0</td>\n",
       "    </tr>\n",
       "    <tr>\n",
       "      <th>3</th>\n",
       "      <td>171723_x_at</td>\n",
       "      <td>GSM2044469</td>\n",
       "      <td>14.501900</td>\n",
       "      <td>N2_AL_AD2</td>\n",
       "      <td>AL</td>\n",
       "      <td>2</td>\n",
       "      <td>180646</td>\n",
       "      <td>CE26817</td>\n",
       "      <td>WBGene00006928</td>\n",
       "      <td>CEC7564</td>\n",
       "      <td>14.501900</td>\n",
       "      <td>99.986740</td>\n",
       "      <td>0.0</td>\n",
       "    </tr>\n",
       "    <tr>\n",
       "      <th>4</th>\n",
       "      <td>171724_x_at</td>\n",
       "      <td>GSM2044469</td>\n",
       "      <td>10.306531</td>\n",
       "      <td>N2_AL_AD2</td>\n",
       "      <td>AL</td>\n",
       "      <td>2</td>\n",
       "      <td>172353</td>\n",
       "      <td>CE11778</td>\n",
       "      <td>WBGene00000386</td>\n",
       "      <td>AV178012</td>\n",
       "      <td>10.306531</td>\n",
       "      <td>86.205525</td>\n",
       "      <td>0.0</td>\n",
       "    </tr>\n",
       "  </tbody>\n",
       "</table>\n",
       "</div>"
      ],
      "text/plain": [
       "      probe_id      geo_id   log2_exp     sample diet  days_old entrez_id  \\\n",
       "0  171720_x_at  GSM2044469   8.717144  N2_AL_AD2   AL         2    174997   \n",
       "1  171721_x_at  GSM2044469  11.016367  N2_AL_AD2   AL         2    172609   \n",
       "2  171722_x_at  GSM2044469  11.863110  N2_AL_AD2   AL         2    176907   \n",
       "3  171723_x_at  GSM2044469  14.501900  N2_AL_AD2   AL         2    180646   \n",
       "4  171724_x_at  GSM2044469  10.306531  N2_AL_AD2   AL         2    172353   \n",
       "\n",
       "  wormbase_id      ensembl_id  other_id  ref_log2_exp  exp_percentile  lfe  \n",
       "0         NaN  WBGene00013011  AV179929      8.717144       70.514917  0.0  \n",
       "1         NaN  WBGene00011344      6767     11.016367       91.973481  0.0  \n",
       "2         NaN  WBGene00018934  AV189310     11.863110       96.296133  0.0  \n",
       "3     CE26817  WBGene00006928   CEC7564     14.501900       99.986740  0.0  \n",
       "4     CE11778  WBGene00000386  AV178012     10.306531       86.205525  0.0  "
      ]
     },
     "execution_count": 29,
     "metadata": {},
     "output_type": "execute_result"
    }
   ],
   "source": [
    "data.head()"
   ]
  },
  {
   "cell_type": "code",
   "execution_count": 30,
   "metadata": {
    "collapsed": false
   },
   "outputs": [
    {
     "data": {
      "text/plain": [
       "(339375, 13)"
      ]
     },
     "execution_count": 30,
     "metadata": {},
     "output_type": "execute_result"
    }
   ],
   "source": [
    "data.shape"
   ]
  },
  {
   "cell_type": "markdown",
   "metadata": {},
   "source": [
    "## Save to file"
   ]
  },
  {
   "cell_type": "code",
   "execution_count": 31,
   "metadata": {
    "collapsed": true
   },
   "outputs": [],
   "source": [
    "data.to_csv(\"annot_GSE77110.tsv\", sep = '\\t', index = False)"
   ]
  }
 ],
 "metadata": {
  "kernelspec": {
   "display_name": "Python 3",
   "language": "python",
   "name": "python3"
  },
  "language_info": {
   "codemirror_mode": {
    "name": "ipython",
    "version": 3
   },
   "file_extension": ".py",
   "mimetype": "text/x-python",
   "name": "python",
   "nbconvert_exporter": "python",
   "pygments_lexer": "ipython3",
   "version": "3.4.2"
  }
 },
 "nbformat": 4,
 "nbformat_minor": 0
}
