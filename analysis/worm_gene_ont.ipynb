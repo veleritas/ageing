{
 "cells": [
  {
   "cell_type": "markdown",
   "metadata": {},
   "source": [
    "# Transcriptional drift of Gene Ontology groupings (full transcriptome)\n",
    "\n",
    "Tong Shu Li\n",
    "\n",
    "Initial exploration of transcriptional drift of genes grouped by Gene Ontology annotations."
   ]
  },
  {
   "cell_type": "code",
   "execution_count": 1,
   "metadata": {
    "collapsed": true
   },
   "outputs": [],
   "source": [
    "import numpy as np\n",
    "import pandas as pd\n",
    "import seaborn as sns\n",
    "import sys\n",
    "\n",
    "from collections import defaultdict\n",
    "from functools import partial"
   ]
  },
  {
   "cell_type": "code",
   "execution_count": 2,
   "metadata": {
    "collapsed": true
   },
   "outputs": [],
   "source": [
    "%matplotlib inline"
   ]
  },
  {
   "cell_type": "code",
   "execution_count": 3,
   "metadata": {
    "collapsed": true
   },
   "outputs": [],
   "source": [
    "sys.path.append(\"..\")"
   ]
  },
  {
   "cell_type": "code",
   "execution_count": 4,
   "metadata": {
    "collapsed": false
   },
   "outputs": [],
   "source": [
    "from src.plots import plot_drift\n",
    "from src.plots import plot_p_val_heatmap\n",
    "\n",
    "from src.stats import p_val_pairs\n",
    "\n",
    "from src.gene_ont import load_annotations\n",
    "from src.gene_ont import parse_go_defn\n",
    "from src.gene_ont import parse_go_links\n",
    "from src.gene_ont import group_genes\n",
    "from src.gene_ont import filter_go"
   ]
  },
  {
   "cell_type": "markdown",
   "metadata": {},
   "source": [
    "---"
   ]
  },
  {
   "cell_type": "markdown",
   "metadata": {},
   "source": [
    "## Read the data (full transcriptome)"
   ]
  },
  {
   "cell_type": "code",
   "execution_count": 5,
   "metadata": {
    "collapsed": true
   },
   "outputs": [],
   "source": [
    "data = pd.read_csv(\"../data/worms_mianserin/mean_cpm_values.tsv\", sep = '\\t')"
   ]
  },
  {
   "cell_type": "code",
   "execution_count": 6,
   "metadata": {
    "collapsed": false
   },
   "outputs": [
    {
     "data": {
      "text/plain": [
       "(230028, 12)"
      ]
     },
     "execution_count": 6,
     "metadata": {},
     "output_type": "execute_result"
    }
   ],
   "source": [
    "data.shape"
   ]
  },
  {
   "cell_type": "code",
   "execution_count": 7,
   "metadata": {
    "collapsed": false
   },
   "outputs": [
    {
     "data": {
      "text/html": [
       "<div>\n",
       "<table border=\"1\" class=\"dataframe\">\n",
       "  <thead>\n",
       "    <tr style=\"text-align: right;\">\n",
       "      <th></th>\n",
       "      <th>wormbaseid</th>\n",
       "      <th>symbol</th>\n",
       "      <th>seqname</th>\n",
       "      <th>cpm_val</th>\n",
       "      <th>sample</th>\n",
       "      <th>day_add_drug</th>\n",
       "      <th>day_harvest_rna</th>\n",
       "      <th>drug_conc_uM</th>\n",
       "      <th>drug_given</th>\n",
       "      <th>log_cpm</th>\n",
       "      <th>ref_log_cpm</th>\n",
       "      <th>drift</th>\n",
       "    </tr>\n",
       "  </thead>\n",
       "  <tbody>\n",
       "    <tr>\n",
       "      <th>0</th>\n",
       "      <td>WBGene00022521</td>\n",
       "      <td>ZC132.2</td>\n",
       "      <td>ZC132.2</td>\n",
       "      <td>0.000226</td>\n",
       "      <td>1</td>\n",
       "      <td>1</td>\n",
       "      <td>1</td>\n",
       "      <td>0</td>\n",
       "      <td>water</td>\n",
       "      <td>-8.393649</td>\n",
       "      <td>-8.393649</td>\n",
       "      <td>0.0</td>\n",
       "    </tr>\n",
       "    <tr>\n",
       "      <th>1</th>\n",
       "      <td>WBGene00019835</td>\n",
       "      <td>R02F2.6</td>\n",
       "      <td>R02F2.6</td>\n",
       "      <td>0.000228</td>\n",
       "      <td>1</td>\n",
       "      <td>1</td>\n",
       "      <td>1</td>\n",
       "      <td>0</td>\n",
       "      <td>water</td>\n",
       "      <td>-8.386604</td>\n",
       "      <td>-8.386604</td>\n",
       "      <td>0.0</td>\n",
       "    </tr>\n",
       "    <tr>\n",
       "      <th>2</th>\n",
       "      <td>WBGene00006011</td>\n",
       "      <td>srx-120</td>\n",
       "      <td>F49C5.2</td>\n",
       "      <td>0.000262</td>\n",
       "      <td>1</td>\n",
       "      <td>1</td>\n",
       "      <td>1</td>\n",
       "      <td>0</td>\n",
       "      <td>water</td>\n",
       "      <td>-8.247548</td>\n",
       "      <td>-8.247548</td>\n",
       "      <td>0.0</td>\n",
       "    </tr>\n",
       "    <tr>\n",
       "      <th>3</th>\n",
       "      <td>WBGene00022884</td>\n",
       "      <td>ZK1248.17</td>\n",
       "      <td>ZK1248.17</td>\n",
       "      <td>0.000275</td>\n",
       "      <td>1</td>\n",
       "      <td>1</td>\n",
       "      <td>1</td>\n",
       "      <td>0</td>\n",
       "      <td>water</td>\n",
       "      <td>-8.199831</td>\n",
       "      <td>-8.199831</td>\n",
       "      <td>0.0</td>\n",
       "    </tr>\n",
       "    <tr>\n",
       "      <th>4</th>\n",
       "      <td>WBGene00005435</td>\n",
       "      <td>srh-227</td>\n",
       "      <td>C35D6.2</td>\n",
       "      <td>0.000298</td>\n",
       "      <td>1</td>\n",
       "      <td>1</td>\n",
       "      <td>1</td>\n",
       "      <td>0</td>\n",
       "      <td>water</td>\n",
       "      <td>-8.116741</td>\n",
       "      <td>-8.116741</td>\n",
       "      <td>0.0</td>\n",
       "    </tr>\n",
       "  </tbody>\n",
       "</table>\n",
       "</div>"
      ],
      "text/plain": [
       "       wormbaseid     symbol    seqname   cpm_val  sample  day_add_drug  \\\n",
       "0  WBGene00022521    ZC132.2    ZC132.2  0.000226       1             1   \n",
       "1  WBGene00019835    R02F2.6    R02F2.6  0.000228       1             1   \n",
       "2  WBGene00006011    srx-120    F49C5.2  0.000262       1             1   \n",
       "3  WBGene00022884  ZK1248.17  ZK1248.17  0.000275       1             1   \n",
       "4  WBGene00005435    srh-227    C35D6.2  0.000298       1             1   \n",
       "\n",
       "   day_harvest_rna  drug_conc_uM drug_given   log_cpm  ref_log_cpm  drift  \n",
       "0                1             0      water -8.393649    -8.393649    0.0  \n",
       "1                1             0      water -8.386604    -8.386604    0.0  \n",
       "2                1             0      water -8.247548    -8.247548    0.0  \n",
       "3                1             0      water -8.199831    -8.199831    0.0  \n",
       "4                1             0      water -8.116741    -8.116741    0.0  "
      ]
     },
     "execution_count": 7,
     "metadata": {},
     "output_type": "execute_result"
    }
   ],
   "source": [
    "data.head()"
   ]
  },
  {
   "cell_type": "markdown",
   "metadata": {},
   "source": [
    "## Read the wormbase GO annotations"
   ]
  },
  {
   "cell_type": "code",
   "execution_count": 8,
   "metadata": {
    "collapsed": true
   },
   "outputs": [],
   "source": [
    "floc = \"../data/gene_ontology/gene_association.wb\"\n",
    "go_data = load_annotations(floc)"
   ]
  },
  {
   "cell_type": "code",
   "execution_count": 9,
   "metadata": {
    "collapsed": false
   },
   "outputs": [
    {
     "data": {
      "text/html": [
       "<div>\n",
       "<table border=\"1\" class=\"dataframe\">\n",
       "  <thead>\n",
       "    <tr style=\"text-align: right;\">\n",
       "      <th></th>\n",
       "      <th>database_id</th>\n",
       "      <th>db_obj_symbol</th>\n",
       "      <th>qualifier</th>\n",
       "      <th>go_id</th>\n",
       "      <th>db_ref</th>\n",
       "      <th>evidence</th>\n",
       "      <th>with_from</th>\n",
       "      <th>aspect</th>\n",
       "      <th>db_obj_name</th>\n",
       "      <th>db_obj_syn</th>\n",
       "      <th>db_obj_type</th>\n",
       "      <th>taxon</th>\n",
       "      <th>date</th>\n",
       "      <th>assigned_by</th>\n",
       "      <th>annot_ext</th>\n",
       "      <th>gene_prod_id</th>\n",
       "    </tr>\n",
       "  </thead>\n",
       "  <tbody>\n",
       "    <tr>\n",
       "      <th>0</th>\n",
       "      <td>WBGene00000001</td>\n",
       "      <td>aap-1</td>\n",
       "      <td>NaN</td>\n",
       "      <td>GO:0005623</td>\n",
       "      <td>WB_REF:WBPaper00005614|PMID:12393910</td>\n",
       "      <td>IDA</td>\n",
       "      <td>NaN</td>\n",
       "      <td>C</td>\n",
       "      <td>NaN</td>\n",
       "      <td>Y110A7A.10</td>\n",
       "      <td>gene</td>\n",
       "      <td>taxon:6239</td>\n",
       "      <td>20060302</td>\n",
       "      <td>WB</td>\n",
       "      <td>NaN</td>\n",
       "      <td>NaN</td>\n",
       "    </tr>\n",
       "    <tr>\n",
       "      <th>1</th>\n",
       "      <td>WBGene00000001</td>\n",
       "      <td>aap-1</td>\n",
       "      <td>NaN</td>\n",
       "      <td>GO:0005942</td>\n",
       "      <td>GO_REF:0000033</td>\n",
       "      <td>IBA</td>\n",
       "      <td>PANTHER:PTN000806614</td>\n",
       "      <td>C</td>\n",
       "      <td>NaN</td>\n",
       "      <td>Y110A7A.10</td>\n",
       "      <td>gene</td>\n",
       "      <td>taxon:6239</td>\n",
       "      <td>20150227</td>\n",
       "      <td>GO_Central</td>\n",
       "      <td>NaN</td>\n",
       "      <td>NaN</td>\n",
       "    </tr>\n",
       "    <tr>\n",
       "      <th>2</th>\n",
       "      <td>WBGene00000001</td>\n",
       "      <td>aap-1</td>\n",
       "      <td>NaN</td>\n",
       "      <td>GO:0005942</td>\n",
       "      <td>GO_REF:0000002</td>\n",
       "      <td>IEA</td>\n",
       "      <td>InterPro:IPR001720</td>\n",
       "      <td>C</td>\n",
       "      <td>NaN</td>\n",
       "      <td>Y110A7A.10</td>\n",
       "      <td>gene</td>\n",
       "      <td>taxon:6239</td>\n",
       "      <td>20150826</td>\n",
       "      <td>WB</td>\n",
       "      <td>NaN</td>\n",
       "      <td>NaN</td>\n",
       "    </tr>\n",
       "    <tr>\n",
       "      <th>3</th>\n",
       "      <td>WBGene00000001</td>\n",
       "      <td>aap-1</td>\n",
       "      <td>NaN</td>\n",
       "      <td>GO:0008286</td>\n",
       "      <td>WB_REF:WBPaper00005614|PMID:12393910</td>\n",
       "      <td>IMP</td>\n",
       "      <td>NaN</td>\n",
       "      <td>P</td>\n",
       "      <td>NaN</td>\n",
       "      <td>Y110A7A.10</td>\n",
       "      <td>gene</td>\n",
       "      <td>taxon:6239</td>\n",
       "      <td>20060302</td>\n",
       "      <td>WB</td>\n",
       "      <td>NaN</td>\n",
       "      <td>NaN</td>\n",
       "    </tr>\n",
       "    <tr>\n",
       "      <th>4</th>\n",
       "      <td>WBGene00000001</td>\n",
       "      <td>aap-1</td>\n",
       "      <td>NaN</td>\n",
       "      <td>GO:0008340</td>\n",
       "      <td>WB_REF:WBPaper00005614|PMID:12393910</td>\n",
       "      <td>IMP</td>\n",
       "      <td>NaN</td>\n",
       "      <td>P</td>\n",
       "      <td>NaN</td>\n",
       "      <td>Y110A7A.10</td>\n",
       "      <td>gene</td>\n",
       "      <td>taxon:6239</td>\n",
       "      <td>20060302</td>\n",
       "      <td>WB</td>\n",
       "      <td>NaN</td>\n",
       "      <td>NaN</td>\n",
       "    </tr>\n",
       "  </tbody>\n",
       "</table>\n",
       "</div>"
      ],
      "text/plain": [
       "      database_id db_obj_symbol qualifier       go_id  \\\n",
       "0  WBGene00000001         aap-1       NaN  GO:0005623   \n",
       "1  WBGene00000001         aap-1       NaN  GO:0005942   \n",
       "2  WBGene00000001         aap-1       NaN  GO:0005942   \n",
       "3  WBGene00000001         aap-1       NaN  GO:0008286   \n",
       "4  WBGene00000001         aap-1       NaN  GO:0008340   \n",
       "\n",
       "                                 db_ref evidence             with_from aspect  \\\n",
       "0  WB_REF:WBPaper00005614|PMID:12393910      IDA                   NaN      C   \n",
       "1                        GO_REF:0000033      IBA  PANTHER:PTN000806614      C   \n",
       "2                        GO_REF:0000002      IEA    InterPro:IPR001720      C   \n",
       "3  WB_REF:WBPaper00005614|PMID:12393910      IMP                   NaN      P   \n",
       "4  WB_REF:WBPaper00005614|PMID:12393910      IMP                   NaN      P   \n",
       "\n",
       "   db_obj_name  db_obj_syn db_obj_type       taxon      date assigned_by  \\\n",
       "0          NaN  Y110A7A.10        gene  taxon:6239  20060302          WB   \n",
       "1          NaN  Y110A7A.10        gene  taxon:6239  20150227  GO_Central   \n",
       "2          NaN  Y110A7A.10        gene  taxon:6239  20150826          WB   \n",
       "3          NaN  Y110A7A.10        gene  taxon:6239  20060302          WB   \n",
       "4          NaN  Y110A7A.10        gene  taxon:6239  20060302          WB   \n",
       "\n",
       "  annot_ext  gene_prod_id  \n",
       "0       NaN           NaN  \n",
       "1       NaN           NaN  \n",
       "2       NaN           NaN  \n",
       "3       NaN           NaN  \n",
       "4       NaN           NaN  "
      ]
     },
     "execution_count": 9,
     "metadata": {},
     "output_type": "execute_result"
    }
   ],
   "source": [
    "go_data.head()"
   ]
  },
  {
   "cell_type": "markdown",
   "metadata": {},
   "source": [
    "### GO term definitions"
   ]
  },
  {
   "cell_type": "code",
   "execution_count": 10,
   "metadata": {
    "collapsed": true
   },
   "outputs": [],
   "source": [
    "go_defn = parse_go_defn(\"../data/gene_ontology/go.obo\")"
   ]
  },
  {
   "cell_type": "code",
   "execution_count": 11,
   "metadata": {
    "collapsed": false
   },
   "outputs": [
    {
     "data": {
      "text/html": [
       "<div>\n",
       "<table border=\"1\" class=\"dataframe\">\n",
       "  <thead>\n",
       "    <tr style=\"text-align: right;\">\n",
       "      <th></th>\n",
       "      <th>go_id</th>\n",
       "      <th>go_name</th>\n",
       "      <th>namespace</th>\n",
       "      <th>obsolete</th>\n",
       "    </tr>\n",
       "  </thead>\n",
       "  <tbody>\n",
       "    <tr>\n",
       "      <th>0</th>\n",
       "      <td>GO:0000001</td>\n",
       "      <td>mitochondrion inheritance</td>\n",
       "      <td>biological_process</td>\n",
       "      <td>False</td>\n",
       "    </tr>\n",
       "    <tr>\n",
       "      <th>1</th>\n",
       "      <td>GO:0000002</td>\n",
       "      <td>mitochondrial genome maintenance</td>\n",
       "      <td>biological_process</td>\n",
       "      <td>False</td>\n",
       "    </tr>\n",
       "    <tr>\n",
       "      <th>2</th>\n",
       "      <td>GO:0000003</td>\n",
       "      <td>reproduction</td>\n",
       "      <td>biological_process</td>\n",
       "      <td>False</td>\n",
       "    </tr>\n",
       "    <tr>\n",
       "      <th>3</th>\n",
       "      <td>GO:0000005</td>\n",
       "      <td>obsolete ribosomal chaperone activity</td>\n",
       "      <td>molecular_function</td>\n",
       "      <td>True</td>\n",
       "    </tr>\n",
       "    <tr>\n",
       "      <th>4</th>\n",
       "      <td>GO:0000006</td>\n",
       "      <td>high-affinity zinc uptake transmembrane transp...</td>\n",
       "      <td>molecular_function</td>\n",
       "      <td>False</td>\n",
       "    </tr>\n",
       "  </tbody>\n",
       "</table>\n",
       "</div>"
      ],
      "text/plain": [
       "        go_id                                            go_name  \\\n",
       "0  GO:0000001                          mitochondrion inheritance   \n",
       "1  GO:0000002                   mitochondrial genome maintenance   \n",
       "2  GO:0000003                                       reproduction   \n",
       "3  GO:0000005              obsolete ribosomal chaperone activity   \n",
       "4  GO:0000006  high-affinity zinc uptake transmembrane transp...   \n",
       "\n",
       "            namespace obsolete  \n",
       "0  biological_process    False  \n",
       "1  biological_process    False  \n",
       "2  biological_process    False  \n",
       "3  molecular_function     True  \n",
       "4  molecular_function    False  "
      ]
     },
     "execution_count": 11,
     "metadata": {},
     "output_type": "execute_result"
    }
   ],
   "source": [
    "go_defn.head()"
   ]
  },
  {
   "cell_type": "code",
   "execution_count": 12,
   "metadata": {
    "collapsed": false
   },
   "outputs": [
    {
     "data": {
      "text/plain": [
       "5123"
      ]
     },
     "execution_count": 12,
     "metadata": {},
     "output_type": "execute_result"
    }
   ],
   "source": [
    "go_data[\"go_id\"].nunique()"
   ]
  },
  {
   "cell_type": "code",
   "execution_count": 13,
   "metadata": {
    "collapsed": false
   },
   "outputs": [
    {
     "data": {
      "text/plain": [
       "44471"
      ]
     },
     "execution_count": 13,
     "metadata": {},
     "output_type": "execute_result"
    }
   ],
   "source": [
    "go_defn[\"go_id\"].nunique()"
   ]
  },
  {
   "cell_type": "code",
   "execution_count": 14,
   "metadata": {
    "collapsed": false
   },
   "outputs": [
    {
     "data": {
      "text/plain": [
       "12524"
      ]
     },
     "execution_count": 14,
     "metadata": {},
     "output_type": "execute_result"
    }
   ],
   "source": [
    "go_data[\"database_id\"].nunique()"
   ]
  },
  {
   "cell_type": "code",
   "execution_count": 15,
   "metadata": {
    "collapsed": false
   },
   "outputs": [
    {
     "data": {
      "text/plain": [
       "11624"
      ]
     },
     "execution_count": 15,
     "metadata": {},
     "output_type": "execute_result"
    }
   ],
   "source": [
    "len(set(data[\"wormbaseid\"]) & set(go_data[\"database_id\"]))"
   ]
  },
  {
   "cell_type": "markdown",
   "metadata": {},
   "source": [
    "## Parse the GO hierarchy"
   ]
  },
  {
   "cell_type": "code",
   "execution_count": 16,
   "metadata": {
    "collapsed": true
   },
   "outputs": [],
   "source": [
    "fname = \"../data/gene_ontology/go.obo\"\n",
    "children = parse_go_links(fname)"
   ]
  },
  {
   "cell_type": "markdown",
   "metadata": {},
   "source": [
    "---"
   ]
  },
  {
   "cell_type": "markdown",
   "metadata": {},
   "source": [
    "## Genes annotated with each term"
   ]
  },
  {
   "cell_type": "code",
   "execution_count": 17,
   "metadata": {
    "collapsed": false
   },
   "outputs": [],
   "source": [
    "# save the gene names for each GO term\n",
    "annots = defaultdict(\n",
    "    set,\n",
    "    {\n",
    "        go_term: set(df[\"database_id\"])\n",
    "        for go_term, df in go_data.groupby(\"go_id\")\n",
    "    }\n",
    ")"
   ]
  },
  {
   "cell_type": "markdown",
   "metadata": {},
   "source": [
    "## Genes associated with each GO term (considering hierarchy)"
   ]
  },
  {
   "cell_type": "code",
   "execution_count": 18,
   "metadata": {
    "collapsed": true
   },
   "outputs": [],
   "source": [
    "go_groups = group_genes(children, annots, [\"is_a\", \"part_of\"])"
   ]
  },
  {
   "cell_type": "markdown",
   "metadata": {},
   "source": [
    "---\n",
    "\n",
    "# Hypothesis testing"
   ]
  },
  {
   "cell_type": "code",
   "execution_count": 19,
   "metadata": {
    "collapsed": false
   },
   "outputs": [],
   "source": [
    "info = pd.DataFrame(\n",
    "    [(go_term, len(genes)) for go_term, genes in go_groups.items()],\n",
    "    columns = [\"go_id\", \"num_genes\"]\n",
    ")\n",
    "\n",
    "info = pd.merge(info, go_defn, how = \"inner\", on = \"go_id\")"
   ]
  },
  {
   "cell_type": "code",
   "execution_count": 20,
   "metadata": {
    "collapsed": false,
    "scrolled": true
   },
   "outputs": [
    {
     "data": {
      "text/plain": [
       "(42514, 5)"
      ]
     },
     "execution_count": 20,
     "metadata": {},
     "output_type": "execute_result"
    }
   ],
   "source": [
    "info.shape"
   ]
  },
  {
   "cell_type": "code",
   "execution_count": 21,
   "metadata": {
    "collapsed": false
   },
   "outputs": [
    {
     "data": {
      "text/html": [
       "<div>\n",
       "<table border=\"1\" class=\"dataframe\">\n",
       "  <thead>\n",
       "    <tr style=\"text-align: right;\">\n",
       "      <th></th>\n",
       "      <th>go_id</th>\n",
       "      <th>num_genes</th>\n",
       "      <th>go_name</th>\n",
       "      <th>namespace</th>\n",
       "      <th>obsolete</th>\n",
       "    </tr>\n",
       "  </thead>\n",
       "  <tbody>\n",
       "    <tr>\n",
       "      <th>0</th>\n",
       "      <td>GO:0009306</td>\n",
       "      <td>27</td>\n",
       "      <td>protein secretion</td>\n",
       "      <td>biological_process</td>\n",
       "      <td>False</td>\n",
       "    </tr>\n",
       "    <tr>\n",
       "      <th>1</th>\n",
       "      <td>GO:0008870</td>\n",
       "      <td>0</td>\n",
       "      <td>galactoside O-acetyltransferase activity</td>\n",
       "      <td>molecular_function</td>\n",
       "      <td>False</td>\n",
       "    </tr>\n",
       "    <tr>\n",
       "      <th>2</th>\n",
       "      <td>GO:0043334</td>\n",
       "      <td>0</td>\n",
       "      <td>2-hexaprenyl-6-methoxy-1,4-benzoquinone methyl...</td>\n",
       "      <td>molecular_function</td>\n",
       "      <td>False</td>\n",
       "    </tr>\n",
       "    <tr>\n",
       "      <th>3</th>\n",
       "      <td>GO:0090263</td>\n",
       "      <td>0</td>\n",
       "      <td>positive regulation of canonical Wnt signaling...</td>\n",
       "      <td>biological_process</td>\n",
       "      <td>False</td>\n",
       "    </tr>\n",
       "    <tr>\n",
       "      <th>4</th>\n",
       "      <td>GO:0052199</td>\n",
       "      <td>0</td>\n",
       "      <td>negative regulation of catalytic activity in o...</td>\n",
       "      <td>biological_process</td>\n",
       "      <td>False</td>\n",
       "    </tr>\n",
       "  </tbody>\n",
       "</table>\n",
       "</div>"
      ],
      "text/plain": [
       "        go_id  num_genes                                            go_name  \\\n",
       "0  GO:0009306         27                                  protein secretion   \n",
       "1  GO:0008870          0           galactoside O-acetyltransferase activity   \n",
       "2  GO:0043334          0  2-hexaprenyl-6-methoxy-1,4-benzoquinone methyl...   \n",
       "3  GO:0090263          0  positive regulation of canonical Wnt signaling...   \n",
       "4  GO:0052199          0  negative regulation of catalytic activity in o...   \n",
       "\n",
       "            namespace obsolete  \n",
       "0  biological_process    False  \n",
       "1  molecular_function    False  \n",
       "2  molecular_function    False  \n",
       "3  biological_process    False  \n",
       "4  biological_process    False  "
      ]
     },
     "execution_count": 21,
     "metadata": {},
     "output_type": "execute_result"
    }
   ],
   "source": [
    "info.head()"
   ]
  },
  {
   "cell_type": "code",
   "execution_count": 22,
   "metadata": {
    "collapsed": false
   },
   "outputs": [
    {
     "data": {
      "text/plain": [
       "True"
      ]
     },
     "execution_count": 22,
     "metadata": {},
     "output_type": "execute_result"
    }
   ],
   "source": [
    "all(~info[\"obsolete\"])"
   ]
  },
  {
   "cell_type": "code",
   "execution_count": 23,
   "metadata": {
    "collapsed": false
   },
   "outputs": [
    {
     "data": {
      "text/plain": [
       "34472"
      ]
     },
     "execution_count": 23,
     "metadata": {},
     "output_type": "execute_result"
    }
   ],
   "source": [
    "(info[\"num_genes\"] == 0).sum()"
   ]
  },
  {
   "cell_type": "code",
   "execution_count": 24,
   "metadata": {
    "collapsed": true
   },
   "outputs": [],
   "source": [
    "info = info.query(\"num_genes > 0\")"
   ]
  },
  {
   "cell_type": "code",
   "execution_count": 25,
   "metadata": {
    "collapsed": true
   },
   "outputs": [],
   "source": [
    "good_genes = set(data[\"wormbaseid\"])\n",
    "\n",
    "info[\"num_in_data\"] = info[\"go_id\"].map(\n",
    "    lambda v: len(good_genes & go_groups[v])\n",
    ")\n",
    "\n",
    "info = info.sort_values(\"num_in_data\", ascending = False).reset_index(drop = True)\n",
    "info[\"frac_present\"] = info[\"num_in_data\"] / info[\"num_genes\"]"
   ]
  },
  {
   "cell_type": "code",
   "execution_count": 26,
   "metadata": {
    "collapsed": false
   },
   "outputs": [
    {
     "data": {
      "text/plain": [
       "(8042, 7)"
      ]
     },
     "execution_count": 26,
     "metadata": {},
     "output_type": "execute_result"
    }
   ],
   "source": [
    "info.shape"
   ]
  },
  {
   "cell_type": "code",
   "execution_count": 27,
   "metadata": {
    "collapsed": false
   },
   "outputs": [
    {
     "data": {
      "text/html": [
       "<div>\n",
       "<table border=\"1\" class=\"dataframe\">\n",
       "  <thead>\n",
       "    <tr style=\"text-align: right;\">\n",
       "      <th></th>\n",
       "      <th>go_id</th>\n",
       "      <th>num_genes</th>\n",
       "      <th>go_name</th>\n",
       "      <th>namespace</th>\n",
       "      <th>obsolete</th>\n",
       "      <th>num_in_data</th>\n",
       "      <th>frac_present</th>\n",
       "    </tr>\n",
       "  </thead>\n",
       "  <tbody>\n",
       "    <tr>\n",
       "      <th>0</th>\n",
       "      <td>GO:0008150</td>\n",
       "      <td>11336</td>\n",
       "      <td>biological_process</td>\n",
       "      <td>biological_process</td>\n",
       "      <td>False</td>\n",
       "      <td>10477</td>\n",
       "      <td>0.924224</td>\n",
       "    </tr>\n",
       "    <tr>\n",
       "      <th>1</th>\n",
       "      <td>GO:0003674</td>\n",
       "      <td>8944</td>\n",
       "      <td>molecular_function</td>\n",
       "      <td>molecular_function</td>\n",
       "      <td>False</td>\n",
       "      <td>8663</td>\n",
       "      <td>0.968582</td>\n",
       "    </tr>\n",
       "    <tr>\n",
       "      <th>2</th>\n",
       "      <td>GO:0044699</td>\n",
       "      <td>8576</td>\n",
       "      <td>single-organism process</td>\n",
       "      <td>biological_process</td>\n",
       "      <td>False</td>\n",
       "      <td>7984</td>\n",
       "      <td>0.930970</td>\n",
       "    </tr>\n",
       "    <tr>\n",
       "      <th>3</th>\n",
       "      <td>GO:0005575</td>\n",
       "      <td>7895</td>\n",
       "      <td>cellular_component</td>\n",
       "      <td>cellular_component</td>\n",
       "      <td>False</td>\n",
       "      <td>7617</td>\n",
       "      <td>0.964788</td>\n",
       "    </tr>\n",
       "    <tr>\n",
       "      <th>4</th>\n",
       "      <td>GO:0009987</td>\n",
       "      <td>7233</td>\n",
       "      <td>cellular process</td>\n",
       "      <td>biological_process</td>\n",
       "      <td>False</td>\n",
       "      <td>6870</td>\n",
       "      <td>0.949813</td>\n",
       "    </tr>\n",
       "  </tbody>\n",
       "</table>\n",
       "</div>"
      ],
      "text/plain": [
       "        go_id  num_genes                  go_name           namespace  \\\n",
       "0  GO:0008150      11336       biological_process  biological_process   \n",
       "1  GO:0003674       8944       molecular_function  molecular_function   \n",
       "2  GO:0044699       8576  single-organism process  biological_process   \n",
       "3  GO:0005575       7895       cellular_component  cellular_component   \n",
       "4  GO:0009987       7233         cellular process  biological_process   \n",
       "\n",
       "  obsolete  num_in_data  frac_present  \n",
       "0    False        10477      0.924224  \n",
       "1    False         8663      0.968582  \n",
       "2    False         7984      0.930970  \n",
       "3    False         7617      0.964788  \n",
       "4    False         6870      0.949813  "
      ]
     },
     "execution_count": 27,
     "metadata": {},
     "output_type": "execute_result"
    }
   ],
   "source": [
    "info.head()"
   ]
  },
  {
   "cell_type": "code",
   "execution_count": 28,
   "metadata": {
    "collapsed": false
   },
   "outputs": [
    {
     "data": {
      "text/plain": [
       "2689"
      ]
     },
     "execution_count": 28,
     "metadata": {},
     "output_type": "execute_result"
    }
   ],
   "source": [
    "(info[\"num_in_data\"] >= 10).sum()"
   ]
  },
  {
   "cell_type": "markdown",
   "metadata": {},
   "source": [
    "By considering the GO hierarchy, we now have 2689 GO terms with >= 10 genes in our dataset, instead of the original 897."
   ]
  },
  {
   "cell_type": "code",
   "execution_count": 29,
   "metadata": {
    "collapsed": true
   },
   "outputs": [],
   "source": [
    "info = info.query(\"num_in_data >= 10\")"
   ]
  },
  {
   "cell_type": "markdown",
   "metadata": {},
   "source": [
    "---"
   ]
  },
  {
   "cell_type": "markdown",
   "metadata": {},
   "source": [
    "## Significance checking function"
   ]
  },
  {
   "cell_type": "code",
   "execution_count": 30,
   "metadata": {
    "collapsed": true
   },
   "outputs": [],
   "source": [
    "def signif(go_term, df, go_groups, groupby, drift_col, conditions):\n",
    "    \"\"\"Check for significant drift.\n",
    "    \n",
    "    For a subset of genes specified by the GO term, calculates the\n",
    "    p-values when grouped together by the groupby. Then checks that\n",
    "    all p values of the condition pairs are below the significance\n",
    "    threshold.\n",
    "    \n",
    "    Conditions = dict(key: direction)\n",
    "    where key = pair of groups, direction = boolean of whether the variance\n",
    "    of the left group is larger\n",
    "    \"\"\"\n",
    "    res = filter_go([go_term], go_groups, df, \"wormbaseid\")\n",
    "    \n",
    "    p_vals = p_val_pairs(res, groupby, drift_col)\n",
    "    \n",
    "    threshold = 0.05\n",
    "    for pair in conditions:\n",
    "        assert pair in p_vals, \"{} not in p-val pairs\".format(pair)\n",
    "        \n",
    "    return all(\n",
    "        p_vals[i][0] < threshold and p_vals[i][1] == direction\n",
    "        for i, direction in conditions.items()\n",
    "    )"
   ]
  },
  {
   "cell_type": "markdown",
   "metadata": {},
   "source": [
    "## Drift in water\n",
    "\n",
    "Drift in water on day 10 is greater than drift on day 3."
   ]
  },
  {
   "cell_type": "code",
   "execution_count": 31,
   "metadata": {
    "collapsed": true
   },
   "outputs": [],
   "source": [
    "water = data.query(\"drug_given == 'water' & day_harvest_rna > 1\")\n",
    "\n",
    "water_310 = partial(\n",
    "    signif, df = water, go_groups = go_groups, groupby = \"day_harvest_rna\",\n",
    "    drift_col = \"drift\",\n",
    "    conditions = {(3, 10): False}\n",
    ")"
   ]
  },
  {
   "cell_type": "code",
   "execution_count": 32,
   "metadata": {
    "collapsed": false
   },
   "outputs": [],
   "source": [
    "info[\"water_310\"] = info[\"go_id\"].map(water_310)"
   ]
  },
  {
   "cell_type": "code",
   "execution_count": 33,
   "metadata": {
    "collapsed": false
   },
   "outputs": [
    {
     "data": {
      "text/plain": [
       "False    1947\n",
       "True      742\n",
       "Name: water_310, dtype: int64"
      ]
     },
     "execution_count": 33,
     "metadata": {},
     "output_type": "execute_result"
    }
   ],
   "source": [
    "info[\"water_310\"].value_counts()"
   ]
  },
  {
   "cell_type": "markdown",
   "metadata": {},
   "source": [
    "---\n",
    "\n",
    "## Drift on day 10: reduced in mianserin compared to water"
   ]
  },
  {
   "cell_type": "code",
   "execution_count": 34,
   "metadata": {
    "collapsed": true
   },
   "outputs": [],
   "source": [
    "mian_10 = partial(\n",
    "    signif,\n",
    "    df = data.query(\"day_add_drug == 1 & drug_conc_uM in(0, 50)\"),\n",
    "    go_groups = go_groups, groupby = [\"drug_given\", \"day_harvest_rna\"],\n",
    "    drift_col = \"drift\",\n",
    "    conditions = {\n",
    "        (('mianserin', 10), ('water', 10)): False\n",
    "    }\n",
    ")"
   ]
  },
  {
   "cell_type": "code",
   "execution_count": 35,
   "metadata": {
    "collapsed": false
   },
   "outputs": [],
   "source": [
    "info[\"mian_water_10\"] = info[\"go_id\"].map(mian_10)"
   ]
  },
  {
   "cell_type": "code",
   "execution_count": 36,
   "metadata": {
    "collapsed": false
   },
   "outputs": [
    {
     "data": {
      "text/plain": [
       "False    1687\n",
       "True     1002\n",
       "Name: mian_water_10, dtype: int64"
      ]
     },
     "execution_count": 36,
     "metadata": {},
     "output_type": "execute_result"
    }
   ],
   "source": [
    "info[\"mian_water_10\"].value_counts()"
   ]
  },
  {
   "cell_type": "markdown",
   "metadata": {},
   "source": [
    "## Results"
   ]
  },
  {
   "cell_type": "code",
   "execution_count": 37,
   "metadata": {
    "collapsed": false
   },
   "outputs": [
    {
     "data": {
      "text/plain": [
       "water_310  mian_water_10\n",
       "False      False            1561\n",
       "           True              386\n",
       "True       False             126\n",
       "           True              616\n",
       "dtype: int64"
      ]
     },
     "execution_count": 37,
     "metadata": {},
     "output_type": "execute_result"
    }
   ],
   "source": [
    "info.groupby([\"water_310\", \"mian_water_10\"]).size()"
   ]
  },
  {
   "cell_type": "markdown",
   "metadata": {},
   "source": [
    "In the full transcriptome, 616 GO terms (with >= 10 genes) had significant drift:\n",
    "1. Greater drift on day 10 in water compared to day 3.\n",
    "2. Smaller drift on day 10 in mianserin compared to water."
   ]
  },
  {
   "cell_type": "markdown",
   "metadata": {},
   "source": [
    "## Check results:"
   ]
  },
  {
   "cell_type": "code",
   "execution_count": 38,
   "metadata": {
    "collapsed": false,
    "scrolled": true
   },
   "outputs": [
    {
     "data": {
      "text/html": [
       "<div>\n",
       "<table border=\"1\" class=\"dataframe\">\n",
       "  <thead>\n",
       "    <tr style=\"text-align: right;\">\n",
       "      <th></th>\n",
       "      <th>go_id</th>\n",
       "      <th>num_genes</th>\n",
       "      <th>go_name</th>\n",
       "      <th>namespace</th>\n",
       "      <th>obsolete</th>\n",
       "      <th>num_in_data</th>\n",
       "      <th>frac_present</th>\n",
       "      <th>water_310</th>\n",
       "      <th>mian_water_10</th>\n",
       "    </tr>\n",
       "  </thead>\n",
       "  <tbody>\n",
       "    <tr>\n",
       "      <th>0</th>\n",
       "      <td>GO:0008150</td>\n",
       "      <td>11336</td>\n",
       "      <td>biological_process</td>\n",
       "      <td>biological_process</td>\n",
       "      <td>False</td>\n",
       "      <td>10477</td>\n",
       "      <td>0.924224</td>\n",
       "      <td>True</td>\n",
       "      <td>True</td>\n",
       "    </tr>\n",
       "    <tr>\n",
       "      <th>1</th>\n",
       "      <td>GO:0003674</td>\n",
       "      <td>8944</td>\n",
       "      <td>molecular_function</td>\n",
       "      <td>molecular_function</td>\n",
       "      <td>False</td>\n",
       "      <td>8663</td>\n",
       "      <td>0.968582</td>\n",
       "      <td>True</td>\n",
       "      <td>True</td>\n",
       "    </tr>\n",
       "    <tr>\n",
       "      <th>2</th>\n",
       "      <td>GO:0044699</td>\n",
       "      <td>8576</td>\n",
       "      <td>single-organism process</td>\n",
       "      <td>biological_process</td>\n",
       "      <td>False</td>\n",
       "      <td>7984</td>\n",
       "      <td>0.930970</td>\n",
       "      <td>True</td>\n",
       "      <td>True</td>\n",
       "    </tr>\n",
       "    <tr>\n",
       "      <th>3</th>\n",
       "      <td>GO:0005575</td>\n",
       "      <td>7895</td>\n",
       "      <td>cellular_component</td>\n",
       "      <td>cellular_component</td>\n",
       "      <td>False</td>\n",
       "      <td>7617</td>\n",
       "      <td>0.964788</td>\n",
       "      <td>True</td>\n",
       "      <td>True</td>\n",
       "    </tr>\n",
       "    <tr>\n",
       "      <th>4</th>\n",
       "      <td>GO:0009987</td>\n",
       "      <td>7233</td>\n",
       "      <td>cellular process</td>\n",
       "      <td>biological_process</td>\n",
       "      <td>False</td>\n",
       "      <td>6870</td>\n",
       "      <td>0.949813</td>\n",
       "      <td>True</td>\n",
       "      <td>True</td>\n",
       "    </tr>\n",
       "    <tr>\n",
       "      <th>5</th>\n",
       "      <td>GO:0005623</td>\n",
       "      <td>6200</td>\n",
       "      <td>cell</td>\n",
       "      <td>cellular_component</td>\n",
       "      <td>False</td>\n",
       "      <td>6003</td>\n",
       "      <td>0.968226</td>\n",
       "      <td>True</td>\n",
       "      <td>True</td>\n",
       "    </tr>\n",
       "    <tr>\n",
       "      <th>6</th>\n",
       "      <td>GO:0044464</td>\n",
       "      <td>6148</td>\n",
       "      <td>cell part</td>\n",
       "      <td>cellular_component</td>\n",
       "      <td>False</td>\n",
       "      <td>5955</td>\n",
       "      <td>0.968608</td>\n",
       "      <td>True</td>\n",
       "      <td>True</td>\n",
       "    </tr>\n",
       "    <tr>\n",
       "      <th>7</th>\n",
       "      <td>GO:0044763</td>\n",
       "      <td>5737</td>\n",
       "      <td>single-organism cellular process</td>\n",
       "      <td>biological_process</td>\n",
       "      <td>False</td>\n",
       "      <td>5405</td>\n",
       "      <td>0.942130</td>\n",
       "      <td>True</td>\n",
       "      <td>True</td>\n",
       "    </tr>\n",
       "    <tr>\n",
       "      <th>8</th>\n",
       "      <td>GO:0008152</td>\n",
       "      <td>5332</td>\n",
       "      <td>metabolic process</td>\n",
       "      <td>biological_process</td>\n",
       "      <td>False</td>\n",
       "      <td>5230</td>\n",
       "      <td>0.980870</td>\n",
       "      <td>True</td>\n",
       "      <td>True</td>\n",
       "    </tr>\n",
       "    <tr>\n",
       "      <th>9</th>\n",
       "      <td>GO:0032501</td>\n",
       "      <td>5547</td>\n",
       "      <td>multicellular organismal process</td>\n",
       "      <td>biological_process</td>\n",
       "      <td>False</td>\n",
       "      <td>5090</td>\n",
       "      <td>0.917613</td>\n",
       "      <td>True</td>\n",
       "      <td>True</td>\n",
       "    </tr>\n",
       "    <tr>\n",
       "      <th>10</th>\n",
       "      <td>GO:0005488</td>\n",
       "      <td>5131</td>\n",
       "      <td>binding</td>\n",
       "      <td>molecular_function</td>\n",
       "      <td>False</td>\n",
       "      <td>5058</td>\n",
       "      <td>0.985773</td>\n",
       "      <td>True</td>\n",
       "      <td>True</td>\n",
       "    </tr>\n",
       "    <tr>\n",
       "      <th>11</th>\n",
       "      <td>GO:0005622</td>\n",
       "      <td>4960</td>\n",
       "      <td>intracellular</td>\n",
       "      <td>cellular_component</td>\n",
       "      <td>False</td>\n",
       "      <td>4891</td>\n",
       "      <td>0.986089</td>\n",
       "      <td>True</td>\n",
       "      <td>True</td>\n",
       "    </tr>\n",
       "    <tr>\n",
       "      <th>12</th>\n",
       "      <td>GO:0032502</td>\n",
       "      <td>5063</td>\n",
       "      <td>developmental process</td>\n",
       "      <td>biological_process</td>\n",
       "      <td>False</td>\n",
       "      <td>4710</td>\n",
       "      <td>0.930278</td>\n",
       "      <td>True</td>\n",
       "      <td>True</td>\n",
       "    </tr>\n",
       "    <tr>\n",
       "      <th>13</th>\n",
       "      <td>GO:0044767</td>\n",
       "      <td>5042</td>\n",
       "      <td>single-organism developmental process</td>\n",
       "      <td>biological_process</td>\n",
       "      <td>False</td>\n",
       "      <td>4690</td>\n",
       "      <td>0.930186</td>\n",
       "      <td>True</td>\n",
       "      <td>True</td>\n",
       "    </tr>\n",
       "    <tr>\n",
       "      <th>14</th>\n",
       "      <td>GO:0044424</td>\n",
       "      <td>4750</td>\n",
       "      <td>intracellular part</td>\n",
       "      <td>cellular_component</td>\n",
       "      <td>False</td>\n",
       "      <td>4685</td>\n",
       "      <td>0.986316</td>\n",
       "      <td>True</td>\n",
       "      <td>True</td>\n",
       "    </tr>\n",
       "    <tr>\n",
       "      <th>15</th>\n",
       "      <td>GO:0048856</td>\n",
       "      <td>4983</td>\n",
       "      <td>anatomical structure development</td>\n",
       "      <td>biological_process</td>\n",
       "      <td>False</td>\n",
       "      <td>4631</td>\n",
       "      <td>0.929360</td>\n",
       "      <td>True</td>\n",
       "      <td>True</td>\n",
       "    </tr>\n",
       "    <tr>\n",
       "      <th>16</th>\n",
       "      <td>GO:0044707</td>\n",
       "      <td>4834</td>\n",
       "      <td>single-multicellular organism process</td>\n",
       "      <td>biological_process</td>\n",
       "      <td>False</td>\n",
       "      <td>4486</td>\n",
       "      <td>0.928010</td>\n",
       "      <td>True</td>\n",
       "      <td>True</td>\n",
       "    </tr>\n",
       "    <tr>\n",
       "      <th>17</th>\n",
       "      <td>GO:0065007</td>\n",
       "      <td>4792</td>\n",
       "      <td>biological regulation</td>\n",
       "      <td>biological_process</td>\n",
       "      <td>False</td>\n",
       "      <td>4436</td>\n",
       "      <td>0.925710</td>\n",
       "      <td>True</td>\n",
       "      <td>True</td>\n",
       "    </tr>\n",
       "    <tr>\n",
       "      <th>18</th>\n",
       "      <td>GO:0007275</td>\n",
       "      <td>4732</td>\n",
       "      <td>multicellular organism development</td>\n",
       "      <td>biological_process</td>\n",
       "      <td>False</td>\n",
       "      <td>4397</td>\n",
       "      <td>0.929205</td>\n",
       "      <td>True</td>\n",
       "      <td>True</td>\n",
       "    </tr>\n",
       "    <tr>\n",
       "      <th>19</th>\n",
       "      <td>GO:0071704</td>\n",
       "      <td>4147</td>\n",
       "      <td>organic substance metabolic process</td>\n",
       "      <td>biological_process</td>\n",
       "      <td>False</td>\n",
       "      <td>4070</td>\n",
       "      <td>0.981432</td>\n",
       "      <td>True</td>\n",
       "      <td>True</td>\n",
       "    </tr>\n",
       "    <tr>\n",
       "      <th>20</th>\n",
       "      <td>GO:0003824</td>\n",
       "      <td>3999</td>\n",
       "      <td>catalytic activity</td>\n",
       "      <td>molecular_function</td>\n",
       "      <td>False</td>\n",
       "      <td>3936</td>\n",
       "      <td>0.984246</td>\n",
       "      <td>True</td>\n",
       "      <td>True</td>\n",
       "    </tr>\n",
       "    <tr>\n",
       "      <th>21</th>\n",
       "      <td>GO:0044238</td>\n",
       "      <td>3977</td>\n",
       "      <td>primary metabolic process</td>\n",
       "      <td>biological_process</td>\n",
       "      <td>False</td>\n",
       "      <td>3901</td>\n",
       "      <td>0.980890</td>\n",
       "      <td>True</td>\n",
       "      <td>True</td>\n",
       "    </tr>\n",
       "    <tr>\n",
       "      <th>22</th>\n",
       "      <td>GO:0050789</td>\n",
       "      <td>4114</td>\n",
       "      <td>regulation of biological process</td>\n",
       "      <td>biological_process</td>\n",
       "      <td>False</td>\n",
       "      <td>3832</td>\n",
       "      <td>0.931454</td>\n",
       "      <td>True</td>\n",
       "      <td>True</td>\n",
       "    </tr>\n",
       "    <tr>\n",
       "      <th>23</th>\n",
       "      <td>GO:0043226</td>\n",
       "      <td>3852</td>\n",
       "      <td>organelle</td>\n",
       "      <td>cellular_component</td>\n",
       "      <td>False</td>\n",
       "      <td>3797</td>\n",
       "      <td>0.985722</td>\n",
       "      <td>True</td>\n",
       "      <td>True</td>\n",
       "    </tr>\n",
       "    <tr>\n",
       "      <th>24</th>\n",
       "      <td>GO:0043229</td>\n",
       "      <td>3756</td>\n",
       "      <td>intracellular organelle</td>\n",
       "      <td>cellular_component</td>\n",
       "      <td>False</td>\n",
       "      <td>3704</td>\n",
       "      <td>0.986155</td>\n",
       "      <td>True</td>\n",
       "      <td>True</td>\n",
       "    </tr>\n",
       "    <tr>\n",
       "      <th>25</th>\n",
       "      <td>GO:0044237</td>\n",
       "      <td>3586</td>\n",
       "      <td>cellular metabolic process</td>\n",
       "      <td>biological_process</td>\n",
       "      <td>False</td>\n",
       "      <td>3529</td>\n",
       "      <td>0.984105</td>\n",
       "      <td>True</td>\n",
       "      <td>True</td>\n",
       "    </tr>\n",
       "    <tr>\n",
       "      <th>26</th>\n",
       "      <td>GO:0050794</td>\n",
       "      <td>3473</td>\n",
       "      <td>regulation of cellular process</td>\n",
       "      <td>biological_process</td>\n",
       "      <td>False</td>\n",
       "      <td>3241</td>\n",
       "      <td>0.933199</td>\n",
       "      <td>True</td>\n",
       "      <td>True</td>\n",
       "    </tr>\n",
       "    <tr>\n",
       "      <th>27</th>\n",
       "      <td>GO:0016020</td>\n",
       "      <td>3380</td>\n",
       "      <td>membrane</td>\n",
       "      <td>cellular_component</td>\n",
       "      <td>False</td>\n",
       "      <td>3184</td>\n",
       "      <td>0.942012</td>\n",
       "      <td>True</td>\n",
       "      <td>True</td>\n",
       "    </tr>\n",
       "    <tr>\n",
       "      <th>28</th>\n",
       "      <td>GO:0043227</td>\n",
       "      <td>3198</td>\n",
       "      <td>membrane-bounded organelle</td>\n",
       "      <td>cellular_component</td>\n",
       "      <td>False</td>\n",
       "      <td>3154</td>\n",
       "      <td>0.986241</td>\n",
       "      <td>True</td>\n",
       "      <td>True</td>\n",
       "    </tr>\n",
       "    <tr>\n",
       "      <th>29</th>\n",
       "      <td>GO:0043170</td>\n",
       "      <td>3214</td>\n",
       "      <td>macromolecule metabolic process</td>\n",
       "      <td>biological_process</td>\n",
       "      <td>False</td>\n",
       "      <td>3150</td>\n",
       "      <td>0.980087</td>\n",
       "      <td>True</td>\n",
       "      <td>True</td>\n",
       "    </tr>\n",
       "    <tr>\n",
       "      <th>...</th>\n",
       "      <td>...</td>\n",
       "      <td>...</td>\n",
       "      <td>...</td>\n",
       "      <td>...</td>\n",
       "      <td>...</td>\n",
       "      <td>...</td>\n",
       "      <td>...</td>\n",
       "      <td>...</td>\n",
       "      <td>...</td>\n",
       "    </tr>\n",
       "    <tr>\n",
       "      <th>1562</th>\n",
       "      <td>GO:1903509</td>\n",
       "      <td>29</td>\n",
       "      <td>liposaccharide metabolic process</td>\n",
       "      <td>biological_process</td>\n",
       "      <td>False</td>\n",
       "      <td>29</td>\n",
       "      <td>1.000000</td>\n",
       "      <td>True</td>\n",
       "      <td>True</td>\n",
       "    </tr>\n",
       "    <tr>\n",
       "      <th>1571</th>\n",
       "      <td>GO:0006664</td>\n",
       "      <td>29</td>\n",
       "      <td>glycolipid metabolic process</td>\n",
       "      <td>biological_process</td>\n",
       "      <td>False</td>\n",
       "      <td>29</td>\n",
       "      <td>1.000000</td>\n",
       "      <td>True</td>\n",
       "      <td>True</td>\n",
       "    </tr>\n",
       "    <tr>\n",
       "      <th>1581</th>\n",
       "      <td>GO:0006612</td>\n",
       "      <td>28</td>\n",
       "      <td>protein targeting to membrane</td>\n",
       "      <td>biological_process</td>\n",
       "      <td>False</td>\n",
       "      <td>28</td>\n",
       "      <td>1.000000</td>\n",
       "      <td>True</td>\n",
       "      <td>True</td>\n",
       "    </tr>\n",
       "    <tr>\n",
       "      <th>1584</th>\n",
       "      <td>GO:0030658</td>\n",
       "      <td>29</td>\n",
       "      <td>transport vesicle membrane</td>\n",
       "      <td>cellular_component</td>\n",
       "      <td>False</td>\n",
       "      <td>28</td>\n",
       "      <td>0.965517</td>\n",
       "      <td>True</td>\n",
       "      <td>True</td>\n",
       "    </tr>\n",
       "    <tr>\n",
       "      <th>1603</th>\n",
       "      <td>GO:0051983</td>\n",
       "      <td>28</td>\n",
       "      <td>regulation of chromosome segregation</td>\n",
       "      <td>biological_process</td>\n",
       "      <td>False</td>\n",
       "      <td>28</td>\n",
       "      <td>1.000000</td>\n",
       "      <td>True</td>\n",
       "      <td>True</td>\n",
       "    </tr>\n",
       "    <tr>\n",
       "      <th>1620</th>\n",
       "      <td>GO:0042773</td>\n",
       "      <td>27</td>\n",
       "      <td>ATP synthesis coupled electron transport</td>\n",
       "      <td>biological_process</td>\n",
       "      <td>False</td>\n",
       "      <td>27</td>\n",
       "      <td>1.000000</td>\n",
       "      <td>True</td>\n",
       "      <td>True</td>\n",
       "    </tr>\n",
       "    <tr>\n",
       "      <th>1626</th>\n",
       "      <td>GO:0006119</td>\n",
       "      <td>27</td>\n",
       "      <td>oxidative phosphorylation</td>\n",
       "      <td>biological_process</td>\n",
       "      <td>False</td>\n",
       "      <td>27</td>\n",
       "      <td>1.000000</td>\n",
       "      <td>True</td>\n",
       "      <td>True</td>\n",
       "    </tr>\n",
       "    <tr>\n",
       "      <th>1631</th>\n",
       "      <td>GO:0006885</td>\n",
       "      <td>26</td>\n",
       "      <td>regulation of pH</td>\n",
       "      <td>biological_process</td>\n",
       "      <td>False</td>\n",
       "      <td>26</td>\n",
       "      <td>1.000000</td>\n",
       "      <td>True</td>\n",
       "      <td>True</td>\n",
       "    </tr>\n",
       "    <tr>\n",
       "      <th>1645</th>\n",
       "      <td>GO:0042775</td>\n",
       "      <td>26</td>\n",
       "      <td>mitochondrial ATP synthesis coupled electron t...</td>\n",
       "      <td>biological_process</td>\n",
       "      <td>False</td>\n",
       "      <td>26</td>\n",
       "      <td>1.000000</td>\n",
       "      <td>True</td>\n",
       "      <td>True</td>\n",
       "    </tr>\n",
       "    <tr>\n",
       "      <th>1686</th>\n",
       "      <td>GO:0034606</td>\n",
       "      <td>26</td>\n",
       "      <td>response to hermaphrodite contact</td>\n",
       "      <td>biological_process</td>\n",
       "      <td>False</td>\n",
       "      <td>25</td>\n",
       "      <td>0.961538</td>\n",
       "      <td>True</td>\n",
       "      <td>True</td>\n",
       "    </tr>\n",
       "    <tr>\n",
       "      <th>1695</th>\n",
       "      <td>GO:0005643</td>\n",
       "      <td>25</td>\n",
       "      <td>nuclear pore</td>\n",
       "      <td>cellular_component</td>\n",
       "      <td>False</td>\n",
       "      <td>25</td>\n",
       "      <td>1.000000</td>\n",
       "      <td>True</td>\n",
       "      <td>True</td>\n",
       "    </tr>\n",
       "    <tr>\n",
       "      <th>1710</th>\n",
       "      <td>GO:0019905</td>\n",
       "      <td>25</td>\n",
       "      <td>syntaxin binding</td>\n",
       "      <td>molecular_function</td>\n",
       "      <td>False</td>\n",
       "      <td>24</td>\n",
       "      <td>0.960000</td>\n",
       "      <td>True</td>\n",
       "      <td>True</td>\n",
       "    </tr>\n",
       "    <tr>\n",
       "      <th>1743</th>\n",
       "      <td>GO:0006289</td>\n",
       "      <td>23</td>\n",
       "      <td>nucleotide-excision repair</td>\n",
       "      <td>biological_process</td>\n",
       "      <td>False</td>\n",
       "      <td>23</td>\n",
       "      <td>1.000000</td>\n",
       "      <td>True</td>\n",
       "      <td>True</td>\n",
       "    </tr>\n",
       "    <tr>\n",
       "      <th>1762</th>\n",
       "      <td>GO:0061512</td>\n",
       "      <td>23</td>\n",
       "      <td>protein localization to cilium</td>\n",
       "      <td>biological_process</td>\n",
       "      <td>False</td>\n",
       "      <td>23</td>\n",
       "      <td>1.000000</td>\n",
       "      <td>True</td>\n",
       "      <td>True</td>\n",
       "    </tr>\n",
       "    <tr>\n",
       "      <th>1764</th>\n",
       "      <td>GO:0003954</td>\n",
       "      <td>23</td>\n",
       "      <td>NADH dehydrogenase activity</td>\n",
       "      <td>molecular_function</td>\n",
       "      <td>False</td>\n",
       "      <td>23</td>\n",
       "      <td>1.000000</td>\n",
       "      <td>True</td>\n",
       "      <td>True</td>\n",
       "    </tr>\n",
       "    <tr>\n",
       "      <th>1768</th>\n",
       "      <td>GO:0004620</td>\n",
       "      <td>23</td>\n",
       "      <td>phospholipase activity</td>\n",
       "      <td>molecular_function</td>\n",
       "      <td>False</td>\n",
       "      <td>23</td>\n",
       "      <td>1.000000</td>\n",
       "      <td>True</td>\n",
       "      <td>True</td>\n",
       "    </tr>\n",
       "    <tr>\n",
       "      <th>1807</th>\n",
       "      <td>GO:0009247</td>\n",
       "      <td>22</td>\n",
       "      <td>glycolipid biosynthetic process</td>\n",
       "      <td>biological_process</td>\n",
       "      <td>False</td>\n",
       "      <td>22</td>\n",
       "      <td>1.000000</td>\n",
       "      <td>True</td>\n",
       "      <td>True</td>\n",
       "    </tr>\n",
       "    <tr>\n",
       "      <th>1841</th>\n",
       "      <td>GO:0030276</td>\n",
       "      <td>21</td>\n",
       "      <td>clathrin binding</td>\n",
       "      <td>molecular_function</td>\n",
       "      <td>False</td>\n",
       "      <td>21</td>\n",
       "      <td>1.000000</td>\n",
       "      <td>True</td>\n",
       "      <td>True</td>\n",
       "    </tr>\n",
       "    <tr>\n",
       "      <th>1866</th>\n",
       "      <td>GO:0016655</td>\n",
       "      <td>20</td>\n",
       "      <td>oxidoreductase activity, acting on NAD(P)H, qu...</td>\n",
       "      <td>molecular_function</td>\n",
       "      <td>False</td>\n",
       "      <td>20</td>\n",
       "      <td>1.000000</td>\n",
       "      <td>True</td>\n",
       "      <td>True</td>\n",
       "    </tr>\n",
       "    <tr>\n",
       "      <th>1894</th>\n",
       "      <td>GO:0050136</td>\n",
       "      <td>20</td>\n",
       "      <td>NADH dehydrogenase (quinone) activity</td>\n",
       "      <td>molecular_function</td>\n",
       "      <td>False</td>\n",
       "      <td>20</td>\n",
       "      <td>1.000000</td>\n",
       "      <td>True</td>\n",
       "      <td>True</td>\n",
       "    </tr>\n",
       "    <tr>\n",
       "      <th>1899</th>\n",
       "      <td>GO:0008137</td>\n",
       "      <td>20</td>\n",
       "      <td>NADH dehydrogenase (ubiquinone) activity</td>\n",
       "      <td>molecular_function</td>\n",
       "      <td>False</td>\n",
       "      <td>20</td>\n",
       "      <td>1.000000</td>\n",
       "      <td>True</td>\n",
       "      <td>True</td>\n",
       "    </tr>\n",
       "    <tr>\n",
       "      <th>1905</th>\n",
       "      <td>GO:0015807</td>\n",
       "      <td>19</td>\n",
       "      <td>L-amino acid transport</td>\n",
       "      <td>biological_process</td>\n",
       "      <td>False</td>\n",
       "      <td>19</td>\n",
       "      <td>1.000000</td>\n",
       "      <td>True</td>\n",
       "      <td>True</td>\n",
       "    </tr>\n",
       "    <tr>\n",
       "      <th>1923</th>\n",
       "      <td>GO:1902475</td>\n",
       "      <td>19</td>\n",
       "      <td>L-alpha-amino acid transmembrane transport</td>\n",
       "      <td>biological_process</td>\n",
       "      <td>False</td>\n",
       "      <td>19</td>\n",
       "      <td>1.000000</td>\n",
       "      <td>True</td>\n",
       "      <td>True</td>\n",
       "    </tr>\n",
       "    <tr>\n",
       "      <th>1936</th>\n",
       "      <td>GO:0015179</td>\n",
       "      <td>19</td>\n",
       "      <td>L-amino acid transmembrane transporter activity</td>\n",
       "      <td>molecular_function</td>\n",
       "      <td>False</td>\n",
       "      <td>19</td>\n",
       "      <td>1.000000</td>\n",
       "      <td>True</td>\n",
       "      <td>True</td>\n",
       "    </tr>\n",
       "    <tr>\n",
       "      <th>2043</th>\n",
       "      <td>GO:0004722</td>\n",
       "      <td>17</td>\n",
       "      <td>protein serine/threonine phosphatase activity</td>\n",
       "      <td>molecular_function</td>\n",
       "      <td>False</td>\n",
       "      <td>17</td>\n",
       "      <td>1.000000</td>\n",
       "      <td>True</td>\n",
       "      <td>True</td>\n",
       "    </tr>\n",
       "    <tr>\n",
       "      <th>2090</th>\n",
       "      <td>GO:0004003</td>\n",
       "      <td>16</td>\n",
       "      <td>ATP-dependent DNA helicase activity</td>\n",
       "      <td>molecular_function</td>\n",
       "      <td>False</td>\n",
       "      <td>16</td>\n",
       "      <td>1.000000</td>\n",
       "      <td>True</td>\n",
       "      <td>True</td>\n",
       "    </tr>\n",
       "    <tr>\n",
       "      <th>2110</th>\n",
       "      <td>GO:0033178</td>\n",
       "      <td>16</td>\n",
       "      <td>proton-transporting two-sector ATPase complex,...</td>\n",
       "      <td>cellular_component</td>\n",
       "      <td>False</td>\n",
       "      <td>16</td>\n",
       "      <td>1.000000</td>\n",
       "      <td>True</td>\n",
       "      <td>True</td>\n",
       "    </tr>\n",
       "    <tr>\n",
       "      <th>2496</th>\n",
       "      <td>GO:0006206</td>\n",
       "      <td>11</td>\n",
       "      <td>pyrimidine nucleobase metabolic process</td>\n",
       "      <td>biological_process</td>\n",
       "      <td>False</td>\n",
       "      <td>11</td>\n",
       "      <td>1.000000</td>\n",
       "      <td>True</td>\n",
       "      <td>True</td>\n",
       "    </tr>\n",
       "    <tr>\n",
       "      <th>2648</th>\n",
       "      <td>GO:0099501</td>\n",
       "      <td>11</td>\n",
       "      <td>exocytic vesicle membrane</td>\n",
       "      <td>cellular_component</td>\n",
       "      <td>False</td>\n",
       "      <td>10</td>\n",
       "      <td>0.909091</td>\n",
       "      <td>True</td>\n",
       "      <td>True</td>\n",
       "    </tr>\n",
       "    <tr>\n",
       "      <th>2655</th>\n",
       "      <td>GO:0030672</td>\n",
       "      <td>11</td>\n",
       "      <td>synaptic vesicle membrane</td>\n",
       "      <td>cellular_component</td>\n",
       "      <td>False</td>\n",
       "      <td>10</td>\n",
       "      <td>0.909091</td>\n",
       "      <td>True</td>\n",
       "      <td>True</td>\n",
       "    </tr>\n",
       "  </tbody>\n",
       "</table>\n",
       "<p>616 rows × 9 columns</p>\n",
       "</div>"
      ],
      "text/plain": [
       "           go_id  num_genes  \\\n",
       "0     GO:0008150      11336   \n",
       "1     GO:0003674       8944   \n",
       "2     GO:0044699       8576   \n",
       "3     GO:0005575       7895   \n",
       "4     GO:0009987       7233   \n",
       "5     GO:0005623       6200   \n",
       "6     GO:0044464       6148   \n",
       "7     GO:0044763       5737   \n",
       "8     GO:0008152       5332   \n",
       "9     GO:0032501       5547   \n",
       "10    GO:0005488       5131   \n",
       "11    GO:0005622       4960   \n",
       "12    GO:0032502       5063   \n",
       "13    GO:0044767       5042   \n",
       "14    GO:0044424       4750   \n",
       "15    GO:0048856       4983   \n",
       "16    GO:0044707       4834   \n",
       "17    GO:0065007       4792   \n",
       "18    GO:0007275       4732   \n",
       "19    GO:0071704       4147   \n",
       "20    GO:0003824       3999   \n",
       "21    GO:0044238       3977   \n",
       "22    GO:0050789       4114   \n",
       "23    GO:0043226       3852   \n",
       "24    GO:0043229       3756   \n",
       "25    GO:0044237       3586   \n",
       "26    GO:0050794       3473   \n",
       "27    GO:0016020       3380   \n",
       "28    GO:0043227       3198   \n",
       "29    GO:0043170       3214   \n",
       "...          ...        ...   \n",
       "1562  GO:1903509         29   \n",
       "1571  GO:0006664         29   \n",
       "1581  GO:0006612         28   \n",
       "1584  GO:0030658         29   \n",
       "1603  GO:0051983         28   \n",
       "1620  GO:0042773         27   \n",
       "1626  GO:0006119         27   \n",
       "1631  GO:0006885         26   \n",
       "1645  GO:0042775         26   \n",
       "1686  GO:0034606         26   \n",
       "1695  GO:0005643         25   \n",
       "1710  GO:0019905         25   \n",
       "1743  GO:0006289         23   \n",
       "1762  GO:0061512         23   \n",
       "1764  GO:0003954         23   \n",
       "1768  GO:0004620         23   \n",
       "1807  GO:0009247         22   \n",
       "1841  GO:0030276         21   \n",
       "1866  GO:0016655         20   \n",
       "1894  GO:0050136         20   \n",
       "1899  GO:0008137         20   \n",
       "1905  GO:0015807         19   \n",
       "1923  GO:1902475         19   \n",
       "1936  GO:0015179         19   \n",
       "2043  GO:0004722         17   \n",
       "2090  GO:0004003         16   \n",
       "2110  GO:0033178         16   \n",
       "2496  GO:0006206         11   \n",
       "2648  GO:0099501         11   \n",
       "2655  GO:0030672         11   \n",
       "\n",
       "                                                go_name           namespace  \\\n",
       "0                                    biological_process  biological_process   \n",
       "1                                    molecular_function  molecular_function   \n",
       "2                               single-organism process  biological_process   \n",
       "3                                    cellular_component  cellular_component   \n",
       "4                                      cellular process  biological_process   \n",
       "5                                                  cell  cellular_component   \n",
       "6                                             cell part  cellular_component   \n",
       "7                      single-organism cellular process  biological_process   \n",
       "8                                     metabolic process  biological_process   \n",
       "9                      multicellular organismal process  biological_process   \n",
       "10                                              binding  molecular_function   \n",
       "11                                        intracellular  cellular_component   \n",
       "12                                developmental process  biological_process   \n",
       "13                single-organism developmental process  biological_process   \n",
       "14                                   intracellular part  cellular_component   \n",
       "15                     anatomical structure development  biological_process   \n",
       "16                single-multicellular organism process  biological_process   \n",
       "17                                biological regulation  biological_process   \n",
       "18                   multicellular organism development  biological_process   \n",
       "19                  organic substance metabolic process  biological_process   \n",
       "20                                   catalytic activity  molecular_function   \n",
       "21                            primary metabolic process  biological_process   \n",
       "22                     regulation of biological process  biological_process   \n",
       "23                                            organelle  cellular_component   \n",
       "24                              intracellular organelle  cellular_component   \n",
       "25                           cellular metabolic process  biological_process   \n",
       "26                       regulation of cellular process  biological_process   \n",
       "27                                             membrane  cellular_component   \n",
       "28                           membrane-bounded organelle  cellular_component   \n",
       "29                      macromolecule metabolic process  biological_process   \n",
       "...                                                 ...                 ...   \n",
       "1562                   liposaccharide metabolic process  biological_process   \n",
       "1571                       glycolipid metabolic process  biological_process   \n",
       "1581                      protein targeting to membrane  biological_process   \n",
       "1584                         transport vesicle membrane  cellular_component   \n",
       "1603               regulation of chromosome segregation  biological_process   \n",
       "1620           ATP synthesis coupled electron transport  biological_process   \n",
       "1626                          oxidative phosphorylation  biological_process   \n",
       "1631                                   regulation of pH  biological_process   \n",
       "1645  mitochondrial ATP synthesis coupled electron t...  biological_process   \n",
       "1686                  response to hermaphrodite contact  biological_process   \n",
       "1695                                       nuclear pore  cellular_component   \n",
       "1710                                   syntaxin binding  molecular_function   \n",
       "1743                         nucleotide-excision repair  biological_process   \n",
       "1762                     protein localization to cilium  biological_process   \n",
       "1764                        NADH dehydrogenase activity  molecular_function   \n",
       "1768                             phospholipase activity  molecular_function   \n",
       "1807                    glycolipid biosynthetic process  biological_process   \n",
       "1841                                   clathrin binding  molecular_function   \n",
       "1866  oxidoreductase activity, acting on NAD(P)H, qu...  molecular_function   \n",
       "1894              NADH dehydrogenase (quinone) activity  molecular_function   \n",
       "1899           NADH dehydrogenase (ubiquinone) activity  molecular_function   \n",
       "1905                             L-amino acid transport  biological_process   \n",
       "1923         L-alpha-amino acid transmembrane transport  biological_process   \n",
       "1936    L-amino acid transmembrane transporter activity  molecular_function   \n",
       "2043      protein serine/threonine phosphatase activity  molecular_function   \n",
       "2090                ATP-dependent DNA helicase activity  molecular_function   \n",
       "2110  proton-transporting two-sector ATPase complex,...  cellular_component   \n",
       "2496            pyrimidine nucleobase metabolic process  biological_process   \n",
       "2648                          exocytic vesicle membrane  cellular_component   \n",
       "2655                          synaptic vesicle membrane  cellular_component   \n",
       "\n",
       "     obsolete  num_in_data  frac_present water_310 mian_water_10  \n",
       "0       False        10477      0.924224      True          True  \n",
       "1       False         8663      0.968582      True          True  \n",
       "2       False         7984      0.930970      True          True  \n",
       "3       False         7617      0.964788      True          True  \n",
       "4       False         6870      0.949813      True          True  \n",
       "5       False         6003      0.968226      True          True  \n",
       "6       False         5955      0.968608      True          True  \n",
       "7       False         5405      0.942130      True          True  \n",
       "8       False         5230      0.980870      True          True  \n",
       "9       False         5090      0.917613      True          True  \n",
       "10      False         5058      0.985773      True          True  \n",
       "11      False         4891      0.986089      True          True  \n",
       "12      False         4710      0.930278      True          True  \n",
       "13      False         4690      0.930186      True          True  \n",
       "14      False         4685      0.986316      True          True  \n",
       "15      False         4631      0.929360      True          True  \n",
       "16      False         4486      0.928010      True          True  \n",
       "17      False         4436      0.925710      True          True  \n",
       "18      False         4397      0.929205      True          True  \n",
       "19      False         4070      0.981432      True          True  \n",
       "20      False         3936      0.984246      True          True  \n",
       "21      False         3901      0.980890      True          True  \n",
       "22      False         3832      0.931454      True          True  \n",
       "23      False         3797      0.985722      True          True  \n",
       "24      False         3704      0.986155      True          True  \n",
       "25      False         3529      0.984105      True          True  \n",
       "26      False         3241      0.933199      True          True  \n",
       "27      False         3184      0.942012      True          True  \n",
       "28      False         3154      0.986241      True          True  \n",
       "29      False         3150      0.980087      True          True  \n",
       "...       ...          ...           ...       ...           ...  \n",
       "1562    False           29      1.000000      True          True  \n",
       "1571    False           29      1.000000      True          True  \n",
       "1581    False           28      1.000000      True          True  \n",
       "1584    False           28      0.965517      True          True  \n",
       "1603    False           28      1.000000      True          True  \n",
       "1620    False           27      1.000000      True          True  \n",
       "1626    False           27      1.000000      True          True  \n",
       "1631    False           26      1.000000      True          True  \n",
       "1645    False           26      1.000000      True          True  \n",
       "1686    False           25      0.961538      True          True  \n",
       "1695    False           25      1.000000      True          True  \n",
       "1710    False           24      0.960000      True          True  \n",
       "1743    False           23      1.000000      True          True  \n",
       "1762    False           23      1.000000      True          True  \n",
       "1764    False           23      1.000000      True          True  \n",
       "1768    False           23      1.000000      True          True  \n",
       "1807    False           22      1.000000      True          True  \n",
       "1841    False           21      1.000000      True          True  \n",
       "1866    False           20      1.000000      True          True  \n",
       "1894    False           20      1.000000      True          True  \n",
       "1899    False           20      1.000000      True          True  \n",
       "1905    False           19      1.000000      True          True  \n",
       "1923    False           19      1.000000      True          True  \n",
       "1936    False           19      1.000000      True          True  \n",
       "2043    False           17      1.000000      True          True  \n",
       "2090    False           16      1.000000      True          True  \n",
       "2110    False           16      1.000000      True          True  \n",
       "2496    False           11      1.000000      True          True  \n",
       "2648    False           10      0.909091      True          True  \n",
       "2655    False           10      0.909091      True          True  \n",
       "\n",
       "[616 rows x 9 columns]"
      ]
     },
     "execution_count": 38,
     "metadata": {},
     "output_type": "execute_result"
    }
   ],
   "source": [
    "info.query(\"water_310 & mian_water_10\")"
   ]
  },
  {
   "cell_type": "markdown",
   "metadata": {},
   "source": [
    "## Check out one example:"
   ]
  },
  {
   "cell_type": "markdown",
   "metadata": {},
   "source": [
    "## Syntaxin binding (GO:0019905)"
   ]
  },
  {
   "cell_type": "code",
   "execution_count": 39,
   "metadata": {
    "collapsed": false
   },
   "outputs": [
    {
     "data": {
      "image/png": "[encoded data removed]",
      "text/plain": [
       "<matplotlib.figure.Figure at 0x7fc59f149d68>"
      ]
     },
     "metadata": {},
     "output_type": "display_data"
    }
   ],
   "source": [
    "temp = data.query(\"day_add_drug == 1 & drug_conc_uM in(0, 50)\")\n",
    "\n",
    "term = \"GO:0019905\"\n",
    "\n",
    "res = filter_go([term], go_groups, temp, \"wormbaseid\")\n",
    "plot_drift(\n",
    "    \"box\", res, \"day_harvest_rna\", \"drift\", \"seqname\",\n",
    "    groupby = \"drug_given\", rc = {\"figure.figsize\": (8, 6)},\n",
    "    title = \"Drift for all genes in worms given water or mianserin\"\n",
    ");"
   ]
  },
  {
   "cell_type": "code",
   "execution_count": 40,
   "metadata": {
    "collapsed": false
   },
   "outputs": [
    {
     "data": {
      "image/png": "[encoded data removed]",
      "text/plain": [
       "<matplotlib.figure.Figure at 0x7fc59f074cf8>"
      ]
     },
     "metadata": {},
     "output_type": "display_data"
    }
   ],
   "source": [
    "plot_p_val_heatmap(res, [\"drug_given\", \"day_harvest_rna\"], \"drift\", circles = True);"
   ]
  },
  {
   "cell_type": "markdown",
   "metadata": {},
   "source": [
    "We see that for this GO term, the genes drifted apart in water as time went on, but that when given mianserin, the genes do not drift apart. They are lower than water, but do not drift apart compared to one another."
   ]
  }
 ],
 "metadata": {
  "kernelspec": {
   "display_name": "Python 3",
   "language": "python",
   "name": "python3"
  },
  "language_info": {
   "codemirror_mode": {
    "name": "ipython",
    "version": 3
   },
   "file_extension": ".py",
   "mimetype": "text/x-python",
   "name": "python",
   "nbconvert_exporter": "python",
   "pygments_lexer": "ipython3",
   "version": "3.4.2"
  }
 },
 "nbformat": 4,
 "nbformat_minor": 0
}
