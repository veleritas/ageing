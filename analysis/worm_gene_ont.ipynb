{
 "cells": [
  {
   "cell_type": "markdown",
   "metadata": {},
   "source": [
    "# Transcriptional drift of Gene Ontology groupings (full transcriptome)\n",
    "\n",
    "Tong Shu Li\n",
    "\n",
    "Initial exploration of transcriptional drift of genes grouped by Gene Ontology annotations."
   ]
  },
  {
   "cell_type": "code",
   "execution_count": 1,
   "metadata": {
    "collapsed": true
   },
   "outputs": [],
   "source": [
    "import operator\n",
    "import pandas as pd\n",
    "import sys\n",
    "\n",
    "from functools import partial\n",
    "from functools import reduce"
   ]
  },
  {
   "cell_type": "code",
   "execution_count": 2,
   "metadata": {
    "collapsed": true
   },
   "outputs": [],
   "source": [
    "%matplotlib inline"
   ]
  },
  {
   "cell_type": "code",
   "execution_count": 3,
   "metadata": {
    "collapsed": true
   },
   "outputs": [],
   "source": [
    "sys.path.append(\"..\")"
   ]
  },
  {
   "cell_type": "code",
   "execution_count": 4,
   "metadata": {
    "collapsed": false
   },
   "outputs": [],
   "source": [
    "from src.load_gene_ont import load_go\n",
    "from src.load_gene_ont import parse_go_defn\n",
    "\n",
    "from src.plots import plot_drift\n",
    "from src.plots import plot_p_val_heatmap\n",
    "\n",
    "from src.stats import p_val_pairs"
   ]
  },
  {
   "cell_type": "markdown",
   "metadata": {},
   "source": [
    "---"
   ]
  },
  {
   "cell_type": "markdown",
   "metadata": {},
   "source": [
    "## Read the data (full transcriptome)"
   ]
  },
  {
   "cell_type": "code",
   "execution_count": 5,
   "metadata": {
    "collapsed": true
   },
   "outputs": [],
   "source": [
    "data = pd.read_csv(\"../data/worms_mianserin/mean_cpm_values.tsv\", sep = '\\t')"
   ]
  },
  {
   "cell_type": "code",
   "execution_count": 6,
   "metadata": {
    "collapsed": false
   },
   "outputs": [
    {
     "data": {
      "text/plain": [
       "(230028, 12)"
      ]
     },
     "execution_count": 6,
     "metadata": {},
     "output_type": "execute_result"
    }
   ],
   "source": [
    "data.shape"
   ]
  },
  {
   "cell_type": "code",
   "execution_count": 7,
   "metadata": {
    "collapsed": false
   },
   "outputs": [
    {
     "data": {
      "text/html": [
       "<div>\n",
       "<table border=\"1\" class=\"dataframe\">\n",
       "  <thead>\n",
       "    <tr style=\"text-align: right;\">\n",
       "      <th></th>\n",
       "      <th>wormbaseid</th>\n",
       "      <th>symbol</th>\n",
       "      <th>seqname</th>\n",
       "      <th>cpm_val</th>\n",
       "      <th>sample</th>\n",
       "      <th>day_add_drug</th>\n",
       "      <th>day_harvest_rna</th>\n",
       "      <th>drug_conc_uM</th>\n",
       "      <th>drug_given</th>\n",
       "      <th>log_cpm</th>\n",
       "      <th>ref_log_cpm</th>\n",
       "      <th>drift</th>\n",
       "    </tr>\n",
       "  </thead>\n",
       "  <tbody>\n",
       "    <tr>\n",
       "      <th>0</th>\n",
       "      <td>WBGene00022521</td>\n",
       "      <td>ZC132.2</td>\n",
       "      <td>ZC132.2</td>\n",
       "      <td>0.000226</td>\n",
       "      <td>1</td>\n",
       "      <td>1</td>\n",
       "      <td>1</td>\n",
       "      <td>0</td>\n",
       "      <td>water</td>\n",
       "      <td>-8.393649</td>\n",
       "      <td>-8.393649</td>\n",
       "      <td>0.0</td>\n",
       "    </tr>\n",
       "    <tr>\n",
       "      <th>1</th>\n",
       "      <td>WBGene00019835</td>\n",
       "      <td>R02F2.6</td>\n",
       "      <td>R02F2.6</td>\n",
       "      <td>0.000228</td>\n",
       "      <td>1</td>\n",
       "      <td>1</td>\n",
       "      <td>1</td>\n",
       "      <td>0</td>\n",
       "      <td>water</td>\n",
       "      <td>-8.386604</td>\n",
       "      <td>-8.386604</td>\n",
       "      <td>0.0</td>\n",
       "    </tr>\n",
       "    <tr>\n",
       "      <th>2</th>\n",
       "      <td>WBGene00006011</td>\n",
       "      <td>srx-120</td>\n",
       "      <td>F49C5.2</td>\n",
       "      <td>0.000262</td>\n",
       "      <td>1</td>\n",
       "      <td>1</td>\n",
       "      <td>1</td>\n",
       "      <td>0</td>\n",
       "      <td>water</td>\n",
       "      <td>-8.247548</td>\n",
       "      <td>-8.247548</td>\n",
       "      <td>0.0</td>\n",
       "    </tr>\n",
       "    <tr>\n",
       "      <th>3</th>\n",
       "      <td>WBGene00022884</td>\n",
       "      <td>ZK1248.17</td>\n",
       "      <td>ZK1248.17</td>\n",
       "      <td>0.000275</td>\n",
       "      <td>1</td>\n",
       "      <td>1</td>\n",
       "      <td>1</td>\n",
       "      <td>0</td>\n",
       "      <td>water</td>\n",
       "      <td>-8.199831</td>\n",
       "      <td>-8.199831</td>\n",
       "      <td>0.0</td>\n",
       "    </tr>\n",
       "    <tr>\n",
       "      <th>4</th>\n",
       "      <td>WBGene00005435</td>\n",
       "      <td>srh-227</td>\n",
       "      <td>C35D6.2</td>\n",
       "      <td>0.000298</td>\n",
       "      <td>1</td>\n",
       "      <td>1</td>\n",
       "      <td>1</td>\n",
       "      <td>0</td>\n",
       "      <td>water</td>\n",
       "      <td>-8.116741</td>\n",
       "      <td>-8.116741</td>\n",
       "      <td>0.0</td>\n",
       "    </tr>\n",
       "  </tbody>\n",
       "</table>\n",
       "</div>"
      ],
      "text/plain": [
       "       wormbaseid     symbol    seqname   cpm_val  sample  day_add_drug  \\\n",
       "0  WBGene00022521    ZC132.2    ZC132.2  0.000226       1             1   \n",
       "1  WBGene00019835    R02F2.6    R02F2.6  0.000228       1             1   \n",
       "2  WBGene00006011    srx-120    F49C5.2  0.000262       1             1   \n",
       "3  WBGene00022884  ZK1248.17  ZK1248.17  0.000275       1             1   \n",
       "4  WBGene00005435    srh-227    C35D6.2  0.000298       1             1   \n",
       "\n",
       "   day_harvest_rna  drug_conc_uM drug_given   log_cpm  ref_log_cpm  drift  \n",
       "0                1             0      water -8.393649    -8.393649    0.0  \n",
       "1                1             0      water -8.386604    -8.386604    0.0  \n",
       "2                1             0      water -8.247548    -8.247548    0.0  \n",
       "3                1             0      water -8.199831    -8.199831    0.0  \n",
       "4                1             0      water -8.116741    -8.116741    0.0  "
      ]
     },
     "execution_count": 7,
     "metadata": {},
     "output_type": "execute_result"
    }
   ],
   "source": [
    "data.head()"
   ]
  },
  {
   "cell_type": "markdown",
   "metadata": {},
   "source": [
    "## Read the Gene Ontology data"
   ]
  },
  {
   "cell_type": "code",
   "execution_count": 8,
   "metadata": {
    "collapsed": true
   },
   "outputs": [],
   "source": [
    "floc = \"../data/gene_ontology/gene_association.wb\"\n",
    "go_data = load_go(floc)"
   ]
  },
  {
   "cell_type": "code",
   "execution_count": 9,
   "metadata": {
    "collapsed": false
   },
   "outputs": [
    {
     "data": {
      "text/html": [
       "<div>\n",
       "<table border=\"1\" class=\"dataframe\">\n",
       "  <thead>\n",
       "    <tr style=\"text-align: right;\">\n",
       "      <th></th>\n",
       "      <th>database_id</th>\n",
       "      <th>db_obj_symbol</th>\n",
       "      <th>qualifier</th>\n",
       "      <th>go_id</th>\n",
       "      <th>db_ref</th>\n",
       "      <th>evidence</th>\n",
       "      <th>with_from</th>\n",
       "      <th>aspect</th>\n",
       "      <th>db_obj_name</th>\n",
       "      <th>db_obj_syn</th>\n",
       "      <th>db_obj_type</th>\n",
       "      <th>taxon</th>\n",
       "      <th>date</th>\n",
       "      <th>assigned_by</th>\n",
       "      <th>annot_ext</th>\n",
       "      <th>gene_prod_id</th>\n",
       "    </tr>\n",
       "  </thead>\n",
       "  <tbody>\n",
       "    <tr>\n",
       "      <th>0</th>\n",
       "      <td>WBGene00000001</td>\n",
       "      <td>aap-1</td>\n",
       "      <td>NaN</td>\n",
       "      <td>GO:0005623</td>\n",
       "      <td>WB_REF:WBPaper00005614|PMID:12393910</td>\n",
       "      <td>IDA</td>\n",
       "      <td>NaN</td>\n",
       "      <td>C</td>\n",
       "      <td>NaN</td>\n",
       "      <td>Y110A7A.10</td>\n",
       "      <td>gene</td>\n",
       "      <td>taxon:6239</td>\n",
       "      <td>20060302</td>\n",
       "      <td>WB</td>\n",
       "      <td>NaN</td>\n",
       "      <td>NaN</td>\n",
       "    </tr>\n",
       "    <tr>\n",
       "      <th>1</th>\n",
       "      <td>WBGene00000001</td>\n",
       "      <td>aap-1</td>\n",
       "      <td>NaN</td>\n",
       "      <td>GO:0005942</td>\n",
       "      <td>GO_REF:0000033</td>\n",
       "      <td>IBA</td>\n",
       "      <td>PANTHER:PTN000806614</td>\n",
       "      <td>C</td>\n",
       "      <td>NaN</td>\n",
       "      <td>Y110A7A.10</td>\n",
       "      <td>gene</td>\n",
       "      <td>taxon:6239</td>\n",
       "      <td>20150227</td>\n",
       "      <td>GO_Central</td>\n",
       "      <td>NaN</td>\n",
       "      <td>NaN</td>\n",
       "    </tr>\n",
       "    <tr>\n",
       "      <th>2</th>\n",
       "      <td>WBGene00000001</td>\n",
       "      <td>aap-1</td>\n",
       "      <td>NaN</td>\n",
       "      <td>GO:0005942</td>\n",
       "      <td>GO_REF:0000002</td>\n",
       "      <td>IEA</td>\n",
       "      <td>InterPro:IPR001720</td>\n",
       "      <td>C</td>\n",
       "      <td>NaN</td>\n",
       "      <td>Y110A7A.10</td>\n",
       "      <td>gene</td>\n",
       "      <td>taxon:6239</td>\n",
       "      <td>20150826</td>\n",
       "      <td>WB</td>\n",
       "      <td>NaN</td>\n",
       "      <td>NaN</td>\n",
       "    </tr>\n",
       "    <tr>\n",
       "      <th>3</th>\n",
       "      <td>WBGene00000001</td>\n",
       "      <td>aap-1</td>\n",
       "      <td>NaN</td>\n",
       "      <td>GO:0008286</td>\n",
       "      <td>WB_REF:WBPaper00005614|PMID:12393910</td>\n",
       "      <td>IMP</td>\n",
       "      <td>NaN</td>\n",
       "      <td>P</td>\n",
       "      <td>NaN</td>\n",
       "      <td>Y110A7A.10</td>\n",
       "      <td>gene</td>\n",
       "      <td>taxon:6239</td>\n",
       "      <td>20060302</td>\n",
       "      <td>WB</td>\n",
       "      <td>NaN</td>\n",
       "      <td>NaN</td>\n",
       "    </tr>\n",
       "    <tr>\n",
       "      <th>4</th>\n",
       "      <td>WBGene00000001</td>\n",
       "      <td>aap-1</td>\n",
       "      <td>NaN</td>\n",
       "      <td>GO:0008340</td>\n",
       "      <td>WB_REF:WBPaper00005614|PMID:12393910</td>\n",
       "      <td>IMP</td>\n",
       "      <td>NaN</td>\n",
       "      <td>P</td>\n",
       "      <td>NaN</td>\n",
       "      <td>Y110A7A.10</td>\n",
       "      <td>gene</td>\n",
       "      <td>taxon:6239</td>\n",
       "      <td>20060302</td>\n",
       "      <td>WB</td>\n",
       "      <td>NaN</td>\n",
       "      <td>NaN</td>\n",
       "    </tr>\n",
       "  </tbody>\n",
       "</table>\n",
       "</div>"
      ],
      "text/plain": [
       "      database_id db_obj_symbol qualifier       go_id  \\\n",
       "0  WBGene00000001         aap-1       NaN  GO:0005623   \n",
       "1  WBGene00000001         aap-1       NaN  GO:0005942   \n",
       "2  WBGene00000001         aap-1       NaN  GO:0005942   \n",
       "3  WBGene00000001         aap-1       NaN  GO:0008286   \n",
       "4  WBGene00000001         aap-1       NaN  GO:0008340   \n",
       "\n",
       "                                 db_ref evidence             with_from aspect  \\\n",
       "0  WB_REF:WBPaper00005614|PMID:12393910      IDA                   NaN      C   \n",
       "1                        GO_REF:0000033      IBA  PANTHER:PTN000806614      C   \n",
       "2                        GO_REF:0000002      IEA    InterPro:IPR001720      C   \n",
       "3  WB_REF:WBPaper00005614|PMID:12393910      IMP                   NaN      P   \n",
       "4  WB_REF:WBPaper00005614|PMID:12393910      IMP                   NaN      P   \n",
       "\n",
       "   db_obj_name  db_obj_syn db_obj_type       taxon      date assigned_by  \\\n",
       "0          NaN  Y110A7A.10        gene  taxon:6239  20060302          WB   \n",
       "1          NaN  Y110A7A.10        gene  taxon:6239  20150227  GO_Central   \n",
       "2          NaN  Y110A7A.10        gene  taxon:6239  20150826          WB   \n",
       "3          NaN  Y110A7A.10        gene  taxon:6239  20060302          WB   \n",
       "4          NaN  Y110A7A.10        gene  taxon:6239  20060302          WB   \n",
       "\n",
       "  annot_ext  gene_prod_id  \n",
       "0       NaN           NaN  \n",
       "1       NaN           NaN  \n",
       "2       NaN           NaN  \n",
       "3       NaN           NaN  \n",
       "4       NaN           NaN  "
      ]
     },
     "execution_count": 9,
     "metadata": {},
     "output_type": "execute_result"
    }
   ],
   "source": [
    "go_data.head()"
   ]
  },
  {
   "cell_type": "markdown",
   "metadata": {},
   "source": [
    "### GO term definitions"
   ]
  },
  {
   "cell_type": "code",
   "execution_count": 10,
   "metadata": {
    "collapsed": true
   },
   "outputs": [],
   "source": [
    "go_defn = parse_go_defn(\"../data/gene_ontology/go.obo\")"
   ]
  },
  {
   "cell_type": "code",
   "execution_count": 11,
   "metadata": {
    "collapsed": false
   },
   "outputs": [
    {
     "data": {
      "text/html": [
       "<div>\n",
       "<table border=\"1\" class=\"dataframe\">\n",
       "  <thead>\n",
       "    <tr style=\"text-align: right;\">\n",
       "      <th></th>\n",
       "      <th>go_id</th>\n",
       "      <th>go_name</th>\n",
       "    </tr>\n",
       "  </thead>\n",
       "  <tbody>\n",
       "    <tr>\n",
       "      <th>0</th>\n",
       "      <td>GO:0000001</td>\n",
       "      <td>mitochondrion inheritance</td>\n",
       "    </tr>\n",
       "    <tr>\n",
       "      <th>1</th>\n",
       "      <td>GO:0000002</td>\n",
       "      <td>mitochondrial genome maintenance</td>\n",
       "    </tr>\n",
       "    <tr>\n",
       "      <th>2</th>\n",
       "      <td>GO:0000003</td>\n",
       "      <td>reproduction</td>\n",
       "    </tr>\n",
       "    <tr>\n",
       "      <th>3</th>\n",
       "      <td>GO:0000005</td>\n",
       "      <td>obsolete ribosomal chaperone activity</td>\n",
       "    </tr>\n",
       "    <tr>\n",
       "      <th>4</th>\n",
       "      <td>GO:0000006</td>\n",
       "      <td>high-affinity zinc uptake transmembrane transp...</td>\n",
       "    </tr>\n",
       "  </tbody>\n",
       "</table>\n",
       "</div>"
      ],
      "text/plain": [
       "        go_id                                            go_name\n",
       "0  GO:0000001                          mitochondrion inheritance\n",
       "1  GO:0000002                   mitochondrial genome maintenance\n",
       "2  GO:0000003                                       reproduction\n",
       "3  GO:0000005              obsolete ribosomal chaperone activity\n",
       "4  GO:0000006  high-affinity zinc uptake transmembrane transp..."
      ]
     },
     "execution_count": 11,
     "metadata": {},
     "output_type": "execute_result"
    }
   ],
   "source": [
    "go_defn.head()"
   ]
  },
  {
   "cell_type": "code",
   "execution_count": 12,
   "metadata": {
    "collapsed": false
   },
   "outputs": [
    {
     "data": {
      "text/plain": [
       "5123"
      ]
     },
     "execution_count": 12,
     "metadata": {},
     "output_type": "execute_result"
    }
   ],
   "source": [
    "go_data[\"go_id\"].nunique()"
   ]
  },
  {
   "cell_type": "code",
   "execution_count": 13,
   "metadata": {
    "collapsed": false
   },
   "outputs": [
    {
     "data": {
      "text/plain": [
       "44471"
      ]
     },
     "execution_count": 13,
     "metadata": {},
     "output_type": "execute_result"
    }
   ],
   "source": [
    "go_defn[\"go_id\"].nunique()"
   ]
  },
  {
   "cell_type": "code",
   "execution_count": 14,
   "metadata": {
    "collapsed": false
   },
   "outputs": [
    {
     "data": {
      "text/plain": [
       "12524"
      ]
     },
     "execution_count": 14,
     "metadata": {},
     "output_type": "execute_result"
    }
   ],
   "source": [
    "go_data[\"database_id\"].nunique()"
   ]
  },
  {
   "cell_type": "code",
   "execution_count": 15,
   "metadata": {
    "collapsed": false
   },
   "outputs": [
    {
     "data": {
      "text/plain": [
       "11624"
      ]
     },
     "execution_count": 15,
     "metadata": {},
     "output_type": "execute_result"
    }
   ],
   "source": [
    "len(set(data[\"wormbaseid\"]) & set(go_data[\"database_id\"]))"
   ]
  },
  {
   "cell_type": "markdown",
   "metadata": {},
   "source": [
    "---"
   ]
  },
  {
   "cell_type": "markdown",
   "metadata": {},
   "source": [
    "## Group genes together by GO term"
   ]
  },
  {
   "cell_type": "code",
   "execution_count": 16,
   "metadata": {
    "collapsed": true
   },
   "outputs": [],
   "source": [
    "# save the gene names for each GO term\n",
    "go_groups = {\n",
    "    go_term: set(df[\"database_id\"])\n",
    "    for go_term, df in go_data.groupby(\"go_id\")\n",
    "}"
   ]
  },
  {
   "cell_type": "code",
   "execution_count": 17,
   "metadata": {
    "collapsed": true
   },
   "outputs": [],
   "source": [
    "def filter_go(go_terms, go_groups, dataframe):\n",
    "    \"\"\"Filters a dataframe down to genes belonging to the listed GO terms.\"\"\"\n",
    "    genes = reduce(operator.or_, (go_groups[term] for term in go_terms))\n",
    "    \n",
    "    temp = pd.DataFrame({\"wormbaseid\": list(genes)})\n",
    "    return pd.merge(temp, dataframe, how = \"inner\", on = \"wormbaseid\")"
   ]
  },
  {
   "cell_type": "markdown",
   "metadata": {},
   "source": [
    "---\n",
    "\n",
    "# Hypothesis testing"
   ]
  },
  {
   "cell_type": "code",
   "execution_count": 18,
   "metadata": {
    "collapsed": true
   },
   "outputs": [],
   "source": [
    "info = pd.DataFrame(\n",
    "    [(go_term, len(genes)) for go_term, genes in go_groups.items()],\n",
    "    columns = [\"go_id\", \"num_genes\"]\n",
    ")\n",
    "\n",
    "info = pd.merge(info, go_defn, how = \"inner\", on = \"go_id\")"
   ]
  },
  {
   "cell_type": "code",
   "execution_count": 19,
   "metadata": {
    "collapsed": true
   },
   "outputs": [],
   "source": [
    "good_genes = set(data[\"wormbaseid\"])\n",
    "\n",
    "info[\"num_in_data\"] = info.loc[:, \"go_id\"].map(\n",
    "    lambda v: len(good_genes & go_groups[v])\n",
    ")\n",
    "\n",
    "info = info.sort_values(\"num_in_data\", ascending = False).reset_index(drop = True)"
   ]
  },
  {
   "cell_type": "code",
   "execution_count": 20,
   "metadata": {
    "collapsed": false
   },
   "outputs": [
    {
     "data": {
      "text/html": [
       "<div>\n",
       "<table border=\"1\" class=\"dataframe\">\n",
       "  <thead>\n",
       "    <tr style=\"text-align: right;\">\n",
       "      <th></th>\n",
       "      <th>go_id</th>\n",
       "      <th>num_genes</th>\n",
       "      <th>go_name</th>\n",
       "      <th>num_in_data</th>\n",
       "    </tr>\n",
       "  </thead>\n",
       "  <tbody>\n",
       "    <tr>\n",
       "      <th>0</th>\n",
       "      <td>GO:0009792</td>\n",
       "      <td>3189</td>\n",
       "      <td>embryo development ending in birth or egg hatc...</td>\n",
       "      <td>3008</td>\n",
       "    </tr>\n",
       "    <tr>\n",
       "      <th>1</th>\n",
       "      <td>GO:0000003</td>\n",
       "      <td>2303</td>\n",
       "      <td>reproduction</td>\n",
       "      <td>2148</td>\n",
       "    </tr>\n",
       "    <tr>\n",
       "      <th>2</th>\n",
       "      <td>GO:0016021</td>\n",
       "      <td>2024</td>\n",
       "      <td>integral component of membrane</td>\n",
       "      <td>1956</td>\n",
       "    </tr>\n",
       "    <tr>\n",
       "      <th>3</th>\n",
       "      <td>GO:0002119</td>\n",
       "      <td>2022</td>\n",
       "      <td>nematode larval development</td>\n",
       "      <td>1913</td>\n",
       "    </tr>\n",
       "    <tr>\n",
       "      <th>4</th>\n",
       "      <td>GO:0016020</td>\n",
       "      <td>1877</td>\n",
       "      <td>membrane</td>\n",
       "      <td>1826</td>\n",
       "    </tr>\n",
       "  </tbody>\n",
       "</table>\n",
       "</div>"
      ],
      "text/plain": [
       "        go_id  num_genes                                            go_name  \\\n",
       "0  GO:0009792       3189  embryo development ending in birth or egg hatc...   \n",
       "1  GO:0000003       2303                                       reproduction   \n",
       "2  GO:0016021       2024                     integral component of membrane   \n",
       "3  GO:0002119       2022                        nematode larval development   \n",
       "4  GO:0016020       1877                                           membrane   \n",
       "\n",
       "   num_in_data  \n",
       "0         3008  \n",
       "1         2148  \n",
       "2         1956  \n",
       "3         1913  \n",
       "4         1826  "
      ]
     },
     "execution_count": 20,
     "metadata": {},
     "output_type": "execute_result"
    }
   ],
   "source": [
    "info.head()"
   ]
  },
  {
   "cell_type": "code",
   "execution_count": 21,
   "metadata": {
    "collapsed": false
   },
   "outputs": [
    {
     "data": {
      "text/plain": [
       "4703"
      ]
     },
     "execution_count": 21,
     "metadata": {},
     "output_type": "execute_result"
    }
   ],
   "source": [
    "(info[\"num_genes\"] == info[\"num_in_data\"]).sum()"
   ]
  },
  {
   "cell_type": "code",
   "execution_count": 22,
   "metadata": {
    "collapsed": false
   },
   "outputs": [
    {
     "data": {
      "text/plain": [
       "897"
      ]
     },
     "execution_count": 22,
     "metadata": {},
     "output_type": "execute_result"
    }
   ],
   "source": [
    "(10 <= info[\"num_in_data\"]).sum()"
   ]
  },
  {
   "cell_type": "markdown",
   "metadata": {},
   "source": [
    "Around 900 GO terms in the worm dataset have more than 10 genes in our dataset. Since the drift only makes sense for a group of genes, we will need to filter out GO terms which have only a few genes annotated.\n",
    "\n",
    "Also consider the ontology tree later.."
   ]
  },
  {
   "cell_type": "code",
   "execution_count": 23,
   "metadata": {
    "collapsed": true
   },
   "outputs": [],
   "source": [
    "poss = info.query(\"num_in_data >= 10\")"
   ]
  },
  {
   "cell_type": "code",
   "execution_count": 24,
   "metadata": {
    "collapsed": false
   },
   "outputs": [
    {
     "data": {
      "text/html": [
       "<div>\n",
       "<table border=\"1\" class=\"dataframe\">\n",
       "  <thead>\n",
       "    <tr style=\"text-align: right;\">\n",
       "      <th></th>\n",
       "      <th>go_id</th>\n",
       "      <th>num_genes</th>\n",
       "      <th>go_name</th>\n",
       "      <th>num_in_data</th>\n",
       "    </tr>\n",
       "  </thead>\n",
       "  <tbody>\n",
       "    <tr>\n",
       "      <th>0</th>\n",
       "      <td>GO:0009792</td>\n",
       "      <td>3189</td>\n",
       "      <td>embryo development ending in birth or egg hatc...</td>\n",
       "      <td>3008</td>\n",
       "    </tr>\n",
       "    <tr>\n",
       "      <th>1</th>\n",
       "      <td>GO:0000003</td>\n",
       "      <td>2303</td>\n",
       "      <td>reproduction</td>\n",
       "      <td>2148</td>\n",
       "    </tr>\n",
       "    <tr>\n",
       "      <th>2</th>\n",
       "      <td>GO:0016021</td>\n",
       "      <td>2024</td>\n",
       "      <td>integral component of membrane</td>\n",
       "      <td>1956</td>\n",
       "    </tr>\n",
       "    <tr>\n",
       "      <th>3</th>\n",
       "      <td>GO:0002119</td>\n",
       "      <td>2022</td>\n",
       "      <td>nematode larval development</td>\n",
       "      <td>1913</td>\n",
       "    </tr>\n",
       "    <tr>\n",
       "      <th>4</th>\n",
       "      <td>GO:0016020</td>\n",
       "      <td>1877</td>\n",
       "      <td>membrane</td>\n",
       "      <td>1826</td>\n",
       "    </tr>\n",
       "  </tbody>\n",
       "</table>\n",
       "</div>"
      ],
      "text/plain": [
       "        go_id  num_genes                                            go_name  \\\n",
       "0  GO:0009792       3189  embryo development ending in birth or egg hatc...   \n",
       "1  GO:0000003       2303                                       reproduction   \n",
       "2  GO:0016021       2024                     integral component of membrane   \n",
       "3  GO:0002119       2022                        nematode larval development   \n",
       "4  GO:0016020       1877                                           membrane   \n",
       "\n",
       "   num_in_data  \n",
       "0         3008  \n",
       "1         2148  \n",
       "2         1956  \n",
       "3         1913  \n",
       "4         1826  "
      ]
     },
     "execution_count": 24,
     "metadata": {},
     "output_type": "execute_result"
    }
   ],
   "source": [
    "poss.head()"
   ]
  },
  {
   "cell_type": "markdown",
   "metadata": {},
   "source": [
    "---"
   ]
  },
  {
   "cell_type": "markdown",
   "metadata": {},
   "source": [
    "## Significance checking function"
   ]
  },
  {
   "cell_type": "code",
   "execution_count": 25,
   "metadata": {
    "collapsed": true
   },
   "outputs": [],
   "source": [
    "def signif(go_term, df, go_groups, groupby, drift_col, conditions):\n",
    "    \"\"\"Check for significant drift.\n",
    "    \n",
    "    For a subset of genes specified by the GO term, calculates the\n",
    "    p-values when grouped together by the groupby. Then checks that\n",
    "    all p values of the condition pairs are below the significance\n",
    "    threshold.\n",
    "    \n",
    "    Conditions = dict(key: direction)\n",
    "    where key = pair of groups, direction = boolean of whether the variance\n",
    "    of the left group is larger\n",
    "    \"\"\"\n",
    "    res = filter_go([go_term], go_groups, df)\n",
    "    \n",
    "    p_vals = p_val_pairs(res, groupby, drift_col)\n",
    "    \n",
    "    threshold = 0.05\n",
    "    for pair in conditions:\n",
    "        assert pair in p_vals, \"{} not in p-val pairs\".format(pair)\n",
    "        \n",
    "    return all(\n",
    "        p_vals[i][0] < threshold and p_vals[i][1] == direction\n",
    "        for i, direction in conditions.items()\n",
    "    )"
   ]
  },
  {
   "cell_type": "markdown",
   "metadata": {},
   "source": [
    "## Drift in water\n",
    "\n",
    "Drift in water on day 10 is greater than drift on day 3."
   ]
  },
  {
   "cell_type": "code",
   "execution_count": 26,
   "metadata": {
    "collapsed": true
   },
   "outputs": [],
   "source": [
    "water = data.query(\"drug_given == 'water' & day_harvest_rna > 1\")\n",
    "\n",
    "water_310 = partial(\n",
    "    signif, df = water, go_groups = go_groups, groupby = \"day_harvest_rna\",\n",
    "    drift_col = \"drift\",\n",
    "    conditions = {(3, 10): False}\n",
    ")"
   ]
  },
  {
   "cell_type": "code",
   "execution_count": 27,
   "metadata": {
    "collapsed": false
   },
   "outputs": [
    {
     "name": "stderr",
     "output_type": "stream",
     "text": [
      "/home/toby/Research/Projects/ageing/venv/lib64/python3.4/site-packages/ipykernel/__main__.py:1: SettingWithCopyWarning: \n",
      "A value is trying to be set on a copy of a slice from a DataFrame.\n",
      "Try using .loc[row_indexer,col_indexer] = value instead\n",
      "\n",
      "See the caveats in the documentation: http://pandas.pydata.org/pandas-docs/stable/indexing.html#indexing-view-versus-copy\n",
      "  if __name__ == '__main__':\n"
     ]
    }
   ],
   "source": [
    "poss[\"water_310\"] = poss[\"go_id\"].map(water_310)"
   ]
  },
  {
   "cell_type": "code",
   "execution_count": 28,
   "metadata": {
    "collapsed": false
   },
   "outputs": [
    {
     "data": {
      "text/plain": [
       "False    754\n",
       "True     143\n",
       "Name: water_310, dtype: int64"
      ]
     },
     "execution_count": 28,
     "metadata": {},
     "output_type": "execute_result"
    }
   ],
   "source": [
    "poss[\"water_310\"].value_counts()"
   ]
  },
  {
   "cell_type": "markdown",
   "metadata": {},
   "source": [
    "---\n",
    "\n",
    "## Drift on day 10: reduced in mianserin compared to water"
   ]
  },
  {
   "cell_type": "code",
   "execution_count": 29,
   "metadata": {
    "collapsed": true
   },
   "outputs": [],
   "source": [
    "mian_10 = partial(\n",
    "    signif,\n",
    "    df = data.query(\"day_add_drug == 1 & drug_conc_uM in(0, 50)\"),\n",
    "    go_groups = go_groups, groupby = [\"drug_given\", \"day_harvest_rna\"],\n",
    "    drift_col = \"drift\",\n",
    "    conditions = {\n",
    "        (('mianserin', 10), ('water', 10)): False\n",
    "    }\n",
    ")"
   ]
  },
  {
   "cell_type": "code",
   "execution_count": 30,
   "metadata": {
    "collapsed": false
   },
   "outputs": [
    {
     "name": "stderr",
     "output_type": "stream",
     "text": [
      "/home/toby/Research/Projects/ageing/venv/lib64/python3.4/site-packages/ipykernel/__main__.py:1: SettingWithCopyWarning: \n",
      "A value is trying to be set on a copy of a slice from a DataFrame.\n",
      "Try using .loc[row_indexer,col_indexer] = value instead\n",
      "\n",
      "See the caveats in the documentation: http://pandas.pydata.org/pandas-docs/stable/indexing.html#indexing-view-versus-copy\n",
      "  if __name__ == '__main__':\n"
     ]
    }
   ],
   "source": [
    "poss[\"mian_water_10\"] = poss[\"go_id\"].map(mian_10)"
   ]
  },
  {
   "cell_type": "code",
   "execution_count": 31,
   "metadata": {
    "collapsed": false
   },
   "outputs": [
    {
     "data": {
      "text/plain": [
       "False    718\n",
       "True     179\n",
       "Name: mian_water_10, dtype: int64"
      ]
     },
     "execution_count": 31,
     "metadata": {},
     "output_type": "execute_result"
    }
   ],
   "source": [
    "poss[\"mian_water_10\"].value_counts()"
   ]
  },
  {
   "cell_type": "markdown",
   "metadata": {},
   "source": [
    "## Results"
   ]
  },
  {
   "cell_type": "code",
   "execution_count": 32,
   "metadata": {
    "collapsed": false
   },
   "outputs": [
    {
     "data": {
      "text/plain": [
       "water_310  mian_water_10\n",
       "False      False            668\n",
       "           True              86\n",
       "True       False             50\n",
       "           True              93\n",
       "dtype: int64"
      ]
     },
     "execution_count": 32,
     "metadata": {},
     "output_type": "execute_result"
    }
   ],
   "source": [
    "poss.groupby([\"water_310\", \"mian_water_10\"]).size()"
   ]
  },
  {
   "cell_type": "markdown",
   "metadata": {},
   "source": [
    "In the full transcriptome, 93 GO terms (with >= 10 genes) had significant drift:\n",
    "1. Greater drift on day 10 in water compared to day 3.\n",
    "2. Smaller drift on day 10 in mianserin compared to water."
   ]
  },
  {
   "cell_type": "markdown",
   "metadata": {},
   "source": [
    "## Check results:"
   ]
  },
  {
   "cell_type": "code",
   "execution_count": 33,
   "metadata": {
    "collapsed": false,
    "scrolled": true
   },
   "outputs": [
    {
     "data": {
      "text/html": [
       "<div>\n",
       "<table border=\"1\" class=\"dataframe\">\n",
       "  <thead>\n",
       "    <tr style=\"text-align: right;\">\n",
       "      <th></th>\n",
       "      <th>go_id</th>\n",
       "      <th>num_genes</th>\n",
       "      <th>go_name</th>\n",
       "      <th>num_in_data</th>\n",
       "      <th>water_310</th>\n",
       "      <th>mian_water_10</th>\n",
       "    </tr>\n",
       "  </thead>\n",
       "  <tbody>\n",
       "    <tr>\n",
       "      <th>0</th>\n",
       "      <td>GO:0009792</td>\n",
       "      <td>3189</td>\n",
       "      <td>embryo development ending in birth or egg hatc...</td>\n",
       "      <td>3008</td>\n",
       "      <td>True</td>\n",
       "      <td>True</td>\n",
       "    </tr>\n",
       "    <tr>\n",
       "      <th>1</th>\n",
       "      <td>GO:0000003</td>\n",
       "      <td>2303</td>\n",
       "      <td>reproduction</td>\n",
       "      <td>2148</td>\n",
       "      <td>True</td>\n",
       "      <td>True</td>\n",
       "    </tr>\n",
       "    <tr>\n",
       "      <th>2</th>\n",
       "      <td>GO:0016021</td>\n",
       "      <td>2024</td>\n",
       "      <td>integral component of membrane</td>\n",
       "      <td>1956</td>\n",
       "      <td>True</td>\n",
       "      <td>True</td>\n",
       "    </tr>\n",
       "    <tr>\n",
       "      <th>3</th>\n",
       "      <td>GO:0002119</td>\n",
       "      <td>2022</td>\n",
       "      <td>nematode larval development</td>\n",
       "      <td>1913</td>\n",
       "      <td>True</td>\n",
       "      <td>True</td>\n",
       "    </tr>\n",
       "    <tr>\n",
       "      <th>4</th>\n",
       "      <td>GO:0016020</td>\n",
       "      <td>1877</td>\n",
       "      <td>membrane</td>\n",
       "      <td>1826</td>\n",
       "      <td>True</td>\n",
       "      <td>True</td>\n",
       "    </tr>\n",
       "    <tr>\n",
       "      <th>5</th>\n",
       "      <td>GO:0005634</td>\n",
       "      <td>1607</td>\n",
       "      <td>nucleus</td>\n",
       "      <td>1581</td>\n",
       "      <td>True</td>\n",
       "      <td>True</td>\n",
       "    </tr>\n",
       "    <tr>\n",
       "      <th>6</th>\n",
       "      <td>GO:0005737</td>\n",
       "      <td>1412</td>\n",
       "      <td>cytoplasm</td>\n",
       "      <td>1401</td>\n",
       "      <td>True</td>\n",
       "      <td>True</td>\n",
       "    </tr>\n",
       "    <tr>\n",
       "      <th>7</th>\n",
       "      <td>GO:0040011</td>\n",
       "      <td>1427</td>\n",
       "      <td>locomotion</td>\n",
       "      <td>1344</td>\n",
       "      <td>True</td>\n",
       "      <td>True</td>\n",
       "    </tr>\n",
       "    <tr>\n",
       "      <th>8</th>\n",
       "      <td>GO:0046872</td>\n",
       "      <td>1357</td>\n",
       "      <td>metal ion binding</td>\n",
       "      <td>1333</td>\n",
       "      <td>True</td>\n",
       "      <td>True</td>\n",
       "    </tr>\n",
       "    <tr>\n",
       "      <th>9</th>\n",
       "      <td>GO:0008152</td>\n",
       "      <td>1114</td>\n",
       "      <td>metabolic process</td>\n",
       "      <td>1096</td>\n",
       "      <td>True</td>\n",
       "      <td>True</td>\n",
       "    </tr>\n",
       "    <tr>\n",
       "      <th>10</th>\n",
       "      <td>GO:0000166</td>\n",
       "      <td>1041</td>\n",
       "      <td>nucleotide binding</td>\n",
       "      <td>1036</td>\n",
       "      <td>True</td>\n",
       "      <td>True</td>\n",
       "    </tr>\n",
       "    <tr>\n",
       "      <th>11</th>\n",
       "      <td>GO:0005515</td>\n",
       "      <td>924</td>\n",
       "      <td>protein binding</td>\n",
       "      <td>922</td>\n",
       "      <td>True</td>\n",
       "      <td>True</td>\n",
       "    </tr>\n",
       "    <tr>\n",
       "      <th>12</th>\n",
       "      <td>GO:0005524</td>\n",
       "      <td>903</td>\n",
       "      <td>ATP binding</td>\n",
       "      <td>896</td>\n",
       "      <td>True</td>\n",
       "      <td>True</td>\n",
       "    </tr>\n",
       "    <tr>\n",
       "      <th>13</th>\n",
       "      <td>GO:0008340</td>\n",
       "      <td>912</td>\n",
       "      <td>determination of adult lifespan</td>\n",
       "      <td>857</td>\n",
       "      <td>True</td>\n",
       "      <td>True</td>\n",
       "    </tr>\n",
       "    <tr>\n",
       "      <th>14</th>\n",
       "      <td>GO:0006810</td>\n",
       "      <td>797</td>\n",
       "      <td>transport</td>\n",
       "      <td>791</td>\n",
       "      <td>True</td>\n",
       "      <td>True</td>\n",
       "    </tr>\n",
       "    <tr>\n",
       "      <th>15</th>\n",
       "      <td>GO:0003677</td>\n",
       "      <td>789</td>\n",
       "      <td>DNA binding</td>\n",
       "      <td>767</td>\n",
       "      <td>True</td>\n",
       "      <td>True</td>\n",
       "    </tr>\n",
       "    <tr>\n",
       "      <th>16</th>\n",
       "      <td>GO:0016787</td>\n",
       "      <td>757</td>\n",
       "      <td>hydrolase activity</td>\n",
       "      <td>750</td>\n",
       "      <td>True</td>\n",
       "      <td>True</td>\n",
       "    </tr>\n",
       "    <tr>\n",
       "      <th>17</th>\n",
       "      <td>GO:0008270</td>\n",
       "      <td>756</td>\n",
       "      <td>zinc ion binding</td>\n",
       "      <td>730</td>\n",
       "      <td>True</td>\n",
       "      <td>True</td>\n",
       "    </tr>\n",
       "    <tr>\n",
       "      <th>18</th>\n",
       "      <td>GO:0040035</td>\n",
       "      <td>750</td>\n",
       "      <td>hermaphrodite genitalia development</td>\n",
       "      <td>724</td>\n",
       "      <td>True</td>\n",
       "      <td>True</td>\n",
       "    </tr>\n",
       "    <tr>\n",
       "      <th>19</th>\n",
       "      <td>GO:0006898</td>\n",
       "      <td>730</td>\n",
       "      <td>receptor-mediated endocytosis</td>\n",
       "      <td>711</td>\n",
       "      <td>True</td>\n",
       "      <td>True</td>\n",
       "    </tr>\n",
       "    <tr>\n",
       "      <th>20</th>\n",
       "      <td>GO:0005887</td>\n",
       "      <td>821</td>\n",
       "      <td>integral component of plasma membrane</td>\n",
       "      <td>700</td>\n",
       "      <td>True</td>\n",
       "      <td>True</td>\n",
       "    </tr>\n",
       "    <tr>\n",
       "      <th>21</th>\n",
       "      <td>GO:0006355</td>\n",
       "      <td>696</td>\n",
       "      <td>regulation of transcription, DNA-templated</td>\n",
       "      <td>673</td>\n",
       "      <td>True</td>\n",
       "      <td>True</td>\n",
       "    </tr>\n",
       "    <tr>\n",
       "      <th>22</th>\n",
       "      <td>GO:0016740</td>\n",
       "      <td>624</td>\n",
       "      <td>transferase activity</td>\n",
       "      <td>618</td>\n",
       "      <td>True</td>\n",
       "      <td>True</td>\n",
       "    </tr>\n",
       "    <tr>\n",
       "      <th>23</th>\n",
       "      <td>GO:0010171</td>\n",
       "      <td>617</td>\n",
       "      <td>body morphogenesis</td>\n",
       "      <td>591</td>\n",
       "      <td>True</td>\n",
       "      <td>True</td>\n",
       "    </tr>\n",
       "    <tr>\n",
       "      <th>24</th>\n",
       "      <td>GO:0019915</td>\n",
       "      <td>647</td>\n",
       "      <td>lipid storage</td>\n",
       "      <td>576</td>\n",
       "      <td>True</td>\n",
       "      <td>True</td>\n",
       "    </tr>\n",
       "    <tr>\n",
       "      <th>25</th>\n",
       "      <td>GO:0007186</td>\n",
       "      <td>685</td>\n",
       "      <td>G-protein coupled receptor signaling pathway</td>\n",
       "      <td>559</td>\n",
       "      <td>True</td>\n",
       "      <td>True</td>\n",
       "    </tr>\n",
       "    <tr>\n",
       "      <th>26</th>\n",
       "      <td>GO:0006351</td>\n",
       "      <td>567</td>\n",
       "      <td>transcription, DNA-templated</td>\n",
       "      <td>550</td>\n",
       "      <td>True</td>\n",
       "      <td>True</td>\n",
       "    </tr>\n",
       "    <tr>\n",
       "      <th>28</th>\n",
       "      <td>GO:0005886</td>\n",
       "      <td>515</td>\n",
       "      <td>plasma membrane</td>\n",
       "      <td>515</td>\n",
       "      <td>True</td>\n",
       "      <td>True</td>\n",
       "    </tr>\n",
       "    <tr>\n",
       "      <th>29</th>\n",
       "      <td>GO:0007165</td>\n",
       "      <td>515</td>\n",
       "      <td>signal transduction</td>\n",
       "      <td>496</td>\n",
       "      <td>True</td>\n",
       "      <td>True</td>\n",
       "    </tr>\n",
       "    <tr>\n",
       "      <th>30</th>\n",
       "      <td>GO:0006915</td>\n",
       "      <td>478</td>\n",
       "      <td>apoptotic process</td>\n",
       "      <td>466</td>\n",
       "      <td>True</td>\n",
       "      <td>True</td>\n",
       "    </tr>\n",
       "    <tr>\n",
       "      <th>...</th>\n",
       "      <td>...</td>\n",
       "      <td>...</td>\n",
       "      <td>...</td>\n",
       "      <td>...</td>\n",
       "      <td>...</td>\n",
       "      <td>...</td>\n",
       "    </tr>\n",
       "    <tr>\n",
       "      <th>164</th>\n",
       "      <td>GO:0008168</td>\n",
       "      <td>79</td>\n",
       "      <td>methyltransferase activity</td>\n",
       "      <td>77</td>\n",
       "      <td>True</td>\n",
       "      <td>True</td>\n",
       "    </tr>\n",
       "    <tr>\n",
       "      <th>167</th>\n",
       "      <td>GO:0032940</td>\n",
       "      <td>76</td>\n",
       "      <td>secretion by cell</td>\n",
       "      <td>75</td>\n",
       "      <td>True</td>\n",
       "      <td>True</td>\n",
       "    </tr>\n",
       "    <tr>\n",
       "      <th>170</th>\n",
       "      <td>GO:0016192</td>\n",
       "      <td>73</td>\n",
       "      <td>vesicle-mediated transport</td>\n",
       "      <td>73</td>\n",
       "      <td>True</td>\n",
       "      <td>True</td>\n",
       "    </tr>\n",
       "    <tr>\n",
       "      <th>173</th>\n",
       "      <td>GO:0006397</td>\n",
       "      <td>71</td>\n",
       "      <td>mRNA processing</td>\n",
       "      <td>71</td>\n",
       "      <td>True</td>\n",
       "      <td>True</td>\n",
       "    </tr>\n",
       "    <tr>\n",
       "      <th>185</th>\n",
       "      <td>GO:0007052</td>\n",
       "      <td>66</td>\n",
       "      <td>mitotic spindle organization</td>\n",
       "      <td>65</td>\n",
       "      <td>True</td>\n",
       "      <td>True</td>\n",
       "    </tr>\n",
       "    <tr>\n",
       "      <th>217</th>\n",
       "      <td>GO:0005813</td>\n",
       "      <td>55</td>\n",
       "      <td>centrosome</td>\n",
       "      <td>55</td>\n",
       "      <td>True</td>\n",
       "      <td>True</td>\n",
       "    </tr>\n",
       "    <tr>\n",
       "      <th>241</th>\n",
       "      <td>GO:0007283</td>\n",
       "      <td>50</td>\n",
       "      <td>spermatogenesis</td>\n",
       "      <td>48</td>\n",
       "      <td>True</td>\n",
       "      <td>True</td>\n",
       "    </tr>\n",
       "    <tr>\n",
       "      <th>250</th>\n",
       "      <td>GO:0006935</td>\n",
       "      <td>47</td>\n",
       "      <td>chemotaxis</td>\n",
       "      <td>47</td>\n",
       "      <td>True</td>\n",
       "      <td>True</td>\n",
       "    </tr>\n",
       "    <tr>\n",
       "      <th>252</th>\n",
       "      <td>GO:0019901</td>\n",
       "      <td>46</td>\n",
       "      <td>protein kinase binding</td>\n",
       "      <td>46</td>\n",
       "      <td>True</td>\n",
       "      <td>True</td>\n",
       "    </tr>\n",
       "    <tr>\n",
       "      <th>255</th>\n",
       "      <td>GO:0006396</td>\n",
       "      <td>46</td>\n",
       "      <td>RNA processing</td>\n",
       "      <td>46</td>\n",
       "      <td>True</td>\n",
       "      <td>True</td>\n",
       "    </tr>\n",
       "    <tr>\n",
       "      <th>270</th>\n",
       "      <td>GO:0016779</td>\n",
       "      <td>42</td>\n",
       "      <td>nucleotidyltransferase activity</td>\n",
       "      <td>42</td>\n",
       "      <td>True</td>\n",
       "      <td>True</td>\n",
       "    </tr>\n",
       "    <tr>\n",
       "      <th>282</th>\n",
       "      <td>GO:0005635</td>\n",
       "      <td>40</td>\n",
       "      <td>nuclear envelope</td>\n",
       "      <td>40</td>\n",
       "      <td>True</td>\n",
       "      <td>True</td>\n",
       "    </tr>\n",
       "    <tr>\n",
       "      <th>289</th>\n",
       "      <td>GO:0016055</td>\n",
       "      <td>39</td>\n",
       "      <td>Wnt signaling pathway</td>\n",
       "      <td>39</td>\n",
       "      <td>True</td>\n",
       "      <td>True</td>\n",
       "    </tr>\n",
       "    <tr>\n",
       "      <th>338</th>\n",
       "      <td>GO:0006665</td>\n",
       "      <td>33</td>\n",
       "      <td>sphingolipid metabolic process</td>\n",
       "      <td>33</td>\n",
       "      <td>True</td>\n",
       "      <td>True</td>\n",
       "    </tr>\n",
       "    <tr>\n",
       "      <th>339</th>\n",
       "      <td>GO:0005681</td>\n",
       "      <td>34</td>\n",
       "      <td>spliceosomal complex</td>\n",
       "      <td>33</td>\n",
       "      <td>True</td>\n",
       "      <td>True</td>\n",
       "    </tr>\n",
       "    <tr>\n",
       "      <th>359</th>\n",
       "      <td>GO:0003333</td>\n",
       "      <td>30</td>\n",
       "      <td>amino acid transmembrane transport</td>\n",
       "      <td>30</td>\n",
       "      <td>True</td>\n",
       "      <td>True</td>\n",
       "    </tr>\n",
       "    <tr>\n",
       "      <th>367</th>\n",
       "      <td>GO:0008236</td>\n",
       "      <td>30</td>\n",
       "      <td>serine-type peptidase activity</td>\n",
       "      <td>30</td>\n",
       "      <td>True</td>\n",
       "      <td>True</td>\n",
       "    </tr>\n",
       "    <tr>\n",
       "      <th>371</th>\n",
       "      <td>GO:0006997</td>\n",
       "      <td>30</td>\n",
       "      <td>nucleus organization</td>\n",
       "      <td>29</td>\n",
       "      <td>True</td>\n",
       "      <td>True</td>\n",
       "    </tr>\n",
       "    <tr>\n",
       "      <th>374</th>\n",
       "      <td>GO:0015171</td>\n",
       "      <td>29</td>\n",
       "      <td>amino acid transmembrane transporter activity</td>\n",
       "      <td>29</td>\n",
       "      <td>True</td>\n",
       "      <td>True</td>\n",
       "    </tr>\n",
       "    <tr>\n",
       "      <th>420</th>\n",
       "      <td>GO:0034606</td>\n",
       "      <td>26</td>\n",
       "      <td>response to hermaphrodite contact</td>\n",
       "      <td>25</td>\n",
       "      <td>True</td>\n",
       "      <td>True</td>\n",
       "    </tr>\n",
       "    <tr>\n",
       "      <th>428</th>\n",
       "      <td>GO:0005643</td>\n",
       "      <td>25</td>\n",
       "      <td>nuclear pore</td>\n",
       "      <td>25</td>\n",
       "      <td>True</td>\n",
       "      <td>True</td>\n",
       "    </tr>\n",
       "    <tr>\n",
       "      <th>435</th>\n",
       "      <td>GO:0070469</td>\n",
       "      <td>24</td>\n",
       "      <td>respiratory chain</td>\n",
       "      <td>24</td>\n",
       "      <td>True</td>\n",
       "      <td>True</td>\n",
       "    </tr>\n",
       "    <tr>\n",
       "      <th>443</th>\n",
       "      <td>GO:0019905</td>\n",
       "      <td>25</td>\n",
       "      <td>syntaxin binding</td>\n",
       "      <td>24</td>\n",
       "      <td>True</td>\n",
       "      <td>True</td>\n",
       "    </tr>\n",
       "    <tr>\n",
       "      <th>506</th>\n",
       "      <td>GO:0008137</td>\n",
       "      <td>20</td>\n",
       "      <td>NADH dehydrogenase (ubiquinone) activity</td>\n",
       "      <td>20</td>\n",
       "      <td>True</td>\n",
       "      <td>True</td>\n",
       "    </tr>\n",
       "    <tr>\n",
       "      <th>520</th>\n",
       "      <td>GO:0030276</td>\n",
       "      <td>19</td>\n",
       "      <td>clathrin binding</td>\n",
       "      <td>19</td>\n",
       "      <td>True</td>\n",
       "      <td>True</td>\n",
       "    </tr>\n",
       "    <tr>\n",
       "      <th>523</th>\n",
       "      <td>GO:0006289</td>\n",
       "      <td>19</td>\n",
       "      <td>nucleotide-excision repair</td>\n",
       "      <td>19</td>\n",
       "      <td>True</td>\n",
       "      <td>True</td>\n",
       "    </tr>\n",
       "    <tr>\n",
       "      <th>563</th>\n",
       "      <td>GO:0016079</td>\n",
       "      <td>18</td>\n",
       "      <td>synaptic vesicle exocytosis</td>\n",
       "      <td>18</td>\n",
       "      <td>True</td>\n",
       "      <td>True</td>\n",
       "    </tr>\n",
       "    <tr>\n",
       "      <th>694</th>\n",
       "      <td>GO:0004722</td>\n",
       "      <td>14</td>\n",
       "      <td>protein serine/threonine phosphatase activity</td>\n",
       "      <td>14</td>\n",
       "      <td>True</td>\n",
       "      <td>True</td>\n",
       "    </tr>\n",
       "    <tr>\n",
       "      <th>807</th>\n",
       "      <td>GO:0045664</td>\n",
       "      <td>11</td>\n",
       "      <td>regulation of neuron differentiation</td>\n",
       "      <td>11</td>\n",
       "      <td>True</td>\n",
       "      <td>True</td>\n",
       "    </tr>\n",
       "    <tr>\n",
       "      <th>848</th>\n",
       "      <td>GO:0030672</td>\n",
       "      <td>11</td>\n",
       "      <td>synaptic vesicle membrane</td>\n",
       "      <td>10</td>\n",
       "      <td>True</td>\n",
       "      <td>True</td>\n",
       "    </tr>\n",
       "  </tbody>\n",
       "</table>\n",
       "<p>93 rows × 6 columns</p>\n",
       "</div>"
      ],
      "text/plain": [
       "          go_id  num_genes                                            go_name  \\\n",
       "0    GO:0009792       3189  embryo development ending in birth or egg hatc...   \n",
       "1    GO:0000003       2303                                       reproduction   \n",
       "2    GO:0016021       2024                     integral component of membrane   \n",
       "3    GO:0002119       2022                        nematode larval development   \n",
       "4    GO:0016020       1877                                           membrane   \n",
       "5    GO:0005634       1607                                            nucleus   \n",
       "6    GO:0005737       1412                                          cytoplasm   \n",
       "7    GO:0040011       1427                                         locomotion   \n",
       "8    GO:0046872       1357                                  metal ion binding   \n",
       "9    GO:0008152       1114                                  metabolic process   \n",
       "10   GO:0000166       1041                                 nucleotide binding   \n",
       "11   GO:0005515        924                                    protein binding   \n",
       "12   GO:0005524        903                                        ATP binding   \n",
       "13   GO:0008340        912                    determination of adult lifespan   \n",
       "14   GO:0006810        797                                          transport   \n",
       "15   GO:0003677        789                                        DNA binding   \n",
       "16   GO:0016787        757                                 hydrolase activity   \n",
       "17   GO:0008270        756                                   zinc ion binding   \n",
       "18   GO:0040035        750                hermaphrodite genitalia development   \n",
       "19   GO:0006898        730                      receptor-mediated endocytosis   \n",
       "20   GO:0005887        821              integral component of plasma membrane   \n",
       "21   GO:0006355        696         regulation of transcription, DNA-templated   \n",
       "22   GO:0016740        624                               transferase activity   \n",
       "23   GO:0010171        617                                 body morphogenesis   \n",
       "24   GO:0019915        647                                      lipid storage   \n",
       "25   GO:0007186        685       G-protein coupled receptor signaling pathway   \n",
       "26   GO:0006351        567                       transcription, DNA-templated   \n",
       "28   GO:0005886        515                                    plasma membrane   \n",
       "29   GO:0007165        515                                signal transduction   \n",
       "30   GO:0006915        478                                  apoptotic process   \n",
       "..          ...        ...                                                ...   \n",
       "164  GO:0008168         79                         methyltransferase activity   \n",
       "167  GO:0032940         76                                  secretion by cell   \n",
       "170  GO:0016192         73                         vesicle-mediated transport   \n",
       "173  GO:0006397         71                                    mRNA processing   \n",
       "185  GO:0007052         66                       mitotic spindle organization   \n",
       "217  GO:0005813         55                                         centrosome   \n",
       "241  GO:0007283         50                                    spermatogenesis   \n",
       "250  GO:0006935         47                                         chemotaxis   \n",
       "252  GO:0019901         46                             protein kinase binding   \n",
       "255  GO:0006396         46                                     RNA processing   \n",
       "270  GO:0016779         42                    nucleotidyltransferase activity   \n",
       "282  GO:0005635         40                                   nuclear envelope   \n",
       "289  GO:0016055         39                              Wnt signaling pathway   \n",
       "338  GO:0006665         33                     sphingolipid metabolic process   \n",
       "339  GO:0005681         34                               spliceosomal complex   \n",
       "359  GO:0003333         30                 amino acid transmembrane transport   \n",
       "367  GO:0008236         30                     serine-type peptidase activity   \n",
       "371  GO:0006997         30                               nucleus organization   \n",
       "374  GO:0015171         29      amino acid transmembrane transporter activity   \n",
       "420  GO:0034606         26                  response to hermaphrodite contact   \n",
       "428  GO:0005643         25                                       nuclear pore   \n",
       "435  GO:0070469         24                                  respiratory chain   \n",
       "443  GO:0019905         25                                   syntaxin binding   \n",
       "506  GO:0008137         20           NADH dehydrogenase (ubiquinone) activity   \n",
       "520  GO:0030276         19                                   clathrin binding   \n",
       "523  GO:0006289         19                         nucleotide-excision repair   \n",
       "563  GO:0016079         18                        synaptic vesicle exocytosis   \n",
       "694  GO:0004722         14      protein serine/threonine phosphatase activity   \n",
       "807  GO:0045664         11               regulation of neuron differentiation   \n",
       "848  GO:0030672         11                          synaptic vesicle membrane   \n",
       "\n",
       "     num_in_data water_310 mian_water_10  \n",
       "0           3008      True          True  \n",
       "1           2148      True          True  \n",
       "2           1956      True          True  \n",
       "3           1913      True          True  \n",
       "4           1826      True          True  \n",
       "5           1581      True          True  \n",
       "6           1401      True          True  \n",
       "7           1344      True          True  \n",
       "8           1333      True          True  \n",
       "9           1096      True          True  \n",
       "10          1036      True          True  \n",
       "11           922      True          True  \n",
       "12           896      True          True  \n",
       "13           857      True          True  \n",
       "14           791      True          True  \n",
       "15           767      True          True  \n",
       "16           750      True          True  \n",
       "17           730      True          True  \n",
       "18           724      True          True  \n",
       "19           711      True          True  \n",
       "20           700      True          True  \n",
       "21           673      True          True  \n",
       "22           618      True          True  \n",
       "23           591      True          True  \n",
       "24           576      True          True  \n",
       "25           559      True          True  \n",
       "26           550      True          True  \n",
       "28           515      True          True  \n",
       "29           496      True          True  \n",
       "30           466      True          True  \n",
       "..           ...       ...           ...  \n",
       "164           77      True          True  \n",
       "167           75      True          True  \n",
       "170           73      True          True  \n",
       "173           71      True          True  \n",
       "185           65      True          True  \n",
       "217           55      True          True  \n",
       "241           48      True          True  \n",
       "250           47      True          True  \n",
       "252           46      True          True  \n",
       "255           46      True          True  \n",
       "270           42      True          True  \n",
       "282           40      True          True  \n",
       "289           39      True          True  \n",
       "338           33      True          True  \n",
       "339           33      True          True  \n",
       "359           30      True          True  \n",
       "367           30      True          True  \n",
       "371           29      True          True  \n",
       "374           29      True          True  \n",
       "420           25      True          True  \n",
       "428           25      True          True  \n",
       "435           24      True          True  \n",
       "443           24      True          True  \n",
       "506           20      True          True  \n",
       "520           19      True          True  \n",
       "523           19      True          True  \n",
       "563           18      True          True  \n",
       "694           14      True          True  \n",
       "807           11      True          True  \n",
       "848           10      True          True  \n",
       "\n",
       "[93 rows x 6 columns]"
      ]
     },
     "execution_count": 33,
     "metadata": {},
     "output_type": "execute_result"
    }
   ],
   "source": [
    "poss.query(\"water_310 & mian_water_10\")"
   ]
  },
  {
   "cell_type": "markdown",
   "metadata": {},
   "source": [
    "## Check out one example:"
   ]
  },
  {
   "cell_type": "markdown",
   "metadata": {},
   "source": [
    "## Syntaxin binding (GO:0019905)"
   ]
  },
  {
   "cell_type": "code",
   "execution_count": 34,
   "metadata": {
    "collapsed": false
   },
   "outputs": [
    {
     "data": {
      "text/plain": [
       "<matplotlib.axes._subplots.AxesSubplot at 0x7ff8441cfd68>"
      ]
     },
     "execution_count": 34,
     "metadata": {},
     "output_type": "execute_result"
    },
    {
     "data": {
      "image/png": "[encoded data removed]",
      "text/plain": [
       "<matplotlib.figure.Figure at 0x7ff8441bffd0>"
      ]
     },
     "metadata": {},
     "output_type": "display_data"
    }
   ],
   "source": [
    "temp = data.query(\"day_add_drug == 1 & drug_conc_uM in(0, 50)\")\n",
    "\n",
    "term = \"GO:0019905\"\n",
    "\n",
    "res = filter_go([term], go_groups, temp)\n",
    "plot_drift(\n",
    "    \"box\", res, \"day_harvest_rna\", \"drift\", \"seqname\",\n",
    "    groupby = \"drug_given\", rc = {\"figure.figsize\": (8, 6)},\n",
    "    title = \"Drift for all genes in worms given water or mianserin\"\n",
    ")"
   ]
  },
  {
   "cell_type": "code",
   "execution_count": 35,
   "metadata": {
    "collapsed": false
   },
   "outputs": [
    {
     "data": {
      "text/plain": [
       "<matplotlib.axes._subplots.AxesSubplot at 0x7ff84400f940>"
      ]
     },
     "execution_count": 35,
     "metadata": {},
     "output_type": "execute_result"
    },
    {
     "data": {
      "image/png": "[encoded data removed]",
      "text/plain": [
       "<matplotlib.figure.Figure at 0x7ff8441bf6d8>"
      ]
     },
     "metadata": {},
     "output_type": "display_data"
    }
   ],
   "source": [
    "plot_p_val_heatmap(res, [\"drug_given\", \"day_harvest_rna\"], \"drift\", circles = True)"
   ]
  },
  {
   "cell_type": "markdown",
   "metadata": {},
   "source": [
    "We see that for this GO term, the genes drifted apart in water as time went on, but that when given mianserin, the genes do not drift apart. They are lower than water, but do not drift apart compared to one another."
   ]
  }
 ],
 "metadata": {
  "kernelspec": {
   "display_name": "Python 3",
   "language": "python",
   "name": "python3"
  },
  "language_info": {
   "codemirror_mode": {
    "name": "ipython",
    "version": 3
   },
   "file_extension": ".py",
   "mimetype": "text/x-python",
   "name": "python",
   "nbconvert_exporter": "python",
   "pygments_lexer": "ipython3",
   "version": "3.4.2"
  }
 },
 "nbformat": 4,
 "nbformat_minor": 0
}
