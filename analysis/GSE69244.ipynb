{
 "cells": [
  {
   "cell_type": "markdown",
   "metadata": {},
   "source": [
    "# Examination of GSE69244\n",
    "\n",
    "Tong Shu Li"
   ]
  },
  {
   "cell_type": "code",
   "execution_count": 1,
   "metadata": {
    "collapsed": true
   },
   "outputs": [],
   "source": [
    "import operator\n",
    "import pandas as pd\n",
    "import sys\n",
    "\n",
    "from functools import partial\n",
    "from functools import reduce"
   ]
  },
  {
   "cell_type": "code",
   "execution_count": 2,
   "metadata": {
    "collapsed": true
   },
   "outputs": [],
   "source": [
    "sys.path.append(\"..\")"
   ]
  },
  {
   "cell_type": "code",
   "execution_count": 3,
   "metadata": {
    "collapsed": true
   },
   "outputs": [],
   "source": [
    "from src.plots import plot_drift\n",
    "from src.plots import plot_p_val_heatmap\n",
    "\n",
    "from src.stats import p_val_pairs\n",
    "\n",
    "from src.load_gene_ont import load_go\n",
    "from src.load_gene_ont import parse_go_defn"
   ]
  },
  {
   "cell_type": "code",
   "execution_count": 4,
   "metadata": {
    "collapsed": true
   },
   "outputs": [],
   "source": [
    "%matplotlib inline"
   ]
  },
  {
   "cell_type": "markdown",
   "metadata": {},
   "source": [
    "---"
   ]
  },
  {
   "cell_type": "markdown",
   "metadata": {},
   "source": [
    "## Read the pre-normalized drift data"
   ]
  },
  {
   "cell_type": "code",
   "execution_count": 5,
   "metadata": {
    "collapsed": true
   },
   "outputs": [],
   "source": [
    "data = pd.read_csv(\"../data/GSE69244/norm_avg_drift.tsv\", sep = '\\t')"
   ]
  },
  {
   "cell_type": "code",
   "execution_count": 6,
   "metadata": {
    "collapsed": false
   },
   "outputs": [
    {
     "data": {
      "text/plain": [
       "(45690, 10)"
      ]
     },
     "execution_count": 6,
     "metadata": {},
     "output_type": "execute_result"
    }
   ],
   "source": [
    "data.shape"
   ]
  },
  {
   "cell_type": "code",
   "execution_count": 7,
   "metadata": {
    "collapsed": false
   },
   "outputs": [
    {
     "data": {
      "text/html": [
       "<div>\n",
       "<table border=\"1\" class=\"dataframe\">\n",
       "  <thead>\n",
       "    <tr style=\"text-align: right;\">\n",
       "      <th></th>\n",
       "      <th>months_old</th>\n",
       "      <th>drug_given</th>\n",
       "      <th>gene_id</th>\n",
       "      <th>mgi_id</th>\n",
       "      <th>gene_count</th>\n",
       "      <th>log_count</th>\n",
       "      <th>ref_log_count</th>\n",
       "      <th>ref_sample</th>\n",
       "      <th>drift</th>\n",
       "      <th>sample_name</th>\n",
       "    </tr>\n",
       "  </thead>\n",
       "  <tbody>\n",
       "    <tr>\n",
       "      <th>0</th>\n",
       "      <td>3</td>\n",
       "      <td>vehicle</td>\n",
       "      <td>0610007P14Rik</td>\n",
       "      <td>MGI:1915571</td>\n",
       "      <td>342.5</td>\n",
       "      <td>5.836272</td>\n",
       "      <td>5.720312</td>\n",
       "      <td>1</td>\n",
       "      <td>-0.034916</td>\n",
       "      <td>young</td>\n",
       "    </tr>\n",
       "    <tr>\n",
       "      <th>1</th>\n",
       "      <td>3</td>\n",
       "      <td>vehicle</td>\n",
       "      <td>0610009B22Rik</td>\n",
       "      <td>MGI:1913300</td>\n",
       "      <td>154.0</td>\n",
       "      <td>5.036953</td>\n",
       "      <td>4.836282</td>\n",
       "      <td>1</td>\n",
       "      <td>0.049794</td>\n",
       "      <td>young</td>\n",
       "    </tr>\n",
       "    <tr>\n",
       "      <th>2</th>\n",
       "      <td>3</td>\n",
       "      <td>vehicle</td>\n",
       "      <td>0610009L18Rik</td>\n",
       "      <td>MGI:1914088</td>\n",
       "      <td>23.5</td>\n",
       "      <td>3.157000</td>\n",
       "      <td>2.944439</td>\n",
       "      <td>1</td>\n",
       "      <td>0.061685</td>\n",
       "      <td>young</td>\n",
       "    </tr>\n",
       "    <tr>\n",
       "      <th>3</th>\n",
       "      <td>3</td>\n",
       "      <td>vehicle</td>\n",
       "      <td>0610009O20Rik</td>\n",
       "      <td>MGI:1914089</td>\n",
       "      <td>551.0</td>\n",
       "      <td>6.311735</td>\n",
       "      <td>6.214608</td>\n",
       "      <td>1</td>\n",
       "      <td>-0.053750</td>\n",
       "      <td>young</td>\n",
       "    </tr>\n",
       "    <tr>\n",
       "      <th>4</th>\n",
       "      <td>3</td>\n",
       "      <td>vehicle</td>\n",
       "      <td>0610010F05Rik</td>\n",
       "      <td>MGI:1918925</td>\n",
       "      <td>694.0</td>\n",
       "      <td>6.542472</td>\n",
       "      <td>6.545350</td>\n",
       "      <td>1</td>\n",
       "      <td>-0.153754</td>\n",
       "      <td>young</td>\n",
       "    </tr>\n",
       "  </tbody>\n",
       "</table>\n",
       "</div>"
      ],
      "text/plain": [
       "   months_old drug_given        gene_id       mgi_id  gene_count  log_count  \\\n",
       "0           3    vehicle  0610007P14Rik  MGI:1915571       342.5   5.836272   \n",
       "1           3    vehicle  0610009B22Rik  MGI:1913300       154.0   5.036953   \n",
       "2           3    vehicle  0610009L18Rik  MGI:1914088        23.5   3.157000   \n",
       "3           3    vehicle  0610009O20Rik  MGI:1914089       551.0   6.311735   \n",
       "4           3    vehicle  0610010F05Rik  MGI:1918925       694.0   6.542472   \n",
       "\n",
       "   ref_log_count  ref_sample     drift sample_name  \n",
       "0       5.720312           1 -0.034916       young  \n",
       "1       4.836282           1  0.049794       young  \n",
       "2       2.944439           1  0.061685       young  \n",
       "3       6.214608           1 -0.053750       young  \n",
       "4       6.545350           1 -0.153754       young  "
      ]
     },
     "execution_count": 7,
     "metadata": {},
     "output_type": "execute_result"
    }
   ],
   "source": [
    "data.head()"
   ]
  },
  {
   "cell_type": "markdown",
   "metadata": {},
   "source": [
    "## Read the mouse GO annotations"
   ]
  },
  {
   "cell_type": "code",
   "execution_count": 8,
   "metadata": {
    "collapsed": false
   },
   "outputs": [],
   "source": [
    "go_defn = parse_go_defn(\"../data/gene_ontology/go.obo\")"
   ]
  },
  {
   "cell_type": "code",
   "execution_count": 9,
   "metadata": {
    "collapsed": true
   },
   "outputs": [],
   "source": [
    "mouse_go = load_go(\"../data/gene_ontology/gene_association.mgi\")"
   ]
  },
  {
   "cell_type": "code",
   "execution_count": 10,
   "metadata": {
    "collapsed": false
   },
   "outputs": [
    {
     "data": {
      "text/plain": [
       "(369000, 16)"
      ]
     },
     "execution_count": 10,
     "metadata": {},
     "output_type": "execute_result"
    }
   ],
   "source": [
    "mouse_go.shape"
   ]
  },
  {
   "cell_type": "code",
   "execution_count": 11,
   "metadata": {
    "collapsed": false
   },
   "outputs": [
    {
     "data": {
      "text/html": [
       "<div>\n",
       "<table border=\"1\" class=\"dataframe\">\n",
       "  <thead>\n",
       "    <tr style=\"text-align: right;\">\n",
       "      <th></th>\n",
       "      <th>database_id</th>\n",
       "      <th>db_obj_symbol</th>\n",
       "      <th>qualifier</th>\n",
       "      <th>go_id</th>\n",
       "      <th>db_ref</th>\n",
       "      <th>evidence</th>\n",
       "      <th>with_from</th>\n",
       "      <th>aspect</th>\n",
       "      <th>db_obj_name</th>\n",
       "      <th>db_obj_syn</th>\n",
       "      <th>db_obj_type</th>\n",
       "      <th>taxon</th>\n",
       "      <th>date</th>\n",
       "      <th>assigned_by</th>\n",
       "      <th>annot_ext</th>\n",
       "      <th>gene_prod_id</th>\n",
       "    </tr>\n",
       "  </thead>\n",
       "  <tbody>\n",
       "    <tr>\n",
       "      <th>0</th>\n",
       "      <td>MGI:1918911</td>\n",
       "      <td>0610005C13Rik</td>\n",
       "      <td>NaN</td>\n",
       "      <td>GO:0003674</td>\n",
       "      <td>MGI:MGI:2156816|GO_REF:0000015</td>\n",
       "      <td>ND</td>\n",
       "      <td>NaN</td>\n",
       "      <td>F</td>\n",
       "      <td>RIKEN cDNA 0610005C13 gene</td>\n",
       "      <td>NaN</td>\n",
       "      <td>gene</td>\n",
       "      <td>taxon:10090</td>\n",
       "      <td>20100209</td>\n",
       "      <td>MGI</td>\n",
       "      <td>NaN</td>\n",
       "      <td>NaN</td>\n",
       "    </tr>\n",
       "    <tr>\n",
       "      <th>1</th>\n",
       "      <td>MGI:1918911</td>\n",
       "      <td>0610005C13Rik</td>\n",
       "      <td>NaN</td>\n",
       "      <td>GO:0005575</td>\n",
       "      <td>MGI:MGI:2156816|GO_REF:0000015</td>\n",
       "      <td>ND</td>\n",
       "      <td>NaN</td>\n",
       "      <td>C</td>\n",
       "      <td>RIKEN cDNA 0610005C13 gene</td>\n",
       "      <td>NaN</td>\n",
       "      <td>gene</td>\n",
       "      <td>taxon:10090</td>\n",
       "      <td>20100209</td>\n",
       "      <td>MGI</td>\n",
       "      <td>NaN</td>\n",
       "      <td>NaN</td>\n",
       "    </tr>\n",
       "    <tr>\n",
       "      <th>2</th>\n",
       "      <td>MGI:1918911</td>\n",
       "      <td>0610005C13Rik</td>\n",
       "      <td>NaN</td>\n",
       "      <td>GO:0008150</td>\n",
       "      <td>MGI:MGI:2156816|GO_REF:0000015</td>\n",
       "      <td>ND</td>\n",
       "      <td>NaN</td>\n",
       "      <td>P</td>\n",
       "      <td>RIKEN cDNA 0610005C13 gene</td>\n",
       "      <td>NaN</td>\n",
       "      <td>gene</td>\n",
       "      <td>taxon:10090</td>\n",
       "      <td>20100209</td>\n",
       "      <td>MGI</td>\n",
       "      <td>NaN</td>\n",
       "      <td>NaN</td>\n",
       "    </tr>\n",
       "    <tr>\n",
       "      <th>3</th>\n",
       "      <td>MGI:1923503</td>\n",
       "      <td>0610006L08Rik</td>\n",
       "      <td>NaN</td>\n",
       "      <td>GO:0003674</td>\n",
       "      <td>MGI:MGI:2156816|GO_REF:0000015</td>\n",
       "      <td>ND</td>\n",
       "      <td>NaN</td>\n",
       "      <td>F</td>\n",
       "      <td>RIKEN cDNA 0610006L08 gene</td>\n",
       "      <td>NaN</td>\n",
       "      <td>gene</td>\n",
       "      <td>taxon:10090</td>\n",
       "      <td>20120430</td>\n",
       "      <td>MGI</td>\n",
       "      <td>NaN</td>\n",
       "      <td>NaN</td>\n",
       "    </tr>\n",
       "    <tr>\n",
       "      <th>4</th>\n",
       "      <td>MGI:1923503</td>\n",
       "      <td>0610006L08Rik</td>\n",
       "      <td>NaN</td>\n",
       "      <td>GO:0005575</td>\n",
       "      <td>MGI:MGI:2156816|GO_REF:0000015</td>\n",
       "      <td>ND</td>\n",
       "      <td>NaN</td>\n",
       "      <td>C</td>\n",
       "      <td>RIKEN cDNA 0610006L08 gene</td>\n",
       "      <td>NaN</td>\n",
       "      <td>gene</td>\n",
       "      <td>taxon:10090</td>\n",
       "      <td>20120430</td>\n",
       "      <td>MGI</td>\n",
       "      <td>NaN</td>\n",
       "      <td>NaN</td>\n",
       "    </tr>\n",
       "  </tbody>\n",
       "</table>\n",
       "</div>"
      ],
      "text/plain": [
       "   database_id  db_obj_symbol qualifier       go_id  \\\n",
       "0  MGI:1918911  0610005C13Rik       NaN  GO:0003674   \n",
       "1  MGI:1918911  0610005C13Rik       NaN  GO:0005575   \n",
       "2  MGI:1918911  0610005C13Rik       NaN  GO:0008150   \n",
       "3  MGI:1923503  0610006L08Rik       NaN  GO:0003674   \n",
       "4  MGI:1923503  0610006L08Rik       NaN  GO:0005575   \n",
       "\n",
       "                           db_ref evidence with_from aspect  \\\n",
       "0  MGI:MGI:2156816|GO_REF:0000015       ND       NaN      F   \n",
       "1  MGI:MGI:2156816|GO_REF:0000015       ND       NaN      C   \n",
       "2  MGI:MGI:2156816|GO_REF:0000015       ND       NaN      P   \n",
       "3  MGI:MGI:2156816|GO_REF:0000015       ND       NaN      F   \n",
       "4  MGI:MGI:2156816|GO_REF:0000015       ND       NaN      C   \n",
       "\n",
       "                  db_obj_name db_obj_syn db_obj_type        taxon      date  \\\n",
       "0  RIKEN cDNA 0610005C13 gene        NaN        gene  taxon:10090  20100209   \n",
       "1  RIKEN cDNA 0610005C13 gene        NaN        gene  taxon:10090  20100209   \n",
       "2  RIKEN cDNA 0610005C13 gene        NaN        gene  taxon:10090  20100209   \n",
       "3  RIKEN cDNA 0610006L08 gene        NaN        gene  taxon:10090  20120430   \n",
       "4  RIKEN cDNA 0610006L08 gene        NaN        gene  taxon:10090  20120430   \n",
       "\n",
       "  assigned_by annot_ext gene_prod_id  \n",
       "0         MGI       NaN          NaN  \n",
       "1         MGI       NaN          NaN  \n",
       "2         MGI       NaN          NaN  \n",
       "3         MGI       NaN          NaN  \n",
       "4         MGI       NaN          NaN  "
      ]
     },
     "execution_count": 11,
     "metadata": {},
     "output_type": "execute_result"
    }
   ],
   "source": [
    "mouse_go.head()"
   ]
  },
  {
   "cell_type": "code",
   "execution_count": 12,
   "metadata": {
    "collapsed": false
   },
   "outputs": [
    {
     "data": {
      "text/plain": [
       "16940"
      ]
     },
     "execution_count": 12,
     "metadata": {},
     "output_type": "execute_result"
    }
   ],
   "source": [
    "mouse_go[\"go_id\"].nunique()"
   ]
  },
  {
   "cell_type": "code",
   "execution_count": 13,
   "metadata": {
    "collapsed": false
   },
   "outputs": [
    {
     "data": {
      "text/plain": [
       "24215"
      ]
     },
     "execution_count": 13,
     "metadata": {},
     "output_type": "execute_result"
    }
   ],
   "source": [
    "mouse_go[\"database_id\"].nunique()"
   ]
  },
  {
   "cell_type": "markdown",
   "metadata": {},
   "source": [
    "---"
   ]
  },
  {
   "cell_type": "markdown",
   "metadata": {},
   "source": [
    "## Drift for all samples"
   ]
  },
  {
   "cell_type": "code",
   "execution_count": 14,
   "metadata": {
    "collapsed": false
   },
   "outputs": [
    {
     "data": {
      "text/plain": [
       "<matplotlib.axes._subplots.AxesSubplot at 0x7f2e75f82780>"
      ]
     },
     "execution_count": 14,
     "metadata": {},
     "output_type": "execute_result"
    },
    {
     "data": {
      "image/png": "[encoded data removed]",
      "text/plain": [
       "<matplotlib.figure.Figure at 0x7f2e78916780>"
      ]
     },
     "metadata": {},
     "output_type": "display_data"
    }
   ],
   "source": [
    "plot_drift(\n",
    "    \"box\", data, \"months_old\", \"drift\", \"gene_id\", groupby = \"drug_given\"\n",
    ")"
   ]
  },
  {
   "cell_type": "code",
   "execution_count": 15,
   "metadata": {
    "collapsed": false
   },
   "outputs": [
    {
     "data": {
      "text/plain": [
       "<matplotlib.axes._subplots.AxesSubplot at 0x7f2e787180f0>"
      ]
     },
     "execution_count": 15,
     "metadata": {},
     "output_type": "execute_result"
    },
    {
     "data": {
      "image/png": "[encoded data removed]",
      "text/plain": [
       "<matplotlib.figure.Figure at 0x7f2e78781400>"
      ]
     },
     "metadata": {},
     "output_type": "display_data"
    }
   ],
   "source": [
    "plot_p_val_heatmap(\n",
    "    data, [\"months_old\", \"drug_given\"], \"drift\", circles = True\n",
    ")"
   ]
  },
  {
   "cell_type": "markdown",
   "metadata": {},
   "source": [
    "So of course with this many genes, the reduction in drift with J147 is significant. Can we however find GO groups which had a significant reduction in drift?"
   ]
  },
  {
   "cell_type": "markdown",
   "metadata": {},
   "source": [
    "---"
   ]
  },
  {
   "cell_type": "markdown",
   "metadata": {},
   "source": [
    "## Drift by GO term"
   ]
  },
  {
   "cell_type": "code",
   "execution_count": 16,
   "metadata": {
    "collapsed": false
   },
   "outputs": [],
   "source": [
    "# save the gene names for each GO term\n",
    "go_groups = {\n",
    "    go_term: set(df[\"database_id\"])\n",
    "    for go_term, df in mouse_go.groupby(\"go_id\")\n",
    "}"
   ]
  },
  {
   "cell_type": "code",
   "execution_count": 17,
   "metadata": {
    "collapsed": true
   },
   "outputs": [],
   "source": [
    "def filter_go(go_terms, go_groups, dataframe):\n",
    "    \"\"\"Filters a dataframe down to genes belonging to the listed GO terms.\"\"\"\n",
    "    genes = reduce(operator.or_, (go_groups[term] for term in go_terms))\n",
    "    \n",
    "    temp = pd.DataFrame({\"mgi_id\": list(genes)})\n",
    "    return pd.merge(temp, dataframe, how = \"inner\", on = \"mgi_id\")"
   ]
  },
  {
   "cell_type": "markdown",
   "metadata": {},
   "source": [
    "## Hypothesis testing"
   ]
  },
  {
   "cell_type": "code",
   "execution_count": 18,
   "metadata": {
    "collapsed": false
   },
   "outputs": [],
   "source": [
    "info = pd.DataFrame(\n",
    "    [(go_term, len(genes)) for go_term, genes in go_groups.items()],\n",
    "    columns = [\"go_id\", \"num_genes\"]\n",
    ")\n",
    "\n",
    "info = pd.merge(info, go_defn, how = \"inner\", on = \"go_id\")"
   ]
  },
  {
   "cell_type": "code",
   "execution_count": 19,
   "metadata": {
    "collapsed": true
   },
   "outputs": [],
   "source": [
    "good_genes = set(data[\"mgi_id\"])\n",
    "\n",
    "info[\"num_in_data\"] = info[\"go_id\"].map(\n",
    "    lambda v: len(good_genes & go_groups[v])\n",
    ")\n",
    "\n",
    "info = info.sort_values(\"num_in_data\", ascending = False).reset_index(drop = True)"
   ]
  },
  {
   "cell_type": "code",
   "execution_count": 20,
   "metadata": {
    "collapsed": false
   },
   "outputs": [
    {
     "data": {
      "text/html": [
       "<div>\n",
       "<table border=\"1\" class=\"dataframe\">\n",
       "  <thead>\n",
       "    <tr style=\"text-align: right;\">\n",
       "      <th></th>\n",
       "      <th>go_id</th>\n",
       "      <th>num_genes</th>\n",
       "      <th>go_name</th>\n",
       "      <th>num_in_data</th>\n",
       "    </tr>\n",
       "  </thead>\n",
       "  <tbody>\n",
       "    <tr>\n",
       "      <th>0</th>\n",
       "      <td>GO:0016020</td>\n",
       "      <td>6874</td>\n",
       "      <td>membrane</td>\n",
       "      <td>5637</td>\n",
       "    </tr>\n",
       "    <tr>\n",
       "      <th>1</th>\n",
       "      <td>GO:0005737</td>\n",
       "      <td>6356</td>\n",
       "      <td>cytoplasm</td>\n",
       "      <td>5543</td>\n",
       "    </tr>\n",
       "    <tr>\n",
       "      <th>2</th>\n",
       "      <td>GO:0005634</td>\n",
       "      <td>5702</td>\n",
       "      <td>nucleus</td>\n",
       "      <td>4839</td>\n",
       "    </tr>\n",
       "    <tr>\n",
       "      <th>3</th>\n",
       "      <td>GO:0005515</td>\n",
       "      <td>4437</td>\n",
       "      <td>protein binding</td>\n",
       "      <td>3846</td>\n",
       "    </tr>\n",
       "    <tr>\n",
       "      <th>4</th>\n",
       "      <td>GO:0003674</td>\n",
       "      <td>7989</td>\n",
       "      <td>molecular_function</td>\n",
       "      <td>3458</td>\n",
       "    </tr>\n",
       "  </tbody>\n",
       "</table>\n",
       "</div>"
      ],
      "text/plain": [
       "        go_id  num_genes             go_name  num_in_data\n",
       "0  GO:0016020       6874            membrane         5637\n",
       "1  GO:0005737       6356           cytoplasm         5543\n",
       "2  GO:0005634       5702             nucleus         4839\n",
       "3  GO:0005515       4437     protein binding         3846\n",
       "4  GO:0003674       7989  molecular_function         3458"
      ]
     },
     "execution_count": 20,
     "metadata": {},
     "output_type": "execute_result"
    }
   ],
   "source": [
    "info.head()"
   ]
  },
  {
   "cell_type": "code",
   "execution_count": 21,
   "metadata": {
    "collapsed": false
   },
   "outputs": [
    {
     "data": {
      "text/plain": [
       "(16940, 4)"
      ]
     },
     "execution_count": 21,
     "metadata": {},
     "output_type": "execute_result"
    }
   ],
   "source": [
    "info.shape"
   ]
  },
  {
   "cell_type": "code",
   "execution_count": 22,
   "metadata": {
    "collapsed": false
   },
   "outputs": [
    {
     "data": {
      "text/plain": [
       "count    16940.000000\n",
       "mean        18.002302\n",
       "std        161.927636\n",
       "min          1.000000\n",
       "25%          1.000000\n",
       "50%          3.000000\n",
       "75%          8.000000\n",
       "max       7989.000000\n",
       "Name: num_genes, dtype: float64"
      ]
     },
     "execution_count": 22,
     "metadata": {},
     "output_type": "execute_result"
    }
   ],
   "source": [
    "info[\"num_genes\"].describe()"
   ]
  },
  {
   "cell_type": "code",
   "execution_count": 23,
   "metadata": {
    "collapsed": false
   },
   "outputs": [
    {
     "data": {
      "text/plain": [
       "3329"
      ]
     },
     "execution_count": 23,
     "metadata": {},
     "output_type": "execute_result"
    }
   ],
   "source": [
    "(info[\"num_in_data\"] >= 10).sum()"
   ]
  },
  {
   "cell_type": "code",
   "execution_count": 24,
   "metadata": {
    "collapsed": true
   },
   "outputs": [],
   "source": [
    "info = info.query(\"num_in_data >= 10\")"
   ]
  },
  {
   "cell_type": "markdown",
   "metadata": {},
   "source": [
    "## Significance checking function"
   ]
  },
  {
   "cell_type": "code",
   "execution_count": 25,
   "metadata": {
    "collapsed": true
   },
   "outputs": [],
   "source": [
    "def signif(go_term, df, go_groups, groupby, drift_col, conditions):\n",
    "    \"\"\"Check for significant drift.\n",
    "    \n",
    "    For a subset of genes specified by the GO term, calculates the\n",
    "    p-values when grouped together by the groupby. Then checks that\n",
    "    all p values of the condition pairs are below the significance\n",
    "    threshold.\n",
    "    \n",
    "    Conditions = dict(key: direction)\n",
    "    where key = pair of groups, direction = boolean of whether the variance\n",
    "    of the left group is larger\n",
    "    \"\"\"\n",
    "    res = filter_go([go_term], go_groups, df)\n",
    "    \n",
    "    p_vals = p_val_pairs(res, groupby, drift_col)\n",
    "    \n",
    "    threshold = 0.05\n",
    "    for pair in conditions:\n",
    "        assert pair in p_vals, \"{} not in p-val pairs\".format(pair)\n",
    "        \n",
    "    return all(\n",
    "        p_vals[i][0] < threshold and p_vals[i][1] == direction\n",
    "        for i, direction in conditions.items()\n",
    "    )"
   ]
  },
  {
   "cell_type": "markdown",
   "metadata": {},
   "source": [
    "## GO groups which increase in drift in vehicle"
   ]
  },
  {
   "cell_type": "code",
   "execution_count": 26,
   "metadata": {
    "collapsed": false
   },
   "outputs": [],
   "source": [
    "drift_ctrl = partial(\n",
    "    signif, df = data.query(\"drug_given == 'vehicle'\"),\n",
    "    go_groups = go_groups, groupby = \"months_old\",\n",
    "    drift_col = \"drift\",\n",
    "    conditions = {(3, 10): False}\n",
    ")\n",
    "\n",
    "info[\"d_ctrl\"] = info[\"go_id\"].map(drift_ctrl)"
   ]
  },
  {
   "cell_type": "code",
   "execution_count": 27,
   "metadata": {
    "collapsed": false
   },
   "outputs": [
    {
     "data": {
      "text/html": [
       "<div>\n",
       "<table border=\"1\" class=\"dataframe\">\n",
       "  <thead>\n",
       "    <tr style=\"text-align: right;\">\n",
       "      <th></th>\n",
       "      <th>go_id</th>\n",
       "      <th>num_genes</th>\n",
       "      <th>go_name</th>\n",
       "      <th>num_in_data</th>\n",
       "      <th>d_ctrl</th>\n",
       "    </tr>\n",
       "  </thead>\n",
       "  <tbody>\n",
       "    <tr>\n",
       "      <th>0</th>\n",
       "      <td>GO:0016020</td>\n",
       "      <td>6874</td>\n",
       "      <td>membrane</td>\n",
       "      <td>5637</td>\n",
       "      <td>True</td>\n",
       "    </tr>\n",
       "    <tr>\n",
       "      <th>1</th>\n",
       "      <td>GO:0005737</td>\n",
       "      <td>6356</td>\n",
       "      <td>cytoplasm</td>\n",
       "      <td>5543</td>\n",
       "      <td>True</td>\n",
       "    </tr>\n",
       "    <tr>\n",
       "      <th>2</th>\n",
       "      <td>GO:0005634</td>\n",
       "      <td>5702</td>\n",
       "      <td>nucleus</td>\n",
       "      <td>4839</td>\n",
       "      <td>True</td>\n",
       "    </tr>\n",
       "    <tr>\n",
       "      <th>3</th>\n",
       "      <td>GO:0005515</td>\n",
       "      <td>4437</td>\n",
       "      <td>protein binding</td>\n",
       "      <td>3846</td>\n",
       "      <td>True</td>\n",
       "    </tr>\n",
       "    <tr>\n",
       "      <th>4</th>\n",
       "      <td>GO:0003674</td>\n",
       "      <td>7989</td>\n",
       "      <td>molecular_function</td>\n",
       "      <td>3458</td>\n",
       "      <td>True</td>\n",
       "    </tr>\n",
       "  </tbody>\n",
       "</table>\n",
       "</div>"
      ],
      "text/plain": [
       "        go_id  num_genes             go_name  num_in_data d_ctrl\n",
       "0  GO:0016020       6874            membrane         5637   True\n",
       "1  GO:0005737       6356           cytoplasm         5543   True\n",
       "2  GO:0005634       5702             nucleus         4839   True\n",
       "3  GO:0005515       4437     protein binding         3846   True\n",
       "4  GO:0003674       7989  molecular_function         3458   True"
      ]
     },
     "execution_count": 27,
     "metadata": {},
     "output_type": "execute_result"
    }
   ],
   "source": [
    "info.head()"
   ]
  },
  {
   "cell_type": "code",
   "execution_count": 28,
   "metadata": {
    "collapsed": false
   },
   "outputs": [
    {
     "data": {
      "text/plain": [
       "True     1908\n",
       "False    1421\n",
       "Name: d_ctrl, dtype: int64"
      ]
     },
     "execution_count": 28,
     "metadata": {},
     "output_type": "execute_result"
    }
   ],
   "source": [
    "info[\"d_ctrl\"].value_counts()"
   ]
  },
  {
   "cell_type": "code",
   "execution_count": 29,
   "metadata": {
    "collapsed": false
   },
   "outputs": [
    {
     "data": {
      "text/plain": [
       "count    1908.000000\n",
       "mean       91.828616\n",
       "std       320.269873\n",
       "min        10.000000\n",
       "25%        17.000000\n",
       "50%        30.000000\n",
       "75%        59.000000\n",
       "max      5637.000000\n",
       "Name: num_in_data, dtype: float64"
      ]
     },
     "execution_count": 29,
     "metadata": {},
     "output_type": "execute_result"
    }
   ],
   "source": [
    "info.query(\"d_ctrl\")[\"num_in_data\"].describe()"
   ]
  },
  {
   "cell_type": "markdown",
   "metadata": {},
   "source": [
    "## GO groups which decrease in drift when given J147"
   ]
  },
  {
   "cell_type": "code",
   "execution_count": 30,
   "metadata": {
    "collapsed": false
   },
   "outputs": [],
   "source": [
    "drift_old = partial(\n",
    "    signif, df = data.query(\"months_old == 10\"),\n",
    "    go_groups = go_groups, groupby = \"drug_given\",\n",
    "    drift_col = \"drift\",\n",
    "    conditions = {(\"j147\", \"vehicle\"): False}\n",
    ")\n",
    "\n",
    "info[\"reduc_j147\"] = info[\"go_id\"].map(drift_old)"
   ]
  },
  {
   "cell_type": "code",
   "execution_count": 31,
   "metadata": {
    "collapsed": false
   },
   "outputs": [
    {
     "data": {
      "text/plain": [
       "False    3318\n",
       "True       11\n",
       "Name: reduc_j147, dtype: int64"
      ]
     },
     "execution_count": 31,
     "metadata": {},
     "output_type": "execute_result"
    }
   ],
   "source": [
    "info[\"reduc_j147\"].value_counts()"
   ]
  },
  {
   "cell_type": "code",
   "execution_count": 32,
   "metadata": {
    "collapsed": false
   },
   "outputs": [
    {
     "data": {
      "text/html": [
       "<div>\n",
       "<table border=\"1\" class=\"dataframe\">\n",
       "  <thead>\n",
       "    <tr style=\"text-align: right;\">\n",
       "      <th></th>\n",
       "      <th>go_id</th>\n",
       "      <th>num_genes</th>\n",
       "      <th>go_name</th>\n",
       "      <th>num_in_data</th>\n",
       "      <th>d_ctrl</th>\n",
       "      <th>reduc_j147</th>\n",
       "    </tr>\n",
       "  </thead>\n",
       "  <tbody>\n",
       "    <tr>\n",
       "      <th>0</th>\n",
       "      <td>GO:0016020</td>\n",
       "      <td>6874</td>\n",
       "      <td>membrane</td>\n",
       "      <td>5637</td>\n",
       "      <td>True</td>\n",
       "      <td>True</td>\n",
       "    </tr>\n",
       "    <tr>\n",
       "      <th>1</th>\n",
       "      <td>GO:0005737</td>\n",
       "      <td>6356</td>\n",
       "      <td>cytoplasm</td>\n",
       "      <td>5543</td>\n",
       "      <td>True</td>\n",
       "      <td>True</td>\n",
       "    </tr>\n",
       "    <tr>\n",
       "      <th>2</th>\n",
       "      <td>GO:0005634</td>\n",
       "      <td>5702</td>\n",
       "      <td>nucleus</td>\n",
       "      <td>4839</td>\n",
       "      <td>True</td>\n",
       "      <td>True</td>\n",
       "    </tr>\n",
       "    <tr>\n",
       "      <th>3</th>\n",
       "      <td>GO:0005515</td>\n",
       "      <td>4437</td>\n",
       "      <td>protein binding</td>\n",
       "      <td>3846</td>\n",
       "      <td>True</td>\n",
       "      <td>True</td>\n",
       "    </tr>\n",
       "    <tr>\n",
       "      <th>11</th>\n",
       "      <td>GO:0000166</td>\n",
       "      <td>1845</td>\n",
       "      <td>nucleotide binding</td>\n",
       "      <td>1701</td>\n",
       "      <td>True</td>\n",
       "      <td>True</td>\n",
       "    </tr>\n",
       "    <tr>\n",
       "      <th>99</th>\n",
       "      <td>GO:0006397</td>\n",
       "      <td>303</td>\n",
       "      <td>mRNA processing</td>\n",
       "      <td>293</td>\n",
       "      <td>True</td>\n",
       "      <td>True</td>\n",
       "    </tr>\n",
       "    <tr>\n",
       "      <th>132</th>\n",
       "      <td>GO:0008380</td>\n",
       "      <td>226</td>\n",
       "      <td>RNA splicing</td>\n",
       "      <td>219</td>\n",
       "      <td>True</td>\n",
       "      <td>True</td>\n",
       "    </tr>\n",
       "    <tr>\n",
       "      <th>1562</th>\n",
       "      <td>GO:0036464</td>\n",
       "      <td>25</td>\n",
       "      <td>cytoplasmic ribonucleoprotein granule</td>\n",
       "      <td>22</td>\n",
       "      <td>False</td>\n",
       "      <td>True</td>\n",
       "    </tr>\n",
       "    <tr>\n",
       "      <th>2014</th>\n",
       "      <td>GO:0043409</td>\n",
       "      <td>18</td>\n",
       "      <td>negative regulation of MAPK cascade</td>\n",
       "      <td>17</td>\n",
       "      <td>False</td>\n",
       "      <td>True</td>\n",
       "    </tr>\n",
       "    <tr>\n",
       "      <th>2859</th>\n",
       "      <td>GO:0048038</td>\n",
       "      <td>13</td>\n",
       "      <td>quinone binding</td>\n",
       "      <td>11</td>\n",
       "      <td>True</td>\n",
       "      <td>True</td>\n",
       "    </tr>\n",
       "    <tr>\n",
       "      <th>3249</th>\n",
       "      <td>GO:0000780</td>\n",
       "      <td>15</td>\n",
       "      <td>condensed nuclear chromosome, centromeric region</td>\n",
       "      <td>10</td>\n",
       "      <td>False</td>\n",
       "      <td>True</td>\n",
       "    </tr>\n",
       "  </tbody>\n",
       "</table>\n",
       "</div>"
      ],
      "text/plain": [
       "           go_id  num_genes                                           go_name  \\\n",
       "0     GO:0016020       6874                                          membrane   \n",
       "1     GO:0005737       6356                                         cytoplasm   \n",
       "2     GO:0005634       5702                                           nucleus   \n",
       "3     GO:0005515       4437                                   protein binding   \n",
       "11    GO:0000166       1845                                nucleotide binding   \n",
       "99    GO:0006397        303                                   mRNA processing   \n",
       "132   GO:0008380        226                                      RNA splicing   \n",
       "1562  GO:0036464         25             cytoplasmic ribonucleoprotein granule   \n",
       "2014  GO:0043409         18               negative regulation of MAPK cascade   \n",
       "2859  GO:0048038         13                                   quinone binding   \n",
       "3249  GO:0000780         15  condensed nuclear chromosome, centromeric region   \n",
       "\n",
       "      num_in_data d_ctrl reduc_j147  \n",
       "0            5637   True       True  \n",
       "1            5543   True       True  \n",
       "2            4839   True       True  \n",
       "3            3846   True       True  \n",
       "11           1701   True       True  \n",
       "99            293   True       True  \n",
       "132           219   True       True  \n",
       "1562           22  False       True  \n",
       "2014           17  False       True  \n",
       "2859           11   True       True  \n",
       "3249           10  False       True  "
      ]
     },
     "execution_count": 32,
     "metadata": {},
     "output_type": "execute_result"
    }
   ],
   "source": [
    "info.query(\"reduc_j147\")"
   ]
  },
  {
   "cell_type": "markdown",
   "metadata": {},
   "source": [
    "Hmm, so only one GO group with a reasonable number of genes is significantly drifting?"
   ]
  }
 ],
 "metadata": {
  "kernelspec": {
   "display_name": "Python 3",
   "language": "python",
   "name": "python3"
  },
  "language_info": {
   "codemirror_mode": {
    "name": "ipython",
    "version": 3
   },
   "file_extension": ".py",
   "mimetype": "text/x-python",
   "name": "python",
   "nbconvert_exporter": "python",
   "pygments_lexer": "ipython3",
   "version": "3.4.2"
  }
 },
 "nbformat": 4,
 "nbformat_minor": 0
}
