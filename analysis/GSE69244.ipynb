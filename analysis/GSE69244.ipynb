{
 "cells": [
  {
   "cell_type": "markdown",
   "metadata": {},
   "source": [
    "# Examination of GSE69244\n",
    "\n",
    "Tong Shu Li\n",
    "\n",
    "Examine drift and try to find Gene Ontology groupings which drift."
   ]
  },
  {
   "cell_type": "code",
   "execution_count": 1,
   "metadata": {
    "collapsed": true
   },
   "outputs": [],
   "source": [
    "import numpy as np\n",
    "import pandas as pd\n",
    "import seaborn as sns\n",
    "import sys\n",
    "\n",
    "from collections import defaultdict\n",
    "from functools import partial"
   ]
  },
  {
   "cell_type": "code",
   "execution_count": 2,
   "metadata": {
    "collapsed": true
   },
   "outputs": [],
   "source": [
    "sys.path.append(\"..\")"
   ]
  },
  {
   "cell_type": "code",
   "execution_count": 3,
   "metadata": {
    "collapsed": false
   },
   "outputs": [],
   "source": [
    "from src.plots import plot_drift\n",
    "from src.plots import plot_p_val_heatmap\n",
    "\n",
    "from src.stats import p_val_pairs\n",
    "\n",
    "from src.gene_ont import load_annotations\n",
    "from src.gene_ont import parse_go_defn\n",
    "from src.gene_ont import parse_go_links\n",
    "from src.gene_ont import group_genes\n",
    "from src.gene_ont import filter_go\n",
    "\n",
    "from src.util import union"
   ]
  },
  {
   "cell_type": "code",
   "execution_count": 4,
   "metadata": {
    "collapsed": true
   },
   "outputs": [],
   "source": [
    "%matplotlib inline"
   ]
  },
  {
   "cell_type": "markdown",
   "metadata": {},
   "source": [
    "---"
   ]
  },
  {
   "cell_type": "markdown",
   "metadata": {},
   "source": [
    "## Read the pre-normalized drift data"
   ]
  },
  {
   "cell_type": "code",
   "execution_count": 5,
   "metadata": {
    "collapsed": true
   },
   "outputs": [],
   "source": [
    "data = pd.read_csv(\"../data/GSE69244/norm_avg_drift.tsv\", sep = '\\t')"
   ]
  },
  {
   "cell_type": "code",
   "execution_count": 6,
   "metadata": {
    "collapsed": false
   },
   "outputs": [
    {
     "data": {
      "text/plain": [
       "(45690, 10)"
      ]
     },
     "execution_count": 6,
     "metadata": {},
     "output_type": "execute_result"
    }
   ],
   "source": [
    "data.shape"
   ]
  },
  {
   "cell_type": "code",
   "execution_count": 7,
   "metadata": {
    "collapsed": false
   },
   "outputs": [
    {
     "data": {
      "text/html": [
       "<div>\n",
       "<table border=\"1\" class=\"dataframe\">\n",
       "  <thead>\n",
       "    <tr style=\"text-align: right;\">\n",
       "      <th></th>\n",
       "      <th>months_old</th>\n",
       "      <th>drug_given</th>\n",
       "      <th>gene_id</th>\n",
       "      <th>mgi_id</th>\n",
       "      <th>gene_count</th>\n",
       "      <th>log_count</th>\n",
       "      <th>ref_log_count</th>\n",
       "      <th>ref_sample</th>\n",
       "      <th>drift</th>\n",
       "      <th>sample_name</th>\n",
       "    </tr>\n",
       "  </thead>\n",
       "  <tbody>\n",
       "    <tr>\n",
       "      <th>0</th>\n",
       "      <td>3</td>\n",
       "      <td>vehicle</td>\n",
       "      <td>0610007P14Rik</td>\n",
       "      <td>MGI:1915571</td>\n",
       "      <td>342.5</td>\n",
       "      <td>5.836272</td>\n",
       "      <td>5.720312</td>\n",
       "      <td>1</td>\n",
       "      <td>-0.034916</td>\n",
       "      <td>young</td>\n",
       "    </tr>\n",
       "    <tr>\n",
       "      <th>1</th>\n",
       "      <td>3</td>\n",
       "      <td>vehicle</td>\n",
       "      <td>0610009B22Rik</td>\n",
       "      <td>MGI:1913300</td>\n",
       "      <td>154.0</td>\n",
       "      <td>5.036953</td>\n",
       "      <td>4.836282</td>\n",
       "      <td>1</td>\n",
       "      <td>0.049794</td>\n",
       "      <td>young</td>\n",
       "    </tr>\n",
       "    <tr>\n",
       "      <th>2</th>\n",
       "      <td>3</td>\n",
       "      <td>vehicle</td>\n",
       "      <td>0610009L18Rik</td>\n",
       "      <td>MGI:1914088</td>\n",
       "      <td>23.5</td>\n",
       "      <td>3.157000</td>\n",
       "      <td>2.944439</td>\n",
       "      <td>1</td>\n",
       "      <td>0.061685</td>\n",
       "      <td>young</td>\n",
       "    </tr>\n",
       "    <tr>\n",
       "      <th>3</th>\n",
       "      <td>3</td>\n",
       "      <td>vehicle</td>\n",
       "      <td>0610009O20Rik</td>\n",
       "      <td>MGI:1914089</td>\n",
       "      <td>551.0</td>\n",
       "      <td>6.311735</td>\n",
       "      <td>6.214608</td>\n",
       "      <td>1</td>\n",
       "      <td>-0.053750</td>\n",
       "      <td>young</td>\n",
       "    </tr>\n",
       "    <tr>\n",
       "      <th>4</th>\n",
       "      <td>3</td>\n",
       "      <td>vehicle</td>\n",
       "      <td>0610010F05Rik</td>\n",
       "      <td>MGI:1918925</td>\n",
       "      <td>694.0</td>\n",
       "      <td>6.542472</td>\n",
       "      <td>6.545350</td>\n",
       "      <td>1</td>\n",
       "      <td>-0.153754</td>\n",
       "      <td>young</td>\n",
       "    </tr>\n",
       "  </tbody>\n",
       "</table>\n",
       "</div>"
      ],
      "text/plain": [
       "   months_old drug_given        gene_id       mgi_id  gene_count  log_count  \\\n",
       "0           3    vehicle  0610007P14Rik  MGI:1915571       342.5   5.836272   \n",
       "1           3    vehicle  0610009B22Rik  MGI:1913300       154.0   5.036953   \n",
       "2           3    vehicle  0610009L18Rik  MGI:1914088        23.5   3.157000   \n",
       "3           3    vehicle  0610009O20Rik  MGI:1914089       551.0   6.311735   \n",
       "4           3    vehicle  0610010F05Rik  MGI:1918925       694.0   6.542472   \n",
       "\n",
       "   ref_log_count  ref_sample     drift sample_name  \n",
       "0       5.720312           1 -0.034916       young  \n",
       "1       4.836282           1  0.049794       young  \n",
       "2       2.944439           1  0.061685       young  \n",
       "3       6.214608           1 -0.053750       young  \n",
       "4       6.545350           1 -0.153754       young  "
      ]
     },
     "execution_count": 7,
     "metadata": {},
     "output_type": "execute_result"
    }
   ],
   "source": [
    "data.head()"
   ]
  },
  {
   "cell_type": "markdown",
   "metadata": {},
   "source": [
    "## Drift for all samples"
   ]
  },
  {
   "cell_type": "code",
   "execution_count": 8,
   "metadata": {
    "collapsed": false
   },
   "outputs": [
    {
     "data": {
      "text/plain": [
       "<matplotlib.axes._subplots.AxesSubplot at 0x7f77776b6518>"
      ]
     },
     "execution_count": 8,
     "metadata": {},
     "output_type": "execute_result"
    },
    {
     "data": {
      "image/png": "[encoded data removed]",
      "text/plain": [
       "<matplotlib.figure.Figure at 0x7f77777a8d30>"
      ]
     },
     "metadata": {},
     "output_type": "display_data"
    }
   ],
   "source": [
    "plot_drift(\n",
    "    \"box\", data, \"months_old\", \"drift\", \"gene_id\", groupby = \"drug_given\"\n",
    ")"
   ]
  },
  {
   "cell_type": "code",
   "execution_count": 9,
   "metadata": {
    "collapsed": false
   },
   "outputs": [
    {
     "data": {
      "text/plain": [
       "<matplotlib.axes._subplots.AxesSubplot at 0x7f7777a0c5f8>"
      ]
     },
     "execution_count": 9,
     "metadata": {},
     "output_type": "execute_result"
    },
    {
     "data": {
      "image/png": "[encoded data removed]",
      "text/plain": [
       "<matplotlib.figure.Figure at 0x7f77779e6e80>"
      ]
     },
     "metadata": {},
     "output_type": "display_data"
    }
   ],
   "source": [
    "plot_p_val_heatmap(\n",
    "    data, [\"months_old\", \"drug_given\"], \"drift\", circles = True\n",
    ")"
   ]
  },
  {
   "cell_type": "markdown",
   "metadata": {},
   "source": [
    "Drift in this sample is significant between the groups, but the overall drift value is quite small (0.6 at most)."
   ]
  },
  {
   "cell_type": "markdown",
   "metadata": {},
   "source": [
    "# Drift grouped by GO annotations"
   ]
  },
  {
   "cell_type": "markdown",
   "metadata": {},
   "source": [
    "## Read the mouse GO annotations"
   ]
  },
  {
   "cell_type": "code",
   "execution_count": 10,
   "metadata": {
    "collapsed": false
   },
   "outputs": [],
   "source": [
    "go_defn = parse_go_defn(\"../data/gene_ontology/go.obo\")"
   ]
  },
  {
   "cell_type": "code",
   "execution_count": 11,
   "metadata": {
    "collapsed": false
   },
   "outputs": [
    {
     "data": {
      "text/html": [
       "<div>\n",
       "<table border=\"1\" class=\"dataframe\">\n",
       "  <thead>\n",
       "    <tr style=\"text-align: right;\">\n",
       "      <th></th>\n",
       "      <th>go_id</th>\n",
       "      <th>go_name</th>\n",
       "      <th>namespace</th>\n",
       "      <th>obsolete</th>\n",
       "    </tr>\n",
       "  </thead>\n",
       "  <tbody>\n",
       "    <tr>\n",
       "      <th>0</th>\n",
       "      <td>GO:0000001</td>\n",
       "      <td>mitochondrion inheritance</td>\n",
       "      <td>biological_process</td>\n",
       "      <td>False</td>\n",
       "    </tr>\n",
       "    <tr>\n",
       "      <th>1</th>\n",
       "      <td>GO:0000002</td>\n",
       "      <td>mitochondrial genome maintenance</td>\n",
       "      <td>biological_process</td>\n",
       "      <td>False</td>\n",
       "    </tr>\n",
       "    <tr>\n",
       "      <th>2</th>\n",
       "      <td>GO:0000003</td>\n",
       "      <td>reproduction</td>\n",
       "      <td>biological_process</td>\n",
       "      <td>False</td>\n",
       "    </tr>\n",
       "    <tr>\n",
       "      <th>3</th>\n",
       "      <td>GO:0000005</td>\n",
       "      <td>obsolete ribosomal chaperone activity</td>\n",
       "      <td>molecular_function</td>\n",
       "      <td>True</td>\n",
       "    </tr>\n",
       "    <tr>\n",
       "      <th>4</th>\n",
       "      <td>GO:0000006</td>\n",
       "      <td>high-affinity zinc uptake transmembrane transp...</td>\n",
       "      <td>molecular_function</td>\n",
       "      <td>False</td>\n",
       "    </tr>\n",
       "  </tbody>\n",
       "</table>\n",
       "</div>"
      ],
      "text/plain": [
       "        go_id                                            go_name  \\\n",
       "0  GO:0000001                          mitochondrion inheritance   \n",
       "1  GO:0000002                   mitochondrial genome maintenance   \n",
       "2  GO:0000003                                       reproduction   \n",
       "3  GO:0000005              obsolete ribosomal chaperone activity   \n",
       "4  GO:0000006  high-affinity zinc uptake transmembrane transp...   \n",
       "\n",
       "            namespace obsolete  \n",
       "0  biological_process    False  \n",
       "1  biological_process    False  \n",
       "2  biological_process    False  \n",
       "3  molecular_function     True  \n",
       "4  molecular_function    False  "
      ]
     },
     "execution_count": 11,
     "metadata": {},
     "output_type": "execute_result"
    }
   ],
   "source": [
    "go_defn.head()"
   ]
  },
  {
   "cell_type": "code",
   "execution_count": 12,
   "metadata": {
    "collapsed": true
   },
   "outputs": [],
   "source": [
    "mouse_go = load_annotations(\"../data/gene_ontology/gene_association.mgi\")"
   ]
  },
  {
   "cell_type": "code",
   "execution_count": 13,
   "metadata": {
    "collapsed": false
   },
   "outputs": [
    {
     "data": {
      "text/plain": [
       "(369000, 16)"
      ]
     },
     "execution_count": 13,
     "metadata": {},
     "output_type": "execute_result"
    }
   ],
   "source": [
    "mouse_go.shape"
   ]
  },
  {
   "cell_type": "code",
   "execution_count": 14,
   "metadata": {
    "collapsed": false
   },
   "outputs": [
    {
     "data": {
      "text/html": [
       "<div>\n",
       "<table border=\"1\" class=\"dataframe\">\n",
       "  <thead>\n",
       "    <tr style=\"text-align: right;\">\n",
       "      <th></th>\n",
       "      <th>database_id</th>\n",
       "      <th>db_obj_symbol</th>\n",
       "      <th>qualifier</th>\n",
       "      <th>go_id</th>\n",
       "      <th>db_ref</th>\n",
       "      <th>evidence</th>\n",
       "      <th>with_from</th>\n",
       "      <th>aspect</th>\n",
       "      <th>db_obj_name</th>\n",
       "      <th>db_obj_syn</th>\n",
       "      <th>db_obj_type</th>\n",
       "      <th>taxon</th>\n",
       "      <th>date</th>\n",
       "      <th>assigned_by</th>\n",
       "      <th>annot_ext</th>\n",
       "      <th>gene_prod_id</th>\n",
       "    </tr>\n",
       "  </thead>\n",
       "  <tbody>\n",
       "    <tr>\n",
       "      <th>0</th>\n",
       "      <td>MGI:1918911</td>\n",
       "      <td>0610005C13Rik</td>\n",
       "      <td>NaN</td>\n",
       "      <td>GO:0003674</td>\n",
       "      <td>MGI:MGI:2156816|GO_REF:0000015</td>\n",
       "      <td>ND</td>\n",
       "      <td>NaN</td>\n",
       "      <td>F</td>\n",
       "      <td>RIKEN cDNA 0610005C13 gene</td>\n",
       "      <td>NaN</td>\n",
       "      <td>gene</td>\n",
       "      <td>taxon:10090</td>\n",
       "      <td>20100209</td>\n",
       "      <td>MGI</td>\n",
       "      <td>NaN</td>\n",
       "      <td>NaN</td>\n",
       "    </tr>\n",
       "    <tr>\n",
       "      <th>1</th>\n",
       "      <td>MGI:1918911</td>\n",
       "      <td>0610005C13Rik</td>\n",
       "      <td>NaN</td>\n",
       "      <td>GO:0005575</td>\n",
       "      <td>MGI:MGI:2156816|GO_REF:0000015</td>\n",
       "      <td>ND</td>\n",
       "      <td>NaN</td>\n",
       "      <td>C</td>\n",
       "      <td>RIKEN cDNA 0610005C13 gene</td>\n",
       "      <td>NaN</td>\n",
       "      <td>gene</td>\n",
       "      <td>taxon:10090</td>\n",
       "      <td>20100209</td>\n",
       "      <td>MGI</td>\n",
       "      <td>NaN</td>\n",
       "      <td>NaN</td>\n",
       "    </tr>\n",
       "    <tr>\n",
       "      <th>2</th>\n",
       "      <td>MGI:1918911</td>\n",
       "      <td>0610005C13Rik</td>\n",
       "      <td>NaN</td>\n",
       "      <td>GO:0008150</td>\n",
       "      <td>MGI:MGI:2156816|GO_REF:0000015</td>\n",
       "      <td>ND</td>\n",
       "      <td>NaN</td>\n",
       "      <td>P</td>\n",
       "      <td>RIKEN cDNA 0610005C13 gene</td>\n",
       "      <td>NaN</td>\n",
       "      <td>gene</td>\n",
       "      <td>taxon:10090</td>\n",
       "      <td>20100209</td>\n",
       "      <td>MGI</td>\n",
       "      <td>NaN</td>\n",
       "      <td>NaN</td>\n",
       "    </tr>\n",
       "    <tr>\n",
       "      <th>3</th>\n",
       "      <td>MGI:1923503</td>\n",
       "      <td>0610006L08Rik</td>\n",
       "      <td>NaN</td>\n",
       "      <td>GO:0003674</td>\n",
       "      <td>MGI:MGI:2156816|GO_REF:0000015</td>\n",
       "      <td>ND</td>\n",
       "      <td>NaN</td>\n",
       "      <td>F</td>\n",
       "      <td>RIKEN cDNA 0610006L08 gene</td>\n",
       "      <td>NaN</td>\n",
       "      <td>gene</td>\n",
       "      <td>taxon:10090</td>\n",
       "      <td>20120430</td>\n",
       "      <td>MGI</td>\n",
       "      <td>NaN</td>\n",
       "      <td>NaN</td>\n",
       "    </tr>\n",
       "    <tr>\n",
       "      <th>4</th>\n",
       "      <td>MGI:1923503</td>\n",
       "      <td>0610006L08Rik</td>\n",
       "      <td>NaN</td>\n",
       "      <td>GO:0005575</td>\n",
       "      <td>MGI:MGI:2156816|GO_REF:0000015</td>\n",
       "      <td>ND</td>\n",
       "      <td>NaN</td>\n",
       "      <td>C</td>\n",
       "      <td>RIKEN cDNA 0610006L08 gene</td>\n",
       "      <td>NaN</td>\n",
       "      <td>gene</td>\n",
       "      <td>taxon:10090</td>\n",
       "      <td>20120430</td>\n",
       "      <td>MGI</td>\n",
       "      <td>NaN</td>\n",
       "      <td>NaN</td>\n",
       "    </tr>\n",
       "  </tbody>\n",
       "</table>\n",
       "</div>"
      ],
      "text/plain": [
       "   database_id  db_obj_symbol qualifier       go_id  \\\n",
       "0  MGI:1918911  0610005C13Rik       NaN  GO:0003674   \n",
       "1  MGI:1918911  0610005C13Rik       NaN  GO:0005575   \n",
       "2  MGI:1918911  0610005C13Rik       NaN  GO:0008150   \n",
       "3  MGI:1923503  0610006L08Rik       NaN  GO:0003674   \n",
       "4  MGI:1923503  0610006L08Rik       NaN  GO:0005575   \n",
       "\n",
       "                           db_ref evidence with_from aspect  \\\n",
       "0  MGI:MGI:2156816|GO_REF:0000015       ND       NaN      F   \n",
       "1  MGI:MGI:2156816|GO_REF:0000015       ND       NaN      C   \n",
       "2  MGI:MGI:2156816|GO_REF:0000015       ND       NaN      P   \n",
       "3  MGI:MGI:2156816|GO_REF:0000015       ND       NaN      F   \n",
       "4  MGI:MGI:2156816|GO_REF:0000015       ND       NaN      C   \n",
       "\n",
       "                  db_obj_name db_obj_syn db_obj_type        taxon      date  \\\n",
       "0  RIKEN cDNA 0610005C13 gene        NaN        gene  taxon:10090  20100209   \n",
       "1  RIKEN cDNA 0610005C13 gene        NaN        gene  taxon:10090  20100209   \n",
       "2  RIKEN cDNA 0610005C13 gene        NaN        gene  taxon:10090  20100209   \n",
       "3  RIKEN cDNA 0610006L08 gene        NaN        gene  taxon:10090  20120430   \n",
       "4  RIKEN cDNA 0610006L08 gene        NaN        gene  taxon:10090  20120430   \n",
       "\n",
       "  assigned_by annot_ext gene_prod_id  \n",
       "0         MGI       NaN          NaN  \n",
       "1         MGI       NaN          NaN  \n",
       "2         MGI       NaN          NaN  \n",
       "3         MGI       NaN          NaN  \n",
       "4         MGI       NaN          NaN  "
      ]
     },
     "execution_count": 14,
     "metadata": {},
     "output_type": "execute_result"
    }
   ],
   "source": [
    "mouse_go.head()"
   ]
  },
  {
   "cell_type": "code",
   "execution_count": 15,
   "metadata": {
    "collapsed": false
   },
   "outputs": [
    {
     "data": {
      "text/plain": [
       "16940"
      ]
     },
     "execution_count": 15,
     "metadata": {},
     "output_type": "execute_result"
    }
   ],
   "source": [
    "mouse_go[\"go_id\"].nunique()"
   ]
  },
  {
   "cell_type": "code",
   "execution_count": 16,
   "metadata": {
    "collapsed": false
   },
   "outputs": [
    {
     "data": {
      "text/plain": [
       "24215"
      ]
     },
     "execution_count": 16,
     "metadata": {},
     "output_type": "execute_result"
    }
   ],
   "source": [
    "mouse_go[\"database_id\"].nunique()"
   ]
  },
  {
   "cell_type": "markdown",
   "metadata": {},
   "source": [
    "## Read the Gene Ontology hierarchy"
   ]
  },
  {
   "cell_type": "code",
   "execution_count": 17,
   "metadata": {
    "collapsed": true
   },
   "outputs": [],
   "source": [
    "fname = \"../data/gene_ontology/go.obo\"\n",
    "children = parse_go_links(fname)"
   ]
  },
  {
   "cell_type": "markdown",
   "metadata": {},
   "source": [
    "---"
   ]
  },
  {
   "cell_type": "markdown",
   "metadata": {},
   "source": [
    "## Genes annotated with each GO term"
   ]
  },
  {
   "cell_type": "code",
   "execution_count": 18,
   "metadata": {
    "collapsed": false
   },
   "outputs": [],
   "source": [
    "# save the genes for each annotated go term\n",
    "annots = defaultdict(\n",
    "    set,\n",
    "    {\n",
    "        go_term: set(df[\"database_id\"])\n",
    "        for go_term, df in mouse_go.groupby(\"go_id\")\n",
    "    }\n",
    ")"
   ]
  },
  {
   "cell_type": "markdown",
   "metadata": {},
   "source": [
    "## Genes associated with each GO term (according to the hierarchy)"
   ]
  },
  {
   "cell_type": "code",
   "execution_count": 19,
   "metadata": {
    "collapsed": true
   },
   "outputs": [],
   "source": [
    "go_groups = group_genes(children, annots, [\"is_a\", \"part_of\"])"
   ]
  },
  {
   "cell_type": "markdown",
   "metadata": {},
   "source": [
    "### Some statistics:"
   ]
  },
  {
   "cell_type": "code",
   "execution_count": 20,
   "metadata": {
    "collapsed": true
   },
   "outputs": [],
   "source": [
    "info = pd.DataFrame(\n",
    "    [(term, len(genes)) for term, genes in go_groups.items()],\n",
    "    columns = [\"go_id\", \"num_genes\"]\n",
    ").sort_values(\"num_genes\", ascending = False).reset_index(drop = True)\n",
    "\n",
    "info = pd.merge(info, go_defn, how = \"inner\", on = \"go_id\")"
   ]
  },
  {
   "cell_type": "code",
   "execution_count": 21,
   "metadata": {
    "collapsed": false
   },
   "outputs": [
    {
     "data": {
      "text/plain": [
       "(42514, 5)"
      ]
     },
     "execution_count": 21,
     "metadata": {},
     "output_type": "execute_result"
    }
   ],
   "source": [
    "info.shape"
   ]
  },
  {
   "cell_type": "code",
   "execution_count": 22,
   "metadata": {
    "collapsed": false,
    "scrolled": true
   },
   "outputs": [
    {
     "data": {
      "text/html": [
       "<div>\n",
       "<table border=\"1\" class=\"dataframe\">\n",
       "  <thead>\n",
       "    <tr style=\"text-align: right;\">\n",
       "      <th></th>\n",
       "      <th>go_id</th>\n",
       "      <th>num_genes</th>\n",
       "      <th>go_name</th>\n",
       "      <th>namespace</th>\n",
       "      <th>obsolete</th>\n",
       "    </tr>\n",
       "  </thead>\n",
       "  <tbody>\n",
       "    <tr>\n",
       "      <th>0</th>\n",
       "      <td>GO:0008150</td>\n",
       "      <td>23775</td>\n",
       "      <td>biological_process</td>\n",
       "      <td>biological_process</td>\n",
       "      <td>False</td>\n",
       "    </tr>\n",
       "    <tr>\n",
       "      <th>1</th>\n",
       "      <td>GO:0005575</td>\n",
       "      <td>23483</td>\n",
       "      <td>cellular_component</td>\n",
       "      <td>cellular_component</td>\n",
       "      <td>False</td>\n",
       "    </tr>\n",
       "    <tr>\n",
       "      <th>2</th>\n",
       "      <td>GO:0003674</td>\n",
       "      <td>23068</td>\n",
       "      <td>molecular_function</td>\n",
       "      <td>molecular_function</td>\n",
       "      <td>False</td>\n",
       "    </tr>\n",
       "    <tr>\n",
       "      <th>3</th>\n",
       "      <td>GO:0005623</td>\n",
       "      <td>14976</td>\n",
       "      <td>cell</td>\n",
       "      <td>cellular_component</td>\n",
       "      <td>False</td>\n",
       "    </tr>\n",
       "    <tr>\n",
       "      <th>4</th>\n",
       "      <td>GO:0044464</td>\n",
       "      <td>14963</td>\n",
       "      <td>cell part</td>\n",
       "      <td>cellular_component</td>\n",
       "      <td>False</td>\n",
       "    </tr>\n",
       "  </tbody>\n",
       "</table>\n",
       "</div>"
      ],
      "text/plain": [
       "        go_id  num_genes             go_name           namespace obsolete\n",
       "0  GO:0008150      23775  biological_process  biological_process    False\n",
       "1  GO:0005575      23483  cellular_component  cellular_component    False\n",
       "2  GO:0003674      23068  molecular_function  molecular_function    False\n",
       "3  GO:0005623      14976                cell  cellular_component    False\n",
       "4  GO:0044464      14963           cell part  cellular_component    False"
      ]
     },
     "execution_count": 22,
     "metadata": {},
     "output_type": "execute_result"
    }
   ],
   "source": [
    "info.head()"
   ]
  },
  {
   "cell_type": "code",
   "execution_count": 23,
   "metadata": {
    "collapsed": false
   },
   "outputs": [
    {
     "data": {
      "text/plain": [
       "True"
      ]
     },
     "execution_count": 23,
     "metadata": {},
     "output_type": "execute_result"
    }
   ],
   "source": [
    "all(~info[\"obsolete\"])"
   ]
  },
  {
   "cell_type": "code",
   "execution_count": 24,
   "metadata": {
    "collapsed": false
   },
   "outputs": [
    {
     "data": {
      "text/plain": [
       "21526"
      ]
     },
     "execution_count": 24,
     "metadata": {},
     "output_type": "execute_result"
    }
   ],
   "source": [
    "(info[\"num_genes\"] == 0).sum()"
   ]
  },
  {
   "cell_type": "code",
   "execution_count": 25,
   "metadata": {
    "collapsed": false
   },
   "outputs": [
    {
     "data": {
      "text/plain": [
       "20988"
      ]
     },
     "execution_count": 25,
     "metadata": {},
     "output_type": "execute_result"
    }
   ],
   "source": [
    "(info[\"num_genes\"] > 0).sum()"
   ]
  },
  {
   "cell_type": "code",
   "execution_count": 26,
   "metadata": {
    "collapsed": false
   },
   "outputs": [
    {
     "data": {
      "text/plain": [
       "8023"
      ]
     },
     "execution_count": 26,
     "metadata": {},
     "output_type": "execute_result"
    }
   ],
   "source": [
    "(info[\"num_genes\"] >= 10).sum()"
   ]
  },
  {
   "cell_type": "code",
   "execution_count": 27,
   "metadata": {
    "collapsed": false
   },
   "outputs": [
    {
     "data": {
      "text/plain": [
       "<matplotlib.axes._subplots.AxesSubplot at 0x7f7775ac5208>"
      ]
     },
     "execution_count": 27,
     "metadata": {},
     "output_type": "execute_result"
    },
    {
     "data": {
      "image/png": "[encoded data removed]",
      "text/plain": [
       "<matplotlib.figure.Figure at 0x7f77b5da3f28>"
      ]
     },
     "metadata": {},
     "output_type": "display_data"
    }
   ],
   "source": [
    "info.query(\"0 < num_genes < 10\").groupby(\"num_genes\").size().plot(kind = \"bar\")"
   ]
  },
  {
   "cell_type": "code",
   "execution_count": 28,
   "metadata": {
    "collapsed": false
   },
   "outputs": [
    {
     "data": {
      "text/plain": [
       "<matplotlib.axes._subplots.AxesSubplot at 0x7f7772c23358>"
      ]
     },
     "execution_count": 28,
     "metadata": {},
     "output_type": "execute_result"
    },
    {
     "data": {
      "image/png": "[encoded data removed]",
      "text/plain": [
       "<matplotlib.figure.Figure at 0x7f7777997048>"
      ]
     },
     "metadata": {},
     "output_type": "display_data"
    }
   ],
   "source": [
    "sns.distplot(np.log(info.query(\"num_genes > 0\")[\"num_genes\"]))"
   ]
  },
  {
   "cell_type": "markdown",
   "metadata": {},
   "source": [
    "## Drop GO terms with no annotations"
   ]
  },
  {
   "cell_type": "code",
   "execution_count": 29,
   "metadata": {
    "collapsed": true
   },
   "outputs": [],
   "source": [
    "info = info.query(\"num_genes > 0\")"
   ]
  },
  {
   "cell_type": "markdown",
   "metadata": {},
   "source": [
    "## Check which annotated genes are in the RNA-seq dataset"
   ]
  },
  {
   "cell_type": "code",
   "execution_count": 30,
   "metadata": {
    "collapsed": true
   },
   "outputs": [],
   "source": [
    "good_genes = set(data[\"mgi_id\"])\n",
    "\n",
    "info[\"num_in_data\"] = info[\"go_id\"].map(\n",
    "    lambda v: len(good_genes & go_groups[v])\n",
    ")\n",
    "\n",
    "info = info.sort_values(\"num_in_data\", ascending = False).reset_index(drop = True)\n",
    "info[\"frac_present\"] = info[\"num_in_data\"] / info[\"num_genes\"]"
   ]
  },
  {
   "cell_type": "code",
   "execution_count": 31,
   "metadata": {
    "collapsed": false
   },
   "outputs": [
    {
     "data": {
      "text/plain": [
       "(20988, 7)"
      ]
     },
     "execution_count": 31,
     "metadata": {},
     "output_type": "execute_result"
    }
   ],
   "source": [
    "info.shape"
   ]
  },
  {
   "cell_type": "code",
   "execution_count": 32,
   "metadata": {
    "collapsed": false
   },
   "outputs": [
    {
     "data": {
      "text/html": [
       "<div>\n",
       "<table border=\"1\" class=\"dataframe\">\n",
       "  <thead>\n",
       "    <tr style=\"text-align: right;\">\n",
       "      <th></th>\n",
       "      <th>go_id</th>\n",
       "      <th>num_genes</th>\n",
       "      <th>go_name</th>\n",
       "      <th>namespace</th>\n",
       "      <th>obsolete</th>\n",
       "      <th>num_in_data</th>\n",
       "      <th>frac_present</th>\n",
       "    </tr>\n",
       "  </thead>\n",
       "  <tbody>\n",
       "    <tr>\n",
       "      <th>0</th>\n",
       "      <td>GO:0005575</td>\n",
       "      <td>23483</td>\n",
       "      <td>cellular_component</td>\n",
       "      <td>cellular_component</td>\n",
       "      <td>False</td>\n",
       "      <td>14571</td>\n",
       "      <td>0.620491</td>\n",
       "    </tr>\n",
       "    <tr>\n",
       "      <th>1</th>\n",
       "      <td>GO:0008150</td>\n",
       "      <td>23775</td>\n",
       "      <td>biological_process</td>\n",
       "      <td>biological_process</td>\n",
       "      <td>False</td>\n",
       "      <td>14535</td>\n",
       "      <td>0.611356</td>\n",
       "    </tr>\n",
       "    <tr>\n",
       "      <th>2</th>\n",
       "      <td>GO:0003674</td>\n",
       "      <td>23068</td>\n",
       "      <td>molecular_function</td>\n",
       "      <td>molecular_function</td>\n",
       "      <td>False</td>\n",
       "      <td>14355</td>\n",
       "      <td>0.622291</td>\n",
       "    </tr>\n",
       "    <tr>\n",
       "      <th>3</th>\n",
       "      <td>GO:0005623</td>\n",
       "      <td>14976</td>\n",
       "      <td>cell</td>\n",
       "      <td>cellular_component</td>\n",
       "      <td>False</td>\n",
       "      <td>11766</td>\n",
       "      <td>0.785657</td>\n",
       "    </tr>\n",
       "    <tr>\n",
       "      <th>4</th>\n",
       "      <td>GO:0044464</td>\n",
       "      <td>14963</td>\n",
       "      <td>cell part</td>\n",
       "      <td>cellular_component</td>\n",
       "      <td>False</td>\n",
       "      <td>11763</td>\n",
       "      <td>0.786139</td>\n",
       "    </tr>\n",
       "  </tbody>\n",
       "</table>\n",
       "</div>"
      ],
      "text/plain": [
       "        go_id  num_genes             go_name           namespace obsolete  \\\n",
       "0  GO:0005575      23483  cellular_component  cellular_component    False   \n",
       "1  GO:0008150      23775  biological_process  biological_process    False   \n",
       "2  GO:0003674      23068  molecular_function  molecular_function    False   \n",
       "3  GO:0005623      14976                cell  cellular_component    False   \n",
       "4  GO:0044464      14963           cell part  cellular_component    False   \n",
       "\n",
       "   num_in_data  frac_present  \n",
       "0        14571      0.620491  \n",
       "1        14535      0.611356  \n",
       "2        14355      0.622291  \n",
       "3        11766      0.785657  \n",
       "4        11763      0.786139  "
      ]
     },
     "execution_count": 32,
     "metadata": {},
     "output_type": "execute_result"
    }
   ],
   "source": [
    "info.head()"
   ]
  },
  {
   "cell_type": "code",
   "execution_count": 33,
   "metadata": {
    "collapsed": false
   },
   "outputs": [
    {
     "data": {
      "text/plain": [
       "count    20988.000000\n",
       "mean        67.883267\n",
       "std        435.361136\n",
       "min          0.000000\n",
       "25%          1.000000\n",
       "50%          4.000000\n",
       "75%         18.000000\n",
       "max      14571.000000\n",
       "Name: num_in_data, dtype: float64"
      ]
     },
     "execution_count": 33,
     "metadata": {},
     "output_type": "execute_result"
    }
   ],
   "source": [
    "info[\"num_in_data\"].describe()"
   ]
  },
  {
   "cell_type": "code",
   "execution_count": 34,
   "metadata": {
    "collapsed": false
   },
   "outputs": [
    {
     "data": {
      "text/plain": [
       "<matplotlib.axes._subplots.AxesSubplot at 0x7f7772c5df60>"
      ]
     },
     "execution_count": 34,
     "metadata": {},
     "output_type": "execute_result"
    },
    {
     "data": {
      "image/png": "[encoded data removed]",
      "text/plain": [
       "<matplotlib.figure.Figure at 0x7f7772a100b8>"
      ]
     },
     "metadata": {},
     "output_type": "display_data"
    }
   ],
   "source": [
    "sns.boxplot(y = info[\"frac_present\"])"
   ]
  },
  {
   "cell_type": "code",
   "execution_count": 35,
   "metadata": {
    "collapsed": false
   },
   "outputs": [
    {
     "data": {
      "text/plain": [
       "7308"
      ]
     },
     "execution_count": 35,
     "metadata": {},
     "output_type": "execute_result"
    }
   ],
   "source": [
    "(info[\"num_in_data\"] >= 10).sum()"
   ]
  },
  {
   "cell_type": "code",
   "execution_count": 36,
   "metadata": {
    "collapsed": true
   },
   "outputs": [],
   "source": [
    "info = info.query(\"num_in_data >= 10\")"
   ]
  },
  {
   "cell_type": "markdown",
   "metadata": {},
   "source": [
    "With the GO hierarchy considered, we see that we now have 7308 testable GO terms with >= 10 genes, instead of the previous 3329."
   ]
  },
  {
   "cell_type": "markdown",
   "metadata": {},
   "source": [
    "## Hypothesis testing"
   ]
  },
  {
   "cell_type": "markdown",
   "metadata": {},
   "source": [
    "## Significance checking function"
   ]
  },
  {
   "cell_type": "code",
   "execution_count": 37,
   "metadata": {
    "collapsed": true
   },
   "outputs": [],
   "source": [
    "def signif(go_term, df, go_groups, groupby, drift_col, conditions):\n",
    "    \"\"\"Check for significant drift.\n",
    "    \n",
    "    For a subset of genes specified by the GO term, calculates the\n",
    "    p-values when grouped together by the groupby. Then checks that\n",
    "    all p values of the condition pairs are below the significance\n",
    "    threshold.\n",
    "    \n",
    "    Conditions = dict(key: direction)\n",
    "    where key = pair of groups, direction = boolean of whether the variance\n",
    "    of the left group is larger\n",
    "    \"\"\"\n",
    "    res = filter_go([go_term], go_groups, df, \"mgi_id\")\n",
    "    \n",
    "    p_vals = p_val_pairs(res, groupby, drift_col)\n",
    "    \n",
    "    threshold = 0.05\n",
    "    for pair in conditions:\n",
    "        assert pair in p_vals, \"{} not in p-val pairs\".format(pair)\n",
    "        \n",
    "    return all(\n",
    "        p_vals[i][0] < threshold and p_vals[i][1] == direction\n",
    "        for i, direction in conditions.items()\n",
    "    )"
   ]
  },
  {
   "cell_type": "markdown",
   "metadata": {},
   "source": [
    "## GO groups which increase in drift in vehicle"
   ]
  },
  {
   "cell_type": "code",
   "execution_count": 38,
   "metadata": {
    "collapsed": false
   },
   "outputs": [],
   "source": [
    "drift_ctrl = partial(\n",
    "    signif, df = data.query(\"drug_given == 'vehicle'\"),\n",
    "    go_groups = go_groups, groupby = \"months_old\",\n",
    "    drift_col = \"drift\",\n",
    "    conditions = {(3, 10): False}\n",
    ")\n",
    "\n",
    "info[\"d_ctrl\"] = info[\"go_id\"].map(drift_ctrl)"
   ]
  },
  {
   "cell_type": "code",
   "execution_count": 39,
   "metadata": {
    "collapsed": false
   },
   "outputs": [
    {
     "data": {
      "text/html": [
       "<div>\n",
       "<table border=\"1\" class=\"dataframe\">\n",
       "  <thead>\n",
       "    <tr style=\"text-align: right;\">\n",
       "      <th></th>\n",
       "      <th>go_id</th>\n",
       "      <th>num_genes</th>\n",
       "      <th>go_name</th>\n",
       "      <th>namespace</th>\n",
       "      <th>obsolete</th>\n",
       "      <th>num_in_data</th>\n",
       "      <th>frac_present</th>\n",
       "      <th>d_ctrl</th>\n",
       "    </tr>\n",
       "  </thead>\n",
       "  <tbody>\n",
       "    <tr>\n",
       "      <th>0</th>\n",
       "      <td>GO:0005575</td>\n",
       "      <td>23483</td>\n",
       "      <td>cellular_component</td>\n",
       "      <td>cellular_component</td>\n",
       "      <td>False</td>\n",
       "      <td>14571</td>\n",
       "      <td>0.620491</td>\n",
       "      <td>True</td>\n",
       "    </tr>\n",
       "    <tr>\n",
       "      <th>1</th>\n",
       "      <td>GO:0008150</td>\n",
       "      <td>23775</td>\n",
       "      <td>biological_process</td>\n",
       "      <td>biological_process</td>\n",
       "      <td>False</td>\n",
       "      <td>14535</td>\n",
       "      <td>0.611356</td>\n",
       "      <td>True</td>\n",
       "    </tr>\n",
       "    <tr>\n",
       "      <th>2</th>\n",
       "      <td>GO:0003674</td>\n",
       "      <td>23068</td>\n",
       "      <td>molecular_function</td>\n",
       "      <td>molecular_function</td>\n",
       "      <td>False</td>\n",
       "      <td>14355</td>\n",
       "      <td>0.622291</td>\n",
       "      <td>True</td>\n",
       "    </tr>\n",
       "    <tr>\n",
       "      <th>3</th>\n",
       "      <td>GO:0005623</td>\n",
       "      <td>14976</td>\n",
       "      <td>cell</td>\n",
       "      <td>cellular_component</td>\n",
       "      <td>False</td>\n",
       "      <td>11766</td>\n",
       "      <td>0.785657</td>\n",
       "      <td>True</td>\n",
       "    </tr>\n",
       "    <tr>\n",
       "      <th>4</th>\n",
       "      <td>GO:0044464</td>\n",
       "      <td>14963</td>\n",
       "      <td>cell part</td>\n",
       "      <td>cellular_component</td>\n",
       "      <td>False</td>\n",
       "      <td>11763</td>\n",
       "      <td>0.786139</td>\n",
       "      <td>True</td>\n",
       "    </tr>\n",
       "  </tbody>\n",
       "</table>\n",
       "</div>"
      ],
      "text/plain": [
       "        go_id  num_genes             go_name           namespace obsolete  \\\n",
       "0  GO:0005575      23483  cellular_component  cellular_component    False   \n",
       "1  GO:0008150      23775  biological_process  biological_process    False   \n",
       "2  GO:0003674      23068  molecular_function  molecular_function    False   \n",
       "3  GO:0005623      14976                cell  cellular_component    False   \n",
       "4  GO:0044464      14963           cell part  cellular_component    False   \n",
       "\n",
       "   num_in_data  frac_present d_ctrl  \n",
       "0        14571      0.620491   True  \n",
       "1        14535      0.611356   True  \n",
       "2        14355      0.622291   True  \n",
       "3        11766      0.785657   True  \n",
       "4        11763      0.786139   True  "
      ]
     },
     "execution_count": 39,
     "metadata": {},
     "output_type": "execute_result"
    }
   ],
   "source": [
    "info.head()"
   ]
  },
  {
   "cell_type": "code",
   "execution_count": 40,
   "metadata": {
    "collapsed": false
   },
   "outputs": [
    {
     "data": {
      "text/plain": [
       "True     4872\n",
       "False    2436\n",
       "Name: d_ctrl, dtype: int64"
      ]
     },
     "execution_count": 40,
     "metadata": {},
     "output_type": "execute_result"
    }
   ],
   "source": [
    "info[\"d_ctrl\"].value_counts()"
   ]
  },
  {
   "cell_type": "code",
   "execution_count": 41,
   "metadata": {
    "collapsed": false
   },
   "outputs": [
    {
     "data": {
      "text/plain": [
       "count     4872.000000\n",
       "mean       273.497947\n",
       "std        872.486639\n",
       "min         10.000000\n",
       "25%         27.000000\n",
       "50%         59.500000\n",
       "75%        156.250000\n",
       "max      14571.000000\n",
       "Name: num_in_data, dtype: float64"
      ]
     },
     "execution_count": 41,
     "metadata": {},
     "output_type": "execute_result"
    }
   ],
   "source": [
    "info.query(\"d_ctrl\")[\"num_in_data\"].describe()"
   ]
  },
  {
   "cell_type": "markdown",
   "metadata": {},
   "source": [
    "## GO groups which decrease in drift when given J147"
   ]
  },
  {
   "cell_type": "code",
   "execution_count": 42,
   "metadata": {
    "collapsed": false
   },
   "outputs": [],
   "source": [
    "drift_old = partial(\n",
    "    signif, df = data.query(\"months_old == 10\"),\n",
    "    go_groups = go_groups, groupby = \"drug_given\",\n",
    "    drift_col = \"drift\",\n",
    "    conditions = {(\"j147\", \"vehicle\"): False}\n",
    ")\n",
    "\n",
    "info[\"reduc_j147\"] = info[\"go_id\"].map(drift_old)"
   ]
  },
  {
   "cell_type": "code",
   "execution_count": 43,
   "metadata": {
    "collapsed": false
   },
   "outputs": [
    {
     "data": {
      "text/plain": [
       "False    7213\n",
       "True       95\n",
       "Name: reduc_j147, dtype: int64"
      ]
     },
     "execution_count": 43,
     "metadata": {},
     "output_type": "execute_result"
    }
   ],
   "source": [
    "info[\"reduc_j147\"].value_counts()"
   ]
  },
  {
   "cell_type": "code",
   "execution_count": 44,
   "metadata": {
    "collapsed": false
   },
   "outputs": [
    {
     "data": {
      "text/plain": [
       "d_ctrl  reduc_j147\n",
       "False   False         2436\n",
       "True    False         4777\n",
       "        True            95\n",
       "dtype: int64"
      ]
     },
     "execution_count": 44,
     "metadata": {},
     "output_type": "execute_result"
    }
   ],
   "source": [
    "info.groupby([\"d_ctrl\", \"reduc_j147\"]).size()"
   ]
  },
  {
   "cell_type": "code",
   "execution_count": 45,
   "metadata": {
    "collapsed": false,
    "scrolled": true
   },
   "outputs": [
    {
     "data": {
      "text/html": [
       "<div>\n",
       "<table border=\"1\" class=\"dataframe\">\n",
       "  <thead>\n",
       "    <tr style=\"text-align: right;\">\n",
       "      <th></th>\n",
       "      <th>go_id</th>\n",
       "      <th>num_genes</th>\n",
       "      <th>go_name</th>\n",
       "      <th>namespace</th>\n",
       "      <th>obsolete</th>\n",
       "      <th>num_in_data</th>\n",
       "      <th>frac_present</th>\n",
       "      <th>d_ctrl</th>\n",
       "      <th>reduc_j147</th>\n",
       "    </tr>\n",
       "  </thead>\n",
       "  <tbody>\n",
       "    <tr>\n",
       "      <th>0</th>\n",
       "      <td>GO:0005575</td>\n",
       "      <td>23483</td>\n",
       "      <td>cellular_component</td>\n",
       "      <td>cellular_component</td>\n",
       "      <td>False</td>\n",
       "      <td>14571</td>\n",
       "      <td>0.620491</td>\n",
       "      <td>True</td>\n",
       "      <td>True</td>\n",
       "    </tr>\n",
       "    <tr>\n",
       "      <th>1</th>\n",
       "      <td>GO:0008150</td>\n",
       "      <td>23775</td>\n",
       "      <td>biological_process</td>\n",
       "      <td>biological_process</td>\n",
       "      <td>False</td>\n",
       "      <td>14535</td>\n",
       "      <td>0.611356</td>\n",
       "      <td>True</td>\n",
       "      <td>True</td>\n",
       "    </tr>\n",
       "    <tr>\n",
       "      <th>2</th>\n",
       "      <td>GO:0003674</td>\n",
       "      <td>23068</td>\n",
       "      <td>molecular_function</td>\n",
       "      <td>molecular_function</td>\n",
       "      <td>False</td>\n",
       "      <td>14355</td>\n",
       "      <td>0.622291</td>\n",
       "      <td>True</td>\n",
       "      <td>True</td>\n",
       "    </tr>\n",
       "    <tr>\n",
       "      <th>3</th>\n",
       "      <td>GO:0005623</td>\n",
       "      <td>14976</td>\n",
       "      <td>cell</td>\n",
       "      <td>cellular_component</td>\n",
       "      <td>False</td>\n",
       "      <td>11766</td>\n",
       "      <td>0.785657</td>\n",
       "      <td>True</td>\n",
       "      <td>True</td>\n",
       "    </tr>\n",
       "    <tr>\n",
       "      <th>4</th>\n",
       "      <td>GO:0044464</td>\n",
       "      <td>14963</td>\n",
       "      <td>cell part</td>\n",
       "      <td>cellular_component</td>\n",
       "      <td>False</td>\n",
       "      <td>11763</td>\n",
       "      <td>0.786139</td>\n",
       "      <td>True</td>\n",
       "      <td>True</td>\n",
       "    </tr>\n",
       "    <tr>\n",
       "      <th>5</th>\n",
       "      <td>GO:0005622</td>\n",
       "      <td>12954</td>\n",
       "      <td>intracellular</td>\n",
       "      <td>cellular_component</td>\n",
       "      <td>False</td>\n",
       "      <td>10730</td>\n",
       "      <td>0.828316</td>\n",
       "      <td>True</td>\n",
       "      <td>True</td>\n",
       "    </tr>\n",
       "    <tr>\n",
       "      <th>6</th>\n",
       "      <td>GO:0044424</td>\n",
       "      <td>12815</td>\n",
       "      <td>intracellular part</td>\n",
       "      <td>cellular_component</td>\n",
       "      <td>False</td>\n",
       "      <td>10627</td>\n",
       "      <td>0.829263</td>\n",
       "      <td>True</td>\n",
       "      <td>True</td>\n",
       "    </tr>\n",
       "    <tr>\n",
       "      <th>7</th>\n",
       "      <td>GO:0009987</td>\n",
       "      <td>14394</td>\n",
       "      <td>cellular process</td>\n",
       "      <td>biological_process</td>\n",
       "      <td>False</td>\n",
       "      <td>10502</td>\n",
       "      <td>0.729610</td>\n",
       "      <td>True</td>\n",
       "      <td>True</td>\n",
       "    </tr>\n",
       "    <tr>\n",
       "      <th>8</th>\n",
       "      <td>GO:0043226</td>\n",
       "      <td>12129</td>\n",
       "      <td>organelle</td>\n",
       "      <td>cellular_component</td>\n",
       "      <td>False</td>\n",
       "      <td>10118</td>\n",
       "      <td>0.834199</td>\n",
       "      <td>True</td>\n",
       "      <td>True</td>\n",
       "    </tr>\n",
       "    <tr>\n",
       "      <th>9</th>\n",
       "      <td>GO:0005488</td>\n",
       "      <td>12328</td>\n",
       "      <td>binding</td>\n",
       "      <td>molecular_function</td>\n",
       "      <td>False</td>\n",
       "      <td>9685</td>\n",
       "      <td>0.785610</td>\n",
       "      <td>True</td>\n",
       "      <td>True</td>\n",
       "    </tr>\n",
       "    <tr>\n",
       "      <th>10</th>\n",
       "      <td>GO:0043227</td>\n",
       "      <td>11262</td>\n",
       "      <td>membrane-bounded organelle</td>\n",
       "      <td>cellular_component</td>\n",
       "      <td>False</td>\n",
       "      <td>9415</td>\n",
       "      <td>0.835997</td>\n",
       "      <td>True</td>\n",
       "      <td>True</td>\n",
       "    </tr>\n",
       "    <tr>\n",
       "      <th>11</th>\n",
       "      <td>GO:0043229</td>\n",
       "      <td>11030</td>\n",
       "      <td>intracellular organelle</td>\n",
       "      <td>cellular_component</td>\n",
       "      <td>False</td>\n",
       "      <td>9317</td>\n",
       "      <td>0.844696</td>\n",
       "      <td>True</td>\n",
       "      <td>True</td>\n",
       "    </tr>\n",
       "    <tr>\n",
       "      <th>12</th>\n",
       "      <td>GO:0044699</td>\n",
       "      <td>13023</td>\n",
       "      <td>single-organism process</td>\n",
       "      <td>biological_process</td>\n",
       "      <td>False</td>\n",
       "      <td>9214</td>\n",
       "      <td>0.707517</td>\n",
       "      <td>True</td>\n",
       "      <td>True</td>\n",
       "    </tr>\n",
       "    <tr>\n",
       "      <th>13</th>\n",
       "      <td>GO:0005737</td>\n",
       "      <td>9989</td>\n",
       "      <td>cytoplasm</td>\n",
       "      <td>cellular_component</td>\n",
       "      <td>False</td>\n",
       "      <td>8540</td>\n",
       "      <td>0.854940</td>\n",
       "      <td>True</td>\n",
       "      <td>True</td>\n",
       "    </tr>\n",
       "    <tr>\n",
       "      <th>14</th>\n",
       "      <td>GO:0043231</td>\n",
       "      <td>10071</td>\n",
       "      <td>intracellular membrane-bounded organelle</td>\n",
       "      <td>cellular_component</td>\n",
       "      <td>False</td>\n",
       "      <td>8524</td>\n",
       "      <td>0.846391</td>\n",
       "      <td>True</td>\n",
       "      <td>True</td>\n",
       "    </tr>\n",
       "    <tr>\n",
       "      <th>15</th>\n",
       "      <td>GO:0044763</td>\n",
       "      <td>11623</td>\n",
       "      <td>single-organism cellular process</td>\n",
       "      <td>biological_process</td>\n",
       "      <td>False</td>\n",
       "      <td>8275</td>\n",
       "      <td>0.711950</td>\n",
       "      <td>True</td>\n",
       "      <td>True</td>\n",
       "    </tr>\n",
       "    <tr>\n",
       "      <th>16</th>\n",
       "      <td>GO:0065007</td>\n",
       "      <td>11597</td>\n",
       "      <td>biological regulation</td>\n",
       "      <td>biological_process</td>\n",
       "      <td>False</td>\n",
       "      <td>8225</td>\n",
       "      <td>0.709235</td>\n",
       "      <td>True</td>\n",
       "      <td>True</td>\n",
       "    </tr>\n",
       "    <tr>\n",
       "      <th>17</th>\n",
       "      <td>GO:0050789</td>\n",
       "      <td>11127</td>\n",
       "      <td>regulation of biological process</td>\n",
       "      <td>biological_process</td>\n",
       "      <td>False</td>\n",
       "      <td>7872</td>\n",
       "      <td>0.707468</td>\n",
       "      <td>True</td>\n",
       "      <td>True</td>\n",
       "    </tr>\n",
       "    <tr>\n",
       "      <th>18</th>\n",
       "      <td>GO:0050794</td>\n",
       "      <td>10577</td>\n",
       "      <td>regulation of cellular process</td>\n",
       "      <td>biological_process</td>\n",
       "      <td>False</td>\n",
       "      <td>7488</td>\n",
       "      <td>0.707951</td>\n",
       "      <td>True</td>\n",
       "      <td>True</td>\n",
       "    </tr>\n",
       "    <tr>\n",
       "      <th>19</th>\n",
       "      <td>GO:0008152</td>\n",
       "      <td>8909</td>\n",
       "      <td>metabolic process</td>\n",
       "      <td>biological_process</td>\n",
       "      <td>False</td>\n",
       "      <td>7297</td>\n",
       "      <td>0.819059</td>\n",
       "      <td>True</td>\n",
       "      <td>True</td>\n",
       "    </tr>\n",
       "    <tr>\n",
       "      <th>20</th>\n",
       "      <td>GO:0005515</td>\n",
       "      <td>7871</td>\n",
       "      <td>protein binding</td>\n",
       "      <td>molecular_function</td>\n",
       "      <td>False</td>\n",
       "      <td>6531</td>\n",
       "      <td>0.829755</td>\n",
       "      <td>True</td>\n",
       "      <td>True</td>\n",
       "    </tr>\n",
       "    <tr>\n",
       "      <th>21</th>\n",
       "      <td>GO:0016020</td>\n",
       "      <td>9194</td>\n",
       "      <td>membrane</td>\n",
       "      <td>cellular_component</td>\n",
       "      <td>False</td>\n",
       "      <td>6521</td>\n",
       "      <td>0.709267</td>\n",
       "      <td>True</td>\n",
       "      <td>True</td>\n",
       "    </tr>\n",
       "    <tr>\n",
       "      <th>22</th>\n",
       "      <td>GO:0071704</td>\n",
       "      <td>7814</td>\n",
       "      <td>organic substance metabolic process</td>\n",
       "      <td>biological_process</td>\n",
       "      <td>False</td>\n",
       "      <td>6423</td>\n",
       "      <td>0.821986</td>\n",
       "      <td>True</td>\n",
       "      <td>True</td>\n",
       "    </tr>\n",
       "    <tr>\n",
       "      <th>23</th>\n",
       "      <td>GO:0044238</td>\n",
       "      <td>7521</td>\n",
       "      <td>primary metabolic process</td>\n",
       "      <td>biological_process</td>\n",
       "      <td>False</td>\n",
       "      <td>6193</td>\n",
       "      <td>0.823428</td>\n",
       "      <td>True</td>\n",
       "      <td>True</td>\n",
       "    </tr>\n",
       "    <tr>\n",
       "      <th>24</th>\n",
       "      <td>GO:0044237</td>\n",
       "      <td>7209</td>\n",
       "      <td>cellular metabolic process</td>\n",
       "      <td>biological_process</td>\n",
       "      <td>False</td>\n",
       "      <td>6078</td>\n",
       "      <td>0.843113</td>\n",
       "      <td>True</td>\n",
       "      <td>True</td>\n",
       "    </tr>\n",
       "    <tr>\n",
       "      <th>25</th>\n",
       "      <td>GO:0044444</td>\n",
       "      <td>6674</td>\n",
       "      <td>cytoplasmic part</td>\n",
       "      <td>cellular_component</td>\n",
       "      <td>False</td>\n",
       "      <td>5771</td>\n",
       "      <td>0.864699</td>\n",
       "      <td>True</td>\n",
       "      <td>True</td>\n",
       "    </tr>\n",
       "    <tr>\n",
       "      <th>26</th>\n",
       "      <td>GO:0044422</td>\n",
       "      <td>6242</td>\n",
       "      <td>organelle part</td>\n",
       "      <td>cellular_component</td>\n",
       "      <td>False</td>\n",
       "      <td>5516</td>\n",
       "      <td>0.883691</td>\n",
       "      <td>True</td>\n",
       "      <td>True</td>\n",
       "    </tr>\n",
       "    <tr>\n",
       "      <th>27</th>\n",
       "      <td>GO:0005634</td>\n",
       "      <td>6367</td>\n",
       "      <td>nucleus</td>\n",
       "      <td>cellular_component</td>\n",
       "      <td>False</td>\n",
       "      <td>5415</td>\n",
       "      <td>0.850479</td>\n",
       "      <td>True</td>\n",
       "      <td>True</td>\n",
       "    </tr>\n",
       "    <tr>\n",
       "      <th>28</th>\n",
       "      <td>GO:0044446</td>\n",
       "      <td>6039</td>\n",
       "      <td>intracellular organelle part</td>\n",
       "      <td>cellular_component</td>\n",
       "      <td>False</td>\n",
       "      <td>5356</td>\n",
       "      <td>0.886902</td>\n",
       "      <td>True</td>\n",
       "      <td>True</td>\n",
       "    </tr>\n",
       "    <tr>\n",
       "      <th>29</th>\n",
       "      <td>GO:0043170</td>\n",
       "      <td>6236</td>\n",
       "      <td>macromolecule metabolic process</td>\n",
       "      <td>biological_process</td>\n",
       "      <td>False</td>\n",
       "      <td>5217</td>\n",
       "      <td>0.836594</td>\n",
       "      <td>True</td>\n",
       "      <td>True</td>\n",
       "    </tr>\n",
       "    <tr>\n",
       "      <th>...</th>\n",
       "      <td>...</td>\n",
       "      <td>...</td>\n",
       "      <td>...</td>\n",
       "      <td>...</td>\n",
       "      <td>...</td>\n",
       "      <td>...</td>\n",
       "      <td>...</td>\n",
       "      <td>...</td>\n",
       "      <td>...</td>\n",
       "    </tr>\n",
       "    <tr>\n",
       "      <th>76</th>\n",
       "      <td>GO:1901576</td>\n",
       "      <td>3614</td>\n",
       "      <td>organic substance biosynthetic process</td>\n",
       "      <td>biological_process</td>\n",
       "      <td>False</td>\n",
       "      <td>3063</td>\n",
       "      <td>0.847537</td>\n",
       "      <td>True</td>\n",
       "      <td>True</td>\n",
       "    </tr>\n",
       "    <tr>\n",
       "      <th>77</th>\n",
       "      <td>GO:0023052</td>\n",
       "      <td>5041</td>\n",
       "      <td>signaling</td>\n",
       "      <td>biological_process</td>\n",
       "      <td>False</td>\n",
       "      <td>3055</td>\n",
       "      <td>0.606031</td>\n",
       "      <td>True</td>\n",
       "      <td>True</td>\n",
       "    </tr>\n",
       "    <tr>\n",
       "      <th>78</th>\n",
       "      <td>GO:0044700</td>\n",
       "      <td>5038</td>\n",
       "      <td>single organism signaling</td>\n",
       "      <td>biological_process</td>\n",
       "      <td>False</td>\n",
       "      <td>3053</td>\n",
       "      <td>0.605994</td>\n",
       "      <td>True</td>\n",
       "      <td>True</td>\n",
       "    </tr>\n",
       "    <tr>\n",
       "      <th>79</th>\n",
       "      <td>GO:0019538</td>\n",
       "      <td>3638</td>\n",
       "      <td>protein metabolic process</td>\n",
       "      <td>biological_process</td>\n",
       "      <td>False</td>\n",
       "      <td>3037</td>\n",
       "      <td>0.834799</td>\n",
       "      <td>True</td>\n",
       "      <td>True</td>\n",
       "    </tr>\n",
       "    <tr>\n",
       "      <th>80</th>\n",
       "      <td>GO:0048731</td>\n",
       "      <td>3866</td>\n",
       "      <td>system development</td>\n",
       "      <td>biological_process</td>\n",
       "      <td>False</td>\n",
       "      <td>3019</td>\n",
       "      <td>0.780911</td>\n",
       "      <td>True</td>\n",
       "      <td>True</td>\n",
       "    </tr>\n",
       "    <tr>\n",
       "      <th>81</th>\n",
       "      <td>GO:0044249</td>\n",
       "      <td>3495</td>\n",
       "      <td>cellular biosynthetic process</td>\n",
       "      <td>biological_process</td>\n",
       "      <td>False</td>\n",
       "      <td>2988</td>\n",
       "      <td>0.854936</td>\n",
       "      <td>True</td>\n",
       "      <td>True</td>\n",
       "    </tr>\n",
       "    <tr>\n",
       "      <th>85</th>\n",
       "      <td>GO:0044428</td>\n",
       "      <td>3278</td>\n",
       "      <td>nuclear part</td>\n",
       "      <td>cellular_component</td>\n",
       "      <td>False</td>\n",
       "      <td>2946</td>\n",
       "      <td>0.898719</td>\n",
       "      <td>True</td>\n",
       "      <td>True</td>\n",
       "    </tr>\n",
       "    <tr>\n",
       "      <th>87</th>\n",
       "      <td>GO:0019219</td>\n",
       "      <td>3568</td>\n",
       "      <td>regulation of nucleobase-containing compound m...</td>\n",
       "      <td>biological_process</td>\n",
       "      <td>False</td>\n",
       "      <td>2940</td>\n",
       "      <td>0.823991</td>\n",
       "      <td>True</td>\n",
       "      <td>True</td>\n",
       "    </tr>\n",
       "    <tr>\n",
       "      <th>90</th>\n",
       "      <td>GO:2000112</td>\n",
       "      <td>3541</td>\n",
       "      <td>regulation of cellular macromolecule biosynthe...</td>\n",
       "      <td>biological_process</td>\n",
       "      <td>False</td>\n",
       "      <td>2890</td>\n",
       "      <td>0.816154</td>\n",
       "      <td>True</td>\n",
       "      <td>True</td>\n",
       "    </tr>\n",
       "    <tr>\n",
       "      <th>91</th>\n",
       "      <td>GO:0003676</td>\n",
       "      <td>3413</td>\n",
       "      <td>nucleic acid binding</td>\n",
       "      <td>molecular_function</td>\n",
       "      <td>False</td>\n",
       "      <td>2861</td>\n",
       "      <td>0.838265</td>\n",
       "      <td>True</td>\n",
       "      <td>True</td>\n",
       "    </tr>\n",
       "    <tr>\n",
       "      <th>93</th>\n",
       "      <td>GO:0007165</td>\n",
       "      <td>4788</td>\n",
       "      <td>signal transduction</td>\n",
       "      <td>biological_process</td>\n",
       "      <td>False</td>\n",
       "      <td>2843</td>\n",
       "      <td>0.593776</td>\n",
       "      <td>True</td>\n",
       "      <td>True</td>\n",
       "    </tr>\n",
       "    <tr>\n",
       "      <th>95</th>\n",
       "      <td>GO:0031974</td>\n",
       "      <td>3150</td>\n",
       "      <td>membrane-enclosed lumen</td>\n",
       "      <td>cellular_component</td>\n",
       "      <td>False</td>\n",
       "      <td>2835</td>\n",
       "      <td>0.900000</td>\n",
       "      <td>True</td>\n",
       "      <td>True</td>\n",
       "    </tr>\n",
       "    <tr>\n",
       "      <th>97</th>\n",
       "      <td>GO:0043233</td>\n",
       "      <td>3092</td>\n",
       "      <td>organelle lumen</td>\n",
       "      <td>cellular_component</td>\n",
       "      <td>False</td>\n",
       "      <td>2782</td>\n",
       "      <td>0.899741</td>\n",
       "      <td>True</td>\n",
       "      <td>True</td>\n",
       "    </tr>\n",
       "    <tr>\n",
       "      <th>98</th>\n",
       "      <td>GO:0070013</td>\n",
       "      <td>3086</td>\n",
       "      <td>intracellular organelle lumen</td>\n",
       "      <td>cellular_component</td>\n",
       "      <td>False</td>\n",
       "      <td>2777</td>\n",
       "      <td>0.899870</td>\n",
       "      <td>True</td>\n",
       "      <td>True</td>\n",
       "    </tr>\n",
       "    <tr>\n",
       "      <th>103</th>\n",
       "      <td>GO:0010467</td>\n",
       "      <td>3117</td>\n",
       "      <td>gene expression</td>\n",
       "      <td>biological_process</td>\n",
       "      <td>False</td>\n",
       "      <td>2666</td>\n",
       "      <td>0.855310</td>\n",
       "      <td>True</td>\n",
       "      <td>True</td>\n",
       "    </tr>\n",
       "    <tr>\n",
       "      <th>106</th>\n",
       "      <td>GO:0044267</td>\n",
       "      <td>2938</td>\n",
       "      <td>cellular protein metabolic process</td>\n",
       "      <td>biological_process</td>\n",
       "      <td>False</td>\n",
       "      <td>2587</td>\n",
       "      <td>0.880531</td>\n",
       "      <td>True</td>\n",
       "      <td>True</td>\n",
       "    </tr>\n",
       "    <tr>\n",
       "      <th>111</th>\n",
       "      <td>GO:0031981</td>\n",
       "      <td>2829</td>\n",
       "      <td>nuclear lumen</td>\n",
       "      <td>cellular_component</td>\n",
       "      <td>False</td>\n",
       "      <td>2542</td>\n",
       "      <td>0.898551</td>\n",
       "      <td>True</td>\n",
       "      <td>True</td>\n",
       "    </tr>\n",
       "    <tr>\n",
       "      <th>121</th>\n",
       "      <td>GO:0044271</td>\n",
       "      <td>2693</td>\n",
       "      <td>cellular nitrogen compound biosynthetic process</td>\n",
       "      <td>biological_process</td>\n",
       "      <td>False</td>\n",
       "      <td>2277</td>\n",
       "      <td>0.845525</td>\n",
       "      <td>True</td>\n",
       "      <td>True</td>\n",
       "    </tr>\n",
       "    <tr>\n",
       "      <th>124</th>\n",
       "      <td>GO:0043412</td>\n",
       "      <td>2485</td>\n",
       "      <td>macromolecule modification</td>\n",
       "      <td>biological_process</td>\n",
       "      <td>False</td>\n",
       "      <td>2203</td>\n",
       "      <td>0.886519</td>\n",
       "      <td>True</td>\n",
       "      <td>True</td>\n",
       "    </tr>\n",
       "    <tr>\n",
       "      <th>134</th>\n",
       "      <td>GO:0036211</td>\n",
       "      <td>2370</td>\n",
       "      <td>protein modification process</td>\n",
       "      <td>biological_process</td>\n",
       "      <td>False</td>\n",
       "      <td>2101</td>\n",
       "      <td>0.886498</td>\n",
       "      <td>True</td>\n",
       "      <td>True</td>\n",
       "    </tr>\n",
       "    <tr>\n",
       "      <th>135</th>\n",
       "      <td>GO:0006464</td>\n",
       "      <td>2370</td>\n",
       "      <td>cellular protein modification process</td>\n",
       "      <td>biological_process</td>\n",
       "      <td>False</td>\n",
       "      <td>2101</td>\n",
       "      <td>0.886498</td>\n",
       "      <td>True</td>\n",
       "      <td>True</td>\n",
       "    </tr>\n",
       "    <tr>\n",
       "      <th>142</th>\n",
       "      <td>GO:1901362</td>\n",
       "      <td>2358</td>\n",
       "      <td>organic cyclic compound biosynthetic process</td>\n",
       "      <td>biological_process</td>\n",
       "      <td>False</td>\n",
       "      <td>1980</td>\n",
       "      <td>0.839695</td>\n",
       "      <td>True</td>\n",
       "      <td>True</td>\n",
       "    </tr>\n",
       "    <tr>\n",
       "      <th>143</th>\n",
       "      <td>GO:1901265</td>\n",
       "      <td>2144</td>\n",
       "      <td>nucleoside phosphate binding</td>\n",
       "      <td>molecular_function</td>\n",
       "      <td>False</td>\n",
       "      <td>1960</td>\n",
       "      <td>0.914179</td>\n",
       "      <td>True</td>\n",
       "      <td>True</td>\n",
       "    </tr>\n",
       "    <tr>\n",
       "      <th>144</th>\n",
       "      <td>GO:0000166</td>\n",
       "      <td>2144</td>\n",
       "      <td>nucleotide binding</td>\n",
       "      <td>molecular_function</td>\n",
       "      <td>False</td>\n",
       "      <td>1960</td>\n",
       "      <td>0.914179</td>\n",
       "      <td>True</td>\n",
       "      <td>True</td>\n",
       "    </tr>\n",
       "    <tr>\n",
       "      <th>145</th>\n",
       "      <td>GO:0016740</td>\n",
       "      <td>2184</td>\n",
       "      <td>transferase activity</td>\n",
       "      <td>molecular_function</td>\n",
       "      <td>False</td>\n",
       "      <td>1936</td>\n",
       "      <td>0.886447</td>\n",
       "      <td>True</td>\n",
       "      <td>True</td>\n",
       "    </tr>\n",
       "    <tr>\n",
       "      <th>147</th>\n",
       "      <td>GO:0018130</td>\n",
       "      <td>2247</td>\n",
       "      <td>heterocycle biosynthetic process</td>\n",
       "      <td>biological_process</td>\n",
       "      <td>False</td>\n",
       "      <td>1904</td>\n",
       "      <td>0.847352</td>\n",
       "      <td>True</td>\n",
       "      <td>True</td>\n",
       "    </tr>\n",
       "    <tr>\n",
       "      <th>152</th>\n",
       "      <td>GO:0005654</td>\n",
       "      <td>2011</td>\n",
       "      <td>nucleoplasm</td>\n",
       "      <td>cellular_component</td>\n",
       "      <td>False</td>\n",
       "      <td>1875</td>\n",
       "      <td>0.932372</td>\n",
       "      <td>True</td>\n",
       "      <td>True</td>\n",
       "    </tr>\n",
       "    <tr>\n",
       "      <th>288</th>\n",
       "      <td>GO:1902494</td>\n",
       "      <td>990</td>\n",
       "      <td>catalytic complex</td>\n",
       "      <td>cellular_component</td>\n",
       "      <td>False</td>\n",
       "      <td>932</td>\n",
       "      <td>0.941414</td>\n",
       "      <td>True</td>\n",
       "      <td>True</td>\n",
       "    </tr>\n",
       "    <tr>\n",
       "      <th>414</th>\n",
       "      <td>GO:1990234</td>\n",
       "      <td>669</td>\n",
       "      <td>transferase complex</td>\n",
       "      <td>cellular_component</td>\n",
       "      <td>False</td>\n",
       "      <td>639</td>\n",
       "      <td>0.955157</td>\n",
       "      <td>True</td>\n",
       "      <td>True</td>\n",
       "    </tr>\n",
       "    <tr>\n",
       "      <th>6363</th>\n",
       "      <td>GO:0048038</td>\n",
       "      <td>14</td>\n",
       "      <td>quinone binding</td>\n",
       "      <td>molecular_function</td>\n",
       "      <td>False</td>\n",
       "      <td>12</td>\n",
       "      <td>0.857143</td>\n",
       "      <td>True</td>\n",
       "      <td>True</td>\n",
       "    </tr>\n",
       "  </tbody>\n",
       "</table>\n",
       "<p>95 rows × 9 columns</p>\n",
       "</div>"
      ],
      "text/plain": [
       "           go_id  num_genes  \\\n",
       "0     GO:0005575      23483   \n",
       "1     GO:0008150      23775   \n",
       "2     GO:0003674      23068   \n",
       "3     GO:0005623      14976   \n",
       "4     GO:0044464      14963   \n",
       "5     GO:0005622      12954   \n",
       "6     GO:0044424      12815   \n",
       "7     GO:0009987      14394   \n",
       "8     GO:0043226      12129   \n",
       "9     GO:0005488      12328   \n",
       "10    GO:0043227      11262   \n",
       "11    GO:0043229      11030   \n",
       "12    GO:0044699      13023   \n",
       "13    GO:0005737       9989   \n",
       "14    GO:0043231      10071   \n",
       "15    GO:0044763      11623   \n",
       "16    GO:0065007      11597   \n",
       "17    GO:0050789      11127   \n",
       "18    GO:0050794      10577   \n",
       "19    GO:0008152       8909   \n",
       "20    GO:0005515       7871   \n",
       "21    GO:0016020       9194   \n",
       "22    GO:0071704       7814   \n",
       "23    GO:0044238       7521   \n",
       "24    GO:0044237       7209   \n",
       "25    GO:0044444       6674   \n",
       "26    GO:0044422       6242   \n",
       "27    GO:0005634       6367   \n",
       "28    GO:0044446       6039   \n",
       "29    GO:0043170       6236   \n",
       "...          ...        ...   \n",
       "76    GO:1901576       3614   \n",
       "77    GO:0023052       5041   \n",
       "78    GO:0044700       5038   \n",
       "79    GO:0019538       3638   \n",
       "80    GO:0048731       3866   \n",
       "81    GO:0044249       3495   \n",
       "85    GO:0044428       3278   \n",
       "87    GO:0019219       3568   \n",
       "90    GO:2000112       3541   \n",
       "91    GO:0003676       3413   \n",
       "93    GO:0007165       4788   \n",
       "95    GO:0031974       3150   \n",
       "97    GO:0043233       3092   \n",
       "98    GO:0070013       3086   \n",
       "103   GO:0010467       3117   \n",
       "106   GO:0044267       2938   \n",
       "111   GO:0031981       2829   \n",
       "121   GO:0044271       2693   \n",
       "124   GO:0043412       2485   \n",
       "134   GO:0036211       2370   \n",
       "135   GO:0006464       2370   \n",
       "142   GO:1901362       2358   \n",
       "143   GO:1901265       2144   \n",
       "144   GO:0000166       2144   \n",
       "145   GO:0016740       2184   \n",
       "147   GO:0018130       2247   \n",
       "152   GO:0005654       2011   \n",
       "288   GO:1902494        990   \n",
       "414   GO:1990234        669   \n",
       "6363  GO:0048038         14   \n",
       "\n",
       "                                                go_name           namespace  \\\n",
       "0                                    cellular_component  cellular_component   \n",
       "1                                    biological_process  biological_process   \n",
       "2                                    molecular_function  molecular_function   \n",
       "3                                                  cell  cellular_component   \n",
       "4                                             cell part  cellular_component   \n",
       "5                                         intracellular  cellular_component   \n",
       "6                                    intracellular part  cellular_component   \n",
       "7                                      cellular process  biological_process   \n",
       "8                                             organelle  cellular_component   \n",
       "9                                               binding  molecular_function   \n",
       "10                           membrane-bounded organelle  cellular_component   \n",
       "11                              intracellular organelle  cellular_component   \n",
       "12                              single-organism process  biological_process   \n",
       "13                                            cytoplasm  cellular_component   \n",
       "14             intracellular membrane-bounded organelle  cellular_component   \n",
       "15                     single-organism cellular process  biological_process   \n",
       "16                                biological regulation  biological_process   \n",
       "17                     regulation of biological process  biological_process   \n",
       "18                       regulation of cellular process  biological_process   \n",
       "19                                    metabolic process  biological_process   \n",
       "20                                      protein binding  molecular_function   \n",
       "21                                             membrane  cellular_component   \n",
       "22                  organic substance metabolic process  biological_process   \n",
       "23                            primary metabolic process  biological_process   \n",
       "24                           cellular metabolic process  biological_process   \n",
       "25                                     cytoplasmic part  cellular_component   \n",
       "26                                       organelle part  cellular_component   \n",
       "27                                              nucleus  cellular_component   \n",
       "28                         intracellular organelle part  cellular_component   \n",
       "29                      macromolecule metabolic process  biological_process   \n",
       "...                                                 ...                 ...   \n",
       "76               organic substance biosynthetic process  biological_process   \n",
       "77                                            signaling  biological_process   \n",
       "78                            single organism signaling  biological_process   \n",
       "79                            protein metabolic process  biological_process   \n",
       "80                                   system development  biological_process   \n",
       "81                        cellular biosynthetic process  biological_process   \n",
       "85                                         nuclear part  cellular_component   \n",
       "87    regulation of nucleobase-containing compound m...  biological_process   \n",
       "90    regulation of cellular macromolecule biosynthe...  biological_process   \n",
       "91                                 nucleic acid binding  molecular_function   \n",
       "93                                  signal transduction  biological_process   \n",
       "95                              membrane-enclosed lumen  cellular_component   \n",
       "97                                      organelle lumen  cellular_component   \n",
       "98                        intracellular organelle lumen  cellular_component   \n",
       "103                                     gene expression  biological_process   \n",
       "106                  cellular protein metabolic process  biological_process   \n",
       "111                                       nuclear lumen  cellular_component   \n",
       "121     cellular nitrogen compound biosynthetic process  biological_process   \n",
       "124                          macromolecule modification  biological_process   \n",
       "134                        protein modification process  biological_process   \n",
       "135               cellular protein modification process  biological_process   \n",
       "142        organic cyclic compound biosynthetic process  biological_process   \n",
       "143                        nucleoside phosphate binding  molecular_function   \n",
       "144                                  nucleotide binding  molecular_function   \n",
       "145                                transferase activity  molecular_function   \n",
       "147                    heterocycle biosynthetic process  biological_process   \n",
       "152                                         nucleoplasm  cellular_component   \n",
       "288                                   catalytic complex  cellular_component   \n",
       "414                                 transferase complex  cellular_component   \n",
       "6363                                    quinone binding  molecular_function   \n",
       "\n",
       "     obsolete  num_in_data  frac_present d_ctrl reduc_j147  \n",
       "0       False        14571      0.620491   True       True  \n",
       "1       False        14535      0.611356   True       True  \n",
       "2       False        14355      0.622291   True       True  \n",
       "3       False        11766      0.785657   True       True  \n",
       "4       False        11763      0.786139   True       True  \n",
       "5       False        10730      0.828316   True       True  \n",
       "6       False        10627      0.829263   True       True  \n",
       "7       False        10502      0.729610   True       True  \n",
       "8       False        10118      0.834199   True       True  \n",
       "9       False         9685      0.785610   True       True  \n",
       "10      False         9415      0.835997   True       True  \n",
       "11      False         9317      0.844696   True       True  \n",
       "12      False         9214      0.707517   True       True  \n",
       "13      False         8540      0.854940   True       True  \n",
       "14      False         8524      0.846391   True       True  \n",
       "15      False         8275      0.711950   True       True  \n",
       "16      False         8225      0.709235   True       True  \n",
       "17      False         7872      0.707468   True       True  \n",
       "18      False         7488      0.707951   True       True  \n",
       "19      False         7297      0.819059   True       True  \n",
       "20      False         6531      0.829755   True       True  \n",
       "21      False         6521      0.709267   True       True  \n",
       "22      False         6423      0.821986   True       True  \n",
       "23      False         6193      0.823428   True       True  \n",
       "24      False         6078      0.843113   True       True  \n",
       "25      False         5771      0.864699   True       True  \n",
       "26      False         5516      0.883691   True       True  \n",
       "27      False         5415      0.850479   True       True  \n",
       "28      False         5356      0.886902   True       True  \n",
       "29      False         5217      0.836594   True       True  \n",
       "...       ...          ...           ...    ...        ...  \n",
       "76      False         3063      0.847537   True       True  \n",
       "77      False         3055      0.606031   True       True  \n",
       "78      False         3053      0.605994   True       True  \n",
       "79      False         3037      0.834799   True       True  \n",
       "80      False         3019      0.780911   True       True  \n",
       "81      False         2988      0.854936   True       True  \n",
       "85      False         2946      0.898719   True       True  \n",
       "87      False         2940      0.823991   True       True  \n",
       "90      False         2890      0.816154   True       True  \n",
       "91      False         2861      0.838265   True       True  \n",
       "93      False         2843      0.593776   True       True  \n",
       "95      False         2835      0.900000   True       True  \n",
       "97      False         2782      0.899741   True       True  \n",
       "98      False         2777      0.899870   True       True  \n",
       "103     False         2666      0.855310   True       True  \n",
       "106     False         2587      0.880531   True       True  \n",
       "111     False         2542      0.898551   True       True  \n",
       "121     False         2277      0.845525   True       True  \n",
       "124     False         2203      0.886519   True       True  \n",
       "134     False         2101      0.886498   True       True  \n",
       "135     False         2101      0.886498   True       True  \n",
       "142     False         1980      0.839695   True       True  \n",
       "143     False         1960      0.914179   True       True  \n",
       "144     False         1960      0.914179   True       True  \n",
       "145     False         1936      0.886447   True       True  \n",
       "147     False         1904      0.847352   True       True  \n",
       "152     False         1875      0.932372   True       True  \n",
       "288     False          932      0.941414   True       True  \n",
       "414     False          639      0.955157   True       True  \n",
       "6363    False           12      0.857143   True       True  \n",
       "\n",
       "[95 rows x 9 columns]"
      ]
     },
     "execution_count": 45,
     "metadata": {},
     "output_type": "execute_result"
    }
   ],
   "source": [
    "info.query(\"d_ctrl & reduc_j147\")"
   ]
  },
  {
   "cell_type": "markdown",
   "metadata": {},
   "source": [
    "With the GO hierarchy in consideration, we now see 95 GO terms with >= 10 genes which drift in control but are reduced when given J147."
   ]
  },
  {
   "cell_type": "markdown",
   "metadata": {},
   "source": [
    "## Checking our results"
   ]
  },
  {
   "cell_type": "code",
   "execution_count": 46,
   "metadata": {
    "collapsed": false
   },
   "outputs": [
    {
     "data": {
      "text/plain": [
       "<matplotlib.axes._subplots.AxesSubplot at 0x7f7772a37c50>"
      ]
     },
     "execution_count": 46,
     "metadata": {},
     "output_type": "execute_result"
    },
    {
     "data": {
      "image/png": "[encoded data removed]",
      "text/plain": [
       "<matplotlib.figure.Figure at 0x7f7772a6c2b0>"
      ]
     },
     "metadata": {},
     "output_type": "display_data"
    }
   ],
   "source": [
    "term = \"GO:1990234\" # transferase complex\n",
    "\n",
    "res = filter_go([term], go_groups, data, \"mgi_id\")\n",
    "plot_drift(\n",
    "    \"box\", res, \"months_old\", \"drift\", \"mgi_id\",\n",
    "    groupby = \"drug_given\"\n",
    ")"
   ]
  },
  {
   "cell_type": "code",
   "execution_count": 47,
   "metadata": {
    "collapsed": false
   },
   "outputs": [
    {
     "data": {
      "text/plain": [
       "<matplotlib.axes._subplots.AxesSubplot at 0x7f7772a63e10>"
      ]
     },
     "execution_count": 47,
     "metadata": {},
     "output_type": "execute_result"
    },
    {
     "data": {
      "image/png": "[encoded data removed]",
      "text/plain": [
       "<matplotlib.figure.Figure at 0x7f7772a7ce10>"
      ]
     },
     "metadata": {},
     "output_type": "display_data"
    }
   ],
   "source": [
    "plot_p_val_heatmap(res, [\"drug_given\", \"months_old\"], \"drift\", circles = True)"
   ]
  }
 ],
 "metadata": {
  "kernelspec": {
   "display_name": "Python 3",
   "language": "python",
   "name": "python3"
  },
  "language_info": {
   "codemirror_mode": {
    "name": "ipython",
    "version": 3
   },
   "file_extension": ".py",
   "mimetype": "text/x-python",
   "name": "python",
   "nbconvert_exporter": "python",
   "pygments_lexer": "ipython3",
   "version": "3.4.2"
  }
 },
 "nbformat": 4,
 "nbformat_minor": 0
}
