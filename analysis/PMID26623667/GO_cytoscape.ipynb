{
 "cells": [
  {
   "cell_type": "markdown",
   "metadata": {},
   "source": [
    "# Visualizing GO term drift results in Cytoscape\n",
    "\n",
    "Tong Shu Li\n",
    "\n",
    "Here we will prepare the data necessary to visualize the GO term drift results in Cytoscape. The relations between GO terms are hidden when the results are presented as a table. By displaying the results graphically, it will be easier to see the similarities between GO terms and the genes that they contain."
   ]
  },
  {
   "cell_type": "code",
   "execution_count": 1,
   "metadata": {
    "collapsed": true
   },
   "outputs": [],
   "source": [
    "import pandas as pd\n",
    "import sys\n",
    "\n",
    "from collections import defaultdict"
   ]
  },
  {
   "cell_type": "code",
   "execution_count": 2,
   "metadata": {
    "collapsed": true
   },
   "outputs": [],
   "source": [
    "sys.path.append(\"../..\")"
   ]
  },
  {
   "cell_type": "code",
   "execution_count": 3,
   "metadata": {
    "collapsed": true
   },
   "outputs": [],
   "source": [
    "from src.gene_ont import group_genes\n",
    "from src.gene_ont import load_annotations\n",
    "from src.gene_ont import parse_go_defn\n",
    "from src.gene_ont import parse_go_links\n",
    "\n",
    "from src.util import union"
   ]
  },
  {
   "cell_type": "markdown",
   "metadata": {},
   "source": [
    "---"
   ]
  },
  {
   "cell_type": "markdown",
   "metadata": {},
   "source": [
    "## Read GO term definitions"
   ]
  },
  {
   "cell_type": "code",
   "execution_count": 4,
   "metadata": {
    "collapsed": true
   },
   "outputs": [],
   "source": [
    "go_defn = parse_go_defn(\"../../data/gene_ontology/go.obo\")"
   ]
  },
  {
   "cell_type": "code",
   "execution_count": 5,
   "metadata": {
    "collapsed": false
   },
   "outputs": [
    {
     "data": {
      "text/plain": [
       "(44471, 4)"
      ]
     },
     "execution_count": 5,
     "metadata": {},
     "output_type": "execute_result"
    }
   ],
   "source": [
    "go_defn.shape"
   ]
  },
  {
   "cell_type": "code",
   "execution_count": 6,
   "metadata": {
    "collapsed": false
   },
   "outputs": [
    {
     "data": {
      "text/html": [
       "<div>\n",
       "<table border=\"1\" class=\"dataframe\">\n",
       "  <thead>\n",
       "    <tr style=\"text-align: right;\">\n",
       "      <th></th>\n",
       "      <th>go_id</th>\n",
       "      <th>go_name</th>\n",
       "      <th>namespace</th>\n",
       "      <th>obsolete</th>\n",
       "    </tr>\n",
       "  </thead>\n",
       "  <tbody>\n",
       "    <tr>\n",
       "      <th>0</th>\n",
       "      <td>GO:0000001</td>\n",
       "      <td>mitochondrion inheritance</td>\n",
       "      <td>biological_process</td>\n",
       "      <td>False</td>\n",
       "    </tr>\n",
       "    <tr>\n",
       "      <th>1</th>\n",
       "      <td>GO:0000002</td>\n",
       "      <td>mitochondrial genome maintenance</td>\n",
       "      <td>biological_process</td>\n",
       "      <td>False</td>\n",
       "    </tr>\n",
       "    <tr>\n",
       "      <th>2</th>\n",
       "      <td>GO:0000003</td>\n",
       "      <td>reproduction</td>\n",
       "      <td>biological_process</td>\n",
       "      <td>False</td>\n",
       "    </tr>\n",
       "    <tr>\n",
       "      <th>3</th>\n",
       "      <td>GO:0000005</td>\n",
       "      <td>obsolete ribosomal chaperone activity</td>\n",
       "      <td>molecular_function</td>\n",
       "      <td>True</td>\n",
       "    </tr>\n",
       "    <tr>\n",
       "      <th>4</th>\n",
       "      <td>GO:0000006</td>\n",
       "      <td>high-affinity zinc uptake transmembrane transp...</td>\n",
       "      <td>molecular_function</td>\n",
       "      <td>False</td>\n",
       "    </tr>\n",
       "  </tbody>\n",
       "</table>\n",
       "</div>"
      ],
      "text/plain": [
       "        go_id                                            go_name  \\\n",
       "0  GO:0000001                          mitochondrion inheritance   \n",
       "1  GO:0000002                   mitochondrial genome maintenance   \n",
       "2  GO:0000003                                       reproduction   \n",
       "3  GO:0000005              obsolete ribosomal chaperone activity   \n",
       "4  GO:0000006  high-affinity zinc uptake transmembrane transp...   \n",
       "\n",
       "            namespace obsolete  \n",
       "0  biological_process    False  \n",
       "1  biological_process    False  \n",
       "2  biological_process    False  \n",
       "3  molecular_function     True  \n",
       "4  molecular_function    False  "
      ]
     },
     "execution_count": 6,
     "metadata": {},
     "output_type": "execute_result"
    }
   ],
   "source": [
    "go_defn.head()"
   ]
  },
  {
   "cell_type": "code",
   "execution_count": 7,
   "metadata": {
    "collapsed": false
   },
   "outputs": [
    {
     "data": {
      "text/plain": [
       "42514"
      ]
     },
     "execution_count": 7,
     "metadata": {},
     "output_type": "execute_result"
    }
   ],
   "source": [
    "go_defn.query(\"~obsolete\")[\"go_id\"].nunique()"
   ]
  },
  {
   "cell_type": "markdown",
   "metadata": {},
   "source": [
    "---"
   ]
  },
  {
   "cell_type": "markdown",
   "metadata": {},
   "source": [
    "## Read GO annotations for C. elegans"
   ]
  },
  {
   "cell_type": "code",
   "execution_count": 8,
   "metadata": {
    "collapsed": false
   },
   "outputs": [],
   "source": [
    "floc = \"../../data/gene_ontology/gene_association.wb\"\n",
    "go_data = load_annotations(floc)"
   ]
  },
  {
   "cell_type": "code",
   "execution_count": 9,
   "metadata": {
    "collapsed": false
   },
   "outputs": [
    {
     "data": {
      "text/html": [
       "<div>\n",
       "<table border=\"1\" class=\"dataframe\">\n",
       "  <thead>\n",
       "    <tr style=\"text-align: right;\">\n",
       "      <th></th>\n",
       "      <th>database_id</th>\n",
       "      <th>db_obj_symbol</th>\n",
       "      <th>qualifier</th>\n",
       "      <th>go_id</th>\n",
       "      <th>db_ref</th>\n",
       "      <th>evidence</th>\n",
       "      <th>with_from</th>\n",
       "      <th>aspect</th>\n",
       "      <th>db_obj_name</th>\n",
       "      <th>db_obj_syn</th>\n",
       "      <th>db_obj_type</th>\n",
       "      <th>taxon</th>\n",
       "      <th>date</th>\n",
       "      <th>assigned_by</th>\n",
       "      <th>annot_ext</th>\n",
       "      <th>gene_prod_id</th>\n",
       "    </tr>\n",
       "  </thead>\n",
       "  <tbody>\n",
       "    <tr>\n",
       "      <th>0</th>\n",
       "      <td>WBGene00000001</td>\n",
       "      <td>aap-1</td>\n",
       "      <td>NaN</td>\n",
       "      <td>GO:0005623</td>\n",
       "      <td>WB_REF:WBPaper00005614|PMID:12393910</td>\n",
       "      <td>IDA</td>\n",
       "      <td>NaN</td>\n",
       "      <td>C</td>\n",
       "      <td>NaN</td>\n",
       "      <td>Y110A7A.10</td>\n",
       "      <td>gene</td>\n",
       "      <td>taxon:6239</td>\n",
       "      <td>20060302</td>\n",
       "      <td>WB</td>\n",
       "      <td>NaN</td>\n",
       "      <td>NaN</td>\n",
       "    </tr>\n",
       "    <tr>\n",
       "      <th>1</th>\n",
       "      <td>WBGene00000001</td>\n",
       "      <td>aap-1</td>\n",
       "      <td>NaN</td>\n",
       "      <td>GO:0005942</td>\n",
       "      <td>GO_REF:0000033</td>\n",
       "      <td>IBA</td>\n",
       "      <td>PANTHER:PTN000806614</td>\n",
       "      <td>C</td>\n",
       "      <td>NaN</td>\n",
       "      <td>Y110A7A.10</td>\n",
       "      <td>gene</td>\n",
       "      <td>taxon:6239</td>\n",
       "      <td>20150227</td>\n",
       "      <td>GO_Central</td>\n",
       "      <td>NaN</td>\n",
       "      <td>NaN</td>\n",
       "    </tr>\n",
       "    <tr>\n",
       "      <th>2</th>\n",
       "      <td>WBGene00000001</td>\n",
       "      <td>aap-1</td>\n",
       "      <td>NaN</td>\n",
       "      <td>GO:0005942</td>\n",
       "      <td>GO_REF:0000002</td>\n",
       "      <td>IEA</td>\n",
       "      <td>InterPro:IPR001720</td>\n",
       "      <td>C</td>\n",
       "      <td>NaN</td>\n",
       "      <td>Y110A7A.10</td>\n",
       "      <td>gene</td>\n",
       "      <td>taxon:6239</td>\n",
       "      <td>20150826</td>\n",
       "      <td>WB</td>\n",
       "      <td>NaN</td>\n",
       "      <td>NaN</td>\n",
       "    </tr>\n",
       "    <tr>\n",
       "      <th>3</th>\n",
       "      <td>WBGene00000001</td>\n",
       "      <td>aap-1</td>\n",
       "      <td>NaN</td>\n",
       "      <td>GO:0008286</td>\n",
       "      <td>WB_REF:WBPaper00005614|PMID:12393910</td>\n",
       "      <td>IMP</td>\n",
       "      <td>NaN</td>\n",
       "      <td>P</td>\n",
       "      <td>NaN</td>\n",
       "      <td>Y110A7A.10</td>\n",
       "      <td>gene</td>\n",
       "      <td>taxon:6239</td>\n",
       "      <td>20060302</td>\n",
       "      <td>WB</td>\n",
       "      <td>NaN</td>\n",
       "      <td>NaN</td>\n",
       "    </tr>\n",
       "    <tr>\n",
       "      <th>4</th>\n",
       "      <td>WBGene00000001</td>\n",
       "      <td>aap-1</td>\n",
       "      <td>NaN</td>\n",
       "      <td>GO:0008340</td>\n",
       "      <td>WB_REF:WBPaper00005614|PMID:12393910</td>\n",
       "      <td>IMP</td>\n",
       "      <td>NaN</td>\n",
       "      <td>P</td>\n",
       "      <td>NaN</td>\n",
       "      <td>Y110A7A.10</td>\n",
       "      <td>gene</td>\n",
       "      <td>taxon:6239</td>\n",
       "      <td>20060302</td>\n",
       "      <td>WB</td>\n",
       "      <td>NaN</td>\n",
       "      <td>NaN</td>\n",
       "    </tr>\n",
       "  </tbody>\n",
       "</table>\n",
       "</div>"
      ],
      "text/plain": [
       "      database_id db_obj_symbol qualifier       go_id  \\\n",
       "0  WBGene00000001         aap-1       NaN  GO:0005623   \n",
       "1  WBGene00000001         aap-1       NaN  GO:0005942   \n",
       "2  WBGene00000001         aap-1       NaN  GO:0005942   \n",
       "3  WBGene00000001         aap-1       NaN  GO:0008286   \n",
       "4  WBGene00000001         aap-1       NaN  GO:0008340   \n",
       "\n",
       "                                 db_ref evidence             with_from aspect  \\\n",
       "0  WB_REF:WBPaper00005614|PMID:12393910      IDA                   NaN      C   \n",
       "1                        GO_REF:0000033      IBA  PANTHER:PTN000806614      C   \n",
       "2                        GO_REF:0000002      IEA    InterPro:IPR001720      C   \n",
       "3  WB_REF:WBPaper00005614|PMID:12393910      IMP                   NaN      P   \n",
       "4  WB_REF:WBPaper00005614|PMID:12393910      IMP                   NaN      P   \n",
       "\n",
       "   db_obj_name  db_obj_syn db_obj_type       taxon      date assigned_by  \\\n",
       "0          NaN  Y110A7A.10        gene  taxon:6239  20060302          WB   \n",
       "1          NaN  Y110A7A.10        gene  taxon:6239  20150227  GO_Central   \n",
       "2          NaN  Y110A7A.10        gene  taxon:6239  20150826          WB   \n",
       "3          NaN  Y110A7A.10        gene  taxon:6239  20060302          WB   \n",
       "4          NaN  Y110A7A.10        gene  taxon:6239  20060302          WB   \n",
       "\n",
       "  annot_ext  gene_prod_id  \n",
       "0       NaN           NaN  \n",
       "1       NaN           NaN  \n",
       "2       NaN           NaN  \n",
       "3       NaN           NaN  \n",
       "4       NaN           NaN  "
      ]
     },
     "execution_count": 9,
     "metadata": {},
     "output_type": "execute_result"
    }
   ],
   "source": [
    "go_data.head()"
   ]
  },
  {
   "cell_type": "markdown",
   "metadata": {},
   "source": [
    "## Propagate annotations up GO hierarchy"
   ]
  },
  {
   "cell_type": "code",
   "execution_count": 10,
   "metadata": {
    "collapsed": false
   },
   "outputs": [],
   "source": [
    "direct_annots = defaultdict(\n",
    "    set,\n",
    "    {\n",
    "        go_term: set(df[\"database_id\"])\n",
    "        for go_term, df in go_data.groupby(\"go_id\")\n",
    "    }\n",
    ")\n",
    "\n",
    "children = parse_go_links(\"../../data/gene_ontology/go.obo\")\n",
    "annots = group_genes(children, direct_annots, [\"is_a\", \"part_of\"])"
   ]
  },
  {
   "cell_type": "code",
   "execution_count": 11,
   "metadata": {
    "collapsed": false
   },
   "outputs": [
    {
     "data": {
      "text/plain": [
       "42514"
      ]
     },
     "execution_count": 11,
     "metadata": {},
     "output_type": "execute_result"
    }
   ],
   "source": [
    "len(annots)"
   ]
  },
  {
   "cell_type": "code",
   "execution_count": 12,
   "metadata": {
    "collapsed": false
   },
   "outputs": [
    {
     "data": {
      "text/plain": [
       "8042"
      ]
     },
     "execution_count": 12,
     "metadata": {},
     "output_type": "execute_result"
    }
   ],
   "source": [
    "# number of non empty go terms\n",
    "sum(not not genes for go_id, genes in annots.items())"
   ]
  },
  {
   "cell_type": "markdown",
   "metadata": {},
   "source": [
    "There are 8042 GO terms with at least one gene annotation."
   ]
  },
  {
   "cell_type": "markdown",
   "metadata": {},
   "source": [
    "## Read sequenced genes"
   ]
  },
  {
   "cell_type": "code",
   "execution_count": 13,
   "metadata": {
    "collapsed": true
   },
   "outputs": [],
   "source": [
    "sequenced = pd.read_csv(\"GO_annotations.tsv\", sep = '\\t')"
   ]
  },
  {
   "cell_type": "markdown",
   "metadata": {},
   "source": [
    "## Read results"
   ]
  },
  {
   "cell_type": "code",
   "execution_count": 14,
   "metadata": {
    "collapsed": true
   },
   "outputs": [],
   "source": [
    "info = pd.read_csv(\"../../results/PMID26623667/GO_drift_results.tsv\", sep = '\\t')"
   ]
  },
  {
   "cell_type": "code",
   "execution_count": 15,
   "metadata": {
    "collapsed": false
   },
   "outputs": [
    {
     "data": {
      "text/html": [
       "<div>\n",
       "<table border=\"1\" class=\"dataframe\">\n",
       "  <thead>\n",
       "    <tr style=\"text-align: right;\">\n",
       "      <th></th>\n",
       "      <th>go_id</th>\n",
       "      <th>go_name</th>\n",
       "      <th>num_genes</th>\n",
       "      <th>num_seq</th>\n",
       "      <th>adj_rsq</th>\n",
       "      <th>rsq_pile</th>\n",
       "      <th>rsq_nlpval</th>\n",
       "      <th>frac_seq</th>\n",
       "      <th>log_day_error</th>\n",
       "      <th>log_day_error_percent</th>\n",
       "      <th>log_day_est</th>\n",
       "      <th>log_day_est_pile</th>\n",
       "      <th>log_day_pval</th>\n",
       "      <th>mianserin_error</th>\n",
       "      <th>mianserin_error_percent</th>\n",
       "      <th>mianserin_est</th>\n",
       "      <th>mianserin_est_pile</th>\n",
       "      <th>mianserin_pval</th>\n",
       "      <th>score</th>\n",
       "    </tr>\n",
       "  </thead>\n",
       "  <tbody>\n",
       "    <tr>\n",
       "      <th>0</th>\n",
       "      <td>GO:0000018</td>\n",
       "      <td>regulation of DNA recombination</td>\n",
       "      <td>10</td>\n",
       "      <td>10</td>\n",
       "      <td>0.546393</td>\n",
       "      <td>37.31</td>\n",
       "      <td>0.202802</td>\n",
       "      <td>1.000000</td>\n",
       "      <td>0.019023</td>\n",
       "      <td>23.883692</td>\n",
       "      <td>0.079648</td>\n",
       "      <td>4.23</td>\n",
       "      <td>6.188005e-04</td>\n",
       "      <td>0.029473</td>\n",
       "      <td>26.616939</td>\n",
       "      <td>-0.110729</td>\n",
       "      <td>84.29</td>\n",
       "      <td>0.001571</td>\n",
       "      <td>0.295796</td>\n",
       "    </tr>\n",
       "    <tr>\n",
       "      <th>1</th>\n",
       "      <td>GO:0000027</td>\n",
       "      <td>ribosomal large subunit assembly</td>\n",
       "      <td>18</td>\n",
       "      <td>18</td>\n",
       "      <td>0.514729</td>\n",
       "      <td>10.66</td>\n",
       "      <td>0.048954</td>\n",
       "      <td>1.000000</td>\n",
       "      <td>0.018263</td>\n",
       "      <td>24.572996</td>\n",
       "      <td>0.074321</td>\n",
       "      <td>0.41</td>\n",
       "      <td>7.976415e-04</td>\n",
       "      <td>0.028295</td>\n",
       "      <td>29.491808</td>\n",
       "      <td>-0.095942</td>\n",
       "      <td>93.25</td>\n",
       "      <td>0.003477</td>\n",
       "      <td>0.081089</td>\n",
       "    </tr>\n",
       "    <tr>\n",
       "      <th>2</th>\n",
       "      <td>GO:0000028</td>\n",
       "      <td>ribosomal small subunit assembly</td>\n",
       "      <td>13</td>\n",
       "      <td>13</td>\n",
       "      <td>0.473093</td>\n",
       "      <td>26.75</td>\n",
       "      <td>0.135192</td>\n",
       "      <td>1.000000</td>\n",
       "      <td>0.006575</td>\n",
       "      <td>27.078080</td>\n",
       "      <td>0.024283</td>\n",
       "      <td>0.57</td>\n",
       "      <td>1.804968e-03</td>\n",
       "      <td>0.010187</td>\n",
       "      <td>30.747066</td>\n",
       "      <td>-0.033133</td>\n",
       "      <td>93.04</td>\n",
       "      <td>0.004688</td>\n",
       "      <td>0.169005</td>\n",
       "    </tr>\n",
       "    <tr>\n",
       "      <th>3</th>\n",
       "      <td>GO:0000041</td>\n",
       "      <td>transition metal ion transport</td>\n",
       "      <td>30</td>\n",
       "      <td>22</td>\n",
       "      <td>0.819520</td>\n",
       "      <td>70.35</td>\n",
       "      <td>0.527975</td>\n",
       "      <td>0.733333</td>\n",
       "      <td>0.045938</td>\n",
       "      <td>10.722788</td>\n",
       "      <td>0.428414</td>\n",
       "      <td>75.57</td>\n",
       "      <td>4.263056e-08</td>\n",
       "      <td>0.071173</td>\n",
       "      <td>27.349412</td>\n",
       "      <td>-0.260235</td>\n",
       "      <td>63.45</td>\n",
       "      <td>0.001954</td>\n",
       "      <td>1.337620</td>\n",
       "    </tr>\n",
       "    <tr>\n",
       "      <th>4</th>\n",
       "      <td>GO:0000045</td>\n",
       "      <td>autophagosome assembly</td>\n",
       "      <td>23</td>\n",
       "      <td>22</td>\n",
       "      <td>0.277683</td>\n",
       "      <td>1.96</td>\n",
       "      <td>0.008597</td>\n",
       "      <td>0.956522</td>\n",
       "      <td>0.023087</td>\n",
       "      <td>36.927176</td>\n",
       "      <td>0.062519</td>\n",
       "      <td>0.18</td>\n",
       "      <td>1.492262e-02</td>\n",
       "      <td>0.035769</td>\n",
       "      <td>47.776697</td>\n",
       "      <td>-0.074867</td>\n",
       "      <td>94.74</td>\n",
       "      <td>0.051648</td>\n",
       "      <td>0.032846</td>\n",
       "    </tr>\n",
       "  </tbody>\n",
       "</table>\n",
       "</div>"
      ],
      "text/plain": [
       "        go_id                           go_name  num_genes  num_seq   adj_rsq  \\\n",
       "0  GO:0000018   regulation of DNA recombination         10       10  0.546393   \n",
       "1  GO:0000027  ribosomal large subunit assembly         18       18  0.514729   \n",
       "2  GO:0000028  ribosomal small subunit assembly         13       13  0.473093   \n",
       "3  GO:0000041    transition metal ion transport         30       22  0.819520   \n",
       "4  GO:0000045            autophagosome assembly         23       22  0.277683   \n",
       "\n",
       "   rsq_pile  rsq_nlpval  frac_seq  log_day_error  log_day_error_percent  \\\n",
       "0     37.31    0.202802  1.000000       0.019023              23.883692   \n",
       "1     10.66    0.048954  1.000000       0.018263              24.572996   \n",
       "2     26.75    0.135192  1.000000       0.006575              27.078080   \n",
       "3     70.35    0.527975  0.733333       0.045938              10.722788   \n",
       "4      1.96    0.008597  0.956522       0.023087              36.927176   \n",
       "\n",
       "   log_day_est  log_day_est_pile  log_day_pval  mianserin_error  \\\n",
       "0     0.079648              4.23  6.188005e-04         0.029473   \n",
       "1     0.074321              0.41  7.976415e-04         0.028295   \n",
       "2     0.024283              0.57  1.804968e-03         0.010187   \n",
       "3     0.428414             75.57  4.263056e-08         0.071173   \n",
       "4     0.062519              0.18  1.492262e-02         0.035769   \n",
       "\n",
       "   mianserin_error_percent  mianserin_est  mianserin_est_pile  mianserin_pval  \\\n",
       "0                26.616939      -0.110729               84.29        0.001571   \n",
       "1                29.491808      -0.095942               93.25        0.003477   \n",
       "2                30.747066      -0.033133               93.04        0.004688   \n",
       "3                27.349412      -0.260235               63.45        0.001954   \n",
       "4                47.776697      -0.074867               94.74        0.051648   \n",
       "\n",
       "      score  \n",
       "0  0.295796  \n",
       "1  0.081089  \n",
       "2  0.169005  \n",
       "3  1.337620  \n",
       "4  0.032846  "
      ]
     },
     "execution_count": 15,
     "metadata": {},
     "output_type": "execute_result"
    }
   ],
   "source": [
    "info.head()"
   ]
  },
  {
   "cell_type": "markdown",
   "metadata": {},
   "source": [
    "## Distance metric\n",
    "\n",
    "We want to know how similar two GO terms are based on the genes that are annotated with that GO term. For simplicity, we will use the well established Jaccard metric."
   ]
  },
  {
   "cell_type": "code",
   "execution_count": 16,
   "metadata": {
    "collapsed": true
   },
   "outputs": [],
   "source": [
    "def jaccard(term_A, term_B):\n",
    "    \"\"\"Compute the Jaccard index of two GO terms.\"\"\"\n",
    "    return len(annots[term_A] & annots[term_B]) / len(annots[term_A] | annots[term_B])"
   ]
  },
  {
   "cell_type": "markdown",
   "metadata": {},
   "source": [
    "---"
   ]
  },
  {
   "cell_type": "markdown",
   "metadata": {},
   "source": [
    "## Create edges for Cytoscape\n",
    "\n",
    "For the visualization we will create, we will have the following representation:\n",
    "\n",
    "Nodes:\n",
    "1. Nodes represent individual GO terms\n",
    "2. Node size represents the number of gene annotations\n",
    "3. Node transparency is inversely correlated with drift model score (darker nodes score higher)\n",
    "\n",
    "Edges:\n",
    "1. Edge darkness represents Jaccard value of genes between the two nodes\n",
    "2. Edge type represents GO relationship type (is_a, part_of)\n",
    "3. Edge direction reflects the direction in the Gene Ontology\n",
    "\n",
    "To limit the complexity of the resulting visualization, we will limit the number of nodes as follows:\n",
    "1. Nodes must have 10 to 500 sequenced genes (original GO term criteria)\n",
    "2. Nodes must be in the top 10% of scoring nodes\n",
    "3. Nodes must be within two edges of a top scoring node"
   ]
  },
  {
   "cell_type": "markdown",
   "metadata": {},
   "source": [
    "### Generate all edges"
   ]
  },
  {
   "cell_type": "code",
   "execution_count": 17,
   "metadata": {
    "collapsed": true
   },
   "outputs": [],
   "source": [
    "tested = set(info[\"go_id\"])\n",
    "\n",
    "edges = []\n",
    "for parent in tested:\n",
    "    kids = children[parent]\n",
    "    \n",
    "    for edge in ['is_a', 'part_of']:\n",
    "        for child in kids[edge]:\n",
    "            if child in tested:\n",
    "                weight = jaccard(parent, child)\n",
    "                \n",
    "                key = \"{}_{}_{}\".format(child, edge, parent)                \n",
    "                \n",
    "                edges.append((key, child, edge, parent, weight))\n",
    "                \n",
    "cols = ['edge_key', 'source_node', 'edge_type', 'target_node', 'geneset_similarity']\n",
    "edges = pd.DataFrame(edges, columns = cols)"
   ]
  },
  {
   "cell_type": "code",
   "execution_count": 18,
   "metadata": {
    "collapsed": false
   },
   "outputs": [
    {
     "data": {
      "text/plain": [
       "(2612, 5)"
      ]
     },
     "execution_count": 18,
     "metadata": {},
     "output_type": "execute_result"
    }
   ],
   "source": [
    "edges.shape"
   ]
  },
  {
   "cell_type": "code",
   "execution_count": 19,
   "metadata": {
    "collapsed": false
   },
   "outputs": [
    {
     "data": {
      "text/html": [
       "<div>\n",
       "<table border=\"1\" class=\"dataframe\">\n",
       "  <thead>\n",
       "    <tr style=\"text-align: right;\">\n",
       "      <th></th>\n",
       "      <th>edge_key</th>\n",
       "      <th>source_node</th>\n",
       "      <th>edge_type</th>\n",
       "      <th>target_node</th>\n",
       "      <th>geneset_similarity</th>\n",
       "    </tr>\n",
       "  </thead>\n",
       "  <tbody>\n",
       "    <tr>\n",
       "      <th>0</th>\n",
       "      <td>GO:0018107_is_a_GO:0006468</td>\n",
       "      <td>GO:0018107</td>\n",
       "      <td>is_a</td>\n",
       "      <td>GO:0006468</td>\n",
       "      <td>0.027897</td>\n",
       "    </tr>\n",
       "    <tr>\n",
       "      <th>1</th>\n",
       "      <td>GO:0023014_is_a_GO:0006468</td>\n",
       "      <td>GO:0023014</td>\n",
       "      <td>is_a</td>\n",
       "      <td>GO:0006468</td>\n",
       "      <td>0.122318</td>\n",
       "    </tr>\n",
       "    <tr>\n",
       "      <th>2</th>\n",
       "      <td>GO:0018108_is_a_GO:0006468</td>\n",
       "      <td>GO:0018108</td>\n",
       "      <td>is_a</td>\n",
       "      <td>GO:0006468</td>\n",
       "      <td>0.197425</td>\n",
       "    </tr>\n",
       "    <tr>\n",
       "      <th>3</th>\n",
       "      <td>GO:0046777_is_a_GO:0006468</td>\n",
       "      <td>GO:0046777</td>\n",
       "      <td>is_a</td>\n",
       "      <td>GO:0006468</td>\n",
       "      <td>0.133047</td>\n",
       "    </tr>\n",
       "    <tr>\n",
       "      <th>4</th>\n",
       "      <td>GO:0018105_is_a_GO:0006468</td>\n",
       "      <td>GO:0018105</td>\n",
       "      <td>is_a</td>\n",
       "      <td>GO:0006468</td>\n",
       "      <td>0.276824</td>\n",
       "    </tr>\n",
       "  </tbody>\n",
       "</table>\n",
       "</div>"
      ],
      "text/plain": [
       "                     edge_key source_node edge_type target_node  \\\n",
       "0  GO:0018107_is_a_GO:0006468  GO:0018107      is_a  GO:0006468   \n",
       "1  GO:0023014_is_a_GO:0006468  GO:0023014      is_a  GO:0006468   \n",
       "2  GO:0018108_is_a_GO:0006468  GO:0018108      is_a  GO:0006468   \n",
       "3  GO:0046777_is_a_GO:0006468  GO:0046777      is_a  GO:0006468   \n",
       "4  GO:0018105_is_a_GO:0006468  GO:0018105      is_a  GO:0006468   \n",
       "\n",
       "   geneset_similarity  \n",
       "0            0.027897  \n",
       "1            0.122318  \n",
       "2            0.197425  \n",
       "3            0.133047  \n",
       "4            0.276824  "
      ]
     },
     "execution_count": 19,
     "metadata": {},
     "output_type": "execute_result"
    }
   ],
   "source": [
    "edges.head()"
   ]
  },
  {
   "cell_type": "code",
   "execution_count": 20,
   "metadata": {
    "collapsed": false
   },
   "outputs": [
    {
     "data": {
      "text/plain": [
       "is_a       2287\n",
       "part_of     325\n",
       "Name: edge_type, dtype: int64"
      ]
     },
     "execution_count": 20,
     "metadata": {},
     "output_type": "execute_result"
    }
   ],
   "source": [
    "edges[\"edge_type\"].value_counts()"
   ]
  },
  {
   "cell_type": "markdown",
   "metadata": {},
   "source": [
    "### Filter edges"
   ]
  },
  {
   "cell_type": "code",
   "execution_count": 21,
   "metadata": {
    "collapsed": false
   },
   "outputs": [],
   "source": [
    "# get the top N percent of GO terms by score\n",
    "\n",
    "fraction = 0.15\n",
    "\n",
    "loc = int(fraction * len(info))\n",
    "top = info.sort_values(\"score\", ascending = False)\n",
    "\n",
    "top_nodes = set(top.iloc[:loc][\"go_id\"])"
   ]
  },
  {
   "cell_type": "code",
   "execution_count": 22,
   "metadata": {
    "collapsed": false
   },
   "outputs": [
    {
     "data": {
      "text/plain": [
       "267"
      ]
     },
     "execution_count": 22,
     "metadata": {},
     "output_type": "execute_result"
    }
   ],
   "source": [
    "len(top_nodes)"
   ]
  },
  {
   "cell_type": "code",
   "execution_count": 23,
   "metadata": {
    "collapsed": true
   },
   "outputs": [],
   "source": [
    "def dfs(cur_node, dist):\n",
    "    \"\"\"Return a set of nodes within two edges of the starting node.\"\"\"\n",
    "    \n",
    "    if dist >= 1:\n",
    "        return children[cur_node][\"is_a\"] | children[cur_node][\"part_of\"]\n",
    "    \n",
    "    return union(\n",
    "        dfs(child, dist+1)\n",
    "        for edge_type in [\"is_a\", \"part_of\"]\n",
    "            for child in children[cur_node][edge_type]\n",
    "    )"
   ]
  },
  {
   "cell_type": "code",
   "execution_count": 24,
   "metadata": {
    "collapsed": true
   },
   "outputs": [],
   "source": [
    "neighbours = union(dfs(node, 0) for node in top_nodes)"
   ]
  },
  {
   "cell_type": "code",
   "execution_count": 25,
   "metadata": {
    "collapsed": false
   },
   "outputs": [
    {
     "data": {
      "text/plain": [
       "4262"
      ]
     },
     "execution_count": 25,
     "metadata": {},
     "output_type": "execute_result"
    }
   ],
   "source": [
    "len(neighbours)"
   ]
  },
  {
   "cell_type": "code",
   "execution_count": 26,
   "metadata": {
    "collapsed": true
   },
   "outputs": [],
   "source": [
    "all_nodes = (neighbours | top_nodes) & tested"
   ]
  },
  {
   "cell_type": "code",
   "execution_count": 27,
   "metadata": {
    "collapsed": false
   },
   "outputs": [
    {
     "data": {
      "text/plain": [
       "329"
      ]
     },
     "execution_count": 27,
     "metadata": {},
     "output_type": "execute_result"
    }
   ],
   "source": [
    "len(all_nodes)"
   ]
  },
  {
   "cell_type": "markdown",
   "metadata": {},
   "source": [
    "### Filter edges and write to file"
   ]
  },
  {
   "cell_type": "code",
   "execution_count": 28,
   "metadata": {
    "collapsed": true
   },
   "outputs": [],
   "source": [
    "sub_edges = edges.query(\"source_node in @all_nodes & target_node in @all_nodes\")"
   ]
  },
  {
   "cell_type": "code",
   "execution_count": 29,
   "metadata": {
    "collapsed": false
   },
   "outputs": [
    {
     "data": {
      "text/plain": [
       "(221, 5)"
      ]
     },
     "execution_count": 29,
     "metadata": {},
     "output_type": "execute_result"
    }
   ],
   "source": [
    "sub_edges.shape"
   ]
  },
  {
   "cell_type": "code",
   "execution_count": 30,
   "metadata": {
    "collapsed": false
   },
   "outputs": [],
   "source": [
    "sub_edges.to_csv(\"../../results/PMID26623667/cytoscape/edges.tsv\", sep = '\\t', index = False)"
   ]
  },
  {
   "cell_type": "markdown",
   "metadata": {
    "collapsed": true
   },
   "source": [
    "---"
   ]
  },
  {
   "cell_type": "markdown",
   "metadata": {},
   "source": [
    "## Create information about nodes for Cytoscape"
   ]
  },
  {
   "cell_type": "code",
   "execution_count": 31,
   "metadata": {
    "collapsed": true
   },
   "outputs": [],
   "source": [
    "nodes = info[[\"go_id\", \"go_name\", \"num_seq\", \"rsq_pile\", \"score\"]]\n",
    "\n",
    "sub_nodes = nodes.query(\"go_id in @all_nodes\")\n",
    "sub_nodes.to_csv(\"../../results/PMID26623667/cytoscape/nodes.tsv\", sep = '\\t', index = False)"
   ]
  }
 ],
 "metadata": {
  "kernelspec": {
   "display_name": "Python 3",
   "language": "python",
   "name": "python3"
  },
  "language_info": {
   "codemirror_mode": {
    "name": "ipython",
    "version": 3
   },
   "file_extension": ".py",
   "mimetype": "text/x-python",
   "name": "python",
   "nbconvert_exporter": "python",
   "pygments_lexer": "ipython3",
   "version": "3.4.3"
  }
 },
 "nbformat": 4,
 "nbformat_minor": 0
}
